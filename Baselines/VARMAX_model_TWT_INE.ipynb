{
 "cells": [
  {
   "cell_type": "markdown",
   "id": "dfa735d1",
   "metadata": {},
   "source": [
    "### Import required libraries"
   ]
  },
  {
   "cell_type": "code",
   "execution_count": 1,
   "id": "d2421df0",
   "metadata": {},
   "outputs": [],
   "source": [
    "import pandas as pd\n",
    "import numpy as np\n",
    "import os\n",
    "\n",
    "import datetime\n",
    "from datetime import date, timedelta\n",
    "\n",
    "from tqdm.notebook import tqdm\n",
    "\n",
    "from statsmodels.tsa.vector_ar.vecm import coint_johansen\n",
    "from statsmodels.tsa.stattools import grangercausalitytests\n",
    "from statsmodels.tsa.api import VARMAX\n",
    "from statsmodels.tsa.stattools import adfuller\n",
    "\n",
    "\n",
    "from sklearn.preprocessing import MinMaxScaler\n",
    "from sklearn.metrics import mean_squared_error, mean_absolute_error\n",
    "\n",
    "\n",
    "import matplotlib.pyplot as plt\n",
    "%matplotlib inline\n",
    "\n",
    "e_date = datetime.datetime.strptime('2020-06-20', '%Y-%m-%d')\n",
    "i_date = datetime.datetime.strptime('2020-04-01', '%Y-%m-%d')\n",
    "\n",
    "data_path = os.path.join('..','OD')"
   ]
  },
  {
   "cell_type": "code",
   "execution_count": 2,
   "id": "f50156b9",
   "metadata": {},
   "outputs": [],
   "source": [
    "delta = e_date - i_date\n",
    "\n",
    "target_days = []\n",
    "for i in range(delta.days + 1):\n",
    "    day = i_date + timedelta(days=i)\n",
    "    target_days.append(day)\n",
    "\n",
    "def read_OD_fn(source_type):\n",
    "    ods = {}\n",
    "    for date in tqdm(target_days):\n",
    "        od_date= pd.read_csv(os.path.join(data_path, 'date_{}_OD_{}.csv'.format(source_type,date.strftime('%Y-%m-%d'))), \n",
    "                            index_col=0)\n",
    "        ods[date] = od_date\n",
    "    return ods"
   ]
  },
  {
   "cell_type": "code",
   "execution_count": 3,
   "id": "7bdd87ea",
   "metadata": {},
   "outputs": [
    {
     "data": {
      "application/vnd.jupyter.widget-view+json": {
       "model_id": "8e216c12767944f7b00e9d633d9cb261",
       "version_major": 2,
       "version_minor": 0
      },
      "text/plain": [
       "  0%|          | 0/81 [00:00<?, ?it/s]"
      ]
     },
     "metadata": {},
     "output_type": "display_data"
    },
    {
     "data": {
      "application/vnd.jupyter.widget-view+json": {
       "model_id": "c2cb926d02c54b4288a158fe080b972d",
       "version_major": 2,
       "version_minor": 0
      },
      "text/plain": [
       "  0%|          | 0/81 [00:00<?, ?it/s]"
      ]
     },
     "metadata": {},
     "output_type": "display_data"
    }
   ],
   "source": [
    "ine_ods = read_OD_fn('INE')\n",
    "twt_ods = read_OD_fn('TWT')"
   ]
  },
  {
   "cell_type": "markdown",
   "id": "e9597957",
   "metadata": {},
   "source": [
    "# Serializar los datos"
   ]
  },
  {
   "cell_type": "code",
   "execution_count": 4,
   "id": "81237684",
   "metadata": {},
   "outputs": [
    {
     "data": {
      "application/vnd.jupyter.widget-view+json": {
       "model_id": "114d8ea5f90642dd94dcf01d925da7a6",
       "version_major": 2,
       "version_minor": 0
      },
      "text/plain": [
       "  0%|          | 0/81 [00:00<?, ?it/s]"
      ]
     },
     "metadata": {},
     "output_type": "display_data"
    },
    {
     "data": {
      "application/vnd.jupyter.widget-view+json": {
       "model_id": "219f91cc561449a0910f378d8d7395f4",
       "version_major": 2,
       "version_minor": 0
      },
      "text/plain": [
       "  0%|          | 0/81 [00:00<?, ?it/s]"
      ]
     },
     "metadata": {},
     "output_type": "display_data"
    }
   ],
   "source": [
    "lista_twt = []\n",
    "\n",
    "for date in tqdm(target_days):\n",
    "    lista_twt.append(twt_ods[date].loc['total','total'])\n",
    "    \n",
    "del twt_ods\n",
    "    \n",
    "lista_ine = []\n",
    "\n",
    "for date in tqdm(target_days):\n",
    "    lista_ine.append(ine_ods[date].loc['total','total'])\n",
    "    \n",
    "del ine_ods"
   ]
  },
  {
   "cell_type": "code",
   "execution_count": 5,
   "id": "bc46e167",
   "metadata": {},
   "outputs": [
    {
     "data": {
      "text/html": [
       "<div>\n",
       "<style scoped>\n",
       "    .dataframe tbody tr th:only-of-type {\n",
       "        vertical-align: middle;\n",
       "    }\n",
       "\n",
       "    .dataframe tbody tr th {\n",
       "        vertical-align: top;\n",
       "    }\n",
       "\n",
       "    .dataframe thead th {\n",
       "        text-align: right;\n",
       "    }\n",
       "</style>\n",
       "<table border=\"1\" class=\"dataframe\">\n",
       "  <thead>\n",
       "    <tr style=\"text-align: right;\">\n",
       "      <th></th>\n",
       "      <th>Viajes</th>\n",
       "    </tr>\n",
       "  </thead>\n",
       "  <tbody>\n",
       "    <tr>\n",
       "      <th>2020-04-01</th>\n",
       "      <td>2375</td>\n",
       "    </tr>\n",
       "    <tr>\n",
       "      <th>2020-04-02</th>\n",
       "      <td>2450</td>\n",
       "    </tr>\n",
       "    <tr>\n",
       "      <th>2020-04-03</th>\n",
       "      <td>2503</td>\n",
       "    </tr>\n",
       "    <tr>\n",
       "      <th>2020-04-04</th>\n",
       "      <td>554</td>\n",
       "    </tr>\n",
       "    <tr>\n",
       "      <th>2020-04-05</th>\n",
       "      <td>1319</td>\n",
       "    </tr>\n",
       "  </tbody>\n",
       "</table>\n",
       "</div>"
      ],
      "text/plain": [
       "            Viajes\n",
       "2020-04-01    2375\n",
       "2020-04-02    2450\n",
       "2020-04-03    2503\n",
       "2020-04-04     554\n",
       "2020-04-05    1319"
      ]
     },
     "execution_count": 5,
     "metadata": {},
     "output_type": "execute_result"
    }
   ],
   "source": [
    "df_twt = pd.DataFrame (lista_twt, columns = ['Viajes'], index= target_days)\n",
    "df_ine = pd.DataFrame (lista_ine, columns = ['Viajes'], index= target_days)\n",
    "\n",
    "df_twt.head()"
   ]
  },
  {
   "cell_type": "markdown",
   "id": "5b698086",
   "metadata": {},
   "source": [
    "# Visualización de datos"
   ]
  },
  {
   "cell_type": "code",
   "execution_count": 6,
   "id": "a5583068",
   "metadata": {},
   "outputs": [
    {
     "name": "stdout",
     "output_type": "stream",
     "text": [
      "2020-04-01 00:00:00\n",
      "2020-06-20 00:00:00\n",
      "81\n",
      "81\n"
     ]
    },
    {
     "name": "stderr",
     "output_type": "stream",
     "text": [
      "C:\\Users\\ucam\\AppData\\Local\\Temp/ipykernel_13004/2613588803.py:4: FutureWarning: Indexing a DataFrame with a datetimelike index using a single string to slice the rows, like `frame[string]`, is deprecated and will be removed in a future version. Use `frame.loc[string]` instead.\n",
      "  print(len(df_twt['2020']))\n",
      "C:\\Users\\ucam\\AppData\\Local\\Temp/ipykernel_13004/2613588803.py:6: FutureWarning: Indexing a DataFrame with a datetimelike index using a single string to slice the rows, like `frame[string]`, is deprecated and will be removed in a future version. Use `frame.loc[string]` instead.\n",
      "  print(len(df_ine['2020']))\n"
     ]
    }
   ],
   "source": [
    "print(df_twt.index.min())\n",
    "print(df_ine.index.max())\n",
    "\n",
    "print(len(df_twt['2020']))\n",
    "\n",
    "print(len(df_ine['2020']))"
   ]
  },
  {
   "cell_type": "code",
   "execution_count": 7,
   "id": "9cd0cb0e",
   "metadata": {},
   "outputs": [
    {
     "data": {
      "text/html": [
       "<div>\n",
       "<style scoped>\n",
       "    .dataframe tbody tr th:only-of-type {\n",
       "        vertical-align: middle;\n",
       "    }\n",
       "\n",
       "    .dataframe tbody tr th {\n",
       "        vertical-align: top;\n",
       "    }\n",
       "\n",
       "    .dataframe thead th {\n",
       "        text-align: right;\n",
       "    }\n",
       "</style>\n",
       "<table border=\"1\" class=\"dataframe\">\n",
       "  <thead>\n",
       "    <tr style=\"text-align: right;\">\n",
       "      <th></th>\n",
       "      <th>Viajes</th>\n",
       "    </tr>\n",
       "  </thead>\n",
       "  <tbody>\n",
       "    <tr>\n",
       "      <th>count</th>\n",
       "      <td>81.000000</td>\n",
       "    </tr>\n",
       "    <tr>\n",
       "      <th>mean</th>\n",
       "      <td>2943.000000</td>\n",
       "    </tr>\n",
       "    <tr>\n",
       "      <th>std</th>\n",
       "      <td>887.069149</td>\n",
       "    </tr>\n",
       "    <tr>\n",
       "      <th>min</th>\n",
       "      <td>0.000000</td>\n",
       "    </tr>\n",
       "    <tr>\n",
       "      <th>25%</th>\n",
       "      <td>2363.000000</td>\n",
       "    </tr>\n",
       "    <tr>\n",
       "      <th>50%</th>\n",
       "      <td>2904.000000</td>\n",
       "    </tr>\n",
       "    <tr>\n",
       "      <th>75%</th>\n",
       "      <td>3629.000000</td>\n",
       "    </tr>\n",
       "    <tr>\n",
       "      <th>max</th>\n",
       "      <td>4738.000000</td>\n",
       "    </tr>\n",
       "  </tbody>\n",
       "</table>\n",
       "</div>"
      ],
      "text/plain": [
       "            Viajes\n",
       "count    81.000000\n",
       "mean   2943.000000\n",
       "std     887.069149\n",
       "min       0.000000\n",
       "25%    2363.000000\n",
       "50%    2904.000000\n",
       "75%    3629.000000\n",
       "max    4738.000000"
      ]
     },
     "execution_count": 7,
     "metadata": {},
     "output_type": "execute_result"
    }
   ],
   "source": [
    "df_twt.describe()"
   ]
  },
  {
   "cell_type": "code",
   "execution_count": 8,
   "id": "25632980",
   "metadata": {},
   "outputs": [
    {
     "data": {
      "text/html": [
       "<div>\n",
       "<style scoped>\n",
       "    .dataframe tbody tr th:only-of-type {\n",
       "        vertical-align: middle;\n",
       "    }\n",
       "\n",
       "    .dataframe tbody tr th {\n",
       "        vertical-align: top;\n",
       "    }\n",
       "\n",
       "    .dataframe thead th {\n",
       "        text-align: right;\n",
       "    }\n",
       "</style>\n",
       "<table border=\"1\" class=\"dataframe\">\n",
       "  <thead>\n",
       "    <tr style=\"text-align: right;\">\n",
       "      <th></th>\n",
       "      <th>Viajes</th>\n",
       "    </tr>\n",
       "  </thead>\n",
       "  <tbody>\n",
       "    <tr>\n",
       "      <th>count</th>\n",
       "      <td>8.100000e+01</td>\n",
       "    </tr>\n",
       "    <tr>\n",
       "      <th>mean</th>\n",
       "      <td>3.438222e+06</td>\n",
       "    </tr>\n",
       "    <tr>\n",
       "      <th>std</th>\n",
       "      <td>1.174931e+06</td>\n",
       "    </tr>\n",
       "    <tr>\n",
       "      <th>min</th>\n",
       "      <td>1.535886e+06</td>\n",
       "    </tr>\n",
       "    <tr>\n",
       "      <th>25%</th>\n",
       "      <td>2.488436e+06</td>\n",
       "    </tr>\n",
       "    <tr>\n",
       "      <th>50%</th>\n",
       "      <td>3.396402e+06</td>\n",
       "    </tr>\n",
       "    <tr>\n",
       "      <th>75%</th>\n",
       "      <td>4.445190e+06</td>\n",
       "    </tr>\n",
       "    <tr>\n",
       "      <th>max</th>\n",
       "      <td>5.519725e+06</td>\n",
       "    </tr>\n",
       "  </tbody>\n",
       "</table>\n",
       "</div>"
      ],
      "text/plain": [
       "             Viajes\n",
       "count  8.100000e+01\n",
       "mean   3.438222e+06\n",
       "std    1.174931e+06\n",
       "min    1.535886e+06\n",
       "25%    2.488436e+06\n",
       "50%    3.396402e+06\n",
       "75%    4.445190e+06\n",
       "max    5.519725e+06"
      ]
     },
     "execution_count": 8,
     "metadata": {},
     "output_type": "execute_result"
    }
   ],
   "source": [
    "df_ine.describe()"
   ]
  },
  {
   "cell_type": "code",
   "execution_count": 9,
   "id": "1d2a47f0",
   "metadata": {},
   "outputs": [
    {
     "data": {
      "text/html": [
       "<div>\n",
       "<style scoped>\n",
       "    .dataframe tbody tr th:only-of-type {\n",
       "        vertical-align: middle;\n",
       "    }\n",
       "\n",
       "    .dataframe tbody tr th {\n",
       "        vertical-align: top;\n",
       "    }\n",
       "\n",
       "    .dataframe thead th {\n",
       "        text-align: right;\n",
       "    }\n",
       "</style>\n",
       "<table border=\"1\" class=\"dataframe\">\n",
       "  <thead>\n",
       "    <tr style=\"text-align: right;\">\n",
       "      <th></th>\n",
       "      <th>Viajes</th>\n",
       "    </tr>\n",
       "  </thead>\n",
       "  <tbody>\n",
       "    <tr>\n",
       "      <th>2020-04-30</th>\n",
       "      <td>2157.500000</td>\n",
       "    </tr>\n",
       "    <tr>\n",
       "      <th>2020-05-31</th>\n",
       "      <td>3128.193548</td>\n",
       "    </tr>\n",
       "    <tr>\n",
       "      <th>2020-06-30</th>\n",
       "      <td>3834.200000</td>\n",
       "    </tr>\n",
       "  </tbody>\n",
       "</table>\n",
       "</div>"
      ],
      "text/plain": [
       "                 Viajes\n",
       "2020-04-30  2157.500000\n",
       "2020-05-31  3128.193548\n",
       "2020-06-30  3834.200000"
      ]
     },
     "execution_count": 9,
     "metadata": {},
     "output_type": "execute_result"
    }
   ],
   "source": [
    "meses = df_twt.resample('M').mean()\n",
    "meses"
   ]
  },
  {
   "cell_type": "code",
   "execution_count": 10,
   "id": "156ccaad",
   "metadata": {},
   "outputs": [
    {
     "data": {
      "text/html": [
       "<div>\n",
       "<style scoped>\n",
       "    .dataframe tbody tr th:only-of-type {\n",
       "        vertical-align: middle;\n",
       "    }\n",
       "\n",
       "    .dataframe tbody tr th {\n",
       "        vertical-align: top;\n",
       "    }\n",
       "\n",
       "    .dataframe thead th {\n",
       "        text-align: right;\n",
       "    }\n",
       "</style>\n",
       "<table border=\"1\" class=\"dataframe\">\n",
       "  <thead>\n",
       "    <tr style=\"text-align: right;\">\n",
       "      <th></th>\n",
       "      <th>Viajes</th>\n",
       "    </tr>\n",
       "  </thead>\n",
       "  <tbody>\n",
       "    <tr>\n",
       "      <th>2020-04-30</th>\n",
       "      <td>2.356878e+06</td>\n",
       "    </tr>\n",
       "    <tr>\n",
       "      <th>2020-05-31</th>\n",
       "      <td>3.590722e+06</td>\n",
       "    </tr>\n",
       "    <tr>\n",
       "      <th>2020-06-30</th>\n",
       "      <td>4.823862e+06</td>\n",
       "    </tr>\n",
       "  </tbody>\n",
       "</table>\n",
       "</div>"
      ],
      "text/plain": [
       "                  Viajes\n",
       "2020-04-30  2.356878e+06\n",
       "2020-05-31  3.590722e+06\n",
       "2020-06-30  4.823862e+06"
      ]
     },
     "execution_count": 10,
     "metadata": {},
     "output_type": "execute_result"
    }
   ],
   "source": [
    "meses = df_ine.resample('M').mean()\n",
    "meses"
   ]
  },
  {
   "cell_type": "code",
   "execution_count": 11,
   "id": "fe507613",
   "metadata": {},
   "outputs": [
    {
     "data": {
      "text/plain": [
       "[<matplotlib.lines.Line2D at 0x191627729d0>]"
      ]
     },
     "execution_count": 11,
     "metadata": {},
     "output_type": "execute_result"
    },
    {
     "data": {
      "image/png": "[encoded data removed]",
      "text/plain": [
       "<Figure size 432x288 with 1 Axes>"
      ]
     },
     "metadata": {
      "needs_background": "light"
     },
     "output_type": "display_data"
    }
   ],
   "source": [
    "abril = df_twt['2020-04-01':'2020-04-30']\n",
    "plt.plot(abril.values)\n",
    "mayo = df_twt['2020-05-01':'2020-05-31']\n",
    "plt.plot(mayo.values)\n",
    "junio = df_twt['2020-06-01':'2020-06-20']\n",
    "plt.plot(junio.values)"
   ]
  },
  {
   "cell_type": "code",
   "execution_count": 12,
   "id": "efd1c127",
   "metadata": {},
   "outputs": [
    {
     "data": {
      "text/plain": [
       "[<matplotlib.lines.Line2D at 0x19108752d30>]"
      ]
     },
     "execution_count": 12,
     "metadata": {},
     "output_type": "execute_result"
    },
    {
     "data": {
      "image/png": "[encoded data removed]",
      "text/plain": [
       "<Figure size 432x288 with 1 Axes>"
      ]
     },
     "metadata": {
      "needs_background": "light"
     },
     "output_type": "display_data"
    }
   ],
   "source": [
    "abril = df_ine['2020-04-01':'2020-04-30']\n",
    "plt.plot(abril.values)\n",
    "mayo = df_ine['2020-05-01':'2020-05-31']\n",
    "plt.plot(mayo.values)\n",
    "junio = df_ine['2020-06-01':'2020-06-20']\n",
    "plt.plot(junio.values)"
   ]
  },
  {
   "cell_type": "markdown",
   "id": "ab9d3392",
   "metadata": {},
   "source": [
    "# Preprocesado de datos"
   ]
  },
  {
   "cell_type": "code",
   "execution_count": 13,
   "id": "b66a84f9",
   "metadata": {},
   "outputs": [],
   "source": [
    "dataset_twt = df_twt.values\n",
    "dataset_twt = dataset_twt.astype('float32')\n",
    "\n",
    "dataset_ine = df_ine.values\n",
    "dataset_ine = dataset_ine.astype('float32')"
   ]
  },
  {
   "cell_type": "code",
   "execution_count": 14,
   "id": "82cc2fb9",
   "metadata": {},
   "outputs": [
    {
     "data": {
      "text/html": [
       "<div>\n",
       "<style scoped>\n",
       "    .dataframe tbody tr th:only-of-type {\n",
       "        vertical-align: middle;\n",
       "    }\n",
       "\n",
       "    .dataframe tbody tr th {\n",
       "        vertical-align: top;\n",
       "    }\n",
       "\n",
       "    .dataframe thead th {\n",
       "        text-align: right;\n",
       "    }\n",
       "</style>\n",
       "<table border=\"1\" class=\"dataframe\">\n",
       "  <thead>\n",
       "    <tr style=\"text-align: right;\">\n",
       "      <th></th>\n",
       "      <th>Viajes</th>\n",
       "    </tr>\n",
       "  </thead>\n",
       "  <tbody>\n",
       "    <tr>\n",
       "      <th>2020-04-01</th>\n",
       "      <td>2375</td>\n",
       "    </tr>\n",
       "    <tr>\n",
       "      <th>2020-04-02</th>\n",
       "      <td>2450</td>\n",
       "    </tr>\n",
       "    <tr>\n",
       "      <th>2020-04-03</th>\n",
       "      <td>2503</td>\n",
       "    </tr>\n",
       "    <tr>\n",
       "      <th>2020-04-04</th>\n",
       "      <td>554</td>\n",
       "    </tr>\n",
       "    <tr>\n",
       "      <th>2020-04-05</th>\n",
       "      <td>1319</td>\n",
       "    </tr>\n",
       "  </tbody>\n",
       "</table>\n",
       "</div>"
      ],
      "text/plain": [
       "            Viajes\n",
       "2020-04-01    2375\n",
       "2020-04-02    2450\n",
       "2020-04-03    2503\n",
       "2020-04-04     554\n",
       "2020-04-05    1319"
      ]
     },
     "execution_count": 14,
     "metadata": {},
     "output_type": "execute_result"
    }
   ],
   "source": [
    "df_twt.head()"
   ]
  },
  {
   "cell_type": "code",
   "execution_count": 15,
   "id": "240193e9",
   "metadata": {},
   "outputs": [
    {
     "data": {
      "text/html": [
       "<div>\n",
       "<style scoped>\n",
       "    .dataframe tbody tr th:only-of-type {\n",
       "        vertical-align: middle;\n",
       "    }\n",
       "\n",
       "    .dataframe tbody tr th {\n",
       "        vertical-align: top;\n",
       "    }\n",
       "\n",
       "    .dataframe thead th {\n",
       "        text-align: right;\n",
       "    }\n",
       "</style>\n",
       "<table border=\"1\" class=\"dataframe\">\n",
       "  <thead>\n",
       "    <tr style=\"text-align: right;\">\n",
       "      <th></th>\n",
       "      <th>Viajes</th>\n",
       "    </tr>\n",
       "  </thead>\n",
       "  <tbody>\n",
       "    <tr>\n",
       "      <th>2020-04-01</th>\n",
       "      <td>2213123</td>\n",
       "    </tr>\n",
       "    <tr>\n",
       "      <th>2020-04-02</th>\n",
       "      <td>2254121</td>\n",
       "    </tr>\n",
       "    <tr>\n",
       "      <th>2020-04-03</th>\n",
       "      <td>2520095</td>\n",
       "    </tr>\n",
       "    <tr>\n",
       "      <th>2020-04-04</th>\n",
       "      <td>1934554</td>\n",
       "    </tr>\n",
       "    <tr>\n",
       "      <th>2020-04-05</th>\n",
       "      <td>1593385</td>\n",
       "    </tr>\n",
       "  </tbody>\n",
       "</table>\n",
       "</div>"
      ],
      "text/plain": [
       "             Viajes\n",
       "2020-04-01  2213123\n",
       "2020-04-02  2254121\n",
       "2020-04-03  2520095\n",
       "2020-04-04  1934554\n",
       "2020-04-05  1593385"
      ]
     },
     "execution_count": 15,
     "metadata": {},
     "output_type": "execute_result"
    }
   ],
   "source": [
    "df_ine.head()"
   ]
  },
  {
   "cell_type": "code",
   "execution_count": 16,
   "id": "4afcedc9",
   "metadata": {},
   "outputs": [],
   "source": [
    "nobs=7"
   ]
  },
  {
   "cell_type": "markdown",
   "id": "047ccdf5",
   "metadata": {},
   "source": [
    "### Cointegration test"
   ]
  },
  {
   "cell_type": "code",
   "execution_count": 17,
   "id": "fe633f3d",
   "metadata": {},
   "outputs": [
    {
     "data": {
      "text/html": [
       "<div>\n",
       "<style scoped>\n",
       "    .dataframe tbody tr th:only-of-type {\n",
       "        vertical-align: middle;\n",
       "    }\n",
       "\n",
       "    .dataframe tbody tr th {\n",
       "        vertical-align: top;\n",
       "    }\n",
       "\n",
       "    .dataframe thead th {\n",
       "        text-align: right;\n",
       "    }\n",
       "</style>\n",
       "<table border=\"1\" class=\"dataframe\">\n",
       "  <thead>\n",
       "    <tr style=\"text-align: right;\">\n",
       "      <th></th>\n",
       "      <th>Viajes</th>\n",
       "      <th>ine_trips</th>\n",
       "    </tr>\n",
       "  </thead>\n",
       "  <tbody>\n",
       "    <tr>\n",
       "      <th>2020-04-01</th>\n",
       "      <td>2375</td>\n",
       "      <td>2213123</td>\n",
       "    </tr>\n",
       "    <tr>\n",
       "      <th>2020-04-02</th>\n",
       "      <td>2450</td>\n",
       "      <td>2254121</td>\n",
       "    </tr>\n",
       "    <tr>\n",
       "      <th>2020-04-03</th>\n",
       "      <td>2503</td>\n",
       "      <td>2520095</td>\n",
       "    </tr>\n",
       "    <tr>\n",
       "      <th>2020-04-04</th>\n",
       "      <td>554</td>\n",
       "      <td>1934554</td>\n",
       "    </tr>\n",
       "    <tr>\n",
       "      <th>2020-04-05</th>\n",
       "      <td>1319</td>\n",
       "      <td>1593385</td>\n",
       "    </tr>\n",
       "  </tbody>\n",
       "</table>\n",
       "</div>"
      ],
      "text/plain": [
       "            Viajes  ine_trips\n",
       "2020-04-01    2375    2213123\n",
       "2020-04-02    2450    2254121\n",
       "2020-04-03    2503    2520095\n",
       "2020-04-04     554    1934554\n",
       "2020-04-05    1319    1593385"
      ]
     },
     "execution_count": 17,
     "metadata": {},
     "output_type": "execute_result"
    }
   ],
   "source": [
    "trips_df = df_twt.copy()\n",
    "trips_df['ine_trips']= df_ine['Viajes']\n",
    "trips_df.head()"
   ]
  },
  {
   "cell_type": "code",
   "execution_count": 18,
   "id": "786f50ec",
   "metadata": {},
   "outputs": [],
   "source": [
    "def cointegration_test(df, alpha=0.05): \n",
    "    \"\"\"Perform Johanson's Cointegration Test and Report Summary\"\"\"\n",
    "    out = coint_johansen(df,-1,5)\n",
    "    d = {'0.90':0, '0.95':1, '0.99':2}\n",
    "    traces = out.lr1\n",
    "    cvts = out.cvt[:, d[str(1-alpha)]]\n",
    "    \n",
    "    def adjust(val, length= 6): \n",
    "        return str(val).ljust(length)\n",
    "\n",
    "    # Summary\n",
    "    print('Name   ::  Test Stat > C(95%)    =>   Signif  \\n', '--'*20)\n",
    "    for col, trace, cvt in zip(df.columns, traces, cvts):\n",
    "        print(adjust(col), ':: ', adjust(round(trace,2), 9), \">\", adjust(cvt, 8), ' =>  ' , trace > cvt)\n"
   ]
  },
  {
   "cell_type": "code",
   "execution_count": 19,
   "id": "83a63ba6",
   "metadata": {},
   "outputs": [
    {
     "name": "stdout",
     "output_type": "stream",
     "text": [
      "Name   ::  Test Stat > C(95%)    =>   Signif  \n",
      " ----------------------------------------\n",
      "Viajes ::  17.28     > 12.3212   =>   True\n",
      "ine_trips ::  0.65      > 4.1296    =>   False\n"
     ]
    }
   ],
   "source": [
    "cointegration_test(trips_df)"
   ]
  },
  {
   "cell_type": "markdown",
   "id": "6534d6fd",
   "metadata": {},
   "source": [
    "### Granger test"
   ]
  },
  {
   "cell_type": "code",
   "execution_count": 20,
   "id": "748528b3",
   "metadata": {},
   "outputs": [
    {
     "data": {
      "text/html": [
       "<div>\n",
       "<style scoped>\n",
       "    .dataframe tbody tr th:only-of-type {\n",
       "        vertical-align: middle;\n",
       "    }\n",
       "\n",
       "    .dataframe tbody tr th {\n",
       "        vertical-align: top;\n",
       "    }\n",
       "\n",
       "    .dataframe thead th {\n",
       "        text-align: right;\n",
       "    }\n",
       "</style>\n",
       "<table border=\"1\" class=\"dataframe\">\n",
       "  <thead>\n",
       "    <tr style=\"text-align: right;\">\n",
       "      <th></th>\n",
       "      <th>Viajes_x</th>\n",
       "      <th>ine_trips_x</th>\n",
       "    </tr>\n",
       "  </thead>\n",
       "  <tbody>\n",
       "    <tr>\n",
       "      <th>Viajes_y</th>\n",
       "      <td>1.0</td>\n",
       "      <td>0.0</td>\n",
       "    </tr>\n",
       "    <tr>\n",
       "      <th>ine_trips_y</th>\n",
       "      <td>0.0</td>\n",
       "      <td>1.0</td>\n",
       "    </tr>\n",
       "  </tbody>\n",
       "</table>\n",
       "</div>"
      ],
      "text/plain": [
       "             Viajes_x  ine_trips_x\n",
       "Viajes_y          1.0          0.0\n",
       "ine_trips_y       0.0          1.0"
      ]
     },
     "execution_count": 20,
     "metadata": {},
     "output_type": "execute_result"
    }
   ],
   "source": [
    "maxlag=12\n",
    "test = 'ssr_chi2test'\n",
    "def grangers_causation_matrix(data, variables, test='ssr_chi2test', verbose=False):    \n",
    "    \"\"\"Check Granger Causality of all possible combinations of the Time series.\n",
    "    The rows are the response variable, columns are predictors. The values in the table \n",
    "    are the P-Values. P-Values lesser than the significance level (0.05), implies \n",
    "    the Null Hypothesis that the coefficients of the corresponding past values is \n",
    "    zero, that is, the X does not cause Y can be rejected.\n",
    "\n",
    "    data      : pandas dataframe containing the time series variables\n",
    "    variables : list containing names of the time series variables.\n",
    "    \"\"\"\n",
    "    df = pd.DataFrame(np.zeros((len(variables), len(variables))), columns=variables, index=variables)\n",
    "    for c in df.columns:\n",
    "        for r in df.index:\n",
    "            test_result = grangercausalitytests(data[[r, c]], maxlag=maxlag, verbose=False)\n",
    "            p_values = [round(test_result[i+1][0][test][1],4) for i in range(maxlag)]\n",
    "            if verbose: print(f'Y = {r}, X = {c}, P Values = {p_values}')\n",
    "            min_p_value = np.min(p_values)\n",
    "            df.loc[r, c] = min_p_value\n",
    "    df.columns = [var + '_x' for var in variables]\n",
    "    df.index = [var + '_y' for var in variables]\n",
    "    return df\n",
    "\n",
    "grangers_causation_matrix(trips_df, variables = trips_df.columns)"
   ]
  },
  {
   "cell_type": "markdown",
   "id": "94db3b7f",
   "metadata": {},
   "source": [
    "### Check stationarity"
   ]
  },
  {
   "cell_type": "code",
   "execution_count": 21,
   "id": "c4852029",
   "metadata": {},
   "outputs": [],
   "source": [
    "def adfuller_test(series, signif=0.05, name='', verbose=False):\n",
    "    \"\"\"Perform ADFuller to test for Stationarity of given series and print report\"\"\"\n",
    "    r = adfuller(series, autolag='AIC')\n",
    "    output = {'test_statistic':round(r[0], 4), 'pvalue':round(r[1], 4), 'n_lags':round(r[2], 4), 'n_obs':r[3]}\n",
    "    p_value = output['pvalue'] \n",
    "    def adjust(val, length= 6): return str(val).ljust(length)\n",
    "\n",
    "    # Print Summary\n",
    "    print(f'    Augmented Dickey-Fuller Test on \"{name}\"', \"\\n   \", '-'*47)\n",
    "    print(f' Null Hypothesis: Data has unit root. Non-Stationary.')\n",
    "    print(f' Significance Level    = {signif}')\n",
    "    print(f' Test Statistic        = {output[\"test_statistic\"]}')\n",
    "    print(f' No. Lags Chosen       = {output[\"n_lags\"]}')\n",
    "\n",
    "    for key,val in r[4].items():\n",
    "        print(f' Critical value {adjust(key)} = {round(val, 3)}')\n",
    "\n",
    "    if p_value <= signif:\n",
    "        print(f\" => P-Value = {p_value}. Rejecting Null Hypothesis.\")\n",
    "        print(f\" => Series is Stationary.\")\n",
    "    else:\n",
    "        print(f\" => P-Value = {p_value}. Weak evidence to reject the Null Hypothesis.\")\n",
    "        print(f\" => Series is Non-Stationary.\")"
   ]
  },
  {
   "cell_type": "code",
   "execution_count": 22,
   "id": "fc58a66e",
   "metadata": {},
   "outputs": [
    {
     "name": "stdout",
     "output_type": "stream",
     "text": [
      "    Augmented Dickey-Fuller Test on \"\" \n",
      "    -----------------------------------------------\n",
      " Null Hypothesis: Data has unit root. Non-Stationary.\n",
      " Significance Level    = 0.05\n",
      " Test Statistic        = -1.3798\n",
      " No. Lags Chosen       = 4\n",
      " Critical value 1%     = -3.519\n",
      " Critical value 5%     = -2.9\n",
      " Critical value 10%    = -2.587\n",
      " => P-Value = 0.5919. Weak evidence to reject the Null Hypothesis.\n",
      " => Series is Non-Stationary.\n"
     ]
    }
   ],
   "source": [
    "adfuller_test(trips_df['Viajes'])"
   ]
  },
  {
   "cell_type": "code",
   "execution_count": 23,
   "id": "4d29562c",
   "metadata": {},
   "outputs": [
    {
     "name": "stdout",
     "output_type": "stream",
     "text": [
      "    Augmented Dickey-Fuller Test on \"\" \n",
      "    -----------------------------------------------\n",
      " Null Hypothesis: Data has unit root. Non-Stationary.\n",
      " Significance Level    = 0.05\n",
      " Test Statistic        = 0.6251\n",
      " No. Lags Chosen       = 6\n",
      " Critical value 1%     = -3.522\n",
      " Critical value 5%     = -2.901\n",
      " Critical value 10%    = -2.588\n",
      " => P-Value = 0.9882. Weak evidence to reject the Null Hypothesis.\n",
      " => Series is Non-Stationary.\n"
     ]
    }
   ],
   "source": [
    "adfuller_test(trips_df['ine_trips'])"
   ]
  },
  {
   "cell_type": "code",
   "execution_count": 24,
   "id": "fc536d2e",
   "metadata": {},
   "outputs": [
    {
     "name": "stdout",
     "output_type": "stream",
     "text": [
      "(74, 2)\n",
      "(7, 2)\n"
     ]
    }
   ],
   "source": [
    "df_train, df_test = trips_df[0:-7], trips_df[-7:]\n",
    "\n",
    "# Check size\n",
    "print(df_train.shape)  # (119, 8)\n",
    "print(df_test.shape) "
   ]
  },
  {
   "cell_type": "code",
   "execution_count": 25,
   "id": "b5c49461",
   "metadata": {},
   "outputs": [],
   "source": [
    "trips_df_differenced = df_train.diff().dropna()"
   ]
  },
  {
   "cell_type": "code",
   "execution_count": 26,
   "id": "3733c208",
   "metadata": {},
   "outputs": [
    {
     "name": "stdout",
     "output_type": "stream",
     "text": [
      "    Augmented Dickey-Fuller Test on \"\" \n",
      "    -----------------------------------------------\n",
      " Null Hypothesis: Data has unit root. Non-Stationary.\n",
      " Significance Level    = 0.05\n",
      " Test Statistic        = -4.0458\n",
      " No. Lags Chosen       = 12\n",
      " Critical value 1%     = -3.544\n",
      " Critical value 5%     = -2.911\n",
      " Critical value 10%    = -2.593\n",
      " => P-Value = 0.0012. Rejecting Null Hypothesis.\n",
      " => Series is Stationary.\n"
     ]
    }
   ],
   "source": [
    "adfuller_test(trips_df_differenced['Viajes'])"
   ]
  },
  {
   "cell_type": "code",
   "execution_count": 27,
   "id": "d02a467a",
   "metadata": {
    "scrolled": true
   },
   "outputs": [
    {
     "name": "stdout",
     "output_type": "stream",
     "text": [
      "    Augmented Dickey-Fuller Test on \"\" \n",
      "    -----------------------------------------------\n",
      " Null Hypothesis: Data has unit root. Non-Stationary.\n",
      " Significance Level    = 0.05\n",
      " Test Statistic        = -12.9246\n",
      " No. Lags Chosen       = 5\n",
      " Critical value 1%     = -3.532\n",
      " Critical value 5%     = -2.906\n",
      " Critical value 10%    = -2.59\n",
      " => P-Value = 0.0. Rejecting Null Hypothesis.\n",
      " => Series is Stationary.\n"
     ]
    }
   ],
   "source": [
    "adfuller_test(trips_df_differenced['ine_trips'])"
   ]
  },
  {
   "cell_type": "markdown",
   "id": "83b3dce3",
   "metadata": {},
   "source": [
    "### Select order for VAR Model"
   ]
  },
  {
   "cell_type": "code",
   "execution_count": 28,
   "id": "ab45de54",
   "metadata": {},
   "outputs": [
    {
     "name": "stderr",
     "output_type": "stream",
     "text": [
      "C:\\Users\\ucam\\anaconda3\\envs\\mobility_env\\lib\\site-packages\\statsmodels\\tsa\\base\\tsa_model.py:524: ValueWarning: No frequency information was provided, so inferred frequency D will be used.\n",
      "  warnings.warn('No frequency information was'\n"
     ]
    }
   ],
   "source": [
    "model = VARMAX(trips_df_differenced,  order=(5,0))"
   ]
  },
  {
   "cell_type": "markdown",
   "id": "52e06b7b",
   "metadata": {},
   "source": [
    "Best lag is set to 7 days"
   ]
  },
  {
   "cell_type": "code",
   "execution_count": 29,
   "id": "1aca6222",
   "metadata": {
    "scrolled": true
   },
   "outputs": [
    {
     "data": {
      "text/html": [
       "<table class=\"simpletable\">\n",
       "<caption>Statespace Model Results</caption>\n",
       "<tr>\n",
       "  <th>Dep. Variable:</th>   <td>['Viajes', 'ine_trips']</td> <th>  No. Observations:  </th>    <td>73</td>    \n",
       "</tr>\n",
       "<tr>\n",
       "  <th>Model:</th>                   <td>VAR(5)</td>          <th>  Log Likelihood     </th> <td>-1595.723</td>\n",
       "</tr>\n",
       "<tr>\n",
       "  <th></th>                       <td>+ intercept</td>       <th>  AIC                </th> <td>3241.445</td> \n",
       "</tr>\n",
       "<tr>\n",
       "  <th>Date:</th>               <td>Tue, 21 Sep 2021</td>     <th>  BIC                </th> <td>3298.706</td> \n",
       "</tr>\n",
       "<tr>\n",
       "  <th>Time:</th>                   <td>09:45:20</td>         <th>  HQIC               </th> <td>3264.265</td> \n",
       "</tr>\n",
       "<tr>\n",
       "  <th>Sample:</th>                <td>04-02-2020</td>        <th>                     </th>     <td> </td>    \n",
       "</tr>\n",
       "<tr>\n",
       "  <th></th>                      <td>- 06-13-2020</td>       <th>                     </th>     <td> </td>    \n",
       "</tr>\n",
       "<tr>\n",
       "  <th>Covariance Type:</th>           <td>opg</td>           <th>                     </th>     <td> </td>    \n",
       "</tr>\n",
       "</table>\n",
       "<table class=\"simpletable\">\n",
       "<tr>\n",
       "  <th>Ljung-Box (L1) (Q):</th>     <td>0.00, 8.75</td> <th>  Jarque-Bera (JB):  </th>  <td>31.50, 1.69</td>\n",
       "</tr>\n",
       "<tr>\n",
       "  <th>Prob(Q):</th>                <td>0.99, 0.00</td> <th>  Prob(JB):          </th>  <td>0.00, 0.43</td> \n",
       "</tr>\n",
       "<tr>\n",
       "  <th>Heteroskedasticity (H):</th> <td>0.14, 1.99</td> <th>  Skew:              </th> <td>-0.23, -0.35</td>\n",
       "</tr>\n",
       "<tr>\n",
       "  <th>Prob(H) (two-sided):</th>    <td>0.00, 0.10</td> <th>  Kurtosis:          </th>  <td>6.19, 2.74</td> \n",
       "</tr>\n",
       "</table>\n",
       "<table class=\"simpletable\">\n",
       "<caption>Results for equation Viajes</caption>\n",
       "<tr>\n",
       "        <td></td>          <th>coef</th>     <th>std err</th>      <th>z</th>      <th>P>|z|</th>  <th>[0.025</th>    <th>0.975]</th>  \n",
       "</tr>\n",
       "<tr>\n",
       "  <th>intercept</th>    <td>  135.6784</td> <td>   85.487</td> <td>    1.587</td> <td> 0.112</td> <td>  -31.874</td> <td>  303.231</td>\n",
       "</tr>\n",
       "<tr>\n",
       "  <th>L1.Viajes</th>    <td>   -1.0977</td> <td>    0.121</td> <td>   -9.038</td> <td> 0.000</td> <td>   -1.336</td> <td>   -0.860</td>\n",
       "</tr>\n",
       "<tr>\n",
       "  <th>L1.ine_trips</th> <td>    0.0003</td> <td>    0.000</td> <td>    1.620</td> <td> 0.105</td> <td>-5.92e-05</td> <td>    0.001</td>\n",
       "</tr>\n",
       "<tr>\n",
       "  <th>L2.Viajes</th>    <td>   -1.2037</td> <td>    0.297</td> <td>   -4.051</td> <td> 0.000</td> <td>   -1.786</td> <td>   -0.621</td>\n",
       "</tr>\n",
       "<tr>\n",
       "  <th>L2.ine_trips</th> <td>-1.244e-05</td> <td>    0.000</td> <td>   -0.068</td> <td> 0.946</td> <td>   -0.000</td> <td>    0.000</td>\n",
       "</tr>\n",
       "<tr>\n",
       "  <th>L3.Viajes</th>    <td>   -1.1742</td> <td>    0.184</td> <td>   -6.384</td> <td> 0.000</td> <td>   -1.535</td> <td>   -0.814</td>\n",
       "</tr>\n",
       "<tr>\n",
       "  <th>L3.ine_trips</th> <td>    0.0002</td> <td>    0.000</td> <td>    1.344</td> <td> 0.179</td> <td>-9.62e-05</td> <td>    0.001</td>\n",
       "</tr>\n",
       "<tr>\n",
       "  <th>L4.Viajes</th>    <td>   -0.6349</td> <td>    0.191</td> <td>   -3.323</td> <td> 0.001</td> <td>   -1.009</td> <td>   -0.260</td>\n",
       "</tr>\n",
       "<tr>\n",
       "  <th>L4.ine_trips</th> <td>    0.0001</td> <td>    0.000</td> <td>    0.790</td> <td> 0.430</td> <td>   -0.000</td> <td>    0.001</td>\n",
       "</tr>\n",
       "<tr>\n",
       "  <th>L5.Viajes</th>    <td>   -0.3191</td> <td>    0.127</td> <td>   -2.521</td> <td> 0.012</td> <td>   -0.567</td> <td>   -0.071</td>\n",
       "</tr>\n",
       "<tr>\n",
       "  <th>L5.ine_trips</th> <td> -9.57e-05</td> <td>    0.000</td> <td>   -0.575</td> <td> 0.565</td> <td>   -0.000</td> <td>    0.000</td>\n",
       "</tr>\n",
       "</table>\n",
       "<table class=\"simpletable\">\n",
       "<caption>Results for equation ine_trips</caption>\n",
       "<tr>\n",
       "        <td></td>          <th>coef</th>     <th>std err</th>      <th>z</th>      <th>P>|z|</th>  <th>[0.025</th>    <th>0.975]</th>  \n",
       "</tr>\n",
       "<tr>\n",
       "  <th>intercept</th>    <td> 8.686e+04</td> <td>    2.820</td> <td> 3.08e+04</td> <td> 0.000</td> <td> 8.68e+04</td> <td> 8.69e+04</td>\n",
       "</tr>\n",
       "<tr>\n",
       "  <th>L1.Viajes</th>    <td>  194.5737</td> <td>  291.680</td> <td>    0.667</td> <td> 0.505</td> <td> -377.108</td> <td>  766.256</td>\n",
       "</tr>\n",
       "<tr>\n",
       "  <th>L1.ine_trips</th> <td>   -0.3301</td> <td>    0.136</td> <td>   -2.422</td> <td> 0.015</td> <td>   -0.597</td> <td>   -0.063</td>\n",
       "</tr>\n",
       "<tr>\n",
       "  <th>L2.Viajes</th>    <td>  160.7632</td> <td>  390.345</td> <td>    0.412</td> <td> 0.680</td> <td> -604.299</td> <td>  925.826</td>\n",
       "</tr>\n",
       "<tr>\n",
       "  <th>L2.ine_trips</th> <td>   -0.5571</td> <td>    0.156</td> <td>   -3.579</td> <td> 0.000</td> <td>   -0.862</td> <td>   -0.252</td>\n",
       "</tr>\n",
       "<tr>\n",
       "  <th>L3.Viajes</th>    <td>   25.3761</td> <td>  349.501</td> <td>    0.073</td> <td> 0.942</td> <td> -659.634</td> <td>  710.386</td>\n",
       "</tr>\n",
       "<tr>\n",
       "  <th>L3.ine_trips</th> <td>   -0.4293</td> <td>    0.149</td> <td>   -2.872</td> <td> 0.004</td> <td>   -0.722</td> <td>   -0.136</td>\n",
       "</tr>\n",
       "<tr>\n",
       "  <th>L4.Viajes</th>    <td>  173.7795</td> <td>  392.352</td> <td>    0.443</td> <td> 0.658</td> <td> -595.216</td> <td>  942.775</td>\n",
       "</tr>\n",
       "<tr>\n",
       "  <th>L4.ine_trips</th> <td>   -0.4047</td> <td>    0.168</td> <td>   -2.414</td> <td> 0.016</td> <td>   -0.733</td> <td>   -0.076</td>\n",
       "</tr>\n",
       "<tr>\n",
       "  <th>L5.Viajes</th>    <td>   16.1306</td> <td>  342.784</td> <td>    0.047</td> <td> 0.962</td> <td> -655.713</td> <td>  687.975</td>\n",
       "</tr>\n",
       "<tr>\n",
       "  <th>L5.ine_trips</th> <td>   -0.6189</td> <td>    0.161</td> <td>   -3.845</td> <td> 0.000</td> <td>   -0.934</td> <td>   -0.303</td>\n",
       "</tr>\n",
       "</table>\n",
       "<table class=\"simpletable\">\n",
       "<caption>Error covariance matrix</caption>\n",
       "<tr>\n",
       "              <td></td>                 <th>coef</th>     <th>std err</th>      <th>z</th>      <th>P>|z|</th>  <th>[0.025</th>    <th>0.975]</th>  \n",
       "</tr>\n",
       "<tr>\n",
       "  <th>sqrt.var.Viajes</th>           <td>  431.8480</td> <td>   39.039</td> <td>   11.062</td> <td> 0.000</td> <td>  355.332</td> <td>  508.364</td>\n",
       "</tr>\n",
       "<tr>\n",
       "  <th>sqrt.cov.Viajes.ine_trips</th> <td> 1.083e+05</td> <td>    0.807</td> <td> 1.34e+05</td> <td> 0.000</td> <td> 1.08e+05</td> <td> 1.08e+05</td>\n",
       "</tr>\n",
       "<tr>\n",
       "  <th>sqrt.var.ine_trips</th>        <td> 4.473e+05</td> <td>    0.555</td> <td> 8.06e+05</td> <td> 0.000</td> <td> 4.47e+05</td> <td> 4.47e+05</td>\n",
       "</tr>\n",
       "</table><br/><br/>Warnings:<br/>[1] Covariance matrix calculated using the outer product of gradients (complex-step).<br/>[2] Covariance matrix is singular or near-singular, with condition number 1.28e+23. Standard errors may be unstable."
      ],
      "text/plain": [
       "<class 'statsmodels.iolib.summary.Summary'>\n",
       "\"\"\"\n",
       "                              Statespace Model Results                             \n",
       "===================================================================================\n",
       "Dep. Variable:     ['Viajes', 'ine_trips']   No. Observations:                   73\n",
       "Model:                              VAR(5)   Log Likelihood               -1595.723\n",
       "                               + intercept   AIC                           3241.445\n",
       "Date:                     Tue, 21 Sep 2021   BIC                           3298.706\n",
       "Time:                             09:45:20   HQIC                          3264.265\n",
       "Sample:                         04-02-2020                                         \n",
       "                              - 06-13-2020                                         \n",
       "Covariance Type:                       opg                                         \n",
       "===================================================================================\n",
       "Ljung-Box (L1) (Q):             0.00, 8.75   Jarque-Bera (JB):          31.50, 1.69\n",
       "Prob(Q):                        0.99, 0.00   Prob(JB):                   0.00, 0.43\n",
       "Heteroskedasticity (H):         0.14, 1.99   Skew:                     -0.23, -0.35\n",
       "Prob(H) (two-sided):            0.00, 0.10   Kurtosis:                   6.19, 2.74\n",
       "                          Results for equation Viajes                           \n",
       "================================================================================\n",
       "                   coef    std err          z      P>|z|      [0.025      0.975]\n",
       "--------------------------------------------------------------------------------\n",
       "intercept      135.6784     85.487      1.587      0.112     -31.874     303.231\n",
       "L1.Viajes       -1.0977      0.121     -9.038      0.000      -1.336      -0.860\n",
       "L1.ine_trips     0.0003      0.000      1.620      0.105   -5.92e-05       0.001\n",
       "L2.Viajes       -1.2037      0.297     -4.051      0.000      -1.786      -0.621\n",
       "L2.ine_trips -1.244e-05      0.000     -0.068      0.946      -0.000       0.000\n",
       "L3.Viajes       -1.1742      0.184     -6.384      0.000      -1.535      -0.814\n",
       "L3.ine_trips     0.0002      0.000      1.344      0.179   -9.62e-05       0.001\n",
       "L4.Viajes       -0.6349      0.191     -3.323      0.001      -1.009      -0.260\n",
       "L4.ine_trips     0.0001      0.000      0.790      0.430      -0.000       0.001\n",
       "L5.Viajes       -0.3191      0.127     -2.521      0.012      -0.567      -0.071\n",
       "L5.ine_trips  -9.57e-05      0.000     -0.575      0.565      -0.000       0.000\n",
       "                         Results for equation ine_trips                         \n",
       "================================================================================\n",
       "                   coef    std err          z      P>|z|      [0.025      0.975]\n",
       "--------------------------------------------------------------------------------\n",
       "intercept     8.686e+04      2.820   3.08e+04      0.000    8.68e+04    8.69e+04\n",
       "L1.Viajes      194.5737    291.680      0.667      0.505    -377.108     766.256\n",
       "L1.ine_trips    -0.3301      0.136     -2.422      0.015      -0.597      -0.063\n",
       "L2.Viajes      160.7632    390.345      0.412      0.680    -604.299     925.826\n",
       "L2.ine_trips    -0.5571      0.156     -3.579      0.000      -0.862      -0.252\n",
       "L3.Viajes       25.3761    349.501      0.073      0.942    -659.634     710.386\n",
       "L3.ine_trips    -0.4293      0.149     -2.872      0.004      -0.722      -0.136\n",
       "L4.Viajes      173.7795    392.352      0.443      0.658    -595.216     942.775\n",
       "L4.ine_trips    -0.4047      0.168     -2.414      0.016      -0.733      -0.076\n",
       "L5.Viajes       16.1306    342.784      0.047      0.962    -655.713     687.975\n",
       "L5.ine_trips    -0.6189      0.161     -3.845      0.000      -0.934      -0.303\n",
       "                                   Error covariance matrix                                   \n",
       "=============================================================================================\n",
       "                                coef    std err          z      P>|z|      [0.025      0.975]\n",
       "---------------------------------------------------------------------------------------------\n",
       "sqrt.var.Viajes             431.8480     39.039     11.062      0.000     355.332     508.364\n",
       "sqrt.cov.Viajes.ine_trips  1.083e+05      0.807   1.34e+05      0.000    1.08e+05    1.08e+05\n",
       "sqrt.var.ine_trips         4.473e+05      0.555   8.06e+05      0.000    4.47e+05    4.47e+05\n",
       "=============================================================================================\n",
       "\n",
       "Warnings:\n",
       "[1] Covariance matrix calculated using the outer product of gradients (complex-step).\n",
       "[2] Covariance matrix is singular or near-singular, with condition number 1.28e+23. Standard errors may be unstable.\n",
       "\"\"\""
      ]
     },
     "execution_count": 29,
     "metadata": {},
     "output_type": "execute_result"
    }
   ],
   "source": [
    "model_fitted = model.fit()\n",
    "model_fitted.summary()"
   ]
  },
  {
   "cell_type": "markdown",
   "id": "8538db9b",
   "metadata": {},
   "source": [
    "### Forecast test"
   ]
  },
  {
   "cell_type": "code",
   "execution_count": 30,
   "id": "c2936298",
   "metadata": {},
   "outputs": [],
   "source": [
    "def mape(actual, pred): \n",
    "    actual, pred = np.array(actual), np.array(pred)\n",
    "    return np.mean(np.abs((actual - pred) / actual)) * 100\n",
    "\n",
    "\n",
    "def compute_metrics_fn(y_valid, y_hat):\n",
    "    mae_ = mean_absolute_error(y_valid, y_hat)\n",
    "    mse_ = mean_squared_error(y_valid, y_hat)\n",
    "    rmse_ = mean_squared_error(y_valid, y_hat, squared = False)\n",
    "    cvrmse_ = rmse_/np.mean(y_valid)*100 # it is a percentage\n",
    "    mape_ = mape(y_valid, y_hat)\n",
    "    \n",
    "    return mae_, mse_, rmse_, cvrmse_, mape_"
   ]
  },
  {
   "cell_type": "code",
   "execution_count": 31,
   "id": "2d78ebac",
   "metadata": {},
   "outputs": [
    {
     "data": {
      "text/plain": [
       "(81, 2)"
      ]
     },
     "execution_count": 31,
     "metadata": {},
     "output_type": "execute_result"
    }
   ],
   "source": [
    "trips_df.shape"
   ]
  },
  {
   "cell_type": "code",
   "execution_count": 32,
   "id": "93df0a5d",
   "metadata": {
    "scrolled": true
   },
   "outputs": [
    {
     "name": "stderr",
     "output_type": "stream",
     "text": [
      "C:\\Users\\ucam\\anaconda3\\envs\\mobility_env\\lib\\site-packages\\statsmodels\\tsa\\base\\tsa_model.py:524: ValueWarning: No frequency information was provided, so inferred frequency D will be used.\n",
      "  warnings.warn('No frequency information was'\n",
      "C:\\Users\\ucam\\anaconda3\\envs\\mobility_env\\lib\\site-packages\\statsmodels\\tsa\\base\\tsa_model.py:524: ValueWarning: No frequency information was provided, so inferred frequency D will be used.\n",
      "  warnings.warn('No frequency information was'\n",
      "C:\\Users\\ucam\\anaconda3\\envs\\mobility_env\\lib\\site-packages\\statsmodels\\tsa\\base\\tsa_model.py:524: ValueWarning: No frequency information was provided, so inferred frequency D will be used.\n",
      "  warnings.warn('No frequency information was'\n",
      "C:\\Users\\ucam\\anaconda3\\envs\\mobility_env\\lib\\site-packages\\statsmodels\\tsa\\base\\tsa_model.py:524: ValueWarning: No frequency information was provided, so inferred frequency D will be used.\n",
      "  warnings.warn('No frequency information was'\n",
      "C:\\Users\\ucam\\anaconda3\\envs\\mobility_env\\lib\\site-packages\\statsmodels\\base\\model.py:566: ConvergenceWarning: Maximum Likelihood optimization failed to converge. Check mle_retvals\n",
      "  warnings.warn(\"Maximum Likelihood optimization failed to \"\n",
      "C:\\Users\\ucam\\anaconda3\\envs\\mobility_env\\lib\\site-packages\\statsmodels\\tsa\\base\\tsa_model.py:524: ValueWarning: No frequency information was provided, so inferred frequency D will be used.\n",
      "  warnings.warn('No frequency information was'\n",
      "C:\\Users\\ucam\\anaconda3\\envs\\mobility_env\\lib\\site-packages\\statsmodels\\base\\model.py:566: ConvergenceWarning: Maximum Likelihood optimization failed to converge. Check mle_retvals\n",
      "  warnings.warn(\"Maximum Likelihood optimization failed to \"\n",
      "C:\\Users\\ucam\\anaconda3\\envs\\mobility_env\\lib\\site-packages\\statsmodels\\tsa\\base\\tsa_model.py:524: ValueWarning: No frequency information was provided, so inferred frequency D will be used.\n",
      "  warnings.warn('No frequency information was'\n",
      "C:\\Users\\ucam\\anaconda3\\envs\\mobility_env\\lib\\site-packages\\statsmodels\\tsa\\base\\tsa_model.py:524: ValueWarning: No frequency information was provided, so inferred frequency D will be used.\n",
      "  warnings.warn('No frequency information was'\n",
      "C:\\Users\\ucam\\anaconda3\\envs\\mobility_env\\lib\\site-packages\\statsmodels\\tsa\\base\\tsa_model.py:524: ValueWarning: No frequency information was provided, so inferred frequency D will be used.\n",
      "  warnings.warn('No frequency information was'\n",
      "C:\\Users\\ucam\\anaconda3\\envs\\mobility_env\\lib\\site-packages\\statsmodels\\tsa\\base\\tsa_model.py:524: ValueWarning: No frequency information was provided, so inferred frequency D will be used.\n",
      "  warnings.warn('No frequency information was'\n",
      "C:\\Users\\ucam\\anaconda3\\envs\\mobility_env\\lib\\site-packages\\statsmodels\\tsa\\base\\tsa_model.py:524: ValueWarning: No frequency information was provided, so inferred frequency D will be used.\n",
      "  warnings.warn('No frequency information was'\n",
      "C:\\Users\\ucam\\anaconda3\\envs\\mobility_env\\lib\\site-packages\\statsmodels\\base\\model.py:566: ConvergenceWarning: Maximum Likelihood optimization failed to converge. Check mle_retvals\n",
      "  warnings.warn(\"Maximum Likelihood optimization failed to \"\n",
      "C:\\Users\\ucam\\anaconda3\\envs\\mobility_env\\lib\\site-packages\\statsmodels\\tsa\\base\\tsa_model.py:524: ValueWarning: No frequency information was provided, so inferred frequency D will be used.\n",
      "  warnings.warn('No frequency information was'\n",
      "C:\\Users\\ucam\\anaconda3\\envs\\mobility_env\\lib\\site-packages\\statsmodels\\tsa\\base\\tsa_model.py:524: ValueWarning: No frequency information was provided, so inferred frequency D will be used.\n",
      "  warnings.warn('No frequency information was'\n",
      "C:\\Users\\ucam\\anaconda3\\envs\\mobility_env\\lib\\site-packages\\statsmodels\\tsa\\base\\tsa_model.py:524: ValueWarning: No frequency information was provided, so inferred frequency D will be used.\n",
      "  warnings.warn('No frequency information was'\n",
      "C:\\Users\\ucam\\anaconda3\\envs\\mobility_env\\lib\\site-packages\\statsmodels\\tsa\\base\\tsa_model.py:524: ValueWarning: No frequency information was provided, so inferred frequency D will be used.\n",
      "  warnings.warn('No frequency information was'\n"
     ]
    }
   ],
   "source": [
    "ine_true = []\n",
    "ine_hat = []\n",
    "for i in range(60, 81-7):\n",
    "    X= trips_df.iloc[0:i]\n",
    "    X_differenced = X.diff().dropna()\n",
    "    \n",
    "    y =trips_df.iloc[i:i+7]\n",
    "    y_true_ine = [v[1] for v in y.values]\n",
    "    \n",
    "    model = VARMAX(X_differenced.iloc[:-7], order=(5,0))\n",
    "    model_fitted = model.fit()\n",
    "    df_forecast = model_fitted.forecast(y=X_differenced.values[-7:], steps=7)\n",
    "    \n",
    "    columns = trips_df.columns\n",
    "    for col in columns:  \n",
    "        df_forecast[str(col)+'_forecast'] = X[col].iloc[-1] + df_forecast[str(col)].cumsum()\n",
    "\n",
    "    y_hat_ine = list(df_forecast['ine_trips_forecast'].values)\n",
    "    \n",
    "    ine_true = ine_true + y_true_ine\n",
    "    ine_hat = ine_hat + y_hat_ine"
   ]
  },
  {
   "cell_type": "code",
   "execution_count": 33,
   "id": "5620e96d",
   "metadata": {},
   "outputs": [
    {
     "name": "stdout",
     "output_type": "stream",
     "text": [
      "Resultado del test : 346208.48 MAE\n",
      "Resultado del test: 185874688504.73 MSE\n",
      "Resultado del test: 431131.87 RMSE\n",
      "Resultado del test: 9.14 CVRMSE\n",
      "Resultado del test: 7.94 MAPE \n",
      "\n"
     ]
    }
   ],
   "source": [
    "testScore_MAE, testScore_MSE, testScore_RMSE, testScore_CVRMSE, testScore_MAPE  =  compute_metrics_fn(ine_true, ine_hat)\n",
    "\n",
    "print('Resultado del test : %.2f MAE' % ( testScore_MAE))\n",
    "print('Resultado del test: %.2f MSE' % ( testScore_MSE))\n",
    "print('Resultado del test: %.2f RMSE' %  (testScore_RMSE))\n",
    "print('Resultado del test: %.2f CVRMSE' % ( testScore_CVRMSE))\n",
    "print('Resultado del test: %.2f MAPE \\n' % (testScore_MAPE))"
   ]
  },
  {
   "cell_type": "code",
   "execution_count": 34,
   "id": "5ccef7db",
   "metadata": {},
   "outputs": [
    {
     "name": "stdout",
     "output_type": "stream",
     "text": [
      "Resultado del test dia 0: 432649.30 MAE\n",
      "Resultado del test dia 0: 296171739366.53 MSE\n",
      "Resultado del test dia 0: 544216.63 RMSE\n",
      "Resultado del test dia 0: 11.76 CVRMSE\n",
      "Resultado del test dia 0: 10.30 MAPE \n",
      "\n",
      "Resultado del test dia 1: 385827.85 MAE\n",
      "Resultado del test dia 1: 208826812300.59 MSE\n",
      "Resultado del test dia 1: 456975.72 RMSE\n",
      "Resultado del test dia 1: 9.81 CVRMSE\n",
      "Resultado del test dia 1: 8.79 MAPE \n",
      "\n",
      "Resultado del test dia 2: 398515.27 MAE\n",
      "Resultado del test dia 2: 210305221236.98 MSE\n",
      "Resultado del test dia 2: 458590.47 RMSE\n",
      "Resultado del test dia 2: 9.77 CVRMSE\n",
      "Resultado del test dia 2: 9.01 MAPE \n",
      "\n",
      "Resultado del test dia 3: 345449.74 MAE\n",
      "Resultado del test dia 3: 197183484335.97 MSE\n",
      "Resultado del test dia 3: 444053.47 RMSE\n",
      "Resultado del test dia 3: 9.42 CVRMSE\n",
      "Resultado del test dia 3: 8.09 MAPE \n",
      "\n",
      "Resultado del test dia 4: 275811.84 MAE\n",
      "Resultado del test dia 4: 127505923447.01 MSE\n",
      "Resultado del test dia 4: 357079.72 RMSE\n",
      "Resultado del test dia 4: 7.53 CVRMSE\n",
      "Resultado del test dia 4: 6.27 MAPE \n",
      "\n",
      "Resultado del test dia 5: 306683.84 MAE\n",
      "Resultado del test dia 5: 141486822519.67 MSE\n",
      "Resultado del test dia 5: 376147.34 RMSE\n",
      "Resultado del test dia 5: 7.87 CVRMSE\n",
      "Resultado del test dia 5: 6.97 MAPE \n",
      "\n",
      "Resultado del test dia 6: 278521.49 MAE\n",
      "Resultado del test dia 6: 119642816326.35 MSE\n",
      "Resultado del test dia 6: 345894.23 RMSE\n",
      "Resultado del test dia 6: 7.20 CVRMSE\n",
      "Resultado del test dia 6: 6.13 MAPE \n",
      "\n"
     ]
    }
   ],
   "source": [
    "for i in range(0,7):\n",
    "    y_true = ine_true[i::7]\n",
    "    y_hat = ine_hat[i::7]\n",
    "    testScore_MAE, testScore_MSE, testScore_RMSE, testScore_CVRMSE, testScore_MAPE  =  compute_metrics_fn(y_true, y_hat)\n",
    "\n",
    "    print('Resultado del test dia %d: %.2f MAE' % (i, testScore_MAE))\n",
    "    print('Resultado del test dia %d: %.2f MSE' % (i, testScore_MSE))\n",
    "    print('Resultado del test dia %d: %.2f RMSE' % (i, testScore_RMSE))\n",
    "    print('Resultado del test dia %d: %.2f CVRMSE' % (i, testScore_CVRMSE))\n",
    "    print('Resultado del test dia %d: %.2f MAPE \\n' % (i, testScore_MAPE))"
   ]
  },
  {
   "cell_type": "markdown",
   "id": "b1d650e1",
   "metadata": {},
   "source": [
    "### Generate plot"
   ]
  },
  {
   "cell_type": "code",
   "execution_count": 35,
   "id": "93fa1b24",
   "metadata": {},
   "outputs": [
    {
     "data": {
      "text/plain": [
       "56"
      ]
     },
     "execution_count": 35,
     "metadata": {},
     "output_type": "execute_result"
    }
   ],
   "source": [
    "n_samples_train = int(trips_df.shape[0]*0.7)\n",
    "n_samples_train"
   ]
  },
  {
   "cell_type": "code",
   "execution_count": 36,
   "id": "313f3285",
   "metadata": {},
   "outputs": [
    {
     "name": "stderr",
     "output_type": "stream",
     "text": [
      "C:\\Users\\ucam\\anaconda3\\envs\\mobility_env\\lib\\site-packages\\statsmodels\\tsa\\base\\tsa_model.py:524: ValueWarning: No frequency information was provided, so inferred frequency D will be used.\n",
      "  warnings.warn('No frequency information was'\n"
     ]
    }
   ],
   "source": [
    "X= trips_df.iloc[0:n_samples_train]\n",
    "X_differenced = X.diff().dropna()\n",
    "model = VARMAX(X_differenced.iloc[:-7], order=(5,0))\n",
    "model_fitted = model.fit()"
   ]
  },
  {
   "cell_type": "code",
   "execution_count": 46,
   "id": "fbfa56bf",
   "metadata": {
    "scrolled": true
   },
   "outputs": [],
   "source": [
    "ine_true_train = []\n",
    "ine_hat_train = []\n",
    "look_back=7\n",
    "for i in range(look_back, n_samples_train):\n",
    "    X= trips_df.iloc[i-look_back:i]\n",
    "    X_differenced = X.diff().dropna()\n",
    "    \n",
    "    y =trips_df.iloc[i+1]\n",
    "    y_true_ine = y[1]#[v[1] for v in y.values]\n",
    "    \n",
    "    #model = VARMAX(X_differenced.iloc[:-7], order=(5,0))\n",
    "    #model_fitted = model.fit()\n",
    "    df_forecast = model_fitted.forecast(y=X_differenced.values[-7:], steps=1)\n",
    "    \n",
    "    columns = trips_df.columns\n",
    "    for col in columns:  \n",
    "        df_forecast[str(col)+'_forecast'] = X[col].iloc[-1] + df_forecast[str(col)].cumsum()\n",
    "\n",
    "    y_hat_ine = list(df_forecast['ine_trips_forecast'].values)\n",
    "    #print(y_true_ine, y_hat_ine)\n",
    "    ine_true_train = ine_true_train + y_true_ine\n",
    "    ine_hat_train = ine_hat_train + y_hat_ine"
   ]
  },
  {
   "cell_type": "code",
   "execution_count": 47,
   "id": "e4f001b3",
   "metadata": {},
   "outputs": [],
   "source": [
    "ine_true_test = []\n",
    "ine_hat_test = []\n",
    "look_back=7\n",
    "for i in range(n_samples_train, 81-look_back):\n",
    "    X= trips_df.iloc[i-look_back:i]\n",
    "    X_differenced = X.diff().dropna()\n",
    "    \n",
    "    y =trips_df.iloc[i+1]\n",
    "    y_true_ine = y[1]#[v[1] for v in y.values]\n",
    "    \n",
    "    #model = VARMAX(X_differenced.iloc[:-7], order=(5,0))\n",
    "    #model_fitted = model.fit()\n",
    "    df_forecast = model_fitted.forecast(y=X_differenced.values[-7:], steps=1)\n",
    "    \n",
    "    columns = trips_df.columns\n",
    "    for col in columns:  \n",
    "        df_forecast[str(col)+'_forecast'] = X[col].iloc[-1] + df_forecast[str(col)].cumsum()\n",
    "\n",
    "    y_hat_ine = list(df_forecast['ine_trips_forecast'].values)\n",
    "    #print(y_true_ine, y_hat_ine)\n",
    "    ine_true_test = ine_true_test + y_true_ine\n",
    "    ine_hat_test = ine_hat_test + y_hat_ine"
   ]
  },
  {
   "cell_type": "code",
   "execution_count": 48,
   "id": "10dfcd79",
   "metadata": {},
   "outputs": [
    {
     "data": {
      "text/plain": [
       "81"
      ]
     },
     "execution_count": 48,
     "metadata": {},
     "output_type": "execute_result"
    }
   ],
   "source": [
    "len(trips_df['ine_trips'].astype(float))"
   ]
  },
  {
   "cell_type": "code",
   "execution_count": 73,
   "id": "9793ab1e",
   "metadata": {
    "scrolled": true
   },
   "outputs": [
    {
     "data": {
      "image/png": "[encoded data removed]",
      "text/plain": [
       "<Figure size 432x288 with 1 Axes>"
      ]
     },
     "metadata": {
      "needs_background": "light"
     },
     "output_type": "display_data"
    }
   ],
   "source": [
    "ine_trips = trips_df['ine_trips'].astype(float)\n",
    "\n",
    "# predicciones del entrenamiento de cambio para plotear\n",
    "trainPredictPlot = np.empty_like(ine_trips)\n",
    "trainPredictPlot[:] = np.nan\n",
    "#trainPredictPlot[look_back+1:n_samples_train+1] = ine_hat_train\n",
    "trainPredictPlot[:n_samples_train-look_back] = ine_hat_train\n",
    "# predicciones del test de cambio para plotear\n",
    "testPredictPlot = np.empty_like(ine_trips)\n",
    "testPredictPlot[:] = np.nan\n",
    "#testPredictPlot[n_samples_train+1:len(ine_trips)-look_back+1] = ine_hat_test\n",
    "testPredictPlot[n_samples_train-1:len(ine_trips)-(look_back)-1] = ine_hat_test\n",
    "# plot baseline and predictions\n",
    "plt.plot(trips_df['ine_trips'].values)\n",
    "# ploteamos linea base y predicciones\n",
    "plt.plot(trainPredictPlot,'r', linewidth = 2)\n",
    "plt.plot(testPredictPlot,'m', linewidth = 2)\n",
    "plt.legend( ('Raw trips', 'Training data prediction', 'Test data prediction'), loc = 'upper left')\n",
    "plt.grid(True)\n",
    "#plt.title(\"Viajes totales\", fontsize = 15)\n",
    "plt.xlabel(\"Time (days)\", fontsize = 10)\n",
    "plt.ylabel(\"Number of trips (in thousands)\", fontsize = 10)\n",
    "plt.tight_layout()\n",
    "plt.savefig('varmax_ine_twt_pred.png')\n",
    "plt.show()\n"
   ]
  },
  {
   "cell_type": "code",
   "execution_count": null,
   "id": "9510b90d",
   "metadata": {},
   "outputs": [],
   "source": [
    "print(\"That's all folks!\")"
   ]
  }
 ],
 "metadata": {
  "kernelspec": {
   "display_name": "Python 3 (ipykernel)",
   "language": "python",
   "name": "python3"
  },
  "language_info": {
   "codemirror_mode": {
    "name": "ipython",
    "version": 3
   },
   "file_extension": ".py",
   "mimetype": "text/x-python",
   "name": "python",
   "nbconvert_exporter": "python",
   "pygments_lexer": "ipython3",
   "version": "3.8.11"
  }
 },
 "nbformat": 4,
 "nbformat_minor": 5
}
