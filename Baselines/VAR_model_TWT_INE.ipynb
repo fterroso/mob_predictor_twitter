{
 "cells": [
  {
   "cell_type": "markdown",
   "id": "dfa735d1",
   "metadata": {},
   "source": [
    "### Import required libraries"
   ]
  },
  {
   "cell_type": "code",
   "execution_count": 1,
   "id": "d2421df0",
   "metadata": {},
   "outputs": [],
   "source": [
    "import pandas as pd\n",
    "import numpy as np\n",
    "import os\n",
    "\n",
    "import datetime\n",
    "from datetime import date, timedelta\n",
    "\n",
    "from tqdm.notebook import tqdm\n",
    "\n",
    "from statsmodels.tsa.vector_ar.vecm import coint_johansen\n",
    "from statsmodels.tsa.stattools import grangercausalitytests\n",
    "from statsmodels.tsa.api import VAR\n",
    "from statsmodels.tsa.stattools import adfuller\n",
    "\n",
    "\n",
    "from sklearn.preprocessing import MinMaxScaler\n",
    "from sklearn.metrics import mean_squared_error, mean_absolute_error\n",
    "\n",
    "\n",
    "import matplotlib.pyplot as plt\n",
    "%matplotlib inline\n",
    "\n",
    "e_date = datetime.datetime.strptime('2020-06-20', '%Y-%m-%d')\n",
    "i_date = datetime.datetime.strptime('2020-04-01', '%Y-%m-%d')\n",
    "\n",
    "data_path = os.path.join('..','OD')"
   ]
  },
  {
   "cell_type": "code",
   "execution_count": 2,
   "id": "f50156b9",
   "metadata": {},
   "outputs": [],
   "source": [
    "delta = e_date - i_date\n",
    "\n",
    "target_days = []\n",
    "for i in range(delta.days + 1):\n",
    "    day = i_date + timedelta(days=i)\n",
    "    target_days.append(day)\n",
    "\n",
    "def read_OD_fn(source_type):\n",
    "    ods = {}\n",
    "    for date in tqdm(target_days):\n",
    "        od_date= pd.read_csv(os.path.join(data_path, 'date_{}_OD_{}.csv'.format(source_type,date.strftime('%Y-%m-%d'))), \n",
    "                            index_col=0)\n",
    "        ods[date] = od_date\n",
    "    return ods"
   ]
  },
  {
   "cell_type": "code",
   "execution_count": 3,
   "id": "7bdd87ea",
   "metadata": {},
   "outputs": [
    {
     "data": {
      "application/vnd.jupyter.widget-view+json": {
       "model_id": "df9574611c934374a8ef9db17e2abb56",
       "version_major": 2,
       "version_minor": 0
      },
      "text/plain": [
       "  0%|          | 0/81 [00:00<?, ?it/s]"
      ]
     },
     "metadata": {},
     "output_type": "display_data"
    },
    {
     "data": {
      "application/vnd.jupyter.widget-view+json": {
       "model_id": "0c2af5098d3f47da8985cd6903fe529c",
       "version_major": 2,
       "version_minor": 0
      },
      "text/plain": [
       "  0%|          | 0/81 [00:00<?, ?it/s]"
      ]
     },
     "metadata": {},
     "output_type": "display_data"
    }
   ],
   "source": [
    "ine_ods = read_OD_fn('INE')\n",
    "twt_ods = read_OD_fn('TWT')"
   ]
  },
  {
   "cell_type": "markdown",
   "id": "e9597957",
   "metadata": {},
   "source": [
    "# Serializar los datos"
   ]
  },
  {
   "cell_type": "code",
   "execution_count": 4,
   "id": "81237684",
   "metadata": {},
   "outputs": [
    {
     "data": {
      "application/vnd.jupyter.widget-view+json": {
       "model_id": "2b68877d1b7545c2938a1b192b21b794",
       "version_major": 2,
       "version_minor": 0
      },
      "text/plain": [
       "  0%|          | 0/81 [00:00<?, ?it/s]"
      ]
     },
     "metadata": {},
     "output_type": "display_data"
    },
    {
     "data": {
      "application/vnd.jupyter.widget-view+json": {
       "model_id": "150b75d0a7da49eabd8bd3145ea0a000",
       "version_major": 2,
       "version_minor": 0
      },
      "text/plain": [
       "  0%|          | 0/81 [00:00<?, ?it/s]"
      ]
     },
     "metadata": {},
     "output_type": "display_data"
    }
   ],
   "source": [
    "lista_twt = []\n",
    "\n",
    "for date in tqdm(target_days):\n",
    "    lista_twt.append(twt_ods[date].loc['total','total'])\n",
    "    \n",
    "del twt_ods\n",
    "    \n",
    "lista_ine = []\n",
    "\n",
    "for date in tqdm(target_days):\n",
    "    lista_ine.append(ine_ods[date].loc['total','total'])\n",
    "    \n",
    "del ine_ods"
   ]
  },
  {
   "cell_type": "code",
   "execution_count": 5,
   "id": "bc46e167",
   "metadata": {},
   "outputs": [
    {
     "data": {
      "text/html": [
       "<div>\n",
       "<style scoped>\n",
       "    .dataframe tbody tr th:only-of-type {\n",
       "        vertical-align: middle;\n",
       "    }\n",
       "\n",
       "    .dataframe tbody tr th {\n",
       "        vertical-align: top;\n",
       "    }\n",
       "\n",
       "    .dataframe thead th {\n",
       "        text-align: right;\n",
       "    }\n",
       "</style>\n",
       "<table border=\"1\" class=\"dataframe\">\n",
       "  <thead>\n",
       "    <tr style=\"text-align: right;\">\n",
       "      <th></th>\n",
       "      <th>Viajes</th>\n",
       "    </tr>\n",
       "  </thead>\n",
       "  <tbody>\n",
       "    <tr>\n",
       "      <th>2020-04-01</th>\n",
       "      <td>2375</td>\n",
       "    </tr>\n",
       "    <tr>\n",
       "      <th>2020-04-02</th>\n",
       "      <td>2450</td>\n",
       "    </tr>\n",
       "    <tr>\n",
       "      <th>2020-04-03</th>\n",
       "      <td>2503</td>\n",
       "    </tr>\n",
       "    <tr>\n",
       "      <th>2020-04-04</th>\n",
       "      <td>554</td>\n",
       "    </tr>\n",
       "    <tr>\n",
       "      <th>2020-04-05</th>\n",
       "      <td>1319</td>\n",
       "    </tr>\n",
       "  </tbody>\n",
       "</table>\n",
       "</div>"
      ],
      "text/plain": [
       "            Viajes\n",
       "2020-04-01    2375\n",
       "2020-04-02    2450\n",
       "2020-04-03    2503\n",
       "2020-04-04     554\n",
       "2020-04-05    1319"
      ]
     },
     "execution_count": 5,
     "metadata": {},
     "output_type": "execute_result"
    }
   ],
   "source": [
    "df_twt = pd.DataFrame (lista_twt, columns = ['Viajes'], index= target_days)\n",
    "df_ine = pd.DataFrame (lista_ine, columns = ['Viajes'], index= target_days)\n",
    "\n",
    "df_twt.head()"
   ]
  },
  {
   "cell_type": "markdown",
   "id": "5b698086",
   "metadata": {},
   "source": [
    "# Visualización de datos"
   ]
  },
  {
   "cell_type": "code",
   "execution_count": 6,
   "id": "a5583068",
   "metadata": {},
   "outputs": [
    {
     "name": "stdout",
     "output_type": "stream",
     "text": [
      "2020-04-01 00:00:00\n",
      "2020-06-20 00:00:00\n",
      "81\n",
      "81\n"
     ]
    },
    {
     "name": "stderr",
     "output_type": "stream",
     "text": [
      "C:\\Users\\ucam\\AppData\\Local\\Temp/ipykernel_13752/2613588803.py:4: FutureWarning: Indexing a DataFrame with a datetimelike index using a single string to slice the rows, like `frame[string]`, is deprecated and will be removed in a future version. Use `frame.loc[string]` instead.\n",
      "  print(len(df_twt['2020']))\n",
      "C:\\Users\\ucam\\AppData\\Local\\Temp/ipykernel_13752/2613588803.py:6: FutureWarning: Indexing a DataFrame with a datetimelike index using a single string to slice the rows, like `frame[string]`, is deprecated and will be removed in a future version. Use `frame.loc[string]` instead.\n",
      "  print(len(df_ine['2020']))\n"
     ]
    }
   ],
   "source": [
    "print(df_twt.index.min())\n",
    "print(df_ine.index.max())\n",
    "\n",
    "print(len(df_twt['2020']))\n",
    "\n",
    "print(len(df_ine['2020']))"
   ]
  },
  {
   "cell_type": "code",
   "execution_count": 7,
   "id": "9cd0cb0e",
   "metadata": {},
   "outputs": [
    {
     "data": {
      "text/html": [
       "<div>\n",
       "<style scoped>\n",
       "    .dataframe tbody tr th:only-of-type {\n",
       "        vertical-align: middle;\n",
       "    }\n",
       "\n",
       "    .dataframe tbody tr th {\n",
       "        vertical-align: top;\n",
       "    }\n",
       "\n",
       "    .dataframe thead th {\n",
       "        text-align: right;\n",
       "    }\n",
       "</style>\n",
       "<table border=\"1\" class=\"dataframe\">\n",
       "  <thead>\n",
       "    <tr style=\"text-align: right;\">\n",
       "      <th></th>\n",
       "      <th>Viajes</th>\n",
       "    </tr>\n",
       "  </thead>\n",
       "  <tbody>\n",
       "    <tr>\n",
       "      <th>count</th>\n",
       "      <td>81.000000</td>\n",
       "    </tr>\n",
       "    <tr>\n",
       "      <th>mean</th>\n",
       "      <td>2943.000000</td>\n",
       "    </tr>\n",
       "    <tr>\n",
       "      <th>std</th>\n",
       "      <td>887.069149</td>\n",
       "    </tr>\n",
       "    <tr>\n",
       "      <th>min</th>\n",
       "      <td>0.000000</td>\n",
       "    </tr>\n",
       "    <tr>\n",
       "      <th>25%</th>\n",
       "      <td>2363.000000</td>\n",
       "    </tr>\n",
       "    <tr>\n",
       "      <th>50%</th>\n",
       "      <td>2904.000000</td>\n",
       "    </tr>\n",
       "    <tr>\n",
       "      <th>75%</th>\n",
       "      <td>3629.000000</td>\n",
       "    </tr>\n",
       "    <tr>\n",
       "      <th>max</th>\n",
       "      <td>4738.000000</td>\n",
       "    </tr>\n",
       "  </tbody>\n",
       "</table>\n",
       "</div>"
      ],
      "text/plain": [
       "            Viajes\n",
       "count    81.000000\n",
       "mean   2943.000000\n",
       "std     887.069149\n",
       "min       0.000000\n",
       "25%    2363.000000\n",
       "50%    2904.000000\n",
       "75%    3629.000000\n",
       "max    4738.000000"
      ]
     },
     "execution_count": 7,
     "metadata": {},
     "output_type": "execute_result"
    }
   ],
   "source": [
    "df_twt.describe()"
   ]
  },
  {
   "cell_type": "code",
   "execution_count": 8,
   "id": "25632980",
   "metadata": {},
   "outputs": [
    {
     "data": {
      "text/html": [
       "<div>\n",
       "<style scoped>\n",
       "    .dataframe tbody tr th:only-of-type {\n",
       "        vertical-align: middle;\n",
       "    }\n",
       "\n",
       "    .dataframe tbody tr th {\n",
       "        vertical-align: top;\n",
       "    }\n",
       "\n",
       "    .dataframe thead th {\n",
       "        text-align: right;\n",
       "    }\n",
       "</style>\n",
       "<table border=\"1\" class=\"dataframe\">\n",
       "  <thead>\n",
       "    <tr style=\"text-align: right;\">\n",
       "      <th></th>\n",
       "      <th>Viajes</th>\n",
       "    </tr>\n",
       "  </thead>\n",
       "  <tbody>\n",
       "    <tr>\n",
       "      <th>count</th>\n",
       "      <td>8.100000e+01</td>\n",
       "    </tr>\n",
       "    <tr>\n",
       "      <th>mean</th>\n",
       "      <td>3.438222e+06</td>\n",
       "    </tr>\n",
       "    <tr>\n",
       "      <th>std</th>\n",
       "      <td>1.174931e+06</td>\n",
       "    </tr>\n",
       "    <tr>\n",
       "      <th>min</th>\n",
       "      <td>1.535886e+06</td>\n",
       "    </tr>\n",
       "    <tr>\n",
       "      <th>25%</th>\n",
       "      <td>2.488436e+06</td>\n",
       "    </tr>\n",
       "    <tr>\n",
       "      <th>50%</th>\n",
       "      <td>3.396402e+06</td>\n",
       "    </tr>\n",
       "    <tr>\n",
       "      <th>75%</th>\n",
       "      <td>4.445190e+06</td>\n",
       "    </tr>\n",
       "    <tr>\n",
       "      <th>max</th>\n",
       "      <td>5.519725e+06</td>\n",
       "    </tr>\n",
       "  </tbody>\n",
       "</table>\n",
       "</div>"
      ],
      "text/plain": [
       "             Viajes\n",
       "count  8.100000e+01\n",
       "mean   3.438222e+06\n",
       "std    1.174931e+06\n",
       "min    1.535886e+06\n",
       "25%    2.488436e+06\n",
       "50%    3.396402e+06\n",
       "75%    4.445190e+06\n",
       "max    5.519725e+06"
      ]
     },
     "execution_count": 8,
     "metadata": {},
     "output_type": "execute_result"
    }
   ],
   "source": [
    "df_ine.describe()"
   ]
  },
  {
   "cell_type": "code",
   "execution_count": 9,
   "id": "1d2a47f0",
   "metadata": {},
   "outputs": [
    {
     "data": {
      "text/html": [
       "<div>\n",
       "<style scoped>\n",
       "    .dataframe tbody tr th:only-of-type {\n",
       "        vertical-align: middle;\n",
       "    }\n",
       "\n",
       "    .dataframe tbody tr th {\n",
       "        vertical-align: top;\n",
       "    }\n",
       "\n",
       "    .dataframe thead th {\n",
       "        text-align: right;\n",
       "    }\n",
       "</style>\n",
       "<table border=\"1\" class=\"dataframe\">\n",
       "  <thead>\n",
       "    <tr style=\"text-align: right;\">\n",
       "      <th></th>\n",
       "      <th>Viajes</th>\n",
       "    </tr>\n",
       "  </thead>\n",
       "  <tbody>\n",
       "    <tr>\n",
       "      <th>2020-04-30</th>\n",
       "      <td>2157.500000</td>\n",
       "    </tr>\n",
       "    <tr>\n",
       "      <th>2020-05-31</th>\n",
       "      <td>3128.193548</td>\n",
       "    </tr>\n",
       "    <tr>\n",
       "      <th>2020-06-30</th>\n",
       "      <td>3834.200000</td>\n",
       "    </tr>\n",
       "  </tbody>\n",
       "</table>\n",
       "</div>"
      ],
      "text/plain": [
       "                 Viajes\n",
       "2020-04-30  2157.500000\n",
       "2020-05-31  3128.193548\n",
       "2020-06-30  3834.200000"
      ]
     },
     "execution_count": 9,
     "metadata": {},
     "output_type": "execute_result"
    }
   ],
   "source": [
    "meses = df_twt.resample('M').mean()\n",
    "meses"
   ]
  },
  {
   "cell_type": "code",
   "execution_count": 10,
   "id": "156ccaad",
   "metadata": {},
   "outputs": [
    {
     "data": {
      "text/html": [
       "<div>\n",
       "<style scoped>\n",
       "    .dataframe tbody tr th:only-of-type {\n",
       "        vertical-align: middle;\n",
       "    }\n",
       "\n",
       "    .dataframe tbody tr th {\n",
       "        vertical-align: top;\n",
       "    }\n",
       "\n",
       "    .dataframe thead th {\n",
       "        text-align: right;\n",
       "    }\n",
       "</style>\n",
       "<table border=\"1\" class=\"dataframe\">\n",
       "  <thead>\n",
       "    <tr style=\"text-align: right;\">\n",
       "      <th></th>\n",
       "      <th>Viajes</th>\n",
       "    </tr>\n",
       "  </thead>\n",
       "  <tbody>\n",
       "    <tr>\n",
       "      <th>2020-04-30</th>\n",
       "      <td>2.356878e+06</td>\n",
       "    </tr>\n",
       "    <tr>\n",
       "      <th>2020-05-31</th>\n",
       "      <td>3.590722e+06</td>\n",
       "    </tr>\n",
       "    <tr>\n",
       "      <th>2020-06-30</th>\n",
       "      <td>4.823862e+06</td>\n",
       "    </tr>\n",
       "  </tbody>\n",
       "</table>\n",
       "</div>"
      ],
      "text/plain": [
       "                  Viajes\n",
       "2020-04-30  2.356878e+06\n",
       "2020-05-31  3.590722e+06\n",
       "2020-06-30  4.823862e+06"
      ]
     },
     "execution_count": 10,
     "metadata": {},
     "output_type": "execute_result"
    }
   ],
   "source": [
    "meses = df_ine.resample('M').mean()\n",
    "meses"
   ]
  },
  {
   "cell_type": "code",
   "execution_count": 11,
   "id": "fe507613",
   "metadata": {},
   "outputs": [
    {
     "data": {
      "text/plain": [
       "[<matplotlib.lines.Line2D at 0x23986f15ca0>]"
      ]
     },
     "execution_count": 11,
     "metadata": {},
     "output_type": "execute_result"
    },
    {
     "data": {
      "image/png": "[encoded data removed]",
      "text/plain": [
       "<Figure size 432x288 with 1 Axes>"
      ]
     },
     "metadata": {
      "needs_background": "light"
     },
     "output_type": "display_data"
    }
   ],
   "source": [
    "abril = df_twt['2020-04-01':'2020-04-30']\n",
    "plt.plot(abril.values)\n",
    "mayo = df_twt['2020-05-01':'2020-05-31']\n",
    "plt.plot(mayo.values)\n",
    "junio = df_twt['2020-06-01':'2020-06-20']\n",
    "plt.plot(junio.values)"
   ]
  },
  {
   "cell_type": "code",
   "execution_count": 12,
   "id": "efd1c127",
   "metadata": {},
   "outputs": [
    {
     "data": {
      "text/plain": [
       "[<matplotlib.lines.Line2D at 0x239f81a5040>]"
      ]
     },
     "execution_count": 12,
     "metadata": {},
     "output_type": "execute_result"
    },
    {
     "data": {
      "image/png": "[encoded data removed]",
      "text/plain": [
       "<Figure size 432x288 with 1 Axes>"
      ]
     },
     "metadata": {
      "needs_background": "light"
     },
     "output_type": "display_data"
    }
   ],
   "source": [
    "abril = df_ine['2020-04-01':'2020-04-30']\n",
    "plt.plot(abril.values)\n",
    "mayo = df_ine['2020-05-01':'2020-05-31']\n",
    "plt.plot(mayo.values)\n",
    "junio = df_ine['2020-06-01':'2020-06-20']\n",
    "plt.plot(junio.values)"
   ]
  },
  {
   "cell_type": "markdown",
   "id": "ab9d3392",
   "metadata": {},
   "source": [
    "# Preprocesado de datos"
   ]
  },
  {
   "cell_type": "code",
   "execution_count": 13,
   "id": "b66a84f9",
   "metadata": {},
   "outputs": [],
   "source": [
    "dataset_twt = df_twt.values\n",
    "dataset_twt = dataset_twt.astype('float32')\n",
    "\n",
    "dataset_ine = df_ine.values\n",
    "dataset_ine = dataset_ine.astype('float32')"
   ]
  },
  {
   "cell_type": "code",
   "execution_count": 14,
   "id": "82cc2fb9",
   "metadata": {},
   "outputs": [
    {
     "data": {
      "text/html": [
       "<div>\n",
       "<style scoped>\n",
       "    .dataframe tbody tr th:only-of-type {\n",
       "        vertical-align: middle;\n",
       "    }\n",
       "\n",
       "    .dataframe tbody tr th {\n",
       "        vertical-align: top;\n",
       "    }\n",
       "\n",
       "    .dataframe thead th {\n",
       "        text-align: right;\n",
       "    }\n",
       "</style>\n",
       "<table border=\"1\" class=\"dataframe\">\n",
       "  <thead>\n",
       "    <tr style=\"text-align: right;\">\n",
       "      <th></th>\n",
       "      <th>Viajes</th>\n",
       "    </tr>\n",
       "  </thead>\n",
       "  <tbody>\n",
       "    <tr>\n",
       "      <th>2020-04-01</th>\n",
       "      <td>2375</td>\n",
       "    </tr>\n",
       "    <tr>\n",
       "      <th>2020-04-02</th>\n",
       "      <td>2450</td>\n",
       "    </tr>\n",
       "    <tr>\n",
       "      <th>2020-04-03</th>\n",
       "      <td>2503</td>\n",
       "    </tr>\n",
       "    <tr>\n",
       "      <th>2020-04-04</th>\n",
       "      <td>554</td>\n",
       "    </tr>\n",
       "    <tr>\n",
       "      <th>2020-04-05</th>\n",
       "      <td>1319</td>\n",
       "    </tr>\n",
       "  </tbody>\n",
       "</table>\n",
       "</div>"
      ],
      "text/plain": [
       "            Viajes\n",
       "2020-04-01    2375\n",
       "2020-04-02    2450\n",
       "2020-04-03    2503\n",
       "2020-04-04     554\n",
       "2020-04-05    1319"
      ]
     },
     "execution_count": 14,
     "metadata": {},
     "output_type": "execute_result"
    }
   ],
   "source": [
    "df_twt.head()"
   ]
  },
  {
   "cell_type": "code",
   "execution_count": 15,
   "id": "240193e9",
   "metadata": {},
   "outputs": [
    {
     "data": {
      "text/html": [
       "<div>\n",
       "<style scoped>\n",
       "    .dataframe tbody tr th:only-of-type {\n",
       "        vertical-align: middle;\n",
       "    }\n",
       "\n",
       "    .dataframe tbody tr th {\n",
       "        vertical-align: top;\n",
       "    }\n",
       "\n",
       "    .dataframe thead th {\n",
       "        text-align: right;\n",
       "    }\n",
       "</style>\n",
       "<table border=\"1\" class=\"dataframe\">\n",
       "  <thead>\n",
       "    <tr style=\"text-align: right;\">\n",
       "      <th></th>\n",
       "      <th>Viajes</th>\n",
       "    </tr>\n",
       "  </thead>\n",
       "  <tbody>\n",
       "    <tr>\n",
       "      <th>2020-04-01</th>\n",
       "      <td>2213123</td>\n",
       "    </tr>\n",
       "    <tr>\n",
       "      <th>2020-04-02</th>\n",
       "      <td>2254121</td>\n",
       "    </tr>\n",
       "    <tr>\n",
       "      <th>2020-04-03</th>\n",
       "      <td>2520095</td>\n",
       "    </tr>\n",
       "    <tr>\n",
       "      <th>2020-04-04</th>\n",
       "      <td>1934554</td>\n",
       "    </tr>\n",
       "    <tr>\n",
       "      <th>2020-04-05</th>\n",
       "      <td>1593385</td>\n",
       "    </tr>\n",
       "  </tbody>\n",
       "</table>\n",
       "</div>"
      ],
      "text/plain": [
       "             Viajes\n",
       "2020-04-01  2213123\n",
       "2020-04-02  2254121\n",
       "2020-04-03  2520095\n",
       "2020-04-04  1934554\n",
       "2020-04-05  1593385"
      ]
     },
     "execution_count": 15,
     "metadata": {},
     "output_type": "execute_result"
    }
   ],
   "source": [
    "df_ine.head()"
   ]
  },
  {
   "cell_type": "markdown",
   "id": "7dadd47c",
   "metadata": {},
   "source": [
    "# Dividimos los datos en sets de entrenamiento y validacion"
   ]
  },
  {
   "cell_type": "code",
   "execution_count": 16,
   "id": "4afcedc9",
   "metadata": {},
   "outputs": [],
   "source": [
    "nobs=7"
   ]
  },
  {
   "cell_type": "code",
   "execution_count": 17,
   "id": "9296f3ac",
   "metadata": {
    "scrolled": true
   },
   "outputs": [
    {
     "name": "stdout",
     "output_type": "stream",
     "text": [
      "60 21\n"
     ]
    }
   ],
   "source": [
    "#dividimos nuestros valores entre sets de entrenamiento y de test\n",
    "n_train_days = 60\n",
    "train_twt = dataset_twt[:n_train_days, :]\n",
    "test_twt = dataset_twt[n_train_days:, :]\n",
    "\n",
    "train_ine = dataset_ine[:n_train_days, :]\n",
    "test_ine = dataset_ine[n_train_days:, :]\n",
    "\n",
    "print(len(train_twt), len(test_twt))"
   ]
  },
  {
   "cell_type": "code",
   "execution_count": 18,
   "id": "19af8a5b",
   "metadata": {},
   "outputs": [
    {
     "name": "stdout",
     "output_type": "stream",
     "text": [
      "53 14\n"
     ]
    }
   ],
   "source": [
    "# funcion para convertir un array de valores en una matriz de conjuntos de datos\n",
    "def create_dataset(dataset1, dataset2, look_back=1):\n",
    "  dataX, dataY = [], []\n",
    "  for i in range(len(dataset2)-look_back):\n",
    "    a = []\n",
    "    for x in range(look_back):\n",
    "        a.append(dataset2[i+x])  \n",
    "        a.append(dataset1[i+x])\n",
    "    a = np.array(a)\n",
    "    a = np.reshape(a, (7, 1, 2))\n",
    "    dataX.append(a)\n",
    "    dataY.append(dataset2[i + look_back, 0])\n",
    "  return np.array(dataX), np.array(dataY)\n",
    "\n",
    "# dividimos en entradas y salidas\n",
    "look_back = 7\n",
    "trainX, trainY = create_dataset(train_twt, train_ine, look_back)\n",
    "testX, testY = create_dataset(test_twt, test_ine, look_back)\n",
    "\n",
    "print(len(trainX), len(testY))"
   ]
  },
  {
   "cell_type": "markdown",
   "id": "047ccdf5",
   "metadata": {},
   "source": [
    "### Cointegration test"
   ]
  },
  {
   "cell_type": "markdown",
   "id": "0db82ae8",
   "metadata": {},
   "source": [
    "Dataframe with the scaled trips"
   ]
  },
  {
   "cell_type": "code",
   "execution_count": 19,
   "id": "fe633f3d",
   "metadata": {},
   "outputs": [
    {
     "data": {
      "text/html": [
       "<div>\n",
       "<style scoped>\n",
       "    .dataframe tbody tr th:only-of-type {\n",
       "        vertical-align: middle;\n",
       "    }\n",
       "\n",
       "    .dataframe tbody tr th {\n",
       "        vertical-align: top;\n",
       "    }\n",
       "\n",
       "    .dataframe thead th {\n",
       "        text-align: right;\n",
       "    }\n",
       "</style>\n",
       "<table border=\"1\" class=\"dataframe\">\n",
       "  <thead>\n",
       "    <tr style=\"text-align: right;\">\n",
       "      <th></th>\n",
       "      <th>Viajes</th>\n",
       "      <th>ine_trips</th>\n",
       "    </tr>\n",
       "  </thead>\n",
       "  <tbody>\n",
       "    <tr>\n",
       "      <th>2020-04-01</th>\n",
       "      <td>2375</td>\n",
       "      <td>2213123</td>\n",
       "    </tr>\n",
       "    <tr>\n",
       "      <th>2020-04-02</th>\n",
       "      <td>2450</td>\n",
       "      <td>2254121</td>\n",
       "    </tr>\n",
       "    <tr>\n",
       "      <th>2020-04-03</th>\n",
       "      <td>2503</td>\n",
       "      <td>2520095</td>\n",
       "    </tr>\n",
       "    <tr>\n",
       "      <th>2020-04-04</th>\n",
       "      <td>554</td>\n",
       "      <td>1934554</td>\n",
       "    </tr>\n",
       "    <tr>\n",
       "      <th>2020-04-05</th>\n",
       "      <td>1319</td>\n",
       "      <td>1593385</td>\n",
       "    </tr>\n",
       "  </tbody>\n",
       "</table>\n",
       "</div>"
      ],
      "text/plain": [
       "            Viajes  ine_trips\n",
       "2020-04-01    2375    2213123\n",
       "2020-04-02    2450    2254121\n",
       "2020-04-03    2503    2520095\n",
       "2020-04-04     554    1934554\n",
       "2020-04-05    1319    1593385"
      ]
     },
     "execution_count": 19,
     "metadata": {},
     "output_type": "execute_result"
    }
   ],
   "source": [
    "trips_df = df_twt.copy()\n",
    "trips_df['ine_trips']= df_ine['Viajes']\n",
    "trips_df.head()"
   ]
  },
  {
   "cell_type": "code",
   "execution_count": 63,
   "id": "786f50ec",
   "metadata": {},
   "outputs": [],
   "source": [
    "def cointegration_test(df, alpha=0.05): \n",
    "    \"\"\"Perform Johanson's Cointegration Test and Report Summary\"\"\"\n",
    "    out = coint_johansen(df,-1,7)\n",
    "    d = {'0.90':0, '0.95':1, '0.99':2}\n",
    "    traces = out.lr1\n",
    "    cvts = out.cvt[:, d[str(1-alpha)]]\n",
    "    \n",
    "    def adjust(val, length= 6): \n",
    "        return str(val).ljust(length)\n",
    "\n",
    "    # Summary\n",
    "    print('Name   ::  Test Stat > C(95%)    =>   Signif  \\n', '--'*20)\n",
    "    for col, trace, cvt in zip(df.columns, traces, cvts):\n",
    "        print(adjust(col), ':: ', adjust(round(trace,2), 9), \">\", adjust(cvt, 8), ' =>  ' , trace > cvt)\n",
    "\n",
    "    print(out.trace_stat)"
   ]
  },
  {
   "cell_type": "code",
   "execution_count": 64,
   "id": "83a63ba6",
   "metadata": {},
   "outputs": [
    {
     "name": "stdout",
     "output_type": "stream",
     "text": [
      "Name   ::  Test Stat > C(95%)    =>   Signif  \n",
      " ----------------------------------------\n",
      "Viajes ::  16.52     > 12.3212   =>   True\n",
      "ine_trips ::  0.04      > 4.1296    =>   False\n",
      "[16.51836923  0.04226512]\n"
     ]
    }
   ],
   "source": [
    "cointegration_test(trips_df)"
   ]
  },
  {
   "cell_type": "markdown",
   "id": "fea24c79",
   "metadata": {},
   "source": [
    "### Granger test"
   ]
  },
  {
   "cell_type": "code",
   "execution_count": 23,
   "id": "30163d8a",
   "metadata": {},
   "outputs": [
    {
     "data": {
      "text/html": [
       "<div>\n",
       "<style scoped>\n",
       "    .dataframe tbody tr th:only-of-type {\n",
       "        vertical-align: middle;\n",
       "    }\n",
       "\n",
       "    .dataframe tbody tr th {\n",
       "        vertical-align: top;\n",
       "    }\n",
       "\n",
       "    .dataframe thead th {\n",
       "        text-align: right;\n",
       "    }\n",
       "</style>\n",
       "<table border=\"1\" class=\"dataframe\">\n",
       "  <thead>\n",
       "    <tr style=\"text-align: right;\">\n",
       "      <th></th>\n",
       "      <th>Viajes_x</th>\n",
       "      <th>ine_trips_x</th>\n",
       "    </tr>\n",
       "  </thead>\n",
       "  <tbody>\n",
       "    <tr>\n",
       "      <th>Viajes_y</th>\n",
       "      <td>1.0</td>\n",
       "      <td>0.0</td>\n",
       "    </tr>\n",
       "    <tr>\n",
       "      <th>ine_trips_y</th>\n",
       "      <td>0.0</td>\n",
       "      <td>1.0</td>\n",
       "    </tr>\n",
       "  </tbody>\n",
       "</table>\n",
       "</div>"
      ],
      "text/plain": [
       "             Viajes_x  ine_trips_x\n",
       "Viajes_y          1.0          0.0\n",
       "ine_trips_y       0.0          1.0"
      ]
     },
     "execution_count": 23,
     "metadata": {},
     "output_type": "execute_result"
    }
   ],
   "source": [
    "maxlag=12\n",
    "test = 'ssr_chi2test'\n",
    "def grangers_causation_matrix(data, variables, test='ssr_chi2test', verbose=False):    \n",
    "    \"\"\"Check Granger Causality of all possible combinations of the Time series.\n",
    "    The rows are the response variable, columns are predictors. The values in the table \n",
    "    are the P-Values. P-Values lesser than the significance level (0.05), implies \n",
    "    the Null Hypothesis that the coefficients of the corresponding past values is \n",
    "    zero, that is, the X does not cause Y can be rejected.\n",
    "\n",
    "    data      : pandas dataframe containing the time series variables\n",
    "    variables : list containing names of the time series variables.\n",
    "    \"\"\"\n",
    "    df = pd.DataFrame(np.zeros((len(variables), len(variables))), columns=variables, index=variables)\n",
    "    for c in df.columns:\n",
    "        for r in df.index:\n",
    "            test_result = grangercausalitytests(data[[r, c]], maxlag=maxlag, verbose=False)\n",
    "            p_values = [round(test_result[i+1][0][test][1],4) for i in range(maxlag)]\n",
    "            if verbose: print(f'Y = {r}, X = {c}, P Values = {p_values}')\n",
    "            min_p_value = np.min(p_values)\n",
    "            df.loc[r, c] = min_p_value\n",
    "    df.columns = [var + '_x' for var in variables]\n",
    "    df.index = [var + '_y' for var in variables]\n",
    "    return df\n",
    "\n",
    "grangers_causation_matrix(trips_df, variables = trips_df.columns)"
   ]
  },
  {
   "cell_type": "markdown",
   "id": "94db3b7f",
   "metadata": {},
   "source": [
    "### Check stationarity"
   ]
  },
  {
   "cell_type": "code",
   "execution_count": 24,
   "id": "c4852029",
   "metadata": {},
   "outputs": [],
   "source": [
    "def adfuller_test(series, signif=0.05, name='', verbose=False):\n",
    "    \"\"\"Perform ADFuller to test for Stationarity of given series and print report\"\"\"\n",
    "    r = adfuller(series, autolag='AIC')\n",
    "    output = {'test_statistic':round(r[0], 4), 'pvalue':round(r[1], 4), 'n_lags':round(r[2], 4), 'n_obs':r[3]}\n",
    "    p_value = output['pvalue'] \n",
    "    def adjust(val, length= 6): return str(val).ljust(length)\n",
    "\n",
    "    # Print Summary\n",
    "    print(f'    Augmented Dickey-Fuller Test on \"{name}\"', \"\\n   \", '-'*47)\n",
    "    print(f' Null Hypothesis: Data has unit root. Non-Stationary.')\n",
    "    print(f' Significance Level    = {signif}')\n",
    "    print(f' Test Statistic        = {output[\"test_statistic\"]}')\n",
    "    print(f' No. Lags Chosen       = {output[\"n_lags\"]}')\n",
    "\n",
    "    for key,val in r[4].items():\n",
    "        print(f' Critical value {adjust(key)} = {round(val, 3)}')\n",
    "\n",
    "    if p_value <= signif:\n",
    "        print(f\" => P-Value = {p_value}. Rejecting Null Hypothesis.\")\n",
    "        print(f\" => Series is Stationary.\")\n",
    "    else:\n",
    "        print(f\" => P-Value = {p_value}. Weak evidence to reject the Null Hypothesis.\")\n",
    "        print(f\" => Series is Non-Stationary.\")"
   ]
  },
  {
   "cell_type": "code",
   "execution_count": 25,
   "id": "fc58a66e",
   "metadata": {},
   "outputs": [
    {
     "name": "stdout",
     "output_type": "stream",
     "text": [
      "    Augmented Dickey-Fuller Test on \"\" \n",
      "    -----------------------------------------------\n",
      " Null Hypothesis: Data has unit root. Non-Stationary.\n",
      " Significance Level    = 0.05\n",
      " Test Statistic        = -1.3798\n",
      " No. Lags Chosen       = 4\n",
      " Critical value 1%     = -3.519\n",
      " Critical value 5%     = -2.9\n",
      " Critical value 10%    = -2.587\n",
      " => P-Value = 0.5919. Weak evidence to reject the Null Hypothesis.\n",
      " => Series is Non-Stationary.\n"
     ]
    }
   ],
   "source": [
    "adfuller_test(trips_df['Viajes'])"
   ]
  },
  {
   "cell_type": "code",
   "execution_count": 28,
   "id": "4d29562c",
   "metadata": {},
   "outputs": [
    {
     "name": "stdout",
     "output_type": "stream",
     "text": [
      "    Augmented Dickey-Fuller Test on \"\" \n",
      "    -----------------------------------------------\n",
      " Null Hypothesis: Data has unit root. Non-Stationary.\n",
      " Significance Level    = 0.05\n",
      " Test Statistic        = 0.6251\n",
      " No. Lags Chosen       = 6\n",
      " Critical value 1%     = -3.522\n",
      " Critical value 5%     = -2.901\n",
      " Critical value 10%    = -2.588\n",
      " => P-Value = 0.9882. Weak evidence to reject the Null Hypothesis.\n",
      " => Series is Non-Stationary.\n"
     ]
    }
   ],
   "source": [
    "adfuller_test(trips_df['ine_trips'])"
   ]
  },
  {
   "cell_type": "code",
   "execution_count": 29,
   "id": "b5c49461",
   "metadata": {},
   "outputs": [],
   "source": [
    "trips_df_differenced = trips_df.diff().dropna()"
   ]
  },
  {
   "cell_type": "code",
   "execution_count": 30,
   "id": "3733c208",
   "metadata": {},
   "outputs": [
    {
     "name": "stdout",
     "output_type": "stream",
     "text": [
      "    Augmented Dickey-Fuller Test on \"\" \n",
      "    -----------------------------------------------\n",
      " Null Hypothesis: Data has unit root. Non-Stationary.\n",
      " Significance Level    = 0.05\n",
      " Test Statistic        = -9.0413\n",
      " No. Lags Chosen       = 3\n",
      " Critical value 1%     = -3.519\n",
      " Critical value 5%     = -2.9\n",
      " Critical value 10%    = -2.587\n",
      " => P-Value = 0.0. Rejecting Null Hypothesis.\n",
      " => Series is Stationary.\n"
     ]
    }
   ],
   "source": [
    "adfuller_test(trips_df_differenced['Viajes'])"
   ]
  },
  {
   "cell_type": "code",
   "execution_count": 31,
   "id": "d02a467a",
   "metadata": {
    "scrolled": true
   },
   "outputs": [
    {
     "name": "stdout",
     "output_type": "stream",
     "text": [
      "    Augmented Dickey-Fuller Test on \"\" \n",
      "    -----------------------------------------------\n",
      " Null Hypothesis: Data has unit root. Non-Stationary.\n",
      " Significance Level    = 0.05\n",
      " Test Statistic        = -14.2264\n",
      " No. Lags Chosen       = 5\n",
      " Critical value 1%     = -3.522\n",
      " Critical value 5%     = -2.901\n",
      " Critical value 10%    = -2.588\n",
      " => P-Value = 0.0. Rejecting Null Hypothesis.\n",
      " => Series is Stationary.\n"
     ]
    }
   ],
   "source": [
    "adfuller_test(trips_df_differenced['ine_trips'])"
   ]
  },
  {
   "cell_type": "markdown",
   "id": "83b3dce3",
   "metadata": {},
   "source": [
    "### Select order for VAR Model"
   ]
  },
  {
   "cell_type": "code",
   "execution_count": 32,
   "id": "c51feff9",
   "metadata": {},
   "outputs": [
    {
     "data": {
      "text/plain": [
       "Index(['Viajes', 'ine_trips'], dtype='object')"
      ]
     },
     "execution_count": 32,
     "metadata": {},
     "output_type": "execute_result"
    }
   ],
   "source": [
    "trips_df_differenced.columns"
   ]
  },
  {
   "cell_type": "code",
   "execution_count": 33,
   "id": "ab45de54",
   "metadata": {},
   "outputs": [
    {
     "name": "stderr",
     "output_type": "stream",
     "text": [
      "C:\\Users\\ucam\\anaconda3\\envs\\mobility_env\\lib\\site-packages\\statsmodels\\tsa\\base\\tsa_model.py:524: ValueWarning: No frequency information was provided, so inferred frequency D will be used.\n",
      "  warnings.warn('No frequency information was'\n"
     ]
    }
   ],
   "source": [
    "model = VAR(trips_df_differenced)"
   ]
  },
  {
   "cell_type": "code",
   "execution_count": 34,
   "id": "a7e05290",
   "metadata": {},
   "outputs": [
    {
     "data": {
      "text/html": [
       "<table class=\"simpletable\">\n",
       "<caption>VAR Order Selection (* highlights the minimums)</caption>\n",
       "<tr>\n",
       "   <td></td>      <th>AIC</th>         <th>BIC</th>         <th>FPE</th>        <th>HQIC</th>    \n",
       "</tr>\n",
       "<tr>\n",
       "  <th>0</th>  <td>     38.92</td>  <td>     38.99</td>  <td> 8.015e+16</td>  <td>     38.95</td> \n",
       "</tr>\n",
       "<tr>\n",
       "  <th>1</th>  <td>     38.97</td>  <td>     39.16</td>  <td> 8.371e+16</td>  <td>     39.04</td> \n",
       "</tr>\n",
       "<tr>\n",
       "  <th>2</th>  <td>     38.79</td>  <td>     39.11</td>  <td> 6.991e+16</td>  <td>     38.91</td> \n",
       "</tr>\n",
       "<tr>\n",
       "  <th>3</th>  <td>     38.66</td>  <td>     39.11</td>  <td> 6.160e+16</td>  <td>     38.84</td> \n",
       "</tr>\n",
       "<tr>\n",
       "  <th>4</th>  <td>     38.50</td>  <td>     39.09</td>  <td> 5.282e+16</td>  <td>     38.74</td> \n",
       "</tr>\n",
       "<tr>\n",
       "  <th>5</th>  <td>     38.09</td>  <td>     38.81</td>  <td> 3.523e+16</td>  <td>     38.38</td> \n",
       "</tr>\n",
       "<tr>\n",
       "  <th>6</th>  <td>     37.61</td>  <td>     38.46*</td> <td> 2.175e+16</td>  <td>     37.95*</td>\n",
       "</tr>\n",
       "<tr>\n",
       "  <th>7</th>  <td>     37.57*</td> <td>     38.55</td>  <td> 2.104e+16*</td> <td>     37.96</td> \n",
       "</tr>\n",
       "<tr>\n",
       "  <th>8</th>  <td>     37.65</td>  <td>     38.76</td>  <td> 2.288e+16</td>  <td>     38.09</td> \n",
       "</tr>\n",
       "<tr>\n",
       "  <th>9</th>  <td>     37.71</td>  <td>     38.95</td>  <td> 2.464e+16</td>  <td>     38.20</td> \n",
       "</tr>\n",
       "<tr>\n",
       "  <th>10</th> <td>     37.77</td>  <td>     39.14</td>  <td> 2.649e+16</td>  <td>     38.32</td> \n",
       "</tr>\n",
       "<tr>\n",
       "  <th>11</th> <td>     37.75</td>  <td>     39.25</td>  <td> 2.615e+16</td>  <td>     38.34</td> \n",
       "</tr>\n",
       "<tr>\n",
       "  <th>12</th> <td>     37.76</td>  <td>     39.40</td>  <td> 2.702e+16</td>  <td>     38.41</td> \n",
       "</tr>\n",
       "</table>"
      ],
      "text/plain": [
       "<class 'statsmodels.iolib.table.SimpleTable'>"
      ]
     },
     "execution_count": 34,
     "metadata": {},
     "output_type": "execute_result"
    }
   ],
   "source": [
    "x = model.select_order(maxlags=12)\n",
    "x.summary()"
   ]
  },
  {
   "cell_type": "markdown",
   "id": "52e06b7b",
   "metadata": {},
   "source": [
    "Best lag is set to 7 days"
   ]
  },
  {
   "cell_type": "code",
   "execution_count": 35,
   "id": "1aca6222",
   "metadata": {},
   "outputs": [
    {
     "data": {
      "text/plain": [
       "  Summary of Regression Results   \n",
       "==================================\n",
       "Model:                         VAR\n",
       "Method:                        OLS\n",
       "Date:           Tue, 21, Sep, 2021\n",
       "Time:                     10:19:57\n",
       "--------------------------------------------------------------------\n",
       "No. of Equations:         2.00000    BIC:                    38.5584\n",
       "Nobs:                     73.0000    HQIC:                   37.9923\n",
       "Log likelihood:          -1550.19    FPE:                2.19827e+16\n",
       "AIC:                      37.6172    Det(Omega_mle):     1.51273e+16\n",
       "--------------------------------------------------------------------\n",
       "Results for equation Viajes\n",
       "===============================================================================\n",
       "                  coefficient       std. error           t-stat            prob\n",
       "-------------------------------------------------------------------------------\n",
       "const              125.147282        54.893716            2.280           0.023\n",
       "L1.Viajes           -0.733587         0.131761           -5.568           0.000\n",
       "L1.ine_trips        -0.000157         0.000134           -1.174           0.241\n",
       "L2.Viajes           -0.590284         0.177816           -3.320           0.001\n",
       "L2.ine_trips        -0.000296         0.000139           -2.127           0.033\n",
       "L3.Viajes           -0.347303         0.205674           -1.689           0.091\n",
       "L3.ine_trips        -0.000207         0.000150           -1.381           0.167\n",
       "L4.Viajes           -0.102667         0.209633           -0.490           0.624\n",
       "L4.ine_trips        -0.000222         0.000146           -1.525           0.127\n",
       "L5.Viajes            0.089681         0.185456            0.484           0.629\n",
       "L5.ine_trips        -0.000484         0.000146           -3.307           0.001\n",
       "L6.Viajes            0.154981         0.146558            1.057           0.290\n",
       "L6.ine_trips        -0.000367         0.000150           -2.452           0.014\n",
       "L7.Viajes            0.124488         0.100259            1.242           0.214\n",
       "L7.ine_trips        -0.000189         0.000143           -1.328           0.184\n",
       "===============================================================================\n",
       "\n",
       "Results for equation ine_trips\n",
       "===============================================================================\n",
       "                  coefficient       std. error           t-stat            prob\n",
       "-------------------------------------------------------------------------------\n",
       "const           125577.684865     50618.861963            2.481           0.013\n",
       "L1.Viajes          220.590187       121.500399            1.816           0.069\n",
       "L1.ine_trips        -0.630713         0.123608           -5.103           0.000\n",
       "L2.Viajes          435.479756       163.968257            2.656           0.008\n",
       "L2.ine_trips        -0.782535         0.128280           -6.100           0.000\n",
       "L3.Viajes          399.753146       189.657127            2.108           0.035\n",
       "L3.ine_trips        -0.748492         0.138508           -5.404           0.000\n",
       "L4.Viajes          538.418232       193.308047            2.785           0.005\n",
       "L4.ine_trips        -0.722902         0.134400           -5.379           0.000\n",
       "L5.Viajes          472.486589       171.013737            2.763           0.006\n",
       "L5.ine_trips        -0.831528         0.134848           -6.166           0.000\n",
       "L6.Viajes          389.148646       135.145141            2.879           0.004\n",
       "L6.ine_trips        -0.664228         0.138148           -4.808           0.000\n",
       "L7.Viajes          230.775599        92.451018            2.496           0.013\n",
       "L7.ine_trips         0.123596         0.131576            0.939           0.348\n",
       "===============================================================================\n",
       "\n",
       "Correlation matrix of residuals\n",
       "               Viajes  ine_trips\n",
       "Viajes       1.000000   0.169169\n",
       "ine_trips    0.169169   1.000000\n",
       "\n"
      ]
     },
     "execution_count": 35,
     "metadata": {},
     "output_type": "execute_result"
    }
   ],
   "source": [
    "model_fitted = model.fit(7)\n",
    "model_fitted.summary()"
   ]
  },
  {
   "cell_type": "markdown",
   "id": "8538db9b",
   "metadata": {},
   "source": [
    "### Forecast test"
   ]
  },
  {
   "cell_type": "code",
   "execution_count": 36,
   "id": "c2936298",
   "metadata": {},
   "outputs": [],
   "source": [
    "def mape(actual, pred): \n",
    "    actual, pred = np.array(actual), np.array(pred)\n",
    "    return np.mean(np.abs((actual - pred) / actual)) * 100\n",
    "\n",
    "\n",
    "def compute_metrics_fn(y_valid, y_hat):\n",
    "    mae_ = mean_absolute_error(y_valid, y_hat)\n",
    "    mse_ = mean_squared_error(y_valid, y_hat)\n",
    "    rmse_ = mean_squared_error(y_valid, y_hat, squared = False)\n",
    "    cvrmse_ = rmse_/np.mean(y_valid)*100 # it is a percentage\n",
    "    mape_ = mape(y_valid, y_hat)\n",
    "    \n",
    "    return mae_, mse_, rmse_, cvrmse_, mape_"
   ]
  },
  {
   "cell_type": "code",
   "execution_count": 37,
   "id": "2d78ebac",
   "metadata": {},
   "outputs": [
    {
     "data": {
      "text/plain": [
       "(81, 2)"
      ]
     },
     "execution_count": 37,
     "metadata": {},
     "output_type": "execute_result"
    }
   ],
   "source": [
    "trips_df.shape"
   ]
  },
  {
   "cell_type": "code",
   "execution_count": 38,
   "id": "93df0a5d",
   "metadata": {
    "scrolled": true
   },
   "outputs": [
    {
     "name": "stderr",
     "output_type": "stream",
     "text": [
      "C:\\Users\\ucam\\anaconda3\\envs\\mobility_env\\lib\\site-packages\\statsmodels\\tsa\\base\\tsa_model.py:524: ValueWarning: No frequency information was provided, so inferred frequency D will be used.\n",
      "  warnings.warn('No frequency information was'\n",
      "C:\\Users\\ucam\\anaconda3\\envs\\mobility_env\\lib\\site-packages\\statsmodels\\tsa\\base\\tsa_model.py:524: ValueWarning: No frequency information was provided, so inferred frequency D will be used.\n",
      "  warnings.warn('No frequency information was'\n",
      "C:\\Users\\ucam\\anaconda3\\envs\\mobility_env\\lib\\site-packages\\statsmodels\\tsa\\base\\tsa_model.py:524: ValueWarning: No frequency information was provided, so inferred frequency D will be used.\n",
      "  warnings.warn('No frequency information was'\n",
      "C:\\Users\\ucam\\anaconda3\\envs\\mobility_env\\lib\\site-packages\\statsmodels\\tsa\\base\\tsa_model.py:524: ValueWarning: No frequency information was provided, so inferred frequency D will be used.\n",
      "  warnings.warn('No frequency information was'\n",
      "C:\\Users\\ucam\\anaconda3\\envs\\mobility_env\\lib\\site-packages\\statsmodels\\tsa\\base\\tsa_model.py:524: ValueWarning: No frequency information was provided, so inferred frequency D will be used.\n",
      "  warnings.warn('No frequency information was'\n",
      "C:\\Users\\ucam\\anaconda3\\envs\\mobility_env\\lib\\site-packages\\statsmodels\\tsa\\base\\tsa_model.py:524: ValueWarning: No frequency information was provided, so inferred frequency D will be used.\n",
      "  warnings.warn('No frequency information was'\n",
      "C:\\Users\\ucam\\anaconda3\\envs\\mobility_env\\lib\\site-packages\\statsmodels\\tsa\\base\\tsa_model.py:524: ValueWarning: No frequency information was provided, so inferred frequency D will be used.\n",
      "  warnings.warn('No frequency information was'\n",
      "C:\\Users\\ucam\\anaconda3\\envs\\mobility_env\\lib\\site-packages\\statsmodels\\tsa\\base\\tsa_model.py:524: ValueWarning: No frequency information was provided, so inferred frequency D will be used.\n",
      "  warnings.warn('No frequency information was'\n",
      "C:\\Users\\ucam\\anaconda3\\envs\\mobility_env\\lib\\site-packages\\statsmodels\\tsa\\base\\tsa_model.py:524: ValueWarning: No frequency information was provided, so inferred frequency D will be used.\n",
      "  warnings.warn('No frequency information was'\n",
      "C:\\Users\\ucam\\anaconda3\\envs\\mobility_env\\lib\\site-packages\\statsmodels\\tsa\\base\\tsa_model.py:524: ValueWarning: No frequency information was provided, so inferred frequency D will be used.\n",
      "  warnings.warn('No frequency information was'\n",
      "C:\\Users\\ucam\\anaconda3\\envs\\mobility_env\\lib\\site-packages\\statsmodels\\tsa\\base\\tsa_model.py:524: ValueWarning: No frequency information was provided, so inferred frequency D will be used.\n",
      "  warnings.warn('No frequency information was'\n",
      "C:\\Users\\ucam\\anaconda3\\envs\\mobility_env\\lib\\site-packages\\statsmodels\\tsa\\base\\tsa_model.py:524: ValueWarning: No frequency information was provided, so inferred frequency D will be used.\n",
      "  warnings.warn('No frequency information was'\n",
      "C:\\Users\\ucam\\anaconda3\\envs\\mobility_env\\lib\\site-packages\\statsmodels\\tsa\\base\\tsa_model.py:524: ValueWarning: No frequency information was provided, so inferred frequency D will be used.\n",
      "  warnings.warn('No frequency information was'\n",
      "C:\\Users\\ucam\\anaconda3\\envs\\mobility_env\\lib\\site-packages\\statsmodels\\tsa\\base\\tsa_model.py:524: ValueWarning: No frequency information was provided, so inferred frequency D will be used.\n",
      "  warnings.warn('No frequency information was'\n"
     ]
    }
   ],
   "source": [
    "ine_true = []\n",
    "ine_hat = []\n",
    "for i in range(60, 81-7):\n",
    "    X= trips_df.iloc[0:i]\n",
    "    X_differenced = X.diff().dropna()\n",
    "    \n",
    "    y =trips_df.iloc[i:i+7]\n",
    "    y_true_ine = [v[1] for v in y.values]\n",
    "    \n",
    "    model = VAR(X_differenced.iloc[:-7])\n",
    "    model_fitted = model.fit(7)\n",
    "    #print(len(X_differenced.iloc[-7:]))\n",
    "    y_hat = model_fitted.forecast(y=X_differenced.values[-7:], steps=7)\n",
    "    #print(y_hat)\n",
    "    \n",
    "    df_forecast = pd.DataFrame(y_hat, index=trips_df.iloc[i:i+7].index, columns=trips_df.columns + '_1d')\n",
    "\n",
    "    columns = trips_df.columns\n",
    "    for col in columns:  \n",
    "        df_forecast[str(col)+'_forecast'] = X[col].iloc[-1] + df_forecast[str(col)+'_1d'].cumsum()\n",
    "\n",
    "    #print(X.iloc[-1],df_forecast, trips_df.iloc[i:i+7])\n",
    "    y_hat_ine = list(df_forecast['ine_trips_forecast'].values)\n",
    "    \n",
    "    ine_true = ine_true + y_true_ine\n",
    "    ine_hat = ine_hat + y_hat_ine\n",
    "    #print(y_hat, y, y_true_ine, y_hat_ine)"
   ]
  },
  {
   "cell_type": "code",
   "execution_count": 39,
   "id": "5620e96d",
   "metadata": {},
   "outputs": [
    {
     "name": "stdout",
     "output_type": "stream",
     "text": [
      "Resultado del test : 235749.81 MAE\n",
      "Resultado del test: 97777707905.58 MSE\n",
      "Resultado del test: 312694.27 RMSE\n",
      "Resultado del test: 6.63 CVRMSE\n",
      "Resultado del test: 5.30 MAPE \n",
      "\n"
     ]
    }
   ],
   "source": [
    "testScore_MAE, testScore_MSE, testScore_RMSE, testScore_CVRMSE, testScore_MAPE  =  compute_metrics_fn(ine_true, ine_hat)\n",
    "\n",
    "print('Resultado del test : %.2f MAE' % ( testScore_MAE))\n",
    "print('Resultado del test: %.2f MSE' % ( testScore_MSE))\n",
    "print('Resultado del test: %.2f RMSE' %  (testScore_RMSE))\n",
    "print('Resultado del test: %.2f CVRMSE' % ( testScore_CVRMSE))\n",
    "print('Resultado del test: %.2f MAPE \\n' % (testScore_MAPE))"
   ]
  },
  {
   "cell_type": "code",
   "execution_count": 40,
   "id": "5ccef7db",
   "metadata": {
    "scrolled": true
   },
   "outputs": [
    {
     "name": "stdout",
     "output_type": "stream",
     "text": [
      "Resultado del test dia 0: 223542.01 MAE\n",
      "Resultado del test dia 0: 92270567180.31 MSE\n",
      "Resultado del test dia 0: 303760.71 RMSE\n",
      "Resultado del test dia 0: 6.56 CVRMSE\n",
      "Resultado del test dia 0: 5.12 MAPE \n",
      "\n",
      "Resultado del test dia 1: 214387.75 MAE\n",
      "Resultado del test dia 1: 86605605926.80 MSE\n",
      "Resultado del test dia 1: 294288.30 RMSE\n",
      "Resultado del test dia 1: 6.31 CVRMSE\n",
      "Resultado del test dia 1: 4.92 MAPE \n",
      "\n",
      "Resultado del test dia 2: 218060.16 MAE\n",
      "Resultado del test dia 2: 85147746194.65 MSE\n",
      "Resultado del test dia 2: 291800.87 RMSE\n",
      "Resultado del test dia 2: 6.22 CVRMSE\n",
      "Resultado del test dia 2: 4.88 MAPE \n",
      "\n",
      "Resultado del test dia 3: 231786.69 MAE\n",
      "Resultado del test dia 3: 95895030886.49 MSE\n",
      "Resultado del test dia 3: 309669.23 RMSE\n",
      "Resultado del test dia 3: 6.57 CVRMSE\n",
      "Resultado del test dia 3: 5.17 MAPE \n",
      "\n",
      "Resultado del test dia 4: 259810.93 MAE\n",
      "Resultado del test dia 4: 108208947972.29 MSE\n",
      "Resultado del test dia 4: 328951.29 RMSE\n",
      "Resultado del test dia 4: 6.94 CVRMSE\n",
      "Resultado del test dia 4: 5.81 MAPE \n",
      "\n",
      "Resultado del test dia 5: 249436.74 MAE\n",
      "Resultado del test dia 5: 107785938178.77 MSE\n",
      "Resultado del test dia 5: 328307.69 RMSE\n",
      "Resultado del test dia 5: 6.87 CVRMSE\n",
      "Resultado del test dia 5: 5.57 MAPE \n",
      "\n",
      "Resultado del test dia 6: 253224.38 MAE\n",
      "Resultado del test dia 6: 108530118999.72 MSE\n",
      "Resultado del test dia 6: 329439.10 RMSE\n",
      "Resultado del test dia 6: 6.85 CVRMSE\n",
      "Resultado del test dia 6: 5.65 MAPE \n",
      "\n"
     ]
    }
   ],
   "source": [
    "for i in range(0,7):\n",
    "    y_true = ine_true[i::7]\n",
    "    y_hat = ine_hat[i::7]\n",
    "    testScore_MAE, testScore_MSE, testScore_RMSE, testScore_CVRMSE, testScore_MAPE  =  compute_metrics_fn(y_true, y_hat)\n",
    "\n",
    "    print('Resultado del test dia %d: %.2f MAE' % (i, testScore_MAE))\n",
    "    print('Resultado del test dia %d: %.2f MSE' % (i, testScore_MSE))\n",
    "    print('Resultado del test dia %d: %.2f RMSE' % (i, testScore_RMSE))\n",
    "    print('Resultado del test dia %d: %.2f CVRMSE' % (i, testScore_CVRMSE))\n",
    "    print('Resultado del test dia %d: %.2f MAPE \\n' % (i, testScore_MAPE))"
   ]
  },
  {
   "cell_type": "markdown",
   "id": "06dd0e00",
   "metadata": {},
   "source": [
    "### Generate plot"
   ]
  },
  {
   "cell_type": "code",
   "execution_count": 43,
   "id": "ad3eb8f2",
   "metadata": {},
   "outputs": [
    {
     "data": {
      "text/plain": [
       "56"
      ]
     },
     "execution_count": 43,
     "metadata": {},
     "output_type": "execute_result"
    }
   ],
   "source": [
    "n_samples_train = int(trips_df.shape[0]*0.7)\n",
    "n_samples_train"
   ]
  },
  {
   "cell_type": "code",
   "execution_count": 44,
   "id": "4e0b10f8",
   "metadata": {},
   "outputs": [
    {
     "name": "stderr",
     "output_type": "stream",
     "text": [
      "C:\\Users\\ucam\\anaconda3\\envs\\mobility_env\\lib\\site-packages\\statsmodels\\tsa\\base\\tsa_model.py:524: ValueWarning: No frequency information was provided, so inferred frequency D will be used.\n",
      "  warnings.warn('No frequency information was'\n"
     ]
    }
   ],
   "source": [
    "X= trips_df.iloc[0:n_samples_train]\n",
    "X_differenced = X.diff().dropna()\n",
    "model = VAR(X_differenced.iloc[:-7])\n",
    "model_fitted = model.fit()"
   ]
  },
  {
   "cell_type": "code",
   "execution_count": 55,
   "id": "801487d8",
   "metadata": {},
   "outputs": [],
   "source": [
    "ine_true_train = []\n",
    "ine_hat_train = []\n",
    "look_back=7\n",
    "for i in range(look_back, n_samples_train):\n",
    "    X= trips_df.iloc[i-look_back:i]\n",
    "    X_differenced = X.diff().dropna()\n",
    "    \n",
    "    y =trips_df.iloc[i+1]\n",
    "    y_true_ine = y[1]#[v[1] for v in y.values]\n",
    "    \n",
    "    y_hat = model_fitted.forecast(y=X_differenced.values[-7:], steps=1)\n",
    "    df_forecast = pd.DataFrame(y_hat, index=trips_df.iloc[i:i+1].index, columns=trips_df.columns + '_1d')\n",
    "\n",
    "    columns = trips_df.columns\n",
    "    for col in columns:  \n",
    "        df_forecast[str(col)+'_forecast'] = X[col].iloc[-1] + df_forecast[str(col)+'_1d'].cumsum()\n",
    "\n",
    "    y_hat_ine = list(df_forecast['ine_trips_forecast'].values)\n",
    "    #print(y_true_ine, y_hat_ine)\n",
    "    ine_true_train = ine_true_train + y_true_ine\n",
    "    ine_hat_train = ine_hat_train + y_hat_ine"
   ]
  },
  {
   "cell_type": "code",
   "execution_count": 57,
   "id": "568ae7f6",
   "metadata": {},
   "outputs": [],
   "source": [
    "ine_true_test = []\n",
    "ine_hat_test = []\n",
    "look_back=7\n",
    "for i in range(n_samples_train, 81-look_back):\n",
    "    X= trips_df.iloc[i-look_back:i]\n",
    "    X_differenced = X.diff().dropna()\n",
    "    \n",
    "    y =trips_df.iloc[i+1]\n",
    "    y_true_ine = y[1]#[v[1] for v in y.values]\n",
    "    \n",
    "    y_hat = model_fitted.forecast(y=X_differenced.values[-7:], steps=1)\n",
    "    df_forecast = pd.DataFrame(y_hat, index=trips_df.iloc[i:i+1].index, columns=trips_df.columns + '_1d')\n",
    "    \n",
    "    columns = trips_df.columns\n",
    "    for col in columns:  \n",
    "        df_forecast[str(col)+'_forecast'] = X[col].iloc[-1] + df_forecast[str(col)+'_1d'].cumsum()\n",
    "\n",
    "    y_hat_ine = list(df_forecast['ine_trips_forecast'].values)\n",
    "    #print(y_true_ine, y_hat_ine)\n",
    "    ine_true_test = ine_true_test + y_true_ine\n",
    "    ine_hat_test = ine_hat_test + y_hat_ine"
   ]
  },
  {
   "cell_type": "code",
   "execution_count": 58,
   "id": "0f31aec0",
   "metadata": {},
   "outputs": [
    {
     "data": {
      "text/plain": [
       "81"
      ]
     },
     "execution_count": 58,
     "metadata": {},
     "output_type": "execute_result"
    }
   ],
   "source": [
    "len(trips_df['ine_trips'].astype(float))"
   ]
  },
  {
   "cell_type": "code",
   "execution_count": 59,
   "id": "a45c79c0",
   "metadata": {},
   "outputs": [],
   "source": [
    "ine_trips = trips_df['ine_trips'].astype(float)"
   ]
  },
  {
   "cell_type": "code",
   "execution_count": 60,
   "id": "9da9d3f8",
   "metadata": {},
   "outputs": [
    {
     "data": {
      "image/png": "[encoded data removed]",
      "text/plain": [
       "<Figure size 432x288 with 1 Axes>"
      ]
     },
     "metadata": {
      "needs_background": "light"
     },
     "output_type": "display_data"
    }
   ],
   "source": [
    "# predicciones del entrenamiento de cambio para plotear\n",
    "trainPredictPlot = np.empty_like(ine_trips)\n",
    "trainPredictPlot[:] = np.nan\n",
    "#trainPredictPlot[look_back+1:n_samples_train+1] = ine_hat_train\n",
    "trainPredictPlot[:n_samples_train-look_back] = ine_hat_train\n",
    "# predicciones del test de cambio para plotear\n",
    "testPredictPlot = np.empty_like(ine_trips)\n",
    "testPredictPlot[:] = np.nan\n",
    "#testPredictPlot[n_samples_train+1:len(ine_trips)-look_back+1] = ine_hat_test\n",
    "testPredictPlot[n_samples_train-1:len(ine_trips)-(look_back)-1] = ine_hat_test\n",
    "# plot baseline and predictions\n",
    "plt.plot(trips_df['ine_trips'].values)\n",
    "# ploteamos linea base y predicciones\n",
    "plt.plot(trainPredictPlot,'r', linewidth = 2)\n",
    "plt.plot(testPredictPlot,'m', linewidth = 2)\n",
    "plt.legend( ('Raw trips', 'Training data prediction', 'Test data prediction'), loc = 'upper left')\n",
    "plt.grid(True)\n",
    "#plt.title(\"Viajes totales\", fontsize = 15)\n",
    "plt.xlabel(\"Time (days)\", fontsize = 10)\n",
    "plt.ylabel(\"Number of trips (in thousands)\", fontsize = 10)\n",
    "plt.tight_layout()\n",
    "plt.savefig('var_ine_twt_pred.png')\n",
    "plt.show()"
   ]
  },
  {
   "cell_type": "code",
   "execution_count": null,
   "id": "9510b90d",
   "metadata": {},
   "outputs": [],
   "source": [
    "print(\"That's all folks!\")"
   ]
  }
 ],
 "metadata": {
  "kernelspec": {
   "display_name": "Python 3 (ipykernel)",
   "language": "python",
   "name": "python3"
  },
  "language_info": {
   "codemirror_mode": {
    "name": "ipython",
    "version": 3
   },
   "file_extension": ".py",
   "mimetype": "text/x-python",
   "name": "python",
   "nbconvert_exporter": "python",
   "pygments_lexer": "ipython3",
   "version": "3.8.11"
  }
 },
 "nbformat": 4,
 "nbformat_minor": 5
}
