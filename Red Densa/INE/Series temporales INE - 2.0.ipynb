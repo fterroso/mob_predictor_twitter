{
 "cells": [
  {
   "cell_type": "code",
   "execution_count": 1,
   "metadata": {},
   "outputs": [],
   "source": [
    "import pandas as pd\n",
    "import numpy as np\n",
    "from tqdm import tqdm_notebook\n",
    "import os\n",
    "import math\n",
    "from sklearn.metrics import mean_squared_error, mean_absolute_error\n",
    "from sklearn.preprocessing import MinMaxScaler\n",
    "from keras.models import Sequential\n",
    "from keras.layers import Dense,Activation,Flatten,Dropout\n",
    "\n",
    "import matplotlib.pyplot as plt\n",
    "%matplotlib inline\n",
    "\n",
    "import warnings\n",
    "warnings.filterwarnings(\"ignore\")\n",
    "\n",
    "import datetime\n",
    "from datetime import date, timedelta\n",
    "e_date = datetime.datetime.strptime('2020-06-20', '%Y-%m-%d')\n",
    "i_date = datetime.datetime.strptime('2020-04-01', '%Y-%m-%d')\n",
    "\n",
    "data_path = 'D:/universidad/universidad 4/TFG/recursos para el desarrollo/datos procesados/OD'"
   ]
  },
  {
   "cell_type": "code",
   "execution_count": 2,
   "metadata": {},
   "outputs": [],
   "source": [
    "delta = e_date - i_date\n",
    "\n",
    "target_days = []\n",
    "for i in range(delta.days + 1):\n",
    "    day = i_date + timedelta(days=i)\n",
    "    target_days.append(day)"
   ]
  },
  {
   "cell_type": "code",
   "execution_count": 3,
   "metadata": {},
   "outputs": [],
   "source": [
    "def read_OD_fn(source_type):\n",
    "    ods = {}\n",
    "    for date in tqdm_notebook(target_days):\n",
    "        od_date= pd.read_csv(os.path.join(data_path, 'date_{}_OD_{}.csv'.format(source_type,date.strftime('%Y-%m-%d'))), \n",
    "                            index_col=0)\n",
    "        ods[date] = od_date\n",
    "    return ods"
   ]
  },
  {
   "cell_type": "code",
   "execution_count": 4,
   "metadata": {},
   "outputs": [
    {
     "data": {
      "application/vnd.jupyter.widget-view+json": {
       "model_id": "ecbdc010e66a44e4a25c7a1b068f8606",
       "version_major": 2,
       "version_minor": 0
      },
      "text/plain": [
       "  0%|          | 0/81 [00:00<?, ?it/s]"
      ]
     },
     "metadata": {},
     "output_type": "display_data"
    }
   ],
   "source": [
    "ine_ods = read_OD_fn('INE')"
   ]
  },
  {
   "cell_type": "markdown",
   "metadata": {},
   "source": [
    "# Serializar los datos"
   ]
  },
  {
   "cell_type": "code",
   "execution_count": 5,
   "metadata": {
    "scrolled": true
   },
   "outputs": [
    {
     "data": {
      "application/vnd.jupyter.widget-view+json": {
       "model_id": "45c2c830871e46ac846195c62e9b4dd4",
       "version_major": 2,
       "version_minor": 0
      },
      "text/plain": [
       "  0%|          | 0/81 [00:00<?, ?it/s]"
      ]
     },
     "metadata": {},
     "output_type": "display_data"
    }
   ],
   "source": [
    "lista = []\n",
    "\n",
    "for date in tqdm_notebook(target_days):\n",
    "    lista.append(ine_ods[date].loc['total','total'])\n",
    "    \n",
    "del ine_ods"
   ]
  },
  {
   "cell_type": "code",
   "execution_count": 6,
   "metadata": {
    "scrolled": true
   },
   "outputs": [],
   "source": [
    "df = pd.DataFrame (lista, columns = ['Viajes'], index= target_days)"
   ]
  },
  {
   "cell_type": "code",
   "execution_count": 7,
   "metadata": {},
   "outputs": [
    {
     "data": {
      "text/html": [
       "<div>\n",
       "<style scoped>\n",
       "    .dataframe tbody tr th:only-of-type {\n",
       "        vertical-align: middle;\n",
       "    }\n",
       "\n",
       "    .dataframe tbody tr th {\n",
       "        vertical-align: top;\n",
       "    }\n",
       "\n",
       "    .dataframe thead th {\n",
       "        text-align: right;\n",
       "    }\n",
       "</style>\n",
       "<table border=\"1\" class=\"dataframe\">\n",
       "  <thead>\n",
       "    <tr style=\"text-align: right;\">\n",
       "      <th></th>\n",
       "      <th>Viajes</th>\n",
       "    </tr>\n",
       "  </thead>\n",
       "  <tbody>\n",
       "    <tr>\n",
       "      <th>2020-04-01</th>\n",
       "      <td>2213123</td>\n",
       "    </tr>\n",
       "    <tr>\n",
       "      <th>2020-04-02</th>\n",
       "      <td>2254121</td>\n",
       "    </tr>\n",
       "    <tr>\n",
       "      <th>2020-04-03</th>\n",
       "      <td>2520095</td>\n",
       "    </tr>\n",
       "    <tr>\n",
       "      <th>2020-04-04</th>\n",
       "      <td>1934554</td>\n",
       "    </tr>\n",
       "    <tr>\n",
       "      <th>2020-04-05</th>\n",
       "      <td>1593385</td>\n",
       "    </tr>\n",
       "  </tbody>\n",
       "</table>\n",
       "</div>"
      ],
      "text/plain": [
       "             Viajes\n",
       "2020-04-01  2213123\n",
       "2020-04-02  2254121\n",
       "2020-04-03  2520095\n",
       "2020-04-04  1934554\n",
       "2020-04-05  1593385"
      ]
     },
     "execution_count": 7,
     "metadata": {},
     "output_type": "execute_result"
    }
   ],
   "source": [
    "df.head()"
   ]
  },
  {
   "cell_type": "markdown",
   "metadata": {},
   "source": [
    "# Visualización de datos"
   ]
  },
  {
   "cell_type": "code",
   "execution_count": 8,
   "metadata": {},
   "outputs": [
    {
     "name": "stdout",
     "output_type": "stream",
     "text": [
      "2020-04-01 00:00:00\n",
      "2020-06-20 00:00:00\n"
     ]
    }
   ],
   "source": [
    "print(df.index.min())\n",
    "print(df.index.max())"
   ]
  },
  {
   "cell_type": "code",
   "execution_count": 9,
   "metadata": {
    "scrolled": true
   },
   "outputs": [
    {
     "name": "stdout",
     "output_type": "stream",
     "text": [
      "81\n"
     ]
    }
   ],
   "source": [
    "print(len(df['2020']))"
   ]
  },
  {
   "cell_type": "code",
   "execution_count": 10,
   "metadata": {},
   "outputs": [
    {
     "data": {
      "text/html": [
       "<div>\n",
       "<style scoped>\n",
       "    .dataframe tbody tr th:only-of-type {\n",
       "        vertical-align: middle;\n",
       "    }\n",
       "\n",
       "    .dataframe tbody tr th {\n",
       "        vertical-align: top;\n",
       "    }\n",
       "\n",
       "    .dataframe thead th {\n",
       "        text-align: right;\n",
       "    }\n",
       "</style>\n",
       "<table border=\"1\" class=\"dataframe\">\n",
       "  <thead>\n",
       "    <tr style=\"text-align: right;\">\n",
       "      <th></th>\n",
       "      <th>Viajes</th>\n",
       "    </tr>\n",
       "  </thead>\n",
       "  <tbody>\n",
       "    <tr>\n",
       "      <th>count</th>\n",
       "      <td>8.100000e+01</td>\n",
       "    </tr>\n",
       "    <tr>\n",
       "      <th>mean</th>\n",
       "      <td>3.438222e+06</td>\n",
       "    </tr>\n",
       "    <tr>\n",
       "      <th>std</th>\n",
       "      <td>1.174931e+06</td>\n",
       "    </tr>\n",
       "    <tr>\n",
       "      <th>min</th>\n",
       "      <td>1.535886e+06</td>\n",
       "    </tr>\n",
       "    <tr>\n",
       "      <th>25%</th>\n",
       "      <td>2.488436e+06</td>\n",
       "    </tr>\n",
       "    <tr>\n",
       "      <th>50%</th>\n",
       "      <td>3.396402e+06</td>\n",
       "    </tr>\n",
       "    <tr>\n",
       "      <th>75%</th>\n",
       "      <td>4.445190e+06</td>\n",
       "    </tr>\n",
       "    <tr>\n",
       "      <th>max</th>\n",
       "      <td>5.519725e+06</td>\n",
       "    </tr>\n",
       "  </tbody>\n",
       "</table>\n",
       "</div>"
      ],
      "text/plain": [
       "             Viajes\n",
       "count  8.100000e+01\n",
       "mean   3.438222e+06\n",
       "std    1.174931e+06\n",
       "min    1.535886e+06\n",
       "25%    2.488436e+06\n",
       "50%    3.396402e+06\n",
       "75%    4.445190e+06\n",
       "max    5.519725e+06"
      ]
     },
     "execution_count": 10,
     "metadata": {},
     "output_type": "execute_result"
    }
   ],
   "source": [
    "df.describe()"
   ]
  },
  {
   "cell_type": "code",
   "execution_count": 11,
   "metadata": {},
   "outputs": [
    {
     "data": {
      "text/html": [
       "<div>\n",
       "<style scoped>\n",
       "    .dataframe tbody tr th:only-of-type {\n",
       "        vertical-align: middle;\n",
       "    }\n",
       "\n",
       "    .dataframe tbody tr th {\n",
       "        vertical-align: top;\n",
       "    }\n",
       "\n",
       "    .dataframe thead th {\n",
       "        text-align: right;\n",
       "    }\n",
       "</style>\n",
       "<table border=\"1\" class=\"dataframe\">\n",
       "  <thead>\n",
       "    <tr style=\"text-align: right;\">\n",
       "      <th></th>\n",
       "      <th>Viajes</th>\n",
       "    </tr>\n",
       "  </thead>\n",
       "  <tbody>\n",
       "    <tr>\n",
       "      <th>2020-04-30</th>\n",
       "      <td>2.356878e+06</td>\n",
       "    </tr>\n",
       "    <tr>\n",
       "      <th>2020-05-31</th>\n",
       "      <td>3.590722e+06</td>\n",
       "    </tr>\n",
       "    <tr>\n",
       "      <th>2020-06-30</th>\n",
       "      <td>4.823862e+06</td>\n",
       "    </tr>\n",
       "  </tbody>\n",
       "</table>\n",
       "</div>"
      ],
      "text/plain": [
       "                  Viajes\n",
       "2020-04-30  2.356878e+06\n",
       "2020-05-31  3.590722e+06\n",
       "2020-06-30  4.823862e+06"
      ]
     },
     "execution_count": 11,
     "metadata": {},
     "output_type": "execute_result"
    }
   ],
   "source": [
    "meses = df.resample('M').mean()\n",
    "meses"
   ]
  },
  {
   "cell_type": "code",
   "execution_count": 12,
   "metadata": {},
   "outputs": [
    {
     "data": {
      "text/plain": [
       "[<matplotlib.lines.Line2D at 0x17d07bd7c10>]"
      ]
     },
     "execution_count": 12,
     "metadata": {},
     "output_type": "execute_result"
    },
    {
     "data": {
      "image/png": "[encoded data removed]",
      "text/plain": [
       "<Figure size 432x288 with 1 Axes>"
      ]
     },
     "metadata": {
      "needs_background": "light"
     },
     "output_type": "display_data"
    }
   ],
   "source": [
    "abril = df['2020-04-01':'2020-04-30']\n",
    "plt.plot(abril.values)\n",
    "mayo = df['2020-05-01':'2020-05-31']\n",
    "plt.plot(mayo.values)\n",
    "junio = df['2020-06-01':'2020-06-20']\n",
    "plt.plot(junio.values)"
   ]
  },
  {
   "cell_type": "markdown",
   "metadata": {},
   "source": [
    "# Preprocesado de datos"
   ]
  },
  {
   "cell_type": "code",
   "execution_count": 13,
   "metadata": {},
   "outputs": [
    {
     "data": {
      "text/html": [
       "<div>\n",
       "<style scoped>\n",
       "    .dataframe tbody tr th:only-of-type {\n",
       "        vertical-align: middle;\n",
       "    }\n",
       "\n",
       "    .dataframe tbody tr th {\n",
       "        vertical-align: top;\n",
       "    }\n",
       "\n",
       "    .dataframe thead th {\n",
       "        text-align: right;\n",
       "    }\n",
       "</style>\n",
       "<table border=\"1\" class=\"dataframe\">\n",
       "  <thead>\n",
       "    <tr style=\"text-align: right;\">\n",
       "      <th></th>\n",
       "      <th>var1(t-7)</th>\n",
       "      <th>var1(t-6)</th>\n",
       "      <th>var1(t-5)</th>\n",
       "      <th>var1(t-4)</th>\n",
       "      <th>var1(t-3)</th>\n",
       "      <th>var1(t-2)</th>\n",
       "      <th>var1(t-1)</th>\n",
       "      <th>var1(t)</th>\n",
       "    </tr>\n",
       "  </thead>\n",
       "  <tbody>\n",
       "    <tr>\n",
       "      <th>76</th>\n",
       "      <td>0.477061</td>\n",
       "      <td>0.891413</td>\n",
       "      <td>0.839957</td>\n",
       "      <td>0.847171</td>\n",
       "      <td>0.460553</td>\n",
       "      <td>0.113062</td>\n",
       "      <td>0.725623</td>\n",
       "      <td>0.894152</td>\n",
       "    </tr>\n",
       "    <tr>\n",
       "      <th>77</th>\n",
       "      <td>0.891413</td>\n",
       "      <td>0.839957</td>\n",
       "      <td>0.847171</td>\n",
       "      <td>0.460553</td>\n",
       "      <td>0.113062</td>\n",
       "      <td>0.725623</td>\n",
       "      <td>0.894152</td>\n",
       "      <td>0.923149</td>\n",
       "    </tr>\n",
       "    <tr>\n",
       "      <th>78</th>\n",
       "      <td>0.839957</td>\n",
       "      <td>0.847171</td>\n",
       "      <td>0.460553</td>\n",
       "      <td>0.113062</td>\n",
       "      <td>0.725623</td>\n",
       "      <td>0.894152</td>\n",
       "      <td>0.923149</td>\n",
       "      <td>0.959687</td>\n",
       "    </tr>\n",
       "    <tr>\n",
       "      <th>79</th>\n",
       "      <td>0.847171</td>\n",
       "      <td>0.460553</td>\n",
       "      <td>0.113062</td>\n",
       "      <td>0.725623</td>\n",
       "      <td>0.894152</td>\n",
       "      <td>0.923149</td>\n",
       "      <td>0.959687</td>\n",
       "      <td>1.000000</td>\n",
       "    </tr>\n",
       "    <tr>\n",
       "      <th>80</th>\n",
       "      <td>0.460553</td>\n",
       "      <td>0.113062</td>\n",
       "      <td>0.725623</td>\n",
       "      <td>0.894152</td>\n",
       "      <td>0.923149</td>\n",
       "      <td>0.959687</td>\n",
       "      <td>1.000000</td>\n",
       "      <td>0.551599</td>\n",
       "    </tr>\n",
       "  </tbody>\n",
       "</table>\n",
       "</div>"
      ],
      "text/plain": [
       "    var1(t-7)  var1(t-6)  var1(t-5)  var1(t-4)  var1(t-3)  var1(t-2)  \\\n",
       "76   0.477061   0.891413   0.839957   0.847171   0.460553   0.113062   \n",
       "77   0.891413   0.839957   0.847171   0.460553   0.113062   0.725623   \n",
       "78   0.839957   0.847171   0.460553   0.113062   0.725623   0.894152   \n",
       "79   0.847171   0.460553   0.113062   0.725623   0.894152   0.923149   \n",
       "80   0.460553   0.113062   0.725623   0.894152   0.923149   0.959687   \n",
       "\n",
       "    var1(t-1)   var1(t)  \n",
       "76   0.725623  0.894152  \n",
       "77   0.894152  0.923149  \n",
       "78   0.923149  0.959687  \n",
       "79   0.959687  1.000000  \n",
       "80   1.000000  0.551599  "
      ]
     },
     "execution_count": 13,
     "metadata": {},
     "output_type": "execute_result"
    }
   ],
   "source": [
    "# cantidad de dias previos que se usaran para predecir el siguiente dia \n",
    "look_back=7\n",
    "\n",
    "# convertir series en conocimiento supervisado\n",
    "def series_to_supervised(data, n_in=1, n_out=1, dropnan=True):\n",
    "    n_vars = 1 if type(data) is list else data.shape[1]\n",
    "    df = pd.DataFrame(data)\n",
    "    cols, names = list(), list()\n",
    "    # secuencia de entrada (t-n, ... t-1)\n",
    "    for i in range(n_in, 0, -1):\n",
    "        cols.append(df.shift(i))\n",
    "        names += [('var%d(t-%d)' % (j+1, i)) for j in range(n_vars)]\n",
    "    # secuencia del pronostico (t, t+1, ... t+n)\n",
    "    for i in range(0, n_out):\n",
    "        cols.append(df.shift(-i))\n",
    "        if i == 0:\n",
    "            names += [('var%d(t)' % (j+1)) for j in range(n_vars)]\n",
    "        else:\n",
    "            names += [('var%d(t+%d)' % (j+1, i)) for j in range(n_vars)]\n",
    "    # unimos todo\n",
    "    agg = pd.concat(cols, axis=1)\n",
    "    agg.columns = names\n",
    "    # eliminamos todos los valores nulos\n",
    "    if dropnan:\n",
    "        agg.dropna(inplace=True)\n",
    "    return agg\n",
    " \n",
    "# cargamos el dataframe en la variable values\n",
    "values = df.values\n",
    "\n",
    "# convertimos los enteros en floats\n",
    "values = values.astype('float32')\n",
    "\n",
    "# normalizamos los datos a escala de entre -1 y 1\n",
    "scaler = MinMaxScaler(feature_range=(-1, 1))\n",
    "values=values.reshape(-1, 1) # esto lo hacemos porque tenemos 1 sola dimension\n",
    "scaled = scaler.fit_transform(values)\n",
    "\n",
    "# usamos la funcion definida previamente\n",
    "reframed = series_to_supervised(scaled, look_back, 1)\n",
    "\n",
    "# imprimimos los nuevos datos\n",
    "reframed.tail()"
   ]
  },
  {
   "cell_type": "markdown",
   "metadata": {},
   "source": [
    "# Dividimos los datos en sets de entrenamiento y validacion"
   ]
  },
  {
   "cell_type": "code",
   "execution_count": 14,
   "metadata": {},
   "outputs": [
    {
     "name": "stdout",
     "output_type": "stream",
     "text": [
      "(54, 1, 7) (54,) (20, 1, 7) (20,)\n"
     ]
    }
   ],
   "source": [
    "# dividimos nuestro valores entre sets de entrenamiento y de test\n",
    "values = reframed.values\n",
    "n_train_days = 71 - (10+look_back)\n",
    "train = values[:n_train_days, :]\n",
    "test = values[n_train_days:, :]\n",
    "\n",
    "# los volvemos a dividir en entradas y salidas\n",
    "x_train, y_train = train[:, :-1], train[:, -1]\n",
    "x_val, y_val = test[:, :-1], test[:, -1]\n",
    "\n",
    "# remodelamos la muestras para ser de las dimensiones [samples, timesteps, features]\n",
    "trainX = x_train.reshape((x_train.shape[0], 1, x_train.shape[1]))\n",
    "testX = x_val.reshape((x_val.shape[0], 1, x_val.shape[1]))\n",
    "\n",
    "print(trainX.shape, y_train.shape, testX.shape, y_val.shape)"
   ]
  },
  {
   "cell_type": "markdown",
   "metadata": {},
   "source": [
    "# Creamos la red neuronal"
   ]
  },
  {
   "cell_type": "code",
   "execution_count": 15,
   "metadata": {},
   "outputs": [],
   "source": [
    "def crear_modeloFF():\n",
    "    model = Sequential() \n",
    "    model.add(Dense(look_back, input_shape=(1,look_back),activation='tanh'))\n",
    "    model.add(Flatten())\n",
    "    model.add(Dense(100, activation='tanh'))\n",
    "    model.add(Dropout(0.30))\n",
    "    model.add(Dense(100, activation='tanh'))\n",
    "    model.add(Dropout(0.30))\n",
    "    model.add(Dense(100, activation='tanh'))\n",
    "    model.add(Dropout(0.30))\n",
    "    model.add(Dense(100, activation='tanh'))\n",
    "    model.add(Dropout(0.30))\n",
    "    model.add(Dense(1, activation='tanh'))\n",
    "    model.compile(loss='mean_absolute_error',optimizer='Adam',metrics=[\"mse\"])\n",
    "    model.summary()\n",
    "    return model"
   ]
  },
  {
   "cell_type": "code",
   "execution_count": 16,
   "metadata": {},
   "outputs": [
    {
     "name": "stdout",
     "output_type": "stream",
     "text": [
      "Model: \"sequential\"\n",
      "_________________________________________________________________\n",
      "Layer (type)                 Output Shape              Param #   \n",
      "=================================================================\n",
      "dense (Dense)                (None, 1, 7)              56        \n",
      "_________________________________________________________________\n",
      "flatten (Flatten)            (None, 7)                 0         \n",
      "_________________________________________________________________\n",
      "dense_1 (Dense)              (None, 100)               800       \n",
      "_________________________________________________________________\n",
      "dropout (Dropout)            (None, 100)               0         \n",
      "_________________________________________________________________\n",
      "dense_2 (Dense)              (None, 100)               10100     \n",
      "_________________________________________________________________\n",
      "dropout_1 (Dropout)          (None, 100)               0         \n",
      "_________________________________________________________________\n",
      "dense_3 (Dense)              (None, 100)               10100     \n",
      "_________________________________________________________________\n",
      "dropout_2 (Dropout)          (None, 100)               0         \n",
      "_________________________________________________________________\n",
      "dense_4 (Dense)              (None, 100)               10100     \n",
      "_________________________________________________________________\n",
      "dropout_3 (Dropout)          (None, 100)               0         \n",
      "_________________________________________________________________\n",
      "dense_5 (Dense)              (None, 1)                 101       \n",
      "=================================================================\n",
      "Total params: 31,257\n",
      "Trainable params: 31,257\n",
      "Non-trainable params: 0\n",
      "_________________________________________________________________\n",
      "Epoch 1/200\n",
      "8/8 [==============================] - 3s 235ms/step - loss: 0.4198 - mse: 0.2556 - val_loss: 0.1981 - val_mse: 0.0793\n",
      "Epoch 2/200\n",
      "8/8 [==============================] - 0s 7ms/step - loss: 0.3851 - mse: 0.2439 - val_loss: 0.1530 - val_mse: 0.0341\n",
      "Epoch 3/200\n",
      "8/8 [==============================] - 0s 6ms/step - loss: 0.3328 - mse: 0.1636 - val_loss: 0.1448 - val_mse: 0.0365\n",
      "Epoch 4/200\n",
      "8/8 [==============================] - 0s 6ms/step - loss: 0.3017 - mse: 0.1462 - val_loss: 0.1544 - val_mse: 0.0424\n",
      "Epoch 5/200\n",
      "8/8 [==============================] - 0s 6ms/step - loss: 0.2940 - mse: 0.1488 - val_loss: 0.1811 - val_mse: 0.0600\n",
      "Epoch 6/200\n",
      "8/8 [==============================] - 0s 6ms/step - loss: 0.2510 - mse: 0.1061 - val_loss: 0.1752 - val_mse: 0.0560\n",
      "Epoch 7/200\n",
      "8/8 [==============================] - 0s 6ms/step - loss: 0.3190 - mse: 0.1436 - val_loss: 0.2117 - val_mse: 0.0837\n",
      "Epoch 8/200\n",
      "8/8 [==============================] - 0s 6ms/step - loss: 0.2336 - mse: 0.0786 - val_loss: 0.1894 - val_mse: 0.0666\n",
      "Epoch 9/200\n",
      "8/8 [==============================] - 0s 7ms/step - loss: 0.2425 - mse: 0.0869 - val_loss: 0.1489 - val_mse: 0.0347\n",
      "Epoch 10/200\n",
      "8/8 [==============================] - 0s 7ms/step - loss: 0.2085 - mse: 0.0692 - val_loss: 0.1701 - val_mse: 0.0412\n",
      "Epoch 11/200\n",
      "8/8 [==============================] - 0s 6ms/step - loss: 0.2443 - mse: 0.1130 - val_loss: 0.1368 - val_mse: 0.0278\n",
      "Epoch 12/200\n",
      "8/8 [==============================] - 0s 7ms/step - loss: 0.2385 - mse: 0.0957 - val_loss: 0.1838 - val_mse: 0.0592\n",
      "Epoch 13/200\n",
      "8/8 [==============================] - 0s 7ms/step - loss: 0.2393 - mse: 0.1034 - val_loss: 0.1668 - val_mse: 0.0448\n",
      "Epoch 14/200\n",
      "8/8 [==============================] - 0s 7ms/step - loss: 0.2633 - mse: 0.1090 - val_loss: 0.1356 - val_mse: 0.0264\n",
      "Epoch 15/200\n",
      "8/8 [==============================] - 0s 6ms/step - loss: 0.2015 - mse: 0.0608 - val_loss: 0.1045 - val_mse: 0.0179\n",
      "Epoch 16/200\n",
      "8/8 [==============================] - 0s 6ms/step - loss: 0.2087 - mse: 0.0674 - val_loss: 0.1259 - val_mse: 0.0230\n",
      "Epoch 17/200\n",
      "8/8 [==============================] - 0s 6ms/step - loss: 0.2153 - mse: 0.0620 - val_loss: 0.1588 - val_mse: 0.0371\n",
      "Epoch 18/200\n",
      "8/8 [==============================] - 0s 6ms/step - loss: 0.2302 - mse: 0.0973 - val_loss: 0.1711 - val_mse: 0.0519\n",
      "Epoch 19/200\n",
      "8/8 [==============================] - 0s 6ms/step - loss: 0.2179 - mse: 0.0780 - val_loss: 0.1597 - val_mse: 0.0380\n",
      "Epoch 20/200\n",
      "8/8 [==============================] - 0s 6ms/step - loss: 0.2247 - mse: 0.0814 - val_loss: 0.1436 - val_mse: 0.0297\n",
      "Epoch 21/200\n",
      "8/8 [==============================] - 0s 6ms/step - loss: 0.1912 - mse: 0.0603 - val_loss: 0.1307 - val_mse: 0.0254\n",
      "Epoch 22/200\n",
      "8/8 [==============================] - 0s 6ms/step - loss: 0.2533 - mse: 0.0930 - val_loss: 0.1478 - val_mse: 0.0351\n",
      "Epoch 23/200\n",
      "8/8 [==============================] - 0s 7ms/step - loss: 0.1923 - mse: 0.0536 - val_loss: 0.1396 - val_mse: 0.0297\n",
      "Epoch 24/200\n",
      "8/8 [==============================] - 0s 7ms/step - loss: 0.1887 - mse: 0.0549 - val_loss: 0.1433 - val_mse: 0.0272\n",
      "Epoch 25/200\n",
      "8/8 [==============================] - 0s 6ms/step - loss: 0.2269 - mse: 0.0818 - val_loss: 0.1516 - val_mse: 0.0379\n",
      "Epoch 26/200\n",
      "8/8 [==============================] - 0s 6ms/step - loss: 0.1913 - mse: 0.0555 - val_loss: 0.1760 - val_mse: 0.0543\n",
      "Epoch 27/200\n",
      "8/8 [==============================] - 0s 6ms/step - loss: 0.1884 - mse: 0.0544 - val_loss: 0.1619 - val_mse: 0.0435\n",
      "Epoch 28/200\n",
      "8/8 [==============================] - 0s 6ms/step - loss: 0.1640 - mse: 0.0393 - val_loss: 0.1530 - val_mse: 0.0373\n",
      "Epoch 29/200\n",
      "8/8 [==============================] - 0s 6ms/step - loss: 0.1697 - mse: 0.0511 - val_loss: 0.1700 - val_mse: 0.0493\n",
      "Epoch 30/200\n",
      "8/8 [==============================] - 0s 6ms/step - loss: 0.2403 - mse: 0.1033 - val_loss: 0.1537 - val_mse: 0.0381\n",
      "Epoch 31/200\n",
      "8/8 [==============================] - 0s 6ms/step - loss: 0.1797 - mse: 0.0562 - val_loss: 0.1609 - val_mse: 0.0432\n",
      "Epoch 32/200\n",
      "8/8 [==============================] - 0s 6ms/step - loss: 0.2091 - mse: 0.0626 - val_loss: 0.1306 - val_mse: 0.0248\n",
      "Epoch 33/200\n",
      "8/8 [==============================] - 0s 6ms/step - loss: 0.2168 - mse: 0.0867 - val_loss: 0.1269 - val_mse: 0.0216\n",
      "Epoch 34/200\n",
      "8/8 [==============================] - 0s 6ms/step - loss: 0.2133 - mse: 0.0680 - val_loss: 0.1601 - val_mse: 0.0402\n",
      "Epoch 35/200\n",
      "8/8 [==============================] - 0s 6ms/step - loss: 0.1930 - mse: 0.0581 - val_loss: 0.1892 - val_mse: 0.0595\n",
      "Epoch 36/200\n",
      "8/8 [==============================] - 0s 6ms/step - loss: 0.1952 - mse: 0.0596 - val_loss: 0.1580 - val_mse: 0.0416\n",
      "Epoch 37/200\n",
      "8/8 [==============================] - 0s 6ms/step - loss: 0.2141 - mse: 0.0719 - val_loss: 0.1469 - val_mse: 0.0335\n",
      "Epoch 38/200\n",
      "8/8 [==============================] - 0s 6ms/step - loss: 0.1932 - mse: 0.0596 - val_loss: 0.1567 - val_mse: 0.0334\n",
      "Epoch 39/200\n",
      "8/8 [==============================] - 0s 6ms/step - loss: 0.2039 - mse: 0.0662 - val_loss: 0.1595 - val_mse: 0.0429\n",
      "Epoch 40/200\n",
      "8/8 [==============================] - 0s 6ms/step - loss: 0.2505 - mse: 0.0960 - val_loss: 0.1468 - val_mse: 0.0310\n",
      "Epoch 41/200\n",
      "8/8 [==============================] - 0s 6ms/step - loss: 0.2048 - mse: 0.0726 - val_loss: 0.1447 - val_mse: 0.0286\n",
      "Epoch 42/200\n",
      "8/8 [==============================] - 0s 6ms/step - loss: 0.2025 - mse: 0.0748 - val_loss: 0.1309 - val_mse: 0.0235\n",
      "Epoch 43/200\n",
      "8/8 [==============================] - 0s 6ms/step - loss: 0.1644 - mse: 0.0414 - val_loss: 0.1324 - val_mse: 0.0260\n",
      "Epoch 44/200\n",
      "8/8 [==============================] - 0s 6ms/step - loss: 0.1864 - mse: 0.0529 - val_loss: 0.1331 - val_mse: 0.0262\n",
      "Epoch 45/200\n",
      "8/8 [==============================] - 0s 6ms/step - loss: 0.2173 - mse: 0.0757 - val_loss: 0.1304 - val_mse: 0.0236\n",
      "Epoch 46/200\n",
      "8/8 [==============================] - 0s 6ms/step - loss: 0.1589 - mse: 0.0467 - val_loss: 0.1262 - val_mse: 0.0223\n",
      "Epoch 47/200\n",
      "8/8 [==============================] - 0s 7ms/step - loss: 0.1622 - mse: 0.0479 - val_loss: 0.1824 - val_mse: 0.0526\n",
      "Epoch 48/200\n",
      "8/8 [==============================] - 0s 6ms/step - loss: 0.1911 - mse: 0.0629 - val_loss: 0.2198 - val_mse: 0.0768\n",
      "Epoch 49/200\n",
      "8/8 [==============================] - 0s 6ms/step - loss: 0.1739 - mse: 0.0535 - val_loss: 0.1663 - val_mse: 0.0455\n",
      "Epoch 50/200\n"
     ]
    },
    {
     "name": "stdout",
     "output_type": "stream",
     "text": [
      "8/8 [==============================] - 0s 6ms/step - loss: 0.2112 - mse: 0.0725 - val_loss: 0.1184 - val_mse: 0.0210\n",
      "Epoch 51/200\n",
      "8/8 [==============================] - 0s 6ms/step - loss: 0.1735 - mse: 0.0510 - val_loss: 0.1446 - val_mse: 0.0284\n",
      "Epoch 52/200\n",
      "8/8 [==============================] - 0s 6ms/step - loss: 0.2001 - mse: 0.0614 - val_loss: 0.1472 - val_mse: 0.0275\n",
      "Epoch 53/200\n",
      "8/8 [==============================] - 0s 6ms/step - loss: 0.2233 - mse: 0.0783 - val_loss: 0.1567 - val_mse: 0.0396\n",
      "Epoch 54/200\n",
      "8/8 [==============================] - 0s 6ms/step - loss: 0.1364 - mse: 0.0340 - val_loss: 0.1445 - val_mse: 0.0315\n",
      "Epoch 55/200\n",
      "8/8 [==============================] - 0s 6ms/step - loss: 0.1828 - mse: 0.0614 - val_loss: 0.1413 - val_mse: 0.0288\n",
      "Epoch 56/200\n",
      "8/8 [==============================] - 0s 6ms/step - loss: 0.1687 - mse: 0.0577 - val_loss: 0.1338 - val_mse: 0.0252\n",
      "Epoch 57/200\n",
      "8/8 [==============================] - 0s 6ms/step - loss: 0.1533 - mse: 0.0403 - val_loss: 0.1254 - val_mse: 0.0223\n",
      "Epoch 58/200\n",
      "8/8 [==============================] - 0s 7ms/step - loss: 0.1955 - mse: 0.0597 - val_loss: 0.1250 - val_mse: 0.0216\n",
      "Epoch 59/200\n",
      "8/8 [==============================] - 0s 6ms/step - loss: 0.1864 - mse: 0.0582 - val_loss: 0.1331 - val_mse: 0.0241\n",
      "Epoch 60/200\n",
      "8/8 [==============================] - 0s 6ms/step - loss: 0.1444 - mse: 0.0348 - val_loss: 0.1485 - val_mse: 0.0347\n",
      "Epoch 61/200\n",
      "8/8 [==============================] - 0s 7ms/step - loss: 0.2075 - mse: 0.0660 - val_loss: 0.1580 - val_mse: 0.0410\n",
      "Epoch 62/200\n",
      "8/8 [==============================] - 0s 6ms/step - loss: 0.1891 - mse: 0.0603 - val_loss: 0.1647 - val_mse: 0.0446\n",
      "Epoch 63/200\n",
      "8/8 [==============================] - 0s 6ms/step - loss: 0.1790 - mse: 0.0503 - val_loss: 0.1483 - val_mse: 0.0340\n",
      "Epoch 64/200\n",
      "8/8 [==============================] - 0s 6ms/step - loss: 0.1977 - mse: 0.0587 - val_loss: 0.1252 - val_mse: 0.0222\n",
      "Epoch 65/200\n",
      "8/8 [==============================] - 0s 6ms/step - loss: 0.1813 - mse: 0.0486 - val_loss: 0.1274 - val_mse: 0.0224\n",
      "Epoch 66/200\n",
      "8/8 [==============================] - 0s 7ms/step - loss: 0.1849 - mse: 0.0556 - val_loss: 0.1357 - val_mse: 0.0244\n",
      "Epoch 67/200\n",
      "8/8 [==============================] - 0s 7ms/step - loss: 0.2014 - mse: 0.0567 - val_loss: 0.1401 - val_mse: 0.0294\n",
      "Epoch 68/200\n",
      "8/8 [==============================] - 0s 7ms/step - loss: 0.1733 - mse: 0.0477 - val_loss: 0.1551 - val_mse: 0.0386\n",
      "Epoch 69/200\n",
      "8/8 [==============================] - 0s 6ms/step - loss: 0.1977 - mse: 0.0625 - val_loss: 0.1632 - val_mse: 0.0415\n",
      "Epoch 70/200\n",
      "8/8 [==============================] - 0s 6ms/step - loss: 0.1712 - mse: 0.0484 - val_loss: 0.1268 - val_mse: 0.0218\n",
      "Epoch 71/200\n",
      "8/8 [==============================] - 0s 6ms/step - loss: 0.1384 - mse: 0.0317 - val_loss: 0.1300 - val_mse: 0.0239\n",
      "Epoch 72/200\n",
      "8/8 [==============================] - 0s 6ms/step - loss: 0.1529 - mse: 0.0397 - val_loss: 0.1270 - val_mse: 0.0219\n",
      "Epoch 73/200\n",
      "8/8 [==============================] - 0s 6ms/step - loss: 0.1816 - mse: 0.0545 - val_loss: 0.1249 - val_mse: 0.0218\n",
      "Epoch 74/200\n",
      "8/8 [==============================] - 0s 6ms/step - loss: 0.1706 - mse: 0.0499 - val_loss: 0.1303 - val_mse: 0.0246\n",
      "Epoch 75/200\n",
      "8/8 [==============================] - 0s 6ms/step - loss: 0.1860 - mse: 0.0550 - val_loss: 0.1414 - val_mse: 0.0300\n",
      "Epoch 76/200\n",
      "8/8 [==============================] - 0s 6ms/step - loss: 0.1978 - mse: 0.0625 - val_loss: 0.1321 - val_mse: 0.0231\n",
      "Epoch 77/200\n",
      "8/8 [==============================] - 0s 6ms/step - loss: 0.1555 - mse: 0.0408 - val_loss: 0.1351 - val_mse: 0.0260\n",
      "Epoch 78/200\n",
      "8/8 [==============================] - 0s 6ms/step - loss: 0.1748 - mse: 0.0443 - val_loss: 0.1431 - val_mse: 0.0315\n",
      "Epoch 79/200\n",
      "8/8 [==============================] - 0s 6ms/step - loss: 0.1420 - mse: 0.0320 - val_loss: 0.1532 - val_mse: 0.0362\n",
      "Epoch 80/200\n",
      "8/8 [==============================] - 0s 7ms/step - loss: 0.1957 - mse: 0.0663 - val_loss: 0.1627 - val_mse: 0.0415\n",
      "Epoch 81/200\n",
      "8/8 [==============================] - 0s 6ms/step - loss: 0.1994 - mse: 0.0611 - val_loss: 0.1433 - val_mse: 0.0316\n",
      "Epoch 82/200\n",
      "8/8 [==============================] - 0s 6ms/step - loss: 0.2101 - mse: 0.0731 - val_loss: 0.1343 - val_mse: 0.0239\n",
      "Epoch 83/200\n",
      "8/8 [==============================] - 0s 6ms/step - loss: 0.1791 - mse: 0.0602 - val_loss: 0.1439 - val_mse: 0.0278\n",
      "Epoch 84/200\n",
      "8/8 [==============================] - 0s 6ms/step - loss: 0.1762 - mse: 0.0464 - val_loss: 0.1272 - val_mse: 0.0235\n",
      "Epoch 85/200\n",
      "8/8 [==============================] - 0s 6ms/step - loss: 0.1696 - mse: 0.0461 - val_loss: 0.1348 - val_mse: 0.0268\n",
      "Epoch 86/200\n",
      "8/8 [==============================] - 0s 6ms/step - loss: 0.1802 - mse: 0.0554 - val_loss: 0.1418 - val_mse: 0.0306\n",
      "Epoch 87/200\n",
      "8/8 [==============================] - 0s 6ms/step - loss: 0.1631 - mse: 0.0394 - val_loss: 0.1277 - val_mse: 0.0230\n",
      "Epoch 88/200\n",
      "8/8 [==============================] - 0s 6ms/step - loss: 0.1522 - mse: 0.0393 - val_loss: 0.1255 - val_mse: 0.0221\n",
      "Epoch 89/200\n",
      "8/8 [==============================] - 0s 6ms/step - loss: 0.1835 - mse: 0.0475 - val_loss: 0.1308 - val_mse: 0.0244\n",
      "Epoch 90/200\n",
      "8/8 [==============================] - 0s 6ms/step - loss: 0.1810 - mse: 0.0505 - val_loss: 0.1390 - val_mse: 0.0293\n",
      "Epoch 91/200\n",
      "8/8 [==============================] - 0s 6ms/step - loss: 0.1861 - mse: 0.0560 - val_loss: 0.1389 - val_mse: 0.0265\n",
      "Epoch 92/200\n",
      "8/8 [==============================] - 0s 6ms/step - loss: 0.1684 - mse: 0.0448 - val_loss: 0.1464 - val_mse: 0.0277\n",
      "Epoch 93/200\n",
      "8/8 [==============================] - 0s 6ms/step - loss: 0.1603 - mse: 0.0438 - val_loss: 0.1395 - val_mse: 0.0253\n",
      "Epoch 94/200\n",
      "8/8 [==============================] - 0s 6ms/step - loss: 0.1639 - mse: 0.0503 - val_loss: 0.1363 - val_mse: 0.0251\n",
      "Epoch 95/200\n",
      "8/8 [==============================] - 0s 6ms/step - loss: 0.1643 - mse: 0.0407 - val_loss: 0.1363 - val_mse: 0.0272\n",
      "Epoch 96/200\n",
      "8/8 [==============================] - 0s 6ms/step - loss: 0.1536 - mse: 0.0414 - val_loss: 0.1369 - val_mse: 0.0275\n",
      "Epoch 97/200\n",
      "8/8 [==============================] - 0s 6ms/step - loss: 0.1968 - mse: 0.0681 - val_loss: 0.1331 - val_mse: 0.0247\n",
      "Epoch 98/200\n",
      "8/8 [==============================] - 0s 6ms/step - loss: 0.1758 - mse: 0.0488 - val_loss: 0.1255 - val_mse: 0.0211\n",
      "Epoch 99/200\n",
      "8/8 [==============================] - 0s 6ms/step - loss: 0.1444 - mse: 0.0338 - val_loss: 0.1244 - val_mse: 0.0221\n",
      "Epoch 100/200\n",
      "8/8 [==============================] - 0s 6ms/step - loss: 0.1656 - mse: 0.0448 - val_loss: 0.1294 - val_mse: 0.0226\n",
      "Epoch 101/200\n",
      "8/8 [==============================] - 0s 6ms/step - loss: 0.1572 - mse: 0.0436 - val_loss: 0.1297 - val_mse: 0.0225\n",
      "Epoch 102/200\n",
      "8/8 [==============================] - ETA: 0s - loss: 0.1838 - mse: 0.040 - 0s 6ms/step - loss: 0.1537 - mse: 0.0393 - val_loss: 0.1333 - val_mse: 0.0238\n",
      "Epoch 103/200\n",
      "8/8 [==============================] - 0s 6ms/step - loss: 0.1600 - mse: 0.0446 - val_loss: 0.1125 - val_mse: 0.0194\n",
      "Epoch 104/200\n",
      "8/8 [==============================] - 0s 6ms/step - loss: 0.1478 - mse: 0.0383 - val_loss: 0.1137 - val_mse: 0.0189\n",
      "Epoch 105/200\n",
      "8/8 [==============================] - 0s 6ms/step - loss: 0.2051 - mse: 0.0580 - val_loss: 0.1196 - val_mse: 0.0201\n",
      "Epoch 106/200\n",
      "8/8 [==============================] - 0s 6ms/step - loss: 0.1679 - mse: 0.0426 - val_loss: 0.1340 - val_mse: 0.0237\n",
      "Epoch 107/200\n",
      "8/8 [==============================] - 0s 6ms/step - loss: 0.1574 - mse: 0.0437 - val_loss: 0.1425 - val_mse: 0.0312\n",
      "Epoch 108/200\n",
      "8/8 [==============================] - 0s 6ms/step - loss: 0.1870 - mse: 0.0672 - val_loss: 0.1452 - val_mse: 0.0335\n",
      "Epoch 109/200\n",
      "8/8 [==============================] - 0s 6ms/step - loss: 0.1842 - mse: 0.0505 - val_loss: 0.1449 - val_mse: 0.0332\n",
      "Epoch 110/200\n",
      "8/8 [==============================] - 0s 6ms/step - loss: 0.1514 - mse: 0.0343 - val_loss: 0.1381 - val_mse: 0.0260\n",
      "Epoch 111/200\n",
      "8/8 [==============================] - 0s 6ms/step - loss: 0.1857 - mse: 0.0572 - val_loss: 0.1477 - val_mse: 0.0284\n",
      "Epoch 112/200\n",
      "8/8 [==============================] - 0s 6ms/step - loss: 0.1875 - mse: 0.0492 - val_loss: 0.1448 - val_mse: 0.0323\n"
     ]
    },
    {
     "name": "stdout",
     "output_type": "stream",
     "text": [
      "Epoch 113/200\n",
      "8/8 [==============================] - 0s 6ms/step - loss: 0.1656 - mse: 0.0400 - val_loss: 0.1540 - val_mse: 0.0378\n",
      "Epoch 114/200\n",
      "8/8 [==============================] - 0s 6ms/step - loss: 0.1828 - mse: 0.0526 - val_loss: 0.1432 - val_mse: 0.0312\n",
      "Epoch 115/200\n",
      "8/8 [==============================] - 0s 6ms/step - loss: 0.1919 - mse: 0.0507 - val_loss: 0.1385 - val_mse: 0.0285\n",
      "Epoch 116/200\n",
      "8/8 [==============================] - 0s 6ms/step - loss: 0.1571 - mse: 0.0501 - val_loss: 0.1393 - val_mse: 0.0292\n",
      "Epoch 117/200\n",
      "8/8 [==============================] - 0s 6ms/step - loss: 0.1447 - mse: 0.0346 - val_loss: 0.1359 - val_mse: 0.0234\n",
      "Epoch 118/200\n",
      "8/8 [==============================] - 0s 6ms/step - loss: 0.1543 - mse: 0.0395 - val_loss: 0.1361 - val_mse: 0.0263\n",
      "Epoch 119/200\n",
      "8/8 [==============================] - ETA: 0s - loss: 0.1605 - mse: 0.030 - 0s 6ms/step - loss: 0.1850 - mse: 0.0565 - val_loss: 0.1370 - val_mse: 0.0252\n",
      "Epoch 120/200\n",
      "8/8 [==============================] - 0s 6ms/step - loss: 0.1743 - mse: 0.0497 - val_loss: 0.1374 - val_mse: 0.0243\n",
      "Epoch 121/200\n",
      "8/8 [==============================] - 0s 6ms/step - loss: 0.1484 - mse: 0.0354 - val_loss: 0.1359 - val_mse: 0.0271\n",
      "Epoch 122/200\n",
      "8/8 [==============================] - 0s 6ms/step - loss: 0.1389 - mse: 0.0345 - val_loss: 0.1257 - val_mse: 0.0218\n",
      "Epoch 123/200\n",
      "8/8 [==============================] - 0s 7ms/step - loss: 0.1384 - mse: 0.0353 - val_loss: 0.1266 - val_mse: 0.0213\n",
      "Epoch 124/200\n",
      "8/8 [==============================] - 0s 6ms/step - loss: 0.1675 - mse: 0.0421 - val_loss: 0.1336 - val_mse: 0.0257\n",
      "Epoch 125/200\n",
      "8/8 [==============================] - 0s 6ms/step - loss: 0.1613 - mse: 0.0389 - val_loss: 0.1423 - val_mse: 0.0302\n",
      "Epoch 126/200\n",
      "8/8 [==============================] - 0s 6ms/step - loss: 0.1814 - mse: 0.0616 - val_loss: 0.1302 - val_mse: 0.0225\n",
      "Epoch 127/200\n",
      "8/8 [==============================] - 0s 6ms/step - loss: 0.1719 - mse: 0.0495 - val_loss: 0.1293 - val_mse: 0.0219\n",
      "Epoch 128/200\n",
      "8/8 [==============================] - 0s 6ms/step - loss: 0.1506 - mse: 0.0414 - val_loss: 0.1306 - val_mse: 0.0223\n",
      "Epoch 129/200\n",
      "8/8 [==============================] - 0s 6ms/step - loss: 0.1985 - mse: 0.0578 - val_loss: 0.1295 - val_mse: 0.0238\n",
      "Epoch 130/200\n",
      "8/8 [==============================] - 0s 6ms/step - loss: 0.1576 - mse: 0.0502 - val_loss: 0.1476 - val_mse: 0.0337\n",
      "Epoch 131/200\n",
      "8/8 [==============================] - 0s 6ms/step - loss: 0.1412 - mse: 0.0324 - val_loss: 0.1576 - val_mse: 0.0399\n",
      "Epoch 132/200\n",
      "8/8 [==============================] - 0s 6ms/step - loss: 0.1388 - mse: 0.0320 - val_loss: 0.1416 - val_mse: 0.0292\n",
      "Epoch 133/200\n",
      "8/8 [==============================] - 0s 6ms/step - loss: 0.1593 - mse: 0.0415 - val_loss: 0.1427 - val_mse: 0.0273\n",
      "Epoch 134/200\n",
      "8/8 [==============================] - 0s 6ms/step - loss: 0.1805 - mse: 0.0510 - val_loss: 0.1418 - val_mse: 0.0257\n",
      "Epoch 135/200\n",
      "8/8 [==============================] - ETA: 0s - loss: 0.1429 - mse: 0.035 - 0s 6ms/step - loss: 0.1581 - mse: 0.0402 - val_loss: 0.1401 - val_mse: 0.0297\n",
      "Epoch 136/200\n",
      "8/8 [==============================] - 0s 6ms/step - loss: 0.2053 - mse: 0.0639 - val_loss: 0.1353 - val_mse: 0.0272\n",
      "Epoch 137/200\n",
      "8/8 [==============================] - 0s 6ms/step - loss: 0.1957 - mse: 0.0615 - val_loss: 0.1233 - val_mse: 0.0209\n",
      "Epoch 138/200\n",
      "8/8 [==============================] - 0s 6ms/step - loss: 0.2139 - mse: 0.0733 - val_loss: 0.1316 - val_mse: 0.0225\n",
      "Epoch 139/200\n",
      "8/8 [==============================] - 0s 6ms/step - loss: 0.1402 - mse: 0.0331 - val_loss: 0.1317 - val_mse: 0.0254\n",
      "Epoch 140/200\n",
      "8/8 [==============================] - 0s 6ms/step - loss: 0.1951 - mse: 0.0731 - val_loss: 0.1301 - val_mse: 0.0217\n",
      "Epoch 141/200\n",
      "8/8 [==============================] - ETA: 0s - loss: 0.2433 - mse: 0.098 - 0s 6ms/step - loss: 0.1757 - mse: 0.0552 - val_loss: 0.1398 - val_mse: 0.0246\n",
      "Epoch 142/200\n",
      "8/8 [==============================] - 0s 6ms/step - loss: 0.1590 - mse: 0.0411 - val_loss: 0.1525 - val_mse: 0.0371\n",
      "Epoch 143/200\n",
      "8/8 [==============================] - 0s 6ms/step - loss: 0.1699 - mse: 0.0422 - val_loss: 0.1647 - val_mse: 0.0438\n",
      "Epoch 144/200\n",
      "8/8 [==============================] - 0s 6ms/step - loss: 0.1692 - mse: 0.0500 - val_loss: 0.1372 - val_mse: 0.0239\n",
      "Epoch 145/200\n",
      "8/8 [==============================] - 0s 6ms/step - loss: 0.1741 - mse: 0.0443 - val_loss: 0.1372 - val_mse: 0.0243\n",
      "Epoch 146/200\n",
      "8/8 [==============================] - 0s 6ms/step - loss: 0.1911 - mse: 0.0670 - val_loss: 0.1286 - val_mse: 0.0231\n",
      "Epoch 147/200\n",
      "8/8 [==============================] - 0s 6ms/step - loss: 0.1250 - mse: 0.0303 - val_loss: 0.1349 - val_mse: 0.0264\n",
      "Epoch 148/200\n",
      "8/8 [==============================] - 0s 6ms/step - loss: 0.1638 - mse: 0.0519 - val_loss: 0.1305 - val_mse: 0.0231\n",
      "Epoch 149/200\n",
      "8/8 [==============================] - 0s 6ms/step - loss: 0.1712 - mse: 0.0486 - val_loss: 0.1312 - val_mse: 0.0224\n",
      "Epoch 150/200\n",
      "8/8 [==============================] - ETA: 0s - loss: 0.0743 - mse: 0.006 - 0s 6ms/step - loss: 0.1325 - mse: 0.0300 - val_loss: 0.1280 - val_mse: 0.0236\n",
      "Epoch 151/200\n",
      "8/8 [==============================] - 0s 7ms/step - loss: 0.1462 - mse: 0.0455 - val_loss: 0.1245 - val_mse: 0.0204\n",
      "Epoch 152/200\n",
      "8/8 [==============================] - 0s 6ms/step - loss: 0.2009 - mse: 0.0626 - val_loss: 0.1251 - val_mse: 0.0217\n",
      "Epoch 153/200\n",
      "8/8 [==============================] - 0s 6ms/step - loss: 0.1485 - mse: 0.0414 - val_loss: 0.1271 - val_mse: 0.0237\n",
      "Epoch 154/200\n",
      "8/8 [==============================] - 0s 6ms/step - loss: 0.1497 - mse: 0.0367 - val_loss: 0.1286 - val_mse: 0.0216\n",
      "Epoch 155/200\n",
      "8/8 [==============================] - 0s 6ms/step - loss: 0.1451 - mse: 0.0432 - val_loss: 0.1335 - val_mse: 0.0250\n",
      "Epoch 156/200\n",
      "8/8 [==============================] - 0s 7ms/step - loss: 0.1626 - mse: 0.0417 - val_loss: 0.1475 - val_mse: 0.0343\n",
      "Epoch 157/200\n",
      "8/8 [==============================] - 0s 6ms/step - loss: 0.1636 - mse: 0.0422 - val_loss: 0.1402 - val_mse: 0.0273\n",
      "Epoch 158/200\n",
      "8/8 [==============================] - 0s 6ms/step - loss: 0.1367 - mse: 0.0360 - val_loss: 0.1414 - val_mse: 0.0278\n",
      "Epoch 159/200\n",
      "8/8 [==============================] - 0s 6ms/step - loss: 0.1686 - mse: 0.0506 - val_loss: 0.1370 - val_mse: 0.0262\n",
      "Epoch 160/200\n",
      "8/8 [==============================] - ETA: 0s - loss: 0.1595 - mse: 0.040 - 0s 7ms/step - loss: 0.1860 - mse: 0.0572 - val_loss: 0.1441 - val_mse: 0.0319\n",
      "Epoch 161/200\n",
      "8/8 [==============================] - 0s 6ms/step - loss: 0.1737 - mse: 0.0542 - val_loss: 0.1411 - val_mse: 0.0301\n",
      "Epoch 162/200\n",
      "8/8 [==============================] - 0s 6ms/step - loss: 0.1744 - mse: 0.0517 - val_loss: 0.1386 - val_mse: 0.0286\n",
      "Epoch 163/200\n",
      "8/8 [==============================] - 0s 6ms/step - loss: 0.1455 - mse: 0.0380 - val_loss: 0.1412 - val_mse: 0.0296\n",
      "Epoch 164/200\n",
      "8/8 [==============================] - 0s 6ms/step - loss: 0.1589 - mse: 0.0392 - val_loss: 0.1571 - val_mse: 0.0398\n",
      "Epoch 165/200\n",
      "8/8 [==============================] - 0s 7ms/step - loss: 0.1638 - mse: 0.0371 - val_loss: 0.1448 - val_mse: 0.0324\n",
      "Epoch 166/200\n",
      "8/8 [==============================] - 0s 6ms/step - loss: 0.1431 - mse: 0.0363 - val_loss: 0.1401 - val_mse: 0.0261\n",
      "Epoch 167/200\n",
      "8/8 [==============================] - 0s 7ms/step - loss: 0.1586 - mse: 0.0396 - val_loss: 0.1437 - val_mse: 0.0270\n",
      "Epoch 168/200\n",
      "8/8 [==============================] - 0s 6ms/step - loss: 0.1558 - mse: 0.0497 - val_loss: 0.1528 - val_mse: 0.0374\n",
      "Epoch 169/200\n",
      "8/8 [==============================] - 0s 6ms/step - loss: 0.1550 - mse: 0.0384 - val_loss: 0.1380 - val_mse: 0.0281\n",
      "Epoch 170/200\n",
      "8/8 [==============================] - 0s 6ms/step - loss: 0.1409 - mse: 0.0350 - val_loss: 0.1342 - val_mse: 0.0265\n",
      "Epoch 171/200\n",
      "8/8 [==============================] - 0s 6ms/step - loss: 0.1652 - mse: 0.0459 - val_loss: 0.1324 - val_mse: 0.0233\n",
      "Epoch 172/200\n",
      "8/8 [==============================] - 0s 6ms/step - loss: 0.1415 - mse: 0.0334 - val_loss: 0.1397 - val_mse: 0.0257\n",
      "Epoch 173/200\n",
      "8/8 [==============================] - 0s 6ms/step - loss: 0.1597 - mse: 0.0453 - val_loss: 0.1452 - val_mse: 0.0328\n",
      "Epoch 174/200\n"
     ]
    },
    {
     "name": "stdout",
     "output_type": "stream",
     "text": [
      "8/8 [==============================] - 0s 6ms/step - loss: 0.1660 - mse: 0.0501 - val_loss: 0.1422 - val_mse: 0.0263\n",
      "Epoch 175/200\n",
      "8/8 [==============================] - 0s 6ms/step - loss: 0.1467 - mse: 0.0370 - val_loss: 0.1396 - val_mse: 0.0253\n",
      "Epoch 176/200\n",
      "8/8 [==============================] - 0s 6ms/step - loss: 0.1457 - mse: 0.0379 - val_loss: 0.1398 - val_mse: 0.0288\n",
      "Epoch 177/200\n",
      "8/8 [==============================] - 0s 6ms/step - loss: 0.1587 - mse: 0.0427 - val_loss: 0.1413 - val_mse: 0.0297\n",
      "Epoch 178/200\n",
      "8/8 [==============================] - 0s 6ms/step - loss: 0.1613 - mse: 0.0430 - val_loss: 0.1342 - val_mse: 0.0252\n",
      "Epoch 179/200\n",
      "8/8 [==============================] - 0s 6ms/step - loss: 0.1467 - mse: 0.0316 - val_loss: 0.1403 - val_mse: 0.0249\n",
      "Epoch 180/200\n",
      "8/8 [==============================] - 0s 6ms/step - loss: 0.1715 - mse: 0.0511 - val_loss: 0.1373 - val_mse: 0.0248\n",
      "Epoch 181/200\n",
      "8/8 [==============================] - 0s 6ms/step - loss: 0.1377 - mse: 0.0310 - val_loss: 0.1284 - val_mse: 0.0235\n",
      "Epoch 182/200\n",
      "8/8 [==============================] - 0s 6ms/step - loss: 0.1572 - mse: 0.0418 - val_loss: 0.1331 - val_mse: 0.0262\n",
      "Epoch 183/200\n",
      "8/8 [==============================] - 0s 6ms/step - loss: 0.1581 - mse: 0.0428 - val_loss: 0.1313 - val_mse: 0.0249\n",
      "Epoch 184/200\n",
      "8/8 [==============================] - 0s 6ms/step - loss: 0.1498 - mse: 0.0459 - val_loss: 0.1395 - val_mse: 0.0295\n",
      "Epoch 185/200\n",
      "8/8 [==============================] - 0s 6ms/step - loss: 0.1534 - mse: 0.0412 - val_loss: 0.1520 - val_mse: 0.0368\n",
      "Epoch 186/200\n",
      "8/8 [==============================] - 0s 6ms/step - loss: 0.1356 - mse: 0.0341 - val_loss: 0.1423 - val_mse: 0.0309\n",
      "Epoch 187/200\n",
      "8/8 [==============================] - 0s 6ms/step - loss: 0.1763 - mse: 0.0505 - val_loss: 0.1418 - val_mse: 0.0288\n",
      "Epoch 188/200\n",
      "8/8 [==============================] - 0s 6ms/step - loss: 0.1395 - mse: 0.0318 - val_loss: 0.1385 - val_mse: 0.0257\n",
      "Epoch 189/200\n",
      "8/8 [==============================] - 0s 6ms/step - loss: 0.1825 - mse: 0.0493 - val_loss: 0.1378 - val_mse: 0.0246\n",
      "Epoch 190/200\n",
      "8/8 [==============================] - 0s 6ms/step - loss: 0.1363 - mse: 0.0365 - val_loss: 0.1385 - val_mse: 0.0278\n",
      "Epoch 191/200\n",
      "8/8 [==============================] - 0s 6ms/step - loss: 0.1718 - mse: 0.0518 - val_loss: 0.1457 - val_mse: 0.0326\n",
      "Epoch 192/200\n",
      "8/8 [==============================] - ETA: 0s - loss: 0.2045 - mse: 0.064 - 0s 6ms/step - loss: 0.1572 - mse: 0.0414 - val_loss: 0.1240 - val_mse: 0.0204\n",
      "Epoch 193/200\n",
      "8/8 [==============================] - 0s 6ms/step - loss: 0.1864 - mse: 0.0597 - val_loss: 0.1234 - val_mse: 0.0207\n",
      "Epoch 194/200\n",
      "8/8 [==============================] - 0s 6ms/step - loss: 0.1492 - mse: 0.0383 - val_loss: 0.1246 - val_mse: 0.0224\n",
      "Epoch 195/200\n",
      "8/8 [==============================] - 0s 6ms/step - loss: 0.1652 - mse: 0.0509 - val_loss: 0.1330 - val_mse: 0.0260\n",
      "Epoch 196/200\n",
      "8/8 [==============================] - 0s 6ms/step - loss: 0.1622 - mse: 0.0409 - val_loss: 0.1254 - val_mse: 0.0217\n",
      "Epoch 197/200\n",
      "8/8 [==============================] - 0s 6ms/step - loss: 0.1683 - mse: 0.0503 - val_loss: 0.1325 - val_mse: 0.0259\n",
      "Epoch 198/200\n",
      "8/8 [==============================] - 0s 6ms/step - loss: 0.1771 - mse: 0.0550 - val_loss: 0.1337 - val_mse: 0.0245\n",
      "Epoch 199/200\n",
      "8/8 [==============================] - 0s 6ms/step - loss: 0.1641 - mse: 0.0499 - val_loss: 0.1394 - val_mse: 0.0254\n",
      "Epoch 200/200\n",
      "8/8 [==============================] - 0s 6ms/step - loss: 0.1619 - mse: 0.0469 - val_loss: 0.1366 - val_mse: 0.0250\n"
     ]
    }
   ],
   "source": [
    "EPOCHS=200\n",
    "\n",
    "model = crear_modeloFF()\n",
    "\n",
    "history=model.fit(trainX,y_train,epochs=EPOCHS,validation_data=(testX,y_val),batch_size=look_back)"
   ]
  },
  {
   "cell_type": "markdown",
   "metadata": {},
   "source": [
    "# Visualizamos resultados"
   ]
  },
  {
   "cell_type": "code",
   "execution_count": 17,
   "metadata": {},
   "outputs": [],
   "source": [
    "def mape(actual, pred): \n",
    "    actual, pred = np.array(actual), np.array(pred)\n",
    "    return np.mean(np.abs((actual - pred) / actual)) * 100\n",
    "\n",
    "\n",
    "def compute_metrics_fn(y_valid_resc, y_hat_resc):\n",
    "    mae_ = mean_absolute_error(y_valid_resc, y_hat_resc)\n",
    "    mse_ = mean_squared_error(y_valid_resc, y_hat_resc)\n",
    "    rmse_ = mean_squared_error(y_valid_resc, y_hat_resc, squared = False)\n",
    "    cvrmse_ = rmse_/np.mean(y_valid_resc)*100\n",
    "    mape_ = mape(y_valid_resc, y_hat_resc)\n",
    "    \n",
    "    return mae_, mse_, rmse_, cvrmse_, mape_"
   ]
  },
  {
   "cell_type": "code",
   "execution_count": 18,
   "metadata": {},
   "outputs": [
    {
     "name": "stdout",
     "output_type": "stream",
     "text": [
      "WARNING:tensorflow:Model was constructed with shape (None, 1, 7) for input KerasTensor(type_spec=TensorSpec(shape=(None, 1, 7), dtype=tf.float32, name='dense_input'), name='dense_input', description=\"created by layer 'dense_input'\"), but it was called on an input with incompatible shape (None, 7).\n"
     ]
    }
   ],
   "source": [
    "# hacemos las predicciones\n",
    "trainPredict = model.predict(x_train)\n",
    "testPredict = model.predict(x_val)\n",
    "\n",
    "# invertimos las predicciones\n",
    "trainPredict = scaler.inverse_transform(trainPredict)\n",
    "trainY = y_train.reshape(y_train.shape[0], 1)\n",
    "trainY_scalerInverse = scaler.inverse_transform(trainY)\n",
    "testPredict = scaler.inverse_transform(testPredict)\n",
    "testY = y_val.reshape(y_val.shape[0], 1)\n",
    "testY_scalerInverse = scaler.inverse_transform(testY)"
   ]
  },
  {
   "cell_type": "code",
   "execution_count": 19,
   "metadata": {},
   "outputs": [
    {
     "name": "stdout",
     "output_type": "stream",
     "text": [
      "Resultado del entrenamiento: 251970.28 MAE\n",
      "Resultado del entrenamiento: 128062480384.00 MSE\n",
      "Resultado del entrenamiento: 357858.19 RMSE\n",
      "Resultado del entrenamiento: 11.59 CVRMSE\n",
      "Resultado del entrenamiento: 10.03 MAPE \n",
      "\n",
      "Resultado del test: 271999.12 MAE\n",
      "Resultado del test: 99090636800.00 MSE\n",
      "Resultado del test: 314786.66 RMSE\n",
      "Resultado del test: 6.53 CVRMSE\n",
      "Resultado del test: 5.96 MAPE\n"
     ]
    }
   ],
   "source": [
    "# calculamos las metricas de error\n",
    "trainScore_MAE, trainScore_MSE, trainScore_RMSE, trainScore_CVRMSE, trainScore_MAPE  =  compute_metrics_fn(trainY_scalerInverse, trainPredict)\n",
    "print('Resultado del entrenamiento: %.2f MAE' % (trainScore_MAE))\n",
    "print('Resultado del entrenamiento: %.2f MSE' % (trainScore_MSE))\n",
    "print('Resultado del entrenamiento: %.2f RMSE' % (trainScore_RMSE))\n",
    "print('Resultado del entrenamiento: %.2f CVRMSE' % (trainScore_CVRMSE))\n",
    "print('Resultado del entrenamiento: %.2f MAPE \\n' % (trainScore_MAPE))\n",
    "\n",
    "testScore_MAE, testScore_MSE, testScore_RMSE, testScore_CVRMSE, testScore_MAPE  =  compute_metrics_fn(testY_scalerInverse, testPredict)\n",
    "print('Resultado del test: %.2f MAE' % (testScore_MAE))\n",
    "print('Resultado del test: %.2f MSE' % (testScore_MSE))\n",
    "print('Resultado del test: %.2f RMSE' % (testScore_RMSE))\n",
    "print('Resultado del test: %.2f CVRMSE' % (testScore_CVRMSE))\n",
    "print('Resultado del test: %.2f MAPE' % (testScore_MAPE))"
   ]
  },
  {
   "cell_type": "code",
   "execution_count": 20,
   "metadata": {},
   "outputs": [
    {
     "data": {
      "image/png": "[encoded data removed]",
      "text/plain": [
       "<Figure size 432x288 with 1 Axes>"
      ]
     },
     "metadata": {
      "needs_background": "light"
     },
     "output_type": "display_data"
    }
   ],
   "source": [
    "plt.plot(df.values)\n",
    "plt.grid(True)\n",
    "plt.title(\"Viajes totales según el INE\", fontsize = 15)\n",
    "plt.xlabel(\"Tiempo (dias)\", fontsize = 10)\n",
    "plt.ylabel(\"viajes\", fontsize = 10)\n",
    "plt.show()"
   ]
  },
  {
   "cell_type": "code",
   "execution_count": 21,
   "metadata": {},
   "outputs": [
    {
     "data": {
      "image/png": "[encoded data removed]",
      "text/plain": [
       "<Figure size 432x288 with 1 Axes>"
      ]
     },
     "metadata": {
      "needs_background": "light"
     },
     "output_type": "display_data"
    }
   ],
   "source": [
    "dataset = df.values\n",
    "dataset = dataset.astype('float32')\n",
    "# predicciones del entrenamiento de cambio para plotear\n",
    "trainPredictPlot = np.empty_like(dataset)\n",
    "trainPredictPlot[:, :] = np.nan\n",
    "trainPredictPlot[look_back:len(trainPredict)+look_back, :] = trainPredict\n",
    "# predicciones del test de cambio para plotear\n",
    "testPredictPlot = np.empty_like(dataset)\n",
    "testPredictPlot[:, :] = np.nan\n",
    "testPredictPlot[len(trainPredict)+(look_back):len(dataset), :] = testPredict\n",
    "# plot baseline and predictions\n",
    "plt.plot(df.values)\n",
    "# ploteamos linea base y predicciones\n",
    "plt.plot(trainPredictPlot,'r', linewidth = 2)\n",
    "plt.plot(testPredictPlot,'m', linewidth = 2)\n",
    "plt.legend( ('Datos', 'Prediccion datos entramiento', 'Prediccion sobre los datos de test'), loc = 'upper left')\n",
    "plt.grid(True)\n",
    "plt.title(\"Viajes totales\", fontsize = 15)\n",
    "plt.xlabel(\"Tiempo (dias)\", fontsize = 10)\n",
    "plt.ylabel(\"viajes\", fontsize = 10)\n",
    "plt.show()"
   ]
  },
  {
   "cell_type": "code",
   "execution_count": 22,
   "metadata": {},
   "outputs": [
    {
     "data": {
      "image/png": "[encoded data removed]",
      "text/plain": [
       "<Figure size 432x288 with 1 Axes>"
      ]
     },
     "metadata": {
      "needs_background": "light"
     },
     "output_type": "display_data"
    }
   ],
   "source": [
    "results=model.predict(x_val)\n",
    "\n",
    "plt.scatter(range(len(y_val)),y_val,c='g')\n",
    "plt.scatter(range(len(results)),results,c='r')\n",
    "plt.title('validate')\n",
    "plt.show()"
   ]
  },
  {
   "cell_type": "code",
   "execution_count": 23,
   "metadata": {},
   "outputs": [
    {
     "data": {
      "image/png": "[encoded data removed]",
      "text/plain": [
       "<Figure size 432x288 with 1 Axes>"
      ]
     },
     "metadata": {
      "needs_background": "light"
     },
     "output_type": "display_data"
    }
   ],
   "source": [
    "plt.plot(history.history['loss'])\n",
    "plt.plot(history.history['val_loss'])\n",
    "plt.title('loss')\n",
    "plt.legend( ('training loss', 'validate loss'), loc = 'upper right')\n",
    "plt.show()"
   ]
  },
  {
   "cell_type": "markdown",
   "metadata": {},
   "source": [
    "# Prediccion a futuro"
   ]
  },
  {
   "cell_type": "code",
   "execution_count": 24,
   "metadata": {},
   "outputs": [
    {
     "data": {
      "text/html": [
       "<div>\n",
       "<style scoped>\n",
       "    .dataframe tbody tr th:only-of-type {\n",
       "        vertical-align: middle;\n",
       "    }\n",
       "\n",
       "    .dataframe tbody tr th {\n",
       "        vertical-align: top;\n",
       "    }\n",
       "\n",
       "    .dataframe thead th {\n",
       "        text-align: right;\n",
       "    }\n",
       "</style>\n",
       "<table border=\"1\" class=\"dataframe\">\n",
       "  <thead>\n",
       "    <tr style=\"text-align: right;\">\n",
       "      <th></th>\n",
       "      <th>Viajes</th>\n",
       "    </tr>\n",
       "  </thead>\n",
       "  <tbody>\n",
       "    <tr>\n",
       "      <th>2020-06-07</th>\n",
       "      <td>3396402</td>\n",
       "    </tr>\n",
       "    <tr>\n",
       "      <th>2020-06-08</th>\n",
       "      <td>4461143</td>\n",
       "    </tr>\n",
       "    <tr>\n",
       "      <th>2020-06-09</th>\n",
       "      <td>4478072</td>\n",
       "    </tr>\n",
       "    <tr>\n",
       "      <th>2020-06-10</th>\n",
       "      <td>5303428</td>\n",
       "    </tr>\n",
       "    <tr>\n",
       "      <th>2020-06-11</th>\n",
       "      <td>5200931</td>\n",
       "    </tr>\n",
       "    <tr>\n",
       "      <th>2020-06-12</th>\n",
       "      <td>5215302</td>\n",
       "    </tr>\n",
       "    <tr>\n",
       "      <th>2020-06-13</th>\n",
       "      <td>4445190</td>\n",
       "    </tr>\n",
       "    <tr>\n",
       "      <th>2020-06-14</th>\n",
       "      <td>3753016</td>\n",
       "    </tr>\n",
       "    <tr>\n",
       "      <th>2020-06-15</th>\n",
       "      <td>4973188</td>\n",
       "    </tr>\n",
       "    <tr>\n",
       "      <th>2020-06-16</th>\n",
       "      <td>5308885</td>\n",
       "    </tr>\n",
       "    <tr>\n",
       "      <th>2020-06-17</th>\n",
       "      <td>5366644</td>\n",
       "    </tr>\n",
       "    <tr>\n",
       "      <th>2020-06-18</th>\n",
       "      <td>5439425</td>\n",
       "    </tr>\n",
       "    <tr>\n",
       "      <th>2020-06-19</th>\n",
       "      <td>5519725</td>\n",
       "    </tr>\n",
       "    <tr>\n",
       "      <th>2020-06-20</th>\n",
       "      <td>4626546</td>\n",
       "    </tr>\n",
       "  </tbody>\n",
       "</table>\n",
       "</div>"
      ],
      "text/plain": [
       "             Viajes\n",
       "2020-06-07  3396402\n",
       "2020-06-08  4461143\n",
       "2020-06-09  4478072\n",
       "2020-06-10  5303428\n",
       "2020-06-11  5200931\n",
       "2020-06-12  5215302\n",
       "2020-06-13  4445190\n",
       "2020-06-14  3753016\n",
       "2020-06-15  4973188\n",
       "2020-06-16  5308885\n",
       "2020-06-17  5366644\n",
       "2020-06-18  5439425\n",
       "2020-06-19  5519725\n",
       "2020-06-20  4626546"
      ]
     },
     "execution_count": 24,
     "metadata": {},
     "output_type": "execute_result"
    }
   ],
   "source": [
    "# usaremos los 14 ultimos dias del confinamiento en junio para predecir como habrian sido los dias del 21 al 27 en caso de que\n",
    "# el confinamiento se hubiese alargado por una semana mas\n",
    "\n",
    "ultimosDias = df['2020-6-7':'2020-6-20']\n",
    "ultimosDias"
   ]
  },
  {
   "cell_type": "markdown",
   "metadata": {},
   "source": [
    "# Preparamos los datos para el test"
   ]
  },
  {
   "cell_type": "code",
   "execution_count": 25,
   "metadata": {},
   "outputs": [
    {
     "data": {
      "text/html": [
       "<div>\n",
       "<style scoped>\n",
       "    .dataframe tbody tr th:only-of-type {\n",
       "        vertical-align: middle;\n",
       "    }\n",
       "\n",
       "    .dataframe tbody tr th {\n",
       "        vertical-align: top;\n",
       "    }\n",
       "\n",
       "    .dataframe thead th {\n",
       "        text-align: right;\n",
       "    }\n",
       "</style>\n",
       "<table border=\"1\" class=\"dataframe\">\n",
       "  <thead>\n",
       "    <tr style=\"text-align: right;\">\n",
       "      <th></th>\n",
       "      <th>var1(t-7)</th>\n",
       "      <th>var1(t-6)</th>\n",
       "      <th>var1(t-5)</th>\n",
       "      <th>var1(t-4)</th>\n",
       "      <th>var1(t-3)</th>\n",
       "      <th>var1(t-2)</th>\n",
       "      <th>var1(t-1)</th>\n",
       "    </tr>\n",
       "  </thead>\n",
       "  <tbody>\n",
       "    <tr>\n",
       "      <th>7</th>\n",
       "      <td>-1.000000</td>\n",
       "      <td>0.002901</td>\n",
       "      <td>0.018846</td>\n",
       "      <td>0.796266</td>\n",
       "      <td>0.699721</td>\n",
       "      <td>0.713258</td>\n",
       "      <td>-0.012126</td>\n",
       "    </tr>\n",
       "    <tr>\n",
       "      <th>8</th>\n",
       "      <td>0.002901</td>\n",
       "      <td>0.018846</td>\n",
       "      <td>0.796266</td>\n",
       "      <td>0.699721</td>\n",
       "      <td>0.713258</td>\n",
       "      <td>-0.012126</td>\n",
       "      <td>-0.664099</td>\n",
       "    </tr>\n",
       "    <tr>\n",
       "      <th>9</th>\n",
       "      <td>0.018846</td>\n",
       "      <td>0.796266</td>\n",
       "      <td>0.699721</td>\n",
       "      <td>0.713258</td>\n",
       "      <td>-0.012126</td>\n",
       "      <td>-0.664099</td>\n",
       "      <td>0.485206</td>\n",
       "    </tr>\n",
       "    <tr>\n",
       "      <th>10</th>\n",
       "      <td>0.796266</td>\n",
       "      <td>0.699721</td>\n",
       "      <td>0.713258</td>\n",
       "      <td>-0.012126</td>\n",
       "      <td>-0.664099</td>\n",
       "      <td>0.485206</td>\n",
       "      <td>0.801405</td>\n",
       "    </tr>\n",
       "    <tr>\n",
       "      <th>11</th>\n",
       "      <td>0.699721</td>\n",
       "      <td>0.713258</td>\n",
       "      <td>-0.012126</td>\n",
       "      <td>-0.664099</td>\n",
       "      <td>0.485206</td>\n",
       "      <td>0.801405</td>\n",
       "      <td>0.855810</td>\n",
       "    </tr>\n",
       "    <tr>\n",
       "      <th>12</th>\n",
       "      <td>0.713258</td>\n",
       "      <td>-0.012126</td>\n",
       "      <td>-0.664099</td>\n",
       "      <td>0.485206</td>\n",
       "      <td>0.801405</td>\n",
       "      <td>0.855810</td>\n",
       "      <td>0.924364</td>\n",
       "    </tr>\n",
       "    <tr>\n",
       "      <th>13</th>\n",
       "      <td>-0.012126</td>\n",
       "      <td>-0.664099</td>\n",
       "      <td>0.485206</td>\n",
       "      <td>0.801405</td>\n",
       "      <td>0.855810</td>\n",
       "      <td>0.924364</td>\n",
       "      <td>1.000000</td>\n",
       "    </tr>\n",
       "  </tbody>\n",
       "</table>\n",
       "</div>"
      ],
      "text/plain": [
       "    var1(t-7)  var1(t-6)  var1(t-5)  var1(t-4)  var1(t-3)  var1(t-2)  \\\n",
       "7   -1.000000   0.002901   0.018846   0.796266   0.699721   0.713258   \n",
       "8    0.002901   0.018846   0.796266   0.699721   0.713258  -0.012126   \n",
       "9    0.018846   0.796266   0.699721   0.713258  -0.012126  -0.664099   \n",
       "10   0.796266   0.699721   0.713258  -0.012126  -0.664099   0.485206   \n",
       "11   0.699721   0.713258  -0.012126  -0.664099   0.485206   0.801405   \n",
       "12   0.713258  -0.012126  -0.664099   0.485206   0.801405   0.855810   \n",
       "13  -0.012126  -0.664099   0.485206   0.801405   0.855810   0.924364   \n",
       "\n",
       "    var1(t-1)  \n",
       "7   -0.012126  \n",
       "8   -0.664099  \n",
       "9    0.485206  \n",
       "10   0.801405  \n",
       "11   0.855810  \n",
       "12   0.924364  \n",
       "13   1.000000  "
      ]
     },
     "execution_count": 25,
     "metadata": {},
     "output_type": "execute_result"
    }
   ],
   "source": [
    "# cargamos el dataframe en la variable values\n",
    "values = ultimosDias.values\n",
    "\n",
    "# convertimos los enteros en floats\n",
    "values = values.astype('float32')\n",
    "\n",
    "# normalizamos los datos a escala de entre -1 y 1\n",
    "values=values.reshape(-1, 1) # esto lo hacemos porque tenemos 1 sola dimension\n",
    "scaled = scaler.fit_transform(values)\n",
    "\n",
    "# usamos la funcion definida previamente\n",
    "reframed = series_to_supervised(scaled, look_back, 1)\n",
    "\n",
    "# eliminamos la ultima columna pues es parte de lo que queremos hayar\n",
    "reframed.drop(reframed.columns[[7]], inplace=True, axis=1)\n",
    "reframed.head(7)"
   ]
  },
  {
   "cell_type": "code",
   "execution_count": 26,
   "metadata": {},
   "outputs": [
    {
     "name": "stdout",
     "output_type": "stream",
     "text": [
      "(1, 1, 7)\n"
     ]
    },
    {
     "data": {
      "text/plain": [
       "array([[[-0.01212597, -0.6640985 ,  0.48520565,  0.80140543,\n",
       "          0.8558097 ,  0.9243636 ,  1.        ]]], dtype=float32)"
      ]
     },
     "execution_count": 26,
     "metadata": {},
     "output_type": "execute_result"
    }
   ],
   "source": [
    "values = reframed.values\n",
    "\n",
    "#tomamos los valores para realizar el test\n",
    "x_test = values[6:, :]\n",
    "\n",
    "# reshape input to be 3D [samples, timesteps, features]\n",
    "x_test = x_test.reshape((x_test.shape[0], 1, x_test.shape[1]))\n",
    "print(x_test.shape)\n",
    "x_test"
   ]
  },
  {
   "cell_type": "code",
   "execution_count": 27,
   "metadata": {},
   "outputs": [],
   "source": [
    "#definimos la funcion para realizar el desplazamiento que se hara en el array cada prediccion pues para hacer\n",
    "#la siguiente prediccion eliminamos el dia mas antiguo, desplazamos un lugar el resto de dias y añadimos el ultimo dia que\n",
    "#se ha predecido, esto es por que para predecir un dia se usan los 7 dias previos\n",
    "\n",
    "def agregarNuevoValor(x_test,nuevoValor):\n",
    "    for i in range(x_test.shape[2]-1):\n",
    "        x_test[0][0][i] = x_test[0][0][i+1]\n",
    "    x_test[0][0][x_test.shape[2]-1]=nuevoValor\n",
    "    return x_test"
   ]
  },
  {
   "cell_type": "markdown",
   "metadata": {},
   "source": [
    "# Predicciones para la proxima semana"
   ]
  },
  {
   "cell_type": "code",
   "execution_count": 28,
   "metadata": {},
   "outputs": [
    {
     "name": "stdout",
     "output_type": "stream",
     "text": [
      "[[[-0.01212597 -0.6640985   0.48520565  0.80140543  0.8558097\n",
      "    0.9243636   1.        ]]]\n",
      "[[[-0.6640985   0.48520565  0.80140543  0.8558097   0.9243636\n",
      "    1.          0.33346203]]]\n",
      "[[[ 0.48520565  0.80140543  0.8558097   0.9243636   1.\n",
      "    0.33346203 -0.35846725]]]\n",
      "[[[ 0.80140543  0.8558097   0.9243636   1.          0.33346203\n",
      "   -0.35846725  0.54997975]]]\n",
      "[[[ 0.8558097   0.9243636   1.          0.33346203 -0.35846725\n",
      "    0.54997975  0.7764948 ]]]\n",
      "[[[ 0.9243636   1.          0.33346203 -0.35846725  0.54997975\n",
      "    0.7764948   0.7125579 ]]]\n",
      "[[[ 1.          0.33346203 -0.35846725  0.54997975  0.7764948\n",
      "    0.7125579   0.82687974]]]\n"
     ]
    }
   ],
   "source": [
    "results=[]\n",
    "for i in range(7):\n",
    "    parcial=model.predict(x_test)\n",
    "    results.append(parcial[0])\n",
    "    print(x_test)\n",
    "    x_test=agregarNuevoValor(x_test,parcial[0])"
   ]
  },
  {
   "cell_type": "markdown",
   "metadata": {},
   "source": [
    "# Re-Convertimos los resultados"
   ]
  },
  {
   "cell_type": "code",
   "execution_count": 29,
   "metadata": {},
   "outputs": [
    {
     "name": "stdout",
     "output_type": "stream",
     "text": [
      "[array([0.33346203], dtype=float32), array([-0.35846725], dtype=float32), array([0.54997975], dtype=float32), array([0.7764948], dtype=float32), array([0.7125579], dtype=float32), array([0.82687974], dtype=float32), array([0.8167568], dtype=float32)]\n"
     ]
    },
    {
     "data": {
      "text/plain": [
       "array([[4812087.5005836 ],\n",
       "       [4077492.84182902],\n",
       "       [5041956.01836018],\n",
       "       [5282438.32477433],\n",
       "       [5214558.99289898],\n",
       "       [5335930.07298097],\n",
       "       [5325182.92183841]])"
      ]
     },
     "execution_count": 29,
     "metadata": {},
     "output_type": "execute_result"
    }
   ],
   "source": [
    "adimen = [x for x in results]    \n",
    "print(adimen)\n",
    "inverted = scaler.inverse_transform(adimen)\n",
    "inverted"
   ]
  },
  {
   "cell_type": "markdown",
   "metadata": {},
   "source": [
    "# Visualizamos el pronostico"
   ]
  },
  {
   "cell_type": "code",
   "execution_count": 30,
   "metadata": {},
   "outputs": [
    {
     "data": {
      "text/plain": [
       "<AxesSubplot:>"
      ]
     },
     "execution_count": 30,
     "metadata": {},
     "output_type": "execute_result"
    },
    {
     "data": {
      "image/png": "[encoded data removed]",
      "text/plain": [
       "<Figure size 432x288 with 1 Axes>"
      ]
     },
     "metadata": {
      "needs_background": "light"
     },
     "output_type": "display_data"
    }
   ],
   "source": [
    "prediccion = pd.DataFrame(inverted)\n",
    "prediccion.columns = ['pronostico']\n",
    "prediccion.plot()"
   ]
  },
  {
   "cell_type": "markdown",
   "metadata": {},
   "source": [
    "# Prediccion con datos actuales"
   ]
  },
  {
   "cell_type": "code",
   "execution_count": 31,
   "metadata": {},
   "outputs": [
    {
     "data": {
      "text/html": [
       "<div>\n",
       "<style scoped>\n",
       "    .dataframe tbody tr th:only-of-type {\n",
       "        vertical-align: middle;\n",
       "    }\n",
       "\n",
       "    .dataframe tbody tr th {\n",
       "        vertical-align: top;\n",
       "    }\n",
       "\n",
       "    .dataframe thead th {\n",
       "        text-align: right;\n",
       "    }\n",
       "</style>\n",
       "<table border=\"1\" class=\"dataframe\">\n",
       "  <thead>\n",
       "    <tr style=\"text-align: right;\">\n",
       "      <th></th>\n",
       "      <th>Viajes</th>\n",
       "    </tr>\n",
       "  </thead>\n",
       "  <tbody>\n",
       "    <tr>\n",
       "      <th>2020-05-11</th>\n",
       "      <td>3545526</td>\n",
       "    </tr>\n",
       "    <tr>\n",
       "      <th>2020-05-12</th>\n",
       "      <td>3985384</td>\n",
       "    </tr>\n",
       "    <tr>\n",
       "      <th>2020-05-13</th>\n",
       "      <td>3922169</td>\n",
       "    </tr>\n",
       "    <tr>\n",
       "      <th>2020-05-14</th>\n",
       "      <td>3845239</td>\n",
       "    </tr>\n",
       "    <tr>\n",
       "      <th>2020-05-15</th>\n",
       "      <td>3745419</td>\n",
       "    </tr>\n",
       "    <tr>\n",
       "      <th>2020-05-16</th>\n",
       "      <td>2983259</td>\n",
       "    </tr>\n",
       "    <tr>\n",
       "      <th>2020-05-17</th>\n",
       "      <td>2430478</td>\n",
       "    </tr>\n",
       "    <tr>\n",
       "      <th>2020-05-18</th>\n",
       "      <td>3896788</td>\n",
       "    </tr>\n",
       "    <tr>\n",
       "      <th>2020-05-19</th>\n",
       "      <td>4284420</td>\n",
       "    </tr>\n",
       "    <tr>\n",
       "      <th>2020-05-20</th>\n",
       "      <td>4309613</td>\n",
       "    </tr>\n",
       "    <tr>\n",
       "      <th>2020-05-21</th>\n",
       "      <td>4325833</td>\n",
       "    </tr>\n",
       "    <tr>\n",
       "      <th>2020-05-22</th>\n",
       "      <td>4368803</td>\n",
       "    </tr>\n",
       "    <tr>\n",
       "      <th>2020-05-23</th>\n",
       "      <td>3563725</td>\n",
       "    </tr>\n",
       "    <tr>\n",
       "      <th>2020-05-24</th>\n",
       "      <td>2928981</td>\n",
       "    </tr>\n",
       "  </tbody>\n",
       "</table>\n",
       "</div>"
      ],
      "text/plain": [
       "             Viajes\n",
       "2020-05-11  3545526\n",
       "2020-05-12  3985384\n",
       "2020-05-13  3922169\n",
       "2020-05-14  3845239\n",
       "2020-05-15  3745419\n",
       "2020-05-16  2983259\n",
       "2020-05-17  2430478\n",
       "2020-05-18  3896788\n",
       "2020-05-19  4284420\n",
       "2020-05-20  4309613\n",
       "2020-05-21  4325833\n",
       "2020-05-22  4368803\n",
       "2020-05-23  3563725\n",
       "2020-05-24  2928981"
      ]
     },
     "execution_count": 31,
     "metadata": {},
     "output_type": "execute_result"
    }
   ],
   "source": [
    "# usaremos 14 dias que poseemos para predecir los 7 dias siguientes tras esto compararemos los resultados con los que\n",
    "# poseemos para ver el grado de error\n",
    "\n",
    "Dias = df['2020-5-11':'2020-5-24']\n",
    "Dias"
   ]
  },
  {
   "cell_type": "markdown",
   "metadata": {},
   "source": [
    "# Preparamos los datos para el test"
   ]
  },
  {
   "cell_type": "code",
   "execution_count": 32,
   "metadata": {},
   "outputs": [
    {
     "data": {
      "text/html": [
       "<div>\n",
       "<style scoped>\n",
       "    .dataframe tbody tr th:only-of-type {\n",
       "        vertical-align: middle;\n",
       "    }\n",
       "\n",
       "    .dataframe tbody tr th {\n",
       "        vertical-align: top;\n",
       "    }\n",
       "\n",
       "    .dataframe thead th {\n",
       "        text-align: right;\n",
       "    }\n",
       "</style>\n",
       "<table border=\"1\" class=\"dataframe\">\n",
       "  <thead>\n",
       "    <tr style=\"text-align: right;\">\n",
       "      <th></th>\n",
       "      <th>var1(t-7)</th>\n",
       "      <th>var1(t-6)</th>\n",
       "      <th>var1(t-5)</th>\n",
       "      <th>var1(t-4)</th>\n",
       "      <th>var1(t-3)</th>\n",
       "      <th>var1(t-2)</th>\n",
       "      <th>var1(t-1)</th>\n",
       "    </tr>\n",
       "  </thead>\n",
       "  <tbody>\n",
       "    <tr>\n",
       "      <th>7</th>\n",
       "      <td>0.150527</td>\n",
       "      <td>0.604381</td>\n",
       "      <td>0.539155</td>\n",
       "      <td>0.459777</td>\n",
       "      <td>0.356781</td>\n",
       "      <td>-0.429630</td>\n",
       "      <td>-1.000000</td>\n",
       "    </tr>\n",
       "    <tr>\n",
       "      <th>8</th>\n",
       "      <td>0.604381</td>\n",
       "      <td>0.539155</td>\n",
       "      <td>0.459777</td>\n",
       "      <td>0.356781</td>\n",
       "      <td>-0.429630</td>\n",
       "      <td>-1.000000</td>\n",
       "      <td>0.512966</td>\n",
       "    </tr>\n",
       "    <tr>\n",
       "      <th>9</th>\n",
       "      <td>0.539155</td>\n",
       "      <td>0.459777</td>\n",
       "      <td>0.356781</td>\n",
       "      <td>-0.429630</td>\n",
       "      <td>-1.000000</td>\n",
       "      <td>0.512966</td>\n",
       "      <td>0.912932</td>\n",
       "    </tr>\n",
       "    <tr>\n",
       "      <th>10</th>\n",
       "      <td>0.459777</td>\n",
       "      <td>0.356781</td>\n",
       "      <td>-0.429630</td>\n",
       "      <td>-1.000000</td>\n",
       "      <td>0.512966</td>\n",
       "      <td>0.912932</td>\n",
       "      <td>0.938927</td>\n",
       "    </tr>\n",
       "    <tr>\n",
       "      <th>11</th>\n",
       "      <td>0.356781</td>\n",
       "      <td>-0.429630</td>\n",
       "      <td>-1.000000</td>\n",
       "      <td>0.512966</td>\n",
       "      <td>0.912932</td>\n",
       "      <td>0.938927</td>\n",
       "      <td>0.955663</td>\n",
       "    </tr>\n",
       "    <tr>\n",
       "      <th>12</th>\n",
       "      <td>-0.429630</td>\n",
       "      <td>-1.000000</td>\n",
       "      <td>0.512966</td>\n",
       "      <td>0.912932</td>\n",
       "      <td>0.938927</td>\n",
       "      <td>0.955663</td>\n",
       "      <td>1.000000</td>\n",
       "    </tr>\n",
       "    <tr>\n",
       "      <th>13</th>\n",
       "      <td>-1.000000</td>\n",
       "      <td>0.512966</td>\n",
       "      <td>0.912932</td>\n",
       "      <td>0.938927</td>\n",
       "      <td>0.955663</td>\n",
       "      <td>1.000000</td>\n",
       "      <td>0.169306</td>\n",
       "    </tr>\n",
       "  </tbody>\n",
       "</table>\n",
       "</div>"
      ],
      "text/plain": [
       "    var1(t-7)  var1(t-6)  var1(t-5)  var1(t-4)  var1(t-3)  var1(t-2)  \\\n",
       "7    0.150527   0.604381   0.539155   0.459777   0.356781  -0.429630   \n",
       "8    0.604381   0.539155   0.459777   0.356781  -0.429630  -1.000000   \n",
       "9    0.539155   0.459777   0.356781  -0.429630  -1.000000   0.512966   \n",
       "10   0.459777   0.356781  -0.429630  -1.000000   0.512966   0.912932   \n",
       "11   0.356781  -0.429630  -1.000000   0.512966   0.912932   0.938927   \n",
       "12  -0.429630  -1.000000   0.512966   0.912932   0.938927   0.955663   \n",
       "13  -1.000000   0.512966   0.912932   0.938927   0.955663   1.000000   \n",
       "\n",
       "    var1(t-1)  \n",
       "7   -1.000000  \n",
       "8    0.512966  \n",
       "9    0.912932  \n",
       "10   0.938927  \n",
       "11   0.955663  \n",
       "12   1.000000  \n",
       "13   0.169306  "
      ]
     },
     "execution_count": 32,
     "metadata": {},
     "output_type": "execute_result"
    }
   ],
   "source": [
    "# cargamos el dataframe en la variable values\n",
    "values = Dias.values\n",
    "\n",
    "# convertimos los enteros en floats\n",
    "values = values.astype('float32')\n",
    "\n",
    "# normalizamos los datos a escala de entre -1 y 1\n",
    "values=values.reshape(-1, 1) # esto lo hacemos porque tenemos 1 sola dimension\n",
    "scaled = scaler.fit_transform(values)\n",
    "\n",
    "# usamos la funcion definida previamente\n",
    "reframed = series_to_supervised(scaled, look_back, 1)\n",
    "\n",
    "# eliminamos la ultima columna pues es parte de lo que queremos hayar\n",
    "reframed.drop(reframed.columns[[7]], inplace=True, axis=1)\n",
    "reframed.head(7)"
   ]
  },
  {
   "cell_type": "code",
   "execution_count": 33,
   "metadata": {},
   "outputs": [
    {
     "name": "stdout",
     "output_type": "stream",
     "text": [
      "(1, 1, 7)\n"
     ]
    },
    {
     "data": {
      "text/plain": [
       "array([[[-1.        ,  0.51296616,  0.9129319 ,  0.9389267 ,\n",
       "          0.9556627 ,  1.        ,  0.16930556]]], dtype=float32)"
      ]
     },
     "execution_count": 33,
     "metadata": {},
     "output_type": "execute_result"
    }
   ],
   "source": [
    "values = reframed.values\n",
    "\n",
    "#tomamos los valores para realizar el test\n",
    "x_test = values[6:, :]\n",
    "\n",
    "# reshape input to be 3D [samples, timesteps, features] - preguntar\n",
    "x_test = x_test.reshape((x_test.shape[0], 1, x_test.shape[1]))\n",
    "print(x_test.shape)\n",
    "x_test"
   ]
  },
  {
   "cell_type": "code",
   "execution_count": 34,
   "metadata": {},
   "outputs": [],
   "source": [
    "#en la linea 24 definimos la funcion para realizar el desplazamiento que se hara en el array cada prediccion pues para hacer\n",
    "#la siguiente prediccion eliminamos el dia mas antiguo, desplazamos un lugar el resto de dias y añadimos el ultimo dia que\n",
    "#se ha predecido, esto es por que para predecir un dia se usan los 7 dias previos, y que usaremos a continuación"
   ]
  },
  {
   "cell_type": "markdown",
   "metadata": {},
   "source": [
    "# Realizamos la prediccion "
   ]
  },
  {
   "cell_type": "code",
   "execution_count": 35,
   "metadata": {},
   "outputs": [
    {
     "name": "stdout",
     "output_type": "stream",
     "text": [
      "[[[-1.          0.51296616  0.9129319   0.9389267   0.9556627\n",
      "    1.          0.16930556]]]\n",
      "[[[ 0.51296616  0.9129319   0.9389267   0.9556627   1.\n",
      "    0.16930556 -0.60460347]]]\n",
      "[[[ 0.9129319   0.9389267   0.9556627   1.          0.16930556\n",
      "   -0.60460347  0.53757167]]]\n",
      "[[[ 0.9389267   0.9556627   1.          0.16930556 -0.60460347\n",
      "    0.53757167  0.78760326]]]\n",
      "[[[ 0.9556627   1.          0.16930556 -0.60460347  0.53757167\n",
      "    0.78760326  0.69778144]]]\n",
      "[[[ 1.          0.16930556 -0.60460347  0.53757167  0.78760326\n",
      "    0.69778144  0.8220301 ]]]\n",
      "[[[ 0.16930556 -0.60460347  0.53757167  0.78760326  0.69778144\n",
      "    0.8220301   0.8013727 ]]]\n"
     ]
    }
   ],
   "source": [
    "results=[]\n",
    "for i in range(7):\n",
    "    parcial=model.predict(x_test)\n",
    "    results.append(parcial[0])\n",
    "    print(x_test)\n",
    "    x_test=agregarNuevoValor(x_test,parcial[0])"
   ]
  },
  {
   "cell_type": "markdown",
   "metadata": {},
   "source": [
    "# Re-Convertimos los resultados"
   ]
  },
  {
   "cell_type": "code",
   "execution_count": 36,
   "metadata": {
    "scrolled": false
   },
   "outputs": [
    {
     "name": "stdout",
     "output_type": "stream",
     "text": [
      "[array([-0.60460347], dtype=float32), array([0.53757167], dtype=float32), array([0.78760326], dtype=float32), array([0.69778144], dtype=float32), array([0.8220301], dtype=float32), array([0.8013727], dtype=float32), array([0.43917257], dtype=float32)]\n"
     ]
    },
    {
     "data": {
      "text/plain": [
       "array([[2813681],\n",
       "       [3920635],\n",
       "       [4162956],\n",
       "       [4075904],\n",
       "       [4196321],\n",
       "       [4176301],\n",
       "       [3825270]])"
      ]
     },
     "execution_count": 36,
     "metadata": {},
     "output_type": "execute_result"
    }
   ],
   "source": [
    "adimen = [x for x in results]    \n",
    "print(adimen)\n",
    "inverted = scaler.inverse_transform(adimen)\n",
    "\n",
    "#en nuestro problema no tienen sentido los decimales pues no se pueden hacer 0.5 viajes o 0.25 viajes\n",
    "inverted = inverted.round()\n",
    "inverted = inverted.astype(int)\n",
    "inverted"
   ]
  },
  {
   "cell_type": "markdown",
   "metadata": {},
   "source": [
    "# Visualizamos el pronostico"
   ]
  },
  {
   "cell_type": "code",
   "execution_count": 37,
   "metadata": {
    "scrolled": true
   },
   "outputs": [
    {
     "data": {
      "text/plain": [
       "<AxesSubplot:>"
      ]
     },
     "execution_count": 37,
     "metadata": {},
     "output_type": "execute_result"
    },
    {
     "data": {
      "image/png": "[encoded data removed]",
      "text/plain": [
       "<Figure size 432x288 with 1 Axes>"
      ]
     },
     "metadata": {
      "needs_background": "light"
     },
     "output_type": "display_data"
    }
   ],
   "source": [
    "e_date = datetime.datetime.strptime('2020-05-31', '%Y-%m-%d')\n",
    "i_date = datetime.datetime.strptime('2020-05-25', '%Y-%m-%d')\n",
    "delta = e_date - i_date\n",
    "\n",
    "index_days = []\n",
    "for i in range(delta.days + 1):\n",
    "    day = i_date + timedelta(days=i)\n",
    "    index_days.append(day)\n",
    "\n",
    "prediccion = pd.DataFrame(inverted, index= index_days)\n",
    "prediccion.columns = ['pronostico']\n",
    "prediccion.plot()"
   ]
  },
  {
   "cell_type": "code",
   "execution_count": 38,
   "metadata": {},
   "outputs": [
    {
     "data": {
      "text/html": [
       "<div>\n",
       "<style scoped>\n",
       "    .dataframe tbody tr th:only-of-type {\n",
       "        vertical-align: middle;\n",
       "    }\n",
       "\n",
       "    .dataframe tbody tr th {\n",
       "        vertical-align: top;\n",
       "    }\n",
       "\n",
       "    .dataframe thead th {\n",
       "        text-align: right;\n",
       "    }\n",
       "</style>\n",
       "<table border=\"1\" class=\"dataframe\">\n",
       "  <thead>\n",
       "    <tr style=\"text-align: right;\">\n",
       "      <th></th>\n",
       "      <th>real</th>\n",
       "      <th>prediccion</th>\n",
       "    </tr>\n",
       "  </thead>\n",
       "  <tbody>\n",
       "    <tr>\n",
       "      <th>2020-05-25</th>\n",
       "      <td>4382232</td>\n",
       "      <td>2813681</td>\n",
       "    </tr>\n",
       "    <tr>\n",
       "      <th>2020-05-26</th>\n",
       "      <td>4709433</td>\n",
       "      <td>3920635</td>\n",
       "    </tr>\n",
       "    <tr>\n",
       "      <th>2020-05-27</th>\n",
       "      <td>4837770</td>\n",
       "      <td>4162956</td>\n",
       "    </tr>\n",
       "    <tr>\n",
       "      <th>2020-05-28</th>\n",
       "      <td>4898946</td>\n",
       "      <td>4075904</td>\n",
       "    </tr>\n",
       "    <tr>\n",
       "      <th>2020-05-29</th>\n",
       "      <td>4909824</td>\n",
       "      <td>4196321</td>\n",
       "    </tr>\n",
       "    <tr>\n",
       "      <th>2020-05-30</th>\n",
       "      <td>4202334</td>\n",
       "      <td>4176301</td>\n",
       "    </tr>\n",
       "    <tr>\n",
       "      <th>2020-05-31</th>\n",
       "      <td>3305717</td>\n",
       "      <td>3825270</td>\n",
       "    </tr>\n",
       "  </tbody>\n",
       "</table>\n",
       "</div>"
      ],
      "text/plain": [
       "               real  prediccion\n",
       "2020-05-25  4382232     2813681\n",
       "2020-05-26  4709433     3920635\n",
       "2020-05-27  4837770     4162956\n",
       "2020-05-28  4898946     4075904\n",
       "2020-05-29  4909824     4196321\n",
       "2020-05-30  4202334     4176301\n",
       "2020-05-31  3305717     3825270"
      ]
     },
     "execution_count": 38,
     "metadata": {},
     "output_type": "execute_result"
    }
   ],
   "source": [
    "datosReales = df['2020-5-25':'2020-5-31']\n",
    "\n",
    "compara = pd.concat([datosReales, prediccion], axis=1)\n",
    "compara.columns = ['real', 'prediccion']\n",
    "compara"
   ]
  },
  {
   "cell_type": "code",
   "execution_count": 39,
   "metadata": {},
   "outputs": [
    {
     "data": {
      "text/plain": [
       "<matplotlib.legend.Legend at 0x17d064b11f0>"
      ]
     },
     "execution_count": 39,
     "metadata": {},
     "output_type": "execute_result"
    },
    {
     "data": {
      "image/png": "[encoded data removed]",
      "text/plain": [
       "<Figure size 432x288 with 1 Axes>"
      ]
     },
     "metadata": {
      "needs_background": "light"
     },
     "output_type": "display_data"
    }
   ],
   "source": [
    "compara['real'].plot()\n",
    "compara['prediccion'].plot()\n",
    "plt.xlabel(\"Tiempo (dias)\", fontsize = 10)\n",
    "plt.ylabel(\"viajes\", fontsize = 10)\n",
    "plt.legend( ('Datos reales', 'Prediccion'), loc = 'lower right')"
   ]
  },
  {
   "cell_type": "code",
   "execution_count": 40,
   "metadata": {
    "scrolled": false
   },
   "outputs": [
    {
     "name": "stdout",
     "output_type": "stream",
     "text": [
      "Resultado del test: 730613.43 MAE\n",
      "Resultado del test: 713575165810.29 MSE\n",
      "Resultado del test: 844733.78 RMSE\n",
      "Resultado del test: 21.76 CVRMSE\n",
      "Resultado del test: 20.50 MAPE\n"
     ]
    }
   ],
   "source": [
    "# calculamos las metricas de error\n",
    "testScore_MAE, testScore_MSE, testScore_RMSE, testScore_CVRMSE, testScore_MAPE  =  compute_metrics_fn(prediccion, datosReales)\n",
    "print('Resultado del test: %.2f MAE' % (testScore_MAE))\n",
    "print('Resultado del test: %.2f MSE' % (testScore_MSE))\n",
    "print('Resultado del test: %.2f RMSE' % (testScore_RMSE))\n",
    "print('Resultado del test: %.2f CVRMSE' % (testScore_CVRMSE))\n",
    "print('Resultado del test: %.2f MAPE' % (testScore_MAPE))"
   ]
  },
  {
   "cell_type": "code",
   "execution_count": 41,
   "metadata": {},
   "outputs": [
    {
     "name": "stdout",
     "output_type": "stream",
     "text": [
      "Resultado del test dia 1: 1568551.00 MAE\n",
      "Resultado del test dia 1: 2460352239601.00 MSE\n",
      "Resultado del test dia 1: 1568551.00 RMSE\n",
      "Resultado del test dia 1: 55.75 CVRMSE\n",
      "Resultado del test dia 1: 55.75 MAPE \n",
      "\n",
      "Resultado del test dia 2: 788798.00 MAE\n",
      "Resultado del test dia 2: 622202284804.00 MSE\n",
      "Resultado del test dia 2: 788798.00 RMSE\n",
      "Resultado del test dia 2: 20.12 CVRMSE\n",
      "Resultado del test dia 2: 20.12 MAPE \n",
      "\n",
      "Resultado del test dia 3: 674814.00 MAE\n",
      "Resultado del test dia 3: 455373934596.00 MSE\n",
      "Resultado del test dia 3: 674814.00 RMSE\n",
      "Resultado del test dia 3: 16.21 CVRMSE\n",
      "Resultado del test dia 3: 16.21 MAPE \n",
      "\n",
      "Resultado del test dia 4: 823042.00 MAE\n",
      "Resultado del test dia 4: 677398133764.00 MSE\n",
      "Resultado del test dia 4: 823042.00 RMSE\n",
      "Resultado del test dia 4: 20.19 CVRMSE\n",
      "Resultado del test dia 4: 20.19 MAPE \n",
      "\n",
      "Resultado del test dia 5: 713503.00 MAE\n",
      "Resultado del test dia 5: 509086531009.00 MSE\n",
      "Resultado del test dia 5: 713503.00 RMSE\n",
      "Resultado del test dia 5: 17.00 CVRMSE\n",
      "Resultado del test dia 5: 17.00 MAPE \n",
      "\n",
      "Resultado del test dia 6: 26033.00 MAE\n",
      "Resultado del test dia 6: 677717089.00 MSE\n",
      "Resultado del test dia 6: 26033.00 RMSE\n",
      "Resultado del test dia 6: 0.62 CVRMSE\n",
      "Resultado del test dia 6: 0.62 MAPE \n",
      "\n",
      "Resultado del test dia 7: 519553.00 MAE\n",
      "Resultado del test dia 7: 269935319809.00 MSE\n",
      "Resultado del test dia 7: 519553.00 RMSE\n",
      "Resultado del test dia 7: 13.58 CVRMSE\n",
      "Resultado del test dia 7: 13.58 MAPE \n",
      "\n"
     ]
    }
   ],
   "source": [
    "# calculamos las metricas de error para cada dia por separado\n",
    "for i in range(7):\n",
    "    testScore_MAE, testScore_MSE, testScore_RMSE, testScore_CVRMSE, testScore_MAPE  =  compute_metrics_fn(prediccion.values[i], datosReales.values[i])\n",
    "    day = i + 1\n",
    "    print('Resultado del test dia %d: %.2f MAE' % (day, testScore_MAE))\n",
    "    print('Resultado del test dia %d: %.2f MSE' % (day, testScore_MSE))\n",
    "    print('Resultado del test dia %d: %.2f RMSE' % (day, testScore_RMSE))\n",
    "    print('Resultado del test dia %d: %.2f CVRMSE' % (day, testScore_CVRMSE))\n",
    "    print('Resultado del test dia %d: %.2f MAPE \\n' % (day, testScore_MAPE))"
   ]
  }
 ],
 "metadata": {
  "kernelspec": {
   "display_name": "Python 3",
   "language": "python",
   "name": "python3"
  },
  "language_info": {
   "codemirror_mode": {
    "name": "ipython",
    "version": 3
   },
   "file_extension": ".py",
   "mimetype": "text/x-python",
   "name": "python",
   "nbconvert_exporter": "python",
   "pygments_lexer": "ipython3",
   "version": "3.8.5"
  }
 },
 "nbformat": 4,
 "nbformat_minor": 4
}
