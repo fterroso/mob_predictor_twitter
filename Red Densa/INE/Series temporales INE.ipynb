{
 "cells": [
  {
   "cell_type": "code",
   "execution_count": 1,
   "metadata": {},
   "outputs": [],
   "source": [
    "import pandas as pd\n",
    "#import geopandas as gpd\n",
    "import numpy as np\n",
    "\n",
    "from tqdm import tqdm_notebook\n",
    "\n",
    "import matplotlib.pyplot as plt\n",
    "%matplotlib inline\n",
    "\n",
    "import os\n",
    "\n",
    "import warnings\n",
    "warnings.filterwarnings(\"ignore\")\n",
    "\n",
    "import datetime\n",
    "e_date = datetime.datetime.strptime('2020-06-20', '%Y-%m-%d')\n",
    "i_date = datetime.datetime.strptime('2020-04-01', '%Y-%m-%d')\n",
    "\n",
    "from datetime import date, timedelta\n",
    "\n",
    "data_path = 'D:/universidad/universidad 4/TFG/recursos para el desarrollo/datos procesados/OD'"
   ]
  },
  {
   "cell_type": "code",
   "execution_count": 2,
   "metadata": {},
   "outputs": [],
   "source": [
    "delta = e_date - i_date       # as timedelta\n",
    "\n",
    "target_days = []\n",
    "for i in range(delta.days + 1):\n",
    "    day = i_date + timedelta(days=i)\n",
    "    target_days.append(day)"
   ]
  },
  {
   "cell_type": "code",
   "execution_count": 3,
   "metadata": {},
   "outputs": [],
   "source": [
    "def read_OD_fn(source_type):\n",
    "    ods = {}\n",
    "    for date in tqdm_notebook(target_days):\n",
    "        od_date= pd.read_csv(os.path.join(data_path, 'date_{}_OD_{}.csv'.format(source_type,date.strftime('%Y-%m-%d'))), \n",
    "                            index_col=0)\n",
    "        ods[date] = od_date\n",
    "    return ods"
   ]
  },
  {
   "cell_type": "code",
   "execution_count": 4,
   "metadata": {},
   "outputs": [
    {
     "data": {
      "application/vnd.jupyter.widget-view+json": {
       "model_id": "3935771d27c84b48861ebcaff96992aa",
       "version_major": 2,
       "version_minor": 0
      },
      "text/plain": [
       "  0%|          | 0/81 [00:00<?, ?it/s]"
      ]
     },
     "metadata": {},
     "output_type": "display_data"
    }
   ],
   "source": [
    "ine_ods = read_OD_fn('INE')"
   ]
  },
  {
   "cell_type": "code",
   "execution_count": 5,
   "metadata": {},
   "outputs": [
    {
     "data": {
      "application/vnd.jupyter.widget-view+json": {
       "model_id": "716503be2e714aab91aa1d9c49960258",
       "version_major": 2,
       "version_minor": 0
      },
      "text/plain": [
       "  0%|          | 0/81 [00:00<?, ?it/s]"
      ]
     },
     "metadata": {},
     "output_type": "display_data"
    }
   ],
   "source": [
    "twt_ods = read_OD_fn('TWT')"
   ]
  },
  {
   "cell_type": "markdown",
   "metadata": {},
   "source": [
    "# Serializar los datos"
   ]
  },
  {
   "cell_type": "code",
   "execution_count": 6,
   "metadata": {
    "scrolled": true
   },
   "outputs": [
    {
     "data": {
      "application/vnd.jupyter.widget-view+json": {
       "model_id": "d8dfc831b218430492c12ec1b8cfa633",
       "version_major": 2,
       "version_minor": 0
      },
      "text/plain": [
       "  0%|          | 0/81 [00:00<?, ?it/s]"
      ]
     },
     "metadata": {},
     "output_type": "display_data"
    }
   ],
   "source": [
    "lista = []\n",
    "\n",
    "for date in tqdm_notebook(target_days):\n",
    "    lista.append(ine_ods[date].loc['total','total'])"
   ]
  },
  {
   "cell_type": "code",
   "execution_count": 7,
   "metadata": {
    "scrolled": true
   },
   "outputs": [],
   "source": [
    "df = pd.DataFrame (lista, columns = ['Viajes'], index= target_days)"
   ]
  },
  {
   "cell_type": "code",
   "execution_count": 8,
   "metadata": {},
   "outputs": [
    {
     "data": {
      "text/html": [
       "<div>\n",
       "<style scoped>\n",
       "    .dataframe tbody tr th:only-of-type {\n",
       "        vertical-align: middle;\n",
       "    }\n",
       "\n",
       "    .dataframe tbody tr th {\n",
       "        vertical-align: top;\n",
       "    }\n",
       "\n",
       "    .dataframe thead th {\n",
       "        text-align: right;\n",
       "    }\n",
       "</style>\n",
       "<table border=\"1\" class=\"dataframe\">\n",
       "  <thead>\n",
       "    <tr style=\"text-align: right;\">\n",
       "      <th></th>\n",
       "      <th>Viajes</th>\n",
       "    </tr>\n",
       "  </thead>\n",
       "  <tbody>\n",
       "    <tr>\n",
       "      <th>2020-04-01</th>\n",
       "      <td>2213123</td>\n",
       "    </tr>\n",
       "    <tr>\n",
       "      <th>2020-04-02</th>\n",
       "      <td>2254121</td>\n",
       "    </tr>\n",
       "    <tr>\n",
       "      <th>2020-04-03</th>\n",
       "      <td>2520095</td>\n",
       "    </tr>\n",
       "    <tr>\n",
       "      <th>2020-04-04</th>\n",
       "      <td>1934554</td>\n",
       "    </tr>\n",
       "    <tr>\n",
       "      <th>2020-04-05</th>\n",
       "      <td>1593385</td>\n",
       "    </tr>\n",
       "  </tbody>\n",
       "</table>\n",
       "</div>"
      ],
      "text/plain": [
       "             Viajes\n",
       "2020-04-01  2213123\n",
       "2020-04-02  2254121\n",
       "2020-04-03  2520095\n",
       "2020-04-04  1934554\n",
       "2020-04-05  1593385"
      ]
     },
     "execution_count": 8,
     "metadata": {},
     "output_type": "execute_result"
    }
   ],
   "source": [
    "df.head()"
   ]
  },
  {
   "cell_type": "markdown",
   "metadata": {},
   "source": [
    "# Visualización de datos"
   ]
  },
  {
   "cell_type": "code",
   "execution_count": 9,
   "metadata": {},
   "outputs": [
    {
     "name": "stdout",
     "output_type": "stream",
     "text": [
      "2020-04-01 00:00:00\n",
      "2020-06-20 00:00:00\n"
     ]
    }
   ],
   "source": [
    "print(df.index.min())\n",
    "print(df.index.max())"
   ]
  },
  {
   "cell_type": "code",
   "execution_count": 10,
   "metadata": {
    "scrolled": true
   },
   "outputs": [
    {
     "name": "stdout",
     "output_type": "stream",
     "text": [
      "81\n"
     ]
    }
   ],
   "source": [
    "print(len(df['2020']))"
   ]
  },
  {
   "cell_type": "code",
   "execution_count": 11,
   "metadata": {},
   "outputs": [
    {
     "data": {
      "text/html": [
       "<div>\n",
       "<style scoped>\n",
       "    .dataframe tbody tr th:only-of-type {\n",
       "        vertical-align: middle;\n",
       "    }\n",
       "\n",
       "    .dataframe tbody tr th {\n",
       "        vertical-align: top;\n",
       "    }\n",
       "\n",
       "    .dataframe thead th {\n",
       "        text-align: right;\n",
       "    }\n",
       "</style>\n",
       "<table border=\"1\" class=\"dataframe\">\n",
       "  <thead>\n",
       "    <tr style=\"text-align: right;\">\n",
       "      <th></th>\n",
       "      <th>Viajes</th>\n",
       "    </tr>\n",
       "  </thead>\n",
       "  <tbody>\n",
       "    <tr>\n",
       "      <th>count</th>\n",
       "      <td>8.100000e+01</td>\n",
       "    </tr>\n",
       "    <tr>\n",
       "      <th>mean</th>\n",
       "      <td>3.438222e+06</td>\n",
       "    </tr>\n",
       "    <tr>\n",
       "      <th>std</th>\n",
       "      <td>1.174931e+06</td>\n",
       "    </tr>\n",
       "    <tr>\n",
       "      <th>min</th>\n",
       "      <td>1.535886e+06</td>\n",
       "    </tr>\n",
       "    <tr>\n",
       "      <th>25%</th>\n",
       "      <td>2.488436e+06</td>\n",
       "    </tr>\n",
       "    <tr>\n",
       "      <th>50%</th>\n",
       "      <td>3.396402e+06</td>\n",
       "    </tr>\n",
       "    <tr>\n",
       "      <th>75%</th>\n",
       "      <td>4.445190e+06</td>\n",
       "    </tr>\n",
       "    <tr>\n",
       "      <th>max</th>\n",
       "      <td>5.519725e+06</td>\n",
       "    </tr>\n",
       "  </tbody>\n",
       "</table>\n",
       "</div>"
      ],
      "text/plain": [
       "             Viajes\n",
       "count  8.100000e+01\n",
       "mean   3.438222e+06\n",
       "std    1.174931e+06\n",
       "min    1.535886e+06\n",
       "25%    2.488436e+06\n",
       "50%    3.396402e+06\n",
       "75%    4.445190e+06\n",
       "max    5.519725e+06"
      ]
     },
     "execution_count": 11,
     "metadata": {},
     "output_type": "execute_result"
    }
   ],
   "source": [
    "df.describe()"
   ]
  },
  {
   "cell_type": "code",
   "execution_count": 12,
   "metadata": {},
   "outputs": [
    {
     "data": {
      "text/html": [
       "<div>\n",
       "<style scoped>\n",
       "    .dataframe tbody tr th:only-of-type {\n",
       "        vertical-align: middle;\n",
       "    }\n",
       "\n",
       "    .dataframe tbody tr th {\n",
       "        vertical-align: top;\n",
       "    }\n",
       "\n",
       "    .dataframe thead th {\n",
       "        text-align: right;\n",
       "    }\n",
       "</style>\n",
       "<table border=\"1\" class=\"dataframe\">\n",
       "  <thead>\n",
       "    <tr style=\"text-align: right;\">\n",
       "      <th></th>\n",
       "      <th>Viajes</th>\n",
       "    </tr>\n",
       "  </thead>\n",
       "  <tbody>\n",
       "    <tr>\n",
       "      <th>2020-04-30</th>\n",
       "      <td>2.356878e+06</td>\n",
       "    </tr>\n",
       "    <tr>\n",
       "      <th>2020-05-31</th>\n",
       "      <td>3.590722e+06</td>\n",
       "    </tr>\n",
       "    <tr>\n",
       "      <th>2020-06-30</th>\n",
       "      <td>4.823862e+06</td>\n",
       "    </tr>\n",
       "  </tbody>\n",
       "</table>\n",
       "</div>"
      ],
      "text/plain": [
       "                  Viajes\n",
       "2020-04-30  2.356878e+06\n",
       "2020-05-31  3.590722e+06\n",
       "2020-06-30  4.823862e+06"
      ]
     },
     "execution_count": 12,
     "metadata": {},
     "output_type": "execute_result"
    }
   ],
   "source": [
    "meses = df.resample('M').mean()\n",
    "meses"
   ]
  },
  {
   "cell_type": "code",
   "execution_count": 13,
   "metadata": {},
   "outputs": [
    {
     "data": {
      "text/plain": [
       "[<matplotlib.lines.Line2D at 0x2b0fe07f850>]"
      ]
     },
     "execution_count": 13,
     "metadata": {},
     "output_type": "execute_result"
    },
    {
     "data": {
      "image/png": "[encoded data removed]",
      "text/plain": [
       "<Figure size 432x288 with 1 Axes>"
      ]
     },
     "metadata": {
      "needs_background": "light"
     },
     "output_type": "display_data"
    }
   ],
   "source": [
    "abril = df['2020-04-01':'2020-04-30']\n",
    "plt.plot(abril.values)\n",
    "mayo = df['2020-05-01':'2020-05-31']\n",
    "plt.plot(mayo.values)\n",
    "junio = df['2020-06-01':'2020-06-20']\n",
    "plt.plot(junio.values)"
   ]
  },
  {
   "cell_type": "markdown",
   "metadata": {},
   "source": [
    "# Preprocesado de datos"
   ]
  },
  {
   "cell_type": "code",
   "execution_count": 14,
   "metadata": {},
   "outputs": [
    {
     "data": {
      "text/html": [
       "<div>\n",
       "<style scoped>\n",
       "    .dataframe tbody tr th:only-of-type {\n",
       "        vertical-align: middle;\n",
       "    }\n",
       "\n",
       "    .dataframe tbody tr th {\n",
       "        vertical-align: top;\n",
       "    }\n",
       "\n",
       "    .dataframe thead th {\n",
       "        text-align: right;\n",
       "    }\n",
       "</style>\n",
       "<table border=\"1\" class=\"dataframe\">\n",
       "  <thead>\n",
       "    <tr style=\"text-align: right;\">\n",
       "      <th></th>\n",
       "      <th>var1(t-7)</th>\n",
       "      <th>var1(t-6)</th>\n",
       "      <th>var1(t-5)</th>\n",
       "      <th>var1(t-4)</th>\n",
       "      <th>var1(t-3)</th>\n",
       "      <th>var1(t-2)</th>\n",
       "      <th>var1(t-1)</th>\n",
       "      <th>var1(t)</th>\n",
       "    </tr>\n",
       "  </thead>\n",
       "  <tbody>\n",
       "    <tr>\n",
       "      <th>76</th>\n",
       "      <td>0.477061</td>\n",
       "      <td>0.891413</td>\n",
       "      <td>0.839957</td>\n",
       "      <td>0.847171</td>\n",
       "      <td>0.460553</td>\n",
       "      <td>0.113062</td>\n",
       "      <td>0.725623</td>\n",
       "      <td>0.894152</td>\n",
       "    </tr>\n",
       "    <tr>\n",
       "      <th>77</th>\n",
       "      <td>0.891413</td>\n",
       "      <td>0.839957</td>\n",
       "      <td>0.847171</td>\n",
       "      <td>0.460553</td>\n",
       "      <td>0.113062</td>\n",
       "      <td>0.725623</td>\n",
       "      <td>0.894152</td>\n",
       "      <td>0.923149</td>\n",
       "    </tr>\n",
       "    <tr>\n",
       "      <th>78</th>\n",
       "      <td>0.839957</td>\n",
       "      <td>0.847171</td>\n",
       "      <td>0.460553</td>\n",
       "      <td>0.113062</td>\n",
       "      <td>0.725623</td>\n",
       "      <td>0.894152</td>\n",
       "      <td>0.923149</td>\n",
       "      <td>0.959687</td>\n",
       "    </tr>\n",
       "    <tr>\n",
       "      <th>79</th>\n",
       "      <td>0.847171</td>\n",
       "      <td>0.460553</td>\n",
       "      <td>0.113062</td>\n",
       "      <td>0.725623</td>\n",
       "      <td>0.894152</td>\n",
       "      <td>0.923149</td>\n",
       "      <td>0.959687</td>\n",
       "      <td>1.000000</td>\n",
       "    </tr>\n",
       "    <tr>\n",
       "      <th>80</th>\n",
       "      <td>0.460553</td>\n",
       "      <td>0.113062</td>\n",
       "      <td>0.725623</td>\n",
       "      <td>0.894152</td>\n",
       "      <td>0.923149</td>\n",
       "      <td>0.959687</td>\n",
       "      <td>1.000000</td>\n",
       "      <td>0.551599</td>\n",
       "    </tr>\n",
       "  </tbody>\n",
       "</table>\n",
       "</div>"
      ],
      "text/plain": [
       "    var1(t-7)  var1(t-6)  var1(t-5)  var1(t-4)  var1(t-3)  var1(t-2)  \\\n",
       "76   0.477061   0.891413   0.839957   0.847171   0.460553   0.113062   \n",
       "77   0.891413   0.839957   0.847171   0.460553   0.113062   0.725623   \n",
       "78   0.839957   0.847171   0.460553   0.113062   0.725623   0.894152   \n",
       "79   0.847171   0.460553   0.113062   0.725623   0.894152   0.923149   \n",
       "80   0.460553   0.113062   0.725623   0.894152   0.923149   0.959687   \n",
       "\n",
       "    var1(t-1)   var1(t)  \n",
       "76   0.725623  0.894152  \n",
       "77   0.894152  0.923149  \n",
       "78   0.923149  0.959687  \n",
       "79   0.959687  1.000000  \n",
       "80   1.000000  0.551599  "
      ]
     },
     "execution_count": 14,
     "metadata": {},
     "output_type": "execute_result"
    }
   ],
   "source": [
    "from keras.models import Sequential\n",
    "from keras.layers import Dense,Activation,Flatten\n",
    "from sklearn.preprocessing import MinMaxScaler\n",
    "\n",
    "PASOS=7 #preguntar\n",
    "\n",
    "# convert series to supervised learning\n",
    "def series_to_supervised(data, n_in=1, n_out=1, dropnan=True):\n",
    "    n_vars = 1 if type(data) is list else data.shape[1]\n",
    "    df = pd.DataFrame(data)\n",
    "    cols, names = list(), list()\n",
    "    # input sequence (t-n, ... t-1)\n",
    "    for i in range(n_in, 0, -1):\n",
    "        cols.append(df.shift(i))\n",
    "        names += [('var%d(t-%d)' % (j+1, i)) for j in range(n_vars)]\n",
    "    # forecast sequence (t, t+1, ... t+n)\n",
    "    for i in range(0, n_out):\n",
    "        cols.append(df.shift(-i))\n",
    "        if i == 0:\n",
    "            names += [('var%d(t)' % (j+1)) for j in range(n_vars)]\n",
    "        else:\n",
    "            names += [('var%d(t+%d)' % (j+1, i)) for j in range(n_vars)]\n",
    "    # put it all together\n",
    "    agg = pd.concat(cols, axis=1)\n",
    "    agg.columns = names\n",
    "    # drop rows with NaN values\n",
    "    if dropnan:\n",
    "        agg.dropna(inplace=True)\n",
    "    return agg\n",
    " \n",
    "# cargamos el dataframe en la variable values\n",
    "values = df.values\n",
    "\n",
    "# convertimos los enteros en floats\n",
    "values = values.astype('float32')\n",
    "\n",
    "# normalizamos los datos a escala de entre -1 y 1\n",
    "scaler = MinMaxScaler(feature_range=(-1, 1))\n",
    "values=values.reshape(-1, 1) # esto lo hacemos porque tenemos 1 sola dimension\n",
    "scaled = scaler.fit_transform(values)\n",
    "\n",
    "# usamos la funcion definida previamente\n",
    "reframed = series_to_supervised(scaled, PASOS, 1)\n",
    "\n",
    "#imprimimos los nuevos datos\n",
    "reframed.tail()"
   ]
  },
  {
   "cell_type": "markdown",
   "metadata": {},
   "source": [
    "# Dividimos los datos en sets de entrenamiento y validacion"
   ]
  },
  {
   "cell_type": "code",
   "execution_count": 15,
   "metadata": {},
   "outputs": [
    {
     "name": "stdout",
     "output_type": "stream",
     "text": [
      "(63, 1, 7) (63,) (11, 1, 7) (11,)\n"
     ]
    }
   ],
   "source": [
    "#dividimos nuestro valores entre sets de entrenamiento y de test\n",
    "values = reframed.values\n",
    "n_train_days = 75 - (5+PASOS)\n",
    "train = values[:n_train_days, :]\n",
    "test = values[n_train_days:, :]\n",
    "\n",
    "# split into input and outputs\n",
    "x_train, y_train = train[:, :-1], train[:, -1]\n",
    "x_val, y_val = test[:, :-1], test[:, -1]\n",
    "\n",
    "# reshape input to be 3D [samples, timesteps, features] - preguntar\n",
    "x_train = x_train.reshape((x_train.shape[0], 1, x_train.shape[1]))\n",
    "x_val = x_val.reshape((x_val.shape[0], 1, x_val.shape[1]))\n",
    "print(x_train.shape, y_train.shape, x_val.shape, y_val.shape)"
   ]
  },
  {
   "cell_type": "markdown",
   "metadata": {},
   "source": [
    "# Creamos la red neuronal"
   ]
  },
  {
   "cell_type": "code",
   "execution_count": 16,
   "metadata": {},
   "outputs": [],
   "source": [
    "def crear_modeloFF():\n",
    "    model = Sequential() \n",
    "    model.add(Dense(PASOS, input_shape=(1,PASOS),activation='tanh'))\n",
    "    model.add(Flatten())\n",
    "    model.add(Dense(1, activation='tanh'))\n",
    "    model.compile(loss='mean_absolute_error',optimizer='Adam',metrics=[\"mse\"])\n",
    "    model.summary()\n",
    "    return model"
   ]
  },
  {
   "cell_type": "code",
   "execution_count": 17,
   "metadata": {},
   "outputs": [
    {
     "name": "stdout",
     "output_type": "stream",
     "text": [
      "Model: \"sequential\"\n",
      "_________________________________________________________________\n",
      "Layer (type)                 Output Shape              Param #   \n",
      "=================================================================\n",
      "dense (Dense)                (None, 1, 7)              56        \n",
      "_________________________________________________________________\n",
      "flatten (Flatten)            (None, 7)                 0         \n",
      "_________________________________________________________________\n",
      "dense_1 (Dense)              (None, 1)                 8         \n",
      "=================================================================\n",
      "Total params: 64\n",
      "Trainable params: 64\n",
      "Non-trainable params: 0\n",
      "_________________________________________________________________\n",
      "Epoch 1/80\n",
      "9/9 [==============================] - 2s 142ms/step - loss: 0.3729 - mse: 0.1996 - val_loss: 0.5056 - val_mse: 0.3160\n",
      "Epoch 2/80\n",
      "9/9 [==============================] - 0s 5ms/step - loss: 0.4031 - mse: 0.2390 - val_loss: 0.4679 - val_mse: 0.2706\n",
      "Epoch 3/80\n",
      "9/9 [==============================] - 0s 4ms/step - loss: 0.3808 - mse: 0.2034 - val_loss: 0.4364 - val_mse: 0.2354\n",
      "Epoch 4/80\n",
      "9/9 [==============================] - 0s 5ms/step - loss: 0.3397 - mse: 0.1721 - val_loss: 0.4072 - val_mse: 0.2052\n",
      "Epoch 5/80\n",
      "9/9 [==============================] - 0s 5ms/step - loss: 0.3334 - mse: 0.1565 - val_loss: 0.3746 - val_mse: 0.1747\n",
      "Epoch 6/80\n",
      "9/9 [==============================] - 0s 5ms/step - loss: 0.3414 - mse: 0.1592 - val_loss: 0.3529 - val_mse: 0.1552\n",
      "Epoch 7/80\n",
      "9/9 [==============================] - 0s 5ms/step - loss: 0.3140 - mse: 0.1473 - val_loss: 0.3259 - val_mse: 0.1337\n",
      "Epoch 8/80\n",
      "9/9 [==============================] - 0s 5ms/step - loss: 0.3095 - mse: 0.1388 - val_loss: 0.3019 - val_mse: 0.1161\n",
      "Epoch 9/80\n",
      "9/9 [==============================] - 0s 5ms/step - loss: 0.3193 - mse: 0.1435 - val_loss: 0.2809 - val_mse: 0.1020\n",
      "Epoch 10/80\n",
      "9/9 [==============================] - 0s 5ms/step - loss: 0.2538 - mse: 0.0996 - val_loss: 0.2620 - val_mse: 0.0904\n",
      "Epoch 11/80\n",
      "9/9 [==============================] - 0s 5ms/step - loss: 0.2736 - mse: 0.1104 - val_loss: 0.2454 - val_mse: 0.0806\n",
      "Epoch 12/80\n",
      "9/9 [==============================] - 0s 5ms/step - loss: 0.3029 - mse: 0.1356 - val_loss: 0.2347 - val_mse: 0.0737\n",
      "Epoch 13/80\n",
      "9/9 [==============================] - 0s 5ms/step - loss: 0.2572 - mse: 0.0979 - val_loss: 0.2249 - val_mse: 0.0679\n",
      "Epoch 14/80\n",
      "9/9 [==============================] - 0s 5ms/step - loss: 0.2417 - mse: 0.0960 - val_loss: 0.2200 - val_mse: 0.0642\n",
      "Epoch 15/80\n",
      "9/9 [==============================] - 0s 5ms/step - loss: 0.2504 - mse: 0.0946 - val_loss: 0.2118 - val_mse: 0.0593\n",
      "Epoch 16/80\n",
      "9/9 [==============================] - 0s 5ms/step - loss: 0.2185 - mse: 0.0730 - val_loss: 0.2055 - val_mse: 0.0547\n",
      "Epoch 17/80\n",
      "9/9 [==============================] - 0s 5ms/step - loss: 0.2006 - mse: 0.0671 - val_loss: 0.1961 - val_mse: 0.0490\n",
      "Epoch 18/80\n",
      "9/9 [==============================] - 0s 5ms/step - loss: 0.2250 - mse: 0.0801 - val_loss: 0.1900 - val_mse: 0.0454\n",
      "Epoch 19/80\n",
      "9/9 [==============================] - 0s 5ms/step - loss: 0.1975 - mse: 0.0653 - val_loss: 0.1820 - val_mse: 0.0416\n",
      "Epoch 20/80\n",
      "9/9 [==============================] - 0s 5ms/step - loss: 0.1735 - mse: 0.0539 - val_loss: 0.1762 - val_mse: 0.0388\n",
      "Epoch 21/80\n",
      "9/9 [==============================] - 0s 5ms/step - loss: 0.1792 - mse: 0.0540 - val_loss: 0.1720 - val_mse: 0.0368\n",
      "Epoch 22/80\n",
      "9/9 [==============================] - 0s 5ms/step - loss: 0.1926 - mse: 0.0573 - val_loss: 0.1696 - val_mse: 0.0357\n",
      "Epoch 23/80\n",
      "9/9 [==============================] - 0s 5ms/step - loss: 0.1899 - mse: 0.0578 - val_loss: 0.1665 - val_mse: 0.0345\n",
      "Epoch 24/80\n",
      "9/9 [==============================] - 0s 5ms/step - loss: 0.1544 - mse: 0.0404 - val_loss: 0.1625 - val_mse: 0.0329\n",
      "Epoch 25/80\n",
      "9/9 [==============================] - 0s 5ms/step - loss: 0.1209 - mse: 0.0278 - val_loss: 0.1601 - val_mse: 0.0321\n",
      "Epoch 26/80\n",
      "9/9 [==============================] - 0s 5ms/step - loss: 0.1467 - mse: 0.0408 - val_loss: 0.1574 - val_mse: 0.0312\n",
      "Epoch 27/80\n",
      "9/9 [==============================] - 0s 5ms/step - loss: 0.1542 - mse: 0.0428 - val_loss: 0.1535 - val_mse: 0.0300\n",
      "Epoch 28/80\n",
      "9/9 [==============================] - 0s 5ms/step - loss: 0.1641 - mse: 0.0493 - val_loss: 0.1489 - val_mse: 0.0284\n",
      "Epoch 29/80\n",
      "9/9 [==============================] - 0s 5ms/step - loss: 0.1316 - mse: 0.0330 - val_loss: 0.1454 - val_mse: 0.0273\n",
      "Epoch 30/80\n",
      "9/9 [==============================] - 0s 5ms/step - loss: 0.1522 - mse: 0.0433 - val_loss: 0.1412 - val_mse: 0.0260\n",
      "Epoch 31/80\n",
      "9/9 [==============================] - 0s 5ms/step - loss: 0.1329 - mse: 0.0313 - val_loss: 0.1380 - val_mse: 0.0250\n",
      "Epoch 32/80\n",
      "9/9 [==============================] - 0s 5ms/step - loss: 0.1426 - mse: 0.0358 - val_loss: 0.1369 - val_mse: 0.0247\n",
      "Epoch 33/80\n",
      "9/9 [==============================] - 0s 5ms/step - loss: 0.1359 - mse: 0.0363 - val_loss: 0.1360 - val_mse: 0.0245\n",
      "Epoch 34/80\n",
      "9/9 [==============================] - 0s 5ms/step - loss: 0.1363 - mse: 0.0346 - val_loss: 0.1345 - val_mse: 0.0240\n",
      "Epoch 35/80\n",
      "9/9 [==============================] - 0s 5ms/step - loss: 0.1367 - mse: 0.0345 - val_loss: 0.1331 - val_mse: 0.0236\n",
      "Epoch 36/80\n",
      "9/9 [==============================] - 0s 5ms/step - loss: 0.1347 - mse: 0.0351 - val_loss: 0.1326 - val_mse: 0.0235\n",
      "Epoch 37/80\n",
      "9/9 [==============================] - 0s 5ms/step - loss: 0.1656 - mse: 0.0469 - val_loss: 0.1322 - val_mse: 0.0233\n",
      "Epoch 38/80\n",
      "9/9 [==============================] - 0s 5ms/step - loss: 0.1193 - mse: 0.0276 - val_loss: 0.1315 - val_mse: 0.0231\n",
      "Epoch 39/80\n",
      "9/9 [==============================] - 0s 5ms/step - loss: 0.1328 - mse: 0.0335 - val_loss: 0.1320 - val_mse: 0.0233\n",
      "Epoch 40/80\n",
      "9/9 [==============================] - 0s 5ms/step - loss: 0.1419 - mse: 0.0373 - val_loss: 0.1312 - val_mse: 0.0231\n",
      "Epoch 41/80\n",
      "9/9 [==============================] - 0s 5ms/step - loss: 0.1463 - mse: 0.0381 - val_loss: 0.1308 - val_mse: 0.0230\n",
      "Epoch 42/80\n",
      "9/9 [==============================] - 0s 5ms/step - loss: 0.1100 - mse: 0.0252 - val_loss: 0.1306 - val_mse: 0.0231\n",
      "Epoch 43/80\n",
      "9/9 [==============================] - 0s 5ms/step - loss: 0.1665 - mse: 0.0502 - val_loss: 0.1300 - val_mse: 0.0228\n",
      "Epoch 44/80\n",
      "9/9 [==============================] - 0s 5ms/step - loss: 0.1272 - mse: 0.0345 - val_loss: 0.1279 - val_mse: 0.0221\n",
      "Epoch 45/80\n",
      "9/9 [==============================] - 0s 5ms/step - loss: 0.1274 - mse: 0.0345 - val_loss: 0.1276 - val_mse: 0.0221\n",
      "Epoch 46/80\n",
      "9/9 [==============================] - 0s 5ms/step - loss: 0.1171 - mse: 0.0316 - val_loss: 0.1262 - val_mse: 0.0217\n",
      "Epoch 47/80\n",
      "9/9 [==============================] - 0s 5ms/step - loss: 0.1262 - mse: 0.0289 - val_loss: 0.1257 - val_mse: 0.0214\n",
      "Epoch 48/80\n",
      "9/9 [==============================] - 0s 5ms/step - loss: 0.1319 - mse: 0.0352 - val_loss: 0.1265 - val_mse: 0.0218\n",
      "Epoch 49/80\n",
      "9/9 [==============================] - 0s 5ms/step - loss: 0.1267 - mse: 0.0285 - val_loss: 0.1268 - val_mse: 0.0219\n",
      "Epoch 50/80\n",
      "9/9 [==============================] - 0s 5ms/step - loss: 0.1270 - mse: 0.0303 - val_loss: 0.1271 - val_mse: 0.0219\n",
      "Epoch 51/80\n",
      "9/9 [==============================] - 0s 5ms/step - loss: 0.1142 - mse: 0.0292 - val_loss: 0.1258 - val_mse: 0.0216\n",
      "Epoch 52/80\n",
      "9/9 [==============================] - 0s 5ms/step - loss: 0.1615 - mse: 0.0458 - val_loss: 0.1252 - val_mse: 0.0215\n",
      "Epoch 53/80\n",
      "9/9 [==============================] - 0s 5ms/step - loss: 0.1333 - mse: 0.0368 - val_loss: 0.1251 - val_mse: 0.0214\n",
      "Epoch 54/80\n",
      "9/9 [==============================] - 0s 5ms/step - loss: 0.1230 - mse: 0.0307 - val_loss: 0.1252 - val_mse: 0.0216\n",
      "Epoch 55/80\n",
      "9/9 [==============================] - 0s 5ms/step - loss: 0.1245 - mse: 0.0319 - val_loss: 0.1252 - val_mse: 0.0214\n",
      "Epoch 56/80\n",
      "9/9 [==============================] - 0s 5ms/step - loss: 0.1187 - mse: 0.0301 - val_loss: 0.1253 - val_mse: 0.0214\n",
      "Epoch 57/80\n",
      "9/9 [==============================] - 0s 5ms/step - loss: 0.1162 - mse: 0.0313 - val_loss: 0.1250 - val_mse: 0.0213\n",
      "Epoch 58/80\n",
      "9/9 [==============================] - 0s 5ms/step - loss: 0.1361 - mse: 0.0376 - val_loss: 0.1236 - val_mse: 0.0208\n"
     ]
    },
    {
     "name": "stdout",
     "output_type": "stream",
     "text": [
      "Epoch 59/80\n",
      "9/9 [==============================] - 0s 5ms/step - loss: 0.1190 - mse: 0.0282 - val_loss: 0.1249 - val_mse: 0.0213\n",
      "Epoch 60/80\n",
      "9/9 [==============================] - 0s 5ms/step - loss: 0.1093 - mse: 0.0254 - val_loss: 0.1250 - val_mse: 0.0213\n",
      "Epoch 61/80\n",
      "9/9 [==============================] - 0s 5ms/step - loss: 0.1154 - mse: 0.0254 - val_loss: 0.1243 - val_mse: 0.0209\n",
      "Epoch 62/80\n",
      "9/9 [==============================] - 0s 5ms/step - loss: 0.1167 - mse: 0.0274 - val_loss: 0.1248 - val_mse: 0.0210\n",
      "Epoch 63/80\n",
      "9/9 [==============================] - 0s 5ms/step - loss: 0.1127 - mse: 0.0267 - val_loss: 0.1255 - val_mse: 0.0214\n",
      "Epoch 64/80\n",
      "9/9 [==============================] - 0s 5ms/step - loss: 0.1332 - mse: 0.0328 - val_loss: 0.1261 - val_mse: 0.0216\n",
      "Epoch 65/80\n",
      "9/9 [==============================] - 0s 5ms/step - loss: 0.1194 - mse: 0.0278 - val_loss: 0.1267 - val_mse: 0.0217\n",
      "Epoch 66/80\n",
      "9/9 [==============================] - 0s 5ms/step - loss: 0.1350 - mse: 0.0360 - val_loss: 0.1263 - val_mse: 0.0215\n",
      "Epoch 67/80\n",
      "9/9 [==============================] - 0s 5ms/step - loss: 0.1199 - mse: 0.0289 - val_loss: 0.1262 - val_mse: 0.0215\n",
      "Epoch 68/80\n",
      "9/9 [==============================] - 0s 5ms/step - loss: 0.1235 - mse: 0.0293 - val_loss: 0.1265 - val_mse: 0.0215\n",
      "Epoch 69/80\n",
      "9/9 [==============================] - 0s 5ms/step - loss: 0.1440 - mse: 0.0367 - val_loss: 0.1262 - val_mse: 0.0215\n",
      "Epoch 70/80\n",
      "9/9 [==============================] - 0s 5ms/step - loss: 0.1313 - mse: 0.0318 - val_loss: 0.1247 - val_mse: 0.0209\n",
      "Epoch 71/80\n",
      "9/9 [==============================] - 0s 5ms/step - loss: 0.1125 - mse: 0.0256 - val_loss: 0.1239 - val_mse: 0.0205\n",
      "Epoch 72/80\n",
      "9/9 [==============================] - 0s 5ms/step - loss: 0.1452 - mse: 0.0374 - val_loss: 0.1232 - val_mse: 0.0203\n",
      "Epoch 73/80\n",
      "9/9 [==============================] - 0s 5ms/step - loss: 0.1051 - mse: 0.0246 - val_loss: 0.1240 - val_mse: 0.0208\n",
      "Epoch 74/80\n",
      "9/9 [==============================] - 0s 5ms/step - loss: 0.1114 - mse: 0.0269 - val_loss: 0.1247 - val_mse: 0.0212\n",
      "Epoch 75/80\n",
      "9/9 [==============================] - 0s 5ms/step - loss: 0.1220 - mse: 0.0292 - val_loss: 0.1249 - val_mse: 0.0212\n",
      "Epoch 76/80\n",
      "9/9 [==============================] - 0s 5ms/step - loss: 0.1335 - mse: 0.0354 - val_loss: 0.1264 - val_mse: 0.0218\n",
      "Epoch 77/80\n",
      "9/9 [==============================] - 0s 5ms/step - loss: 0.1235 - mse: 0.0299 - val_loss: 0.1250 - val_mse: 0.0209\n",
      "Epoch 78/80\n",
      "9/9 [==============================] - ETA: 0s - loss: 0.2225 - mse: 0.070 - 0s 5ms/step - loss: 0.1401 - mse: 0.0387 - val_loss: 0.1243 - val_mse: 0.0206\n",
      "Epoch 79/80\n",
      "9/9 [==============================] - 0s 5ms/step - loss: 0.1313 - mse: 0.0333 - val_loss: 0.1230 - val_mse: 0.0202\n",
      "Epoch 80/80\n",
      "9/9 [==============================] - 0s 5ms/step - loss: 0.1180 - mse: 0.0310 - val_loss: 0.1231 - val_mse: 0.0202\n"
     ]
    }
   ],
   "source": [
    "EPOCHS=80\n",
    "\n",
    "model = crear_modeloFF()\n",
    "\n",
    "history=model.fit(x_train,y_train,epochs=EPOCHS,validation_data=(x_val,y_val),batch_size=PASOS)"
   ]
  },
  {
   "cell_type": "markdown",
   "metadata": {},
   "source": [
    "# Visualizamos resultados"
   ]
  },
  {
   "cell_type": "code",
   "execution_count": 18,
   "metadata": {},
   "outputs": [
    {
     "name": "stdout",
     "output_type": "stream",
     "text": [
      "11\n"
     ]
    }
   ],
   "source": [
    "results=model.predict(x_val)\n",
    "print(len(results))"
   ]
  },
  {
   "cell_type": "code",
   "execution_count": 19,
   "metadata": {},
   "outputs": [
    {
     "data": {
      "image/png": "[encoded data removed]",
      "text/plain": [
       "<Figure size 432x288 with 1 Axes>"
      ]
     },
     "metadata": {
      "needs_background": "light"
     },
     "output_type": "display_data"
    }
   ],
   "source": [
    "plt.scatter(range(len(y_val)),y_val,c='g')\n",
    "plt.scatter(range(len(results)),results,c='r')\n",
    "plt.title('validate')\n",
    "plt.show()"
   ]
  },
  {
   "cell_type": "code",
   "execution_count": 20,
   "metadata": {},
   "outputs": [
    {
     "data": {
      "image/png": "[encoded data removed]",
      "text/plain": [
       "<Figure size 432x288 with 1 Axes>"
      ]
     },
     "metadata": {
      "needs_background": "light"
     },
     "output_type": "display_data"
    }
   ],
   "source": [
    "plt.plot(history.history['loss'])\n",
    "plt.title('loss')\n",
    "plt.plot(history.history['val_loss'])\n",
    "plt.title('validate loss')\n",
    "plt.show()"
   ]
  },
  {
   "cell_type": "markdown",
   "metadata": {},
   "source": [
    "# Prediccion a futuro"
   ]
  },
  {
   "cell_type": "code",
   "execution_count": 21,
   "metadata": {},
   "outputs": [
    {
     "data": {
      "text/html": [
       "<div>\n",
       "<style scoped>\n",
       "    .dataframe tbody tr th:only-of-type {\n",
       "        vertical-align: middle;\n",
       "    }\n",
       "\n",
       "    .dataframe tbody tr th {\n",
       "        vertical-align: top;\n",
       "    }\n",
       "\n",
       "    .dataframe thead th {\n",
       "        text-align: right;\n",
       "    }\n",
       "</style>\n",
       "<table border=\"1\" class=\"dataframe\">\n",
       "  <thead>\n",
       "    <tr style=\"text-align: right;\">\n",
       "      <th></th>\n",
       "      <th>Viajes</th>\n",
       "    </tr>\n",
       "  </thead>\n",
       "  <tbody>\n",
       "    <tr>\n",
       "      <th>2020-06-07</th>\n",
       "      <td>3396402</td>\n",
       "    </tr>\n",
       "    <tr>\n",
       "      <th>2020-06-08</th>\n",
       "      <td>4461143</td>\n",
       "    </tr>\n",
       "    <tr>\n",
       "      <th>2020-06-09</th>\n",
       "      <td>4478072</td>\n",
       "    </tr>\n",
       "    <tr>\n",
       "      <th>2020-06-10</th>\n",
       "      <td>5303428</td>\n",
       "    </tr>\n",
       "    <tr>\n",
       "      <th>2020-06-11</th>\n",
       "      <td>5200931</td>\n",
       "    </tr>\n",
       "    <tr>\n",
       "      <th>2020-06-12</th>\n",
       "      <td>5215302</td>\n",
       "    </tr>\n",
       "    <tr>\n",
       "      <th>2020-06-13</th>\n",
       "      <td>4445190</td>\n",
       "    </tr>\n",
       "    <tr>\n",
       "      <th>2020-06-14</th>\n",
       "      <td>3753016</td>\n",
       "    </tr>\n",
       "    <tr>\n",
       "      <th>2020-06-15</th>\n",
       "      <td>4973188</td>\n",
       "    </tr>\n",
       "    <tr>\n",
       "      <th>2020-06-16</th>\n",
       "      <td>5308885</td>\n",
       "    </tr>\n",
       "    <tr>\n",
       "      <th>2020-06-17</th>\n",
       "      <td>5366644</td>\n",
       "    </tr>\n",
       "    <tr>\n",
       "      <th>2020-06-18</th>\n",
       "      <td>5439425</td>\n",
       "    </tr>\n",
       "    <tr>\n",
       "      <th>2020-06-19</th>\n",
       "      <td>5519725</td>\n",
       "    </tr>\n",
       "    <tr>\n",
       "      <th>2020-06-20</th>\n",
       "      <td>4626546</td>\n",
       "    </tr>\n",
       "  </tbody>\n",
       "</table>\n",
       "</div>"
      ],
      "text/plain": [
       "             Viajes\n",
       "2020-06-07  3396402\n",
       "2020-06-08  4461143\n",
       "2020-06-09  4478072\n",
       "2020-06-10  5303428\n",
       "2020-06-11  5200931\n",
       "2020-06-12  5215302\n",
       "2020-06-13  4445190\n",
       "2020-06-14  3753016\n",
       "2020-06-15  4973188\n",
       "2020-06-16  5308885\n",
       "2020-06-17  5366644\n",
       "2020-06-18  5439425\n",
       "2020-06-19  5519725\n",
       "2020-06-20  4626546"
      ]
     },
     "execution_count": 21,
     "metadata": {},
     "output_type": "execute_result"
    }
   ],
   "source": [
    "# usaremos los 14 ultimos dias del confinamiento en junio para predecir como habrian sido los dias del 21 al 27 en caso de que\n",
    "# el confinamiento se hubiese alargado por una semana mas\n",
    "\n",
    "ultimosDias = df['2020-6-7':'2020-6-20']\n",
    "ultimosDias"
   ]
  },
  {
   "cell_type": "markdown",
   "metadata": {},
   "source": [
    "# Preparamos los datos para el test"
   ]
  },
  {
   "cell_type": "code",
   "execution_count": 22,
   "metadata": {},
   "outputs": [
    {
     "data": {
      "text/html": [
       "<div>\n",
       "<style scoped>\n",
       "    .dataframe tbody tr th:only-of-type {\n",
       "        vertical-align: middle;\n",
       "    }\n",
       "\n",
       "    .dataframe tbody tr th {\n",
       "        vertical-align: top;\n",
       "    }\n",
       "\n",
       "    .dataframe thead th {\n",
       "        text-align: right;\n",
       "    }\n",
       "</style>\n",
       "<table border=\"1\" class=\"dataframe\">\n",
       "  <thead>\n",
       "    <tr style=\"text-align: right;\">\n",
       "      <th></th>\n",
       "      <th>var1(t-7)</th>\n",
       "      <th>var1(t-6)</th>\n",
       "      <th>var1(t-5)</th>\n",
       "      <th>var1(t-4)</th>\n",
       "      <th>var1(t-3)</th>\n",
       "      <th>var1(t-2)</th>\n",
       "      <th>var1(t-1)</th>\n",
       "    </tr>\n",
       "  </thead>\n",
       "  <tbody>\n",
       "    <tr>\n",
       "      <th>7</th>\n",
       "      <td>-1.000000</td>\n",
       "      <td>0.002901</td>\n",
       "      <td>0.018846</td>\n",
       "      <td>0.796266</td>\n",
       "      <td>0.699721</td>\n",
       "      <td>0.713258</td>\n",
       "      <td>-0.012126</td>\n",
       "    </tr>\n",
       "    <tr>\n",
       "      <th>8</th>\n",
       "      <td>0.002901</td>\n",
       "      <td>0.018846</td>\n",
       "      <td>0.796266</td>\n",
       "      <td>0.699721</td>\n",
       "      <td>0.713258</td>\n",
       "      <td>-0.012126</td>\n",
       "      <td>-0.664099</td>\n",
       "    </tr>\n",
       "    <tr>\n",
       "      <th>9</th>\n",
       "      <td>0.018846</td>\n",
       "      <td>0.796266</td>\n",
       "      <td>0.699721</td>\n",
       "      <td>0.713258</td>\n",
       "      <td>-0.012126</td>\n",
       "      <td>-0.664099</td>\n",
       "      <td>0.485206</td>\n",
       "    </tr>\n",
       "    <tr>\n",
       "      <th>10</th>\n",
       "      <td>0.796266</td>\n",
       "      <td>0.699721</td>\n",
       "      <td>0.713258</td>\n",
       "      <td>-0.012126</td>\n",
       "      <td>-0.664099</td>\n",
       "      <td>0.485206</td>\n",
       "      <td>0.801405</td>\n",
       "    </tr>\n",
       "    <tr>\n",
       "      <th>11</th>\n",
       "      <td>0.699721</td>\n",
       "      <td>0.713258</td>\n",
       "      <td>-0.012126</td>\n",
       "      <td>-0.664099</td>\n",
       "      <td>0.485206</td>\n",
       "      <td>0.801405</td>\n",
       "      <td>0.855810</td>\n",
       "    </tr>\n",
       "    <tr>\n",
       "      <th>12</th>\n",
       "      <td>0.713258</td>\n",
       "      <td>-0.012126</td>\n",
       "      <td>-0.664099</td>\n",
       "      <td>0.485206</td>\n",
       "      <td>0.801405</td>\n",
       "      <td>0.855810</td>\n",
       "      <td>0.924364</td>\n",
       "    </tr>\n",
       "    <tr>\n",
       "      <th>13</th>\n",
       "      <td>-0.012126</td>\n",
       "      <td>-0.664099</td>\n",
       "      <td>0.485206</td>\n",
       "      <td>0.801405</td>\n",
       "      <td>0.855810</td>\n",
       "      <td>0.924364</td>\n",
       "      <td>1.000000</td>\n",
       "    </tr>\n",
       "  </tbody>\n",
       "</table>\n",
       "</div>"
      ],
      "text/plain": [
       "    var1(t-7)  var1(t-6)  var1(t-5)  var1(t-4)  var1(t-3)  var1(t-2)  \\\n",
       "7   -1.000000   0.002901   0.018846   0.796266   0.699721   0.713258   \n",
       "8    0.002901   0.018846   0.796266   0.699721   0.713258  -0.012126   \n",
       "9    0.018846   0.796266   0.699721   0.713258  -0.012126  -0.664099   \n",
       "10   0.796266   0.699721   0.713258  -0.012126  -0.664099   0.485206   \n",
       "11   0.699721   0.713258  -0.012126  -0.664099   0.485206   0.801405   \n",
       "12   0.713258  -0.012126  -0.664099   0.485206   0.801405   0.855810   \n",
       "13  -0.012126  -0.664099   0.485206   0.801405   0.855810   0.924364   \n",
       "\n",
       "    var1(t-1)  \n",
       "7   -0.012126  \n",
       "8   -0.664099  \n",
       "9    0.485206  \n",
       "10   0.801405  \n",
       "11   0.855810  \n",
       "12   0.924364  \n",
       "13   1.000000  "
      ]
     },
     "execution_count": 22,
     "metadata": {},
     "output_type": "execute_result"
    }
   ],
   "source": [
    "# cargamos el dataframe en la variable values\n",
    "values = ultimosDias.values\n",
    "\n",
    "# convertimos los enteros en floats\n",
    "values = values.astype('float32')\n",
    "\n",
    "# normalizamos los datos a escala de entre -1 y 1\n",
    "values=values.reshape(-1, 1) # esto lo hacemos porque tenemos 1 sola dimension\n",
    "scaled = scaler.fit_transform(values)\n",
    "\n",
    "# usamos la funcion definida previamente\n",
    "reframed = series_to_supervised(scaled, PASOS, 1)\n",
    "\n",
    "# eliminamos la ultima columna pues es parte de lo que queremos hayar\n",
    "reframed.drop(reframed.columns[[7]], inplace=True, axis=1)\n",
    "reframed.head(7)"
   ]
  },
  {
   "cell_type": "code",
   "execution_count": 23,
   "metadata": {},
   "outputs": [
    {
     "name": "stdout",
     "output_type": "stream",
     "text": [
      "(1, 1, 7)\n"
     ]
    },
    {
     "data": {
      "text/plain": [
       "array([[[-0.01212597, -0.6640985 ,  0.48520565,  0.80140543,\n",
       "          0.8558097 ,  0.9243636 ,  1.        ]]], dtype=float32)"
      ]
     },
     "execution_count": 23,
     "metadata": {},
     "output_type": "execute_result"
    }
   ],
   "source": [
    "values = reframed.values\n",
    "\n",
    "#tomamos los valores para realizar el test\n",
    "x_test = values[6:, :]\n",
    "\n",
    "# reshape input to be 3D [samples, timesteps, features] - preguntar\n",
    "x_test = x_test.reshape((x_test.shape[0], 1, x_test.shape[1]))\n",
    "print(x_test.shape)\n",
    "x_test"
   ]
  },
  {
   "cell_type": "code",
   "execution_count": 24,
   "metadata": {},
   "outputs": [],
   "source": [
    "#definimos la funcion para realizar el desplazamiento que se hara en el array cada prediccion pues para hacer\n",
    "#la siguiente prediccion eliminamos el dia mas antiguo, desplazamos un lugar el resto de dias y añadimos el ultimo dia que\n",
    "#se ha predecido, esto es por que para predecir un dia se usan los 7 dias previos\n",
    "\n",
    "def agregarNuevoValor(x_test,nuevoValor):\n",
    "    for i in range(x_test.shape[2]-1):\n",
    "        x_test[0][0][i] = x_test[0][0][i+1]\n",
    "    x_test[0][0][x_test.shape[2]-1]=nuevoValor\n",
    "    return x_test"
   ]
  },
  {
   "cell_type": "markdown",
   "metadata": {},
   "source": [
    "# Predicciones para la proxima semana"
   ]
  },
  {
   "cell_type": "code",
   "execution_count": 25,
   "metadata": {},
   "outputs": [
    {
     "name": "stdout",
     "output_type": "stream",
     "text": [
      "[[[-0.01212597 -0.6640985   0.48520565  0.80140543  0.8558097\n",
      "    0.9243636   1.        ]]]\n",
      "[[[-0.6640985   0.48520565  0.80140543  0.8558097   0.9243636\n",
      "    1.          0.36509195]]]\n",
      "[[[ 0.48520565  0.80140543  0.8558097   0.9243636   1.\n",
      "    0.36509195 -0.15532109]]]\n",
      "[[[ 0.80140543  0.8558097   0.9243636   1.          0.36509195\n",
      "   -0.15532109  0.43586645]]]\n",
      "[[[ 0.8558097   0.9243636   1.          0.36509195 -0.15532109\n",
      "    0.43586645  0.7782045 ]]]\n",
      "[[[ 0.9243636   1.          0.36509195 -0.15532109  0.43586645\n",
      "    0.7782045   0.8261887 ]]]\n",
      "[[[ 1.          0.36509195 -0.15532109  0.43586645  0.7782045\n",
      "    0.8261887   0.86674196]]]\n"
     ]
    }
   ],
   "source": [
    "results=[]\n",
    "for i in range(7):\n",
    "    parcial=model.predict(x_test)\n",
    "    results.append(parcial[0])\n",
    "    print(x_test)\n",
    "    x_test=agregarNuevoValor(x_test,parcial[0])"
   ]
  },
  {
   "cell_type": "markdown",
   "metadata": {},
   "source": [
    "# Re-Convertimos los resultados"
   ]
  },
  {
   "cell_type": "code",
   "execution_count": 26,
   "metadata": {},
   "outputs": [
    {
     "name": "stdout",
     "output_type": "stream",
     "text": [
      "[array([0.36509195], dtype=float32), array([-0.15532109], dtype=float32), array([0.43586645], dtype=float32), array([0.7782045], dtype=float32), array([0.8261887], dtype=float32), array([0.86674196], dtype=float32), array([0.8559945], dtype=float32)]\n"
     ]
    },
    {
     "data": {
      "text/plain": [
       "array([[4845667.76801735],\n",
       "       [4293165.29272042],\n",
       "       [4920806.32320044],\n",
       "       [5284253.44700104],\n",
       "       [5335196.40518372],\n",
       "       [5378250.25138746],\n",
       "       [5366840.11615728]])"
      ]
     },
     "execution_count": 26,
     "metadata": {},
     "output_type": "execute_result"
    }
   ],
   "source": [
    "adimen = [x for x in results]    \n",
    "print(adimen)\n",
    "inverted = scaler.inverse_transform(adimen)\n",
    "inverted"
   ]
  },
  {
   "cell_type": "markdown",
   "metadata": {},
   "source": [
    "# Visualizamos el pronostico"
   ]
  },
  {
   "cell_type": "code",
   "execution_count": 27,
   "metadata": {},
   "outputs": [
    {
     "data": {
      "text/plain": [
       "<AxesSubplot:>"
      ]
     },
     "execution_count": 27,
     "metadata": {},
     "output_type": "execute_result"
    },
    {
     "data": {
      "image/png": "[encoded data removed]",
      "text/plain": [
       "<Figure size 432x288 with 1 Axes>"
      ]
     },
     "metadata": {
      "needs_background": "light"
     },
     "output_type": "display_data"
    }
   ],
   "source": [
    "prediccion = pd.DataFrame(inverted)\n",
    "prediccion.columns = ['pronostico']\n",
    "prediccion.plot()"
   ]
  },
  {
   "cell_type": "markdown",
   "metadata": {},
   "source": [
    "# Prediccion con datos actuales"
   ]
  },
  {
   "cell_type": "code",
   "execution_count": 28,
   "metadata": {},
   "outputs": [
    {
     "data": {
      "text/html": [
       "<div>\n",
       "<style scoped>\n",
       "    .dataframe tbody tr th:only-of-type {\n",
       "        vertical-align: middle;\n",
       "    }\n",
       "\n",
       "    .dataframe tbody tr th {\n",
       "        vertical-align: top;\n",
       "    }\n",
       "\n",
       "    .dataframe thead th {\n",
       "        text-align: right;\n",
       "    }\n",
       "</style>\n",
       "<table border=\"1\" class=\"dataframe\">\n",
       "  <thead>\n",
       "    <tr style=\"text-align: right;\">\n",
       "      <th></th>\n",
       "      <th>Viajes</th>\n",
       "    </tr>\n",
       "  </thead>\n",
       "  <tbody>\n",
       "    <tr>\n",
       "      <th>2020-05-11</th>\n",
       "      <td>3545526</td>\n",
       "    </tr>\n",
       "    <tr>\n",
       "      <th>2020-05-12</th>\n",
       "      <td>3985384</td>\n",
       "    </tr>\n",
       "    <tr>\n",
       "      <th>2020-05-13</th>\n",
       "      <td>3922169</td>\n",
       "    </tr>\n",
       "    <tr>\n",
       "      <th>2020-05-14</th>\n",
       "      <td>3845239</td>\n",
       "    </tr>\n",
       "    <tr>\n",
       "      <th>2020-05-15</th>\n",
       "      <td>3745419</td>\n",
       "    </tr>\n",
       "    <tr>\n",
       "      <th>2020-05-16</th>\n",
       "      <td>2983259</td>\n",
       "    </tr>\n",
       "    <tr>\n",
       "      <th>2020-05-17</th>\n",
       "      <td>2430478</td>\n",
       "    </tr>\n",
       "    <tr>\n",
       "      <th>2020-05-18</th>\n",
       "      <td>3896788</td>\n",
       "    </tr>\n",
       "    <tr>\n",
       "      <th>2020-05-19</th>\n",
       "      <td>4284420</td>\n",
       "    </tr>\n",
       "    <tr>\n",
       "      <th>2020-05-20</th>\n",
       "      <td>4309613</td>\n",
       "    </tr>\n",
       "    <tr>\n",
       "      <th>2020-05-21</th>\n",
       "      <td>4325833</td>\n",
       "    </tr>\n",
       "    <tr>\n",
       "      <th>2020-05-22</th>\n",
       "      <td>4368803</td>\n",
       "    </tr>\n",
       "    <tr>\n",
       "      <th>2020-05-23</th>\n",
       "      <td>3563725</td>\n",
       "    </tr>\n",
       "    <tr>\n",
       "      <th>2020-05-24</th>\n",
       "      <td>2928981</td>\n",
       "    </tr>\n",
       "  </tbody>\n",
       "</table>\n",
       "</div>"
      ],
      "text/plain": [
       "             Viajes\n",
       "2020-05-11  3545526\n",
       "2020-05-12  3985384\n",
       "2020-05-13  3922169\n",
       "2020-05-14  3845239\n",
       "2020-05-15  3745419\n",
       "2020-05-16  2983259\n",
       "2020-05-17  2430478\n",
       "2020-05-18  3896788\n",
       "2020-05-19  4284420\n",
       "2020-05-20  4309613\n",
       "2020-05-21  4325833\n",
       "2020-05-22  4368803\n",
       "2020-05-23  3563725\n",
       "2020-05-24  2928981"
      ]
     },
     "execution_count": 28,
     "metadata": {},
     "output_type": "execute_result"
    }
   ],
   "source": [
    "# usaremos 14 dias que poseemos para predecir los 7 dias siguientes tras esto compararemos los resultados con los que\n",
    "# poseemos para ver el grado de error\n",
    "Dias = df['2020-5-11':'2020-5-24']\n",
    "Dias"
   ]
  },
  {
   "cell_type": "markdown",
   "metadata": {},
   "source": [
    "# Preparamos los datos para el test"
   ]
  },
  {
   "cell_type": "code",
   "execution_count": 29,
   "metadata": {},
   "outputs": [
    {
     "data": {
      "text/html": [
       "<div>\n",
       "<style scoped>\n",
       "    .dataframe tbody tr th:only-of-type {\n",
       "        vertical-align: middle;\n",
       "    }\n",
       "\n",
       "    .dataframe tbody tr th {\n",
       "        vertical-align: top;\n",
       "    }\n",
       "\n",
       "    .dataframe thead th {\n",
       "        text-align: right;\n",
       "    }\n",
       "</style>\n",
       "<table border=\"1\" class=\"dataframe\">\n",
       "  <thead>\n",
       "    <tr style=\"text-align: right;\">\n",
       "      <th></th>\n",
       "      <th>var1(t-7)</th>\n",
       "      <th>var1(t-6)</th>\n",
       "      <th>var1(t-5)</th>\n",
       "      <th>var1(t-4)</th>\n",
       "      <th>var1(t-3)</th>\n",
       "      <th>var1(t-2)</th>\n",
       "      <th>var1(t-1)</th>\n",
       "    </tr>\n",
       "  </thead>\n",
       "  <tbody>\n",
       "    <tr>\n",
       "      <th>7</th>\n",
       "      <td>0.150527</td>\n",
       "      <td>0.604381</td>\n",
       "      <td>0.539155</td>\n",
       "      <td>0.459777</td>\n",
       "      <td>0.356781</td>\n",
       "      <td>-0.429630</td>\n",
       "      <td>-1.000000</td>\n",
       "    </tr>\n",
       "    <tr>\n",
       "      <th>8</th>\n",
       "      <td>0.604381</td>\n",
       "      <td>0.539155</td>\n",
       "      <td>0.459777</td>\n",
       "      <td>0.356781</td>\n",
       "      <td>-0.429630</td>\n",
       "      <td>-1.000000</td>\n",
       "      <td>0.512966</td>\n",
       "    </tr>\n",
       "    <tr>\n",
       "      <th>9</th>\n",
       "      <td>0.539155</td>\n",
       "      <td>0.459777</td>\n",
       "      <td>0.356781</td>\n",
       "      <td>-0.429630</td>\n",
       "      <td>-1.000000</td>\n",
       "      <td>0.512966</td>\n",
       "      <td>0.912932</td>\n",
       "    </tr>\n",
       "    <tr>\n",
       "      <th>10</th>\n",
       "      <td>0.459777</td>\n",
       "      <td>0.356781</td>\n",
       "      <td>-0.429630</td>\n",
       "      <td>-1.000000</td>\n",
       "      <td>0.512966</td>\n",
       "      <td>0.912932</td>\n",
       "      <td>0.938927</td>\n",
       "    </tr>\n",
       "    <tr>\n",
       "      <th>11</th>\n",
       "      <td>0.356781</td>\n",
       "      <td>-0.429630</td>\n",
       "      <td>-1.000000</td>\n",
       "      <td>0.512966</td>\n",
       "      <td>0.912932</td>\n",
       "      <td>0.938927</td>\n",
       "      <td>0.955663</td>\n",
       "    </tr>\n",
       "    <tr>\n",
       "      <th>12</th>\n",
       "      <td>-0.429630</td>\n",
       "      <td>-1.000000</td>\n",
       "      <td>0.512966</td>\n",
       "      <td>0.912932</td>\n",
       "      <td>0.938927</td>\n",
       "      <td>0.955663</td>\n",
       "      <td>1.000000</td>\n",
       "    </tr>\n",
       "    <tr>\n",
       "      <th>13</th>\n",
       "      <td>-1.000000</td>\n",
       "      <td>0.512966</td>\n",
       "      <td>0.912932</td>\n",
       "      <td>0.938927</td>\n",
       "      <td>0.955663</td>\n",
       "      <td>1.000000</td>\n",
       "      <td>0.169306</td>\n",
       "    </tr>\n",
       "  </tbody>\n",
       "</table>\n",
       "</div>"
      ],
      "text/plain": [
       "    var1(t-7)  var1(t-6)  var1(t-5)  var1(t-4)  var1(t-3)  var1(t-2)  \\\n",
       "7    0.150527   0.604381   0.539155   0.459777   0.356781  -0.429630   \n",
       "8    0.604381   0.539155   0.459777   0.356781  -0.429630  -1.000000   \n",
       "9    0.539155   0.459777   0.356781  -0.429630  -1.000000   0.512966   \n",
       "10   0.459777   0.356781  -0.429630  -1.000000   0.512966   0.912932   \n",
       "11   0.356781  -0.429630  -1.000000   0.512966   0.912932   0.938927   \n",
       "12  -0.429630  -1.000000   0.512966   0.912932   0.938927   0.955663   \n",
       "13  -1.000000   0.512966   0.912932   0.938927   0.955663   1.000000   \n",
       "\n",
       "    var1(t-1)  \n",
       "7   -1.000000  \n",
       "8    0.512966  \n",
       "9    0.912932  \n",
       "10   0.938927  \n",
       "11   0.955663  \n",
       "12   1.000000  \n",
       "13   0.169306  "
      ]
     },
     "execution_count": 29,
     "metadata": {},
     "output_type": "execute_result"
    }
   ],
   "source": [
    "# cargamos el dataframe en la variable values\n",
    "values = Dias.values\n",
    "\n",
    "# convertimos los enteros en floats\n",
    "values = values.astype('float32')\n",
    "\n",
    "# normalizamos los datos a escala de entre -1 y 1\n",
    "values=values.reshape(-1, 1) # esto lo hacemos porque tenemos 1 sola dimension\n",
    "scaled = scaler.fit_transform(values)\n",
    "\n",
    "# usamos la funcion definida previamente\n",
    "reframed = series_to_supervised(scaled, PASOS, 1)\n",
    "\n",
    "# eliminamos la ultima columna pues es parte de lo que queremos hayar\n",
    "reframed.drop(reframed.columns[[7]], inplace=True, axis=1)\n",
    "reframed.head(7)"
   ]
  },
  {
   "cell_type": "code",
   "execution_count": 30,
   "metadata": {},
   "outputs": [
    {
     "name": "stdout",
     "output_type": "stream",
     "text": [
      "(1, 1, 7)\n"
     ]
    },
    {
     "data": {
      "text/plain": [
       "array([[[-1.        ,  0.51296616,  0.9129319 ,  0.9389267 ,\n",
       "          0.9556627 ,  1.        ,  0.16930556]]], dtype=float32)"
      ]
     },
     "execution_count": 30,
     "metadata": {},
     "output_type": "execute_result"
    }
   ],
   "source": [
    "values = reframed.values\n",
    "\n",
    "#tomamos los valores para realizar el test\n",
    "x_test = values[6:, :]\n",
    "\n",
    "# reshape input to be 3D [samples, timesteps, features] - preguntar\n",
    "x_test = x_test.reshape((x_test.shape[0], 1, x_test.shape[1]))\n",
    "print(x_test.shape)\n",
    "x_test"
   ]
  },
  {
   "cell_type": "code",
   "execution_count": 31,
   "metadata": {},
   "outputs": [],
   "source": [
    "#en la linea 24 definimos la funcion para realizar el desplazamiento que se hara en el array cada prediccion pues para hacer\n",
    "#la siguiente prediccion eliminamos el dia mas antiguo, desplazamos un lugar el resto de dias y añadimos el ultimo dia que\n",
    "#se ha predecido, esto es por que para predecir un dia se usan los 7 dias previos, y que usaremos a continuación"
   ]
  },
  {
   "cell_type": "markdown",
   "metadata": {},
   "source": [
    "# Realizamos la prediccion "
   ]
  },
  {
   "cell_type": "code",
   "execution_count": 32,
   "metadata": {},
   "outputs": [
    {
     "name": "stdout",
     "output_type": "stream",
     "text": [
      "[[[-1.          0.51296616  0.9129319   0.9389267   0.9556627\n",
      "    1.          0.16930556]]]\n",
      "[[[ 0.51296616  0.9129319   0.9389267   0.9556627   1.\n",
      "    0.16930556 -0.3111454 ]]]\n",
      "[[[ 0.9129319   0.9389267   0.9556627   1.          0.16930556\n",
      "   -0.3111454   0.40154457]]]\n",
      "[[[ 0.9389267   0.9556627   1.          0.16930556 -0.3111454\n",
      "    0.40154457  0.7936715 ]]]\n",
      "[[[ 0.9556627   1.          0.16930556 -0.3111454   0.40154457\n",
      "    0.7936715   0.8408266 ]]]\n",
      "[[[ 1.          0.16930556 -0.3111454   0.40154457  0.7936715\n",
      "    0.8408266   0.88109803]]]\n",
      "[[[ 0.16930556 -0.3111454   0.40154457  0.7936715   0.8408266\n",
      "    0.88109803  0.8403952 ]]]\n"
     ]
    }
   ],
   "source": [
    "results=[]\n",
    "for i in range(7):\n",
    "    parcial=model.predict(x_test)\n",
    "    results.append(parcial[0])\n",
    "    print(x_test)\n",
    "    x_test=agregarNuevoValor(x_test,parcial[0])"
   ]
  },
  {
   "cell_type": "markdown",
   "metadata": {},
   "source": [
    "# Re-Convertimos los resultados"
   ]
  },
  {
   "cell_type": "code",
   "execution_count": 33,
   "metadata": {
    "scrolled": false
   },
   "outputs": [
    {
     "name": "stdout",
     "output_type": "stream",
     "text": [
      "[array([-0.3111454], dtype=float32), array([0.40154457], dtype=float32), array([0.7936715], dtype=float32), array([0.8408266], dtype=float32), array([0.88109803], dtype=float32), array([0.8403952], dtype=float32), array([0.44372493], dtype=float32)]\n"
     ]
    },
    {
     "data": {
      "text/plain": [
       "array([[3098090],\n",
       "       [3788802],\n",
       "       [4168837],\n",
       "       [4214538],\n",
       "       [4253568],\n",
       "       [4214120],\n",
       "       [3829682]])"
      ]
     },
     "execution_count": 33,
     "metadata": {},
     "output_type": "execute_result"
    }
   ],
   "source": [
    "adimen = [x for x in results]    \n",
    "print(adimen)\n",
    "inverted = scaler.inverse_transform(adimen)\n",
    "\n",
    "#en nuestro problema no tienen sentido los decimales pues no se pueden hacer 0.5 viajes o 0.25 viajes\n",
    "inverted = inverted.round()\n",
    "inverted = inverted.astype(int)\n",
    "inverted"
   ]
  },
  {
   "cell_type": "markdown",
   "metadata": {},
   "source": [
    "# Visualizamos el pronostico"
   ]
  },
  {
   "cell_type": "code",
   "execution_count": 34,
   "metadata": {
    "scrolled": true
   },
   "outputs": [
    {
     "data": {
      "text/plain": [
       "<AxesSubplot:>"
      ]
     },
     "execution_count": 34,
     "metadata": {},
     "output_type": "execute_result"
    },
    {
     "data": {
      "image/png": "[encoded data removed]",
      "text/plain": [
       "<Figure size 432x288 with 1 Axes>"
      ]
     },
     "metadata": {
      "needs_background": "light"
     },
     "output_type": "display_data"
    }
   ],
   "source": [
    "e_date = datetime.datetime.strptime('2020-05-31', '%Y-%m-%d')\n",
    "i_date = datetime.datetime.strptime('2020-05-25', '%Y-%m-%d')\n",
    "delta = e_date - i_date\n",
    "\n",
    "index_days = []\n",
    "for i in range(delta.days + 1):\n",
    "    day = i_date + timedelta(days=i)\n",
    "    index_days.append(day)\n",
    "\n",
    "prediccion = pd.DataFrame(inverted, index= index_days)\n",
    "prediccion.columns = ['pronostico']\n",
    "prediccion.plot()"
   ]
  },
  {
   "cell_type": "code",
   "execution_count": 35,
   "metadata": {},
   "outputs": [
    {
     "data": {
      "text/html": [
       "<div>\n",
       "<style scoped>\n",
       "    .dataframe tbody tr th:only-of-type {\n",
       "        vertical-align: middle;\n",
       "    }\n",
       "\n",
       "    .dataframe tbody tr th {\n",
       "        vertical-align: top;\n",
       "    }\n",
       "\n",
       "    .dataframe thead th {\n",
       "        text-align: right;\n",
       "    }\n",
       "</style>\n",
       "<table border=\"1\" class=\"dataframe\">\n",
       "  <thead>\n",
       "    <tr style=\"text-align: right;\">\n",
       "      <th></th>\n",
       "      <th>real</th>\n",
       "      <th>prediccion</th>\n",
       "    </tr>\n",
       "  </thead>\n",
       "  <tbody>\n",
       "    <tr>\n",
       "      <th>2020-05-25</th>\n",
       "      <td>4382232</td>\n",
       "      <td>3098090</td>\n",
       "    </tr>\n",
       "    <tr>\n",
       "      <th>2020-05-26</th>\n",
       "      <td>4709433</td>\n",
       "      <td>3788802</td>\n",
       "    </tr>\n",
       "    <tr>\n",
       "      <th>2020-05-27</th>\n",
       "      <td>4837770</td>\n",
       "      <td>4168837</td>\n",
       "    </tr>\n",
       "    <tr>\n",
       "      <th>2020-05-28</th>\n",
       "      <td>4898946</td>\n",
       "      <td>4214538</td>\n",
       "    </tr>\n",
       "    <tr>\n",
       "      <th>2020-05-29</th>\n",
       "      <td>4909824</td>\n",
       "      <td>4253568</td>\n",
       "    </tr>\n",
       "    <tr>\n",
       "      <th>2020-05-30</th>\n",
       "      <td>4202334</td>\n",
       "      <td>4214120</td>\n",
       "    </tr>\n",
       "    <tr>\n",
       "      <th>2020-05-31</th>\n",
       "      <td>3305717</td>\n",
       "      <td>3829682</td>\n",
       "    </tr>\n",
       "  </tbody>\n",
       "</table>\n",
       "</div>"
      ],
      "text/plain": [
       "               real  prediccion\n",
       "2020-05-25  4382232     3098090\n",
       "2020-05-26  4709433     3788802\n",
       "2020-05-27  4837770     4168837\n",
       "2020-05-28  4898946     4214538\n",
       "2020-05-29  4909824     4253568\n",
       "2020-05-30  4202334     4214120\n",
       "2020-05-31  3305717     3829682"
      ]
     },
     "execution_count": 35,
     "metadata": {},
     "output_type": "execute_result"
    }
   ],
   "source": [
    "datosReales = df['2020-5-25':'2020-5-31']\n",
    "\n",
    "compara = pd.concat([datosReales, prediccion], axis=1)\n",
    "compara.columns = ['real', 'prediccion']\n",
    "compara"
   ]
  },
  {
   "cell_type": "code",
   "execution_count": 36,
   "metadata": {},
   "outputs": [
    {
     "data": {
      "text/plain": [
       "<AxesSubplot:>"
      ]
     },
     "execution_count": 36,
     "metadata": {},
     "output_type": "execute_result"
    },
    {
     "data": {
      "image/png": "[encoded data removed]",
      "text/plain": [
       "<Figure size 432x288 with 1 Axes>"
      ]
     },
     "metadata": {
      "needs_background": "light"
     },
     "output_type": "display_data"
    }
   ],
   "source": [
    "compara['real'].plot()\n",
    "compara['prediccion'].plot()"
   ]
  },
  {
   "cell_type": "code",
   "execution_count": 37,
   "metadata": {
    "scrolled": false
   },
   "outputs": [
    {
     "data": {
      "text/plain": [
       "678588.7142857143"
      ]
     },
     "execution_count": 37,
     "metadata": {},
     "output_type": "execute_result"
    }
   ],
   "source": [
    "from sklearn.metrics import mean_absolute_error\n",
    "\n",
    "mean_absolute_error(prediccion, datosReales)"
   ]
  },
  {
   "cell_type": "code",
   "execution_count": 38,
   "metadata": {
    "scrolled": false
   },
   "outputs": [
    {
     "data": {
      "text/plain": [
       "588259707405.0"
      ]
     },
     "execution_count": 38,
     "metadata": {},
     "output_type": "execute_result"
    }
   ],
   "source": [
    "from sklearn.metrics import mean_squared_error\n",
    "\n",
    "mean_squared_error(prediccion, datosReales)"
   ]
  },
  {
   "cell_type": "code",
   "execution_count": null,
   "metadata": {},
   "outputs": [],
   "source": []
  }
 ],
 "metadata": {
  "kernelspec": {
   "display_name": "Python 3",
   "language": "python",
   "name": "python3"
  },
  "language_info": {
   "codemirror_mode": {
    "name": "ipython",
    "version": 3
   },
   "file_extension": ".py",
   "mimetype": "text/x-python",
   "name": "python",
   "nbconvert_exporter": "python",
   "pygments_lexer": "ipython3",
   "version": "3.8.5"
  }
 },
 "nbformat": 4,
 "nbformat_minor": 4
}
