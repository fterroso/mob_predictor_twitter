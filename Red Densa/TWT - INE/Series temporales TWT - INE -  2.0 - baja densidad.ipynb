{
 "cells": [
  {
   "cell_type": "code",
   "execution_count": 1,
   "metadata": {},
   "outputs": [],
   "source": [
    "import pandas as pd\n",
    "import numpy as np\n",
    "from tqdm import tqdm_notebook\n",
    "import os\n",
    "from sklearn.metrics import mean_squared_error, mean_absolute_error\n",
    "from sklearn.preprocessing import MinMaxScaler\n",
    "from keras.models import Sequential\n",
    "from keras.layers import Dense,Activation,Flatten,Dropout\n",
    "\n",
    "import matplotlib.pyplot as plt\n",
    "%matplotlib inline\n",
    "\n",
    "import warnings\n",
    "warnings.filterwarnings(\"ignore\")\n",
    "\n",
    "import datetime\n",
    "from datetime import date, timedelta\n",
    "e_date = datetime.datetime.strptime('2020-06-20', '%Y-%m-%d')\n",
    "i_date = datetime.datetime.strptime('2020-04-01', '%Y-%m-%d')\n",
    "\n",
    "data_path = 'D:/universidad/universidad 4/TFG/recursos para el desarrollo/datos procesados/OD'"
   ]
  },
  {
   "cell_type": "code",
   "execution_count": 2,
   "metadata": {},
   "outputs": [],
   "source": [
    "delta = e_date - i_date\n",
    "\n",
    "target_days = []\n",
    "for i in range(delta.days + 1):\n",
    "    day = i_date + timedelta(days=i)\n",
    "    target_days.append(day)"
   ]
  },
  {
   "cell_type": "code",
   "execution_count": 3,
   "metadata": {},
   "outputs": [],
   "source": [
    "def read_OD_fn(source_type):\n",
    "    ods = {}\n",
    "    for date in tqdm_notebook(target_days):\n",
    "        od_date= pd.read_csv(os.path.join(data_path, 'date_{}_OD_{}.csv'.format(source_type,date.strftime('%Y-%m-%d'))), \n",
    "                            index_col=0)\n",
    "        ods[date] = od_date\n",
    "    return ods"
   ]
  },
  {
   "cell_type": "code",
   "execution_count": 4,
   "metadata": {},
   "outputs": [
    {
     "data": {
      "application/vnd.jupyter.widget-view+json": {
       "model_id": "e7bd417985224c5c9a2d419622aa5f3a",
       "version_major": 2,
       "version_minor": 0
      },
      "text/plain": [
       "  0%|          | 0/81 [00:00<?, ?it/s]"
      ]
     },
     "metadata": {},
     "output_type": "display_data"
    }
   ],
   "source": [
    "ine_ods = read_OD_fn('INE')"
   ]
  },
  {
   "cell_type": "code",
   "execution_count": 5,
   "metadata": {
    "scrolled": true
   },
   "outputs": [
    {
     "data": {
      "application/vnd.jupyter.widget-view+json": {
       "model_id": "c310bc218c34497aa99c6654467cede4",
       "version_major": 2,
       "version_minor": 0
      },
      "text/plain": [
       "  0%|          | 0/81 [00:00<?, ?it/s]"
      ]
     },
     "metadata": {},
     "output_type": "display_data"
    }
   ],
   "source": [
    "twt_ods = read_OD_fn('TWT')"
   ]
  },
  {
   "cell_type": "markdown",
   "metadata": {},
   "source": [
    "# Serializar los datos"
   ]
  },
  {
   "cell_type": "code",
   "execution_count": 6,
   "metadata": {
    "scrolled": true
   },
   "outputs": [
    {
     "data": {
      "application/vnd.jupyter.widget-view+json": {
       "model_id": "609fa70a7ab84707bab4f8f6475dc0fe",
       "version_major": 2,
       "version_minor": 0
      },
      "text/plain": [
       "  0%|          | 0/81 [00:00<?, ?it/s]"
      ]
     },
     "metadata": {},
     "output_type": "display_data"
    },
    {
     "data": {
      "application/vnd.jupyter.widget-view+json": {
       "model_id": "3a3fb183183f41b889953e4ec5b304b5",
       "version_major": 2,
       "version_minor": 0
      },
      "text/plain": [
       "  0%|          | 0/81 [00:00<?, ?it/s]"
      ]
     },
     "metadata": {},
     "output_type": "display_data"
    }
   ],
   "source": [
    "lista_twt1 = []\n",
    "lista_twt2 = []\n",
    "lista_twt3 = []\n",
    "lista_twt4 = []\n",
    "lista_twt5 = []\n",
    "\n",
    "for date in tqdm_notebook(target_days):\n",
    "    lista_twt1.append(twt_ods[date].loc['11CA','total'])\n",
    "    lista_twt2.append(twt_ods[date].loc['33PO','total'])\n",
    "    lista_twt3.append(twt_ods[date].loc['026V','total'])\n",
    "    lista_twt4.append(twt_ods[date].loc['21BU','total'])\n",
    "    lista_twt5.append(twt_ods[date].loc['49GI','total'])\n",
    "    \n",
    "    \n",
    "lista_ine1 = []\n",
    "lista_ine2 = []\n",
    "lista_ine3 = []\n",
    "lista_ine4 = []\n",
    "lista_ine5 = []\n",
    "\n",
    "for date in tqdm_notebook(target_days):\n",
    "    lista_ine1.append(ine_ods[date].loc['11CA','total'])\n",
    "    lista_ine2.append(ine_ods[date].loc['33PO','total'])\n",
    "    lista_ine3.append(ine_ods[date].loc['026V','total'])\n",
    "    lista_ine4.append(ine_ods[date].loc['21BU','total'])\n",
    "    lista_ine5.append(ine_ods[date].loc['49GI','total'])\n",
    "    "
   ]
  },
  {
   "cell_type": "code",
   "execution_count": 7,
   "metadata": {
    "scrolled": true
   },
   "outputs": [],
   "source": [
    "df_twt1 = pd.DataFrame (lista_twt1, columns = ['Viajes'], index= target_days)\n",
    "df_ine1 = pd.DataFrame (lista_ine1, columns = ['Viajes'], index= target_days)\n",
    "\n",
    "df_twt2 = pd.DataFrame (lista_twt2, columns = ['Viajes'], index= target_days)\n",
    "df_ine2 = pd.DataFrame (lista_ine2, columns = ['Viajes'], index= target_days)\n",
    "\n",
    "df_twt3 = pd.DataFrame (lista_twt3, columns = ['Viajes'], index= target_days)\n",
    "df_ine3 = pd.DataFrame (lista_ine3, columns = ['Viajes'], index= target_days)\n",
    "\n",
    "df_twt4 = pd.DataFrame (lista_twt4, columns = ['Viajes'], index= target_days)\n",
    "df_ine4 = pd.DataFrame (lista_ine4, columns = ['Viajes'], index= target_days)\n",
    "\n",
    "df_twt5 = pd.DataFrame (lista_twt5, columns = ['Viajes'], index= target_days)\n",
    "df_ine5 = pd.DataFrame (lista_ine5, columns = ['Viajes'], index= target_days)"
   ]
  },
  {
   "cell_type": "code",
   "execution_count": 8,
   "metadata": {},
   "outputs": [],
   "source": [
    "lista_twt = []\n",
    "lista_ine = []\n",
    "\n",
    "df_twt = df_twt1 + df_twt2 + df_twt3 + df_twt4 + df_twt5\n",
    "df_ine = df_ine1 + df_ine2 + df_ine3 + df_ine4 + df_ine5"
   ]
  },
  {
   "cell_type": "code",
   "execution_count": 9,
   "metadata": {},
   "outputs": [
    {
     "data": {
      "text/html": [
       "<div>\n",
       "<style scoped>\n",
       "    .dataframe tbody tr th:only-of-type {\n",
       "        vertical-align: middle;\n",
       "    }\n",
       "\n",
       "    .dataframe tbody tr th {\n",
       "        vertical-align: top;\n",
       "    }\n",
       "\n",
       "    .dataframe thead th {\n",
       "        text-align: right;\n",
       "    }\n",
       "</style>\n",
       "<table border=\"1\" class=\"dataframe\">\n",
       "  <thead>\n",
       "    <tr style=\"text-align: right;\">\n",
       "      <th></th>\n",
       "      <th>Viajes</th>\n",
       "    </tr>\n",
       "  </thead>\n",
       "  <tbody>\n",
       "    <tr>\n",
       "      <th>2020-04-01</th>\n",
       "      <td>0</td>\n",
       "    </tr>\n",
       "    <tr>\n",
       "      <th>2020-04-02</th>\n",
       "      <td>2</td>\n",
       "    </tr>\n",
       "    <tr>\n",
       "      <th>2020-04-03</th>\n",
       "      <td>0</td>\n",
       "    </tr>\n",
       "    <tr>\n",
       "      <th>2020-04-04</th>\n",
       "      <td>0</td>\n",
       "    </tr>\n",
       "    <tr>\n",
       "      <th>2020-04-05</th>\n",
       "      <td>0</td>\n",
       "    </tr>\n",
       "  </tbody>\n",
       "</table>\n",
       "</div>"
      ],
      "text/plain": [
       "            Viajes\n",
       "2020-04-01       0\n",
       "2020-04-02       2\n",
       "2020-04-03       0\n",
       "2020-04-04       0\n",
       "2020-04-05       0"
      ]
     },
     "execution_count": 9,
     "metadata": {},
     "output_type": "execute_result"
    }
   ],
   "source": [
    "df_twt.head()"
   ]
  },
  {
   "cell_type": "code",
   "execution_count": 10,
   "metadata": {},
   "outputs": [
    {
     "data": {
      "text/html": [
       "<div>\n",
       "<style scoped>\n",
       "    .dataframe tbody tr th:only-of-type {\n",
       "        vertical-align: middle;\n",
       "    }\n",
       "\n",
       "    .dataframe tbody tr th {\n",
       "        vertical-align: top;\n",
       "    }\n",
       "\n",
       "    .dataframe thead th {\n",
       "        text-align: right;\n",
       "    }\n",
       "</style>\n",
       "<table border=\"1\" class=\"dataframe\">\n",
       "  <thead>\n",
       "    <tr style=\"text-align: right;\">\n",
       "      <th></th>\n",
       "      <th>Viajes</th>\n",
       "    </tr>\n",
       "  </thead>\n",
       "  <tbody>\n",
       "    <tr>\n",
       "      <th>2020-04-01</th>\n",
       "      <td>194</td>\n",
       "    </tr>\n",
       "    <tr>\n",
       "      <th>2020-04-02</th>\n",
       "      <td>183</td>\n",
       "    </tr>\n",
       "    <tr>\n",
       "      <th>2020-04-03</th>\n",
       "      <td>317</td>\n",
       "    </tr>\n",
       "    <tr>\n",
       "      <th>2020-04-04</th>\n",
       "      <td>177</td>\n",
       "    </tr>\n",
       "    <tr>\n",
       "      <th>2020-04-05</th>\n",
       "      <td>142</td>\n",
       "    </tr>\n",
       "  </tbody>\n",
       "</table>\n",
       "</div>"
      ],
      "text/plain": [
       "            Viajes\n",
       "2020-04-01     194\n",
       "2020-04-02     183\n",
       "2020-04-03     317\n",
       "2020-04-04     177\n",
       "2020-04-05     142"
      ]
     },
     "execution_count": 10,
     "metadata": {},
     "output_type": "execute_result"
    }
   ],
   "source": [
    "df_ine.head()"
   ]
  },
  {
   "cell_type": "code",
   "execution_count": 11,
   "metadata": {},
   "outputs": [],
   "source": [
    "del twt_ods\n",
    "del ine_ods"
   ]
  },
  {
   "cell_type": "markdown",
   "metadata": {},
   "source": [
    "# Visualización de datos"
   ]
  },
  {
   "cell_type": "code",
   "execution_count": 12,
   "metadata": {},
   "outputs": [
    {
     "name": "stdout",
     "output_type": "stream",
     "text": [
      "2020-04-01 00:00:00\n",
      "2020-06-20 00:00:00\n"
     ]
    }
   ],
   "source": [
    "print(df_twt.index.min())\n",
    "print(df_ine.index.max())"
   ]
  },
  {
   "cell_type": "code",
   "execution_count": 13,
   "metadata": {
    "scrolled": true
   },
   "outputs": [
    {
     "name": "stdout",
     "output_type": "stream",
     "text": [
      "81\n"
     ]
    }
   ],
   "source": [
    "print(len(df_twt['2020']))"
   ]
  },
  {
   "cell_type": "code",
   "execution_count": 14,
   "metadata": {},
   "outputs": [
    {
     "name": "stdout",
     "output_type": "stream",
     "text": [
      "81\n"
     ]
    }
   ],
   "source": [
    "print(len(df_ine['2020']))"
   ]
  },
  {
   "cell_type": "code",
   "execution_count": 15,
   "metadata": {
    "scrolled": true
   },
   "outputs": [
    {
     "data": {
      "text/html": [
       "<div>\n",
       "<style scoped>\n",
       "    .dataframe tbody tr th:only-of-type {\n",
       "        vertical-align: middle;\n",
       "    }\n",
       "\n",
       "    .dataframe tbody tr th {\n",
       "        vertical-align: top;\n",
       "    }\n",
       "\n",
       "    .dataframe thead th {\n",
       "        text-align: right;\n",
       "    }\n",
       "</style>\n",
       "<table border=\"1\" class=\"dataframe\">\n",
       "  <thead>\n",
       "    <tr style=\"text-align: right;\">\n",
       "      <th></th>\n",
       "      <th>Viajes</th>\n",
       "    </tr>\n",
       "  </thead>\n",
       "  <tbody>\n",
       "    <tr>\n",
       "      <th>count</th>\n",
       "      <td>81.000000</td>\n",
       "    </tr>\n",
       "    <tr>\n",
       "      <th>mean</th>\n",
       "      <td>0.407407</td>\n",
       "    </tr>\n",
       "    <tr>\n",
       "      <th>std</th>\n",
       "      <td>0.862812</td>\n",
       "    </tr>\n",
       "    <tr>\n",
       "      <th>min</th>\n",
       "      <td>0.000000</td>\n",
       "    </tr>\n",
       "    <tr>\n",
       "      <th>25%</th>\n",
       "      <td>0.000000</td>\n",
       "    </tr>\n",
       "    <tr>\n",
       "      <th>50%</th>\n",
       "      <td>0.000000</td>\n",
       "    </tr>\n",
       "    <tr>\n",
       "      <th>75%</th>\n",
       "      <td>0.000000</td>\n",
       "    </tr>\n",
       "    <tr>\n",
       "      <th>max</th>\n",
       "      <td>4.000000</td>\n",
       "    </tr>\n",
       "  </tbody>\n",
       "</table>\n",
       "</div>"
      ],
      "text/plain": [
       "          Viajes\n",
       "count  81.000000\n",
       "mean    0.407407\n",
       "std     0.862812\n",
       "min     0.000000\n",
       "25%     0.000000\n",
       "50%     0.000000\n",
       "75%     0.000000\n",
       "max     4.000000"
      ]
     },
     "execution_count": 15,
     "metadata": {},
     "output_type": "execute_result"
    }
   ],
   "source": [
    "df_twt.describe()"
   ]
  },
  {
   "cell_type": "code",
   "execution_count": 16,
   "metadata": {},
   "outputs": [
    {
     "data": {
      "text/html": [
       "<div>\n",
       "<style scoped>\n",
       "    .dataframe tbody tr th:only-of-type {\n",
       "        vertical-align: middle;\n",
       "    }\n",
       "\n",
       "    .dataframe tbody tr th {\n",
       "        vertical-align: top;\n",
       "    }\n",
       "\n",
       "    .dataframe thead th {\n",
       "        text-align: right;\n",
       "    }\n",
       "</style>\n",
       "<table border=\"1\" class=\"dataframe\">\n",
       "  <thead>\n",
       "    <tr style=\"text-align: right;\">\n",
       "      <th></th>\n",
       "      <th>Viajes</th>\n",
       "    </tr>\n",
       "  </thead>\n",
       "  <tbody>\n",
       "    <tr>\n",
       "      <th>count</th>\n",
       "      <td>81.000000</td>\n",
       "    </tr>\n",
       "    <tr>\n",
       "      <th>mean</th>\n",
       "      <td>366.592593</td>\n",
       "    </tr>\n",
       "    <tr>\n",
       "      <th>std</th>\n",
       "      <td>108.663446</td>\n",
       "    </tr>\n",
       "    <tr>\n",
       "      <th>min</th>\n",
       "      <td>110.000000</td>\n",
       "    </tr>\n",
       "    <tr>\n",
       "      <th>25%</th>\n",
       "      <td>303.000000</td>\n",
       "    </tr>\n",
       "    <tr>\n",
       "      <th>50%</th>\n",
       "      <td>390.000000</td>\n",
       "    </tr>\n",
       "    <tr>\n",
       "      <th>75%</th>\n",
       "      <td>433.000000</td>\n",
       "    </tr>\n",
       "    <tr>\n",
       "      <th>max</th>\n",
       "      <td>614.000000</td>\n",
       "    </tr>\n",
       "  </tbody>\n",
       "</table>\n",
       "</div>"
      ],
      "text/plain": [
       "           Viajes\n",
       "count   81.000000\n",
       "mean   366.592593\n",
       "std    108.663446\n",
       "min    110.000000\n",
       "25%    303.000000\n",
       "50%    390.000000\n",
       "75%    433.000000\n",
       "max    614.000000"
      ]
     },
     "execution_count": 16,
     "metadata": {},
     "output_type": "execute_result"
    }
   ],
   "source": [
    "df_ine.describe()"
   ]
  },
  {
   "cell_type": "code",
   "execution_count": 17,
   "metadata": {
    "scrolled": true
   },
   "outputs": [
    {
     "data": {
      "text/html": [
       "<div>\n",
       "<style scoped>\n",
       "    .dataframe tbody tr th:only-of-type {\n",
       "        vertical-align: middle;\n",
       "    }\n",
       "\n",
       "    .dataframe tbody tr th {\n",
       "        vertical-align: top;\n",
       "    }\n",
       "\n",
       "    .dataframe thead th {\n",
       "        text-align: right;\n",
       "    }\n",
       "</style>\n",
       "<table border=\"1\" class=\"dataframe\">\n",
       "  <thead>\n",
       "    <tr style=\"text-align: right;\">\n",
       "      <th></th>\n",
       "      <th>Viajes</th>\n",
       "    </tr>\n",
       "  </thead>\n",
       "  <tbody>\n",
       "    <tr>\n",
       "      <th>2020-04-30</th>\n",
       "      <td>0.366667</td>\n",
       "    </tr>\n",
       "    <tr>\n",
       "      <th>2020-05-31</th>\n",
       "      <td>0.387097</td>\n",
       "    </tr>\n",
       "    <tr>\n",
       "      <th>2020-06-30</th>\n",
       "      <td>0.500000</td>\n",
       "    </tr>\n",
       "  </tbody>\n",
       "</table>\n",
       "</div>"
      ],
      "text/plain": [
       "              Viajes\n",
       "2020-04-30  0.366667\n",
       "2020-05-31  0.387097\n",
       "2020-06-30  0.500000"
      ]
     },
     "execution_count": 17,
     "metadata": {},
     "output_type": "execute_result"
    }
   ],
   "source": [
    "meses = df_twt.resample('M').mean()\n",
    "meses"
   ]
  },
  {
   "cell_type": "code",
   "execution_count": 18,
   "metadata": {},
   "outputs": [
    {
     "data": {
      "text/html": [
       "<div>\n",
       "<style scoped>\n",
       "    .dataframe tbody tr th:only-of-type {\n",
       "        vertical-align: middle;\n",
       "    }\n",
       "\n",
       "    .dataframe tbody tr th {\n",
       "        vertical-align: top;\n",
       "    }\n",
       "\n",
       "    .dataframe thead th {\n",
       "        text-align: right;\n",
       "    }\n",
       "</style>\n",
       "<table border=\"1\" class=\"dataframe\">\n",
       "  <thead>\n",
       "    <tr style=\"text-align: right;\">\n",
       "      <th></th>\n",
       "      <th>Viajes</th>\n",
       "    </tr>\n",
       "  </thead>\n",
       "  <tbody>\n",
       "    <tr>\n",
       "      <th>2020-04-30</th>\n",
       "      <td>276.233333</td>\n",
       "    </tr>\n",
       "    <tr>\n",
       "      <th>2020-05-31</th>\n",
       "      <td>402.096774</td>\n",
       "    </tr>\n",
       "    <tr>\n",
       "      <th>2020-06-30</th>\n",
       "      <td>447.100000</td>\n",
       "    </tr>\n",
       "  </tbody>\n",
       "</table>\n",
       "</div>"
      ],
      "text/plain": [
       "                Viajes\n",
       "2020-04-30  276.233333\n",
       "2020-05-31  402.096774\n",
       "2020-06-30  447.100000"
      ]
     },
     "execution_count": 18,
     "metadata": {},
     "output_type": "execute_result"
    }
   ],
   "source": [
    "meses = df_ine.resample('M').mean()\n",
    "meses"
   ]
  },
  {
   "cell_type": "code",
   "execution_count": 19,
   "metadata": {
    "scrolled": true
   },
   "outputs": [
    {
     "data": {
      "text/plain": [
       "[<matplotlib.lines.Line2D at 0x1ab7d7e8820>]"
      ]
     },
     "execution_count": 19,
     "metadata": {},
     "output_type": "execute_result"
    },
    {
     "data": {
      "image/png": "[encoded data removed]",
      "text/plain": [
       "<Figure size 432x288 with 1 Axes>"
      ]
     },
     "metadata": {
      "needs_background": "light"
     },
     "output_type": "display_data"
    }
   ],
   "source": [
    "abril = df_twt['2020-04-01':'2020-04-30']\n",
    "plt.plot(abril.values)\n",
    "mayo = df_twt['2020-05-01':'2020-05-31']\n",
    "plt.plot(mayo.values)\n",
    "junio = df_twt['2020-06-01':'2020-06-20']\n",
    "plt.plot(junio.values)"
   ]
  },
  {
   "cell_type": "code",
   "execution_count": 20,
   "metadata": {},
   "outputs": [
    {
     "data": {
      "text/plain": [
       "[<matplotlib.lines.Line2D at 0x1ab7d7d7910>]"
      ]
     },
     "execution_count": 20,
     "metadata": {},
     "output_type": "execute_result"
    },
    {
     "data": {
      "image/png": "[encoded data removed]",
      "text/plain": [
       "<Figure size 432x288 with 1 Axes>"
      ]
     },
     "metadata": {
      "needs_background": "light"
     },
     "output_type": "display_data"
    }
   ],
   "source": [
    "abril = df_ine['2020-04-01':'2020-04-30']\n",
    "plt.plot(abril.values)\n",
    "mayo = df_ine['2020-05-01':'2020-05-31']\n",
    "plt.plot(mayo.values)\n",
    "junio = df_ine['2020-06-01':'2020-06-20']\n",
    "plt.plot(junio.values)"
   ]
  },
  {
   "cell_type": "markdown",
   "metadata": {},
   "source": [
    "# Preprocesado de datos"
   ]
  },
  {
   "cell_type": "code",
   "execution_count": 21,
   "metadata": {},
   "outputs": [
    {
     "data": {
      "text/html": [
       "<div>\n",
       "<style scoped>\n",
       "    .dataframe tbody tr th:only-of-type {\n",
       "        vertical-align: middle;\n",
       "    }\n",
       "\n",
       "    .dataframe tbody tr th {\n",
       "        vertical-align: top;\n",
       "    }\n",
       "\n",
       "    .dataframe thead th {\n",
       "        text-align: right;\n",
       "    }\n",
       "</style>\n",
       "<table border=\"1\" class=\"dataframe\">\n",
       "  <thead>\n",
       "    <tr style=\"text-align: right;\">\n",
       "      <th></th>\n",
       "      <th>var1(t-7)</th>\n",
       "      <th>var1(t-6)</th>\n",
       "      <th>var1(t-5)</th>\n",
       "      <th>var1(t-4)</th>\n",
       "      <th>var1(t-3)</th>\n",
       "      <th>var1(t-2)</th>\n",
       "      <th>var1(t-1)</th>\n",
       "      <th>var1(t)</th>\n",
       "    </tr>\n",
       "  </thead>\n",
       "  <tbody>\n",
       "    <tr>\n",
       "      <th>76</th>\n",
       "      <td>0.0</td>\n",
       "      <td>-1.0</td>\n",
       "      <td>-1.0</td>\n",
       "      <td>0.0</td>\n",
       "      <td>-1.0</td>\n",
       "      <td>-1.0</td>\n",
       "      <td>-1.0</td>\n",
       "      <td>-1.0</td>\n",
       "    </tr>\n",
       "    <tr>\n",
       "      <th>77</th>\n",
       "      <td>-1.0</td>\n",
       "      <td>-1.0</td>\n",
       "      <td>0.0</td>\n",
       "      <td>-1.0</td>\n",
       "      <td>-1.0</td>\n",
       "      <td>-1.0</td>\n",
       "      <td>-1.0</td>\n",
       "      <td>0.5</td>\n",
       "    </tr>\n",
       "    <tr>\n",
       "      <th>78</th>\n",
       "      <td>-1.0</td>\n",
       "      <td>0.0</td>\n",
       "      <td>-1.0</td>\n",
       "      <td>-1.0</td>\n",
       "      <td>-1.0</td>\n",
       "      <td>-1.0</td>\n",
       "      <td>0.5</td>\n",
       "      <td>-0.5</td>\n",
       "    </tr>\n",
       "    <tr>\n",
       "      <th>79</th>\n",
       "      <td>0.0</td>\n",
       "      <td>-1.0</td>\n",
       "      <td>-1.0</td>\n",
       "      <td>-1.0</td>\n",
       "      <td>-1.0</td>\n",
       "      <td>0.5</td>\n",
       "      <td>-0.5</td>\n",
       "      <td>-1.0</td>\n",
       "    </tr>\n",
       "    <tr>\n",
       "      <th>80</th>\n",
       "      <td>-1.0</td>\n",
       "      <td>-1.0</td>\n",
       "      <td>-1.0</td>\n",
       "      <td>-1.0</td>\n",
       "      <td>0.5</td>\n",
       "      <td>-0.5</td>\n",
       "      <td>-1.0</td>\n",
       "      <td>-1.0</td>\n",
       "    </tr>\n",
       "  </tbody>\n",
       "</table>\n",
       "</div>"
      ],
      "text/plain": [
       "    var1(t-7)  var1(t-6)  var1(t-5)  var1(t-4)  var1(t-3)  var1(t-2)  \\\n",
       "76        0.0       -1.0       -1.0        0.0       -1.0       -1.0   \n",
       "77       -1.0       -1.0        0.0       -1.0       -1.0       -1.0   \n",
       "78       -1.0        0.0       -1.0       -1.0       -1.0       -1.0   \n",
       "79        0.0       -1.0       -1.0       -1.0       -1.0        0.5   \n",
       "80       -1.0       -1.0       -1.0       -1.0        0.5       -0.5   \n",
       "\n",
       "    var1(t-1)  var1(t)  \n",
       "76       -1.0     -1.0  \n",
       "77       -1.0      0.5  \n",
       "78        0.5     -0.5  \n",
       "79       -0.5     -1.0  \n",
       "80       -1.0     -1.0  "
      ]
     },
     "execution_count": 21,
     "metadata": {},
     "output_type": "execute_result"
    }
   ],
   "source": [
    "# cantidad de dias previos que se usaran para predecir el siguiente dia \n",
    "look_back=7\n",
    "\n",
    "# convertir series en conocimiento supervisado\n",
    "def series_to_supervised(data, n_in=1, n_out=1, dropnan=True):\n",
    "    n_vars = 1 if type(data) is list else data.shape[1]\n",
    "    df = pd.DataFrame(data)\n",
    "    cols, names = list(), list()\n",
    "    # secuencia de entrada (t-n, ... t-1)\n",
    "    for i in range(n_in, 0, -1):\n",
    "        cols.append(df.shift(i))\n",
    "        names += [('var%d(t-%d)' % (j+1, i)) for j in range(n_vars)]\n",
    "    # secuencia del pronostico (t, t+1, ... t+n)\n",
    "    for i in range(0, n_out):\n",
    "        cols.append(df.shift(-i))\n",
    "        if i == 0:\n",
    "            names += [('var%d(t)' % (j+1)) for j in range(n_vars)]\n",
    "        else:\n",
    "            names += [('var%d(t+%d)' % (j+1, i)) for j in range(n_vars)]\n",
    "    # unimos todo\n",
    "    agg = pd.concat(cols, axis=1)\n",
    "    agg.columns = names\n",
    "    # eliminamos todos los valores nulos\n",
    "    if dropnan:\n",
    "        agg.dropna(inplace=True)\n",
    "    return agg\n",
    " \n",
    "# cargamos el dataframe en la variable values\n",
    "values_twt = df_twt.values\n",
    "values_ine = df_ine.values\n",
    "\n",
    "# convertimos los enteros en floats\n",
    "values_twt = values_twt.astype('float32')\n",
    "values_ine = values_ine.astype('float32')\n",
    "\n",
    "# normalizamos los datos a escala de entre -1 y 1\n",
    "scaler = MinMaxScaler(feature_range=(-1, 1))\n",
    "values_twt=values_twt.reshape(-1, 1) # esto lo hacemos porque tenemos 1 sola dimension\n",
    "values_ine=values_ine.reshape(-1, 1) # esto lo hacemos porque tenemos 1 sola dimension\n",
    "scaled_twt = scaler.fit_transform(values_twt)\n",
    "scaled_ine = scaler.fit_transform(values_ine)\n",
    "\n",
    "# usamos la funcion definida previamente\n",
    "reframed_twt = series_to_supervised(scaled_twt, look_back, 1)\n",
    "reframed_ine = series_to_supervised(scaled_ine, look_back, 1)\n",
    "\n",
    "#imprimimos los nuevos datos\n",
    "reframed_twt.tail()"
   ]
  },
  {
   "cell_type": "code",
   "execution_count": 22,
   "metadata": {
    "scrolled": false
   },
   "outputs": [
    {
     "data": {
      "text/html": [
       "<div>\n",
       "<style scoped>\n",
       "    .dataframe tbody tr th:only-of-type {\n",
       "        vertical-align: middle;\n",
       "    }\n",
       "\n",
       "    .dataframe tbody tr th {\n",
       "        vertical-align: top;\n",
       "    }\n",
       "\n",
       "    .dataframe thead th {\n",
       "        text-align: right;\n",
       "    }\n",
       "</style>\n",
       "<table border=\"1\" class=\"dataframe\">\n",
       "  <thead>\n",
       "    <tr style=\"text-align: right;\">\n",
       "      <th></th>\n",
       "      <th>var2(t-7)</th>\n",
       "      <th>var2(t-6)</th>\n",
       "      <th>var2(t-5)</th>\n",
       "      <th>var2(t-4)</th>\n",
       "      <th>var2(t-3)</th>\n",
       "      <th>var2(t-2)</th>\n",
       "      <th>var2(t-1)</th>\n",
       "      <th>var2(t)</th>\n",
       "    </tr>\n",
       "  </thead>\n",
       "  <tbody>\n",
       "    <tr>\n",
       "      <th>76</th>\n",
       "      <td>0.202381</td>\n",
       "      <td>0.333333</td>\n",
       "      <td>0.384921</td>\n",
       "      <td>0.202381</td>\n",
       "      <td>0.134921</td>\n",
       "      <td>0.075397</td>\n",
       "      <td>1.000000</td>\n",
       "      <td>0.420635</td>\n",
       "    </tr>\n",
       "    <tr>\n",
       "      <th>77</th>\n",
       "      <td>0.333333</td>\n",
       "      <td>0.384921</td>\n",
       "      <td>0.202381</td>\n",
       "      <td>0.134921</td>\n",
       "      <td>0.075397</td>\n",
       "      <td>1.000000</td>\n",
       "      <td>0.420635</td>\n",
       "      <td>0.361111</td>\n",
       "    </tr>\n",
       "    <tr>\n",
       "      <th>78</th>\n",
       "      <td>0.384921</td>\n",
       "      <td>0.202381</td>\n",
       "      <td>0.134921</td>\n",
       "      <td>0.075397</td>\n",
       "      <td>1.000000</td>\n",
       "      <td>0.420635</td>\n",
       "      <td>0.361111</td>\n",
       "      <td>0.345238</td>\n",
       "    </tr>\n",
       "    <tr>\n",
       "      <th>79</th>\n",
       "      <td>0.202381</td>\n",
       "      <td>0.134921</td>\n",
       "      <td>0.075397</td>\n",
       "      <td>1.000000</td>\n",
       "      <td>0.420635</td>\n",
       "      <td>0.361111</td>\n",
       "      <td>0.345238</td>\n",
       "      <td>0.710318</td>\n",
       "    </tr>\n",
       "    <tr>\n",
       "      <th>80</th>\n",
       "      <td>0.134921</td>\n",
       "      <td>0.075397</td>\n",
       "      <td>1.000000</td>\n",
       "      <td>0.420635</td>\n",
       "      <td>0.361111</td>\n",
       "      <td>0.345238</td>\n",
       "      <td>0.710318</td>\n",
       "      <td>0.111111</td>\n",
       "    </tr>\n",
       "  </tbody>\n",
       "</table>\n",
       "</div>"
      ],
      "text/plain": [
       "    var2(t-7)  var2(t-6)  var2(t-5)  var2(t-4)  var2(t-3)  var2(t-2)  \\\n",
       "76   0.202381   0.333333   0.384921   0.202381   0.134921   0.075397   \n",
       "77   0.333333   0.384921   0.202381   0.134921   0.075397   1.000000   \n",
       "78   0.384921   0.202381   0.134921   0.075397   1.000000   0.420635   \n",
       "79   0.202381   0.134921   0.075397   1.000000   0.420635   0.361111   \n",
       "80   0.134921   0.075397   1.000000   0.420635   0.361111   0.345238   \n",
       "\n",
       "    var2(t-1)   var2(t)  \n",
       "76   1.000000  0.420635  \n",
       "77   0.420635  0.361111  \n",
       "78   0.361111  0.345238  \n",
       "79   0.345238  0.710318  \n",
       "80   0.710318  0.111111  "
      ]
     },
     "execution_count": 22,
     "metadata": {},
     "output_type": "execute_result"
    }
   ],
   "source": [
    "#cambiamos el nombre de las columnas\n",
    "reframed_ine.columns = ['var2(t-7)', 'var2(t-6)', 'var2(t-5)', 'var2(t-4)', 'var2(t-3)', 'var2(t-2)', 'var2(t-1)', 'var2(t)']\n",
    "reframed_ine.tail()"
   ]
  },
  {
   "cell_type": "code",
   "execution_count": 23,
   "metadata": {
    "scrolled": false
   },
   "outputs": [
    {
     "data": {
      "text/html": [
       "<div>\n",
       "<style scoped>\n",
       "    .dataframe tbody tr th:only-of-type {\n",
       "        vertical-align: middle;\n",
       "    }\n",
       "\n",
       "    .dataframe tbody tr th {\n",
       "        vertical-align: top;\n",
       "    }\n",
       "\n",
       "    .dataframe thead th {\n",
       "        text-align: right;\n",
       "    }\n",
       "</style>\n",
       "<table border=\"1\" class=\"dataframe\">\n",
       "  <thead>\n",
       "    <tr style=\"text-align: right;\">\n",
       "      <th></th>\n",
       "      <th>var1(t-7)</th>\n",
       "      <th>var2(t-7)</th>\n",
       "      <th>var1(t-6)</th>\n",
       "      <th>var2(t-6)</th>\n",
       "      <th>var1(t-5)</th>\n",
       "      <th>var2(t-5)</th>\n",
       "      <th>var1(t-4)</th>\n",
       "      <th>var2(t-4)</th>\n",
       "      <th>var1(t-3)</th>\n",
       "      <th>var2(t-3)</th>\n",
       "      <th>var1(t-2)</th>\n",
       "      <th>var2(t-2)</th>\n",
       "      <th>var1(t-1)</th>\n",
       "      <th>var2(t-1)</th>\n",
       "      <th>var2(t)</th>\n",
       "    </tr>\n",
       "  </thead>\n",
       "  <tbody>\n",
       "    <tr>\n",
       "      <th>76</th>\n",
       "      <td>0.0</td>\n",
       "      <td>0.202381</td>\n",
       "      <td>-1.0</td>\n",
       "      <td>0.333333</td>\n",
       "      <td>-1.0</td>\n",
       "      <td>0.384921</td>\n",
       "      <td>0.0</td>\n",
       "      <td>0.202381</td>\n",
       "      <td>-1.0</td>\n",
       "      <td>0.134921</td>\n",
       "      <td>-1.0</td>\n",
       "      <td>0.075397</td>\n",
       "      <td>-1.0</td>\n",
       "      <td>1.000000</td>\n",
       "      <td>0.420635</td>\n",
       "    </tr>\n",
       "    <tr>\n",
       "      <th>77</th>\n",
       "      <td>-1.0</td>\n",
       "      <td>0.333333</td>\n",
       "      <td>-1.0</td>\n",
       "      <td>0.384921</td>\n",
       "      <td>0.0</td>\n",
       "      <td>0.202381</td>\n",
       "      <td>-1.0</td>\n",
       "      <td>0.134921</td>\n",
       "      <td>-1.0</td>\n",
       "      <td>0.075397</td>\n",
       "      <td>-1.0</td>\n",
       "      <td>1.000000</td>\n",
       "      <td>-1.0</td>\n",
       "      <td>0.420635</td>\n",
       "      <td>0.361111</td>\n",
       "    </tr>\n",
       "    <tr>\n",
       "      <th>78</th>\n",
       "      <td>-1.0</td>\n",
       "      <td>0.384921</td>\n",
       "      <td>0.0</td>\n",
       "      <td>0.202381</td>\n",
       "      <td>-1.0</td>\n",
       "      <td>0.134921</td>\n",
       "      <td>-1.0</td>\n",
       "      <td>0.075397</td>\n",
       "      <td>-1.0</td>\n",
       "      <td>1.000000</td>\n",
       "      <td>-1.0</td>\n",
       "      <td>0.420635</td>\n",
       "      <td>0.5</td>\n",
       "      <td>0.361111</td>\n",
       "      <td>0.345238</td>\n",
       "    </tr>\n",
       "    <tr>\n",
       "      <th>79</th>\n",
       "      <td>0.0</td>\n",
       "      <td>0.202381</td>\n",
       "      <td>-1.0</td>\n",
       "      <td>0.134921</td>\n",
       "      <td>-1.0</td>\n",
       "      <td>0.075397</td>\n",
       "      <td>-1.0</td>\n",
       "      <td>1.000000</td>\n",
       "      <td>-1.0</td>\n",
       "      <td>0.420635</td>\n",
       "      <td>0.5</td>\n",
       "      <td>0.361111</td>\n",
       "      <td>-0.5</td>\n",
       "      <td>0.345238</td>\n",
       "      <td>0.710318</td>\n",
       "    </tr>\n",
       "    <tr>\n",
       "      <th>80</th>\n",
       "      <td>-1.0</td>\n",
       "      <td>0.134921</td>\n",
       "      <td>-1.0</td>\n",
       "      <td>0.075397</td>\n",
       "      <td>-1.0</td>\n",
       "      <td>1.000000</td>\n",
       "      <td>-1.0</td>\n",
       "      <td>0.420635</td>\n",
       "      <td>0.5</td>\n",
       "      <td>0.361111</td>\n",
       "      <td>-0.5</td>\n",
       "      <td>0.345238</td>\n",
       "      <td>-1.0</td>\n",
       "      <td>0.710318</td>\n",
       "      <td>0.111111</td>\n",
       "    </tr>\n",
       "  </tbody>\n",
       "</table>\n",
       "</div>"
      ],
      "text/plain": [
       "    var1(t-7)  var2(t-7)  var1(t-6)  var2(t-6)  var1(t-5)  var2(t-5)  \\\n",
       "76        0.0   0.202381       -1.0   0.333333       -1.0   0.384921   \n",
       "77       -1.0   0.333333       -1.0   0.384921        0.0   0.202381   \n",
       "78       -1.0   0.384921        0.0   0.202381       -1.0   0.134921   \n",
       "79        0.0   0.202381       -1.0   0.134921       -1.0   0.075397   \n",
       "80       -1.0   0.134921       -1.0   0.075397       -1.0   1.000000   \n",
       "\n",
       "    var1(t-4)  var2(t-4)  var1(t-3)  var2(t-3)  var1(t-2)  var2(t-2)  \\\n",
       "76        0.0   0.202381       -1.0   0.134921       -1.0   0.075397   \n",
       "77       -1.0   0.134921       -1.0   0.075397       -1.0   1.000000   \n",
       "78       -1.0   0.075397       -1.0   1.000000       -1.0   0.420635   \n",
       "79       -1.0   1.000000       -1.0   0.420635        0.5   0.361111   \n",
       "80       -1.0   0.420635        0.5   0.361111       -0.5   0.345238   \n",
       "\n",
       "    var1(t-1)  var2(t-1)   var2(t)  \n",
       "76       -1.0   1.000000  0.420635  \n",
       "77       -1.0   0.420635  0.361111  \n",
       "78        0.5   0.361111  0.345238  \n",
       "79       -0.5   0.345238  0.710318  \n",
       "80       -1.0   0.710318  0.111111  "
      ]
     },
     "execution_count": 23,
     "metadata": {},
     "output_type": "execute_result"
    }
   ],
   "source": [
    "#unimos los datos del ine con los de twitter\n",
    "reframed = pd.concat([reframed_twt.iloc[:, 0], reframed_ine.iloc[:, 0]], axis=1)\n",
    "\n",
    "for i in range(6):\n",
    "    reframed = pd.concat([reframed, reframed_twt.iloc[:, i+1]], axis=1)\n",
    "    reframed = pd.concat([reframed, reframed_ine.iloc[:, i+1]], axis=1)\n",
    "    \n",
    "reframed = pd.concat([reframed, reframed_ine.iloc[:, 7]], axis=1)\n",
    "\n",
    "reframed.tail()"
   ]
  },
  {
   "cell_type": "markdown",
   "metadata": {},
   "source": [
    "# Dividimos los datos en sets de entrenamiento y validacion"
   ]
  },
  {
   "cell_type": "code",
   "execution_count": 24,
   "metadata": {},
   "outputs": [
    {
     "name": "stdout",
     "output_type": "stream",
     "text": [
      "(54, 1, 14) (54,) (20, 1, 14) (20,)\n"
     ]
    }
   ],
   "source": [
    "#dividimos nuestro valores entre sets de entrenamiento y de test\n",
    "values = reframed.values\n",
    "n_train_days = 71 - (10+look_back)\n",
    "train = values[:n_train_days, :]\n",
    "test = values[n_train_days:, :]\n",
    "\n",
    "# split into input and outputs\n",
    "x_train, y_train = train[:, :-1], train[:, -1]\n",
    "x_val, y_val = test[:, :-1], test[:, -1]\n",
    "\n",
    "# reshape input to be 3D [samples, timesteps, features] - preguntar\n",
    "x_train = x_train.reshape((x_train.shape[0], 1, x_train.shape[1]))\n",
    "x_val = x_val.reshape((x_val.shape[0], 1, x_val.shape[1]))\n",
    "print(x_train.shape, y_train.shape, x_val.shape, y_val.shape)"
   ]
  },
  {
   "cell_type": "markdown",
   "metadata": {},
   "source": [
    "# Creamos la red neuronal"
   ]
  },
  {
   "cell_type": "code",
   "execution_count": 25,
   "metadata": {},
   "outputs": [],
   "source": [
    "def crear_modeloFF():\n",
    "    model = Sequential() \n",
    "    model.add(Dense(look_back, input_shape=(1,look_back*2),activation='tanh'))\n",
    "    model.add(Flatten())\n",
    "    model.add(Dense(100, activation='tanh'))\n",
    "    model.add(Dropout(0.30))\n",
    "    model.add(Dense(100, activation='tanh'))\n",
    "    model.add(Dropout(0.30))\n",
    "    model.add(Dense(100, activation='tanh'))\n",
    "    model.add(Dropout(0.30))\n",
    "    model.add(Dense(100, activation='tanh'))\n",
    "    model.add(Dropout(0.30))\n",
    "    model.add(Dense(1, activation='tanh'))\n",
    "    model.compile(loss='mean_absolute_error',optimizer='Adam',metrics=[\"mse\"])\n",
    "    model.summary()\n",
    "    return model"
   ]
  },
  {
   "cell_type": "code",
   "execution_count": 26,
   "metadata": {},
   "outputs": [
    {
     "name": "stdout",
     "output_type": "stream",
     "text": [
      "Model: \"sequential\"\n",
      "_________________________________________________________________\n",
      "Layer (type)                 Output Shape              Param #   \n",
      "=================================================================\n",
      "dense (Dense)                (None, 1, 7)              105       \n",
      "_________________________________________________________________\n",
      "flatten (Flatten)            (None, 7)                 0         \n",
      "_________________________________________________________________\n",
      "dense_1 (Dense)              (None, 100)               800       \n",
      "_________________________________________________________________\n",
      "dropout (Dropout)            (None, 100)               0         \n",
      "_________________________________________________________________\n",
      "dense_2 (Dense)              (None, 100)               10100     \n",
      "_________________________________________________________________\n",
      "dropout_1 (Dropout)          (None, 100)               0         \n",
      "_________________________________________________________________\n",
      "dense_3 (Dense)              (None, 100)               10100     \n",
      "_________________________________________________________________\n",
      "dropout_2 (Dropout)          (None, 100)               0         \n",
      "_________________________________________________________________\n",
      "dense_4 (Dense)              (None, 100)               10100     \n",
      "_________________________________________________________________\n",
      "dropout_3 (Dropout)          (None, 100)               0         \n",
      "_________________________________________________________________\n",
      "dense_5 (Dense)              (None, 1)                 101       \n",
      "=================================================================\n",
      "Total params: 31,306\n",
      "Trainable params: 31,306\n",
      "Non-trainable params: 0\n",
      "_________________________________________________________________\n",
      "Epoch 1/200\n",
      "8/8 [==============================] - 3s 246ms/step - loss: 0.4875 - mse: 0.3546 - val_loss: 0.2347 - val_mse: 0.0854\n",
      "Epoch 2/200\n",
      "8/8 [==============================] - 0s 9ms/step - loss: 0.3573 - mse: 0.1950 - val_loss: 0.2935 - val_mse: 0.1177\n",
      "Epoch 3/200\n",
      "8/8 [==============================] - 0s 8ms/step - loss: 0.4200 - mse: 0.2729 - val_loss: 0.2982 - val_mse: 0.1382\n",
      "Epoch 4/200\n",
      "8/8 [==============================] - 0s 8ms/step - loss: 0.4302 - mse: 0.2614 - val_loss: 0.2930 - val_mse: 0.1196\n",
      "Epoch 5/200\n",
      "8/8 [==============================] - 0s 8ms/step - loss: 0.3138 - mse: 0.1671 - val_loss: 0.2931 - val_mse: 0.1220\n",
      "Epoch 6/200\n",
      "8/8 [==============================] - 0s 7ms/step - loss: 0.3041 - mse: 0.1397 - val_loss: 0.3123 - val_mse: 0.1358\n",
      "Epoch 7/200\n",
      "8/8 [==============================] - 0s 7ms/step - loss: 0.3076 - mse: 0.1284 - val_loss: 0.3141 - val_mse: 0.1464\n",
      "Epoch 8/200\n",
      "8/8 [==============================] - 0s 7ms/step - loss: 0.3178 - mse: 0.1439 - val_loss: 0.2964 - val_mse: 0.1343\n",
      "Epoch 9/200\n",
      "8/8 [==============================] - 0s 7ms/step - loss: 0.3285 - mse: 0.1549 - val_loss: 0.3001 - val_mse: 0.1206\n",
      "Epoch 10/200\n",
      "8/8 [==============================] - 0s 7ms/step - loss: 0.3094 - mse: 0.1529 - val_loss: 0.3080 - val_mse: 0.1599\n",
      "Epoch 11/200\n",
      "8/8 [==============================] - 0s 7ms/step - loss: 0.3207 - mse: 0.1561 - val_loss: 0.3244 - val_mse: 0.1646\n",
      "Epoch 12/200\n",
      "8/8 [==============================] - 0s 7ms/step - loss: 0.2455 - mse: 0.0895 - val_loss: 0.3455 - val_mse: 0.1825\n",
      "Epoch 13/200\n",
      "8/8 [==============================] - 0s 7ms/step - loss: 0.3620 - mse: 0.1865 - val_loss: 0.3285 - val_mse: 0.1633\n",
      "Epoch 14/200\n",
      "8/8 [==============================] - 0s 7ms/step - loss: 0.2377 - mse: 0.0865 - val_loss: 0.3077 - val_mse: 0.1398\n",
      "Epoch 15/200\n",
      "8/8 [==============================] - 0s 7ms/step - loss: 0.2647 - mse: 0.1277 - val_loss: 0.3229 - val_mse: 0.1523\n",
      "Epoch 16/200\n",
      "8/8 [==============================] - 0s 7ms/step - loss: 0.2658 - mse: 0.1239 - val_loss: 0.3375 - val_mse: 0.1468\n",
      "Epoch 17/200\n",
      "8/8 [==============================] - 0s 8ms/step - loss: 0.2720 - mse: 0.1115 - val_loss: 0.3344 - val_mse: 0.1591\n",
      "Epoch 18/200\n",
      "8/8 [==============================] - 0s 7ms/step - loss: 0.2575 - mse: 0.1050 - val_loss: 0.3149 - val_mse: 0.1349\n",
      "Epoch 19/200\n",
      "8/8 [==============================] - 0s 7ms/step - loss: 0.2246 - mse: 0.0823 - val_loss: 0.3139 - val_mse: 0.1510\n",
      "Epoch 20/200\n",
      "8/8 [==============================] - 0s 7ms/step - loss: 0.2641 - mse: 0.1093 - val_loss: 0.3142 - val_mse: 0.1440\n",
      "Epoch 21/200\n",
      "8/8 [==============================] - 0s 7ms/step - loss: 0.2574 - mse: 0.1078 - val_loss: 0.3179 - val_mse: 0.1322\n",
      "Epoch 22/200\n",
      "8/8 [==============================] - 0s 7ms/step - loss: 0.2650 - mse: 0.1193 - val_loss: 0.2962 - val_mse: 0.1365\n",
      "Epoch 23/200\n",
      "8/8 [==============================] - 0s 7ms/step - loss: 0.2766 - mse: 0.1111 - val_loss: 0.3095 - val_mse: 0.1323\n",
      "Epoch 24/200\n",
      "8/8 [==============================] - 0s 8ms/step - loss: 0.2988 - mse: 0.1577 - val_loss: 0.3210 - val_mse: 0.1480\n",
      "Epoch 25/200\n",
      "8/8 [==============================] - 0s 7ms/step - loss: 0.2473 - mse: 0.1000 - val_loss: 0.3338 - val_mse: 0.1681\n",
      "Epoch 26/200\n",
      "8/8 [==============================] - 0s 7ms/step - loss: 0.2359 - mse: 0.0724 - val_loss: 0.3271 - val_mse: 0.1487\n",
      "Epoch 27/200\n",
      "8/8 [==============================] - 0s 7ms/step - loss: 0.2409 - mse: 0.1056 - val_loss: 0.3104 - val_mse: 0.1369\n",
      "Epoch 28/200\n",
      "8/8 [==============================] - 0s 7ms/step - loss: 0.2156 - mse: 0.0775 - val_loss: 0.3086 - val_mse: 0.1552\n",
      "Epoch 29/200\n",
      "8/8 [==============================] - 0s 7ms/step - loss: 0.2801 - mse: 0.1364 - val_loss: 0.3019 - val_mse: 0.1268\n",
      "Epoch 30/200\n",
      "8/8 [==============================] - 0s 7ms/step - loss: 0.2165 - mse: 0.0679 - val_loss: 0.2864 - val_mse: 0.1309\n",
      "Epoch 31/200\n",
      "8/8 [==============================] - 0s 7ms/step - loss: 0.2553 - mse: 0.1102 - val_loss: 0.3260 - val_mse: 0.1531\n",
      "Epoch 32/200\n",
      "8/8 [==============================] - 0s 7ms/step - loss: 0.2430 - mse: 0.0928 - val_loss: 0.3523 - val_mse: 0.1689\n",
      "Epoch 33/200\n",
      "8/8 [==============================] - 0s 7ms/step - loss: 0.2415 - mse: 0.0846 - val_loss: 0.3592 - val_mse: 0.1671\n",
      "Epoch 34/200\n",
      "8/8 [==============================] - 0s 7ms/step - loss: 0.2347 - mse: 0.0813 - val_loss: 0.3435 - val_mse: 0.1655\n",
      "Epoch 35/200\n",
      "8/8 [==============================] - 0s 7ms/step - loss: 0.2343 - mse: 0.0803 - val_loss: 0.3232 - val_mse: 0.1519\n",
      "Epoch 36/200\n",
      "8/8 [==============================] - 0s 7ms/step - loss: 0.2097 - mse: 0.0742 - val_loss: 0.3098 - val_mse: 0.1406\n",
      "Epoch 37/200\n",
      "8/8 [==============================] - 0s 7ms/step - loss: 0.2432 - mse: 0.0954 - val_loss: 0.3178 - val_mse: 0.1358\n",
      "Epoch 38/200\n",
      "8/8 [==============================] - 0s 7ms/step - loss: 0.2491 - mse: 0.0924 - val_loss: 0.3091 - val_mse: 0.1295\n",
      "Epoch 39/200\n",
      "8/8 [==============================] - 0s 7ms/step - loss: 0.3046 - mse: 0.1423 - val_loss: 0.2835 - val_mse: 0.1332\n",
      "Epoch 40/200\n",
      "8/8 [==============================] - 0s 7ms/step - loss: 0.2099 - mse: 0.0649 - val_loss: 0.3245 - val_mse: 0.1683\n",
      "Epoch 41/200\n",
      "8/8 [==============================] - 0s 6ms/step - loss: 0.2140 - mse: 0.0597 - val_loss: 0.3216 - val_mse: 0.1516\n",
      "Epoch 42/200\n",
      "8/8 [==============================] - 0s 7ms/step - loss: 0.2194 - mse: 0.0743 - val_loss: 0.3226 - val_mse: 0.1507\n",
      "Epoch 43/200\n",
      "8/8 [==============================] - ETA: 0s - loss: 0.2799 - mse: 0.125 - 0s 7ms/step - loss: 0.2280 - mse: 0.0987 - val_loss: 0.3383 - val_mse: 0.1634\n",
      "Epoch 44/200\n",
      "8/8 [==============================] - 0s 7ms/step - loss: 0.1930 - mse: 0.0672 - val_loss: 0.3360 - val_mse: 0.1511\n",
      "Epoch 45/200\n",
      "8/8 [==============================] - 0s 7ms/step - loss: 0.2360 - mse: 0.0950 - val_loss: 0.3194 - val_mse: 0.1491\n",
      "Epoch 46/200\n",
      "8/8 [==============================] - 0s 7ms/step - loss: 0.2029 - mse: 0.0683 - val_loss: 0.2987 - val_mse: 0.1383\n",
      "Epoch 47/200\n",
      "8/8 [==============================] - 0s 7ms/step - loss: 0.2494 - mse: 0.1004 - val_loss: 0.3101 - val_mse: 0.1361\n",
      "Epoch 48/200\n",
      "8/8 [==============================] - 0s 7ms/step - loss: 0.2051 - mse: 0.0726 - val_loss: 0.2937 - val_mse: 0.1290\n",
      "Epoch 49/200\n",
      "8/8 [==============================] - 0s 7ms/step - loss: 0.1861 - mse: 0.0534 - val_loss: 0.2972 - val_mse: 0.1366\n"
     ]
    },
    {
     "name": "stdout",
     "output_type": "stream",
     "text": [
      "Epoch 50/200\n",
      "8/8 [==============================] - 0s 6ms/step - loss: 0.2325 - mse: 0.0831 - val_loss: 0.2833 - val_mse: 0.1250\n",
      "Epoch 51/200\n",
      "8/8 [==============================] - 0s 7ms/step - loss: 0.1893 - mse: 0.0644 - val_loss: 0.2545 - val_mse: 0.1138\n",
      "Epoch 52/200\n",
      "8/8 [==============================] - 0s 6ms/step - loss: 0.2133 - mse: 0.0667 - val_loss: 0.2561 - val_mse: 0.1034\n",
      "Epoch 53/200\n",
      "8/8 [==============================] - 0s 7ms/step - loss: 0.1976 - mse: 0.0604 - val_loss: 0.2728 - val_mse: 0.1114\n",
      "Epoch 54/200\n",
      "8/8 [==============================] - 0s 7ms/step - loss: 0.2186 - mse: 0.0783 - val_loss: 0.3000 - val_mse: 0.1400\n",
      "Epoch 55/200\n",
      "8/8 [==============================] - 0s 7ms/step - loss: 0.2275 - mse: 0.0814 - val_loss: 0.3010 - val_mse: 0.1383\n",
      "Epoch 56/200\n",
      "8/8 [==============================] - 0s 7ms/step - loss: 0.2457 - mse: 0.0905 - val_loss: 0.3410 - val_mse: 0.1509\n",
      "Epoch 57/200\n",
      "8/8 [==============================] - 0s 6ms/step - loss: 0.2409 - mse: 0.0766 - val_loss: 0.3443 - val_mse: 0.1615\n",
      "Epoch 58/200\n",
      "8/8 [==============================] - 0s 7ms/step - loss: 0.2216 - mse: 0.0667 - val_loss: 0.3073 - val_mse: 0.1421\n",
      "Epoch 59/200\n",
      "8/8 [==============================] - 0s 7ms/step - loss: 0.2064 - mse: 0.0663 - val_loss: 0.3217 - val_mse: 0.1542\n",
      "Epoch 60/200\n",
      "8/8 [==============================] - 0s 7ms/step - loss: 0.2455 - mse: 0.0953 - val_loss: 0.3149 - val_mse: 0.1505\n",
      "Epoch 61/200\n",
      "8/8 [==============================] - 0s 7ms/step - loss: 0.2135 - mse: 0.0684 - val_loss: 0.3134 - val_mse: 0.1483\n",
      "Epoch 62/200\n",
      "8/8 [==============================] - ETA: 0s - loss: 0.2856 - mse: 0.115 - 0s 7ms/step - loss: 0.2032 - mse: 0.0649 - val_loss: 0.3047 - val_mse: 0.1398\n",
      "Epoch 63/200\n",
      "8/8 [==============================] - 0s 8ms/step - loss: 0.2376 - mse: 0.0906 - val_loss: 0.3009 - val_mse: 0.1351\n",
      "Epoch 64/200\n",
      "8/8 [==============================] - 0s 7ms/step - loss: 0.1987 - mse: 0.0542 - val_loss: 0.3013 - val_mse: 0.1298\n",
      "Epoch 65/200\n",
      "8/8 [==============================] - 0s 7ms/step - loss: 0.2143 - mse: 0.0699 - val_loss: 0.3045 - val_mse: 0.1367\n",
      "Epoch 66/200\n",
      "8/8 [==============================] - 0s 7ms/step - loss: 0.1791 - mse: 0.0590 - val_loss: 0.3167 - val_mse: 0.1485\n",
      "Epoch 67/200\n",
      "8/8 [==============================] - 0s 7ms/step - loss: 0.1764 - mse: 0.0605 - val_loss: 0.3214 - val_mse: 0.1577\n",
      "Epoch 68/200\n",
      "8/8 [==============================] - 0s 7ms/step - loss: 0.1834 - mse: 0.0601 - val_loss: 0.3061 - val_mse: 0.1376\n",
      "Epoch 69/200\n",
      "8/8 [==============================] - 0s 7ms/step - loss: 0.2057 - mse: 0.0644 - val_loss: 0.2881 - val_mse: 0.1226\n",
      "Epoch 70/200\n",
      "8/8 [==============================] - 0s 8ms/step - loss: 0.1951 - mse: 0.0591 - val_loss: 0.2807 - val_mse: 0.1178\n",
      "Epoch 71/200\n",
      "8/8 [==============================] - 0s 7ms/step - loss: 0.1511 - mse: 0.0368 - val_loss: 0.3048 - val_mse: 0.1352\n",
      "Epoch 72/200\n",
      "8/8 [==============================] - 0s 7ms/step - loss: 0.1852 - mse: 0.0521 - val_loss: 0.3254 - val_mse: 0.1518\n",
      "Epoch 73/200\n",
      "8/8 [==============================] - 0s 7ms/step - loss: 0.1799 - mse: 0.0496 - val_loss: 0.2889 - val_mse: 0.1296\n",
      "Epoch 74/200\n",
      "8/8 [==============================] - 0s 8ms/step - loss: 0.1802 - mse: 0.0529 - val_loss: 0.3031 - val_mse: 0.1365\n",
      "Epoch 75/200\n",
      "8/8 [==============================] - 0s 7ms/step - loss: 0.1838 - mse: 0.0512 - val_loss: 0.3170 - val_mse: 0.1428\n",
      "Epoch 76/200\n",
      "8/8 [==============================] - 0s 7ms/step - loss: 0.2142 - mse: 0.0611 - val_loss: 0.3325 - val_mse: 0.1533\n",
      "Epoch 77/200\n",
      "8/8 [==============================] - 0s 7ms/step - loss: 0.2171 - mse: 0.0689 - val_loss: 0.3257 - val_mse: 0.1465\n",
      "Epoch 78/200\n",
      "8/8 [==============================] - 0s 7ms/step - loss: 0.1815 - mse: 0.0512 - val_loss: 0.3053 - val_mse: 0.1368\n",
      "Epoch 79/200\n",
      "8/8 [==============================] - 0s 7ms/step - loss: 0.1980 - mse: 0.0599 - val_loss: 0.3128 - val_mse: 0.1466\n",
      "Epoch 80/200\n",
      "8/8 [==============================] - 0s 7ms/step - loss: 0.2017 - mse: 0.0654 - val_loss: 0.3093 - val_mse: 0.1436\n",
      "Epoch 81/200\n",
      "8/8 [==============================] - 0s 7ms/step - loss: 0.2064 - mse: 0.0657 - val_loss: 0.2889 - val_mse: 0.1290\n",
      "Epoch 82/200\n",
      "8/8 [==============================] - 0s 8ms/step - loss: 0.2021 - mse: 0.0628 - val_loss: 0.3029 - val_mse: 0.1330\n",
      "Epoch 83/200\n",
      "8/8 [==============================] - 0s 7ms/step - loss: 0.2142 - mse: 0.0729 - val_loss: 0.2941 - val_mse: 0.1328\n",
      "Epoch 84/200\n",
      "8/8 [==============================] - 0s 7ms/step - loss: 0.2051 - mse: 0.0700 - val_loss: 0.3031 - val_mse: 0.1363\n",
      "Epoch 85/200\n",
      "8/8 [==============================] - 0s 7ms/step - loss: 0.1984 - mse: 0.0604 - val_loss: 0.3129 - val_mse: 0.1367\n",
      "Epoch 86/200\n",
      "8/8 [==============================] - 0s 7ms/step - loss: 0.1612 - mse: 0.0464 - val_loss: 0.3217 - val_mse: 0.1419\n",
      "Epoch 87/200\n",
      "8/8 [==============================] - 0s 7ms/step - loss: 0.2005 - mse: 0.0682 - val_loss: 0.3077 - val_mse: 0.1366\n",
      "Epoch 88/200\n",
      "8/8 [==============================] - 0s 7ms/step - loss: 0.1999 - mse: 0.0660 - val_loss: 0.3023 - val_mse: 0.1327\n",
      "Epoch 89/200\n",
      "8/8 [==============================] - 0s 7ms/step - loss: 0.2198 - mse: 0.0745 - val_loss: 0.3084 - val_mse: 0.1358\n",
      "Epoch 90/200\n",
      "8/8 [==============================] - 0s 7ms/step - loss: 0.1829 - mse: 0.0589 - val_loss: 0.2851 - val_mse: 0.1228\n",
      "Epoch 91/200\n",
      "8/8 [==============================] - 0s 9ms/step - loss: 0.2168 - mse: 0.0716 - val_loss: 0.2798 - val_mse: 0.1238\n",
      "Epoch 92/200\n",
      "8/8 [==============================] - 0s 7ms/step - loss: 0.1818 - mse: 0.0515 - val_loss: 0.2949 - val_mse: 0.1331\n",
      "Epoch 93/200\n",
      "8/8 [==============================] - 0s 7ms/step - loss: 0.1988 - mse: 0.0649 - val_loss: 0.3145 - val_mse: 0.1419\n",
      "Epoch 94/200\n",
      "8/8 [==============================] - 0s 7ms/step - loss: 0.1219 - mse: 0.0262 - val_loss: 0.3241 - val_mse: 0.1512\n",
      "Epoch 95/200\n",
      "8/8 [==============================] - 0s 8ms/step - loss: 0.2203 - mse: 0.0792 - val_loss: 0.3077 - val_mse: 0.1429\n",
      "Epoch 96/200\n",
      "8/8 [==============================] - 0s 7ms/step - loss: 0.1780 - mse: 0.0642 - val_loss: 0.3119 - val_mse: 0.1444\n",
      "Epoch 97/200\n",
      "8/8 [==============================] - 0s 6ms/step - loss: 0.2037 - mse: 0.0717 - val_loss: 0.3153 - val_mse: 0.1406\n",
      "Epoch 98/200\n",
      "8/8 [==============================] - 0s 7ms/step - loss: 0.1668 - mse: 0.0504 - val_loss: 0.3260 - val_mse: 0.1404\n",
      "Epoch 99/200\n",
      "8/8 [==============================] - 0s 7ms/step - loss: 0.1909 - mse: 0.0595 - val_loss: 0.2978 - val_mse: 0.1309\n",
      "Epoch 100/200\n",
      "8/8 [==============================] - 0s 7ms/step - loss: 0.1956 - mse: 0.0554 - val_loss: 0.2902 - val_mse: 0.1330\n",
      "Epoch 101/200\n",
      "8/8 [==============================] - 0s 8ms/step - loss: 0.1660 - mse: 0.0424 - val_loss: 0.3159 - val_mse: 0.1372\n",
      "Epoch 102/200\n",
      "8/8 [==============================] - 0s 7ms/step - loss: 0.2172 - mse: 0.0673 - val_loss: 0.3348 - val_mse: 0.1449\n",
      "Epoch 103/200\n",
      "8/8 [==============================] - 0s 7ms/step - loss: 0.2213 - mse: 0.0671 - val_loss: 0.3351 - val_mse: 0.1509\n",
      "Epoch 104/200\n",
      "8/8 [==============================] - 0s 7ms/step - loss: 0.1678 - mse: 0.0529 - val_loss: 0.3328 - val_mse: 0.1466\n",
      "Epoch 105/200\n",
      "8/8 [==============================] - 0s 7ms/step - loss: 0.1812 - mse: 0.0512 - val_loss: 0.3238 - val_mse: 0.1368\n",
      "Epoch 106/200\n",
      "8/8 [==============================] - 0s 7ms/step - loss: 0.1852 - mse: 0.0539 - val_loss: 0.2927 - val_mse: 0.1337\n",
      "Epoch 107/200\n",
      "8/8 [==============================] - 0s 7ms/step - loss: 0.1539 - mse: 0.0419 - val_loss: 0.3105 - val_mse: 0.1406\n",
      "Epoch 108/200\n",
      "8/8 [==============================] - 0s 7ms/step - loss: 0.1868 - mse: 0.0519 - val_loss: 0.3019 - val_mse: 0.1266\n",
      "Epoch 109/200\n",
      "8/8 [==============================] - 0s 7ms/step - loss: 0.1736 - mse: 0.0522 - val_loss: 0.2869 - val_mse: 0.1233\n",
      "Epoch 110/200\n",
      "8/8 [==============================] - 0s 7ms/step - loss: 0.1856 - mse: 0.0565 - val_loss: 0.2930 - val_mse: 0.1299\n",
      "Epoch 111/200\n",
      "8/8 [==============================] - 0s 7ms/step - loss: 0.1447 - mse: 0.0344 - val_loss: 0.2732 - val_mse: 0.1165\n",
      "Epoch 112/200\n"
     ]
    },
    {
     "name": "stdout",
     "output_type": "stream",
     "text": [
      "8/8 [==============================] - 0s 7ms/step - loss: 0.2241 - mse: 0.0734 - val_loss: 0.2939 - val_mse: 0.1229\n",
      "Epoch 113/200\n",
      "8/8 [==============================] - 0s 7ms/step - loss: 0.1955 - mse: 0.0604 - val_loss: 0.3095 - val_mse: 0.1332\n",
      "Epoch 114/200\n",
      "8/8 [==============================] - 0s 7ms/step - loss: 0.1626 - mse: 0.0419 - val_loss: 0.3148 - val_mse: 0.1410\n",
      "Epoch 115/200\n",
      "8/8 [==============================] - 0s 7ms/step - loss: 0.1850 - mse: 0.0538 - val_loss: 0.3179 - val_mse: 0.1433\n",
      "Epoch 116/200\n",
      "8/8 [==============================] - 0s 7ms/step - loss: 0.1476 - mse: 0.0407 - val_loss: 0.3400 - val_mse: 0.1598\n",
      "Epoch 117/200\n",
      "8/8 [==============================] - 0s 7ms/step - loss: 0.1831 - mse: 0.0522 - val_loss: 0.3276 - val_mse: 0.1518\n",
      "Epoch 118/200\n",
      "8/8 [==============================] - 0s 7ms/step - loss: 0.1741 - mse: 0.0501 - val_loss: 0.2951 - val_mse: 0.1336\n",
      "Epoch 119/200\n",
      "8/8 [==============================] - 0s 7ms/step - loss: 0.1833 - mse: 0.0554 - val_loss: 0.3049 - val_mse: 0.1370\n",
      "Epoch 120/200\n",
      "8/8 [==============================] - 0s 7ms/step - loss: 0.2076 - mse: 0.0669 - val_loss: 0.3066 - val_mse: 0.1401\n",
      "Epoch 121/200\n",
      "8/8 [==============================] - 0s 7ms/step - loss: 0.1985 - mse: 0.0604 - val_loss: 0.3122 - val_mse: 0.1436\n",
      "Epoch 122/200\n",
      "8/8 [==============================] - 0s 7ms/step - loss: 0.1725 - mse: 0.0410 - val_loss: 0.3136 - val_mse: 0.1408\n",
      "Epoch 123/200\n",
      "8/8 [==============================] - 0s 7ms/step - loss: 0.1558 - mse: 0.0400 - val_loss: 0.3016 - val_mse: 0.1310\n",
      "Epoch 124/200\n",
      "8/8 [==============================] - 0s 8ms/step - loss: 0.1579 - mse: 0.0415 - val_loss: 0.2938 - val_mse: 0.1253\n",
      "Epoch 125/200\n",
      "8/8 [==============================] - 0s 7ms/step - loss: 0.1963 - mse: 0.0680 - val_loss: 0.3031 - val_mse: 0.1341\n",
      "Epoch 126/200\n",
      "8/8 [==============================] - 0s 7ms/step - loss: 0.1915 - mse: 0.0584 - val_loss: 0.3032 - val_mse: 0.1333\n",
      "Epoch 127/200\n",
      "8/8 [==============================] - 0s 7ms/step - loss: 0.1534 - mse: 0.0407 - val_loss: 0.3053 - val_mse: 0.1383\n",
      "Epoch 128/200\n",
      "8/8 [==============================] - 0s 7ms/step - loss: 0.1441 - mse: 0.0363 - val_loss: 0.2967 - val_mse: 0.1325\n",
      "Epoch 129/200\n",
      "8/8 [==============================] - 0s 8ms/step - loss: 0.1912 - mse: 0.0559 - val_loss: 0.3135 - val_mse: 0.1404\n",
      "Epoch 130/200\n",
      "8/8 [==============================] - 0s 7ms/step - loss: 0.1494 - mse: 0.0439 - val_loss: 0.3163 - val_mse: 0.1386\n",
      "Epoch 131/200\n",
      "8/8 [==============================] - 0s 7ms/step - loss: 0.1987 - mse: 0.0671 - val_loss: 0.3041 - val_mse: 0.1289\n",
      "Epoch 132/200\n",
      "8/8 [==============================] - 0s 6ms/step - loss: 0.1616 - mse: 0.0406 - val_loss: 0.2963 - val_mse: 0.1269\n",
      "Epoch 133/200\n",
      "8/8 [==============================] - 0s 7ms/step - loss: 0.1589 - mse: 0.0433 - val_loss: 0.3105 - val_mse: 0.1377\n",
      "Epoch 134/200\n",
      "8/8 [==============================] - 0s 8ms/step - loss: 0.1984 - mse: 0.0580 - val_loss: 0.3044 - val_mse: 0.1338\n",
      "Epoch 135/200\n",
      "8/8 [==============================] - 0s 9ms/step - loss: 0.1944 - mse: 0.0653 - val_loss: 0.3025 - val_mse: 0.1298\n",
      "Epoch 136/200\n",
      "8/8 [==============================] - 0s 7ms/step - loss: 0.1704 - mse: 0.0506 - val_loss: 0.3126 - val_mse: 0.1377\n",
      "Epoch 137/200\n",
      "8/8 [==============================] - 0s 7ms/step - loss: 0.1566 - mse: 0.0368 - val_loss: 0.3237 - val_mse: 0.1496\n",
      "Epoch 138/200\n",
      "8/8 [==============================] - 0s 7ms/step - loss: 0.1572 - mse: 0.0439 - val_loss: 0.3287 - val_mse: 0.1511\n",
      "Epoch 139/200\n",
      "8/8 [==============================] - 0s 7ms/step - loss: 0.1946 - mse: 0.0644 - val_loss: 0.3163 - val_mse: 0.1437\n",
      "Epoch 140/200\n",
      "8/8 [==============================] - 0s 7ms/step - loss: 0.1518 - mse: 0.0462 - val_loss: 0.2946 - val_mse: 0.1262\n",
      "Epoch 141/200\n",
      "8/8 [==============================] - 0s 7ms/step - loss: 0.2108 - mse: 0.0657 - val_loss: 0.2993 - val_mse: 0.1245\n",
      "Epoch 142/200\n",
      "8/8 [==============================] - 0s 7ms/step - loss: 0.1933 - mse: 0.0601 - val_loss: 0.2909 - val_mse: 0.1276\n",
      "Epoch 143/200\n",
      "8/8 [==============================] - 0s 7ms/step - loss: 0.1768 - mse: 0.0527 - val_loss: 0.2814 - val_mse: 0.1313\n",
      "Epoch 144/200\n",
      "8/8 [==============================] - 0s 7ms/step - loss: 0.1997 - mse: 0.0627 - val_loss: 0.2940 - val_mse: 0.1260\n",
      "Epoch 145/200\n",
      "8/8 [==============================] - ETA: 0s - loss: 0.1599 - mse: 0.030 - 0s 7ms/step - loss: 0.1497 - mse: 0.0331 - val_loss: 0.3142 - val_mse: 0.1314\n",
      "Epoch 146/200\n",
      "8/8 [==============================] - 0s 7ms/step - loss: 0.1930 - mse: 0.0589 - val_loss: 0.3257 - val_mse: 0.1441\n",
      "Epoch 147/200\n",
      "8/8 [==============================] - 0s 7ms/step - loss: 0.1359 - mse: 0.0296 - val_loss: 0.3134 - val_mse: 0.1403\n",
      "Epoch 148/200\n",
      "8/8 [==============================] - 0s 7ms/step - loss: 0.1511 - mse: 0.0417 - val_loss: 0.2899 - val_mse: 0.1262\n",
      "Epoch 149/200\n",
      "8/8 [==============================] - 0s 7ms/step - loss: 0.1694 - mse: 0.0470 - val_loss: 0.2937 - val_mse: 0.1239\n",
      "Epoch 150/200\n",
      "8/8 [==============================] - 0s 7ms/step - loss: 0.1739 - mse: 0.0532 - val_loss: 0.3130 - val_mse: 0.1336\n",
      "Epoch 151/200\n",
      "8/8 [==============================] - 0s 7ms/step - loss: 0.1549 - mse: 0.0417 - val_loss: 0.3429 - val_mse: 0.1599\n",
      "Epoch 152/200\n",
      "8/8 [==============================] - 0s 7ms/step - loss: 0.1692 - mse: 0.0443 - val_loss: 0.3656 - val_mse: 0.1701\n",
      "Epoch 153/200\n",
      "8/8 [==============================] - ETA: 0s - loss: 0.1232 - mse: 0.025 - 0s 7ms/step - loss: 0.1545 - mse: 0.0384 - val_loss: 0.3413 - val_mse: 0.1587\n",
      "Epoch 154/200\n",
      "8/8 [==============================] - 0s 8ms/step - loss: 0.1622 - mse: 0.0413 - val_loss: 0.3195 - val_mse: 0.1531\n",
      "Epoch 155/200\n",
      "8/8 [==============================] - 0s 7ms/step - loss: 0.2138 - mse: 0.0640 - val_loss: 0.2930 - val_mse: 0.1299\n",
      "Epoch 156/200\n",
      "8/8 [==============================] - 0s 7ms/step - loss: 0.1347 - mse: 0.0316 - val_loss: 0.3053 - val_mse: 0.1317\n",
      "Epoch 157/200\n",
      "8/8 [==============================] - 0s 7ms/step - loss: 0.1263 - mse: 0.0281 - val_loss: 0.3312 - val_mse: 0.1417\n",
      "Epoch 158/200\n",
      "8/8 [==============================] - 0s 7ms/step - loss: 0.1918 - mse: 0.0528 - val_loss: 0.3173 - val_mse: 0.1436\n",
      "Epoch 159/200\n",
      "8/8 [==============================] - 0s 7ms/step - loss: 0.1546 - mse: 0.0384 - val_loss: 0.3088 - val_mse: 0.1421\n",
      "Epoch 160/200\n",
      "8/8 [==============================] - ETA: 0s - loss: 0.1436 - mse: 0.038 - 0s 7ms/step - loss: 0.1629 - mse: 0.0455 - val_loss: 0.3196 - val_mse: 0.1445\n",
      "Epoch 161/200\n",
      "8/8 [==============================] - 0s 7ms/step - loss: 0.1604 - mse: 0.0407 - val_loss: 0.3190 - val_mse: 0.1464\n",
      "Epoch 162/200\n",
      "8/8 [==============================] - 0s 9ms/step - loss: 0.1799 - mse: 0.0540 - val_loss: 0.3159 - val_mse: 0.1394\n",
      "Epoch 163/200\n",
      "8/8 [==============================] - 0s 8ms/step - loss: 0.2011 - mse: 0.0576 - val_loss: 0.3225 - val_mse: 0.1357\n",
      "Epoch 164/200\n",
      "8/8 [==============================] - 0s 8ms/step - loss: 0.1794 - mse: 0.0509 - val_loss: 0.3050 - val_mse: 0.1328\n",
      "Epoch 165/200\n",
      "8/8 [==============================] - 0s 7ms/step - loss: 0.1453 - mse: 0.0348 - val_loss: 0.3180 - val_mse: 0.1388\n",
      "Epoch 166/200\n",
      "8/8 [==============================] - 0s 8ms/step - loss: 0.1380 - mse: 0.0356 - val_loss: 0.3377 - val_mse: 0.1484\n",
      "Epoch 167/200\n",
      "8/8 [==============================] - 0s 7ms/step - loss: 0.1877 - mse: 0.0566 - val_loss: 0.3273 - val_mse: 0.1440\n",
      "Epoch 168/200\n",
      "8/8 [==============================] - 0s 6ms/step - loss: 0.1829 - mse: 0.0534 - val_loss: 0.3090 - val_mse: 0.1355\n",
      "Epoch 169/200\n",
      "8/8 [==============================] - 0s 6ms/step - loss: 0.1393 - mse: 0.0342 - val_loss: 0.3084 - val_mse: 0.1377\n",
      "Epoch 170/200\n",
      "8/8 [==============================] - 0s 6ms/step - loss: 0.1489 - mse: 0.0389 - val_loss: 0.3276 - val_mse: 0.1378\n",
      "Epoch 171/200\n",
      "8/8 [==============================] - 0s 7ms/step - loss: 0.1630 - mse: 0.0421 - val_loss: 0.3146 - val_mse: 0.1305\n",
      "Epoch 172/200\n",
      "8/8 [==============================] - 0s 7ms/step - loss: 0.1710 - mse: 0.0437 - val_loss: 0.3131 - val_mse: 0.1332\n",
      "Epoch 173/200\n",
      "8/8 [==============================] - 0s 7ms/step - loss: 0.1379 - mse: 0.0348 - val_loss: 0.3127 - val_mse: 0.1396\n"
     ]
    },
    {
     "name": "stdout",
     "output_type": "stream",
     "text": [
      "Epoch 174/200\n",
      "8/8 [==============================] - 0s 7ms/step - loss: 0.1554 - mse: 0.0392 - val_loss: 0.3172 - val_mse: 0.1371\n",
      "Epoch 175/200\n",
      "8/8 [==============================] - 0s 7ms/step - loss: 0.1656 - mse: 0.0451 - val_loss: 0.3003 - val_mse: 0.1273\n",
      "Epoch 176/200\n",
      "8/8 [==============================] - 0s 7ms/step - loss: 0.1168 - mse: 0.0307 - val_loss: 0.3131 - val_mse: 0.1366\n",
      "Epoch 177/200\n",
      "8/8 [==============================] - 0s 8ms/step - loss: 0.1526 - mse: 0.0410 - val_loss: 0.3252 - val_mse: 0.1406\n",
      "Epoch 178/200\n",
      "8/8 [==============================] - 0s 12ms/step - loss: 0.1477 - mse: 0.0407 - val_loss: 0.3143 - val_mse: 0.1365\n",
      "Epoch 179/200\n",
      "8/8 [==============================] - ETA: 0s - loss: 0.1330 - mse: 0.025 - 0s 13ms/step - loss: 0.1300 - mse: 0.0305 - val_loss: 0.3075 - val_mse: 0.1294\n",
      "Epoch 180/200\n",
      "8/8 [==============================] - 0s 9ms/step - loss: 0.1656 - mse: 0.0438 - val_loss: 0.3123 - val_mse: 0.1374\n",
      "Epoch 181/200\n",
      "8/8 [==============================] - 0s 7ms/step - loss: 0.1700 - mse: 0.0437 - val_loss: 0.3407 - val_mse: 0.1456\n",
      "Epoch 182/200\n",
      "8/8 [==============================] - 0s 8ms/step - loss: 0.1933 - mse: 0.0562 - val_loss: 0.3374 - val_mse: 0.1428\n",
      "Epoch 183/200\n",
      "8/8 [==============================] - 0s 7ms/step - loss: 0.1601 - mse: 0.0426 - val_loss: 0.3003 - val_mse: 0.1317\n",
      "Epoch 184/200\n",
      "8/8 [==============================] - 0s 7ms/step - loss: 0.1539 - mse: 0.0438 - val_loss: 0.3040 - val_mse: 0.1246\n",
      "Epoch 185/200\n",
      "8/8 [==============================] - 0s 7ms/step - loss: 0.1890 - mse: 0.0591 - val_loss: 0.3011 - val_mse: 0.1225\n",
      "Epoch 186/200\n",
      "8/8 [==============================] - 0s 7ms/step - loss: 0.1877 - mse: 0.0501 - val_loss: 0.3078 - val_mse: 0.1364\n",
      "Epoch 187/200\n",
      "8/8 [==============================] - 0s 7ms/step - loss: 0.1412 - mse: 0.0385 - val_loss: 0.3113 - val_mse: 0.1402\n",
      "Epoch 188/200\n",
      "8/8 [==============================] - 0s 7ms/step - loss: 0.1810 - mse: 0.0537 - val_loss: 0.3226 - val_mse: 0.1380\n",
      "Epoch 189/200\n",
      "8/8 [==============================] - 0s 8ms/step - loss: 0.1440 - mse: 0.0349 - val_loss: 0.3443 - val_mse: 0.1597\n",
      "Epoch 190/200\n",
      "8/8 [==============================] - 0s 8ms/step - loss: 0.1523 - mse: 0.0371 - val_loss: 0.3542 - val_mse: 0.1709\n",
      "Epoch 191/200\n",
      "8/8 [==============================] - 0s 8ms/step - loss: 0.1557 - mse: 0.0398 - val_loss: 0.3420 - val_mse: 0.1492\n",
      "Epoch 192/200\n",
      "8/8 [==============================] - 0s 8ms/step - loss: 0.1531 - mse: 0.0350 - val_loss: 0.3087 - val_mse: 0.1404\n",
      "Epoch 193/200\n",
      "8/8 [==============================] - 0s 8ms/step - loss: 0.1710 - mse: 0.0522 - val_loss: 0.3094 - val_mse: 0.1366\n",
      "Epoch 194/200\n",
      "8/8 [==============================] - 0s 7ms/step - loss: 0.1795 - mse: 0.0500 - val_loss: 0.3172 - val_mse: 0.1336\n",
      "Epoch 195/200\n",
      "8/8 [==============================] - 0s 12ms/step - loss: 0.1574 - mse: 0.0362 - val_loss: 0.3167 - val_mse: 0.1410\n",
      "Epoch 196/200\n",
      "8/8 [==============================] - 0s 8ms/step - loss: 0.1515 - mse: 0.0388 - val_loss: 0.3304 - val_mse: 0.1396\n",
      "Epoch 197/200\n",
      "8/8 [==============================] - 0s 9ms/step - loss: 0.1505 - mse: 0.0331 - val_loss: 0.3113 - val_mse: 0.1299\n",
      "Epoch 198/200\n",
      "8/8 [==============================] - 0s 7ms/step - loss: 0.1670 - mse: 0.0454 - val_loss: 0.3059 - val_mse: 0.1321\n",
      "Epoch 199/200\n",
      "8/8 [==============================] - 0s 7ms/step - loss: 0.1192 - mse: 0.0235 - val_loss: 0.3204 - val_mse: 0.1389\n",
      "Epoch 200/200\n",
      "8/8 [==============================] - 0s 7ms/step - loss: 0.1889 - mse: 0.0562 - val_loss: 0.3165 - val_mse: 0.1438\n"
     ]
    }
   ],
   "source": [
    "EPOCHS=200\n",
    "\n",
    "model = crear_modeloFF()\n",
    "\n",
    "history=model.fit(x_train,y_train,epochs=EPOCHS,validation_data=(x_val,y_val),batch_size=look_back)"
   ]
  },
  {
   "cell_type": "markdown",
   "metadata": {},
   "source": [
    "# Visualizamos resultados"
   ]
  },
  {
   "cell_type": "code",
   "execution_count": 27,
   "metadata": {},
   "outputs": [],
   "source": [
    "def mape(actual, pred): \n",
    "    actual, pred = np.array(actual), np.array(pred)\n",
    "    return np.mean(np.abs((actual - pred) / actual)) * 100\n",
    "\n",
    "\n",
    "def compute_metrics_fn(y_valid_resc, y_hat_resc):\n",
    "    mae_ = mean_absolute_error(y_valid_resc, y_hat_resc)\n",
    "    mse_ = mean_squared_error(y_valid_resc, y_hat_resc)\n",
    "    rmse_ = mean_squared_error(y_valid_resc, y_hat_resc, squared = False)\n",
    "    cvrmse_ = rmse_/np.mean(y_valid_resc)*100\n",
    "    mape_ = mape(y_valid_resc, y_hat_resc)\n",
    "    \n",
    "    return mae_, mse_, rmse_, cvrmse_, mape_"
   ]
  },
  {
   "cell_type": "code",
   "execution_count": 28,
   "metadata": {},
   "outputs": [],
   "source": [
    "# hacemos las predicciones\n",
    "trainPredict = model.predict(x_train)\n",
    "testPredict = model.predict(x_val)\n",
    "\n",
    "# invertimos las predicciones\n",
    "trainPredict = scaler.inverse_transform(trainPredict)\n",
    "trainY = y_train.reshape(y_train.shape[0], 1)\n",
    "trainY_scalerInverse = scaler.inverse_transform(trainY)\n",
    "testPredict = scaler.inverse_transform(testPredict)\n",
    "testY = y_val.reshape(y_val.shape[0], 1)\n",
    "testY_scalerInverse = scaler.inverse_transform(testY)"
   ]
  },
  {
   "cell_type": "code",
   "execution_count": 29,
   "metadata": {},
   "outputs": [
    {
     "name": "stdout",
     "output_type": "stream",
     "text": [
      "Resultado del entrenamiento: 35.94 MAE\n",
      "Resultado del entrenamiento: 2234.15 MSE\n",
      "Resultado del entrenamiento: 47.27 RMSE\n",
      "Resultado del entrenamiento: 13.26 CVRMSE\n",
      "Resultado del entrenamiento: 12.12 MAPE \n",
      "\n",
      "Resultado del test: 79.75 MAE\n",
      "Resultado del test: 9134.50 MSE\n",
      "Resultado del test: 95.57 RMSE\n",
      "Resultado del test: 21.38 CVRMSE\n",
      "Resultado del test: 17.58 MAPE\n"
     ]
    }
   ],
   "source": [
    "# calculamos las metricas de error\n",
    "trainScore_MAE, trainScore_MSE, trainScore_RMSE, trainScore_CVRMSE, trainScore_MAPE  =  compute_metrics_fn(trainY_scalerInverse, trainPredict)\n",
    "print('Resultado del entrenamiento: %.2f MAE' % (trainScore_MAE))\n",
    "print('Resultado del entrenamiento: %.2f MSE' % (trainScore_MSE))\n",
    "print('Resultado del entrenamiento: %.2f RMSE' % (trainScore_RMSE))\n",
    "print('Resultado del entrenamiento: %.2f CVRMSE' % (trainScore_CVRMSE))\n",
    "print('Resultado del entrenamiento: %.2f MAPE \\n' % (trainScore_MAPE))\n",
    "\n",
    "testScore_MAE, testScore_MSE, testScore_RMSE, testScore_CVRMSE, testScore_MAPE  =  compute_metrics_fn(testY_scalerInverse, testPredict)\n",
    "print('Resultado del test: %.2f MAE' % (testScore_MAE))\n",
    "print('Resultado del test: %.2f MSE' % (testScore_MSE))\n",
    "print('Resultado del test: %.2f RMSE' % (testScore_RMSE))\n",
    "print('Resultado del test: %.2f CVRMSE' % (testScore_CVRMSE))\n",
    "print('Resultado del test: %.2f MAPE' % (testScore_MAPE))"
   ]
  },
  {
   "cell_type": "code",
   "execution_count": 30,
   "metadata": {},
   "outputs": [
    {
     "data": {
      "image/png": "[encoded data removed]",
      "text/plain": [
       "<Figure size 432x288 with 1 Axes>"
      ]
     },
     "metadata": {
      "needs_background": "light"
     },
     "output_type": "display_data"
    }
   ],
   "source": [
    "plt.plot(df_ine.values)\n",
    "plt.grid(True)\n",
    "plt.title(\"Viajes totales según el INE\", fontsize = 15)\n",
    "plt.xlabel(\"Tiempo (dias)\", fontsize = 10)\n",
    "plt.ylabel(\"viajes\", fontsize = 10)\n",
    "plt.show()"
   ]
  },
  {
   "cell_type": "code",
   "execution_count": 31,
   "metadata": {},
   "outputs": [
    {
     "data": {
      "image/png": "[encoded data removed]",
      "text/plain": [
       "<Figure size 432x288 with 1 Axes>"
      ]
     },
     "metadata": {
      "needs_background": "light"
     },
     "output_type": "display_data"
    }
   ],
   "source": [
    "plt.plot(df_twt.values)\n",
    "plt.grid(True)\n",
    "plt.title(\"Viajes totales según TWT\", fontsize = 15)\n",
    "plt.xlabel(\"Tiempo (dias)\", fontsize = 10)\n",
    "plt.ylabel(\"viajes\", fontsize = 10)\n",
    "plt.show()"
   ]
  },
  {
   "cell_type": "code",
   "execution_count": 32,
   "metadata": {},
   "outputs": [
    {
     "data": {
      "image/png": "[encoded data removed]",
      "text/plain": [
       "<Figure size 432x288 with 1 Axes>"
      ]
     },
     "metadata": {
      "needs_background": "light"
     },
     "output_type": "display_data"
    }
   ],
   "source": [
    "dataset = df_ine.values\n",
    "dataset = dataset.astype('float32')\n",
    "# predicciones del entrenamiento de cambio para plotear\n",
    "trainPredictPlot = np.empty_like(dataset)\n",
    "trainPredictPlot[:, :] = np.nan\n",
    "trainPredictPlot[look_back:len(trainPredict)+look_back, :] = trainPredict\n",
    "# predicciones del test de cambio para plotear\n",
    "testPredictPlot = np.empty_like(dataset)\n",
    "testPredictPlot[:, :] = np.nan\n",
    "testPredictPlot[len(trainPredict)+(look_back):len(dataset), :] = testPredict\n",
    "# plot baseline and predictions\n",
    "plt.plot(df_ine.values)\n",
    "# ploteamos linea base y predicciones\n",
    "plt.plot(trainPredictPlot,'r', linewidth = 2)\n",
    "plt.plot(testPredictPlot,'m', linewidth = 2)\n",
    "plt.legend( ('Datos', 'Prediccion datos entramiento', 'Prediccion sobre los datos de test'), loc = 'upper left')\n",
    "plt.grid(True)\n",
    "plt.title(\"Viajes totales\", fontsize = 15)\n",
    "plt.xlabel(\"Tiempo (dias)\", fontsize = 10)\n",
    "plt.ylabel(\"viajes\", fontsize = 10)\n",
    "plt.show()"
   ]
  },
  {
   "cell_type": "code",
   "execution_count": 33,
   "metadata": {},
   "outputs": [
    {
     "data": {
      "image/png": "[encoded data removed]",
      "text/plain": [
       "<Figure size 432x288 with 1 Axes>"
      ]
     },
     "metadata": {
      "needs_background": "light"
     },
     "output_type": "display_data"
    }
   ],
   "source": [
    "results=model.predict(x_val)\n",
    "\n",
    "plt.scatter(range(len(y_val)),y_val,c='g')\n",
    "plt.scatter(range(len(results)),results,c='r')\n",
    "plt.title('validate')\n",
    "plt.show()"
   ]
  },
  {
   "cell_type": "code",
   "execution_count": 34,
   "metadata": {},
   "outputs": [
    {
     "data": {
      "image/png": "[encoded data removed]",
      "text/plain": [
       "<Figure size 432x288 with 1 Axes>"
      ]
     },
     "metadata": {
      "needs_background": "light"
     },
     "output_type": "display_data"
    }
   ],
   "source": [
    "plt.plot(history.history['loss'])\n",
    "plt.plot(history.history['val_loss'])\n",
    "plt.title('loss')\n",
    "plt.legend( ('training loss', 'validate loss'), loc = 'upper right')\n",
    "plt.show()"
   ]
  },
  {
   "cell_type": "markdown",
   "metadata": {},
   "source": [
    "# Prediccion a futuro"
   ]
  },
  {
   "cell_type": "code",
   "execution_count": 35,
   "metadata": {},
   "outputs": [
    {
     "data": {
      "text/html": [
       "<div>\n",
       "<style scoped>\n",
       "    .dataframe tbody tr th:only-of-type {\n",
       "        vertical-align: middle;\n",
       "    }\n",
       "\n",
       "    .dataframe tbody tr th {\n",
       "        vertical-align: top;\n",
       "    }\n",
       "\n",
       "    .dataframe thead th {\n",
       "        text-align: right;\n",
       "    }\n",
       "</style>\n",
       "<table border=\"1\" class=\"dataframe\">\n",
       "  <thead>\n",
       "    <tr style=\"text-align: right;\">\n",
       "      <th></th>\n",
       "      <th>Viajes</th>\n",
       "    </tr>\n",
       "  </thead>\n",
       "  <tbody>\n",
       "    <tr>\n",
       "      <th>2020-06-07</th>\n",
       "      <td>2</td>\n",
       "    </tr>\n",
       "    <tr>\n",
       "      <th>2020-06-08</th>\n",
       "      <td>0</td>\n",
       "    </tr>\n",
       "    <tr>\n",
       "      <th>2020-06-09</th>\n",
       "      <td>2</td>\n",
       "    </tr>\n",
       "    <tr>\n",
       "      <th>2020-06-10</th>\n",
       "      <td>0</td>\n",
       "    </tr>\n",
       "    <tr>\n",
       "      <th>2020-06-11</th>\n",
       "      <td>0</td>\n",
       "    </tr>\n",
       "    <tr>\n",
       "      <th>2020-06-12</th>\n",
       "      <td>2</td>\n",
       "    </tr>\n",
       "    <tr>\n",
       "      <th>2020-06-13</th>\n",
       "      <td>0</td>\n",
       "    </tr>\n",
       "    <tr>\n",
       "      <th>2020-06-14</th>\n",
       "      <td>0</td>\n",
       "    </tr>\n",
       "    <tr>\n",
       "      <th>2020-06-15</th>\n",
       "      <td>0</td>\n",
       "    </tr>\n",
       "    <tr>\n",
       "      <th>2020-06-16</th>\n",
       "      <td>0</td>\n",
       "    </tr>\n",
       "    <tr>\n",
       "      <th>2020-06-17</th>\n",
       "      <td>3</td>\n",
       "    </tr>\n",
       "    <tr>\n",
       "      <th>2020-06-18</th>\n",
       "      <td>1</td>\n",
       "    </tr>\n",
       "    <tr>\n",
       "      <th>2020-06-19</th>\n",
       "      <td>0</td>\n",
       "    </tr>\n",
       "    <tr>\n",
       "      <th>2020-06-20</th>\n",
       "      <td>0</td>\n",
       "    </tr>\n",
       "  </tbody>\n",
       "</table>\n",
       "</div>"
      ],
      "text/plain": [
       "            Viajes\n",
       "2020-06-07       2\n",
       "2020-06-08       0\n",
       "2020-06-09       2\n",
       "2020-06-10       0\n",
       "2020-06-11       0\n",
       "2020-06-12       2\n",
       "2020-06-13       0\n",
       "2020-06-14       0\n",
       "2020-06-15       0\n",
       "2020-06-16       0\n",
       "2020-06-17       3\n",
       "2020-06-18       1\n",
       "2020-06-19       0\n",
       "2020-06-20       0"
      ]
     },
     "execution_count": 35,
     "metadata": {},
     "output_type": "execute_result"
    }
   ],
   "source": [
    "# usaremos los 14 ultimos dias del confinamiento en junio para predecir como habrian sido los dias del 21 al 27 en caso de que\n",
    "# el confinamiento se hubiese alargado por una semana mas\n",
    "\n",
    "ultimosDias_twt = df_twt['2020-6-7':'2020-6-20']\n",
    "ultimosDias_ine = df_ine['2020-6-7':'2020-6-20']\n",
    "ultimosDias_twt"
   ]
  },
  {
   "cell_type": "markdown",
   "metadata": {},
   "source": [
    "# Preparamos los datos para el test"
   ]
  },
  {
   "cell_type": "code",
   "execution_count": 36,
   "metadata": {},
   "outputs": [
    {
     "data": {
      "text/html": [
       "<div>\n",
       "<style scoped>\n",
       "    .dataframe tbody tr th:only-of-type {\n",
       "        vertical-align: middle;\n",
       "    }\n",
       "\n",
       "    .dataframe tbody tr th {\n",
       "        vertical-align: top;\n",
       "    }\n",
       "\n",
       "    .dataframe thead th {\n",
       "        text-align: right;\n",
       "    }\n",
       "</style>\n",
       "<table border=\"1\" class=\"dataframe\">\n",
       "  <thead>\n",
       "    <tr style=\"text-align: right;\">\n",
       "      <th></th>\n",
       "      <th>var1(t-7)</th>\n",
       "      <th>var2(t-7)</th>\n",
       "      <th>var1(t-6)</th>\n",
       "      <th>var2(t-6)</th>\n",
       "      <th>var1(t-5)</th>\n",
       "      <th>var2(t-5)</th>\n",
       "      <th>var1(t-4)</th>\n",
       "      <th>var2(t-4)</th>\n",
       "      <th>var1(t-3)</th>\n",
       "      <th>var2(t-3)</th>\n",
       "      <th>var1(t-2)</th>\n",
       "      <th>var2(t-2)</th>\n",
       "      <th>var1(t-1)</th>\n",
       "      <th>var2(t-1)</th>\n",
       "    </tr>\n",
       "  </thead>\n",
       "  <tbody>\n",
       "    <tr>\n",
       "      <th>7</th>\n",
       "      <td>0.333333</td>\n",
       "      <td>-1.000000</td>\n",
       "      <td>-1.000000</td>\n",
       "      <td>-0.896996</td>\n",
       "      <td>0.333333</td>\n",
       "      <td>-0.725322</td>\n",
       "      <td>-1.000000</td>\n",
       "      <td>-0.442060</td>\n",
       "      <td>-1.000000</td>\n",
       "      <td>-0.330472</td>\n",
       "      <td>0.333333</td>\n",
       "      <td>-0.725322</td>\n",
       "      <td>-1.000000</td>\n",
       "      <td>-0.871245</td>\n",
       "    </tr>\n",
       "    <tr>\n",
       "      <th>8</th>\n",
       "      <td>-1.000000</td>\n",
       "      <td>-0.896996</td>\n",
       "      <td>0.333333</td>\n",
       "      <td>-0.725322</td>\n",
       "      <td>-1.000000</td>\n",
       "      <td>-0.442060</td>\n",
       "      <td>-1.000000</td>\n",
       "      <td>-0.330472</td>\n",
       "      <td>0.333333</td>\n",
       "      <td>-0.725322</td>\n",
       "      <td>-1.000000</td>\n",
       "      <td>-0.871245</td>\n",
       "      <td>-1.000000</td>\n",
       "      <td>-1.000000</td>\n",
       "    </tr>\n",
       "    <tr>\n",
       "      <th>9</th>\n",
       "      <td>0.333333</td>\n",
       "      <td>-0.725322</td>\n",
       "      <td>-1.000000</td>\n",
       "      <td>-0.442060</td>\n",
       "      <td>-1.000000</td>\n",
       "      <td>-0.330472</td>\n",
       "      <td>0.333333</td>\n",
       "      <td>-0.725322</td>\n",
       "      <td>-1.000000</td>\n",
       "      <td>-0.871245</td>\n",
       "      <td>-1.000000</td>\n",
       "      <td>-1.000000</td>\n",
       "      <td>-1.000000</td>\n",
       "      <td>1.000000</td>\n",
       "    </tr>\n",
       "    <tr>\n",
       "      <th>10</th>\n",
       "      <td>-1.000000</td>\n",
       "      <td>-0.442060</td>\n",
       "      <td>-1.000000</td>\n",
       "      <td>-0.330472</td>\n",
       "      <td>0.333333</td>\n",
       "      <td>-0.725322</td>\n",
       "      <td>-1.000000</td>\n",
       "      <td>-0.871245</td>\n",
       "      <td>-1.000000</td>\n",
       "      <td>-1.000000</td>\n",
       "      <td>-1.000000</td>\n",
       "      <td>1.000000</td>\n",
       "      <td>-1.000000</td>\n",
       "      <td>-0.253219</td>\n",
       "    </tr>\n",
       "    <tr>\n",
       "      <th>11</th>\n",
       "      <td>-1.000000</td>\n",
       "      <td>-0.330472</td>\n",
       "      <td>0.333333</td>\n",
       "      <td>-0.725322</td>\n",
       "      <td>-1.000000</td>\n",
       "      <td>-0.871245</td>\n",
       "      <td>-1.000000</td>\n",
       "      <td>-1.000000</td>\n",
       "      <td>-1.000000</td>\n",
       "      <td>1.000000</td>\n",
       "      <td>-1.000000</td>\n",
       "      <td>-0.253219</td>\n",
       "      <td>1.000000</td>\n",
       "      <td>-0.381974</td>\n",
       "    </tr>\n",
       "    <tr>\n",
       "      <th>12</th>\n",
       "      <td>0.333333</td>\n",
       "      <td>-0.725322</td>\n",
       "      <td>-1.000000</td>\n",
       "      <td>-0.871245</td>\n",
       "      <td>-1.000000</td>\n",
       "      <td>-1.000000</td>\n",
       "      <td>-1.000000</td>\n",
       "      <td>1.000000</td>\n",
       "      <td>-1.000000</td>\n",
       "      <td>-0.253219</td>\n",
       "      <td>1.000000</td>\n",
       "      <td>-0.381974</td>\n",
       "      <td>-0.333333</td>\n",
       "      <td>-0.416309</td>\n",
       "    </tr>\n",
       "    <tr>\n",
       "      <th>13</th>\n",
       "      <td>-1.000000</td>\n",
       "      <td>-0.871245</td>\n",
       "      <td>-1.000000</td>\n",
       "      <td>-1.000000</td>\n",
       "      <td>-1.000000</td>\n",
       "      <td>1.000000</td>\n",
       "      <td>-1.000000</td>\n",
       "      <td>-0.253219</td>\n",
       "      <td>1.000000</td>\n",
       "      <td>-0.381974</td>\n",
       "      <td>-0.333333</td>\n",
       "      <td>-0.416309</td>\n",
       "      <td>-1.000000</td>\n",
       "      <td>0.373391</td>\n",
       "    </tr>\n",
       "  </tbody>\n",
       "</table>\n",
       "</div>"
      ],
      "text/plain": [
       "    var1(t-7)  var2(t-7)  var1(t-6)  var2(t-6)  var1(t-5)  var2(t-5)  \\\n",
       "7    0.333333  -1.000000  -1.000000  -0.896996   0.333333  -0.725322   \n",
       "8   -1.000000  -0.896996   0.333333  -0.725322  -1.000000  -0.442060   \n",
       "9    0.333333  -0.725322  -1.000000  -0.442060  -1.000000  -0.330472   \n",
       "10  -1.000000  -0.442060  -1.000000  -0.330472   0.333333  -0.725322   \n",
       "11  -1.000000  -0.330472   0.333333  -0.725322  -1.000000  -0.871245   \n",
       "12   0.333333  -0.725322  -1.000000  -0.871245  -1.000000  -1.000000   \n",
       "13  -1.000000  -0.871245  -1.000000  -1.000000  -1.000000   1.000000   \n",
       "\n",
       "    var1(t-4)  var2(t-4)  var1(t-3)  var2(t-3)  var1(t-2)  var2(t-2)  \\\n",
       "7   -1.000000  -0.442060  -1.000000  -0.330472   0.333333  -0.725322   \n",
       "8   -1.000000  -0.330472   0.333333  -0.725322  -1.000000  -0.871245   \n",
       "9    0.333333  -0.725322  -1.000000  -0.871245  -1.000000  -1.000000   \n",
       "10  -1.000000  -0.871245  -1.000000  -1.000000  -1.000000   1.000000   \n",
       "11  -1.000000  -1.000000  -1.000000   1.000000  -1.000000  -0.253219   \n",
       "12  -1.000000   1.000000  -1.000000  -0.253219   1.000000  -0.381974   \n",
       "13  -1.000000  -0.253219   1.000000  -0.381974  -0.333333  -0.416309   \n",
       "\n",
       "    var1(t-1)  var2(t-1)  \n",
       "7   -1.000000  -0.871245  \n",
       "8   -1.000000  -1.000000  \n",
       "9   -1.000000   1.000000  \n",
       "10  -1.000000  -0.253219  \n",
       "11   1.000000  -0.381974  \n",
       "12  -0.333333  -0.416309  \n",
       "13  -1.000000   0.373391  "
      ]
     },
     "execution_count": 36,
     "metadata": {},
     "output_type": "execute_result"
    }
   ],
   "source": [
    "# cargamos el dataframe en la variable values\n",
    "values_twt = ultimosDias_twt.values\n",
    "values_ine = ultimosDias_ine.values\n",
    "\n",
    "# convertimos los enteros en floats\n",
    "values_twt = values_twt.astype('float32')\n",
    "values_ine = values_ine.astype('float32')\n",
    "\n",
    "# normalizamos los datos a escala de entre -1 y 1\n",
    "values_twt =values_twt.reshape(-1, 1)\n",
    "scaled_twt = scaler.fit_transform(values_twt)\n",
    "values_ine =values_ine.reshape(-1, 1) # esto lo hacemos porque tenemos 1 sola dimension\n",
    "scaled_ine = scaler.fit_transform(values_ine)\n",
    "\n",
    "# usamos la funcion definida previamente\n",
    "reframed_twt = series_to_supervised(scaled_twt, look_back, 1)\n",
    "reframed_ine = series_to_supervised(scaled_ine, look_back, 1)\n",
    "\n",
    "# eliminamos la ultima columna pues es parte de lo que queremos hayar\n",
    "reframed_twt.drop(reframed_twt.columns[[7]], inplace=True, axis=1)\n",
    "reframed_ine.drop(reframed_ine.columns[[7]], inplace=True, axis=1)\n",
    "\n",
    "#unimos los dataframes\n",
    "reframed_ine.columns = ['var2(t-7)', 'var2(t-6)', 'var2(t-5)', 'var2(t-4)', 'var2(t-3)', 'var2(t-2)', 'var2(t-1)']\n",
    "reframed = pd.concat([reframed_twt.iloc[:, 0], reframed_ine.iloc[:, 0]], axis=1)\n",
    "\n",
    "for i in range(6):\n",
    "    reframed = pd.concat([reframed, reframed_twt.iloc[:, i+1]], axis=1)\n",
    "    reframed = pd.concat([reframed, reframed_ine.iloc[:, i+1]], axis=1)\n",
    "\n",
    "#mostramos el set de entrenamiento\n",
    "reframed.head(7)"
   ]
  },
  {
   "cell_type": "code",
   "execution_count": 37,
   "metadata": {},
   "outputs": [
    {
     "name": "stdout",
     "output_type": "stream",
     "text": [
      "(1, 1, 14)\n"
     ]
    },
    {
     "data": {
      "text/plain": [
       "array([[[-1.        , -0.87124467, -1.        , -1.        ,\n",
       "         -1.        ,  1.        , -1.        , -0.25321865,\n",
       "          1.        , -0.38197422, -0.3333333 , -0.41630888,\n",
       "         -1.        ,  0.37339067]]], dtype=float32)"
      ]
     },
     "execution_count": 37,
     "metadata": {},
     "output_type": "execute_result"
    }
   ],
   "source": [
    "values = reframed.values\n",
    "\n",
    "#tomamos los valores para realizar el test\n",
    "x_test = values[6:, :]\n",
    "\n",
    "# reshape input to be 3D [samples, timesteps, features] - preguntar\n",
    "x_test = x_test.reshape((x_test.shape[0], 1, x_test.shape[1]))\n",
    "print(x_test.shape)\n",
    "x_test"
   ]
  },
  {
   "cell_type": "code",
   "execution_count": 38,
   "metadata": {},
   "outputs": [],
   "source": [
    "#definimos la funcion para realizar el desplazamiento que se hara en el array cada prediccion pues para hacer\n",
    "#la siguiente prediccion eliminamos el dia mas antiguo, desplazamos un lugar el resto de dias y añadimos el ultimo dia que\n",
    "#se ha predecido, esto es por que para predecir un dia se usan los 7 dias previos\n",
    "\n",
    "def agregarNuevoValor(x_test,nuevoValor):\n",
    "    for i in range(x_test.shape[2]-1):\n",
    "        x_test[0][0][i] = x_test[0][0][i+1]\n",
    "    x_test[0][0][x_test.shape[2]-1]=nuevoValor\n",
    "    return x_test"
   ]
  },
  {
   "cell_type": "markdown",
   "metadata": {},
   "source": [
    "# Predicciones para la proxima semana"
   ]
  },
  {
   "cell_type": "code",
   "execution_count": 39,
   "metadata": {},
   "outputs": [
    {
     "name": "stdout",
     "output_type": "stream",
     "text": [
      "[[[-1.         -0.87124467 -1.         -1.         -1.\n",
      "    1.         -1.         -0.25321865  1.         -0.38197422\n",
      "   -0.3333333  -0.41630888 -1.          0.37339067]]]\n",
      "[[[-0.87124467 -1.         -1.         -1.          1.\n",
      "   -1.         -0.25321865  1.         -0.38197422 -0.3333333\n",
      "   -0.41630888 -1.          0.37339067  0.6709192 ]]]\n",
      "[[[-1.         -1.         -1.          1.         -1.\n",
      "   -0.25321865  1.         -0.38197422 -0.3333333  -0.41630888\n",
      "   -1.          0.37339067  0.6709192   0.21600306]]]\n",
      "[[[-1.         -1.          1.         -1.         -0.25321865\n",
      "    1.         -0.38197422 -0.3333333  -0.41630888 -1.\n",
      "    0.37339067  0.6709192   0.21600306  0.3481607 ]]]\n",
      "[[[-1.          1.         -1.         -0.25321865  1.\n",
      "   -0.38197422 -0.3333333  -0.41630888 -1.          0.37339067\n",
      "    0.6709192   0.21600306  0.3481607   0.18518695]]]\n",
      "[[[ 1.         -1.         -0.25321865  1.         -0.38197422\n",
      "   -0.3333333  -0.41630888 -1.          0.37339067  0.6709192\n",
      "    0.21600306  0.3481607   0.18518695  0.5270076 ]]]\n",
      "[[[-1.         -0.25321865  1.         -0.38197422 -0.3333333\n",
      "   -0.41630888 -1.          0.37339067  0.6709192   0.21600306\n",
      "    0.3481607   0.18518695  0.5270076  -0.4963365 ]]]\n"
     ]
    }
   ],
   "source": [
    "results=[]\n",
    "for i in range(7):\n",
    "    parcial=model.predict(x_test)\n",
    "    results.append(parcial[0])\n",
    "    print(x_test)\n",
    "    x_test=agregarNuevoValor(x_test,parcial[0])"
   ]
  },
  {
   "cell_type": "markdown",
   "metadata": {},
   "source": [
    "# Re-Convertimos los resultados"
   ]
  },
  {
   "cell_type": "code",
   "execution_count": 40,
   "metadata": {},
   "outputs": [
    {
     "name": "stdout",
     "output_type": "stream",
     "text": [
      "[array([0.6709192], dtype=float32), array([0.21600306], dtype=float32), array([0.3481607], dtype=float32), array([0.18518695], dtype=float32), array([0.5270076], dtype=float32), array([-0.4963365], dtype=float32), array([-0.1600517], dtype=float32)]\n"
     ]
    },
    {
     "data": {
      "text/plain": [
       "array([[575.66208005],\n",
       "       [522.66435202],\n",
       "       [538.06071869],\n",
       "       [519.07427543],\n",
       "       [558.8963786 ],\n",
       "       [439.67679426],\n",
       "       [478.85397196]])"
      ]
     },
     "execution_count": 40,
     "metadata": {},
     "output_type": "execute_result"
    }
   ],
   "source": [
    "adimen = [x for x in results]    \n",
    "print(adimen)\n",
    "inverted = scaler.inverse_transform(adimen)\n",
    "inverted"
   ]
  },
  {
   "cell_type": "markdown",
   "metadata": {},
   "source": [
    "# Visualizamos el pronostico"
   ]
  },
  {
   "cell_type": "code",
   "execution_count": 41,
   "metadata": {},
   "outputs": [
    {
     "data": {
      "text/plain": [
       "<AxesSubplot:>"
      ]
     },
     "execution_count": 41,
     "metadata": {},
     "output_type": "execute_result"
    },
    {
     "data": {
      "image/png": "[encoded data removed]",
      "text/plain": [
       "<Figure size 432x288 with 1 Axes>"
      ]
     },
     "metadata": {
      "needs_background": "light"
     },
     "output_type": "display_data"
    }
   ],
   "source": [
    "prediccion = pd.DataFrame(inverted)\n",
    "prediccion.columns = ['pronostico']\n",
    "prediccion.plot()"
   ]
  },
  {
   "cell_type": "markdown",
   "metadata": {},
   "source": [
    "# Prediccion con datos actuales"
   ]
  },
  {
   "cell_type": "code",
   "execution_count": 42,
   "metadata": {
    "scrolled": true
   },
   "outputs": [
    {
     "data": {
      "text/html": [
       "<div>\n",
       "<style scoped>\n",
       "    .dataframe tbody tr th:only-of-type {\n",
       "        vertical-align: middle;\n",
       "    }\n",
       "\n",
       "    .dataframe tbody tr th {\n",
       "        vertical-align: top;\n",
       "    }\n",
       "\n",
       "    .dataframe thead th {\n",
       "        text-align: right;\n",
       "    }\n",
       "</style>\n",
       "<table border=\"1\" class=\"dataframe\">\n",
       "  <thead>\n",
       "    <tr style=\"text-align: right;\">\n",
       "      <th></th>\n",
       "      <th>Viajes</th>\n",
       "    </tr>\n",
       "  </thead>\n",
       "  <tbody>\n",
       "    <tr>\n",
       "      <th>2020-05-11</th>\n",
       "      <td>0</td>\n",
       "    </tr>\n",
       "    <tr>\n",
       "      <th>2020-05-12</th>\n",
       "      <td>0</td>\n",
       "    </tr>\n",
       "    <tr>\n",
       "      <th>2020-05-13</th>\n",
       "      <td>0</td>\n",
       "    </tr>\n",
       "    <tr>\n",
       "      <th>2020-05-14</th>\n",
       "      <td>0</td>\n",
       "    </tr>\n",
       "    <tr>\n",
       "      <th>2020-05-15</th>\n",
       "      <td>0</td>\n",
       "    </tr>\n",
       "    <tr>\n",
       "      <th>2020-05-16</th>\n",
       "      <td>0</td>\n",
       "    </tr>\n",
       "    <tr>\n",
       "      <th>2020-05-17</th>\n",
       "      <td>0</td>\n",
       "    </tr>\n",
       "    <tr>\n",
       "      <th>2020-05-18</th>\n",
       "      <td>0</td>\n",
       "    </tr>\n",
       "    <tr>\n",
       "      <th>2020-05-19</th>\n",
       "      <td>0</td>\n",
       "    </tr>\n",
       "    <tr>\n",
       "      <th>2020-05-20</th>\n",
       "      <td>0</td>\n",
       "    </tr>\n",
       "    <tr>\n",
       "      <th>2020-05-21</th>\n",
       "      <td>0</td>\n",
       "    </tr>\n",
       "    <tr>\n",
       "      <th>2020-05-22</th>\n",
       "      <td>0</td>\n",
       "    </tr>\n",
       "    <tr>\n",
       "      <th>2020-05-23</th>\n",
       "      <td>0</td>\n",
       "    </tr>\n",
       "    <tr>\n",
       "      <th>2020-05-24</th>\n",
       "      <td>1</td>\n",
       "    </tr>\n",
       "  </tbody>\n",
       "</table>\n",
       "</div>"
      ],
      "text/plain": [
       "            Viajes\n",
       "2020-05-11       0\n",
       "2020-05-12       0\n",
       "2020-05-13       0\n",
       "2020-05-14       0\n",
       "2020-05-15       0\n",
       "2020-05-16       0\n",
       "2020-05-17       0\n",
       "2020-05-18       0\n",
       "2020-05-19       0\n",
       "2020-05-20       0\n",
       "2020-05-21       0\n",
       "2020-05-22       0\n",
       "2020-05-23       0\n",
       "2020-05-24       1"
      ]
     },
     "execution_count": 42,
     "metadata": {},
     "output_type": "execute_result"
    }
   ],
   "source": [
    "# usaremos 14 dias que poseemos para predecir los 7 dias siguientes tras esto compararemos los resultados con los que\n",
    "# poseemos para ver el grado de error\n",
    "\n",
    "Dias_twt = df_twt['2020-5-11':'2020-5-24']\n",
    "Dias_ine = df_ine['2020-5-11':'2020-5-24']\n",
    "Dias_twt"
   ]
  },
  {
   "cell_type": "markdown",
   "metadata": {},
   "source": [
    "# Preparamos los datos para el test"
   ]
  },
  {
   "cell_type": "code",
   "execution_count": 43,
   "metadata": {},
   "outputs": [
    {
     "data": {
      "text/html": [
       "<div>\n",
       "<style scoped>\n",
       "    .dataframe tbody tr th:only-of-type {\n",
       "        vertical-align: middle;\n",
       "    }\n",
       "\n",
       "    .dataframe tbody tr th {\n",
       "        vertical-align: top;\n",
       "    }\n",
       "\n",
       "    .dataframe thead th {\n",
       "        text-align: right;\n",
       "    }\n",
       "</style>\n",
       "<table border=\"1\" class=\"dataframe\">\n",
       "  <thead>\n",
       "    <tr style=\"text-align: right;\">\n",
       "      <th></th>\n",
       "      <th>var1(t-7)</th>\n",
       "      <th>var2(t-7)</th>\n",
       "      <th>var1(t-6)</th>\n",
       "      <th>var2(t-6)</th>\n",
       "      <th>var1(t-5)</th>\n",
       "      <th>var2(t-5)</th>\n",
       "      <th>var1(t-4)</th>\n",
       "      <th>var2(t-4)</th>\n",
       "      <th>var1(t-3)</th>\n",
       "      <th>var2(t-3)</th>\n",
       "      <th>var1(t-2)</th>\n",
       "      <th>var2(t-2)</th>\n",
       "      <th>var1(t-1)</th>\n",
       "      <th>var2(t-1)</th>\n",
       "    </tr>\n",
       "  </thead>\n",
       "  <tbody>\n",
       "    <tr>\n",
       "      <th>7</th>\n",
       "      <td>-1.0</td>\n",
       "      <td>-0.162562</td>\n",
       "      <td>-1.0</td>\n",
       "      <td>-0.103448</td>\n",
       "      <td>-1.0</td>\n",
       "      <td>0.783251</td>\n",
       "      <td>-1.0</td>\n",
       "      <td>-0.093596</td>\n",
       "      <td>-1.0</td>\n",
       "      <td>-0.290641</td>\n",
       "      <td>-1.0</td>\n",
       "      <td>-0.024631</td>\n",
       "      <td>-1.0</td>\n",
       "      <td>-1.000000</td>\n",
       "    </tr>\n",
       "    <tr>\n",
       "      <th>8</th>\n",
       "      <td>-1.0</td>\n",
       "      <td>-0.103448</td>\n",
       "      <td>-1.0</td>\n",
       "      <td>0.783251</td>\n",
       "      <td>-1.0</td>\n",
       "      <td>-0.093596</td>\n",
       "      <td>-1.0</td>\n",
       "      <td>-0.290641</td>\n",
       "      <td>-1.0</td>\n",
       "      <td>-0.024631</td>\n",
       "      <td>-1.0</td>\n",
       "      <td>-1.000000</td>\n",
       "      <td>-1.0</td>\n",
       "      <td>0.073892</td>\n",
       "    </tr>\n",
       "    <tr>\n",
       "      <th>9</th>\n",
       "      <td>-1.0</td>\n",
       "      <td>0.783251</td>\n",
       "      <td>-1.0</td>\n",
       "      <td>-0.093596</td>\n",
       "      <td>-1.0</td>\n",
       "      <td>-0.290641</td>\n",
       "      <td>-1.0</td>\n",
       "      <td>-0.024631</td>\n",
       "      <td>-1.0</td>\n",
       "      <td>-1.000000</td>\n",
       "      <td>-1.0</td>\n",
       "      <td>0.073892</td>\n",
       "      <td>-1.0</td>\n",
       "      <td>-0.024631</td>\n",
       "    </tr>\n",
       "    <tr>\n",
       "      <th>10</th>\n",
       "      <td>-1.0</td>\n",
       "      <td>-0.093596</td>\n",
       "      <td>-1.0</td>\n",
       "      <td>-0.290641</td>\n",
       "      <td>-1.0</td>\n",
       "      <td>-0.024631</td>\n",
       "      <td>-1.0</td>\n",
       "      <td>-1.000000</td>\n",
       "      <td>-1.0</td>\n",
       "      <td>0.073892</td>\n",
       "      <td>-1.0</td>\n",
       "      <td>-0.024631</td>\n",
       "      <td>-1.0</td>\n",
       "      <td>0.290640</td>\n",
       "    </tr>\n",
       "    <tr>\n",
       "      <th>11</th>\n",
       "      <td>-1.0</td>\n",
       "      <td>-0.290641</td>\n",
       "      <td>-1.0</td>\n",
       "      <td>-0.024631</td>\n",
       "      <td>-1.0</td>\n",
       "      <td>-1.000000</td>\n",
       "      <td>-1.0</td>\n",
       "      <td>0.073892</td>\n",
       "      <td>-1.0</td>\n",
       "      <td>-0.024631</td>\n",
       "      <td>-1.0</td>\n",
       "      <td>0.290640</td>\n",
       "      <td>-1.0</td>\n",
       "      <td>0.172414</td>\n",
       "    </tr>\n",
       "    <tr>\n",
       "      <th>12</th>\n",
       "      <td>-1.0</td>\n",
       "      <td>-0.024631</td>\n",
       "      <td>-1.0</td>\n",
       "      <td>-1.000000</td>\n",
       "      <td>-1.0</td>\n",
       "      <td>0.073892</td>\n",
       "      <td>-1.0</td>\n",
       "      <td>-0.024631</td>\n",
       "      <td>-1.0</td>\n",
       "      <td>0.290640</td>\n",
       "      <td>-1.0</td>\n",
       "      <td>0.172414</td>\n",
       "      <td>-1.0</td>\n",
       "      <td>-0.044335</td>\n",
       "    </tr>\n",
       "    <tr>\n",
       "      <th>13</th>\n",
       "      <td>-1.0</td>\n",
       "      <td>-1.000000</td>\n",
       "      <td>-1.0</td>\n",
       "      <td>0.073892</td>\n",
       "      <td>-1.0</td>\n",
       "      <td>-0.024631</td>\n",
       "      <td>-1.0</td>\n",
       "      <td>0.290640</td>\n",
       "      <td>-1.0</td>\n",
       "      <td>0.172414</td>\n",
       "      <td>-1.0</td>\n",
       "      <td>-0.044335</td>\n",
       "      <td>-1.0</td>\n",
       "      <td>1.000000</td>\n",
       "    </tr>\n",
       "  </tbody>\n",
       "</table>\n",
       "</div>"
      ],
      "text/plain": [
       "    var1(t-7)  var2(t-7)  var1(t-6)  var2(t-6)  var1(t-5)  var2(t-5)  \\\n",
       "7        -1.0  -0.162562       -1.0  -0.103448       -1.0   0.783251   \n",
       "8        -1.0  -0.103448       -1.0   0.783251       -1.0  -0.093596   \n",
       "9        -1.0   0.783251       -1.0  -0.093596       -1.0  -0.290641   \n",
       "10       -1.0  -0.093596       -1.0  -0.290641       -1.0  -0.024631   \n",
       "11       -1.0  -0.290641       -1.0  -0.024631       -1.0  -1.000000   \n",
       "12       -1.0  -0.024631       -1.0  -1.000000       -1.0   0.073892   \n",
       "13       -1.0  -1.000000       -1.0   0.073892       -1.0  -0.024631   \n",
       "\n",
       "    var1(t-4)  var2(t-4)  var1(t-3)  var2(t-3)  var1(t-2)  var2(t-2)  \\\n",
       "7        -1.0  -0.093596       -1.0  -0.290641       -1.0  -0.024631   \n",
       "8        -1.0  -0.290641       -1.0  -0.024631       -1.0  -1.000000   \n",
       "9        -1.0  -0.024631       -1.0  -1.000000       -1.0   0.073892   \n",
       "10       -1.0  -1.000000       -1.0   0.073892       -1.0  -0.024631   \n",
       "11       -1.0   0.073892       -1.0  -0.024631       -1.0   0.290640   \n",
       "12       -1.0  -0.024631       -1.0   0.290640       -1.0   0.172414   \n",
       "13       -1.0   0.290640       -1.0   0.172414       -1.0  -0.044335   \n",
       "\n",
       "    var1(t-1)  var2(t-1)  \n",
       "7        -1.0  -1.000000  \n",
       "8        -1.0   0.073892  \n",
       "9        -1.0  -0.024631  \n",
       "10       -1.0   0.290640  \n",
       "11       -1.0   0.172414  \n",
       "12       -1.0  -0.044335  \n",
       "13       -1.0   1.000000  "
      ]
     },
     "execution_count": 43,
     "metadata": {},
     "output_type": "execute_result"
    }
   ],
   "source": [
    "# cargamos el dataframe en la variable values\n",
    "values_twt = Dias_twt.values\n",
    "values_ine = Dias_ine.values\n",
    "\n",
    "# convertimos los enteros en floats\n",
    "values_twt = values_twt.astype('float32')\n",
    "values_ine = values_ine.astype('float32')\n",
    "\n",
    "# normalizamos los datos a escala de entre -1 y 1\n",
    "values_twt =values_twt.reshape(-1, 1)\n",
    "scaled_twt = scaler.fit_transform(values_twt)\n",
    "values_ine =values_ine.reshape(-1, 1) # esto lo hacemos porque tenemos 1 sola dimension\n",
    "scaled_ine = scaler.fit_transform(values_ine)\n",
    "\n",
    "# usamos la funcion definida previamente\n",
    "reframed_twt = series_to_supervised(scaled_twt, look_back, 1)\n",
    "reframed_ine = series_to_supervised(scaled_ine, look_back, 1)\n",
    "\n",
    "# eliminamos la ultima columna pues es parte de lo que queremos hayar\n",
    "reframed_twt.drop(reframed_twt.columns[[7]], inplace=True, axis=1)\n",
    "reframed_ine.drop(reframed_ine.columns[[7]], inplace=True, axis=1)\n",
    "\n",
    "#unimos los dataframes\n",
    "reframed_ine.columns = ['var2(t-7)', 'var2(t-6)', 'var2(t-5)', 'var2(t-4)', 'var2(t-3)', 'var2(t-2)', 'var2(t-1)']\n",
    "reframed = pd.concat([reframed_twt.iloc[:, 0], reframed_ine.iloc[:, 0]], axis=1)\n",
    "\n",
    "for i in range(6):\n",
    "    reframed = pd.concat([reframed, reframed_twt.iloc[:, i+1]], axis=1)\n",
    "    reframed = pd.concat([reframed, reframed_ine.iloc[:, i+1]], axis=1)\n",
    "\n",
    "#mostramos el set de entrenamiento\n",
    "reframed.head(7)"
   ]
  },
  {
   "cell_type": "code",
   "execution_count": 44,
   "metadata": {},
   "outputs": [
    {
     "name": "stdout",
     "output_type": "stream",
     "text": [
      "(1, 1, 14)\n"
     ]
    },
    {
     "data": {
      "text/plain": [
       "array([[[-1.        , -1.        , -1.        ,  0.07389164,\n",
       "         -1.        , -0.02463055, -1.        ,  0.29064035,\n",
       "         -1.        ,  0.17241383, -1.        , -0.04433489,\n",
       "         -1.        ,  1.        ]]], dtype=float32)"
      ]
     },
     "execution_count": 44,
     "metadata": {},
     "output_type": "execute_result"
    }
   ],
   "source": [
    "values = reframed.values\n",
    "\n",
    "#tomamos los valores para realizar el test\n",
    "x_test = values[6:, :]\n",
    "\n",
    "# reshape input to be 3D [samples, timesteps, features] - preguntar\n",
    "x_test = x_test.reshape((x_test.shape[0], 1, x_test.shape[1]))\n",
    "print(x_test.shape)\n",
    "x_test"
   ]
  },
  {
   "cell_type": "code",
   "execution_count": 45,
   "metadata": {},
   "outputs": [],
   "source": [
    "#en la linea 24 definimos la funcion para realizar el desplazamiento que se hara en el array cada prediccion pues para hacer\n",
    "#la siguiente prediccion eliminamos el dia mas antiguo, desplazamos un lugar el resto de dias y añadimos el ultimo dia que\n",
    "#se ha predecido, esto es por que para predecir un dia se usan los 7 dias previos, y que usaremos a continuación"
   ]
  },
  {
   "cell_type": "markdown",
   "metadata": {},
   "source": [
    "# Realizamos la prediccion "
   ]
  },
  {
   "cell_type": "code",
   "execution_count": 46,
   "metadata": {},
   "outputs": [
    {
     "name": "stdout",
     "output_type": "stream",
     "text": [
      "[[[-1.         -1.         -1.          0.07389164 -1.\n",
      "   -0.02463055 -1.          0.29064035 -1.          0.17241383\n",
      "   -1.         -0.04433489 -1.          1.        ]]]\n",
      "[[[-1.         -1.          0.07389164 -1.         -0.02463055\n",
      "   -1.          0.29064035 -1.          0.17241383 -1.\n",
      "   -0.04433489 -1.          1.         -0.06835067]]]\n",
      "[[[-1.          0.07389164 -1.         -0.02463055 -1.\n",
      "    0.29064035 -1.          0.17241383 -1.         -0.04433489\n",
      "   -1.          1.         -0.06835067 -0.29182732]]]\n",
      "[[[ 0.07389164 -1.         -0.02463055 -1.          0.29064035\n",
      "   -1.          0.17241383 -1.         -0.04433489 -1.\n",
      "    1.         -0.06835067 -0.29182732  0.1362405 ]]]\n",
      "[[[-1.         -0.02463055 -1.          0.29064035 -1.\n",
      "    0.17241383 -1.         -0.04433489 -1.          1.\n",
      "   -0.06835067 -0.29182732  0.1362405  -0.3310056 ]]]\n",
      "[[[-0.02463055 -1.          0.29064035 -1.          0.17241383\n",
      "   -1.         -0.04433489 -1.          1.         -0.06835067\n",
      "   -0.29182732  0.1362405  -0.3310056  -0.341277  ]]]\n",
      "[[[-1.          0.29064035 -1.          0.17241383 -1.\n",
      "   -0.04433489 -1.          1.         -0.06835067 -0.29182732\n",
      "    0.1362405  -0.3310056  -0.341277   -0.12030256]]]\n"
     ]
    }
   ],
   "source": [
    "results=[]\n",
    "for i in range(7):\n",
    "    parcial=model.predict(x_test)\n",
    "    results.append(parcial[0])\n",
    "    print(x_test)\n",
    "    x_test=agregarNuevoValor(x_test,parcial[0])"
   ]
  },
  {
   "cell_type": "markdown",
   "metadata": {},
   "source": [
    "# Re-Convertimos los resultados"
   ]
  },
  {
   "cell_type": "code",
   "execution_count": 47,
   "metadata": {
    "scrolled": false
   },
   "outputs": [
    {
     "name": "stdout",
     "output_type": "stream",
     "text": [
      "[array([-0.06835067], dtype=float32), array([-0.29182732], dtype=float32), array([0.1362405], dtype=float32), array([-0.3310056], dtype=float32), array([-0.341277], dtype=float32), array([-0.12030256], dtype=float32), array([0.29266512], dtype=float32)]\n"
     ]
    },
    {
     "data": {
      "text/plain": [
       "array([[427],\n",
       "       [404],\n",
       "       [447],\n",
       "       [400],\n",
       "       [399],\n",
       "       [421],\n",
       "       [463]])"
      ]
     },
     "execution_count": 47,
     "metadata": {},
     "output_type": "execute_result"
    }
   ],
   "source": [
    "adimen = [x for x in results]    \n",
    "print(adimen)\n",
    "inverted = scaler.inverse_transform(adimen)\n",
    "\n",
    "#en nuestro problema no tienen sentido los decimales pues no se pueden hacer 0.5 viajes o 0.25 viajes\n",
    "inverted = inverted.round()\n",
    "inverted = inverted.astype(int)\n",
    "inverted"
   ]
  },
  {
   "cell_type": "markdown",
   "metadata": {},
   "source": [
    "# Visualizamos el pronostico"
   ]
  },
  {
   "cell_type": "code",
   "execution_count": 48,
   "metadata": {
    "scrolled": false
   },
   "outputs": [
    {
     "data": {
      "text/plain": [
       "<AxesSubplot:>"
      ]
     },
     "execution_count": 48,
     "metadata": {},
     "output_type": "execute_result"
    },
    {
     "data": {
      "image/png": "[encoded data removed]",
      "text/plain": [
       "<Figure size 432x288 with 1 Axes>"
      ]
     },
     "metadata": {
      "needs_background": "light"
     },
     "output_type": "display_data"
    }
   ],
   "source": [
    "e_date = datetime.datetime.strptime('2020-05-31', '%Y-%m-%d')\n",
    "i_date = datetime.datetime.strptime('2020-05-25', '%Y-%m-%d')\n",
    "delta = e_date - i_date\n",
    "\n",
    "index_days = []\n",
    "for i in range(delta.days + 1):\n",
    "    day = i_date + timedelta(days=i)\n",
    "    index_days.append(day)\n",
    "\n",
    "prediccion = pd.DataFrame(inverted, index= index_days)\n",
    "prediccion.columns = ['pronostico']\n",
    "prediccion.plot()"
   ]
  },
  {
   "cell_type": "code",
   "execution_count": 49,
   "metadata": {},
   "outputs": [
    {
     "data": {
      "text/html": [
       "<div>\n",
       "<style scoped>\n",
       "    .dataframe tbody tr th:only-of-type {\n",
       "        vertical-align: middle;\n",
       "    }\n",
       "\n",
       "    .dataframe tbody tr th {\n",
       "        vertical-align: top;\n",
       "    }\n",
       "\n",
       "    .dataframe thead th {\n",
       "        text-align: right;\n",
       "    }\n",
       "</style>\n",
       "<table border=\"1\" class=\"dataframe\">\n",
       "  <thead>\n",
       "    <tr style=\"text-align: right;\">\n",
       "      <th></th>\n",
       "      <th>real</th>\n",
       "      <th>prediccion</th>\n",
       "    </tr>\n",
       "  </thead>\n",
       "  <tbody>\n",
       "    <tr>\n",
       "      <th>2020-05-25</th>\n",
       "      <td>435</td>\n",
       "      <td>427</td>\n",
       "    </tr>\n",
       "    <tr>\n",
       "      <th>2020-05-26</th>\n",
       "      <td>421</td>\n",
       "      <td>404</td>\n",
       "    </tr>\n",
       "    <tr>\n",
       "      <th>2020-05-27</th>\n",
       "      <td>521</td>\n",
       "      <td>447</td>\n",
       "    </tr>\n",
       "    <tr>\n",
       "      <th>2020-05-28</th>\n",
       "      <td>442</td>\n",
       "      <td>400</td>\n",
       "    </tr>\n",
       "    <tr>\n",
       "      <th>2020-05-29</th>\n",
       "      <td>476</td>\n",
       "      <td>399</td>\n",
       "    </tr>\n",
       "    <tr>\n",
       "      <th>2020-05-30</th>\n",
       "      <td>433</td>\n",
       "      <td>421</td>\n",
       "    </tr>\n",
       "    <tr>\n",
       "      <th>2020-05-31</th>\n",
       "      <td>404</td>\n",
       "      <td>463</td>\n",
       "    </tr>\n",
       "  </tbody>\n",
       "</table>\n",
       "</div>"
      ],
      "text/plain": [
       "            real  prediccion\n",
       "2020-05-25   435         427\n",
       "2020-05-26   421         404\n",
       "2020-05-27   521         447\n",
       "2020-05-28   442         400\n",
       "2020-05-29   476         399\n",
       "2020-05-30   433         421\n",
       "2020-05-31   404         463"
      ]
     },
     "execution_count": 49,
     "metadata": {},
     "output_type": "execute_result"
    }
   ],
   "source": [
    "datosReales = df_ine['2020-5-25':'2020-5-31']\n",
    "\n",
    "compara = pd.concat([datosReales, prediccion], axis=1)\n",
    "compara.columns = ['real', 'prediccion']\n",
    "compara"
   ]
  },
  {
   "cell_type": "code",
   "execution_count": 50,
   "metadata": {},
   "outputs": [
    {
     "data": {
      "text/plain": [
       "<matplotlib.legend.Legend at 0x1ab6923da00>"
      ]
     },
     "execution_count": 50,
     "metadata": {},
     "output_type": "execute_result"
    },
    {
     "data": {
      "image/png": "[encoded data removed]",
      "text/plain": [
       "<Figure size 432x288 with 1 Axes>"
      ]
     },
     "metadata": {
      "needs_background": "light"
     },
     "output_type": "display_data"
    }
   ],
   "source": [
    "compara['real'].plot()\n",
    "compara['prediccion'].plot()\n",
    "plt.xlabel(\"Tiempo (dias)\", fontsize = 10)\n",
    "plt.ylabel(\"viajes\", fontsize = 10)\n",
    "plt.legend( ('Datos reales', 'Prediccion'), loc = 'upper right')"
   ]
  },
  {
   "cell_type": "code",
   "execution_count": 51,
   "metadata": {
    "scrolled": false
   },
   "outputs": [
    {
     "name": "stdout",
     "output_type": "stream",
     "text": [
      "Resultado del test: 41.29 MAE\n",
      "Resultado del test: 2449.57 MSE\n",
      "Resultado del test: 49.49 RMSE\n",
      "Resultado del test: 11.70 CVRMSE\n",
      "Resultado del test: 9.72 MAPE\n"
     ]
    }
   ],
   "source": [
    "# calculamos las metricas de error\n",
    "testScore_MAE, testScore_MSE, testScore_RMSE, testScore_CVRMSE, testScore_MAPE  =  compute_metrics_fn(prediccion, datosReales)\n",
    "print('Resultado del test: %.2f MAE' % (testScore_MAE))\n",
    "print('Resultado del test: %.2f MSE' % (testScore_MSE))\n",
    "print('Resultado del test: %.2f RMSE' % (testScore_RMSE))\n",
    "print('Resultado del test: %.2f CVRMSE' % (testScore_CVRMSE))\n",
    "print('Resultado del test: %.2f MAPE' % (testScore_MAPE))"
   ]
  },
  {
   "cell_type": "code",
   "execution_count": 52,
   "metadata": {},
   "outputs": [
    {
     "name": "stdout",
     "output_type": "stream",
     "text": [
      "Resultado del test dia 1: 8.00 MAE\n",
      "Resultado del test dia 1: 64.00 MSE\n",
      "Resultado del test dia 1: 8.00 RMSE\n",
      "Resultado del test dia 1: 1.87 CVRMSE\n",
      "Resultado del test dia 1: 1.87 MAPE \n",
      "\n",
      "Resultado del test dia 2: 17.00 MAE\n",
      "Resultado del test dia 2: 289.00 MSE\n",
      "Resultado del test dia 2: 17.00 RMSE\n",
      "Resultado del test dia 2: 4.21 CVRMSE\n",
      "Resultado del test dia 2: 4.21 MAPE \n",
      "\n",
      "Resultado del test dia 3: 74.00 MAE\n",
      "Resultado del test dia 3: 5476.00 MSE\n",
      "Resultado del test dia 3: 74.00 RMSE\n",
      "Resultado del test dia 3: 16.55 CVRMSE\n",
      "Resultado del test dia 3: 16.55 MAPE \n",
      "\n",
      "Resultado del test dia 4: 42.00 MAE\n",
      "Resultado del test dia 4: 1764.00 MSE\n",
      "Resultado del test dia 4: 42.00 RMSE\n",
      "Resultado del test dia 4: 10.50 CVRMSE\n",
      "Resultado del test dia 4: 10.50 MAPE \n",
      "\n",
      "Resultado del test dia 5: 77.00 MAE\n",
      "Resultado del test dia 5: 5929.00 MSE\n",
      "Resultado del test dia 5: 77.00 RMSE\n",
      "Resultado del test dia 5: 19.30 CVRMSE\n",
      "Resultado del test dia 5: 19.30 MAPE \n",
      "\n",
      "Resultado del test dia 6: 12.00 MAE\n",
      "Resultado del test dia 6: 144.00 MSE\n",
      "Resultado del test dia 6: 12.00 RMSE\n",
      "Resultado del test dia 6: 2.85 CVRMSE\n",
      "Resultado del test dia 6: 2.85 MAPE \n",
      "\n",
      "Resultado del test dia 7: 59.00 MAE\n",
      "Resultado del test dia 7: 3481.00 MSE\n",
      "Resultado del test dia 7: 59.00 RMSE\n",
      "Resultado del test dia 7: 12.74 CVRMSE\n",
      "Resultado del test dia 7: 12.74 MAPE \n",
      "\n"
     ]
    }
   ],
   "source": [
    "# calculamos las metricas de error para cada dia por separado\n",
    "for i in range(7):\n",
    "    testScore_MAE, testScore_MSE, testScore_RMSE, testScore_CVRMSE, testScore_MAPE  =  compute_metrics_fn(prediccion.values[i], datosReales.values[i])\n",
    "    day = i + 1\n",
    "    print('Resultado del test dia %d: %.2f MAE' % (day, testScore_MAE))\n",
    "    print('Resultado del test dia %d: %.2f MSE' % (day, testScore_MSE))\n",
    "    print('Resultado del test dia %d: %.2f RMSE' % (day, testScore_RMSE))\n",
    "    print('Resultado del test dia %d: %.2f CVRMSE' % (day, testScore_CVRMSE))\n",
    "    print('Resultado del test dia %d: %.2f MAPE \\n' % (day, testScore_MAPE))"
   ]
  }
 ],
 "metadata": {
  "kernelspec": {
   "display_name": "Python 3",
   "language": "python",
   "name": "python3"
  },
  "language_info": {
   "codemirror_mode": {
    "name": "ipython",
    "version": 3
   },
   "file_extension": ".py",
   "mimetype": "text/x-python",
   "name": "python",
   "nbconvert_exporter": "python",
   "pygments_lexer": "ipython3",
   "version": "3.8.5"
  }
 },
 "nbformat": 4,
 "nbformat_minor": 4
}
