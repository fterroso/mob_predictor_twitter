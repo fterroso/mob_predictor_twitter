{
 "cells": [
  {
   "cell_type": "code",
   "execution_count": 1,
   "metadata": {},
   "outputs": [],
   "source": [
    "import pandas as pd\n",
    "#import geopandas as gpd\n",
    "import numpy as np\n",
    "\n",
    "from tqdm import tqdm_notebook\n",
    "\n",
    "import matplotlib.pyplot as plt\n",
    "%matplotlib inline\n",
    "\n",
    "import os\n",
    "\n",
    "import warnings\n",
    "warnings.filterwarnings(\"ignore\")\n",
    "\n",
    "import datetime\n",
    "e_date = datetime.datetime.strptime('2020-06-20', '%Y-%m-%d')\n",
    "i_date = datetime.datetime.strptime('2020-04-01', '%Y-%m-%d')\n",
    "\n",
    "from datetime import date, timedelta\n",
    "\n",
    "data_path = 'D:/universidad/universidad 4/TFG/recursos para el desarrollo/datos procesados/OD'"
   ]
  },
  {
   "cell_type": "code",
   "execution_count": 2,
   "metadata": {},
   "outputs": [],
   "source": [
    "delta = e_date - i_date       # as timedelta\n",
    "\n",
    "target_days = []\n",
    "for i in range(delta.days + 1):\n",
    "    day = i_date + timedelta(days=i)\n",
    "    target_days.append(day)"
   ]
  },
  {
   "cell_type": "code",
   "execution_count": 3,
   "metadata": {},
   "outputs": [],
   "source": [
    "def read_OD_fn(source_type):\n",
    "    ods = {}\n",
    "    for date in tqdm_notebook(target_days):\n",
    "        od_date= pd.read_csv(os.path.join(data_path, 'date_{}_OD_{}.csv'.format(source_type,date.strftime('%Y-%m-%d'))), \n",
    "                            index_col=0)\n",
    "        ods[date] = od_date\n",
    "    return ods"
   ]
  },
  {
   "cell_type": "code",
   "execution_count": 4,
   "metadata": {},
   "outputs": [
    {
     "data": {
      "application/vnd.jupyter.widget-view+json": {
       "model_id": "e168e0397a014351bb731d9ca1df77cd",
       "version_major": 2,
       "version_minor": 0
      },
      "text/plain": [
       "  0%|          | 0/81 [00:00<?, ?it/s]"
      ]
     },
     "metadata": {},
     "output_type": "display_data"
    }
   ],
   "source": [
    "ine_ods = read_OD_fn('INE')"
   ]
  },
  {
   "cell_type": "code",
   "execution_count": 5,
   "metadata": {
    "scrolled": true
   },
   "outputs": [
    {
     "data": {
      "application/vnd.jupyter.widget-view+json": {
       "model_id": "779468f50f4945e18fa07e6e9ae102a3",
       "version_major": 2,
       "version_minor": 0
      },
      "text/plain": [
       "  0%|          | 0/81 [00:00<?, ?it/s]"
      ]
     },
     "metadata": {},
     "output_type": "display_data"
    }
   ],
   "source": [
    "twt_ods = read_OD_fn('TWT')"
   ]
  },
  {
   "cell_type": "markdown",
   "metadata": {},
   "source": [
    "# Serializar los datos"
   ]
  },
  {
   "cell_type": "code",
   "execution_count": 6,
   "metadata": {
    "scrolled": true
   },
   "outputs": [
    {
     "data": {
      "application/vnd.jupyter.widget-view+json": {
       "model_id": "6c742543bccc40dbbb9b46b52ae1fe03",
       "version_major": 2,
       "version_minor": 0
      },
      "text/plain": [
       "  0%|          | 0/81 [00:00<?, ?it/s]"
      ]
     },
     "metadata": {},
     "output_type": "display_data"
    },
    {
     "data": {
      "application/vnd.jupyter.widget-view+json": {
       "model_id": "910d2f4355bf4800bddd8454c31844b0",
       "version_major": 2,
       "version_minor": 0
      },
      "text/plain": [
       "  0%|          | 0/81 [00:00<?, ?it/s]"
      ]
     },
     "metadata": {},
     "output_type": "display_data"
    }
   ],
   "source": [
    "lista_twt = []\n",
    "\n",
    "for date in tqdm_notebook(target_days):\n",
    "    lista_twt.append(twt_ods[date].loc['total','total'])\n",
    "    \n",
    "del twt_ods\n",
    "    \n",
    "lista_ine = []\n",
    "\n",
    "for date in tqdm_notebook(target_days):\n",
    "    lista_ine.append(ine_ods[date].loc['total','total'])\n",
    "    \n",
    "del ine_ods"
   ]
  },
  {
   "cell_type": "code",
   "execution_count": 7,
   "metadata": {
    "scrolled": true
   },
   "outputs": [],
   "source": [
    "df_twt = pd.DataFrame (lista_twt, columns = ['Viajes'], index= target_days)\n",
    "df_ine = pd.DataFrame (lista_ine, columns = ['Viajes'], index= target_days)"
   ]
  },
  {
   "cell_type": "code",
   "execution_count": 8,
   "metadata": {},
   "outputs": [
    {
     "data": {
      "text/html": [
       "<div>\n",
       "<style scoped>\n",
       "    .dataframe tbody tr th:only-of-type {\n",
       "        vertical-align: middle;\n",
       "    }\n",
       "\n",
       "    .dataframe tbody tr th {\n",
       "        vertical-align: top;\n",
       "    }\n",
       "\n",
       "    .dataframe thead th {\n",
       "        text-align: right;\n",
       "    }\n",
       "</style>\n",
       "<table border=\"1\" class=\"dataframe\">\n",
       "  <thead>\n",
       "    <tr style=\"text-align: right;\">\n",
       "      <th></th>\n",
       "      <th>Viajes</th>\n",
       "    </tr>\n",
       "  </thead>\n",
       "  <tbody>\n",
       "    <tr>\n",
       "      <th>2020-04-01</th>\n",
       "      <td>2375</td>\n",
       "    </tr>\n",
       "    <tr>\n",
       "      <th>2020-04-02</th>\n",
       "      <td>2450</td>\n",
       "    </tr>\n",
       "    <tr>\n",
       "      <th>2020-04-03</th>\n",
       "      <td>2503</td>\n",
       "    </tr>\n",
       "    <tr>\n",
       "      <th>2020-04-04</th>\n",
       "      <td>554</td>\n",
       "    </tr>\n",
       "    <tr>\n",
       "      <th>2020-04-05</th>\n",
       "      <td>1319</td>\n",
       "    </tr>\n",
       "  </tbody>\n",
       "</table>\n",
       "</div>"
      ],
      "text/plain": [
       "            Viajes\n",
       "2020-04-01    2375\n",
       "2020-04-02    2450\n",
       "2020-04-03    2503\n",
       "2020-04-04     554\n",
       "2020-04-05    1319"
      ]
     },
     "execution_count": 8,
     "metadata": {},
     "output_type": "execute_result"
    }
   ],
   "source": [
    "df_twt.head()"
   ]
  },
  {
   "cell_type": "markdown",
   "metadata": {},
   "source": [
    "# Visualización de datos"
   ]
  },
  {
   "cell_type": "code",
   "execution_count": 9,
   "metadata": {},
   "outputs": [
    {
     "name": "stdout",
     "output_type": "stream",
     "text": [
      "2020-04-01 00:00:00\n",
      "2020-06-20 00:00:00\n"
     ]
    }
   ],
   "source": [
    "print(df_twt.index.min())\n",
    "print(df_ine.index.max())"
   ]
  },
  {
   "cell_type": "code",
   "execution_count": 10,
   "metadata": {
    "scrolled": true
   },
   "outputs": [
    {
     "name": "stdout",
     "output_type": "stream",
     "text": [
      "81\n"
     ]
    }
   ],
   "source": [
    "print(len(df_twt['2020']))"
   ]
  },
  {
   "cell_type": "code",
   "execution_count": 11,
   "metadata": {},
   "outputs": [
    {
     "name": "stdout",
     "output_type": "stream",
     "text": [
      "81\n"
     ]
    }
   ],
   "source": [
    "print(len(df_ine['2020']))"
   ]
  },
  {
   "cell_type": "code",
   "execution_count": 12,
   "metadata": {
    "scrolled": true
   },
   "outputs": [
    {
     "data": {
      "text/html": [
       "<div>\n",
       "<style scoped>\n",
       "    .dataframe tbody tr th:only-of-type {\n",
       "        vertical-align: middle;\n",
       "    }\n",
       "\n",
       "    .dataframe tbody tr th {\n",
       "        vertical-align: top;\n",
       "    }\n",
       "\n",
       "    .dataframe thead th {\n",
       "        text-align: right;\n",
       "    }\n",
       "</style>\n",
       "<table border=\"1\" class=\"dataframe\">\n",
       "  <thead>\n",
       "    <tr style=\"text-align: right;\">\n",
       "      <th></th>\n",
       "      <th>Viajes</th>\n",
       "    </tr>\n",
       "  </thead>\n",
       "  <tbody>\n",
       "    <tr>\n",
       "      <th>count</th>\n",
       "      <td>81.000000</td>\n",
       "    </tr>\n",
       "    <tr>\n",
       "      <th>mean</th>\n",
       "      <td>2943.000000</td>\n",
       "    </tr>\n",
       "    <tr>\n",
       "      <th>std</th>\n",
       "      <td>887.069149</td>\n",
       "    </tr>\n",
       "    <tr>\n",
       "      <th>min</th>\n",
       "      <td>0.000000</td>\n",
       "    </tr>\n",
       "    <tr>\n",
       "      <th>25%</th>\n",
       "      <td>2363.000000</td>\n",
       "    </tr>\n",
       "    <tr>\n",
       "      <th>50%</th>\n",
       "      <td>2904.000000</td>\n",
       "    </tr>\n",
       "    <tr>\n",
       "      <th>75%</th>\n",
       "      <td>3629.000000</td>\n",
       "    </tr>\n",
       "    <tr>\n",
       "      <th>max</th>\n",
       "      <td>4738.000000</td>\n",
       "    </tr>\n",
       "  </tbody>\n",
       "</table>\n",
       "</div>"
      ],
      "text/plain": [
       "            Viajes\n",
       "count    81.000000\n",
       "mean   2943.000000\n",
       "std     887.069149\n",
       "min       0.000000\n",
       "25%    2363.000000\n",
       "50%    2904.000000\n",
       "75%    3629.000000\n",
       "max    4738.000000"
      ]
     },
     "execution_count": 12,
     "metadata": {},
     "output_type": "execute_result"
    }
   ],
   "source": [
    "df_twt.describe()"
   ]
  },
  {
   "cell_type": "code",
   "execution_count": 13,
   "metadata": {},
   "outputs": [
    {
     "data": {
      "text/html": [
       "<div>\n",
       "<style scoped>\n",
       "    .dataframe tbody tr th:only-of-type {\n",
       "        vertical-align: middle;\n",
       "    }\n",
       "\n",
       "    .dataframe tbody tr th {\n",
       "        vertical-align: top;\n",
       "    }\n",
       "\n",
       "    .dataframe thead th {\n",
       "        text-align: right;\n",
       "    }\n",
       "</style>\n",
       "<table border=\"1\" class=\"dataframe\">\n",
       "  <thead>\n",
       "    <tr style=\"text-align: right;\">\n",
       "      <th></th>\n",
       "      <th>Viajes</th>\n",
       "    </tr>\n",
       "  </thead>\n",
       "  <tbody>\n",
       "    <tr>\n",
       "      <th>count</th>\n",
       "      <td>8.100000e+01</td>\n",
       "    </tr>\n",
       "    <tr>\n",
       "      <th>mean</th>\n",
       "      <td>3.438222e+06</td>\n",
       "    </tr>\n",
       "    <tr>\n",
       "      <th>std</th>\n",
       "      <td>1.174931e+06</td>\n",
       "    </tr>\n",
       "    <tr>\n",
       "      <th>min</th>\n",
       "      <td>1.535886e+06</td>\n",
       "    </tr>\n",
       "    <tr>\n",
       "      <th>25%</th>\n",
       "      <td>2.488436e+06</td>\n",
       "    </tr>\n",
       "    <tr>\n",
       "      <th>50%</th>\n",
       "      <td>3.396402e+06</td>\n",
       "    </tr>\n",
       "    <tr>\n",
       "      <th>75%</th>\n",
       "      <td>4.445190e+06</td>\n",
       "    </tr>\n",
       "    <tr>\n",
       "      <th>max</th>\n",
       "      <td>5.519725e+06</td>\n",
       "    </tr>\n",
       "  </tbody>\n",
       "</table>\n",
       "</div>"
      ],
      "text/plain": [
       "             Viajes\n",
       "count  8.100000e+01\n",
       "mean   3.438222e+06\n",
       "std    1.174931e+06\n",
       "min    1.535886e+06\n",
       "25%    2.488436e+06\n",
       "50%    3.396402e+06\n",
       "75%    4.445190e+06\n",
       "max    5.519725e+06"
      ]
     },
     "execution_count": 13,
     "metadata": {},
     "output_type": "execute_result"
    }
   ],
   "source": [
    "df_ine.describe()"
   ]
  },
  {
   "cell_type": "code",
   "execution_count": 14,
   "metadata": {
    "scrolled": true
   },
   "outputs": [
    {
     "data": {
      "text/html": [
       "<div>\n",
       "<style scoped>\n",
       "    .dataframe tbody tr th:only-of-type {\n",
       "        vertical-align: middle;\n",
       "    }\n",
       "\n",
       "    .dataframe tbody tr th {\n",
       "        vertical-align: top;\n",
       "    }\n",
       "\n",
       "    .dataframe thead th {\n",
       "        text-align: right;\n",
       "    }\n",
       "</style>\n",
       "<table border=\"1\" class=\"dataframe\">\n",
       "  <thead>\n",
       "    <tr style=\"text-align: right;\">\n",
       "      <th></th>\n",
       "      <th>Viajes</th>\n",
       "    </tr>\n",
       "  </thead>\n",
       "  <tbody>\n",
       "    <tr>\n",
       "      <th>2020-04-30</th>\n",
       "      <td>2157.500000</td>\n",
       "    </tr>\n",
       "    <tr>\n",
       "      <th>2020-05-31</th>\n",
       "      <td>3128.193548</td>\n",
       "    </tr>\n",
       "    <tr>\n",
       "      <th>2020-06-30</th>\n",
       "      <td>3834.200000</td>\n",
       "    </tr>\n",
       "  </tbody>\n",
       "</table>\n",
       "</div>"
      ],
      "text/plain": [
       "                 Viajes\n",
       "2020-04-30  2157.500000\n",
       "2020-05-31  3128.193548\n",
       "2020-06-30  3834.200000"
      ]
     },
     "execution_count": 14,
     "metadata": {},
     "output_type": "execute_result"
    }
   ],
   "source": [
    "meses = df_twt.resample('M').mean()\n",
    "meses"
   ]
  },
  {
   "cell_type": "code",
   "execution_count": 15,
   "metadata": {},
   "outputs": [
    {
     "data": {
      "text/html": [
       "<div>\n",
       "<style scoped>\n",
       "    .dataframe tbody tr th:only-of-type {\n",
       "        vertical-align: middle;\n",
       "    }\n",
       "\n",
       "    .dataframe tbody tr th {\n",
       "        vertical-align: top;\n",
       "    }\n",
       "\n",
       "    .dataframe thead th {\n",
       "        text-align: right;\n",
       "    }\n",
       "</style>\n",
       "<table border=\"1\" class=\"dataframe\">\n",
       "  <thead>\n",
       "    <tr style=\"text-align: right;\">\n",
       "      <th></th>\n",
       "      <th>Viajes</th>\n",
       "    </tr>\n",
       "  </thead>\n",
       "  <tbody>\n",
       "    <tr>\n",
       "      <th>2020-04-30</th>\n",
       "      <td>2.356878e+06</td>\n",
       "    </tr>\n",
       "    <tr>\n",
       "      <th>2020-05-31</th>\n",
       "      <td>3.590722e+06</td>\n",
       "    </tr>\n",
       "    <tr>\n",
       "      <th>2020-06-30</th>\n",
       "      <td>4.823862e+06</td>\n",
       "    </tr>\n",
       "  </tbody>\n",
       "</table>\n",
       "</div>"
      ],
      "text/plain": [
       "                  Viajes\n",
       "2020-04-30  2.356878e+06\n",
       "2020-05-31  3.590722e+06\n",
       "2020-06-30  4.823862e+06"
      ]
     },
     "execution_count": 15,
     "metadata": {},
     "output_type": "execute_result"
    }
   ],
   "source": [
    "meses = df_ine.resample('M').mean()\n",
    "meses"
   ]
  },
  {
   "cell_type": "code",
   "execution_count": 16,
   "metadata": {
    "scrolled": true
   },
   "outputs": [
    {
     "data": {
      "text/plain": [
       "[<matplotlib.lines.Line2D at 0x25034f417c0>]"
      ]
     },
     "execution_count": 16,
     "metadata": {},
     "output_type": "execute_result"
    },
    {
     "data": {
      "image/png": "[encoded data removed]",
      "text/plain": [
       "<Figure size 432x288 with 1 Axes>"
      ]
     },
     "metadata": {
      "needs_background": "light"
     },
     "output_type": "display_data"
    }
   ],
   "source": [
    "abril = df_twt['2020-04-01':'2020-04-30']\n",
    "plt.plot(abril.values)\n",
    "mayo = df_twt['2020-05-01':'2020-05-31']\n",
    "plt.plot(mayo.values)\n",
    "junio = df_twt['2020-06-01':'2020-06-20']\n",
    "plt.plot(junio.values)"
   ]
  },
  {
   "cell_type": "code",
   "execution_count": 17,
   "metadata": {},
   "outputs": [
    {
     "data": {
      "text/plain": [
       "[<matplotlib.lines.Line2D at 0x250333b86a0>]"
      ]
     },
     "execution_count": 17,
     "metadata": {},
     "output_type": "execute_result"
    },
    {
     "data": {
      "image/png": "[encoded data removed]",
      "text/plain": [
       "<Figure size 432x288 with 1 Axes>"
      ]
     },
     "metadata": {
      "needs_background": "light"
     },
     "output_type": "display_data"
    }
   ],
   "source": [
    "abril = df_ine['2020-04-01':'2020-04-30']\n",
    "plt.plot(abril.values)\n",
    "mayo = df_ine['2020-05-01':'2020-05-31']\n",
    "plt.plot(mayo.values)\n",
    "junio = df_ine['2020-06-01':'2020-06-20']\n",
    "plt.plot(junio.values)"
   ]
  },
  {
   "cell_type": "markdown",
   "metadata": {},
   "source": [
    "# Preprocesado de datos"
   ]
  },
  {
   "cell_type": "code",
   "execution_count": 18,
   "metadata": {},
   "outputs": [
    {
     "data": {
      "text/html": [
       "<div>\n",
       "<style scoped>\n",
       "    .dataframe tbody tr th:only-of-type {\n",
       "        vertical-align: middle;\n",
       "    }\n",
       "\n",
       "    .dataframe tbody tr th {\n",
       "        vertical-align: top;\n",
       "    }\n",
       "\n",
       "    .dataframe thead th {\n",
       "        text-align: right;\n",
       "    }\n",
       "</style>\n",
       "<table border=\"1\" class=\"dataframe\">\n",
       "  <thead>\n",
       "    <tr style=\"text-align: right;\">\n",
       "      <th></th>\n",
       "      <th>var1(t-7)</th>\n",
       "      <th>var1(t-6)</th>\n",
       "      <th>var1(t-5)</th>\n",
       "      <th>var1(t-4)</th>\n",
       "      <th>var1(t-3)</th>\n",
       "      <th>var1(t-2)</th>\n",
       "      <th>var1(t-1)</th>\n",
       "      <th>var1(t)</th>\n",
       "    </tr>\n",
       "  </thead>\n",
       "  <tbody>\n",
       "    <tr>\n",
       "      <th>76</th>\n",
       "      <td>0.712537</td>\n",
       "      <td>0.561418</td>\n",
       "      <td>0.780498</td>\n",
       "      <td>0.847615</td>\n",
       "      <td>0.876741</td>\n",
       "      <td>0.747151</td>\n",
       "      <td>0.551710</td>\n",
       "      <td>0.549599</td>\n",
       "    </tr>\n",
       "    <tr>\n",
       "      <th>77</th>\n",
       "      <td>0.561418</td>\n",
       "      <td>0.780498</td>\n",
       "      <td>0.847615</td>\n",
       "      <td>0.876741</td>\n",
       "      <td>0.747151</td>\n",
       "      <td>0.551710</td>\n",
       "      <td>0.549599</td>\n",
       "      <td>0.559308</td>\n",
       "    </tr>\n",
       "    <tr>\n",
       "      <th>78</th>\n",
       "      <td>0.780498</td>\n",
       "      <td>0.847615</td>\n",
       "      <td>0.876741</td>\n",
       "      <td>0.747151</td>\n",
       "      <td>0.551710</td>\n",
       "      <td>0.549599</td>\n",
       "      <td>0.559308</td>\n",
       "      <td>0.846771</td>\n",
       "    </tr>\n",
       "    <tr>\n",
       "      <th>79</th>\n",
       "      <td>0.847615</td>\n",
       "      <td>0.876741</td>\n",
       "      <td>0.747151</td>\n",
       "      <td>0.551710</td>\n",
       "      <td>0.549599</td>\n",
       "      <td>0.559308</td>\n",
       "      <td>0.846771</td>\n",
       "      <td>1.000000</td>\n",
       "    </tr>\n",
       "    <tr>\n",
       "      <th>80</th>\n",
       "      <td>0.876741</td>\n",
       "      <td>0.747151</td>\n",
       "      <td>0.551710</td>\n",
       "      <td>0.549599</td>\n",
       "      <td>0.559308</td>\n",
       "      <td>0.846771</td>\n",
       "      <td>1.000000</td>\n",
       "      <td>-0.153229</td>\n",
       "    </tr>\n",
       "  </tbody>\n",
       "</table>\n",
       "</div>"
      ],
      "text/plain": [
       "    var1(t-7)  var1(t-6)  var1(t-5)  var1(t-4)  var1(t-3)  var1(t-2)  \\\n",
       "76   0.712537   0.561418   0.780498   0.847615   0.876741   0.747151   \n",
       "77   0.561418   0.780498   0.847615   0.876741   0.747151   0.551710   \n",
       "78   0.780498   0.847615   0.876741   0.747151   0.551710   0.549599   \n",
       "79   0.847615   0.876741   0.747151   0.551710   0.549599   0.559308   \n",
       "80   0.876741   0.747151   0.551710   0.549599   0.559308   0.846771   \n",
       "\n",
       "    var1(t-1)   var1(t)  \n",
       "76   0.551710  0.549599  \n",
       "77   0.549599  0.559308  \n",
       "78   0.559308  0.846771  \n",
       "79   0.846771  1.000000  \n",
       "80   1.000000 -0.153229  "
      ]
     },
     "execution_count": 18,
     "metadata": {},
     "output_type": "execute_result"
    }
   ],
   "source": [
    "from keras.models import Sequential\n",
    "from keras.layers import Dense,Activation,Flatten\n",
    "from sklearn.preprocessing import MinMaxScaler\n",
    "\n",
    "PASOS=7 #preguntar\n",
    "\n",
    "# convert series to supervised learning\n",
    "def series_to_supervised(data, n_in=1, n_out=1, dropnan=True):\n",
    "    n_vars = 1 if type(data) is list else data.shape[1]\n",
    "    df = pd.DataFrame(data)\n",
    "    cols, names = list(), list()\n",
    "    # input sequence (t-n, ... t-1)\n",
    "    for i in range(n_in, 0, -1):\n",
    "        cols.append(df.shift(i))\n",
    "        names += [('var%d(t-%d)' % (j+1, i)) for j in range(n_vars)]\n",
    "    # forecast sequence (t, t+1, ... t+n)\n",
    "    for i in range(0, n_out):\n",
    "        cols.append(df.shift(-i))\n",
    "        if i == 0:\n",
    "            names += [('var%d(t)' % (j+1)) for j in range(n_vars)]\n",
    "        else:\n",
    "            names += [('var%d(t+%d)' % (j+1, i)) for j in range(n_vars)]\n",
    "    # put it all together\n",
    "    agg = pd.concat(cols, axis=1)\n",
    "    agg.columns = names\n",
    "    # drop rows with NaN values\n",
    "    if dropnan:\n",
    "        agg.dropna(inplace=True)\n",
    "    return agg\n",
    " \n",
    "# cargamos el dataframe en la variable values\n",
    "values_twt = df_twt.values\n",
    "values_ine = df_ine.values\n",
    "\n",
    "# convertimos los enteros en floats\n",
    "values_twt = values_twt.astype('float32')\n",
    "values_ine = values_ine.astype('float32')\n",
    "\n",
    "# normalizamos los datos a escala de entre -1 y 1\n",
    "scaler = MinMaxScaler(feature_range=(-1, 1))\n",
    "values_twt=values_twt.reshape(-1, 1) # esto lo hacemos porque tenemos 1 sola dimension\n",
    "values_ine=values_ine.reshape(-1, 1) # esto lo hacemos porque tenemos 1 sola dimension\n",
    "scaled_twt = scaler.fit_transform(values_twt)\n",
    "scaled_ine = scaler.fit_transform(values_ine)\n",
    "\n",
    "# usamos la funcion definida previamente\n",
    "reframed_twt = series_to_supervised(scaled_twt, PASOS, 1)\n",
    "reframed_ine = series_to_supervised(scaled_ine, PASOS, 1)\n",
    "\n",
    "#imprimimos los nuevos datos\n",
    "reframed_twt.tail()"
   ]
  },
  {
   "cell_type": "code",
   "execution_count": 19,
   "metadata": {
    "scrolled": false
   },
   "outputs": [
    {
     "data": {
      "text/html": [
       "<div>\n",
       "<style scoped>\n",
       "    .dataframe tbody tr th:only-of-type {\n",
       "        vertical-align: middle;\n",
       "    }\n",
       "\n",
       "    .dataframe tbody tr th {\n",
       "        vertical-align: top;\n",
       "    }\n",
       "\n",
       "    .dataframe thead th {\n",
       "        text-align: right;\n",
       "    }\n",
       "</style>\n",
       "<table border=\"1\" class=\"dataframe\">\n",
       "  <thead>\n",
       "    <tr style=\"text-align: right;\">\n",
       "      <th></th>\n",
       "      <th>var2(t-7)</th>\n",
       "      <th>var2(t-6)</th>\n",
       "      <th>var2(t-5)</th>\n",
       "      <th>var2(t-4)</th>\n",
       "      <th>var2(t-3)</th>\n",
       "      <th>var2(t-2)</th>\n",
       "      <th>var2(t-1)</th>\n",
       "      <th>var2(t)</th>\n",
       "    </tr>\n",
       "  </thead>\n",
       "  <tbody>\n",
       "    <tr>\n",
       "      <th>76</th>\n",
       "      <td>0.477061</td>\n",
       "      <td>0.891413</td>\n",
       "      <td>0.839957</td>\n",
       "      <td>0.847171</td>\n",
       "      <td>0.460553</td>\n",
       "      <td>0.113062</td>\n",
       "      <td>0.725623</td>\n",
       "      <td>0.894152</td>\n",
       "    </tr>\n",
       "    <tr>\n",
       "      <th>77</th>\n",
       "      <td>0.891413</td>\n",
       "      <td>0.839957</td>\n",
       "      <td>0.847171</td>\n",
       "      <td>0.460553</td>\n",
       "      <td>0.113062</td>\n",
       "      <td>0.725623</td>\n",
       "      <td>0.894152</td>\n",
       "      <td>0.923149</td>\n",
       "    </tr>\n",
       "    <tr>\n",
       "      <th>78</th>\n",
       "      <td>0.839957</td>\n",
       "      <td>0.847171</td>\n",
       "      <td>0.460553</td>\n",
       "      <td>0.113062</td>\n",
       "      <td>0.725623</td>\n",
       "      <td>0.894152</td>\n",
       "      <td>0.923149</td>\n",
       "      <td>0.959687</td>\n",
       "    </tr>\n",
       "    <tr>\n",
       "      <th>79</th>\n",
       "      <td>0.847171</td>\n",
       "      <td>0.460553</td>\n",
       "      <td>0.113062</td>\n",
       "      <td>0.725623</td>\n",
       "      <td>0.894152</td>\n",
       "      <td>0.923149</td>\n",
       "      <td>0.959687</td>\n",
       "      <td>1.000000</td>\n",
       "    </tr>\n",
       "    <tr>\n",
       "      <th>80</th>\n",
       "      <td>0.460553</td>\n",
       "      <td>0.113062</td>\n",
       "      <td>0.725623</td>\n",
       "      <td>0.894152</td>\n",
       "      <td>0.923149</td>\n",
       "      <td>0.959687</td>\n",
       "      <td>1.000000</td>\n",
       "      <td>0.551599</td>\n",
       "    </tr>\n",
       "  </tbody>\n",
       "</table>\n",
       "</div>"
      ],
      "text/plain": [
       "    var2(t-7)  var2(t-6)  var2(t-5)  var2(t-4)  var2(t-3)  var2(t-2)  \\\n",
       "76   0.477061   0.891413   0.839957   0.847171   0.460553   0.113062   \n",
       "77   0.891413   0.839957   0.847171   0.460553   0.113062   0.725623   \n",
       "78   0.839957   0.847171   0.460553   0.113062   0.725623   0.894152   \n",
       "79   0.847171   0.460553   0.113062   0.725623   0.894152   0.923149   \n",
       "80   0.460553   0.113062   0.725623   0.894152   0.923149   0.959687   \n",
       "\n",
       "    var2(t-1)   var2(t)  \n",
       "76   0.725623  0.894152  \n",
       "77   0.894152  0.923149  \n",
       "78   0.923149  0.959687  \n",
       "79   0.959687  1.000000  \n",
       "80   1.000000  0.551599  "
      ]
     },
     "execution_count": 19,
     "metadata": {},
     "output_type": "execute_result"
    }
   ],
   "source": [
    "#cambiamos el nombre de las columnas\n",
    "reframed_ine.columns = ['var2(t-7)', 'var2(t-6)', 'var2(t-5)', 'var2(t-4)', 'var2(t-3)', 'var2(t-2)', 'var2(t-1)', 'var2(t)']\n",
    "reframed_ine.tail()"
   ]
  },
  {
   "cell_type": "code",
   "execution_count": 20,
   "metadata": {
    "scrolled": false
   },
   "outputs": [
    {
     "data": {
      "text/html": [
       "<div>\n",
       "<style scoped>\n",
       "    .dataframe tbody tr th:only-of-type {\n",
       "        vertical-align: middle;\n",
       "    }\n",
       "\n",
       "    .dataframe tbody tr th {\n",
       "        vertical-align: top;\n",
       "    }\n",
       "\n",
       "    .dataframe thead th {\n",
       "        text-align: right;\n",
       "    }\n",
       "</style>\n",
       "<table border=\"1\" class=\"dataframe\">\n",
       "  <thead>\n",
       "    <tr style=\"text-align: right;\">\n",
       "      <th></th>\n",
       "      <th>var1(t-7)</th>\n",
       "      <th>var2(t-7)</th>\n",
       "      <th>var1(t-6)</th>\n",
       "      <th>var2(t-6)</th>\n",
       "      <th>var1(t-5)</th>\n",
       "      <th>var2(t-5)</th>\n",
       "      <th>var1(t-4)</th>\n",
       "      <th>var2(t-4)</th>\n",
       "      <th>var1(t-3)</th>\n",
       "      <th>var2(t-3)</th>\n",
       "      <th>var1(t-2)</th>\n",
       "      <th>var2(t-2)</th>\n",
       "      <th>var1(t-1)</th>\n",
       "      <th>var2(t-1)</th>\n",
       "      <th>var2(t)</th>\n",
       "    </tr>\n",
       "  </thead>\n",
       "  <tbody>\n",
       "    <tr>\n",
       "      <th>76</th>\n",
       "      <td>0.712537</td>\n",
       "      <td>0.477061</td>\n",
       "      <td>0.561418</td>\n",
       "      <td>0.891413</td>\n",
       "      <td>0.780498</td>\n",
       "      <td>0.839957</td>\n",
       "      <td>0.847615</td>\n",
       "      <td>0.847171</td>\n",
       "      <td>0.876741</td>\n",
       "      <td>0.460553</td>\n",
       "      <td>0.747151</td>\n",
       "      <td>0.113062</td>\n",
       "      <td>0.551710</td>\n",
       "      <td>0.725623</td>\n",
       "      <td>0.894152</td>\n",
       "    </tr>\n",
       "    <tr>\n",
       "      <th>77</th>\n",
       "      <td>0.561418</td>\n",
       "      <td>0.891413</td>\n",
       "      <td>0.780498</td>\n",
       "      <td>0.839957</td>\n",
       "      <td>0.847615</td>\n",
       "      <td>0.847171</td>\n",
       "      <td>0.876741</td>\n",
       "      <td>0.460553</td>\n",
       "      <td>0.747151</td>\n",
       "      <td>0.113062</td>\n",
       "      <td>0.551710</td>\n",
       "      <td>0.725623</td>\n",
       "      <td>0.549599</td>\n",
       "      <td>0.894152</td>\n",
       "      <td>0.923149</td>\n",
       "    </tr>\n",
       "    <tr>\n",
       "      <th>78</th>\n",
       "      <td>0.780498</td>\n",
       "      <td>0.839957</td>\n",
       "      <td>0.847615</td>\n",
       "      <td>0.847171</td>\n",
       "      <td>0.876741</td>\n",
       "      <td>0.460553</td>\n",
       "      <td>0.747151</td>\n",
       "      <td>0.113062</td>\n",
       "      <td>0.551710</td>\n",
       "      <td>0.725623</td>\n",
       "      <td>0.549599</td>\n",
       "      <td>0.894152</td>\n",
       "      <td>0.559308</td>\n",
       "      <td>0.923149</td>\n",
       "      <td>0.959687</td>\n",
       "    </tr>\n",
       "    <tr>\n",
       "      <th>79</th>\n",
       "      <td>0.847615</td>\n",
       "      <td>0.847171</td>\n",
       "      <td>0.876741</td>\n",
       "      <td>0.460553</td>\n",
       "      <td>0.747151</td>\n",
       "      <td>0.113062</td>\n",
       "      <td>0.551710</td>\n",
       "      <td>0.725623</td>\n",
       "      <td>0.549599</td>\n",
       "      <td>0.894152</td>\n",
       "      <td>0.559308</td>\n",
       "      <td>0.923149</td>\n",
       "      <td>0.846771</td>\n",
       "      <td>0.959687</td>\n",
       "      <td>1.000000</td>\n",
       "    </tr>\n",
       "    <tr>\n",
       "      <th>80</th>\n",
       "      <td>0.876741</td>\n",
       "      <td>0.460553</td>\n",
       "      <td>0.747151</td>\n",
       "      <td>0.113062</td>\n",
       "      <td>0.551710</td>\n",
       "      <td>0.725623</td>\n",
       "      <td>0.549599</td>\n",
       "      <td>0.894152</td>\n",
       "      <td>0.559308</td>\n",
       "      <td>0.923149</td>\n",
       "      <td>0.846771</td>\n",
       "      <td>0.959687</td>\n",
       "      <td>1.000000</td>\n",
       "      <td>1.000000</td>\n",
       "      <td>0.551599</td>\n",
       "    </tr>\n",
       "  </tbody>\n",
       "</table>\n",
       "</div>"
      ],
      "text/plain": [
       "    var1(t-7)  var2(t-7)  var1(t-6)  var2(t-6)  var1(t-5)  var2(t-5)  \\\n",
       "76   0.712537   0.477061   0.561418   0.891413   0.780498   0.839957   \n",
       "77   0.561418   0.891413   0.780498   0.839957   0.847615   0.847171   \n",
       "78   0.780498   0.839957   0.847615   0.847171   0.876741   0.460553   \n",
       "79   0.847615   0.847171   0.876741   0.460553   0.747151   0.113062   \n",
       "80   0.876741   0.460553   0.747151   0.113062   0.551710   0.725623   \n",
       "\n",
       "    var1(t-4)  var2(t-4)  var1(t-3)  var2(t-3)  var1(t-2)  var2(t-2)  \\\n",
       "76   0.847615   0.847171   0.876741   0.460553   0.747151   0.113062   \n",
       "77   0.876741   0.460553   0.747151   0.113062   0.551710   0.725623   \n",
       "78   0.747151   0.113062   0.551710   0.725623   0.549599   0.894152   \n",
       "79   0.551710   0.725623   0.549599   0.894152   0.559308   0.923149   \n",
       "80   0.549599   0.894152   0.559308   0.923149   0.846771   0.959687   \n",
       "\n",
       "    var1(t-1)  var2(t-1)   var2(t)  \n",
       "76   0.551710   0.725623  0.894152  \n",
       "77   0.549599   0.894152  0.923149  \n",
       "78   0.559308   0.923149  0.959687  \n",
       "79   0.846771   0.959687  1.000000  \n",
       "80   1.000000   1.000000  0.551599  "
      ]
     },
     "execution_count": 20,
     "metadata": {},
     "output_type": "execute_result"
    }
   ],
   "source": [
    "#unimos los datos del ine con los de twitter\n",
    "reframed = pd.concat([reframed_twt.iloc[:, 0], reframed_ine.iloc[:, 0]], axis=1)\n",
    "\n",
    "for i in range(6):\n",
    "    reframed = pd.concat([reframed, reframed_twt.iloc[:, i+1]], axis=1)\n",
    "    reframed = pd.concat([reframed, reframed_ine.iloc[:, i+1]], axis=1)\n",
    "    \n",
    "reframed = pd.concat([reframed, reframed_ine.iloc[:, 7]], axis=1)\n",
    "\n",
    "reframed.tail()"
   ]
  },
  {
   "cell_type": "markdown",
   "metadata": {},
   "source": [
    "# Dividimos los datos en sets de entrenamiento y validacion"
   ]
  },
  {
   "cell_type": "code",
   "execution_count": 21,
   "metadata": {},
   "outputs": [
    {
     "name": "stdout",
     "output_type": "stream",
     "text": [
      "(63, 1, 14) (63,) (11, 1, 14) (11,)\n"
     ]
    }
   ],
   "source": [
    "#dividimos nuestro valores entre sets de entrenamiento y de test\n",
    "values = reframed.values\n",
    "n_train_days = 75 - (5+PASOS)\n",
    "train = values[:n_train_days, :]\n",
    "test = values[n_train_days:, :]\n",
    "\n",
    "# split into input and outputs\n",
    "x_train, y_train = train[:, :-1], train[:, -1]\n",
    "x_val, y_val = test[:, :-1], test[:, -1]\n",
    "\n",
    "# reshape input to be 3D [samples, timesteps, features] - preguntar\n",
    "x_train = x_train.reshape((x_train.shape[0], 1, x_train.shape[1]))\n",
    "x_val = x_val.reshape((x_val.shape[0], 1, x_val.shape[1]))\n",
    "print(x_train.shape, y_train.shape, x_val.shape, y_val.shape)"
   ]
  },
  {
   "cell_type": "markdown",
   "metadata": {},
   "source": [
    "# Creamos la red neuronal"
   ]
  },
  {
   "cell_type": "code",
   "execution_count": 22,
   "metadata": {},
   "outputs": [],
   "source": [
    "def crear_modeloFF():\n",
    "    model = Sequential() \n",
    "    model.add(Dense(PASOS, input_shape=(1,PASOS*2),activation='tanh'))\n",
    "    model.add(Flatten())\n",
    "    model.add(Dense(4, activation='tanh'))\n",
    "    model.add(Dense(1, activation='tanh'))\n",
    "    model.compile(loss='mean_absolute_error',optimizer='Adam',metrics=[\"mse\"])\n",
    "    model.summary()\n",
    "    return model"
   ]
  },
  {
   "cell_type": "code",
   "execution_count": 23,
   "metadata": {},
   "outputs": [
    {
     "name": "stdout",
     "output_type": "stream",
     "text": [
      "Model: \"sequential\"\n",
      "_________________________________________________________________\n",
      "Layer (type)                 Output Shape              Param #   \n",
      "=================================================================\n",
      "dense (Dense)                (None, 1, 7)              105       \n",
      "_________________________________________________________________\n",
      "flatten (Flatten)            (None, 7)                 0         \n",
      "_________________________________________________________________\n",
      "dense_1 (Dense)              (None, 4)                 32        \n",
      "_________________________________________________________________\n",
      "dense_2 (Dense)              (None, 1)                 5         \n",
      "=================================================================\n",
      "Total params: 142\n",
      "Trainable params: 142\n",
      "Non-trainable params: 0\n",
      "_________________________________________________________________\n",
      "Epoch 1/80\n",
      "9/9 [==============================] - 3s 243ms/step - loss: 0.9975 - mse: 1.1664 - val_loss: 1.4018 - val_mse: 2.0448\n",
      "Epoch 2/80\n",
      "9/9 [==============================] - 0s 11ms/step - loss: 0.9009 - mse: 1.0018 - val_loss: 1.2688 - val_mse: 1.6920\n",
      "Epoch 3/80\n",
      "9/9 [==============================] - 0s 12ms/step - loss: 0.7495 - mse: 0.7113 - val_loss: 1.0986 - val_mse: 1.2896\n",
      "Epoch 4/80\n",
      "9/9 [==============================] - 0s 13ms/step - loss: 0.6385 - mse: 0.5402 - val_loss: 0.9115 - val_mse: 0.9111\n",
      "Epoch 5/80\n",
      "9/9 [==============================] - 0s 13ms/step - loss: 0.5910 - mse: 0.4643 - val_loss: 0.7335 - val_mse: 0.6141\n",
      "Epoch 6/80\n",
      "9/9 [==============================] - 0s 12ms/step - loss: 0.3960 - mse: 0.2354 - val_loss: 0.5720 - val_mse: 0.3985\n",
      "Epoch 7/80\n",
      "9/9 [==============================] - 0s 11ms/step - loss: 0.3066 - mse: 0.1668 - val_loss: 0.4593 - val_mse: 0.2697\n",
      "Epoch 8/80\n",
      "9/9 [==============================] - 0s 13ms/step - loss: 0.2681 - mse: 0.1181 - val_loss: 0.3735 - val_mse: 0.1827\n",
      "Epoch 9/80\n",
      "9/9 [==============================] - 0s 11ms/step - loss: 0.2494 - mse: 0.0958 - val_loss: 0.3217 - val_mse: 0.1320\n",
      "Epoch 10/80\n",
      "9/9 [==============================] - 0s 10ms/step - loss: 0.2205 - mse: 0.0679 - val_loss: 0.2924 - val_mse: 0.1085\n",
      "Epoch 11/80\n",
      "9/9 [==============================] - 0s 12ms/step - loss: 0.2285 - mse: 0.0836 - val_loss: 0.2748 - val_mse: 0.0934\n",
      "Epoch 12/80\n",
      "9/9 [==============================] - 0s 11ms/step - loss: 0.2522 - mse: 0.0997 - val_loss: 0.2650 - val_mse: 0.0853\n",
      "Epoch 13/80\n",
      "9/9 [==============================] - 0s 13ms/step - loss: 0.2219 - mse: 0.0775 - val_loss: 0.2576 - val_mse: 0.0796\n",
      "Epoch 14/80\n",
      "9/9 [==============================] - 0s 12ms/step - loss: 0.1903 - mse: 0.0618 - val_loss: 0.2530 - val_mse: 0.0763\n",
      "Epoch 15/80\n",
      "9/9 [==============================] - 0s 12ms/step - loss: 0.1967 - mse: 0.0619 - val_loss: 0.2517 - val_mse: 0.0755\n",
      "Epoch 16/80\n",
      "9/9 [==============================] - 0s 12ms/step - loss: 0.1927 - mse: 0.0585 - val_loss: 0.2506 - val_mse: 0.0747\n",
      "Epoch 17/80\n",
      "9/9 [==============================] - 0s 9ms/step - loss: 0.2009 - mse: 0.0626 - val_loss: 0.2470 - val_mse: 0.0722\n",
      "Epoch 18/80\n",
      "9/9 [==============================] - 0s 6ms/step - loss: 0.1787 - mse: 0.0542 - val_loss: 0.2452 - val_mse: 0.0712\n",
      "Epoch 19/80\n",
      "9/9 [==============================] - 0s 7ms/step - loss: 0.1894 - mse: 0.0568 - val_loss: 0.2483 - val_mse: 0.0737\n",
      "Epoch 20/80\n",
      "9/9 [==============================] - 0s 6ms/step - loss: 0.2082 - mse: 0.0620 - val_loss: 0.2498 - val_mse: 0.0751\n",
      "Epoch 21/80\n",
      "9/9 [==============================] - 0s 6ms/step - loss: 0.1854 - mse: 0.0570 - val_loss: 0.2490 - val_mse: 0.0749\n",
      "Epoch 22/80\n",
      "9/9 [==============================] - 0s 6ms/step - loss: 0.1731 - mse: 0.0517 - val_loss: 0.2478 - val_mse: 0.0744\n",
      "Epoch 23/80\n",
      "9/9 [==============================] - 0s 6ms/step - loss: 0.1904 - mse: 0.0630 - val_loss: 0.2479 - val_mse: 0.0750\n",
      "Epoch 24/80\n",
      "9/9 [==============================] - 0s 7ms/step - loss: 0.1871 - mse: 0.0534 - val_loss: 0.2471 - val_mse: 0.0746\n",
      "Epoch 25/80\n",
      "9/9 [==============================] - 0s 7ms/step - loss: 0.1829 - mse: 0.0561 - val_loss: 0.2489 - val_mse: 0.0767\n",
      "Epoch 26/80\n",
      "9/9 [==============================] - 0s 7ms/step - loss: 0.2013 - mse: 0.0697 - val_loss: 0.2470 - val_mse: 0.0758\n",
      "Epoch 27/80\n",
      "9/9 [==============================] - 0s 7ms/step - loss: 0.1764 - mse: 0.0563 - val_loss: 0.2454 - val_mse: 0.0749\n",
      "Epoch 28/80\n",
      "9/9 [==============================] - 0s 6ms/step - loss: 0.1729 - mse: 0.0505 - val_loss: 0.2416 - val_mse: 0.0721\n",
      "Epoch 29/80\n",
      "9/9 [==============================] - 0s 6ms/step - loss: 0.1807 - mse: 0.0587 - val_loss: 0.2360 - val_mse: 0.0678\n",
      "Epoch 30/80\n",
      "9/9 [==============================] - 0s 6ms/step - loss: 0.1538 - mse: 0.0425 - val_loss: 0.2375 - val_mse: 0.0694\n",
      "Epoch 31/80\n",
      "9/9 [==============================] - 0s 6ms/step - loss: 0.1672 - mse: 0.0488 - val_loss: 0.2359 - val_mse: 0.0685\n",
      "Epoch 32/80\n",
      "9/9 [==============================] - 0s 6ms/step - loss: 0.1606 - mse: 0.0438 - val_loss: 0.2342 - val_mse: 0.0676\n",
      "Epoch 33/80\n",
      "9/9 [==============================] - 0s 6ms/step - loss: 0.1530 - mse: 0.0388 - val_loss: 0.2341 - val_mse: 0.0681\n",
      "Epoch 34/80\n",
      "9/9 [==============================] - 0s 6ms/step - loss: 0.1527 - mse: 0.0371 - val_loss: 0.2316 - val_mse: 0.0665\n",
      "Epoch 35/80\n",
      "9/9 [==============================] - 0s 6ms/step - loss: 0.1715 - mse: 0.0467 - val_loss: 0.2275 - val_mse: 0.0636\n",
      "Epoch 36/80\n",
      "9/9 [==============================] - 0s 7ms/step - loss: 0.1330 - mse: 0.0294 - val_loss: 0.2288 - val_mse: 0.0649\n",
      "Epoch 37/80\n",
      "9/9 [==============================] - 0s 6ms/step - loss: 0.1752 - mse: 0.0501 - val_loss: 0.2257 - val_mse: 0.0629\n",
      "Epoch 38/80\n",
      "9/9 [==============================] - 0s 6ms/step - loss: 0.1501 - mse: 0.0386 - val_loss: 0.2219 - val_mse: 0.0601\n",
      "Epoch 39/80\n",
      "9/9 [==============================] - 0s 6ms/step - loss: 0.1527 - mse: 0.0351 - val_loss: 0.2209 - val_mse: 0.0598\n",
      "Epoch 40/80\n",
      "9/9 [==============================] - 0s 6ms/step - loss: 0.1371 - mse: 0.0360 - val_loss: 0.2194 - val_mse: 0.0591\n",
      "Epoch 41/80\n",
      "9/9 [==============================] - 0s 6ms/step - loss: 0.1525 - mse: 0.0398 - val_loss: 0.2168 - val_mse: 0.0574\n",
      "Epoch 42/80\n",
      "9/9 [==============================] - 0s 6ms/step - loss: 0.1346 - mse: 0.0336 - val_loss: 0.2135 - val_mse: 0.0552\n",
      "Epoch 43/80\n",
      "9/9 [==============================] - 0s 6ms/step - loss: 0.1514 - mse: 0.0394 - val_loss: 0.2132 - val_mse: 0.0554\n",
      "Epoch 44/80\n",
      "9/9 [==============================] - 0s 6ms/step - loss: 0.1795 - mse: 0.0545 - val_loss: 0.2106 - val_mse: 0.0539\n",
      "Epoch 45/80\n",
      "9/9 [==============================] - 0s 6ms/step - loss: 0.1428 - mse: 0.0370 - val_loss: 0.2078 - val_mse: 0.0521\n",
      "Epoch 46/80\n",
      "9/9 [==============================] - 0s 6ms/step - loss: 0.1495 - mse: 0.0389 - val_loss: 0.2020 - val_mse: 0.0484\n",
      "Epoch 47/80\n",
      "9/9 [==============================] - 0s 6ms/step - loss: 0.1254 - mse: 0.0261 - val_loss: 0.1986 - val_mse: 0.0464\n",
      "Epoch 48/80\n",
      "9/9 [==============================] - ETA: 0s - loss: 0.1453 - mse: 0.028 - 0s 6ms/step - loss: 0.1401 - mse: 0.0353 - val_loss: 0.2013 - val_mse: 0.0485\n",
      "Epoch 49/80\n",
      "9/9 [==============================] - 0s 6ms/step - loss: 0.1311 - mse: 0.0278 - val_loss: 0.1976 - val_mse: 0.0464\n",
      "Epoch 50/80\n",
      "9/9 [==============================] - 0s 6ms/step - loss: 0.1322 - mse: 0.0283 - val_loss: 0.1945 - val_mse: 0.0447\n",
      "Epoch 51/80\n",
      "9/9 [==============================] - 0s 6ms/step - loss: 0.1430 - mse: 0.0399 - val_loss: 0.1947 - val_mse: 0.0452\n",
      "Epoch 52/80\n",
      "9/9 [==============================] - 0s 6ms/step - loss: 0.1482 - mse: 0.0419 - val_loss: 0.1897 - val_mse: 0.0422\n",
      "Epoch 53/80\n",
      "9/9 [==============================] - 0s 6ms/step - loss: 0.1309 - mse: 0.0378 - val_loss: 0.1876 - val_mse: 0.0410\n",
      "Epoch 54/80\n",
      "9/9 [==============================] - 0s 6ms/step - loss: 0.1397 - mse: 0.0367 - val_loss: 0.1865 - val_mse: 0.0405\n",
      "Epoch 55/80\n",
      "9/9 [==============================] - 0s 6ms/step - loss: 0.1365 - mse: 0.0349 - val_loss: 0.1829 - val_mse: 0.0387\n",
      "Epoch 56/80\n",
      "9/9 [==============================] - 0s 6ms/step - loss: 0.1405 - mse: 0.0357 - val_loss: 0.1811 - val_mse: 0.0379\n",
      "Epoch 57/80\n",
      "9/9 [==============================] - 0s 6ms/step - loss: 0.1249 - mse: 0.0298 - val_loss: 0.1837 - val_mse: 0.0393\n",
      "Epoch 58/80\n",
      "9/9 [==============================] - 0s 6ms/step - loss: 0.1334 - mse: 0.0345 - val_loss: 0.1773 - val_mse: 0.0362\n",
      "Epoch 59/80\n",
      "9/9 [==============================] - 0s 6ms/step - loss: 0.1107 - mse: 0.0228 - val_loss: 0.1756 - val_mse: 0.0355\n",
      "Epoch 60/80\n",
      "9/9 [==============================] - 0s 6ms/step - loss: 0.1320 - mse: 0.0340 - val_loss: 0.1777 - val_mse: 0.0363\n",
      "Epoch 61/80\n",
      "9/9 [==============================] - 0s 6ms/step - loss: 0.1379 - mse: 0.0342 - val_loss: 0.1782 - val_mse: 0.0365\n",
      "Epoch 62/80\n",
      "9/9 [==============================] - 0s 6ms/step - loss: 0.1209 - mse: 0.0297 - val_loss: 0.1727 - val_mse: 0.0343\n",
      "Epoch 63/80\n",
      "9/9 [==============================] - 0s 6ms/step - loss: 0.0958 - mse: 0.0205 - val_loss: 0.1742 - val_mse: 0.0348\n",
      "Epoch 64/80\n",
      "9/9 [==============================] - 0s 6ms/step - loss: 0.1280 - mse: 0.0315 - val_loss: 0.1743 - val_mse: 0.0347\n",
      "Epoch 65/80\n",
      "9/9 [==============================] - 0s 6ms/step - loss: 0.1028 - mse: 0.0214 - val_loss: 0.1733 - val_mse: 0.0344\n",
      "Epoch 66/80\n",
      "9/9 [==============================] - 0s 6ms/step - loss: 0.1376 - mse: 0.0363 - val_loss: 0.1734 - val_mse: 0.0344\n",
      "Epoch 67/80\n",
      "9/9 [==============================] - 0s 6ms/step - loss: 0.1089 - mse: 0.0266 - val_loss: 0.1714 - val_mse: 0.0337\n",
      "Epoch 68/80\n",
      "9/9 [==============================] - 0s 6ms/step - loss: 0.1042 - mse: 0.0202 - val_loss: 0.1720 - val_mse: 0.0339\n",
      "Epoch 69/80\n",
      "9/9 [==============================] - 0s 6ms/step - loss: 0.1482 - mse: 0.0418 - val_loss: 0.1687 - val_mse: 0.0329\n",
      "Epoch 70/80\n",
      "9/9 [==============================] - 0s 6ms/step - loss: 0.1255 - mse: 0.0272 - val_loss: 0.1686 - val_mse: 0.0327\n",
      "Epoch 71/80\n",
      "9/9 [==============================] - 0s 6ms/step - loss: 0.1287 - mse: 0.0334 - val_loss: 0.1683 - val_mse: 0.0326\n",
      "Epoch 72/80\n",
      "9/9 [==============================] - ETA: 0s - loss: 0.1071 - mse: 0.023 - 0s 6ms/step - loss: 0.1090 - mse: 0.0247 - val_loss: 0.1660 - val_mse: 0.0320\n",
      "Epoch 73/80\n",
      "9/9 [==============================] - 0s 6ms/step - loss: 0.1130 - mse: 0.0246 - val_loss: 0.1657 - val_mse: 0.0319\n",
      "Epoch 74/80\n",
      "9/9 [==============================] - ETA: 0s - loss: 0.1102 - mse: 0.020 - 0s 6ms/step - loss: 0.1171 - mse: 0.0273 - val_loss: 0.1675 - val_mse: 0.0325\n",
      "Epoch 75/80\n",
      "9/9 [==============================] - 0s 6ms/step - loss: 0.1108 - mse: 0.0241 - val_loss: 0.1690 - val_mse: 0.0328\n",
      "Epoch 76/80\n",
      "9/9 [==============================] - 0s 6ms/step - loss: 0.1310 - mse: 0.0307 - val_loss: 0.1680 - val_mse: 0.0325\n",
      "Epoch 77/80\n",
      "9/9 [==============================] - 0s 6ms/step - loss: 0.1256 - mse: 0.0346 - val_loss: 0.1687 - val_mse: 0.0325\n",
      "Epoch 78/80\n",
      "9/9 [==============================] - 0s 6ms/step - loss: 0.1040 - mse: 0.0207 - val_loss: 0.1681 - val_mse: 0.0323\n",
      "Epoch 79/80\n",
      "9/9 [==============================] - 0s 6ms/step - loss: 0.1230 - mse: 0.0296 - val_loss: 0.1659 - val_mse: 0.0317\n",
      "Epoch 80/80\n",
      "9/9 [==============================] - 0s 6ms/step - loss: 0.0976 - mse: 0.0194 - val_loss: 0.1638 - val_mse: 0.0312\n"
     ]
    }
   ],
   "source": [
    "EPOCHS=80\n",
    "\n",
    "model = crear_modeloFF()\n",
    "\n",
    "history=model.fit(x_train,y_train,epochs=EPOCHS,validation_data=(x_val,y_val),batch_size=PASOS)"
   ]
  },
  {
   "cell_type": "markdown",
   "metadata": {},
   "source": [
    "# Visualizamos resultados"
   ]
  },
  {
   "cell_type": "code",
   "execution_count": 24,
   "metadata": {},
   "outputs": [
    {
     "name": "stdout",
     "output_type": "stream",
     "text": [
      "11\n"
     ]
    }
   ],
   "source": [
    "results=model.predict(x_val)\n",
    "print(len(results))"
   ]
  },
  {
   "cell_type": "code",
   "execution_count": 25,
   "metadata": {},
   "outputs": [
    {
     "data": {
      "image/png": "[encoded data removed]",
      "text/plain": [
       "<Figure size 432x288 with 1 Axes>"
      ]
     },
     "metadata": {
      "needs_background": "light"
     },
     "output_type": "display_data"
    }
   ],
   "source": [
    "plt.scatter(range(len(y_val)),y_val,c='g')\n",
    "plt.scatter(range(len(results)),results,c='r')\n",
    "plt.title('validate')\n",
    "plt.xlabel(\"Tiempo (dias)\", fontsize = 10)\n",
    "plt.ylabel(\"viajes (en miles)\", fontsize = 10)\n",
    "plt.show()"
   ]
  },
  {
   "cell_type": "code",
   "execution_count": 26,
   "metadata": {},
   "outputs": [
    {
     "data": {
      "image/png": "[encoded data removed]",
      "text/plain": [
       "<Figure size 432x288 with 1 Axes>"
      ]
     },
     "metadata": {
      "needs_background": "light"
     },
     "output_type": "display_data"
    }
   ],
   "source": [
    "plt.plot(history.history['loss'])\n",
    "plt.plot(history.history['val_loss'])\n",
    "plt.title('loss')\n",
    "plt.legend( ('training loss', 'validate loss'), loc = 'upper right')\n",
    "plt.show()"
   ]
  },
  {
   "cell_type": "markdown",
   "metadata": {},
   "source": [
    "# Prediccion a futuro"
   ]
  },
  {
   "cell_type": "code",
   "execution_count": 27,
   "metadata": {},
   "outputs": [
    {
     "data": {
      "text/html": [
       "<div>\n",
       "<style scoped>\n",
       "    .dataframe tbody tr th:only-of-type {\n",
       "        vertical-align: middle;\n",
       "    }\n",
       "\n",
       "    .dataframe tbody tr th {\n",
       "        vertical-align: top;\n",
       "    }\n",
       "\n",
       "    .dataframe thead th {\n",
       "        text-align: right;\n",
       "    }\n",
       "</style>\n",
       "<table border=\"1\" class=\"dataframe\">\n",
       "  <thead>\n",
       "    <tr style=\"text-align: right;\">\n",
       "      <th></th>\n",
       "      <th>Viajes</th>\n",
       "    </tr>\n",
       "  </thead>\n",
       "  <tbody>\n",
       "    <tr>\n",
       "      <th>2020-06-07</th>\n",
       "      <td>3420</td>\n",
       "    </tr>\n",
       "    <tr>\n",
       "      <th>2020-06-08</th>\n",
       "      <td>3845</td>\n",
       "    </tr>\n",
       "    <tr>\n",
       "      <th>2020-06-09</th>\n",
       "      <td>4057</td>\n",
       "    </tr>\n",
       "    <tr>\n",
       "      <th>2020-06-10</th>\n",
       "      <td>3699</td>\n",
       "    </tr>\n",
       "    <tr>\n",
       "      <th>2020-06-11</th>\n",
       "      <td>4218</td>\n",
       "    </tr>\n",
       "    <tr>\n",
       "      <th>2020-06-12</th>\n",
       "      <td>4377</td>\n",
       "    </tr>\n",
       "    <tr>\n",
       "      <th>2020-06-13</th>\n",
       "      <td>4446</td>\n",
       "    </tr>\n",
       "    <tr>\n",
       "      <th>2020-06-14</th>\n",
       "      <td>4139</td>\n",
       "    </tr>\n",
       "    <tr>\n",
       "      <th>2020-06-15</th>\n",
       "      <td>3676</td>\n",
       "    </tr>\n",
       "    <tr>\n",
       "      <th>2020-06-16</th>\n",
       "      <td>3671</td>\n",
       "    </tr>\n",
       "    <tr>\n",
       "      <th>2020-06-17</th>\n",
       "      <td>3694</td>\n",
       "    </tr>\n",
       "    <tr>\n",
       "      <th>2020-06-18</th>\n",
       "      <td>4375</td>\n",
       "    </tr>\n",
       "    <tr>\n",
       "      <th>2020-06-19</th>\n",
       "      <td>4738</td>\n",
       "    </tr>\n",
       "    <tr>\n",
       "      <th>2020-06-20</th>\n",
       "      <td>2006</td>\n",
       "    </tr>\n",
       "  </tbody>\n",
       "</table>\n",
       "</div>"
      ],
      "text/plain": [
       "            Viajes\n",
       "2020-06-07    3420\n",
       "2020-06-08    3845\n",
       "2020-06-09    4057\n",
       "2020-06-10    3699\n",
       "2020-06-11    4218\n",
       "2020-06-12    4377\n",
       "2020-06-13    4446\n",
       "2020-06-14    4139\n",
       "2020-06-15    3676\n",
       "2020-06-16    3671\n",
       "2020-06-17    3694\n",
       "2020-06-18    4375\n",
       "2020-06-19    4738\n",
       "2020-06-20    2006"
      ]
     },
     "execution_count": 27,
     "metadata": {},
     "output_type": "execute_result"
    }
   ],
   "source": [
    "# usaremos los 14 ultimos dias del confinamiento en junio para predecir como habrian sido los dias del 21 al 27 en caso de que\n",
    "# el confinamiento se hubiese alargado por una semana mas\n",
    "\n",
    "ultimosDias_twt = df_twt['2020-6-7':'2020-6-20']\n",
    "ultimosDias_ine = df_ine['2020-6-7':'2020-6-20']\n",
    "ultimosDias_twt"
   ]
  },
  {
   "cell_type": "markdown",
   "metadata": {},
   "source": [
    "# Preparamos los datos para el test"
   ]
  },
  {
   "cell_type": "code",
   "execution_count": 28,
   "metadata": {},
   "outputs": [
    {
     "data": {
      "text/html": [
       "<div>\n",
       "<style scoped>\n",
       "    .dataframe tbody tr th:only-of-type {\n",
       "        vertical-align: middle;\n",
       "    }\n",
       "\n",
       "    .dataframe tbody tr th {\n",
       "        vertical-align: top;\n",
       "    }\n",
       "\n",
       "    .dataframe thead th {\n",
       "        text-align: right;\n",
       "    }\n",
       "</style>\n",
       "<table border=\"1\" class=\"dataframe\">\n",
       "  <thead>\n",
       "    <tr style=\"text-align: right;\">\n",
       "      <th></th>\n",
       "      <th>var1(t-7)</th>\n",
       "      <th>var2(t-7)</th>\n",
       "      <th>var1(t-6)</th>\n",
       "      <th>var2(t-6)</th>\n",
       "      <th>var1(t-5)</th>\n",
       "      <th>var2(t-5)</th>\n",
       "      <th>var1(t-4)</th>\n",
       "      <th>var2(t-4)</th>\n",
       "      <th>var1(t-3)</th>\n",
       "      <th>var2(t-3)</th>\n",
       "      <th>var1(t-2)</th>\n",
       "      <th>var2(t-2)</th>\n",
       "      <th>var1(t-1)</th>\n",
       "      <th>var2(t-1)</th>\n",
       "    </tr>\n",
       "  </thead>\n",
       "  <tbody>\n",
       "    <tr>\n",
       "      <th>7</th>\n",
       "      <td>0.035139</td>\n",
       "      <td>-1.000000</td>\n",
       "      <td>0.346267</td>\n",
       "      <td>0.002901</td>\n",
       "      <td>0.501464</td>\n",
       "      <td>0.018846</td>\n",
       "      <td>0.239385</td>\n",
       "      <td>0.796266</td>\n",
       "      <td>0.619327</td>\n",
       "      <td>0.699721</td>\n",
       "      <td>0.735725</td>\n",
       "      <td>0.713258</td>\n",
       "      <td>0.786237</td>\n",
       "      <td>-0.012126</td>\n",
       "    </tr>\n",
       "    <tr>\n",
       "      <th>8</th>\n",
       "      <td>0.346267</td>\n",
       "      <td>0.002901</td>\n",
       "      <td>0.501464</td>\n",
       "      <td>0.018846</td>\n",
       "      <td>0.239385</td>\n",
       "      <td>0.796266</td>\n",
       "      <td>0.619327</td>\n",
       "      <td>0.699721</td>\n",
       "      <td>0.735725</td>\n",
       "      <td>0.713258</td>\n",
       "      <td>0.786237</td>\n",
       "      <td>-0.012126</td>\n",
       "      <td>0.561494</td>\n",
       "      <td>-0.664099</td>\n",
       "    </tr>\n",
       "    <tr>\n",
       "      <th>9</th>\n",
       "      <td>0.501464</td>\n",
       "      <td>0.018846</td>\n",
       "      <td>0.239385</td>\n",
       "      <td>0.796266</td>\n",
       "      <td>0.619327</td>\n",
       "      <td>0.699721</td>\n",
       "      <td>0.735725</td>\n",
       "      <td>0.713258</td>\n",
       "      <td>0.786237</td>\n",
       "      <td>-0.012126</td>\n",
       "      <td>0.561494</td>\n",
       "      <td>-0.664099</td>\n",
       "      <td>0.222548</td>\n",
       "      <td>0.485206</td>\n",
       "    </tr>\n",
       "    <tr>\n",
       "      <th>10</th>\n",
       "      <td>0.239385</td>\n",
       "      <td>0.796266</td>\n",
       "      <td>0.619327</td>\n",
       "      <td>0.699721</td>\n",
       "      <td>0.735725</td>\n",
       "      <td>0.713258</td>\n",
       "      <td>0.786237</td>\n",
       "      <td>-0.012126</td>\n",
       "      <td>0.561494</td>\n",
       "      <td>-0.664099</td>\n",
       "      <td>0.222548</td>\n",
       "      <td>0.485206</td>\n",
       "      <td>0.218887</td>\n",
       "      <td>0.801405</td>\n",
       "    </tr>\n",
       "    <tr>\n",
       "      <th>11</th>\n",
       "      <td>0.619327</td>\n",
       "      <td>0.699721</td>\n",
       "      <td>0.735725</td>\n",
       "      <td>0.713258</td>\n",
       "      <td>0.786237</td>\n",
       "      <td>-0.012126</td>\n",
       "      <td>0.561494</td>\n",
       "      <td>-0.664099</td>\n",
       "      <td>0.222548</td>\n",
       "      <td>0.485206</td>\n",
       "      <td>0.218887</td>\n",
       "      <td>0.801405</td>\n",
       "      <td>0.235725</td>\n",
       "      <td>0.855810</td>\n",
       "    </tr>\n",
       "    <tr>\n",
       "      <th>12</th>\n",
       "      <td>0.735725</td>\n",
       "      <td>0.713258</td>\n",
       "      <td>0.786237</td>\n",
       "      <td>-0.012126</td>\n",
       "      <td>0.561494</td>\n",
       "      <td>-0.664099</td>\n",
       "      <td>0.222548</td>\n",
       "      <td>0.485206</td>\n",
       "      <td>0.218887</td>\n",
       "      <td>0.801405</td>\n",
       "      <td>0.235725</td>\n",
       "      <td>0.855810</td>\n",
       "      <td>0.734261</td>\n",
       "      <td>0.924364</td>\n",
       "    </tr>\n",
       "    <tr>\n",
       "      <th>13</th>\n",
       "      <td>0.786237</td>\n",
       "      <td>-0.012126</td>\n",
       "      <td>0.561494</td>\n",
       "      <td>-0.664099</td>\n",
       "      <td>0.222548</td>\n",
       "      <td>0.485206</td>\n",
       "      <td>0.218887</td>\n",
       "      <td>0.801405</td>\n",
       "      <td>0.235725</td>\n",
       "      <td>0.855810</td>\n",
       "      <td>0.734261</td>\n",
       "      <td>0.924364</td>\n",
       "      <td>1.000000</td>\n",
       "      <td>1.000000</td>\n",
       "    </tr>\n",
       "  </tbody>\n",
       "</table>\n",
       "</div>"
      ],
      "text/plain": [
       "    var1(t-7)  var2(t-7)  var1(t-6)  var2(t-6)  var1(t-5)  var2(t-5)  \\\n",
       "7    0.035139  -1.000000   0.346267   0.002901   0.501464   0.018846   \n",
       "8    0.346267   0.002901   0.501464   0.018846   0.239385   0.796266   \n",
       "9    0.501464   0.018846   0.239385   0.796266   0.619327   0.699721   \n",
       "10   0.239385   0.796266   0.619327   0.699721   0.735725   0.713258   \n",
       "11   0.619327   0.699721   0.735725   0.713258   0.786237  -0.012126   \n",
       "12   0.735725   0.713258   0.786237  -0.012126   0.561494  -0.664099   \n",
       "13   0.786237  -0.012126   0.561494  -0.664099   0.222548   0.485206   \n",
       "\n",
       "    var1(t-4)  var2(t-4)  var1(t-3)  var2(t-3)  var1(t-2)  var2(t-2)  \\\n",
       "7    0.239385   0.796266   0.619327   0.699721   0.735725   0.713258   \n",
       "8    0.619327   0.699721   0.735725   0.713258   0.786237  -0.012126   \n",
       "9    0.735725   0.713258   0.786237  -0.012126   0.561494  -0.664099   \n",
       "10   0.786237  -0.012126   0.561494  -0.664099   0.222548   0.485206   \n",
       "11   0.561494  -0.664099   0.222548   0.485206   0.218887   0.801405   \n",
       "12   0.222548   0.485206   0.218887   0.801405   0.235725   0.855810   \n",
       "13   0.218887   0.801405   0.235725   0.855810   0.734261   0.924364   \n",
       "\n",
       "    var1(t-1)  var2(t-1)  \n",
       "7    0.786237  -0.012126  \n",
       "8    0.561494  -0.664099  \n",
       "9    0.222548   0.485206  \n",
       "10   0.218887   0.801405  \n",
       "11   0.235725   0.855810  \n",
       "12   0.734261   0.924364  \n",
       "13   1.000000   1.000000  "
      ]
     },
     "execution_count": 28,
     "metadata": {},
     "output_type": "execute_result"
    }
   ],
   "source": [
    "# cargamos el dataframe en la variable values\n",
    "values_twt = ultimosDias_twt.values\n",
    "values_ine = ultimosDias_ine.values\n",
    "\n",
    "# convertimos los enteros en floats\n",
    "values_twt = values_twt.astype('float32')\n",
    "values_ine = values_ine.astype('float32')\n",
    "\n",
    "# normalizamos los datos a escala de entre -1 y 1\n",
    "values_twt =values_twt.reshape(-1, 1)\n",
    "scaled_twt = scaler.fit_transform(values_twt)\n",
    "values_ine =values_ine.reshape(-1, 1) # esto lo hacemos porque tenemos 1 sola dimension\n",
    "scaled_ine = scaler.fit_transform(values_ine)\n",
    "\n",
    "# usamos la funcion definida previamente\n",
    "reframed_twt = series_to_supervised(scaled_twt, PASOS, 1)\n",
    "reframed_ine = series_to_supervised(scaled_ine, PASOS, 1)\n",
    "\n",
    "# eliminamos la ultima columna pues es parte de lo que queremos hayar\n",
    "reframed_twt.drop(reframed_twt.columns[[7]], inplace=True, axis=1)\n",
    "reframed_ine.drop(reframed_ine.columns[[7]], inplace=True, axis=1)\n",
    "\n",
    "#unimos los dataframes\n",
    "reframed_ine.columns = ['var2(t-7)', 'var2(t-6)', 'var2(t-5)', 'var2(t-4)', 'var2(t-3)', 'var2(t-2)', 'var2(t-1)']\n",
    "reframed = pd.concat([reframed_twt.iloc[:, 0], reframed_ine.iloc[:, 0]], axis=1)\n",
    "\n",
    "for i in range(6):\n",
    "    reframed = pd.concat([reframed, reframed_twt.iloc[:, i+1]], axis=1)\n",
    "    reframed = pd.concat([reframed, reframed_ine.iloc[:, i+1]], axis=1)\n",
    "\n",
    "#mostramos el set de entrenamiento\n",
    "reframed.head(7)"
   ]
  },
  {
   "cell_type": "code",
   "execution_count": 29,
   "metadata": {},
   "outputs": [
    {
     "name": "stdout",
     "output_type": "stream",
     "text": [
      "(1, 1, 14)\n"
     ]
    },
    {
     "data": {
      "text/plain": [
       "array([[[ 0.78623724, -0.01212597,  0.56149364, -0.6640985 ,\n",
       "          0.22254777,  0.48520565,  0.21888733,  0.80140543,\n",
       "          0.23572493,  0.8558097 ,  0.7342608 ,  0.9243636 ,\n",
       "          1.        ,  1.        ]]], dtype=float32)"
      ]
     },
     "execution_count": 29,
     "metadata": {},
     "output_type": "execute_result"
    }
   ],
   "source": [
    "values = reframed.values\n",
    "\n",
    "#tomamos los valores para realizar el test\n",
    "x_test = values[6:, :]\n",
    "\n",
    "# reshape input to be 3D [samples, timesteps, features] - preguntar\n",
    "x_test = x_test.reshape((x_test.shape[0], 1, x_test.shape[1]))\n",
    "print(x_test.shape)\n",
    "x_test"
   ]
  },
  {
   "cell_type": "code",
   "execution_count": 30,
   "metadata": {},
   "outputs": [],
   "source": [
    "#definimos la funcion para realizar el desplazamiento que se hara en el array cada prediccion pues para hacer\n",
    "#la siguiente prediccion eliminamos el dia mas antiguo, desplazamos un lugar el resto de dias y añadimos el ultimo dia que\n",
    "#se ha predecido, esto es por que para predecir un dia se usan los 7 dias previos\n",
    "\n",
    "def agregarNuevoValor(x_test,nuevoValor):\n",
    "    for i in range(x_test.shape[2]-1):\n",
    "        x_test[0][0][i] = x_test[0][0][i+1]\n",
    "    x_test[0][0][x_test.shape[2]-1]=nuevoValor\n",
    "    return x_test"
   ]
  },
  {
   "cell_type": "markdown",
   "metadata": {},
   "source": [
    "# Predicciones para la proxima semana"
   ]
  },
  {
   "cell_type": "code",
   "execution_count": 31,
   "metadata": {},
   "outputs": [
    {
     "name": "stdout",
     "output_type": "stream",
     "text": [
      "[[[ 0.78623724 -0.01212597  0.56149364 -0.6640985   0.22254777\n",
      "    0.48520565  0.21888733  0.80140543  0.23572493  0.8558097\n",
      "    0.7342608   0.9243636   1.          1.        ]]]\n",
      "[[[-0.01212597  0.56149364 -0.6640985   0.22254777  0.48520565\n",
      "    0.21888733  0.80140543  0.23572493  0.8558097   0.7342608\n",
      "    0.9243636   1.          1.          0.20918407]]]\n",
      "[[[ 0.56149364 -0.6640985   0.22254777  0.48520565  0.21888733\n",
      "    0.80140543  0.23572493  0.8558097   0.7342608   0.9243636\n",
      "    1.          1.          0.20918407  0.7893052 ]]]\n",
      "[[[-0.6640985   0.22254777  0.48520565  0.21888733  0.80140543\n",
      "    0.23572493  0.8558097   0.7342608   0.9243636   1.\n",
      "    1.          0.20918407  0.7893052  -0.21598375]]]\n",
      "[[[ 0.22254777  0.48520565  0.21888733  0.80140543  0.23572493\n",
      "    0.8558097   0.7342608   0.9243636   1.          1.\n",
      "    0.20918407  0.7893052  -0.21598375  0.7524735 ]]]\n",
      "[[[ 0.48520565  0.21888733  0.80140543  0.23572493  0.8558097\n",
      "    0.7342608   0.9243636   1.          1.          0.20918407\n",
      "    0.7893052  -0.21598375  0.7524735   0.32157692]]]\n",
      "[[[ 0.21888733  0.80140543  0.23572493  0.8558097   0.7342608\n",
      "    0.9243636   1.          1.          0.20918407  0.7893052\n",
      "   -0.21598375  0.7524735   0.32157692  0.67394   ]]]\n"
     ]
    }
   ],
   "source": [
    "results=[]\n",
    "for i in range(7):\n",
    "    parcial=model.predict(x_test)\n",
    "    results.append(parcial[0])\n",
    "    print(x_test)\n",
    "    x_test=agregarNuevoValor(x_test,parcial[0])"
   ]
  },
  {
   "cell_type": "markdown",
   "metadata": {},
   "source": [
    "# Re-Convertimos los resultados"
   ]
  },
  {
   "cell_type": "code",
   "execution_count": 32,
   "metadata": {},
   "outputs": [
    {
     "name": "stdout",
     "output_type": "stream",
     "text": [
      "[array([0.20918407], dtype=float32), array([0.7893052], dtype=float32), array([-0.21598375], dtype=float32), array([0.7524735], dtype=float32), array([0.32157692], dtype=float32), array([0.67394], dtype=float32), array([0.57819116], dtype=float32)]\n"
     ]
    },
    {
     "data": {
      "text/plain": [
       "array([[4680146.37413286],\n",
       "       [5296038.64252398],\n",
       "       [4228762.0869683 ],\n",
       "       [5256935.80686511],\n",
       "       [4799469.54085401],\n",
       "       [5173559.84683124],\n",
       "       [5071906.99053983]])"
      ]
     },
     "execution_count": 32,
     "metadata": {},
     "output_type": "execute_result"
    }
   ],
   "source": [
    "adimen = [x for x in results]    \n",
    "print(adimen)\n",
    "inverted = scaler.inverse_transform(adimen)\n",
    "inverted"
   ]
  },
  {
   "cell_type": "markdown",
   "metadata": {},
   "source": [
    "# Visualizamos el pronostico"
   ]
  },
  {
   "cell_type": "code",
   "execution_count": 33,
   "metadata": {},
   "outputs": [
    {
     "data": {
      "image/png": "[encoded data removed]",
      "text/plain": [
       "<Figure size 432x288 with 1 Axes>"
      ]
     },
     "metadata": {
      "needs_background": "light"
     },
     "output_type": "display_data"
    }
   ],
   "source": [
    "#prediccion = pd.DataFrame(inverted)\n",
    "#prediccion.columns = ['pronostico']\n",
    "#plt.xlabel(\"Tiempo (dias)\", fontsize = 10)\n",
    "#plt.ylabel(\"viajes (en miles)\", fontsize = 10)\n",
    "#prediccion.plot()\n",
    "plt.plot(pd.DataFrame(inverted))\n",
    "plt.xlabel(\"Tiempo (dias)\", fontsize = 10)\n",
    "plt.ylabel(\"viajes (en miles)\", fontsize = 10)\n",
    "plt.show()"
   ]
  },
  {
   "cell_type": "markdown",
   "metadata": {},
   "source": [
    "# Prediccion con datos actuales"
   ]
  },
  {
   "cell_type": "code",
   "execution_count": 34,
   "metadata": {
    "scrolled": true
   },
   "outputs": [
    {
     "data": {
      "text/html": [
       "<div>\n",
       "<style scoped>\n",
       "    .dataframe tbody tr th:only-of-type {\n",
       "        vertical-align: middle;\n",
       "    }\n",
       "\n",
       "    .dataframe tbody tr th {\n",
       "        vertical-align: top;\n",
       "    }\n",
       "\n",
       "    .dataframe thead th {\n",
       "        text-align: right;\n",
       "    }\n",
       "</style>\n",
       "<table border=\"1\" class=\"dataframe\">\n",
       "  <thead>\n",
       "    <tr style=\"text-align: right;\">\n",
       "      <th></th>\n",
       "      <th>Viajes</th>\n",
       "    </tr>\n",
       "  </thead>\n",
       "  <tbody>\n",
       "    <tr>\n",
       "      <th>2020-05-11</th>\n",
       "      <td>3128</td>\n",
       "    </tr>\n",
       "    <tr>\n",
       "      <th>2020-05-12</th>\n",
       "      <td>3085</td>\n",
       "    </tr>\n",
       "    <tr>\n",
       "      <th>2020-05-13</th>\n",
       "      <td>3015</td>\n",
       "    </tr>\n",
       "    <tr>\n",
       "      <th>2020-05-14</th>\n",
       "      <td>3181</td>\n",
       "    </tr>\n",
       "    <tr>\n",
       "      <th>2020-05-15</th>\n",
       "      <td>3129</td>\n",
       "    </tr>\n",
       "    <tr>\n",
       "      <th>2020-05-16</th>\n",
       "      <td>2896</td>\n",
       "    </tr>\n",
       "    <tr>\n",
       "      <th>2020-05-17</th>\n",
       "      <td>2787</td>\n",
       "    </tr>\n",
       "    <tr>\n",
       "      <th>2020-05-18</th>\n",
       "      <td>3258</td>\n",
       "    </tr>\n",
       "    <tr>\n",
       "      <th>2020-05-19</th>\n",
       "      <td>3487</td>\n",
       "    </tr>\n",
       "    <tr>\n",
       "      <th>2020-05-20</th>\n",
       "      <td>3324</td>\n",
       "    </tr>\n",
       "    <tr>\n",
       "      <th>2020-05-21</th>\n",
       "      <td>3445</td>\n",
       "    </tr>\n",
       "    <tr>\n",
       "      <th>2020-05-22</th>\n",
       "      <td>3488</td>\n",
       "    </tr>\n",
       "    <tr>\n",
       "      <th>2020-05-23</th>\n",
       "      <td>3526</td>\n",
       "    </tr>\n",
       "    <tr>\n",
       "      <th>2020-05-24</th>\n",
       "      <td>3056</td>\n",
       "    </tr>\n",
       "  </tbody>\n",
       "</table>\n",
       "</div>"
      ],
      "text/plain": [
       "            Viajes\n",
       "2020-05-11    3128\n",
       "2020-05-12    3085\n",
       "2020-05-13    3015\n",
       "2020-05-14    3181\n",
       "2020-05-15    3129\n",
       "2020-05-16    2896\n",
       "2020-05-17    2787\n",
       "2020-05-18    3258\n",
       "2020-05-19    3487\n",
       "2020-05-20    3324\n",
       "2020-05-21    3445\n",
       "2020-05-22    3488\n",
       "2020-05-23    3526\n",
       "2020-05-24    3056"
      ]
     },
     "execution_count": 34,
     "metadata": {},
     "output_type": "execute_result"
    }
   ],
   "source": [
    "# usaremos 14 dias que poseemos para predecir los 7 dias siguientes tras esto compararemos los resultados con los que\n",
    "# poseemos para ver el grado de error\n",
    "Dias_twt = df_twt['2020-5-11':'2020-5-24']\n",
    "Dias_ine = df_ine['2020-5-11':'2020-5-24']\n",
    "Dias_twt"
   ]
  },
  {
   "cell_type": "markdown",
   "metadata": {},
   "source": [
    "# Preparamos los datos para el test"
   ]
  },
  {
   "cell_type": "code",
   "execution_count": 35,
   "metadata": {},
   "outputs": [
    {
     "data": {
      "text/html": [
       "<div>\n",
       "<style scoped>\n",
       "    .dataframe tbody tr th:only-of-type {\n",
       "        vertical-align: middle;\n",
       "    }\n",
       "\n",
       "    .dataframe tbody tr th {\n",
       "        vertical-align: top;\n",
       "    }\n",
       "\n",
       "    .dataframe thead th {\n",
       "        text-align: right;\n",
       "    }\n",
       "</style>\n",
       "<table border=\"1\" class=\"dataframe\">\n",
       "  <thead>\n",
       "    <tr style=\"text-align: right;\">\n",
       "      <th></th>\n",
       "      <th>var1(t-7)</th>\n",
       "      <th>var2(t-7)</th>\n",
       "      <th>var1(t-6)</th>\n",
       "      <th>var2(t-6)</th>\n",
       "      <th>var1(t-5)</th>\n",
       "      <th>var2(t-5)</th>\n",
       "      <th>var1(t-4)</th>\n",
       "      <th>var2(t-4)</th>\n",
       "      <th>var1(t-3)</th>\n",
       "      <th>var2(t-3)</th>\n",
       "      <th>var1(t-2)</th>\n",
       "      <th>var2(t-2)</th>\n",
       "      <th>var1(t-1)</th>\n",
       "      <th>var2(t-1)</th>\n",
       "    </tr>\n",
       "  </thead>\n",
       "  <tbody>\n",
       "    <tr>\n",
       "      <th>7</th>\n",
       "      <td>-0.077132</td>\n",
       "      <td>0.150527</td>\n",
       "      <td>-0.193505</td>\n",
       "      <td>0.604381</td>\n",
       "      <td>-0.382951</td>\n",
       "      <td>0.539155</td>\n",
       "      <td>0.066305</td>\n",
       "      <td>0.459777</td>\n",
       "      <td>-0.074426</td>\n",
       "      <td>0.356781</td>\n",
       "      <td>-0.705008</td>\n",
       "      <td>-0.429630</td>\n",
       "      <td>-1.000000</td>\n",
       "      <td>-1.000000</td>\n",
       "    </tr>\n",
       "    <tr>\n",
       "      <th>8</th>\n",
       "      <td>-0.193505</td>\n",
       "      <td>0.604381</td>\n",
       "      <td>-0.382951</td>\n",
       "      <td>0.539155</td>\n",
       "      <td>0.066305</td>\n",
       "      <td>0.459777</td>\n",
       "      <td>-0.074426</td>\n",
       "      <td>0.356781</td>\n",
       "      <td>-0.705008</td>\n",
       "      <td>-0.429630</td>\n",
       "      <td>-1.000000</td>\n",
       "      <td>-1.000000</td>\n",
       "      <td>0.274695</td>\n",
       "      <td>0.512966</td>\n",
       "    </tr>\n",
       "    <tr>\n",
       "      <th>9</th>\n",
       "      <td>-0.382951</td>\n",
       "      <td>0.539155</td>\n",
       "      <td>0.066305</td>\n",
       "      <td>0.459777</td>\n",
       "      <td>-0.074426</td>\n",
       "      <td>0.356781</td>\n",
       "      <td>-0.705008</td>\n",
       "      <td>-0.429630</td>\n",
       "      <td>-1.000000</td>\n",
       "      <td>-1.000000</td>\n",
       "      <td>0.274695</td>\n",
       "      <td>0.512966</td>\n",
       "      <td>0.894451</td>\n",
       "      <td>0.912932</td>\n",
       "    </tr>\n",
       "    <tr>\n",
       "      <th>10</th>\n",
       "      <td>0.066305</td>\n",
       "      <td>0.459777</td>\n",
       "      <td>-0.074426</td>\n",
       "      <td>0.356781</td>\n",
       "      <td>-0.705008</td>\n",
       "      <td>-0.429630</td>\n",
       "      <td>-1.000000</td>\n",
       "      <td>-1.000000</td>\n",
       "      <td>0.274695</td>\n",
       "      <td>0.512966</td>\n",
       "      <td>0.894451</td>\n",
       "      <td>0.912932</td>\n",
       "      <td>0.453315</td>\n",
       "      <td>0.938927</td>\n",
       "    </tr>\n",
       "    <tr>\n",
       "      <th>11</th>\n",
       "      <td>-0.074426</td>\n",
       "      <td>0.356781</td>\n",
       "      <td>-0.705008</td>\n",
       "      <td>-0.429630</td>\n",
       "      <td>-1.000000</td>\n",
       "      <td>-1.000000</td>\n",
       "      <td>0.274695</td>\n",
       "      <td>0.512966</td>\n",
       "      <td>0.894451</td>\n",
       "      <td>0.912932</td>\n",
       "      <td>0.453315</td>\n",
       "      <td>0.938927</td>\n",
       "      <td>0.780785</td>\n",
       "      <td>0.955663</td>\n",
       "    </tr>\n",
       "    <tr>\n",
       "      <th>12</th>\n",
       "      <td>-0.705008</td>\n",
       "      <td>-0.429630</td>\n",
       "      <td>-1.000000</td>\n",
       "      <td>-1.000000</td>\n",
       "      <td>0.274695</td>\n",
       "      <td>0.512966</td>\n",
       "      <td>0.894451</td>\n",
       "      <td>0.912932</td>\n",
       "      <td>0.453315</td>\n",
       "      <td>0.938927</td>\n",
       "      <td>0.780785</td>\n",
       "      <td>0.955663</td>\n",
       "      <td>0.897158</td>\n",
       "      <td>1.000000</td>\n",
       "    </tr>\n",
       "    <tr>\n",
       "      <th>13</th>\n",
       "      <td>-1.000000</td>\n",
       "      <td>-1.000000</td>\n",
       "      <td>0.274695</td>\n",
       "      <td>0.512966</td>\n",
       "      <td>0.894451</td>\n",
       "      <td>0.912932</td>\n",
       "      <td>0.453315</td>\n",
       "      <td>0.938927</td>\n",
       "      <td>0.780785</td>\n",
       "      <td>0.955663</td>\n",
       "      <td>0.897158</td>\n",
       "      <td>1.000000</td>\n",
       "      <td>0.999999</td>\n",
       "      <td>0.169306</td>\n",
       "    </tr>\n",
       "  </tbody>\n",
       "</table>\n",
       "</div>"
      ],
      "text/plain": [
       "    var1(t-7)  var2(t-7)  var1(t-6)  var2(t-6)  var1(t-5)  var2(t-5)  \\\n",
       "7   -0.077132   0.150527  -0.193505   0.604381  -0.382951   0.539155   \n",
       "8   -0.193505   0.604381  -0.382951   0.539155   0.066305   0.459777   \n",
       "9   -0.382951   0.539155   0.066305   0.459777  -0.074426   0.356781   \n",
       "10   0.066305   0.459777  -0.074426   0.356781  -0.705008  -0.429630   \n",
       "11  -0.074426   0.356781  -0.705008  -0.429630  -1.000000  -1.000000   \n",
       "12  -0.705008  -0.429630  -1.000000  -1.000000   0.274695   0.512966   \n",
       "13  -1.000000  -1.000000   0.274695   0.512966   0.894451   0.912932   \n",
       "\n",
       "    var1(t-4)  var2(t-4)  var1(t-3)  var2(t-3)  var1(t-2)  var2(t-2)  \\\n",
       "7    0.066305   0.459777  -0.074426   0.356781  -0.705008  -0.429630   \n",
       "8   -0.074426   0.356781  -0.705008  -0.429630  -1.000000  -1.000000   \n",
       "9   -0.705008  -0.429630  -1.000000  -1.000000   0.274695   0.512966   \n",
       "10  -1.000000  -1.000000   0.274695   0.512966   0.894451   0.912932   \n",
       "11   0.274695   0.512966   0.894451   0.912932   0.453315   0.938927   \n",
       "12   0.894451   0.912932   0.453315   0.938927   0.780785   0.955663   \n",
       "13   0.453315   0.938927   0.780785   0.955663   0.897158   1.000000   \n",
       "\n",
       "    var1(t-1)  var2(t-1)  \n",
       "7   -1.000000  -1.000000  \n",
       "8    0.274695   0.512966  \n",
       "9    0.894451   0.912932  \n",
       "10   0.453315   0.938927  \n",
       "11   0.780785   0.955663  \n",
       "12   0.897158   1.000000  \n",
       "13   0.999999   0.169306  "
      ]
     },
     "execution_count": 35,
     "metadata": {},
     "output_type": "execute_result"
    }
   ],
   "source": [
    "# cargamos el dataframe en la variable values\n",
    "values_twt = Dias_twt.values\n",
    "values_ine = Dias_ine.values\n",
    "\n",
    "# convertimos los enteros en floats\n",
    "values_twt = values_twt.astype('float32')\n",
    "values_ine = values_ine.astype('float32')\n",
    "\n",
    "# normalizamos los datos a escala de entre -1 y 1\n",
    "values_twt =values_twt.reshape(-1, 1)\n",
    "scaled_twt = scaler.fit_transform(values_twt)\n",
    "values_ine =values_ine.reshape(-1, 1) # esto lo hacemos porque tenemos 1 sola dimension\n",
    "scaled_ine = scaler.fit_transform(values_ine)\n",
    "\n",
    "# usamos la funcion definida previamente\n",
    "reframed_twt = series_to_supervised(scaled_twt, PASOS, 1)\n",
    "reframed_ine = series_to_supervised(scaled_ine, PASOS, 1)\n",
    "\n",
    "# eliminamos la ultima columna pues es parte de lo que queremos hayar\n",
    "reframed_twt.drop(reframed_twt.columns[[7]], inplace=True, axis=1)\n",
    "reframed_ine.drop(reframed_ine.columns[[7]], inplace=True, axis=1)\n",
    "\n",
    "#unimos los dataframes\n",
    "reframed_ine.columns = ['var2(t-7)', 'var2(t-6)', 'var2(t-5)', 'var2(t-4)', 'var2(t-3)', 'var2(t-2)', 'var2(t-1)']\n",
    "reframed = pd.concat([reframed_twt.iloc[:, 0], reframed_ine.iloc[:, 0]], axis=1)\n",
    "\n",
    "for i in range(6):\n",
    "    reframed = pd.concat([reframed, reframed_twt.iloc[:, i+1]], axis=1)\n",
    "    reframed = pd.concat([reframed, reframed_ine.iloc[:, i+1]], axis=1)\n",
    "\n",
    "#mostramos el set de entrenamiento\n",
    "reframed.head(7)"
   ]
  },
  {
   "cell_type": "code",
   "execution_count": 36,
   "metadata": {},
   "outputs": [
    {
     "name": "stdout",
     "output_type": "stream",
     "text": [
      "(1, 1, 14)\n"
     ]
    },
    {
     "data": {
      "text/plain": [
       "array([[[-1.0000005 , -1.        ,  0.2746954 ,  0.51296616,\n",
       "          0.89445114,  0.9129319 ,  0.45331478,  0.9389267 ,\n",
       "          0.7807846 ,  0.9556627 ,  0.89715767,  1.        ,\n",
       "          0.99999905,  0.16930556]]], dtype=float32)"
      ]
     },
     "execution_count": 36,
     "metadata": {},
     "output_type": "execute_result"
    }
   ],
   "source": [
    "values = reframed.values\n",
    "\n",
    "#tomamos los valores para realizar el test\n",
    "x_test = values[6:, :]\n",
    "\n",
    "# reshape input to be 3D [samples, timesteps, features] - preguntar\n",
    "x_test = x_test.reshape((x_test.shape[0], 1, x_test.shape[1]))\n",
    "print(x_test.shape)\n",
    "x_test"
   ]
  },
  {
   "cell_type": "code",
   "execution_count": 37,
   "metadata": {},
   "outputs": [],
   "source": [
    "#en la linea 24 definimos la funcion para realizar el desplazamiento que se hara en el array cada prediccion pues para hacer\n",
    "#la siguiente prediccion eliminamos el dia mas antiguo, desplazamos un lugar el resto de dias y añadimos el ultimo dia que\n",
    "#se ha predecido, esto es por que para predecir un dia se usan los 7 dias previos, y que usaremos a continuación"
   ]
  },
  {
   "cell_type": "markdown",
   "metadata": {},
   "source": [
    "# Realizamos la prediccion "
   ]
  },
  {
   "cell_type": "code",
   "execution_count": 38,
   "metadata": {},
   "outputs": [
    {
     "name": "stdout",
     "output_type": "stream",
     "text": [
      "[[[-1.0000005  -1.          0.2746954   0.51296616  0.89445114\n",
      "    0.9129319   0.45331478  0.9389267   0.7807846   0.9556627\n",
      "    0.89715767  1.          0.99999905  0.16930556]]]\n",
      "[[[-1.          0.2746954   0.51296616  0.89445114  0.9129319\n",
      "    0.45331478  0.9389267   0.7807846   0.9556627   0.89715767\n",
      "    1.          0.99999905  0.16930556 -0.25746387]]]\n",
      "[[[ 0.2746954   0.51296616  0.89445114  0.9129319   0.45331478\n",
      "    0.9389267   0.7807846   0.9556627   0.89715767  1.\n",
      "    0.99999905  0.16930556 -0.25746387  0.5887383 ]]]\n",
      "[[[ 0.51296616  0.89445114  0.9129319   0.45331478  0.9389267\n",
      "    0.7807846   0.9556627   0.89715767  1.          0.99999905\n",
      "    0.16930556 -0.25746387  0.5887383   0.5358879 ]]]\n",
      "[[[ 0.89445114  0.9129319   0.45331478  0.9389267   0.7807846\n",
      "    0.9556627   0.89715767  1.          0.99999905  0.16930556\n",
      "   -0.25746387  0.5887383   0.5358879   0.74546534]]]\n",
      "[[[ 0.9129319   0.45331478  0.9389267   0.7807846   0.9556627\n",
      "    0.89715767  1.          0.99999905  0.16930556 -0.25746387\n",
      "    0.5887383   0.5358879   0.74546534  0.6781609 ]]]\n",
      "[[[ 0.45331478  0.9389267   0.7807846   0.9556627   0.89715767\n",
      "    1.          0.99999905  0.16930556 -0.25746387  0.5887383\n",
      "    0.5358879   0.74546534  0.6781609   0.5888618 ]]]\n"
     ]
    }
   ],
   "source": [
    "results=[]\n",
    "for i in range(7):\n",
    "    parcial=model.predict(x_test)\n",
    "    results.append(parcial[0])\n",
    "    print(x_test)\n",
    "    x_test=agregarNuevoValor(x_test,parcial[0])"
   ]
  },
  {
   "cell_type": "markdown",
   "metadata": {},
   "source": [
    "# Re-Convertimos los resultados"
   ]
  },
  {
   "cell_type": "code",
   "execution_count": 39,
   "metadata": {
    "scrolled": false
   },
   "outputs": [
    {
     "name": "stdout",
     "output_type": "stream",
     "text": [
      "[array([-0.25746387], dtype=float32), array([0.5887383], dtype=float32), array([0.5358879], dtype=float32), array([0.74546534], dtype=float32), array([0.6781609], dtype=float32), array([0.5888618], dtype=float32), array([0.7891078], dtype=float32)]\n"
     ]
    },
    {
     "data": {
      "text/plain": [
       "array([[3150116],\n",
       "       [3970224],\n",
       "       [3919003],\n",
       "       [4122118],\n",
       "       [4056889],\n",
       "       [3970343],\n",
       "       [4164414]])"
      ]
     },
     "execution_count": 39,
     "metadata": {},
     "output_type": "execute_result"
    }
   ],
   "source": [
    "adimen = [x for x in results]    \n",
    "print(adimen)\n",
    "inverted = scaler.inverse_transform(adimen)\n",
    "\n",
    "#en nuestro problema no tienen sentido los decimales pues no se pueden hacer 0.5 viajes o 0.25 viajes\n",
    "inverted = inverted.round()\n",
    "inverted = inverted.astype(int)\n",
    "inverted"
   ]
  },
  {
   "cell_type": "markdown",
   "metadata": {},
   "source": [
    "# Visualizamos el pronostico"
   ]
  },
  {
   "cell_type": "code",
   "execution_count": 40,
   "metadata": {
    "scrolled": false
   },
   "outputs": [
    {
     "data": {
      "text/plain": [
       "<AxesSubplot:>"
      ]
     },
     "execution_count": 40,
     "metadata": {},
     "output_type": "execute_result"
    },
    {
     "data": {
      "image/png": "[encoded data removed]",
      "text/plain": [
       "<Figure size 432x288 with 1 Axes>"
      ]
     },
     "metadata": {
      "needs_background": "light"
     },
     "output_type": "display_data"
    }
   ],
   "source": [
    "e_date = datetime.datetime.strptime('2020-05-31', '%Y-%m-%d')\n",
    "i_date = datetime.datetime.strptime('2020-05-25', '%Y-%m-%d')\n",
    "delta = e_date - i_date\n",
    "\n",
    "index_days = []\n",
    "for i in range(delta.days + 1):\n",
    "    day = i_date + timedelta(days=i)\n",
    "    index_days.append(day)\n",
    "\n",
    "prediccion = pd.DataFrame(inverted, index= index_days)\n",
    "prediccion.columns = ['pronostico']\n",
    "prediccion.plot()"
   ]
  },
  {
   "cell_type": "code",
   "execution_count": 41,
   "metadata": {},
   "outputs": [
    {
     "data": {
      "text/html": [
       "<div>\n",
       "<style scoped>\n",
       "    .dataframe tbody tr th:only-of-type {\n",
       "        vertical-align: middle;\n",
       "    }\n",
       "\n",
       "    .dataframe tbody tr th {\n",
       "        vertical-align: top;\n",
       "    }\n",
       "\n",
       "    .dataframe thead th {\n",
       "        text-align: right;\n",
       "    }\n",
       "</style>\n",
       "<table border=\"1\" class=\"dataframe\">\n",
       "  <thead>\n",
       "    <tr style=\"text-align: right;\">\n",
       "      <th></th>\n",
       "      <th>real</th>\n",
       "      <th>prediccion</th>\n",
       "    </tr>\n",
       "  </thead>\n",
       "  <tbody>\n",
       "    <tr>\n",
       "      <th>2020-05-25</th>\n",
       "      <td>4382232</td>\n",
       "      <td>3150116</td>\n",
       "    </tr>\n",
       "    <tr>\n",
       "      <th>2020-05-26</th>\n",
       "      <td>4709433</td>\n",
       "      <td>3970224</td>\n",
       "    </tr>\n",
       "    <tr>\n",
       "      <th>2020-05-27</th>\n",
       "      <td>4837770</td>\n",
       "      <td>3919003</td>\n",
       "    </tr>\n",
       "    <tr>\n",
       "      <th>2020-05-28</th>\n",
       "      <td>4898946</td>\n",
       "      <td>4122118</td>\n",
       "    </tr>\n",
       "    <tr>\n",
       "      <th>2020-05-29</th>\n",
       "      <td>4909824</td>\n",
       "      <td>4056889</td>\n",
       "    </tr>\n",
       "    <tr>\n",
       "      <th>2020-05-30</th>\n",
       "      <td>4202334</td>\n",
       "      <td>3970343</td>\n",
       "    </tr>\n",
       "    <tr>\n",
       "      <th>2020-05-31</th>\n",
       "      <td>3305717</td>\n",
       "      <td>4164414</td>\n",
       "    </tr>\n",
       "  </tbody>\n",
       "</table>\n",
       "</div>"
      ],
      "text/plain": [
       "               real  prediccion\n",
       "2020-05-25  4382232     3150116\n",
       "2020-05-26  4709433     3970224\n",
       "2020-05-27  4837770     3919003\n",
       "2020-05-28  4898946     4122118\n",
       "2020-05-29  4909824     4056889\n",
       "2020-05-30  4202334     3970343\n",
       "2020-05-31  3305717     4164414"
      ]
     },
     "execution_count": 41,
     "metadata": {},
     "output_type": "execute_result"
    }
   ],
   "source": [
    "datosReales = df_ine['2020-5-25':'2020-5-31']\n",
    "\n",
    "compara = pd.concat([datosReales, prediccion], axis=1)\n",
    "compara.columns = ['real', 'prediccion']\n",
    "compara"
   ]
  },
  {
   "cell_type": "code",
   "execution_count": 42,
   "metadata": {},
   "outputs": [
    {
     "data": {
      "text/plain": [
       "<matplotlib.legend.Legend at 0x2503faeb880>"
      ]
     },
     "execution_count": 42,
     "metadata": {},
     "output_type": "execute_result"
    },
    {
     "data": {
      "image/png": "[encoded data removed]",
      "text/plain": [
       "<Figure size 432x288 with 1 Axes>"
      ]
     },
     "metadata": {
      "needs_background": "light"
     },
     "output_type": "display_data"
    }
   ],
   "source": [
    "compara['real'].plot()\n",
    "compara['prediccion'].plot()\n",
    "plt.xlabel(\"Tiempo (dias)\", fontsize = 10)\n",
    "plt.ylabel(\"viajes (en miles)\", fontsize = 10)\n",
    "plt.legend( ('Datos reales', 'Prediccion'), loc = 'lower right')"
   ]
  },
  {
   "cell_type": "code",
   "execution_count": 43,
   "metadata": {
    "scrolled": false
   },
   "outputs": [
    {
     "data": {
      "text/plain": [
       "801506.1428571428"
      ]
     },
     "execution_count": 43,
     "metadata": {},
     "output_type": "execute_result"
    }
   ],
   "source": [
    "from sklearn.metrics import mean_absolute_error\n",
    "\n",
    "mean_absolute_error(prediccion, datosReales)"
   ]
  },
  {
   "cell_type": "code",
   "execution_count": 44,
   "metadata": {
    "scrolled": false
   },
   "outputs": [
    {
     "data": {
      "text/plain": [
       "718687543017.8572"
      ]
     },
     "execution_count": 44,
     "metadata": {},
     "output_type": "execute_result"
    }
   ],
   "source": [
    "from sklearn.metrics import mean_squared_error\n",
    "\n",
    "mean_squared_error(prediccion, datosReales)"
   ]
  },
  {
   "cell_type": "code",
   "execution_count": null,
   "metadata": {},
   "outputs": [],
   "source": []
  }
 ],
 "metadata": {
  "kernelspec": {
   "display_name": "Python 3",
   "language": "python",
   "name": "python3"
  },
  "language_info": {
   "codemirror_mode": {
    "name": "ipython",
    "version": 3
   },
   "file_extension": ".py",
   "mimetype": "text/x-python",
   "name": "python",
   "nbconvert_exporter": "python",
   "pygments_lexer": "ipython3",
   "version": "3.8.5"
  }
 },
 "nbformat": 4,
 "nbformat_minor": 4
}
