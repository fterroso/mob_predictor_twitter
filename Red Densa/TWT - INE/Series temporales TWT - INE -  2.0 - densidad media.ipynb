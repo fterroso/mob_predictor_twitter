{
 "cells": [
  {
   "cell_type": "code",
   "execution_count": 1,
   "metadata": {},
   "outputs": [],
   "source": [
    "import pandas as pd\n",
    "import numpy as np\n",
    "from tqdm import tqdm_notebook\n",
    "import os\n",
    "from sklearn.metrics import mean_squared_error, mean_absolute_error\n",
    "from sklearn.preprocessing import MinMaxScaler\n",
    "from keras.models import Sequential\n",
    "from keras.layers import Dense,Activation,Flatten,Dropout\n",
    "\n",
    "import matplotlib.pyplot as plt\n",
    "%matplotlib inline\n",
    "\n",
    "import warnings\n",
    "warnings.filterwarnings(\"ignore\")\n",
    "\n",
    "import datetime\n",
    "from datetime import date, timedelta\n",
    "e_date = datetime.datetime.strptime('2020-06-20', '%Y-%m-%d')\n",
    "i_date = datetime.datetime.strptime('2020-04-01', '%Y-%m-%d')\n",
    "\n",
    "data_path = 'D:/universidad/universidad 4/TFG/recursos para el desarrollo/datos procesados/OD'"
   ]
  },
  {
   "cell_type": "code",
   "execution_count": 2,
   "metadata": {},
   "outputs": [],
   "source": [
    "delta = e_date - i_date\n",
    "\n",
    "target_days = []\n",
    "for i in range(delta.days + 1):\n",
    "    day = i_date + timedelta(days=i)\n",
    "    target_days.append(day)"
   ]
  },
  {
   "cell_type": "code",
   "execution_count": 3,
   "metadata": {},
   "outputs": [],
   "source": [
    "def read_OD_fn(source_type):\n",
    "    ods = {}\n",
    "    for date in tqdm_notebook(target_days):\n",
    "        od_date= pd.read_csv(os.path.join(data_path, 'date_{}_OD_{}.csv'.format(source_type,date.strftime('%Y-%m-%d'))), \n",
    "                            index_col=0)\n",
    "        ods[date] = od_date\n",
    "    return ods"
   ]
  },
  {
   "cell_type": "code",
   "execution_count": 4,
   "metadata": {},
   "outputs": [
    {
     "data": {
      "application/vnd.jupyter.widget-view+json": {
       "model_id": "a0b4e203130b412ca5325c8253e1b2f6",
       "version_major": 2,
       "version_minor": 0
      },
      "text/plain": [
       "  0%|          | 0/81 [00:00<?, ?it/s]"
      ]
     },
     "metadata": {},
     "output_type": "display_data"
    }
   ],
   "source": [
    "ine_ods = read_OD_fn('INE')"
   ]
  },
  {
   "cell_type": "code",
   "execution_count": 5,
   "metadata": {
    "scrolled": true
   },
   "outputs": [
    {
     "data": {
      "application/vnd.jupyter.widget-view+json": {
       "model_id": "9784a66f959f444092f4f90b91603fc3",
       "version_major": 2,
       "version_minor": 0
      },
      "text/plain": [
       "  0%|          | 0/81 [00:00<?, ?it/s]"
      ]
     },
     "metadata": {},
     "output_type": "display_data"
    }
   ],
   "source": [
    "twt_ods = read_OD_fn('TWT')"
   ]
  },
  {
   "cell_type": "markdown",
   "metadata": {},
   "source": [
    "# Serializar los datos"
   ]
  },
  {
   "cell_type": "code",
   "execution_count": 6,
   "metadata": {
    "scrolled": true
   },
   "outputs": [
    {
     "data": {
      "application/vnd.jupyter.widget-view+json": {
       "model_id": "99a163b379314252aa27f78be33614dd",
       "version_major": 2,
       "version_minor": 0
      },
      "text/plain": [
       "  0%|          | 0/81 [00:00<?, ?it/s]"
      ]
     },
     "metadata": {},
     "output_type": "display_data"
    },
    {
     "data": {
      "application/vnd.jupyter.widget-view+json": {
       "model_id": "ac65c55c779749c7afb38a66d1159992",
       "version_major": 2,
       "version_minor": 0
      },
      "text/plain": [
       "  0%|          | 0/81 [00:00<?, ?it/s]"
      ]
     },
     "metadata": {},
     "output_type": "display_data"
    }
   ],
   "source": [
    "lista_twt1 = []\n",
    "lista_twt2 = []\n",
    "lista_twt3 = []\n",
    "lista_twt4 = []\n",
    "lista_twt5 = []\n",
    "\n",
    "for date in tqdm_notebook(target_days):\n",
    "    lista_twt1.append(twt_ods[date].loc['18GU','total'])\n",
    "    lista_twt2.append(twt_ods[date].loc['013B','total'])\n",
    "    lista_twt3.append(twt_ods[date].loc['021S','total'])\n",
    "    lista_twt4.append(twt_ods[date].loc['219M','total'])\n",
    "    lista_twt5.append(twt_ods[date].loc['01CA','total'])\n",
    "    \n",
    "    \n",
    "lista_ine1 = []\n",
    "lista_ine2 = []\n",
    "lista_ine3 = []\n",
    "lista_ine4 = []\n",
    "lista_ine5 = []\n",
    "\n",
    "for date in tqdm_notebook(target_days):\n",
    "    lista_ine1.append(ine_ods[date].loc['18GU','total'])\n",
    "    lista_ine2.append(ine_ods[date].loc['013B','total'])\n",
    "    lista_ine3.append(ine_ods[date].loc['021S','total'])\n",
    "    lista_ine4.append(ine_ods[date].loc['219M','total'])\n",
    "    lista_ine5.append(ine_ods[date].loc['01CA','total'])\n",
    "    "
   ]
  },
  {
   "cell_type": "code",
   "execution_count": 7,
   "metadata": {
    "scrolled": true
   },
   "outputs": [],
   "source": [
    "df_twt1 = pd.DataFrame (lista_twt1, columns = ['Viajes'], index= target_days)\n",
    "df_ine1 = pd.DataFrame (lista_ine1, columns = ['Viajes'], index= target_days)\n",
    "\n",
    "df_twt2 = pd.DataFrame (lista_twt2, columns = ['Viajes'], index= target_days)\n",
    "df_ine2 = pd.DataFrame (lista_ine2, columns = ['Viajes'], index= target_days)\n",
    "\n",
    "df_twt3 = pd.DataFrame (lista_twt3, columns = ['Viajes'], index= target_days)\n",
    "df_ine3 = pd.DataFrame (lista_ine3, columns = ['Viajes'], index= target_days)\n",
    "\n",
    "df_twt4 = pd.DataFrame (lista_twt4, columns = ['Viajes'], index= target_days)\n",
    "df_ine4 = pd.DataFrame (lista_ine4, columns = ['Viajes'], index= target_days)\n",
    "\n",
    "df_twt5 = pd.DataFrame (lista_twt5, columns = ['Viajes'], index= target_days)\n",
    "df_ine5 = pd.DataFrame (lista_ine5, columns = ['Viajes'], index= target_days)"
   ]
  },
  {
   "cell_type": "code",
   "execution_count": 8,
   "metadata": {},
   "outputs": [],
   "source": [
    "lista_twt = []\n",
    "lista_ine = []\n",
    "\n",
    "df_twt = df_twt1 + df_twt2 + df_twt3 + df_twt4 + df_twt5\n",
    "df_ine = df_ine1 + df_ine2 + df_ine3 + df_ine4 + df_ine5"
   ]
  },
  {
   "cell_type": "code",
   "execution_count": 9,
   "metadata": {},
   "outputs": [
    {
     "data": {
      "text/html": [
       "<div>\n",
       "<style scoped>\n",
       "    .dataframe tbody tr th:only-of-type {\n",
       "        vertical-align: middle;\n",
       "    }\n",
       "\n",
       "    .dataframe tbody tr th {\n",
       "        vertical-align: top;\n",
       "    }\n",
       "\n",
       "    .dataframe thead th {\n",
       "        text-align: right;\n",
       "    }\n",
       "</style>\n",
       "<table border=\"1\" class=\"dataframe\">\n",
       "  <thead>\n",
       "    <tr style=\"text-align: right;\">\n",
       "      <th></th>\n",
       "      <th>Viajes</th>\n",
       "    </tr>\n",
       "  </thead>\n",
       "  <tbody>\n",
       "    <tr>\n",
       "      <th>2020-04-01</th>\n",
       "      <td>0</td>\n",
       "    </tr>\n",
       "    <tr>\n",
       "      <th>2020-04-02</th>\n",
       "      <td>0</td>\n",
       "    </tr>\n",
       "    <tr>\n",
       "      <th>2020-04-03</th>\n",
       "      <td>0</td>\n",
       "    </tr>\n",
       "    <tr>\n",
       "      <th>2020-04-04</th>\n",
       "      <td>0</td>\n",
       "    </tr>\n",
       "    <tr>\n",
       "      <th>2020-04-05</th>\n",
       "      <td>0</td>\n",
       "    </tr>\n",
       "  </tbody>\n",
       "</table>\n",
       "</div>"
      ],
      "text/plain": [
       "            Viajes\n",
       "2020-04-01       0\n",
       "2020-04-02       0\n",
       "2020-04-03       0\n",
       "2020-04-04       0\n",
       "2020-04-05       0"
      ]
     },
     "execution_count": 9,
     "metadata": {},
     "output_type": "execute_result"
    }
   ],
   "source": [
    "df_twt.head()"
   ]
  },
  {
   "cell_type": "code",
   "execution_count": 10,
   "metadata": {},
   "outputs": [
    {
     "data": {
      "text/html": [
       "<div>\n",
       "<style scoped>\n",
       "    .dataframe tbody tr th:only-of-type {\n",
       "        vertical-align: middle;\n",
       "    }\n",
       "\n",
       "    .dataframe tbody tr th {\n",
       "        vertical-align: top;\n",
       "    }\n",
       "\n",
       "    .dataframe thead th {\n",
       "        text-align: right;\n",
       "    }\n",
       "</style>\n",
       "<table border=\"1\" class=\"dataframe\">\n",
       "  <thead>\n",
       "    <tr style=\"text-align: right;\">\n",
       "      <th></th>\n",
       "      <th>Viajes</th>\n",
       "    </tr>\n",
       "  </thead>\n",
       "  <tbody>\n",
       "    <tr>\n",
       "      <th>2020-04-01</th>\n",
       "      <td>3314</td>\n",
       "    </tr>\n",
       "    <tr>\n",
       "      <th>2020-04-02</th>\n",
       "      <td>3220</td>\n",
       "    </tr>\n",
       "    <tr>\n",
       "      <th>2020-04-03</th>\n",
       "      <td>3934</td>\n",
       "    </tr>\n",
       "    <tr>\n",
       "      <th>2020-04-04</th>\n",
       "      <td>3141</td>\n",
       "    </tr>\n",
       "    <tr>\n",
       "      <th>2020-04-05</th>\n",
       "      <td>2520</td>\n",
       "    </tr>\n",
       "  </tbody>\n",
       "</table>\n",
       "</div>"
      ],
      "text/plain": [
       "            Viajes\n",
       "2020-04-01    3314\n",
       "2020-04-02    3220\n",
       "2020-04-03    3934\n",
       "2020-04-04    3141\n",
       "2020-04-05    2520"
      ]
     },
     "execution_count": 10,
     "metadata": {},
     "output_type": "execute_result"
    }
   ],
   "source": [
    "df_ine.head()"
   ]
  },
  {
   "cell_type": "code",
   "execution_count": 11,
   "metadata": {},
   "outputs": [],
   "source": [
    "del twt_ods\n",
    "del ine_ods"
   ]
  },
  {
   "cell_type": "markdown",
   "metadata": {},
   "source": [
    "# Visualización de datos"
   ]
  },
  {
   "cell_type": "code",
   "execution_count": 12,
   "metadata": {},
   "outputs": [
    {
     "name": "stdout",
     "output_type": "stream",
     "text": [
      "2020-04-01 00:00:00\n",
      "2020-06-20 00:00:00\n"
     ]
    }
   ],
   "source": [
    "print(df_twt.index.min())\n",
    "print(df_ine.index.max())"
   ]
  },
  {
   "cell_type": "code",
   "execution_count": 13,
   "metadata": {
    "scrolled": true
   },
   "outputs": [
    {
     "name": "stdout",
     "output_type": "stream",
     "text": [
      "81\n"
     ]
    }
   ],
   "source": [
    "print(len(df_twt['2020']))"
   ]
  },
  {
   "cell_type": "code",
   "execution_count": 14,
   "metadata": {},
   "outputs": [
    {
     "name": "stdout",
     "output_type": "stream",
     "text": [
      "81\n"
     ]
    }
   ],
   "source": [
    "print(len(df_ine['2020']))"
   ]
  },
  {
   "cell_type": "code",
   "execution_count": 15,
   "metadata": {
    "scrolled": true
   },
   "outputs": [
    {
     "data": {
      "text/html": [
       "<div>\n",
       "<style scoped>\n",
       "    .dataframe tbody tr th:only-of-type {\n",
       "        vertical-align: middle;\n",
       "    }\n",
       "\n",
       "    .dataframe tbody tr th {\n",
       "        vertical-align: top;\n",
       "    }\n",
       "\n",
       "    .dataframe thead th {\n",
       "        text-align: right;\n",
       "    }\n",
       "</style>\n",
       "<table border=\"1\" class=\"dataframe\">\n",
       "  <thead>\n",
       "    <tr style=\"text-align: right;\">\n",
       "      <th></th>\n",
       "      <th>Viajes</th>\n",
       "    </tr>\n",
       "  </thead>\n",
       "  <tbody>\n",
       "    <tr>\n",
       "      <th>count</th>\n",
       "      <td>81.000000</td>\n",
       "    </tr>\n",
       "    <tr>\n",
       "      <th>mean</th>\n",
       "      <td>1.148148</td>\n",
       "    </tr>\n",
       "    <tr>\n",
       "      <th>std</th>\n",
       "      <td>1.467235</td>\n",
       "    </tr>\n",
       "    <tr>\n",
       "      <th>min</th>\n",
       "      <td>0.000000</td>\n",
       "    </tr>\n",
       "    <tr>\n",
       "      <th>25%</th>\n",
       "      <td>0.000000</td>\n",
       "    </tr>\n",
       "    <tr>\n",
       "      <th>50%</th>\n",
       "      <td>0.000000</td>\n",
       "    </tr>\n",
       "    <tr>\n",
       "      <th>75%</th>\n",
       "      <td>2.000000</td>\n",
       "    </tr>\n",
       "    <tr>\n",
       "      <th>max</th>\n",
       "      <td>6.000000</td>\n",
       "    </tr>\n",
       "  </tbody>\n",
       "</table>\n",
       "</div>"
      ],
      "text/plain": [
       "          Viajes\n",
       "count  81.000000\n",
       "mean    1.148148\n",
       "std     1.467235\n",
       "min     0.000000\n",
       "25%     0.000000\n",
       "50%     0.000000\n",
       "75%     2.000000\n",
       "max     6.000000"
      ]
     },
     "execution_count": 15,
     "metadata": {},
     "output_type": "execute_result"
    }
   ],
   "source": [
    "df_twt.describe()"
   ]
  },
  {
   "cell_type": "code",
   "execution_count": 16,
   "metadata": {},
   "outputs": [
    {
     "data": {
      "text/html": [
       "<div>\n",
       "<style scoped>\n",
       "    .dataframe tbody tr th:only-of-type {\n",
       "        vertical-align: middle;\n",
       "    }\n",
       "\n",
       "    .dataframe tbody tr th {\n",
       "        vertical-align: top;\n",
       "    }\n",
       "\n",
       "    .dataframe thead th {\n",
       "        text-align: right;\n",
       "    }\n",
       "</style>\n",
       "<table border=\"1\" class=\"dataframe\">\n",
       "  <thead>\n",
       "    <tr style=\"text-align: right;\">\n",
       "      <th></th>\n",
       "      <th>Viajes</th>\n",
       "    </tr>\n",
       "  </thead>\n",
       "  <tbody>\n",
       "    <tr>\n",
       "      <th>count</th>\n",
       "      <td>81.000000</td>\n",
       "    </tr>\n",
       "    <tr>\n",
       "      <th>mean</th>\n",
       "      <td>4188.802469</td>\n",
       "    </tr>\n",
       "    <tr>\n",
       "      <th>std</th>\n",
       "      <td>922.684743</td>\n",
       "    </tr>\n",
       "    <tr>\n",
       "      <th>min</th>\n",
       "      <td>2282.000000</td>\n",
       "    </tr>\n",
       "    <tr>\n",
       "      <th>25%</th>\n",
       "      <td>3503.000000</td>\n",
       "    </tr>\n",
       "    <tr>\n",
       "      <th>50%</th>\n",
       "      <td>4243.000000</td>\n",
       "    </tr>\n",
       "    <tr>\n",
       "      <th>75%</th>\n",
       "      <td>4933.000000</td>\n",
       "    </tr>\n",
       "    <tr>\n",
       "      <th>max</th>\n",
       "      <td>5827.000000</td>\n",
       "    </tr>\n",
       "  </tbody>\n",
       "</table>\n",
       "</div>"
      ],
      "text/plain": [
       "            Viajes\n",
       "count    81.000000\n",
       "mean   4188.802469\n",
       "std     922.684743\n",
       "min    2282.000000\n",
       "25%    3503.000000\n",
       "50%    4243.000000\n",
       "75%    4933.000000\n",
       "max    5827.000000"
      ]
     },
     "execution_count": 16,
     "metadata": {},
     "output_type": "execute_result"
    }
   ],
   "source": [
    "df_ine.describe()"
   ]
  },
  {
   "cell_type": "code",
   "execution_count": 17,
   "metadata": {
    "scrolled": true
   },
   "outputs": [
    {
     "data": {
      "text/html": [
       "<div>\n",
       "<style scoped>\n",
       "    .dataframe tbody tr th:only-of-type {\n",
       "        vertical-align: middle;\n",
       "    }\n",
       "\n",
       "    .dataframe tbody tr th {\n",
       "        vertical-align: top;\n",
       "    }\n",
       "\n",
       "    .dataframe thead th {\n",
       "        text-align: right;\n",
       "    }\n",
       "</style>\n",
       "<table border=\"1\" class=\"dataframe\">\n",
       "  <thead>\n",
       "    <tr style=\"text-align: right;\">\n",
       "      <th></th>\n",
       "      <th>Viajes</th>\n",
       "    </tr>\n",
       "  </thead>\n",
       "  <tbody>\n",
       "    <tr>\n",
       "      <th>2020-04-30</th>\n",
       "      <td>0.800000</td>\n",
       "    </tr>\n",
       "    <tr>\n",
       "      <th>2020-05-31</th>\n",
       "      <td>1.548387</td>\n",
       "    </tr>\n",
       "    <tr>\n",
       "      <th>2020-06-30</th>\n",
       "      <td>1.050000</td>\n",
       "    </tr>\n",
       "  </tbody>\n",
       "</table>\n",
       "</div>"
      ],
      "text/plain": [
       "              Viajes\n",
       "2020-04-30  0.800000\n",
       "2020-05-31  1.548387\n",
       "2020-06-30  1.050000"
      ]
     },
     "execution_count": 17,
     "metadata": {},
     "output_type": "execute_result"
    }
   ],
   "source": [
    "meses = df_twt.resample('M').mean()\n",
    "meses"
   ]
  },
  {
   "cell_type": "code",
   "execution_count": 18,
   "metadata": {},
   "outputs": [
    {
     "data": {
      "text/html": [
       "<div>\n",
       "<style scoped>\n",
       "    .dataframe tbody tr th:only-of-type {\n",
       "        vertical-align: middle;\n",
       "    }\n",
       "\n",
       "    .dataframe tbody tr th {\n",
       "        vertical-align: top;\n",
       "    }\n",
       "\n",
       "    .dataframe thead th {\n",
       "        text-align: right;\n",
       "    }\n",
       "</style>\n",
       "<table border=\"1\" class=\"dataframe\">\n",
       "  <thead>\n",
       "    <tr style=\"text-align: right;\">\n",
       "      <th></th>\n",
       "      <th>Viajes</th>\n",
       "    </tr>\n",
       "  </thead>\n",
       "  <tbody>\n",
       "    <tr>\n",
       "      <th>2020-04-30</th>\n",
       "      <td>3410.966667</td>\n",
       "    </tr>\n",
       "    <tr>\n",
       "      <th>2020-05-31</th>\n",
       "      <td>4262.193548</td>\n",
       "    </tr>\n",
       "    <tr>\n",
       "      <th>2020-06-30</th>\n",
       "      <td>5241.800000</td>\n",
       "    </tr>\n",
       "  </tbody>\n",
       "</table>\n",
       "</div>"
      ],
      "text/plain": [
       "                 Viajes\n",
       "2020-04-30  3410.966667\n",
       "2020-05-31  4262.193548\n",
       "2020-06-30  5241.800000"
      ]
     },
     "execution_count": 18,
     "metadata": {},
     "output_type": "execute_result"
    }
   ],
   "source": [
    "meses = df_ine.resample('M').mean()\n",
    "meses"
   ]
  },
  {
   "cell_type": "code",
   "execution_count": 19,
   "metadata": {
    "scrolled": true
   },
   "outputs": [
    {
     "data": {
      "text/plain": [
       "[<matplotlib.lines.Line2D at 0x1bcfe944820>]"
      ]
     },
     "execution_count": 19,
     "metadata": {},
     "output_type": "execute_result"
    },
    {
     "data": {
      "image/png": "[encoded data removed]",
      "text/plain": [
       "<Figure size 432x288 with 1 Axes>"
      ]
     },
     "metadata": {
      "needs_background": "light"
     },
     "output_type": "display_data"
    }
   ],
   "source": [
    "abril = df_twt['2020-04-01':'2020-04-30']\n",
    "plt.plot(abril.values)\n",
    "mayo = df_twt['2020-05-01':'2020-05-31']\n",
    "plt.plot(mayo.values)\n",
    "junio = df_twt['2020-06-01':'2020-06-20']\n",
    "plt.plot(junio.values)"
   ]
  },
  {
   "cell_type": "code",
   "execution_count": 20,
   "metadata": {},
   "outputs": [
    {
     "data": {
      "text/plain": [
       "[<matplotlib.lines.Line2D at 0x1bcfe9300a0>]"
      ]
     },
     "execution_count": 20,
     "metadata": {},
     "output_type": "execute_result"
    },
    {
     "data": {
      "image/png": "[encoded data removed]",
      "text/plain": [
       "<Figure size 432x288 with 1 Axes>"
      ]
     },
     "metadata": {
      "needs_background": "light"
     },
     "output_type": "display_data"
    }
   ],
   "source": [
    "abril = df_ine['2020-04-01':'2020-04-30']\n",
    "plt.plot(abril.values)\n",
    "mayo = df_ine['2020-05-01':'2020-05-31']\n",
    "plt.plot(mayo.values)\n",
    "junio = df_ine['2020-06-01':'2020-06-20']\n",
    "plt.plot(junio.values)"
   ]
  },
  {
   "cell_type": "markdown",
   "metadata": {},
   "source": [
    "# Preprocesado de datos"
   ]
  },
  {
   "cell_type": "code",
   "execution_count": 21,
   "metadata": {},
   "outputs": [
    {
     "data": {
      "text/html": [
       "<div>\n",
       "<style scoped>\n",
       "    .dataframe tbody tr th:only-of-type {\n",
       "        vertical-align: middle;\n",
       "    }\n",
       "\n",
       "    .dataframe tbody tr th {\n",
       "        vertical-align: top;\n",
       "    }\n",
       "\n",
       "    .dataframe thead th {\n",
       "        text-align: right;\n",
       "    }\n",
       "</style>\n",
       "<table border=\"1\" class=\"dataframe\">\n",
       "  <thead>\n",
       "    <tr style=\"text-align: right;\">\n",
       "      <th></th>\n",
       "      <th>var1(t-7)</th>\n",
       "      <th>var1(t-6)</th>\n",
       "      <th>var1(t-5)</th>\n",
       "      <th>var1(t-4)</th>\n",
       "      <th>var1(t-3)</th>\n",
       "      <th>var1(t-2)</th>\n",
       "      <th>var1(t-1)</th>\n",
       "      <th>var1(t)</th>\n",
       "    </tr>\n",
       "  </thead>\n",
       "  <tbody>\n",
       "    <tr>\n",
       "      <th>76</th>\n",
       "      <td>-0.333333</td>\n",
       "      <td>-0.333333</td>\n",
       "      <td>-1.000000</td>\n",
       "      <td>-0.333333</td>\n",
       "      <td>-1.000000</td>\n",
       "      <td>-1.000000</td>\n",
       "      <td>-0.333333</td>\n",
       "      <td>-1.000000</td>\n",
       "    </tr>\n",
       "    <tr>\n",
       "      <th>77</th>\n",
       "      <td>-0.333333</td>\n",
       "      <td>-1.000000</td>\n",
       "      <td>-0.333333</td>\n",
       "      <td>-1.000000</td>\n",
       "      <td>-1.000000</td>\n",
       "      <td>-0.333333</td>\n",
       "      <td>-1.000000</td>\n",
       "      <td>-1.000000</td>\n",
       "    </tr>\n",
       "    <tr>\n",
       "      <th>78</th>\n",
       "      <td>-1.000000</td>\n",
       "      <td>-0.333333</td>\n",
       "      <td>-1.000000</td>\n",
       "      <td>-1.000000</td>\n",
       "      <td>-0.333333</td>\n",
       "      <td>-1.000000</td>\n",
       "      <td>-1.000000</td>\n",
       "      <td>-0.333333</td>\n",
       "    </tr>\n",
       "    <tr>\n",
       "      <th>79</th>\n",
       "      <td>-0.333333</td>\n",
       "      <td>-1.000000</td>\n",
       "      <td>-1.000000</td>\n",
       "      <td>-0.333333</td>\n",
       "      <td>-1.000000</td>\n",
       "      <td>-1.000000</td>\n",
       "      <td>-0.333333</td>\n",
       "      <td>-1.000000</td>\n",
       "    </tr>\n",
       "    <tr>\n",
       "      <th>80</th>\n",
       "      <td>-1.000000</td>\n",
       "      <td>-1.000000</td>\n",
       "      <td>-0.333333</td>\n",
       "      <td>-1.000000</td>\n",
       "      <td>-1.000000</td>\n",
       "      <td>-0.333333</td>\n",
       "      <td>-1.000000</td>\n",
       "      <td>-1.000000</td>\n",
       "    </tr>\n",
       "  </tbody>\n",
       "</table>\n",
       "</div>"
      ],
      "text/plain": [
       "    var1(t-7)  var1(t-6)  var1(t-5)  var1(t-4)  var1(t-3)  var1(t-2)  \\\n",
       "76  -0.333333  -0.333333  -1.000000  -0.333333  -1.000000  -1.000000   \n",
       "77  -0.333333  -1.000000  -0.333333  -1.000000  -1.000000  -0.333333   \n",
       "78  -1.000000  -0.333333  -1.000000  -1.000000  -0.333333  -1.000000   \n",
       "79  -0.333333  -1.000000  -1.000000  -0.333333  -1.000000  -1.000000   \n",
       "80  -1.000000  -1.000000  -0.333333  -1.000000  -1.000000  -0.333333   \n",
       "\n",
       "    var1(t-1)   var1(t)  \n",
       "76  -0.333333 -1.000000  \n",
       "77  -1.000000 -1.000000  \n",
       "78  -1.000000 -0.333333  \n",
       "79  -0.333333 -1.000000  \n",
       "80  -1.000000 -1.000000  "
      ]
     },
     "execution_count": 21,
     "metadata": {},
     "output_type": "execute_result"
    }
   ],
   "source": [
    "# cantidad de dias previos que se usaran para predecir el siguiente dia \n",
    "look_back=7\n",
    "\n",
    "# convertir series en conocimiento supervisado\n",
    "def series_to_supervised(data, n_in=1, n_out=1, dropnan=True):\n",
    "    n_vars = 1 if type(data) is list else data.shape[1]\n",
    "    df = pd.DataFrame(data)\n",
    "    cols, names = list(), list()\n",
    "    # secuencia de entrada (t-n, ... t-1)\n",
    "    for i in range(n_in, 0, -1):\n",
    "        cols.append(df.shift(i))\n",
    "        names += [('var%d(t-%d)' % (j+1, i)) for j in range(n_vars)]\n",
    "    # secuencia del pronostico (t, t+1, ... t+n)\n",
    "    for i in range(0, n_out):\n",
    "        cols.append(df.shift(-i))\n",
    "        if i == 0:\n",
    "            names += [('var%d(t)' % (j+1)) for j in range(n_vars)]\n",
    "        else:\n",
    "            names += [('var%d(t+%d)' % (j+1, i)) for j in range(n_vars)]\n",
    "    # unimos todo\n",
    "    agg = pd.concat(cols, axis=1)\n",
    "    agg.columns = names\n",
    "    # eliminamos todos los valores nulos\n",
    "    if dropnan:\n",
    "        agg.dropna(inplace=True)\n",
    "    return agg\n",
    " \n",
    "# cargamos el dataframe en la variable values\n",
    "values_twt = df_twt.values\n",
    "values_ine = df_ine.values\n",
    "\n",
    "# convertimos los enteros en floats\n",
    "values_twt = values_twt.astype('float32')\n",
    "values_ine = values_ine.astype('float32')\n",
    "\n",
    "# normalizamos los datos a escala de entre -1 y 1\n",
    "scaler = MinMaxScaler(feature_range=(-1, 1))\n",
    "values_twt=values_twt.reshape(-1, 1) # esto lo hacemos porque tenemos 1 sola dimension\n",
    "values_ine=values_ine.reshape(-1, 1) # esto lo hacemos porque tenemos 1 sola dimension\n",
    "scaled_twt = scaler.fit_transform(values_twt)\n",
    "scaled_ine = scaler.fit_transform(values_ine)\n",
    "\n",
    "# usamos la funcion definida previamente\n",
    "reframed_twt = series_to_supervised(scaled_twt, look_back, 1)\n",
    "reframed_ine = series_to_supervised(scaled_ine, look_back, 1)\n",
    "\n",
    "#imprimimos los nuevos datos\n",
    "reframed_twt.tail()"
   ]
  },
  {
   "cell_type": "code",
   "execution_count": 22,
   "metadata": {
    "scrolled": false
   },
   "outputs": [
    {
     "data": {
      "text/html": [
       "<div>\n",
       "<style scoped>\n",
       "    .dataframe tbody tr th:only-of-type {\n",
       "        vertical-align: middle;\n",
       "    }\n",
       "\n",
       "    .dataframe tbody tr th {\n",
       "        vertical-align: top;\n",
       "    }\n",
       "\n",
       "    .dataframe thead th {\n",
       "        text-align: right;\n",
       "    }\n",
       "</style>\n",
       "<table border=\"1\" class=\"dataframe\">\n",
       "  <thead>\n",
       "    <tr style=\"text-align: right;\">\n",
       "      <th></th>\n",
       "      <th>var2(t-7)</th>\n",
       "      <th>var2(t-6)</th>\n",
       "      <th>var2(t-5)</th>\n",
       "      <th>var2(t-4)</th>\n",
       "      <th>var2(t-3)</th>\n",
       "      <th>var2(t-2)</th>\n",
       "      <th>var2(t-1)</th>\n",
       "      <th>var2(t)</th>\n",
       "    </tr>\n",
       "  </thead>\n",
       "  <tbody>\n",
       "    <tr>\n",
       "      <th>76</th>\n",
       "      <td>0.339916</td>\n",
       "      <td>0.822285</td>\n",
       "      <td>0.737095</td>\n",
       "      <td>0.892243</td>\n",
       "      <td>0.559380</td>\n",
       "      <td>-0.013822</td>\n",
       "      <td>0.614105</td>\n",
       "      <td>0.686883</td>\n",
       "    </tr>\n",
       "    <tr>\n",
       "      <th>77</th>\n",
       "      <td>0.822285</td>\n",
       "      <td>0.737095</td>\n",
       "      <td>0.892243</td>\n",
       "      <td>0.559380</td>\n",
       "      <td>-0.013822</td>\n",
       "      <td>0.614105</td>\n",
       "      <td>0.686883</td>\n",
       "      <td>0.924401</td>\n",
       "    </tr>\n",
       "    <tr>\n",
       "      <th>78</th>\n",
       "      <td>0.737095</td>\n",
       "      <td>0.892243</td>\n",
       "      <td>0.559380</td>\n",
       "      <td>-0.013822</td>\n",
       "      <td>0.614105</td>\n",
       "      <td>0.686883</td>\n",
       "      <td>0.924401</td>\n",
       "      <td>0.897885</td>\n",
       "    </tr>\n",
       "    <tr>\n",
       "      <th>79</th>\n",
       "      <td>0.892243</td>\n",
       "      <td>0.559380</td>\n",
       "      <td>-0.013822</td>\n",
       "      <td>0.614105</td>\n",
       "      <td>0.686883</td>\n",
       "      <td>0.924401</td>\n",
       "      <td>0.897885</td>\n",
       "      <td>1.000000</td>\n",
       "    </tr>\n",
       "    <tr>\n",
       "      <th>80</th>\n",
       "      <td>0.559380</td>\n",
       "      <td>-0.013822</td>\n",
       "      <td>0.614105</td>\n",
       "      <td>0.686883</td>\n",
       "      <td>0.924401</td>\n",
       "      <td>0.897885</td>\n",
       "      <td>1.000000</td>\n",
       "      <td>0.801975</td>\n",
       "    </tr>\n",
       "  </tbody>\n",
       "</table>\n",
       "</div>"
      ],
      "text/plain": [
       "    var2(t-7)  var2(t-6)  var2(t-5)  var2(t-4)  var2(t-3)  var2(t-2)  \\\n",
       "76   0.339916   0.822285   0.737095   0.892243   0.559380  -0.013822   \n",
       "77   0.822285   0.737095   0.892243   0.559380  -0.013822   0.614105   \n",
       "78   0.737095   0.892243   0.559380  -0.013822   0.614105   0.686883   \n",
       "79   0.892243   0.559380  -0.013822   0.614105   0.686883   0.924401   \n",
       "80   0.559380  -0.013822   0.614105   0.686883   0.924401   0.897885   \n",
       "\n",
       "    var2(t-1)   var2(t)  \n",
       "76   0.614105  0.686883  \n",
       "77   0.686883  0.924401  \n",
       "78   0.924401  0.897885  \n",
       "79   0.897885  1.000000  \n",
       "80   1.000000  0.801975  "
      ]
     },
     "execution_count": 22,
     "metadata": {},
     "output_type": "execute_result"
    }
   ],
   "source": [
    "#cambiamos el nombre de las columnas\n",
    "reframed_ine.columns = ['var2(t-7)', 'var2(t-6)', 'var2(t-5)', 'var2(t-4)', 'var2(t-3)', 'var2(t-2)', 'var2(t-1)', 'var2(t)']\n",
    "reframed_ine.tail()"
   ]
  },
  {
   "cell_type": "code",
   "execution_count": 23,
   "metadata": {
    "scrolled": false
   },
   "outputs": [
    {
     "data": {
      "text/html": [
       "<div>\n",
       "<style scoped>\n",
       "    .dataframe tbody tr th:only-of-type {\n",
       "        vertical-align: middle;\n",
       "    }\n",
       "\n",
       "    .dataframe tbody tr th {\n",
       "        vertical-align: top;\n",
       "    }\n",
       "\n",
       "    .dataframe thead th {\n",
       "        text-align: right;\n",
       "    }\n",
       "</style>\n",
       "<table border=\"1\" class=\"dataframe\">\n",
       "  <thead>\n",
       "    <tr style=\"text-align: right;\">\n",
       "      <th></th>\n",
       "      <th>var1(t-7)</th>\n",
       "      <th>var2(t-7)</th>\n",
       "      <th>var1(t-6)</th>\n",
       "      <th>var2(t-6)</th>\n",
       "      <th>var1(t-5)</th>\n",
       "      <th>var2(t-5)</th>\n",
       "      <th>var1(t-4)</th>\n",
       "      <th>var2(t-4)</th>\n",
       "      <th>var1(t-3)</th>\n",
       "      <th>var2(t-3)</th>\n",
       "      <th>var1(t-2)</th>\n",
       "      <th>var2(t-2)</th>\n",
       "      <th>var1(t-1)</th>\n",
       "      <th>var2(t-1)</th>\n",
       "      <th>var2(t)</th>\n",
       "    </tr>\n",
       "  </thead>\n",
       "  <tbody>\n",
       "    <tr>\n",
       "      <th>76</th>\n",
       "      <td>-0.333333</td>\n",
       "      <td>0.339916</td>\n",
       "      <td>-0.333333</td>\n",
       "      <td>0.822285</td>\n",
       "      <td>-1.000000</td>\n",
       "      <td>0.737095</td>\n",
       "      <td>-0.333333</td>\n",
       "      <td>0.892243</td>\n",
       "      <td>-1.000000</td>\n",
       "      <td>0.559380</td>\n",
       "      <td>-1.000000</td>\n",
       "      <td>-0.013822</td>\n",
       "      <td>-0.333333</td>\n",
       "      <td>0.614105</td>\n",
       "      <td>0.686883</td>\n",
       "    </tr>\n",
       "    <tr>\n",
       "      <th>77</th>\n",
       "      <td>-0.333333</td>\n",
       "      <td>0.822285</td>\n",
       "      <td>-1.000000</td>\n",
       "      <td>0.737095</td>\n",
       "      <td>-0.333333</td>\n",
       "      <td>0.892243</td>\n",
       "      <td>-1.000000</td>\n",
       "      <td>0.559380</td>\n",
       "      <td>-1.000000</td>\n",
       "      <td>-0.013822</td>\n",
       "      <td>-0.333333</td>\n",
       "      <td>0.614105</td>\n",
       "      <td>-1.000000</td>\n",
       "      <td>0.686883</td>\n",
       "      <td>0.924401</td>\n",
       "    </tr>\n",
       "    <tr>\n",
       "      <th>78</th>\n",
       "      <td>-1.000000</td>\n",
       "      <td>0.737095</td>\n",
       "      <td>-0.333333</td>\n",
       "      <td>0.892243</td>\n",
       "      <td>-1.000000</td>\n",
       "      <td>0.559380</td>\n",
       "      <td>-1.000000</td>\n",
       "      <td>-0.013822</td>\n",
       "      <td>-0.333333</td>\n",
       "      <td>0.614105</td>\n",
       "      <td>-1.000000</td>\n",
       "      <td>0.686883</td>\n",
       "      <td>-1.000000</td>\n",
       "      <td>0.924401</td>\n",
       "      <td>0.897885</td>\n",
       "    </tr>\n",
       "    <tr>\n",
       "      <th>79</th>\n",
       "      <td>-0.333333</td>\n",
       "      <td>0.892243</td>\n",
       "      <td>-1.000000</td>\n",
       "      <td>0.559380</td>\n",
       "      <td>-1.000000</td>\n",
       "      <td>-0.013822</td>\n",
       "      <td>-0.333333</td>\n",
       "      <td>0.614105</td>\n",
       "      <td>-1.000000</td>\n",
       "      <td>0.686883</td>\n",
       "      <td>-1.000000</td>\n",
       "      <td>0.924401</td>\n",
       "      <td>-0.333333</td>\n",
       "      <td>0.897885</td>\n",
       "      <td>1.000000</td>\n",
       "    </tr>\n",
       "    <tr>\n",
       "      <th>80</th>\n",
       "      <td>-1.000000</td>\n",
       "      <td>0.559380</td>\n",
       "      <td>-1.000000</td>\n",
       "      <td>-0.013822</td>\n",
       "      <td>-0.333333</td>\n",
       "      <td>0.614105</td>\n",
       "      <td>-1.000000</td>\n",
       "      <td>0.686883</td>\n",
       "      <td>-1.000000</td>\n",
       "      <td>0.924401</td>\n",
       "      <td>-0.333333</td>\n",
       "      <td>0.897885</td>\n",
       "      <td>-1.000000</td>\n",
       "      <td>1.000000</td>\n",
       "      <td>0.801975</td>\n",
       "    </tr>\n",
       "  </tbody>\n",
       "</table>\n",
       "</div>"
      ],
      "text/plain": [
       "    var1(t-7)  var2(t-7)  var1(t-6)  var2(t-6)  var1(t-5)  var2(t-5)  \\\n",
       "76  -0.333333   0.339916  -0.333333   0.822285  -1.000000   0.737095   \n",
       "77  -0.333333   0.822285  -1.000000   0.737095  -0.333333   0.892243   \n",
       "78  -1.000000   0.737095  -0.333333   0.892243  -1.000000   0.559380   \n",
       "79  -0.333333   0.892243  -1.000000   0.559380  -1.000000  -0.013822   \n",
       "80  -1.000000   0.559380  -1.000000  -0.013822  -0.333333   0.614105   \n",
       "\n",
       "    var1(t-4)  var2(t-4)  var1(t-3)  var2(t-3)  var1(t-2)  var2(t-2)  \\\n",
       "76  -0.333333   0.892243  -1.000000   0.559380  -1.000000  -0.013822   \n",
       "77  -1.000000   0.559380  -1.000000  -0.013822  -0.333333   0.614105   \n",
       "78  -1.000000  -0.013822  -0.333333   0.614105  -1.000000   0.686883   \n",
       "79  -0.333333   0.614105  -1.000000   0.686883  -1.000000   0.924401   \n",
       "80  -1.000000   0.686883  -1.000000   0.924401  -0.333333   0.897885   \n",
       "\n",
       "    var1(t-1)  var2(t-1)   var2(t)  \n",
       "76  -0.333333   0.614105  0.686883  \n",
       "77  -1.000000   0.686883  0.924401  \n",
       "78  -1.000000   0.924401  0.897885  \n",
       "79  -0.333333   0.897885  1.000000  \n",
       "80  -1.000000   1.000000  0.801975  "
      ]
     },
     "execution_count": 23,
     "metadata": {},
     "output_type": "execute_result"
    }
   ],
   "source": [
    "#unimos los datos del ine con los de twitter\n",
    "reframed = pd.concat([reframed_twt.iloc[:, 0], reframed_ine.iloc[:, 0]], axis=1)\n",
    "\n",
    "for i in range(6):\n",
    "    reframed = pd.concat([reframed, reframed_twt.iloc[:, i+1]], axis=1)\n",
    "    reframed = pd.concat([reframed, reframed_ine.iloc[:, i+1]], axis=1)\n",
    "    \n",
    "reframed = pd.concat([reframed, reframed_ine.iloc[:, 7]], axis=1)\n",
    "\n",
    "reframed.tail()"
   ]
  },
  {
   "cell_type": "markdown",
   "metadata": {},
   "source": [
    "# Dividimos los datos en sets de entrenamiento y validacion"
   ]
  },
  {
   "cell_type": "code",
   "execution_count": 24,
   "metadata": {},
   "outputs": [
    {
     "name": "stdout",
     "output_type": "stream",
     "text": [
      "(54, 1, 14) (54,) (20, 1, 14) (20,)\n"
     ]
    }
   ],
   "source": [
    "#dividimos nuestro valores entre sets de entrenamiento y de test\n",
    "values = reframed.values\n",
    "n_train_days = 71 - (10+look_back)\n",
    "train = values[:n_train_days, :]\n",
    "test = values[n_train_days:, :]\n",
    "\n",
    "# split into input and outputs\n",
    "x_train, y_train = train[:, :-1], train[:, -1]\n",
    "x_val, y_val = test[:, :-1], test[:, -1]\n",
    "\n",
    "# reshape input to be 3D [samples, timesteps, features] - preguntar\n",
    "x_train = x_train.reshape((x_train.shape[0], 1, x_train.shape[1]))\n",
    "x_val = x_val.reshape((x_val.shape[0], 1, x_val.shape[1]))\n",
    "print(x_train.shape, y_train.shape, x_val.shape, y_val.shape)"
   ]
  },
  {
   "cell_type": "markdown",
   "metadata": {},
   "source": [
    "# Creamos la red neuronal"
   ]
  },
  {
   "cell_type": "code",
   "execution_count": 25,
   "metadata": {},
   "outputs": [],
   "source": [
    "def crear_modeloFF():\n",
    "    model = Sequential() \n",
    "    model.add(Dense(look_back, input_shape=(1,look_back*2),activation='tanh'))\n",
    "    model.add(Flatten())\n",
    "    model.add(Dense(100, activation='tanh'))\n",
    "    model.add(Dropout(0.30))\n",
    "    model.add(Dense(100, activation='tanh'))\n",
    "    model.add(Dropout(0.30))\n",
    "    model.add(Dense(100, activation='tanh'))\n",
    "    model.add(Dropout(0.30))\n",
    "    model.add(Dense(100, activation='tanh'))\n",
    "    model.add(Dropout(0.30))\n",
    "    model.add(Dense(1, activation='tanh'))\n",
    "    model.compile(loss='mean_absolute_error',optimizer='Adam',metrics=[\"mse\"])\n",
    "    model.summary()\n",
    "    return model"
   ]
  },
  {
   "cell_type": "code",
   "execution_count": 26,
   "metadata": {},
   "outputs": [
    {
     "name": "stdout",
     "output_type": "stream",
     "text": [
      "Model: \"sequential\"\n",
      "_________________________________________________________________\n",
      "Layer (type)                 Output Shape              Param #   \n",
      "=================================================================\n",
      "dense (Dense)                (None, 1, 7)              105       \n",
      "_________________________________________________________________\n",
      "flatten (Flatten)            (None, 7)                 0         \n",
      "_________________________________________________________________\n",
      "dense_1 (Dense)              (None, 100)               800       \n",
      "_________________________________________________________________\n",
      "dropout (Dropout)            (None, 100)               0         \n",
      "_________________________________________________________________\n",
      "dense_2 (Dense)              (None, 100)               10100     \n",
      "_________________________________________________________________\n",
      "dropout_1 (Dropout)          (None, 100)               0         \n",
      "_________________________________________________________________\n",
      "dense_3 (Dense)              (None, 100)               10100     \n",
      "_________________________________________________________________\n",
      "dropout_2 (Dropout)          (None, 100)               0         \n",
      "_________________________________________________________________\n",
      "dense_4 (Dense)              (None, 100)               10100     \n",
      "_________________________________________________________________\n",
      "dropout_3 (Dropout)          (None, 100)               0         \n",
      "_________________________________________________________________\n",
      "dense_5 (Dense)              (None, 1)                 101       \n",
      "=================================================================\n",
      "Total params: 31,306\n",
      "Trainable params: 31,306\n",
      "Non-trainable params: 0\n",
      "_________________________________________________________________\n",
      "Epoch 1/200\n",
      "8/8 [==============================] - 2s 231ms/step - loss: 0.5309 - mse: 0.3810 - val_loss: 0.6664 - val_mse: 0.5489\n",
      "Epoch 2/200\n",
      "8/8 [==============================] - 0s 12ms/step - loss: 0.4864 - mse: 0.3793 - val_loss: 0.3660 - val_mse: 0.1757\n",
      "Epoch 3/200\n",
      "8/8 [==============================] - 0s 13ms/step - loss: 0.4871 - mse: 0.3358 - val_loss: 0.3773 - val_mse: 0.1779\n",
      "Epoch 4/200\n",
      "8/8 [==============================] - 0s 13ms/step - loss: 0.3979 - mse: 0.2585 - val_loss: 0.6188 - val_mse: 0.4947\n",
      "Epoch 5/200\n",
      "8/8 [==============================] - 0s 12ms/step - loss: 0.3823 - mse: 0.2389 - val_loss: 0.4321 - val_mse: 0.2496\n",
      "Epoch 6/200\n",
      "8/8 [==============================] - 0s 12ms/step - loss: 0.3158 - mse: 0.1338 - val_loss: 0.4671 - val_mse: 0.3098\n",
      "Epoch 7/200\n",
      "8/8 [==============================] - 0s 12ms/step - loss: 0.3711 - mse: 0.2174 - val_loss: 0.3554 - val_mse: 0.1784\n",
      "Epoch 8/200\n",
      "8/8 [==============================] - 0s 13ms/step - loss: 0.3432 - mse: 0.1973 - val_loss: 0.3044 - val_mse: 0.1140\n",
      "Epoch 9/200\n",
      "8/8 [==============================] - 0s 14ms/step - loss: 0.3497 - mse: 0.2276 - val_loss: 0.4085 - val_mse: 0.2212\n",
      "Epoch 10/200\n",
      "8/8 [==============================] - 0s 13ms/step - loss: 0.4078 - mse: 0.2581 - val_loss: 0.5167 - val_mse: 0.3576\n",
      "Epoch 11/200\n",
      "8/8 [==============================] - 0s 13ms/step - loss: 0.3684 - mse: 0.2073 - val_loss: 0.4940 - val_mse: 0.3284\n",
      "Epoch 12/200\n",
      "8/8 [==============================] - 0s 11ms/step - loss: 0.3397 - mse: 0.1972 - val_loss: 0.3187 - val_mse: 0.1330\n",
      "Epoch 13/200\n",
      "8/8 [==============================] - 0s 13ms/step - loss: 0.3396 - mse: 0.1805 - val_loss: 0.4028 - val_mse: 0.2253\n",
      "Epoch 14/200\n",
      "8/8 [==============================] - 0s 13ms/step - loss: 0.3006 - mse: 0.1547 - val_loss: 0.3553 - val_mse: 0.1745\n",
      "Epoch 15/200\n",
      "8/8 [==============================] - 0s 12ms/step - loss: 0.2554 - mse: 0.1330 - val_loss: 0.2812 - val_mse: 0.1110\n",
      "Epoch 16/200\n",
      "8/8 [==============================] - 0s 14ms/step - loss: 0.3231 - mse: 0.1732 - val_loss: 0.2709 - val_mse: 0.1029\n",
      "Epoch 17/200\n",
      "8/8 [==============================] - 0s 10ms/step - loss: 0.3922 - mse: 0.2290 - val_loss: 0.3047 - val_mse: 0.1252\n",
      "Epoch 18/200\n",
      "8/8 [==============================] - 0s 6ms/step - loss: 0.3859 - mse: 0.1927 - val_loss: 0.2908 - val_mse: 0.1200\n",
      "Epoch 19/200\n",
      "8/8 [==============================] - 0s 7ms/step - loss: 0.3445 - mse: 0.1893 - val_loss: 0.2741 - val_mse: 0.0944\n",
      "Epoch 20/200\n",
      "8/8 [==============================] - 0s 7ms/step - loss: 0.3030 - mse: 0.1526 - val_loss: 0.2854 - val_mse: 0.0972\n",
      "Epoch 21/200\n",
      "8/8 [==============================] - 0s 6ms/step - loss: 0.2408 - mse: 0.0959 - val_loss: 0.2895 - val_mse: 0.0985\n",
      "Epoch 22/200\n",
      "8/8 [==============================] - 0s 6ms/step - loss: 0.3550 - mse: 0.2024 - val_loss: 0.2382 - val_mse: 0.0689\n",
      "Epoch 23/200\n",
      "8/8 [==============================] - 0s 6ms/step - loss: 0.3269 - mse: 0.1549 - val_loss: 0.2360 - val_mse: 0.0672\n",
      "Epoch 24/200\n",
      "8/8 [==============================] - 0s 7ms/step - loss: 0.3323 - mse: 0.1638 - val_loss: 0.2738 - val_mse: 0.0914\n",
      "Epoch 25/200\n",
      "8/8 [==============================] - 0s 7ms/step - loss: 0.2501 - mse: 0.1009 - val_loss: 0.2414 - val_mse: 0.0717\n",
      "Epoch 26/200\n",
      "8/8 [==============================] - 0s 6ms/step - loss: 0.3092 - mse: 0.1516 - val_loss: 0.2126 - val_mse: 0.0654\n",
      "Epoch 27/200\n",
      "8/8 [==============================] - 0s 6ms/step - loss: 0.3066 - mse: 0.1654 - val_loss: 0.2040 - val_mse: 0.0634\n",
      "Epoch 28/200\n",
      "8/8 [==============================] - 0s 6ms/step - loss: 0.3444 - mse: 0.2078 - val_loss: 0.2158 - val_mse: 0.0610\n",
      "Epoch 29/200\n",
      "8/8 [==============================] - 0s 6ms/step - loss: 0.3040 - mse: 0.1323 - val_loss: 0.3034 - val_mse: 0.1048\n",
      "Epoch 30/200\n",
      "8/8 [==============================] - 0s 6ms/step - loss: 0.2389 - mse: 0.0859 - val_loss: 0.3125 - val_mse: 0.1127\n",
      "Epoch 31/200\n",
      "8/8 [==============================] - 0s 6ms/step - loss: 0.3377 - mse: 0.1763 - val_loss: 0.2841 - val_mse: 0.0919\n",
      "Epoch 32/200\n",
      "8/8 [==============================] - 0s 6ms/step - loss: 0.2534 - mse: 0.1142 - val_loss: 0.2769 - val_mse: 0.0892\n",
      "Epoch 33/200\n",
      "8/8 [==============================] - 0s 6ms/step - loss: 0.2915 - mse: 0.1262 - val_loss: 0.2237 - val_mse: 0.0619\n",
      "Epoch 34/200\n",
      "8/8 [==============================] - 0s 6ms/step - loss: 0.2658 - mse: 0.1089 - val_loss: 0.2102 - val_mse: 0.0557\n",
      "Epoch 35/200\n",
      "8/8 [==============================] - 0s 7ms/step - loss: 0.2903 - mse: 0.1268 - val_loss: 0.2546 - val_mse: 0.0739\n",
      "Epoch 36/200\n",
      "8/8 [==============================] - 0s 6ms/step - loss: 0.3078 - mse: 0.1236 - val_loss: 0.2972 - val_mse: 0.1015\n",
      "Epoch 37/200\n",
      "8/8 [==============================] - 0s 6ms/step - loss: 0.2396 - mse: 0.0956 - val_loss: 0.2971 - val_mse: 0.1032\n",
      "Epoch 38/200\n",
      "8/8 [==============================] - 0s 6ms/step - loss: 0.2709 - mse: 0.1272 - val_loss: 0.3113 - val_mse: 0.1139\n",
      "Epoch 39/200\n",
      "8/8 [==============================] - 0s 7ms/step - loss: 0.2884 - mse: 0.1251 - val_loss: 0.2788 - val_mse: 0.0916\n",
      "Epoch 40/200\n",
      "8/8 [==============================] - 0s 6ms/step - loss: 0.2826 - mse: 0.1338 - val_loss: 0.2541 - val_mse: 0.0792\n",
      "Epoch 41/200\n",
      "8/8 [==============================] - 0s 7ms/step - loss: 0.3010 - mse: 0.1430 - val_loss: 0.2633 - val_mse: 0.0860\n",
      "Epoch 42/200\n",
      "8/8 [==============================] - 0s 6ms/step - loss: 0.2774 - mse: 0.1154 - val_loss: 0.2259 - val_mse: 0.0655\n",
      "Epoch 43/200\n",
      "8/8 [==============================] - 0s 6ms/step - loss: 0.2716 - mse: 0.1164 - val_loss: 0.2326 - val_mse: 0.0680\n",
      "Epoch 44/200\n",
      "8/8 [==============================] - 0s 6ms/step - loss: 0.2669 - mse: 0.1158 - val_loss: 0.2294 - val_mse: 0.0666\n",
      "Epoch 45/200\n",
      "8/8 [==============================] - 0s 6ms/step - loss: 0.3381 - mse: 0.1673 - val_loss: 0.2097 - val_mse: 0.0554\n",
      "Epoch 46/200\n",
      "8/8 [==============================] - 0s 6ms/step - loss: 0.2697 - mse: 0.1194 - val_loss: 0.1981 - val_mse: 0.0530\n",
      "Epoch 47/200\n",
      "8/8 [==============================] - 0s 6ms/step - loss: 0.3227 - mse: 0.1401 - val_loss: 0.1957 - val_mse: 0.0525\n",
      "Epoch 48/200\n",
      "8/8 [==============================] - 0s 6ms/step - loss: 0.2873 - mse: 0.1112 - val_loss: 0.2021 - val_mse: 0.0529\n",
      "Epoch 49/200\n",
      "8/8 [==============================] - 0s 6ms/step - loss: 0.2294 - mse: 0.1015 - val_loss: 0.2196 - val_mse: 0.0612\n",
      "Epoch 50/200\n"
     ]
    },
    {
     "name": "stdout",
     "output_type": "stream",
     "text": [
      "8/8 [==============================] - 0s 6ms/step - loss: 0.3019 - mse: 0.1529 - val_loss: 0.2483 - val_mse: 0.0767\n",
      "Epoch 51/200\n",
      "8/8 [==============================] - 0s 6ms/step - loss: 0.2944 - mse: 0.1351 - val_loss: 0.2170 - val_mse: 0.0643\n",
      "Epoch 52/200\n",
      "8/8 [==============================] - 0s 6ms/step - loss: 0.2490 - mse: 0.1043 - val_loss: 0.2281 - val_mse: 0.0610\n",
      "Epoch 53/200\n",
      "8/8 [==============================] - 0s 6ms/step - loss: 0.2715 - mse: 0.1112 - val_loss: 0.2292 - val_mse: 0.0614\n",
      "Epoch 54/200\n",
      "8/8 [==============================] - 0s 6ms/step - loss: 0.2749 - mse: 0.1199 - val_loss: 0.2572 - val_mse: 0.0759\n",
      "Epoch 55/200\n",
      "8/8 [==============================] - 0s 6ms/step - loss: 0.2586 - mse: 0.1033 - val_loss: 0.2820 - val_mse: 0.0913\n",
      "Epoch 56/200\n",
      "8/8 [==============================] - 0s 6ms/step - loss: 0.2932 - mse: 0.1300 - val_loss: 0.2641 - val_mse: 0.0810\n",
      "Epoch 57/200\n",
      "8/8 [==============================] - 0s 6ms/step - loss: 0.2208 - mse: 0.0777 - val_loss: 0.2368 - val_mse: 0.0664\n",
      "Epoch 58/200\n",
      "8/8 [==============================] - 0s 6ms/step - loss: 0.2602 - mse: 0.1140 - val_loss: 0.2623 - val_mse: 0.0807\n",
      "Epoch 59/200\n",
      "8/8 [==============================] - 0s 6ms/step - loss: 0.2483 - mse: 0.1164 - val_loss: 0.2849 - val_mse: 0.0956\n",
      "Epoch 60/200\n",
      "8/8 [==============================] - 0s 7ms/step - loss: 0.2906 - mse: 0.1342 - val_loss: 0.2556 - val_mse: 0.0771\n",
      "Epoch 61/200\n",
      "8/8 [==============================] - 0s 6ms/step - loss: 0.2649 - mse: 0.1048 - val_loss: 0.2412 - val_mse: 0.0655\n",
      "Epoch 62/200\n",
      "8/8 [==============================] - 0s 6ms/step - loss: 0.2228 - mse: 0.0847 - val_loss: 0.2155 - val_mse: 0.0541\n",
      "Epoch 63/200\n",
      "8/8 [==============================] - 0s 6ms/step - loss: 0.2873 - mse: 0.1657 - val_loss: 0.2285 - val_mse: 0.0619\n",
      "Epoch 64/200\n",
      "8/8 [==============================] - 0s 7ms/step - loss: 0.2547 - mse: 0.1011 - val_loss: 0.2594 - val_mse: 0.0811\n",
      "Epoch 65/200\n",
      "8/8 [==============================] - 0s 6ms/step - loss: 0.2493 - mse: 0.0865 - val_loss: 0.2385 - val_mse: 0.0680\n",
      "Epoch 66/200\n",
      "8/8 [==============================] - 0s 6ms/step - loss: 0.2317 - mse: 0.0797 - val_loss: 0.2211 - val_mse: 0.0574\n",
      "Epoch 67/200\n",
      "8/8 [==============================] - 0s 7ms/step - loss: 0.2411 - mse: 0.0851 - val_loss: 0.2163 - val_mse: 0.0542\n",
      "Epoch 68/200\n",
      "8/8 [==============================] - 0s 6ms/step - loss: 0.2614 - mse: 0.1006 - val_loss: 0.1954 - val_mse: 0.0480\n",
      "Epoch 69/200\n",
      "8/8 [==============================] - 0s 6ms/step - loss: 0.2188 - mse: 0.0921 - val_loss: 0.2093 - val_mse: 0.0532\n",
      "Epoch 70/200\n",
      "8/8 [==============================] - 0s 6ms/step - loss: 0.2391 - mse: 0.0907 - val_loss: 0.2604 - val_mse: 0.0814\n",
      "Epoch 71/200\n",
      "8/8 [==============================] - 0s 6ms/step - loss: 0.2562 - mse: 0.1125 - val_loss: 0.2959 - val_mse: 0.1069\n",
      "Epoch 72/200\n",
      "8/8 [==============================] - 0s 6ms/step - loss: 0.2801 - mse: 0.1102 - val_loss: 0.2581 - val_mse: 0.0798\n",
      "Epoch 73/200\n",
      "8/8 [==============================] - 0s 6ms/step - loss: 0.2876 - mse: 0.1420 - val_loss: 0.1975 - val_mse: 0.0530\n",
      "Epoch 74/200\n",
      "8/8 [==============================] - 0s 6ms/step - loss: 0.2341 - mse: 0.0936 - val_loss: 0.2528 - val_mse: 0.0725\n",
      "Epoch 75/200\n",
      "8/8 [==============================] - 0s 7ms/step - loss: 0.2606 - mse: 0.1033 - val_loss: 0.3377 - val_mse: 0.1340\n",
      "Epoch 76/200\n",
      "8/8 [==============================] - 0s 7ms/step - loss: 0.2635 - mse: 0.1164 - val_loss: 0.3565 - val_mse: 0.1489\n",
      "Epoch 77/200\n",
      "8/8 [==============================] - 0s 6ms/step - loss: 0.2150 - mse: 0.0797 - val_loss: 0.2917 - val_mse: 0.0992\n",
      "Epoch 78/200\n",
      "8/8 [==============================] - 0s 6ms/step - loss: 0.2424 - mse: 0.1016 - val_loss: 0.2536 - val_mse: 0.0751\n",
      "Epoch 79/200\n",
      "8/8 [==============================] - 0s 6ms/step - loss: 0.2445 - mse: 0.1057 - val_loss: 0.2131 - val_mse: 0.0558\n",
      "Epoch 80/200\n",
      "8/8 [==============================] - 0s 6ms/step - loss: 0.2769 - mse: 0.1370 - val_loss: 0.2393 - val_mse: 0.0678\n",
      "Epoch 81/200\n",
      "8/8 [==============================] - 0s 9ms/step - loss: 0.2643 - mse: 0.1277 - val_loss: 0.2880 - val_mse: 0.0951\n",
      "Epoch 82/200\n",
      "8/8 [==============================] - 0s 7ms/step - loss: 0.2656 - mse: 0.1142 - val_loss: 0.2422 - val_mse: 0.0686\n",
      "Epoch 83/200\n",
      "8/8 [==============================] - 0s 7ms/step - loss: 0.2349 - mse: 0.1016 - val_loss: 0.2137 - val_mse: 0.0543\n",
      "Epoch 84/200\n",
      "8/8 [==============================] - 0s 7ms/step - loss: 0.2929 - mse: 0.1413 - val_loss: 0.1986 - val_mse: 0.0513\n",
      "Epoch 85/200\n",
      "8/8 [==============================] - 0s 7ms/step - loss: 0.2485 - mse: 0.1041 - val_loss: 0.2277 - val_mse: 0.0634\n",
      "Epoch 86/200\n",
      "8/8 [==============================] - 0s 7ms/step - loss: 0.2573 - mse: 0.1150 - val_loss: 0.2811 - val_mse: 0.0918\n",
      "Epoch 87/200\n",
      "8/8 [==============================] - 0s 7ms/step - loss: 0.2094 - mse: 0.0738 - val_loss: 0.2854 - val_mse: 0.0946\n",
      "Epoch 88/200\n",
      "8/8 [==============================] - 0s 7ms/step - loss: 0.2230 - mse: 0.0877 - val_loss: 0.2697 - val_mse: 0.0834\n",
      "Epoch 89/200\n",
      "8/8 [==============================] - 0s 7ms/step - loss: 0.2190 - mse: 0.0793 - val_loss: 0.2174 - val_mse: 0.0584\n",
      "Epoch 90/200\n",
      "8/8 [==============================] - 0s 7ms/step - loss: 0.2283 - mse: 0.0887 - val_loss: 0.1927 - val_mse: 0.0505\n",
      "Epoch 91/200\n",
      "8/8 [==============================] - 0s 7ms/step - loss: 0.2623 - mse: 0.1067 - val_loss: 0.2015 - val_mse: 0.0530\n",
      "Epoch 92/200\n",
      "8/8 [==============================] - 0s 7ms/step - loss: 0.2765 - mse: 0.1171 - val_loss: 0.2365 - val_mse: 0.0666\n",
      "Epoch 93/200\n",
      "8/8 [==============================] - 0s 7ms/step - loss: 0.2072 - mse: 0.0697 - val_loss: 0.2394 - val_mse: 0.0678\n",
      "Epoch 94/200\n",
      "8/8 [==============================] - 0s 7ms/step - loss: 0.2205 - mse: 0.0918 - val_loss: 0.2710 - val_mse: 0.0843\n",
      "Epoch 95/200\n",
      "8/8 [==============================] - 0s 7ms/step - loss: 0.2478 - mse: 0.0974 - val_loss: 0.2447 - val_mse: 0.0700\n",
      "Epoch 96/200\n",
      "8/8 [==============================] - 0s 8ms/step - loss: 0.2125 - mse: 0.0786 - val_loss: 0.2135 - val_mse: 0.0573\n",
      "Epoch 97/200\n",
      "8/8 [==============================] - 0s 7ms/step - loss: 0.2725 - mse: 0.1175 - val_loss: 0.2297 - val_mse: 0.0631\n",
      "Epoch 98/200\n",
      "8/8 [==============================] - 0s 6ms/step - loss: 0.2576 - mse: 0.0904 - val_loss: 0.2820 - val_mse: 0.0923\n",
      "Epoch 99/200\n",
      "8/8 [==============================] - 0s 7ms/step - loss: 0.2415 - mse: 0.0826 - val_loss: 0.3185 - val_mse: 0.1176\n",
      "Epoch 100/200\n",
      "8/8 [==============================] - 0s 6ms/step - loss: 0.2249 - mse: 0.0799 - val_loss: 0.3068 - val_mse: 0.1081\n",
      "Epoch 101/200\n",
      "8/8 [==============================] - 0s 6ms/step - loss: 0.2263 - mse: 0.0912 - val_loss: 0.2323 - val_mse: 0.0634\n",
      "Epoch 102/200\n",
      "8/8 [==============================] - 0s 6ms/step - loss: 0.2841 - mse: 0.1369 - val_loss: 0.1811 - val_mse: 0.0461\n",
      "Epoch 103/200\n",
      "8/8 [==============================] - 0s 6ms/step - loss: 0.2451 - mse: 0.0888 - val_loss: 0.2039 - val_mse: 0.0528\n",
      "Epoch 104/200\n",
      "8/8 [==============================] - 0s 6ms/step - loss: 0.2036 - mse: 0.0617 - val_loss: 0.2714 - val_mse: 0.0845\n",
      "Epoch 105/200\n",
      "8/8 [==============================] - 0s 6ms/step - loss: 0.2409 - mse: 0.1020 - val_loss: 0.2596 - val_mse: 0.0777\n",
      "Epoch 106/200\n",
      "8/8 [==============================] - 0s 6ms/step - loss: 0.2118 - mse: 0.0802 - val_loss: 0.2199 - val_mse: 0.0595\n",
      "Epoch 107/200\n",
      "8/8 [==============================] - 0s 7ms/step - loss: 0.1822 - mse: 0.0644 - val_loss: 0.2323 - val_mse: 0.0661\n",
      "Epoch 108/200\n",
      "8/8 [==============================] - 0s 6ms/step - loss: 0.2851 - mse: 0.1216 - val_loss: 0.2451 - val_mse: 0.0732\n",
      "Epoch 109/200\n",
      "8/8 [==============================] - 0s 6ms/step - loss: 0.2401 - mse: 0.0934 - val_loss: 0.2565 - val_mse: 0.0781\n",
      "Epoch 110/200\n",
      "8/8 [==============================] - 0s 6ms/step - loss: 0.2048 - mse: 0.0744 - val_loss: 0.2859 - val_mse: 0.0950\n",
      "Epoch 111/200\n",
      "8/8 [==============================] - 0s 6ms/step - loss: 0.2436 - mse: 0.0948 - val_loss: 0.2742 - val_mse: 0.0869\n",
      "Epoch 112/200\n",
      "8/8 [==============================] - 0s 6ms/step - loss: 0.2459 - mse: 0.1078 - val_loss: 0.2318 - val_mse: 0.0630\n",
      "Epoch 113/200\n"
     ]
    },
    {
     "name": "stdout",
     "output_type": "stream",
     "text": [
      "8/8 [==============================] - 0s 6ms/step - loss: 0.2351 - mse: 0.1143 - val_loss: 0.2628 - val_mse: 0.0800\n",
      "Epoch 114/200\n",
      "8/8 [==============================] - 0s 6ms/step - loss: 0.2390 - mse: 0.0961 - val_loss: 0.3036 - val_mse: 0.1076\n",
      "Epoch 115/200\n",
      "8/8 [==============================] - 0s 6ms/step - loss: 0.1969 - mse: 0.0744 - val_loss: 0.2866 - val_mse: 0.0955\n",
      "Epoch 116/200\n",
      "8/8 [==============================] - 0s 6ms/step - loss: 0.2243 - mse: 0.0971 - val_loss: 0.2660 - val_mse: 0.0798\n",
      "Epoch 117/200\n",
      "8/8 [==============================] - 0s 6ms/step - loss: 0.2713 - mse: 0.1328 - val_loss: 0.2504 - val_mse: 0.0705\n",
      "Epoch 118/200\n",
      "8/8 [==============================] - 0s 7ms/step - loss: 0.2342 - mse: 0.1020 - val_loss: 0.2561 - val_mse: 0.0757\n",
      "Epoch 119/200\n",
      "8/8 [==============================] - 0s 6ms/step - loss: 0.2554 - mse: 0.1118 - val_loss: 0.2489 - val_mse: 0.0724\n",
      "Epoch 120/200\n",
      "8/8 [==============================] - 0s 6ms/step - loss: 0.2122 - mse: 0.0749 - val_loss: 0.2461 - val_mse: 0.0713\n",
      "Epoch 121/200\n",
      "8/8 [==============================] - 0s 6ms/step - loss: 0.2420 - mse: 0.0916 - val_loss: 0.2511 - val_mse: 0.0740\n",
      "Epoch 122/200\n",
      "8/8 [==============================] - 0s 6ms/step - loss: 0.1924 - mse: 0.0568 - val_loss: 0.2261 - val_mse: 0.0635\n",
      "Epoch 123/200\n",
      "8/8 [==============================] - 0s 6ms/step - loss: 0.2234 - mse: 0.0843 - val_loss: 0.2010 - val_mse: 0.0549\n",
      "Epoch 124/200\n",
      "8/8 [==============================] - 0s 6ms/step - loss: 0.2374 - mse: 0.0991 - val_loss: 0.2420 - val_mse: 0.0694\n",
      "Epoch 125/200\n",
      "8/8 [==============================] - 0s 6ms/step - loss: 0.2520 - mse: 0.0922 - val_loss: 0.2982 - val_mse: 0.1027\n",
      "Epoch 126/200\n",
      "8/8 [==============================] - 0s 6ms/step - loss: 0.2335 - mse: 0.1015 - val_loss: 0.2668 - val_mse: 0.0821\n",
      "Epoch 127/200\n",
      "8/8 [==============================] - 0s 6ms/step - loss: 0.2468 - mse: 0.1060 - val_loss: 0.2397 - val_mse: 0.0680\n",
      "Epoch 128/200\n",
      "8/8 [==============================] - 0s 6ms/step - loss: 0.2191 - mse: 0.0864 - val_loss: 0.2150 - val_mse: 0.0589\n",
      "Epoch 129/200\n",
      "8/8 [==============================] - 0s 6ms/step - loss: 0.2715 - mse: 0.1293 - val_loss: 0.2285 - val_mse: 0.0631\n",
      "Epoch 130/200\n",
      "8/8 [==============================] - 0s 6ms/step - loss: 0.2507 - mse: 0.0966 - val_loss: 0.2280 - val_mse: 0.0625\n",
      "Epoch 131/200\n",
      "8/8 [==============================] - 0s 6ms/step - loss: 0.2135 - mse: 0.0772 - val_loss: 0.2693 - val_mse: 0.0842\n",
      "Epoch 132/200\n",
      "8/8 [==============================] - 0s 6ms/step - loss: 0.3021 - mse: 0.1242 - val_loss: 0.2759 - val_mse: 0.0884\n",
      "Epoch 133/200\n",
      "8/8 [==============================] - 0s 7ms/step - loss: 0.2441 - mse: 0.0947 - val_loss: 0.2400 - val_mse: 0.0673\n",
      "Epoch 134/200\n",
      "8/8 [==============================] - 0s 7ms/step - loss: 0.2196 - mse: 0.0834 - val_loss: 0.2263 - val_mse: 0.0626\n",
      "Epoch 135/200\n",
      "8/8 [==============================] - 0s 6ms/step - loss: 0.1946 - mse: 0.0653 - val_loss: 0.2469 - val_mse: 0.0714\n",
      "Epoch 136/200\n",
      "8/8 [==============================] - 0s 6ms/step - loss: 0.2176 - mse: 0.0815 - val_loss: 0.2149 - val_mse: 0.0600\n",
      "Epoch 137/200\n",
      "8/8 [==============================] - 0s 6ms/step - loss: 0.2347 - mse: 0.0901 - val_loss: 0.2154 - val_mse: 0.0608\n",
      "Epoch 138/200\n",
      "8/8 [==============================] - 0s 6ms/step - loss: 0.2131 - mse: 0.0728 - val_loss: 0.2779 - val_mse: 0.0893\n",
      "Epoch 139/200\n",
      "8/8 [==============================] - 0s 6ms/step - loss: 0.2290 - mse: 0.0806 - val_loss: 0.2652 - val_mse: 0.0815\n",
      "Epoch 140/200\n",
      "8/8 [==============================] - 0s 6ms/step - loss: 0.2705 - mse: 0.1135 - val_loss: 0.2709 - val_mse: 0.0852\n",
      "Epoch 141/200\n",
      "8/8 [==============================] - 0s 7ms/step - loss: 0.1952 - mse: 0.0699 - val_loss: 0.2594 - val_mse: 0.0776\n",
      "Epoch 142/200\n",
      "8/8 [==============================] - 0s 6ms/step - loss: 0.2172 - mse: 0.0794 - val_loss: 0.2605 - val_mse: 0.0787\n",
      "Epoch 143/200\n",
      "8/8 [==============================] - 0s 6ms/step - loss: 0.2734 - mse: 0.1261 - val_loss: 0.2882 - val_mse: 0.0986\n",
      "Epoch 144/200\n",
      "8/8 [==============================] - 0s 6ms/step - loss: 0.2396 - mse: 0.0859 - val_loss: 0.3099 - val_mse: 0.1125\n",
      "Epoch 145/200\n",
      "8/8 [==============================] - 0s 6ms/step - loss: 0.2360 - mse: 0.0867 - val_loss: 0.2734 - val_mse: 0.0881\n",
      "Epoch 146/200\n",
      "8/8 [==============================] - 0s 6ms/step - loss: 0.2061 - mse: 0.0911 - val_loss: 0.2016 - val_mse: 0.0542\n",
      "Epoch 147/200\n",
      "8/8 [==============================] - 0s 6ms/step - loss: 0.2106 - mse: 0.0804 - val_loss: 0.1965 - val_mse: 0.0526\n",
      "Epoch 148/200\n",
      "8/8 [==============================] - 0s 6ms/step - loss: 0.2560 - mse: 0.1085 - val_loss: 0.2287 - val_mse: 0.0644\n",
      "Epoch 149/200\n",
      "8/8 [==============================] - 0s 6ms/step - loss: 0.2152 - mse: 0.0904 - val_loss: 0.2269 - val_mse: 0.0643\n",
      "Epoch 150/200\n",
      "8/8 [==============================] - 0s 6ms/step - loss: 0.2241 - mse: 0.0844 - val_loss: 0.2331 - val_mse: 0.0663\n",
      "Epoch 151/200\n",
      "8/8 [==============================] - 0s 6ms/step - loss: 0.2030 - mse: 0.0724 - val_loss: 0.2377 - val_mse: 0.0678\n",
      "Epoch 152/200\n",
      "8/8 [==============================] - 0s 6ms/step - loss: 0.2504 - mse: 0.1071 - val_loss: 0.2591 - val_mse: 0.0779\n",
      "Epoch 153/200\n",
      "8/8 [==============================] - 0s 6ms/step - loss: 0.2006 - mse: 0.0682 - val_loss: 0.2589 - val_mse: 0.0774\n",
      "Epoch 154/200\n",
      "8/8 [==============================] - 0s 6ms/step - loss: 0.1972 - mse: 0.0702 - val_loss: 0.2384 - val_mse: 0.0673\n",
      "Epoch 155/200\n",
      "8/8 [==============================] - 0s 6ms/step - loss: 0.2366 - mse: 0.0937 - val_loss: 0.2189 - val_mse: 0.0596\n",
      "Epoch 156/200\n",
      "8/8 [==============================] - 0s 6ms/step - loss: 0.2124 - mse: 0.0772 - val_loss: 0.2165 - val_mse: 0.0583\n",
      "Epoch 157/200\n",
      "8/8 [==============================] - 0s 6ms/step - loss: 0.2249 - mse: 0.0847 - val_loss: 0.2548 - val_mse: 0.0750\n",
      "Epoch 158/200\n",
      "8/8 [==============================] - 0s 6ms/step - loss: 0.2113 - mse: 0.0738 - val_loss: 0.2084 - val_mse: 0.0549\n",
      "Epoch 159/200\n",
      "8/8 [==============================] - 0s 6ms/step - loss: 0.2474 - mse: 0.0966 - val_loss: 0.2054 - val_mse: 0.0540\n",
      "Epoch 160/200\n",
      "8/8 [==============================] - 0s 6ms/step - loss: 0.2146 - mse: 0.0814 - val_loss: 0.2159 - val_mse: 0.0578\n",
      "Epoch 161/200\n",
      "8/8 [==============================] - 0s 7ms/step - loss: 0.2329 - mse: 0.0956 - val_loss: 0.2628 - val_mse: 0.0794\n",
      "Epoch 162/200\n",
      "8/8 [==============================] - 0s 6ms/step - loss: 0.2360 - mse: 0.1015 - val_loss: 0.2486 - val_mse: 0.0728\n",
      "Epoch 163/200\n",
      "8/8 [==============================] - 0s 7ms/step - loss: 0.2412 - mse: 0.1007 - val_loss: 0.2021 - val_mse: 0.0532\n",
      "Epoch 164/200\n",
      "8/8 [==============================] - 0s 6ms/step - loss: 0.2456 - mse: 0.1087 - val_loss: 0.1989 - val_mse: 0.0513\n",
      "Epoch 165/200\n",
      "8/8 [==============================] - 0s 6ms/step - loss: 0.1900 - mse: 0.0640 - val_loss: 0.2455 - val_mse: 0.0703\n",
      "Epoch 166/200\n",
      "8/8 [==============================] - 0s 6ms/step - loss: 0.2218 - mse: 0.0865 - val_loss: 0.2988 - val_mse: 0.1037\n",
      "Epoch 167/200\n",
      "8/8 [==============================] - 0s 6ms/step - loss: 0.2212 - mse: 0.0866 - val_loss: 0.2770 - val_mse: 0.0884\n",
      "Epoch 168/200\n",
      "8/8 [==============================] - 0s 6ms/step - loss: 0.2361 - mse: 0.0934 - val_loss: 0.2524 - val_mse: 0.0738\n",
      "Epoch 169/200\n",
      "8/8 [==============================] - 0s 6ms/step - loss: 0.2577 - mse: 0.1149 - val_loss: 0.2690 - val_mse: 0.0830\n",
      "Epoch 170/200\n",
      "8/8 [==============================] - 0s 6ms/step - loss: 0.2098 - mse: 0.0802 - val_loss: 0.2715 - val_mse: 0.0849\n",
      "Epoch 171/200\n",
      "8/8 [==============================] - 0s 6ms/step - loss: 0.1869 - mse: 0.0638 - val_loss: 0.2697 - val_mse: 0.0846\n",
      "Epoch 172/200\n",
      "8/8 [==============================] - 0s 6ms/step - loss: 0.2332 - mse: 0.0875 - val_loss: 0.2583 - val_mse: 0.0781\n",
      "Epoch 173/200\n",
      "8/8 [==============================] - 0s 6ms/step - loss: 0.2246 - mse: 0.0870 - val_loss: 0.2347 - val_mse: 0.0666\n",
      "Epoch 174/200\n",
      "8/8 [==============================] - 0s 6ms/step - loss: 0.2187 - mse: 0.0774 - val_loss: 0.2192 - val_mse: 0.0604\n",
      "Epoch 175/200\n"
     ]
    },
    {
     "name": "stdout",
     "output_type": "stream",
     "text": [
      "8/8 [==============================] - 0s 6ms/step - loss: 0.2189 - mse: 0.0720 - val_loss: 0.2133 - val_mse: 0.0581\n",
      "Epoch 176/200\n",
      "8/8 [==============================] - 0s 6ms/step - loss: 0.2256 - mse: 0.0826 - val_loss: 0.2128 - val_mse: 0.0580\n",
      "Epoch 177/200\n",
      "8/8 [==============================] - 0s 6ms/step - loss: 0.1714 - mse: 0.0645 - val_loss: 0.2528 - val_mse: 0.0757\n",
      "Epoch 178/200\n",
      "8/8 [==============================] - 0s 6ms/step - loss: 0.2261 - mse: 0.0815 - val_loss: 0.2752 - val_mse: 0.0883\n",
      "Epoch 179/200\n",
      "8/8 [==============================] - 0s 7ms/step - loss: 0.2275 - mse: 0.0771 - val_loss: 0.2547 - val_mse: 0.0767\n",
      "Epoch 180/200\n",
      "8/8 [==============================] - 0s 6ms/step - loss: 0.2051 - mse: 0.0746 - val_loss: 0.2405 - val_mse: 0.0690\n",
      "Epoch 181/200\n",
      "8/8 [==============================] - 0s 6ms/step - loss: 0.1902 - mse: 0.0730 - val_loss: 0.2385 - val_mse: 0.0681\n",
      "Epoch 182/200\n",
      "8/8 [==============================] - 0s 6ms/step - loss: 0.2020 - mse: 0.0713 - val_loss: 0.2574 - val_mse: 0.0780\n",
      "Epoch 183/200\n",
      "8/8 [==============================] - 0s 6ms/step - loss: 0.1971 - mse: 0.0854 - val_loss: 0.2631 - val_mse: 0.0804\n",
      "Epoch 184/200\n",
      "8/8 [==============================] - 0s 6ms/step - loss: 0.2342 - mse: 0.1054 - val_loss: 0.2485 - val_mse: 0.0727\n",
      "Epoch 185/200\n",
      "8/8 [==============================] - 0s 6ms/step - loss: 0.2360 - mse: 0.1016 - val_loss: 0.2303 - val_mse: 0.0643\n",
      "Epoch 186/200\n",
      "8/8 [==============================] - 0s 7ms/step - loss: 0.2253 - mse: 0.0840 - val_loss: 0.2371 - val_mse: 0.0671\n",
      "Epoch 187/200\n",
      "8/8 [==============================] - 0s 6ms/step - loss: 0.2185 - mse: 0.0846 - val_loss: 0.2714 - val_mse: 0.0855\n",
      "Epoch 188/200\n",
      "8/8 [==============================] - 0s 6ms/step - loss: 0.2205 - mse: 0.0971 - val_loss: 0.2628 - val_mse: 0.0806\n",
      "Epoch 189/200\n",
      "8/8 [==============================] - 0s 6ms/step - loss: 0.2299 - mse: 0.0885 - val_loss: 0.2329 - val_mse: 0.0667\n",
      "Epoch 190/200\n",
      "8/8 [==============================] - 0s 6ms/step - loss: 0.2176 - mse: 0.0822 - val_loss: 0.2504 - val_mse: 0.0745\n",
      "Epoch 191/200\n",
      "8/8 [==============================] - 0s 6ms/step - loss: 0.2149 - mse: 0.0824 - val_loss: 0.2461 - val_mse: 0.0719\n",
      "Epoch 192/200\n",
      "8/8 [==============================] - 0s 6ms/step - loss: 0.1953 - mse: 0.0726 - val_loss: 0.1957 - val_mse: 0.0545\n",
      "Epoch 193/200\n",
      "8/8 [==============================] - 0s 6ms/step - loss: 0.2169 - mse: 0.0766 - val_loss: 0.1972 - val_mse: 0.0541\n",
      "Epoch 194/200\n",
      "8/8 [==============================] - 0s 6ms/step - loss: 0.2209 - mse: 0.0876 - val_loss: 0.2679 - val_mse: 0.0841\n",
      "Epoch 195/200\n",
      "8/8 [==============================] - 0s 6ms/step - loss: 0.1999 - mse: 0.0762 - val_loss: 0.2761 - val_mse: 0.0889\n",
      "Epoch 196/200\n",
      "8/8 [==============================] - 0s 6ms/step - loss: 0.2549 - mse: 0.1209 - val_loss: 0.2188 - val_mse: 0.0604\n",
      "Epoch 197/200\n",
      "8/8 [==============================] - 0s 7ms/step - loss: 0.2280 - mse: 0.0823 - val_loss: 0.1967 - val_mse: 0.0527\n",
      "Epoch 198/200\n",
      "8/8 [==============================] - 0s 6ms/step - loss: 0.2253 - mse: 0.0774 - val_loss: 0.1809 - val_mse: 0.0494\n",
      "Epoch 199/200\n",
      "8/8 [==============================] - 0s 6ms/step - loss: 0.2406 - mse: 0.0973 - val_loss: 0.2188 - val_mse: 0.0600\n",
      "Epoch 200/200\n",
      "8/8 [==============================] - 0s 6ms/step - loss: 0.2029 - mse: 0.0836 - val_loss: 0.2357 - val_mse: 0.0667\n"
     ]
    }
   ],
   "source": [
    "EPOCHS=200\n",
    "\n",
    "model = crear_modeloFF()\n",
    "\n",
    "history=model.fit(x_train,y_train,epochs=EPOCHS,validation_data=(x_val,y_val),batch_size=look_back)"
   ]
  },
  {
   "cell_type": "markdown",
   "metadata": {},
   "source": [
    "# Visualizamos resultados"
   ]
  },
  {
   "cell_type": "code",
   "execution_count": 27,
   "metadata": {},
   "outputs": [],
   "source": [
    "def mape(actual, pred): \n",
    "    actual, pred = np.array(actual), np.array(pred)\n",
    "    return np.mean(np.abs((actual - pred) / actual)) * 100\n",
    "\n",
    "\n",
    "def compute_metrics_fn(y_valid_resc, y_hat_resc):\n",
    "    mae_ = mean_absolute_error(y_valid_resc, y_hat_resc)\n",
    "    mse_ = mean_squared_error(y_valid_resc, y_hat_resc)\n",
    "    rmse_ = mean_squared_error(y_valid_resc, y_hat_resc, squared = False)\n",
    "    cvrmse_ = rmse_/np.mean(y_valid_resc)*100\n",
    "    mape_ = mape(y_valid_resc, y_hat_resc)\n",
    "    \n",
    "    return mae_, mse_, rmse_, cvrmse_, mape_"
   ]
  },
  {
   "cell_type": "code",
   "execution_count": 28,
   "metadata": {},
   "outputs": [],
   "source": [
    "# hacemos las predicciones\n",
    "trainPredict = model.predict(x_train)\n",
    "testPredict = model.predict(x_val)\n",
    "\n",
    "# invertimos las predicciones\n",
    "trainPredict = scaler.inverse_transform(trainPredict)\n",
    "trainY = y_train.reshape(y_train.shape[0], 1)\n",
    "trainY_scalerInverse = scaler.inverse_transform(trainY)\n",
    "testPredict = scaler.inverse_transform(testPredict)\n",
    "testY = y_val.reshape(y_val.shape[0], 1)\n",
    "testY_scalerInverse = scaler.inverse_transform(testY)"
   ]
  },
  {
   "cell_type": "code",
   "execution_count": 29,
   "metadata": {},
   "outputs": [
    {
     "name": "stdout",
     "output_type": "stream",
     "text": [
      "Resultado del entrenamiento: 335.18 MAE\n",
      "Resultado del entrenamiento: 237006.72 MSE\n",
      "Resultado del entrenamiento: 486.83 RMSE\n",
      "Resultado del entrenamiento: 12.45 CVRMSE\n",
      "Resultado del entrenamiento: 10.13 MAPE \n",
      "\n",
      "Resultado del test: 417.71 MAE\n",
      "Resultado del test: 209566.42 MSE\n",
      "Resultado del test: 457.78 RMSE\n",
      "Resultado del test: 8.73 CVRMSE\n",
      "Resultado del test: 8.04 MAPE\n"
     ]
    }
   ],
   "source": [
    "# calculamos las metricas de error\n",
    "trainScore_MAE, trainScore_MSE, trainScore_RMSE, trainScore_CVRMSE, trainScore_MAPE  =  compute_metrics_fn(trainY_scalerInverse, trainPredict)\n",
    "print('Resultado del entrenamiento: %.2f MAE' % (trainScore_MAE))\n",
    "print('Resultado del entrenamiento: %.2f MSE' % (trainScore_MSE))\n",
    "print('Resultado del entrenamiento: %.2f RMSE' % (trainScore_RMSE))\n",
    "print('Resultado del entrenamiento: %.2f CVRMSE' % (trainScore_CVRMSE))\n",
    "print('Resultado del entrenamiento: %.2f MAPE \\n' % (trainScore_MAPE))\n",
    "\n",
    "testScore_MAE, testScore_MSE, testScore_RMSE, testScore_CVRMSE, testScore_MAPE  =  compute_metrics_fn(testY_scalerInverse, testPredict)\n",
    "print('Resultado del test: %.2f MAE' % (testScore_MAE))\n",
    "print('Resultado del test: %.2f MSE' % (testScore_MSE))\n",
    "print('Resultado del test: %.2f RMSE' % (testScore_RMSE))\n",
    "print('Resultado del test: %.2f CVRMSE' % (testScore_CVRMSE))\n",
    "print('Resultado del test: %.2f MAPE' % (testScore_MAPE))"
   ]
  },
  {
   "cell_type": "code",
   "execution_count": 30,
   "metadata": {},
   "outputs": [
    {
     "data": {
      "image/png": "[encoded data removed]",
      "text/plain": [
       "<Figure size 432x288 with 1 Axes>"
      ]
     },
     "metadata": {
      "needs_background": "light"
     },
     "output_type": "display_data"
    }
   ],
   "source": [
    "plt.plot(df_ine.values)\n",
    "plt.grid(True)\n",
    "plt.title(\"Viajes totales según el INE\", fontsize = 15)\n",
    "plt.xlabel(\"Tiempo (dias)\", fontsize = 10)\n",
    "plt.ylabel(\"viajes\", fontsize = 10)\n",
    "plt.show()"
   ]
  },
  {
   "cell_type": "code",
   "execution_count": 31,
   "metadata": {},
   "outputs": [
    {
     "data": {
      "image/png": "[encoded data removed]",
      "text/plain": [
       "<Figure size 432x288 with 1 Axes>"
      ]
     },
     "metadata": {
      "needs_background": "light"
     },
     "output_type": "display_data"
    }
   ],
   "source": [
    "plt.plot(df_twt.values)\n",
    "plt.grid(True)\n",
    "plt.title(\"Viajes totales según TWT\", fontsize = 15)\n",
    "plt.xlabel(\"Tiempo (dias)\", fontsize = 10)\n",
    "plt.ylabel(\"viajes (en cientos)\", fontsize = 10)\n",
    "plt.show()"
   ]
  },
  {
   "cell_type": "code",
   "execution_count": 32,
   "metadata": {},
   "outputs": [
    {
     "data": {
      "image/png": "[encoded data removed]",
      "text/plain": [
       "<Figure size 432x288 with 1 Axes>"
      ]
     },
     "metadata": {
      "needs_background": "light"
     },
     "output_type": "display_data"
    }
   ],
   "source": [
    "dataset = df_ine.values\n",
    "dataset = dataset.astype('float32')\n",
    "# predicciones del entrenamiento de cambio para plotear\n",
    "trainPredictPlot = np.empty_like(dataset)\n",
    "trainPredictPlot[:, :] = np.nan\n",
    "trainPredictPlot[look_back:len(trainPredict)+look_back, :] = trainPredict\n",
    "# predicciones del test de cambio para plotear\n",
    "testPredictPlot = np.empty_like(dataset)\n",
    "testPredictPlot[:, :] = np.nan\n",
    "testPredictPlot[len(trainPredict)+(look_back):len(dataset), :] = testPredict\n",
    "# plot baseline and predictions\n",
    "plt.plot(df_ine.values)\n",
    "# ploteamos linea base y predicciones\n",
    "plt.plot(trainPredictPlot,'r', linewidth = 2)\n",
    "plt.plot(testPredictPlot,'m', linewidth = 2)\n",
    "plt.legend( ('Datos', 'Prediccion datos entramiento', 'Prediccion sobre los datos de test'), loc = 'upper left')\n",
    "plt.grid(True)\n",
    "plt.title(\"Viajes totales\", fontsize = 15)\n",
    "plt.xlabel(\"Tiempo (dias)\", fontsize = 10)\n",
    "plt.ylabel(\"viajes\", fontsize = 10)\n",
    "plt.show()"
   ]
  },
  {
   "cell_type": "code",
   "execution_count": 33,
   "metadata": {},
   "outputs": [
    {
     "data": {
      "image/png": "[encoded data removed]",
      "text/plain": [
       "<Figure size 432x288 with 1 Axes>"
      ]
     },
     "metadata": {
      "needs_background": "light"
     },
     "output_type": "display_data"
    }
   ],
   "source": [
    "results=model.predict(x_val)\n",
    "\n",
    "plt.scatter(range(len(y_val)),y_val,c='g')\n",
    "plt.scatter(range(len(results)),results,c='r')\n",
    "plt.title('validate')\n",
    "plt.show()"
   ]
  },
  {
   "cell_type": "code",
   "execution_count": 34,
   "metadata": {},
   "outputs": [
    {
     "data": {
      "image/png": "[encoded data removed]",
      "text/plain": [
       "<Figure size 432x288 with 1 Axes>"
      ]
     },
     "metadata": {
      "needs_background": "light"
     },
     "output_type": "display_data"
    }
   ],
   "source": [
    "plt.plot(history.history['loss'])\n",
    "plt.plot(history.history['val_loss'])\n",
    "plt.title('loss')\n",
    "plt.legend( ('training loss', 'validate loss'), loc = 'upper right')\n",
    "plt.show()"
   ]
  },
  {
   "cell_type": "markdown",
   "metadata": {},
   "source": [
    "# Prediccion a futuro"
   ]
  },
  {
   "cell_type": "code",
   "execution_count": 35,
   "metadata": {},
   "outputs": [
    {
     "data": {
      "text/html": [
       "<div>\n",
       "<style scoped>\n",
       "    .dataframe tbody tr th:only-of-type {\n",
       "        vertical-align: middle;\n",
       "    }\n",
       "\n",
       "    .dataframe tbody tr th {\n",
       "        vertical-align: top;\n",
       "    }\n",
       "\n",
       "    .dataframe thead th {\n",
       "        text-align: right;\n",
       "    }\n",
       "</style>\n",
       "<table border=\"1\" class=\"dataframe\">\n",
       "  <thead>\n",
       "    <tr style=\"text-align: right;\">\n",
       "      <th></th>\n",
       "      <th>Viajes</th>\n",
       "    </tr>\n",
       "  </thead>\n",
       "  <tbody>\n",
       "    <tr>\n",
       "      <th>2020-06-07</th>\n",
       "      <td>0</td>\n",
       "    </tr>\n",
       "    <tr>\n",
       "      <th>2020-06-08</th>\n",
       "      <td>5</td>\n",
       "    </tr>\n",
       "    <tr>\n",
       "      <th>2020-06-09</th>\n",
       "      <td>2</td>\n",
       "    </tr>\n",
       "    <tr>\n",
       "      <th>2020-06-10</th>\n",
       "      <td>2</td>\n",
       "    </tr>\n",
       "    <tr>\n",
       "      <th>2020-06-11</th>\n",
       "      <td>0</td>\n",
       "    </tr>\n",
       "    <tr>\n",
       "      <th>2020-06-12</th>\n",
       "      <td>2</td>\n",
       "    </tr>\n",
       "    <tr>\n",
       "      <th>2020-06-13</th>\n",
       "      <td>0</td>\n",
       "    </tr>\n",
       "    <tr>\n",
       "      <th>2020-06-14</th>\n",
       "      <td>0</td>\n",
       "    </tr>\n",
       "    <tr>\n",
       "      <th>2020-06-15</th>\n",
       "      <td>2</td>\n",
       "    </tr>\n",
       "    <tr>\n",
       "      <th>2020-06-16</th>\n",
       "      <td>0</td>\n",
       "    </tr>\n",
       "    <tr>\n",
       "      <th>2020-06-17</th>\n",
       "      <td>0</td>\n",
       "    </tr>\n",
       "    <tr>\n",
       "      <th>2020-06-18</th>\n",
       "      <td>2</td>\n",
       "    </tr>\n",
       "    <tr>\n",
       "      <th>2020-06-19</th>\n",
       "      <td>0</td>\n",
       "    </tr>\n",
       "    <tr>\n",
       "      <th>2020-06-20</th>\n",
       "      <td>0</td>\n",
       "    </tr>\n",
       "  </tbody>\n",
       "</table>\n",
       "</div>"
      ],
      "text/plain": [
       "            Viajes\n",
       "2020-06-07       0\n",
       "2020-06-08       5\n",
       "2020-06-09       2\n",
       "2020-06-10       2\n",
       "2020-06-11       0\n",
       "2020-06-12       2\n",
       "2020-06-13       0\n",
       "2020-06-14       0\n",
       "2020-06-15       2\n",
       "2020-06-16       0\n",
       "2020-06-17       0\n",
       "2020-06-18       2\n",
       "2020-06-19       0\n",
       "2020-06-20       0"
      ]
     },
     "execution_count": 35,
     "metadata": {},
     "output_type": "execute_result"
    }
   ],
   "source": [
    "# usaremos los 14 ultimos dias del confinamiento en junio para predecir como habrian sido los dias del 21 al 27 en caso de que\n",
    "# el confinamiento se hubiese alargado por una semana mas\n",
    "\n",
    "ultimosDias_twt = df_twt['2020-6-7':'2020-6-20']\n",
    "ultimosDias_ine = df_ine['2020-6-7':'2020-6-20']\n",
    "ultimosDias_twt"
   ]
  },
  {
   "cell_type": "markdown",
   "metadata": {},
   "source": [
    "# Preparamos los datos para el test"
   ]
  },
  {
   "cell_type": "code",
   "execution_count": 36,
   "metadata": {},
   "outputs": [
    {
     "data": {
      "text/html": [
       "<div>\n",
       "<style scoped>\n",
       "    .dataframe tbody tr th:only-of-type {\n",
       "        vertical-align: middle;\n",
       "    }\n",
       "\n",
       "    .dataframe tbody tr th {\n",
       "        vertical-align: top;\n",
       "    }\n",
       "\n",
       "    .dataframe thead th {\n",
       "        text-align: right;\n",
       "    }\n",
       "</style>\n",
       "<table border=\"1\" class=\"dataframe\">\n",
       "  <thead>\n",
       "    <tr style=\"text-align: right;\">\n",
       "      <th></th>\n",
       "      <th>var1(t-7)</th>\n",
       "      <th>var2(t-7)</th>\n",
       "      <th>var1(t-6)</th>\n",
       "      <th>var2(t-6)</th>\n",
       "      <th>var1(t-5)</th>\n",
       "      <th>var2(t-5)</th>\n",
       "      <th>var1(t-4)</th>\n",
       "      <th>var2(t-4)</th>\n",
       "      <th>var1(t-3)</th>\n",
       "      <th>var2(t-3)</th>\n",
       "      <th>var1(t-2)</th>\n",
       "      <th>var2(t-2)</th>\n",
       "      <th>var1(t-1)</th>\n",
       "      <th>var2(t-1)</th>\n",
       "    </tr>\n",
       "  </thead>\n",
       "  <tbody>\n",
       "    <tr>\n",
       "      <th>7</th>\n",
       "      <td>-1.0</td>\n",
       "      <td>-0.690595</td>\n",
       "      <td>1.0</td>\n",
       "      <td>0.139678</td>\n",
       "      <td>-0.2</td>\n",
       "      <td>-0.302170</td>\n",
       "      <td>-0.2</td>\n",
       "      <td>0.649416</td>\n",
       "      <td>-1.0</td>\n",
       "      <td>0.481358</td>\n",
       "      <td>-0.2</td>\n",
       "      <td>0.787424</td>\n",
       "      <td>-1.0</td>\n",
       "      <td>0.130774</td>\n",
       "    </tr>\n",
       "    <tr>\n",
       "      <th>8</th>\n",
       "      <td>1.0</td>\n",
       "      <td>0.139678</td>\n",
       "      <td>-0.2</td>\n",
       "      <td>-0.302170</td>\n",
       "      <td>-0.2</td>\n",
       "      <td>0.649416</td>\n",
       "      <td>-1.0</td>\n",
       "      <td>0.481358</td>\n",
       "      <td>-0.2</td>\n",
       "      <td>0.787424</td>\n",
       "      <td>-1.0</td>\n",
       "      <td>0.130774</td>\n",
       "      <td>-1.0</td>\n",
       "      <td>-1.000000</td>\n",
       "    </tr>\n",
       "    <tr>\n",
       "      <th>9</th>\n",
       "      <td>-0.2</td>\n",
       "      <td>-0.302170</td>\n",
       "      <td>-0.2</td>\n",
       "      <td>0.649416</td>\n",
       "      <td>-1.0</td>\n",
       "      <td>0.481358</td>\n",
       "      <td>-0.2</td>\n",
       "      <td>0.787424</td>\n",
       "      <td>-1.0</td>\n",
       "      <td>0.130774</td>\n",
       "      <td>-1.0</td>\n",
       "      <td>-1.000000</td>\n",
       "      <td>-0.2</td>\n",
       "      <td>0.238731</td>\n",
       "    </tr>\n",
       "    <tr>\n",
       "      <th>10</th>\n",
       "      <td>-0.2</td>\n",
       "      <td>0.649416</td>\n",
       "      <td>-1.0</td>\n",
       "      <td>0.481358</td>\n",
       "      <td>-0.2</td>\n",
       "      <td>0.787424</td>\n",
       "      <td>-1.0</td>\n",
       "      <td>0.130774</td>\n",
       "      <td>-1.0</td>\n",
       "      <td>-1.000000</td>\n",
       "      <td>-0.2</td>\n",
       "      <td>0.238731</td>\n",
       "      <td>-1.0</td>\n",
       "      <td>0.382304</td>\n",
       "    </tr>\n",
       "    <tr>\n",
       "      <th>11</th>\n",
       "      <td>-1.0</td>\n",
       "      <td>0.481358</td>\n",
       "      <td>-0.2</td>\n",
       "      <td>0.787424</td>\n",
       "      <td>-1.0</td>\n",
       "      <td>0.130774</td>\n",
       "      <td>-1.0</td>\n",
       "      <td>-1.000000</td>\n",
       "      <td>-0.2</td>\n",
       "      <td>0.238731</td>\n",
       "      <td>-1.0</td>\n",
       "      <td>0.382304</td>\n",
       "      <td>-1.0</td>\n",
       "      <td>0.850863</td>\n",
       "    </tr>\n",
       "    <tr>\n",
       "      <th>12</th>\n",
       "      <td>-0.2</td>\n",
       "      <td>0.787424</td>\n",
       "      <td>-1.0</td>\n",
       "      <td>0.130774</td>\n",
       "      <td>-1.0</td>\n",
       "      <td>-1.000000</td>\n",
       "      <td>-0.2</td>\n",
       "      <td>0.238731</td>\n",
       "      <td>-1.0</td>\n",
       "      <td>0.382304</td>\n",
       "      <td>-1.0</td>\n",
       "      <td>0.850863</td>\n",
       "      <td>-0.2</td>\n",
       "      <td>0.798553</td>\n",
       "    </tr>\n",
       "    <tr>\n",
       "      <th>13</th>\n",
       "      <td>-1.0</td>\n",
       "      <td>0.130774</td>\n",
       "      <td>-1.0</td>\n",
       "      <td>-1.000000</td>\n",
       "      <td>-0.2</td>\n",
       "      <td>0.238731</td>\n",
       "      <td>-1.0</td>\n",
       "      <td>0.382304</td>\n",
       "      <td>-1.0</td>\n",
       "      <td>0.850863</td>\n",
       "      <td>-0.2</td>\n",
       "      <td>0.798553</td>\n",
       "      <td>-1.0</td>\n",
       "      <td>1.000000</td>\n",
       "    </tr>\n",
       "  </tbody>\n",
       "</table>\n",
       "</div>"
      ],
      "text/plain": [
       "    var1(t-7)  var2(t-7)  var1(t-6)  var2(t-6)  var1(t-5)  var2(t-5)  \\\n",
       "7        -1.0  -0.690595        1.0   0.139678       -0.2  -0.302170   \n",
       "8         1.0   0.139678       -0.2  -0.302170       -0.2   0.649416   \n",
       "9        -0.2  -0.302170       -0.2   0.649416       -1.0   0.481358   \n",
       "10       -0.2   0.649416       -1.0   0.481358       -0.2   0.787424   \n",
       "11       -1.0   0.481358       -0.2   0.787424       -1.0   0.130774   \n",
       "12       -0.2   0.787424       -1.0   0.130774       -1.0  -1.000000   \n",
       "13       -1.0   0.130774       -1.0  -1.000000       -0.2   0.238731   \n",
       "\n",
       "    var1(t-4)  var2(t-4)  var1(t-3)  var2(t-3)  var1(t-2)  var2(t-2)  \\\n",
       "7        -0.2   0.649416       -1.0   0.481358       -0.2   0.787424   \n",
       "8        -1.0   0.481358       -0.2   0.787424       -1.0   0.130774   \n",
       "9        -0.2   0.787424       -1.0   0.130774       -1.0  -1.000000   \n",
       "10       -1.0   0.130774       -1.0  -1.000000       -0.2   0.238731   \n",
       "11       -1.0  -1.000000       -0.2   0.238731       -1.0   0.382304   \n",
       "12       -0.2   0.238731       -1.0   0.382304       -1.0   0.850863   \n",
       "13       -1.0   0.382304       -1.0   0.850863       -0.2   0.798553   \n",
       "\n",
       "    var1(t-1)  var2(t-1)  \n",
       "7        -1.0   0.130774  \n",
       "8        -1.0  -1.000000  \n",
       "9        -0.2   0.238731  \n",
       "10       -1.0   0.382304  \n",
       "11       -1.0   0.850863  \n",
       "12       -0.2   0.798553  \n",
       "13       -1.0   1.000000  "
      ]
     },
     "execution_count": 36,
     "metadata": {},
     "output_type": "execute_result"
    }
   ],
   "source": [
    "# cargamos el dataframe en la variable values\n",
    "values_twt = ultimosDias_twt.values\n",
    "values_ine = ultimosDias_ine.values\n",
    "\n",
    "# convertimos los enteros en floats\n",
    "values_twt = values_twt.astype('float32')\n",
    "values_ine = values_ine.astype('float32')\n",
    "\n",
    "# normalizamos los datos a escala de entre -1 y 1\n",
    "values_twt =values_twt.reshape(-1, 1)\n",
    "scaled_twt = scaler.fit_transform(values_twt)\n",
    "values_ine =values_ine.reshape(-1, 1) # esto lo hacemos porque tenemos 1 sola dimension\n",
    "scaled_ine = scaler.fit_transform(values_ine)\n",
    "\n",
    "# usamos la funcion definida previamente\n",
    "reframed_twt = series_to_supervised(scaled_twt, look_back, 1)\n",
    "reframed_ine = series_to_supervised(scaled_ine, look_back, 1)\n",
    "\n",
    "# eliminamos la ultima columna pues es parte de lo que queremos hayar\n",
    "reframed_twt.drop(reframed_twt.columns[[7]], inplace=True, axis=1)\n",
    "reframed_ine.drop(reframed_ine.columns[[7]], inplace=True, axis=1)\n",
    "\n",
    "#unimos los dataframes\n",
    "reframed_ine.columns = ['var2(t-7)', 'var2(t-6)', 'var2(t-5)', 'var2(t-4)', 'var2(t-3)', 'var2(t-2)', 'var2(t-1)']\n",
    "reframed = pd.concat([reframed_twt.iloc[:, 0], reframed_ine.iloc[:, 0]], axis=1)\n",
    "\n",
    "for i in range(6):\n",
    "    reframed = pd.concat([reframed, reframed_twt.iloc[:, i+1]], axis=1)\n",
    "    reframed = pd.concat([reframed, reframed_ine.iloc[:, i+1]], axis=1)\n",
    "\n",
    "#mostramos el set de entrenamiento\n",
    "reframed.head(7)"
   ]
  },
  {
   "cell_type": "code",
   "execution_count": 37,
   "metadata": {},
   "outputs": [
    {
     "name": "stdout",
     "output_type": "stream",
     "text": [
      "(1, 1, 14)\n"
     ]
    },
    {
     "data": {
      "text/plain": [
       "array([[[-1.        ,  0.13077354, -1.        , -1.        ,\n",
       "         -0.19999999,  0.23873138, -1.        ,  0.3823037 ,\n",
       "         -1.        ,  0.8508625 , -0.19999999,  0.79855347,\n",
       "         -1.        ,  1.        ]]], dtype=float32)"
      ]
     },
     "execution_count": 37,
     "metadata": {},
     "output_type": "execute_result"
    }
   ],
   "source": [
    "values = reframed.values\n",
    "\n",
    "#tomamos los valores para realizar el test\n",
    "x_test = values[6:, :]\n",
    "\n",
    "# reshape input to be 3D [samples, timesteps, features] - preguntar\n",
    "x_test = x_test.reshape((x_test.shape[0], 1, x_test.shape[1]))\n",
    "print(x_test.shape)\n",
    "x_test"
   ]
  },
  {
   "cell_type": "code",
   "execution_count": 38,
   "metadata": {},
   "outputs": [],
   "source": [
    "#definimos la funcion para realizar el desplazamiento que se hara en el array cada prediccion pues para hacer\n",
    "#la siguiente prediccion eliminamos el dia mas antiguo, desplazamos un lugar el resto de dias y añadimos el ultimo dia que\n",
    "#se ha predecido, esto es por que para predecir un dia se usan los 7 dias previos\n",
    "\n",
    "def agregarNuevoValor(x_test,nuevoValor):\n",
    "    for i in range(x_test.shape[2]-1):\n",
    "        x_test[0][0][i] = x_test[0][0][i+1]\n",
    "    x_test[0][0][x_test.shape[2]-1]=nuevoValor\n",
    "    return x_test"
   ]
  },
  {
   "cell_type": "markdown",
   "metadata": {},
   "source": [
    "# Predicciones para la proxima semana"
   ]
  },
  {
   "cell_type": "code",
   "execution_count": 39,
   "metadata": {},
   "outputs": [
    {
     "name": "stdout",
     "output_type": "stream",
     "text": [
      "[[[-1.          0.13077354 -1.         -1.         -0.19999999\n",
      "    0.23873138 -1.          0.3823037  -1.          0.8508625\n",
      "   -0.19999999  0.79855347 -1.          1.        ]]]\n",
      "[[[ 0.13077354 -1.         -1.         -0.19999999  0.23873138\n",
      "   -1.          0.3823037  -1.          0.8508625  -0.19999999\n",
      "    0.79855347 -1.          1.          0.49538004]]]\n",
      "[[[-1.         -1.         -0.19999999  0.23873138 -1.\n",
      "    0.3823037  -1.          0.8508625  -0.19999999  0.79855347\n",
      "   -1.          1.          0.49538004  0.21664   ]]]\n",
      "[[[-1.         -0.19999999  0.23873138 -1.          0.3823037\n",
      "   -1.          0.8508625  -0.19999999  0.79855347 -1.\n",
      "    1.          0.49538004  0.21664     0.44215545]]]\n",
      "[[[-0.19999999  0.23873138 -1.          0.3823037  -1.\n",
      "    0.8508625  -0.19999999  0.79855347 -1.          1.\n",
      "    0.49538004  0.21664     0.44215545  0.07812047]]]\n",
      "[[[ 0.23873138 -1.          0.3823037  -1.          0.8508625\n",
      "   -0.19999999  0.79855347 -1.          1.          0.49538004\n",
      "    0.21664     0.44215545  0.07812047  0.56632286]]]\n",
      "[[[-1.          0.3823037  -1.          0.8508625  -0.19999999\n",
      "    0.79855347 -1.          1.          0.49538004  0.21664\n",
      "    0.44215545  0.07812047  0.56632286 -0.16460623]]]\n"
     ]
    }
   ],
   "source": [
    "results=[]\n",
    "for i in range(7):\n",
    "    parcial=model.predict(x_test)\n",
    "    results.append(parcial[0])\n",
    "    print(x_test)\n",
    "    x_test=agregarNuevoValor(x_test,parcial[0])"
   ]
  },
  {
   "cell_type": "markdown",
   "metadata": {},
   "source": [
    "# Re-Convertimos los resultados"
   ]
  },
  {
   "cell_type": "code",
   "execution_count": 40,
   "metadata": {},
   "outputs": [
    {
     "name": "stdout",
     "output_type": "stream",
     "text": [
      "[array([0.49538004], dtype=float32), array([0.21664], dtype=float32), array([0.44215545], dtype=float32), array([0.07812047], dtype=float32), array([0.56632286], dtype=float32), array([-0.16460623], dtype=float32), array([0.61037624], dtype=float32)]\n"
     ]
    },
    {
     "data": {
      "text/plain": [
       "array([[5373.59887184],\n",
       "       [5123.15094852],\n",
       "       [5325.77657661],\n",
       "       [4998.69115989],\n",
       "       [5437.34099222],\n",
       "       [4780.60123013],\n",
       "       [5476.9229487 ]])"
      ]
     },
     "execution_count": 40,
     "metadata": {},
     "output_type": "execute_result"
    }
   ],
   "source": [
    "adimen = [x for x in results]    \n",
    "print(adimen)\n",
    "inverted = scaler.inverse_transform(adimen)\n",
    "inverted"
   ]
  },
  {
   "cell_type": "markdown",
   "metadata": {},
   "source": [
    "# Visualizamos el pronostico"
   ]
  },
  {
   "cell_type": "code",
   "execution_count": 41,
   "metadata": {},
   "outputs": [
    {
     "data": {
      "text/plain": [
       "<AxesSubplot:>"
      ]
     },
     "execution_count": 41,
     "metadata": {},
     "output_type": "execute_result"
    },
    {
     "data": {
      "image/png": "[encoded data removed]",
      "text/plain": [
       "<Figure size 432x288 with 1 Axes>"
      ]
     },
     "metadata": {
      "needs_background": "light"
     },
     "output_type": "display_data"
    }
   ],
   "source": [
    "prediccion = pd.DataFrame(inverted)\n",
    "prediccion.columns = ['pronostico']\n",
    "prediccion.plot()"
   ]
  },
  {
   "cell_type": "markdown",
   "metadata": {},
   "source": [
    "# Prediccion con datos actuales"
   ]
  },
  {
   "cell_type": "code",
   "execution_count": 42,
   "metadata": {
    "scrolled": true
   },
   "outputs": [
    {
     "data": {
      "text/html": [
       "<div>\n",
       "<style scoped>\n",
       "    .dataframe tbody tr th:only-of-type {\n",
       "        vertical-align: middle;\n",
       "    }\n",
       "\n",
       "    .dataframe tbody tr th {\n",
       "        vertical-align: top;\n",
       "    }\n",
       "\n",
       "    .dataframe thead th {\n",
       "        text-align: right;\n",
       "    }\n",
       "</style>\n",
       "<table border=\"1\" class=\"dataframe\">\n",
       "  <thead>\n",
       "    <tr style=\"text-align: right;\">\n",
       "      <th></th>\n",
       "      <th>Viajes</th>\n",
       "    </tr>\n",
       "  </thead>\n",
       "  <tbody>\n",
       "    <tr>\n",
       "      <th>2020-05-11</th>\n",
       "      <td>0</td>\n",
       "    </tr>\n",
       "    <tr>\n",
       "      <th>2020-05-12</th>\n",
       "      <td>0</td>\n",
       "    </tr>\n",
       "    <tr>\n",
       "      <th>2020-05-13</th>\n",
       "      <td>2</td>\n",
       "    </tr>\n",
       "    <tr>\n",
       "      <th>2020-05-14</th>\n",
       "      <td>1</td>\n",
       "    </tr>\n",
       "    <tr>\n",
       "      <th>2020-05-15</th>\n",
       "      <td>2</td>\n",
       "    </tr>\n",
       "    <tr>\n",
       "      <th>2020-05-16</th>\n",
       "      <td>3</td>\n",
       "    </tr>\n",
       "    <tr>\n",
       "      <th>2020-05-17</th>\n",
       "      <td>3</td>\n",
       "    </tr>\n",
       "    <tr>\n",
       "      <th>2020-05-18</th>\n",
       "      <td>2</td>\n",
       "    </tr>\n",
       "    <tr>\n",
       "      <th>2020-05-19</th>\n",
       "      <td>0</td>\n",
       "    </tr>\n",
       "    <tr>\n",
       "      <th>2020-05-20</th>\n",
       "      <td>0</td>\n",
       "    </tr>\n",
       "    <tr>\n",
       "      <th>2020-05-21</th>\n",
       "      <td>0</td>\n",
       "    </tr>\n",
       "    <tr>\n",
       "      <th>2020-05-22</th>\n",
       "      <td>0</td>\n",
       "    </tr>\n",
       "    <tr>\n",
       "      <th>2020-05-23</th>\n",
       "      <td>4</td>\n",
       "    </tr>\n",
       "    <tr>\n",
       "      <th>2020-05-24</th>\n",
       "      <td>2</td>\n",
       "    </tr>\n",
       "  </tbody>\n",
       "</table>\n",
       "</div>"
      ],
      "text/plain": [
       "            Viajes\n",
       "2020-05-11       0\n",
       "2020-05-12       0\n",
       "2020-05-13       2\n",
       "2020-05-14       1\n",
       "2020-05-15       2\n",
       "2020-05-16       3\n",
       "2020-05-17       3\n",
       "2020-05-18       2\n",
       "2020-05-19       0\n",
       "2020-05-20       0\n",
       "2020-05-21       0\n",
       "2020-05-22       0\n",
       "2020-05-23       4\n",
       "2020-05-24       2"
      ]
     },
     "execution_count": 42,
     "metadata": {},
     "output_type": "execute_result"
    }
   ],
   "source": [
    "# usaremos 14 dias que poseemos para predecir los 7 dias siguientes tras esto compararemos los resultados con los que\n",
    "# poseemos para ver el grado de error\n",
    "\n",
    "Dias_twt = df_twt['2020-5-11':'2020-5-24']\n",
    "Dias_ine = df_ine['2020-5-11':'2020-5-24']\n",
    "Dias_twt"
   ]
  },
  {
   "cell_type": "markdown",
   "metadata": {},
   "source": [
    "# Preparamos los datos para el test"
   ]
  },
  {
   "cell_type": "code",
   "execution_count": 43,
   "metadata": {},
   "outputs": [
    {
     "data": {
      "text/html": [
       "<div>\n",
       "<style scoped>\n",
       "    .dataframe tbody tr th:only-of-type {\n",
       "        vertical-align: middle;\n",
       "    }\n",
       "\n",
       "    .dataframe tbody tr th {\n",
       "        vertical-align: top;\n",
       "    }\n",
       "\n",
       "    .dataframe thead th {\n",
       "        text-align: right;\n",
       "    }\n",
       "</style>\n",
       "<table border=\"1\" class=\"dataframe\">\n",
       "  <thead>\n",
       "    <tr style=\"text-align: right;\">\n",
       "      <th></th>\n",
       "      <th>var1(t-7)</th>\n",
       "      <th>var2(t-7)</th>\n",
       "      <th>var1(t-6)</th>\n",
       "      <th>var2(t-6)</th>\n",
       "      <th>var1(t-5)</th>\n",
       "      <th>var2(t-5)</th>\n",
       "      <th>var1(t-4)</th>\n",
       "      <th>var2(t-4)</th>\n",
       "      <th>var1(t-3)</th>\n",
       "      <th>var2(t-3)</th>\n",
       "      <th>var1(t-2)</th>\n",
       "      <th>var2(t-2)</th>\n",
       "      <th>var1(t-1)</th>\n",
       "      <th>var2(t-1)</th>\n",
       "    </tr>\n",
       "  </thead>\n",
       "  <tbody>\n",
       "    <tr>\n",
       "      <th>7</th>\n",
       "      <td>-1.0</td>\n",
       "      <td>0.088062</td>\n",
       "      <td>-1.0</td>\n",
       "      <td>0.428571</td>\n",
       "      <td>0.0</td>\n",
       "      <td>0.574690</td>\n",
       "      <td>-0.5</td>\n",
       "      <td>0.260274</td>\n",
       "      <td>0.0</td>\n",
       "      <td>0.161122</td>\n",
       "      <td>0.5</td>\n",
       "      <td>0.364645</td>\n",
       "      <td>0.5</td>\n",
       "      <td>-1.000000</td>\n",
       "    </tr>\n",
       "    <tr>\n",
       "      <th>8</th>\n",
       "      <td>-1.0</td>\n",
       "      <td>0.428571</td>\n",
       "      <td>0.0</td>\n",
       "      <td>0.574690</td>\n",
       "      <td>-0.5</td>\n",
       "      <td>0.260274</td>\n",
       "      <td>0.0</td>\n",
       "      <td>0.161122</td>\n",
       "      <td>0.5</td>\n",
       "      <td>0.364645</td>\n",
       "      <td>0.5</td>\n",
       "      <td>-1.000000</td>\n",
       "      <td>0.0</td>\n",
       "      <td>0.348989</td>\n",
       "    </tr>\n",
       "    <tr>\n",
       "      <th>9</th>\n",
       "      <td>0.0</td>\n",
       "      <td>0.574690</td>\n",
       "      <td>-0.5</td>\n",
       "      <td>0.260274</td>\n",
       "      <td>0.0</td>\n",
       "      <td>0.161122</td>\n",
       "      <td>0.5</td>\n",
       "      <td>0.364645</td>\n",
       "      <td>0.5</td>\n",
       "      <td>-1.000000</td>\n",
       "      <td>0.0</td>\n",
       "      <td>0.348989</td>\n",
       "      <td>-1.0</td>\n",
       "      <td>1.000000</td>\n",
       "    </tr>\n",
       "    <tr>\n",
       "      <th>10</th>\n",
       "      <td>-0.5</td>\n",
       "      <td>0.260274</td>\n",
       "      <td>0.0</td>\n",
       "      <td>0.161122</td>\n",
       "      <td>0.5</td>\n",
       "      <td>0.364645</td>\n",
       "      <td>0.5</td>\n",
       "      <td>-1.000000</td>\n",
       "      <td>0.0</td>\n",
       "      <td>0.348989</td>\n",
       "      <td>-1.0</td>\n",
       "      <td>1.000000</td>\n",
       "      <td>-1.0</td>\n",
       "      <td>0.463796</td>\n",
       "    </tr>\n",
       "    <tr>\n",
       "      <th>11</th>\n",
       "      <td>0.0</td>\n",
       "      <td>0.161122</td>\n",
       "      <td>0.5</td>\n",
       "      <td>0.364645</td>\n",
       "      <td>0.5</td>\n",
       "      <td>-1.000000</td>\n",
       "      <td>0.0</td>\n",
       "      <td>0.348989</td>\n",
       "      <td>-1.0</td>\n",
       "      <td>1.000000</td>\n",
       "      <td>-1.0</td>\n",
       "      <td>0.463796</td>\n",
       "      <td>-1.0</td>\n",
       "      <td>0.510763</td>\n",
       "    </tr>\n",
       "    <tr>\n",
       "      <th>12</th>\n",
       "      <td>0.5</td>\n",
       "      <td>0.364645</td>\n",
       "      <td>0.5</td>\n",
       "      <td>-1.000000</td>\n",
       "      <td>0.0</td>\n",
       "      <td>0.348989</td>\n",
       "      <td>-1.0</td>\n",
       "      <td>1.000000</td>\n",
       "      <td>-1.0</td>\n",
       "      <td>0.463796</td>\n",
       "      <td>-1.0</td>\n",
       "      <td>0.510763</td>\n",
       "      <td>-1.0</td>\n",
       "      <td>0.754729</td>\n",
       "    </tr>\n",
       "    <tr>\n",
       "      <th>13</th>\n",
       "      <td>0.5</td>\n",
       "      <td>-1.000000</td>\n",
       "      <td>0.0</td>\n",
       "      <td>0.348989</td>\n",
       "      <td>-1.0</td>\n",
       "      <td>1.000000</td>\n",
       "      <td>-1.0</td>\n",
       "      <td>0.463796</td>\n",
       "      <td>-1.0</td>\n",
       "      <td>0.510763</td>\n",
       "      <td>-1.0</td>\n",
       "      <td>0.754729</td>\n",
       "      <td>1.0</td>\n",
       "      <td>0.668623</td>\n",
       "    </tr>\n",
       "  </tbody>\n",
       "</table>\n",
       "</div>"
      ],
      "text/plain": [
       "    var1(t-7)  var2(t-7)  var1(t-6)  var2(t-6)  var1(t-5)  var2(t-5)  \\\n",
       "7        -1.0   0.088062       -1.0   0.428571        0.0   0.574690   \n",
       "8        -1.0   0.428571        0.0   0.574690       -0.5   0.260274   \n",
       "9         0.0   0.574690       -0.5   0.260274        0.0   0.161122   \n",
       "10       -0.5   0.260274        0.0   0.161122        0.5   0.364645   \n",
       "11        0.0   0.161122        0.5   0.364645        0.5  -1.000000   \n",
       "12        0.5   0.364645        0.5  -1.000000        0.0   0.348989   \n",
       "13        0.5  -1.000000        0.0   0.348989       -1.0   1.000000   \n",
       "\n",
       "    var1(t-4)  var2(t-4)  var1(t-3)  var2(t-3)  var1(t-2)  var2(t-2)  \\\n",
       "7        -0.5   0.260274        0.0   0.161122        0.5   0.364645   \n",
       "8         0.0   0.161122        0.5   0.364645        0.5  -1.000000   \n",
       "9         0.5   0.364645        0.5  -1.000000        0.0   0.348989   \n",
       "10        0.5  -1.000000        0.0   0.348989       -1.0   1.000000   \n",
       "11        0.0   0.348989       -1.0   1.000000       -1.0   0.463796   \n",
       "12       -1.0   1.000000       -1.0   0.463796       -1.0   0.510763   \n",
       "13       -1.0   0.463796       -1.0   0.510763       -1.0   0.754729   \n",
       "\n",
       "    var1(t-1)  var2(t-1)  \n",
       "7         0.5  -1.000000  \n",
       "8         0.0   0.348989  \n",
       "9        -1.0   1.000000  \n",
       "10       -1.0   0.463796  \n",
       "11       -1.0   0.510763  \n",
       "12       -1.0   0.754729  \n",
       "13        1.0   0.668623  "
      ]
     },
     "execution_count": 43,
     "metadata": {},
     "output_type": "execute_result"
    }
   ],
   "source": [
    "# cargamos el dataframe en la variable values\n",
    "values_twt = Dias_twt.values\n",
    "values_ine = Dias_ine.values\n",
    "\n",
    "# convertimos los enteros en floats\n",
    "values_twt = values_twt.astype('float32')\n",
    "values_ine = values_ine.astype('float32')\n",
    "\n",
    "# normalizamos los datos a escala de entre -1 y 1\n",
    "values_twt =values_twt.reshape(-1, 1)\n",
    "scaled_twt = scaler.fit_transform(values_twt)\n",
    "values_ine =values_ine.reshape(-1, 1) # esto lo hacemos porque tenemos 1 sola dimension\n",
    "scaled_ine = scaler.fit_transform(values_ine)\n",
    "\n",
    "# usamos la funcion definida previamente\n",
    "reframed_twt = series_to_supervised(scaled_twt, look_back, 1)\n",
    "reframed_ine = series_to_supervised(scaled_ine, look_back, 1)\n",
    "\n",
    "# eliminamos la ultima columna pues es parte de lo que queremos hayar\n",
    "reframed_twt.drop(reframed_twt.columns[[7]], inplace=True, axis=1)\n",
    "reframed_ine.drop(reframed_ine.columns[[7]], inplace=True, axis=1)\n",
    "\n",
    "#unimos los dataframes\n",
    "reframed_ine.columns = ['var2(t-7)', 'var2(t-6)', 'var2(t-5)', 'var2(t-4)', 'var2(t-3)', 'var2(t-2)', 'var2(t-1)']\n",
    "reframed = pd.concat([reframed_twt.iloc[:, 0], reframed_ine.iloc[:, 0]], axis=1)\n",
    "\n",
    "for i in range(6):\n",
    "    reframed = pd.concat([reframed, reframed_twt.iloc[:, i+1]], axis=1)\n",
    "    reframed = pd.concat([reframed, reframed_ine.iloc[:, i+1]], axis=1)\n",
    "\n",
    "#mostramos el set de entrenamiento\n",
    "reframed.head(7)"
   ]
  },
  {
   "cell_type": "code",
   "execution_count": 44,
   "metadata": {},
   "outputs": [
    {
     "name": "stdout",
     "output_type": "stream",
     "text": [
      "(1, 1, 14)\n"
     ]
    },
    {
     "data": {
      "text/plain": [
       "array([[[ 0.5       , -1.        ,  0.        ,  0.34898853,\n",
       "         -1.        ,  1.        , -1.        ,  0.46379614,\n",
       "         -1.        ,  0.51076317, -1.        ,  0.7547293 ,\n",
       "          1.        ,  0.66862345]]], dtype=float32)"
      ]
     },
     "execution_count": 44,
     "metadata": {},
     "output_type": "execute_result"
    }
   ],
   "source": [
    "values = reframed.values\n",
    "\n",
    "#tomamos los valores para realizar el test\n",
    "x_test = values[6:, :]\n",
    "\n",
    "# reshape input to be 3D [samples, timesteps, features] - preguntar\n",
    "x_test = x_test.reshape((x_test.shape[0], 1, x_test.shape[1]))\n",
    "print(x_test.shape)\n",
    "x_test"
   ]
  },
  {
   "cell_type": "code",
   "execution_count": 45,
   "metadata": {},
   "outputs": [],
   "source": [
    "#en la linea 24 definimos la funcion para realizar el desplazamiento que se hara en el array cada prediccion pues para hacer\n",
    "#la siguiente prediccion eliminamos el dia mas antiguo, desplazamos un lugar el resto de dias y añadimos el ultimo dia que\n",
    "#se ha predecido, esto es por que para predecir un dia se usan los 7 dias previos, y que usaremos a continuación"
   ]
  },
  {
   "cell_type": "markdown",
   "metadata": {},
   "source": [
    "# Realizamos la prediccion "
   ]
  },
  {
   "cell_type": "code",
   "execution_count": 46,
   "metadata": {},
   "outputs": [
    {
     "name": "stdout",
     "output_type": "stream",
     "text": [
      "[[[ 0.5        -1.          0.          0.34898853 -1.\n",
      "    1.         -1.          0.46379614 -1.          0.51076317\n",
      "   -1.          0.7547293   1.          0.66862345]]]\n",
      "[[[-1.          0.          0.34898853 -1.          1.\n",
      "   -1.          0.46379614 -1.          0.51076317 -1.\n",
      "    0.7547293   1.          0.66862345  0.6494563 ]]]\n",
      "[[[ 0.          0.34898853 -1.          1.         -1.\n",
      "    0.46379614 -1.          0.51076317 -1.          0.7547293\n",
      "    1.          0.66862345  0.6494563   0.1864099 ]]]\n",
      "[[[ 0.34898853 -1.          1.         -1.          0.46379614\n",
      "   -1.          0.51076317 -1.          0.7547293   1.\n",
      "    0.66862345  0.6494563   0.1864099   0.649184  ]]]\n",
      "[[[-1.          1.         -1.          0.46379614 -1.\n",
      "    0.51076317 -1.          0.7547293   1.          0.66862345\n",
      "    0.6494563   0.1864099   0.649184   -0.16597608]]]\n",
      "[[[ 1.         -1.          0.46379614 -1.          0.51076317\n",
      "   -1.          0.7547293   1.          0.66862345  0.6494563\n",
      "    0.1864099   0.649184   -0.16597608  0.5824344 ]]]\n",
      "[[[-1.          0.46379614 -1.          0.51076317 -1.\n",
      "    0.7547293   1.          0.66862345  0.6494563   0.1864099\n",
      "    0.649184   -0.16597608  0.5824344  -0.14487627]]]\n"
     ]
    }
   ],
   "source": [
    "results=[]\n",
    "for i in range(7):\n",
    "    parcial=model.predict(x_test)\n",
    "    results.append(parcial[0])\n",
    "    print(x_test)\n",
    "    x_test=agregarNuevoValor(x_test,parcial[0])"
   ]
  },
  {
   "cell_type": "markdown",
   "metadata": {},
   "source": [
    "# Re-Convertimos los resultados"
   ]
  },
  {
   "cell_type": "code",
   "execution_count": 47,
   "metadata": {
    "scrolled": false
   },
   "outputs": [
    {
     "name": "stdout",
     "output_type": "stream",
     "text": [
      "[array([0.6494563], dtype=float32), array([0.1864099], dtype=float32), array([0.649184], dtype=float32), array([-0.16597608], dtype=float32), array([0.5824344], dtype=float32), array([-0.14487627], dtype=float32), array([0.55861276], dtype=float32)]\n"
     ]
    },
    {
     "data": {
      "text/plain": [
       "array([[4563],\n",
       "       [4208],\n",
       "       [4563],\n",
       "       [3938],\n",
       "       [4512],\n",
       "       [3954],\n",
       "       [4494]])"
      ]
     },
     "execution_count": 47,
     "metadata": {},
     "output_type": "execute_result"
    }
   ],
   "source": [
    "adimen = [x for x in results]    \n",
    "print(adimen)\n",
    "inverted = scaler.inverse_transform(adimen)\n",
    "\n",
    "#en nuestro problema no tienen sentido los decimales pues no se pueden hacer 0.5 viajes o 0.25 viajes\n",
    "inverted = inverted.round()\n",
    "inverted = inverted.astype(int)\n",
    "inverted"
   ]
  },
  {
   "cell_type": "markdown",
   "metadata": {},
   "source": [
    "# Visualizamos el pronostico"
   ]
  },
  {
   "cell_type": "code",
   "execution_count": 48,
   "metadata": {
    "scrolled": false
   },
   "outputs": [
    {
     "data": {
      "text/plain": [
       "<AxesSubplot:>"
      ]
     },
     "execution_count": 48,
     "metadata": {},
     "output_type": "execute_result"
    },
    {
     "data": {
      "image/png": "[encoded data removed]",
      "text/plain": [
       "<Figure size 432x288 with 1 Axes>"
      ]
     },
     "metadata": {
      "needs_background": "light"
     },
     "output_type": "display_data"
    }
   ],
   "source": [
    "e_date = datetime.datetime.strptime('2020-05-31', '%Y-%m-%d')\n",
    "i_date = datetime.datetime.strptime('2020-05-25', '%Y-%m-%d')\n",
    "delta = e_date - i_date\n",
    "\n",
    "index_days = []\n",
    "for i in range(delta.days + 1):\n",
    "    day = i_date + timedelta(days=i)\n",
    "    index_days.append(day)\n",
    "\n",
    "prediccion = pd.DataFrame(inverted, index= index_days)\n",
    "prediccion.columns = ['pronostico']\n",
    "prediccion.plot()"
   ]
  },
  {
   "cell_type": "code",
   "execution_count": 49,
   "metadata": {},
   "outputs": [
    {
     "data": {
      "text/html": [
       "<div>\n",
       "<style scoped>\n",
       "    .dataframe tbody tr th:only-of-type {\n",
       "        vertical-align: middle;\n",
       "    }\n",
       "\n",
       "    .dataframe tbody tr th {\n",
       "        vertical-align: top;\n",
       "    }\n",
       "\n",
       "    .dataframe thead th {\n",
       "        text-align: right;\n",
       "    }\n",
       "</style>\n",
       "<table border=\"1\" class=\"dataframe\">\n",
       "  <thead>\n",
       "    <tr style=\"text-align: right;\">\n",
       "      <th></th>\n",
       "      <th>real</th>\n",
       "      <th>prediccion</th>\n",
       "    </tr>\n",
       "  </thead>\n",
       "  <tbody>\n",
       "    <tr>\n",
       "      <th>2020-05-25</th>\n",
       "      <td>4688</td>\n",
       "      <td>4563</td>\n",
       "    </tr>\n",
       "    <tr>\n",
       "      <th>2020-05-26</th>\n",
       "      <td>5272</td>\n",
       "      <td>4208</td>\n",
       "    </tr>\n",
       "    <tr>\n",
       "      <th>2020-05-27</th>\n",
       "      <td>5220</td>\n",
       "      <td>4563</td>\n",
       "    </tr>\n",
       "    <tr>\n",
       "      <th>2020-05-28</th>\n",
       "      <td>4933</td>\n",
       "      <td>3938</td>\n",
       "    </tr>\n",
       "    <tr>\n",
       "      <th>2020-05-29</th>\n",
       "      <td>5435</td>\n",
       "      <td>4512</td>\n",
       "    </tr>\n",
       "    <tr>\n",
       "      <th>2020-05-30</th>\n",
       "      <td>5217</td>\n",
       "      <td>3954</td>\n",
       "    </tr>\n",
       "    <tr>\n",
       "      <th>2020-05-31</th>\n",
       "      <td>4351</td>\n",
       "      <td>4494</td>\n",
       "    </tr>\n",
       "  </tbody>\n",
       "</table>\n",
       "</div>"
      ],
      "text/plain": [
       "            real  prediccion\n",
       "2020-05-25  4688        4563\n",
       "2020-05-26  5272        4208\n",
       "2020-05-27  5220        4563\n",
       "2020-05-28  4933        3938\n",
       "2020-05-29  5435        4512\n",
       "2020-05-30  5217        3954\n",
       "2020-05-31  4351        4494"
      ]
     },
     "execution_count": 49,
     "metadata": {},
     "output_type": "execute_result"
    }
   ],
   "source": [
    "datosReales = df_ine['2020-5-25':'2020-5-31']\n",
    "\n",
    "compara = pd.concat([datosReales, prediccion], axis=1)\n",
    "compara.columns = ['real', 'prediccion']\n",
    "compara"
   ]
  },
  {
   "cell_type": "code",
   "execution_count": 50,
   "metadata": {},
   "outputs": [
    {
     "data": {
      "text/plain": [
       "<matplotlib.legend.Legend at 0x1bcb81f59a0>"
      ]
     },
     "execution_count": 50,
     "metadata": {},
     "output_type": "execute_result"
    },
    {
     "data": {
      "image/png": "[encoded data removed]",
      "text/plain": [
       "<Figure size 432x288 with 1 Axes>"
      ]
     },
     "metadata": {
      "needs_background": "light"
     },
     "output_type": "display_data"
    }
   ],
   "source": [
    "compara['real'].plot()\n",
    "compara['prediccion'].plot()\n",
    "plt.xlabel(\"Tiempo (dias)\", fontsize = 10)\n",
    "plt.ylabel(\"viajes\", fontsize = 10)\n",
    "plt.legend( ('Datos reales', 'Prediccion'), loc = 'lower right')"
   ]
  },
  {
   "cell_type": "code",
   "execution_count": 51,
   "metadata": {
    "scrolled": false
   },
   "outputs": [
    {
     "name": "stdout",
     "output_type": "stream",
     "text": [
      "Resultado del test: 738.57 MAE\n",
      "Resultado del test: 719563.14 MSE\n",
      "Resultado del test: 848.27 RMSE\n",
      "Resultado del test: 19.64 CVRMSE\n",
      "Resultado del test: 17.61 MAPE\n"
     ]
    }
   ],
   "source": [
    "# calculamos las metricas de error\n",
    "testScore_MAE, testScore_MSE, testScore_RMSE, testScore_CVRMSE, testScore_MAPE  =  compute_metrics_fn(prediccion, datosReales)\n",
    "print('Resultado del test: %.2f MAE' % (testScore_MAE))\n",
    "print('Resultado del test: %.2f MSE' % (testScore_MSE))\n",
    "print('Resultado del test: %.2f RMSE' % (testScore_RMSE))\n",
    "print('Resultado del test: %.2f CVRMSE' % (testScore_CVRMSE))\n",
    "print('Resultado del test: %.2f MAPE' % (testScore_MAPE))"
   ]
  },
  {
   "cell_type": "code",
   "execution_count": 52,
   "metadata": {},
   "outputs": [
    {
     "name": "stdout",
     "output_type": "stream",
     "text": [
      "Resultado del test dia 1: 125.00 MAE\n",
      "Resultado del test dia 1: 15625.00 MSE\n",
      "Resultado del test dia 1: 125.00 RMSE\n",
      "Resultado del test dia 1: 2.74 CVRMSE\n",
      "Resultado del test dia 1: 2.74 MAPE \n",
      "\n",
      "Resultado del test dia 2: 1064.00 MAE\n",
      "Resultado del test dia 2: 1132096.00 MSE\n",
      "Resultado del test dia 2: 1064.00 RMSE\n",
      "Resultado del test dia 2: 25.29 CVRMSE\n",
      "Resultado del test dia 2: 25.29 MAPE \n",
      "\n",
      "Resultado del test dia 3: 657.00 MAE\n",
      "Resultado del test dia 3: 431649.00 MSE\n",
      "Resultado del test dia 3: 657.00 RMSE\n",
      "Resultado del test dia 3: 14.40 CVRMSE\n",
      "Resultado del test dia 3: 14.40 MAPE \n",
      "\n",
      "Resultado del test dia 4: 995.00 MAE\n",
      "Resultado del test dia 4: 990025.00 MSE\n",
      "Resultado del test dia 4: 995.00 RMSE\n",
      "Resultado del test dia 4: 25.27 CVRMSE\n",
      "Resultado del test dia 4: 25.27 MAPE \n",
      "\n",
      "Resultado del test dia 5: 923.00 MAE\n",
      "Resultado del test dia 5: 851929.00 MSE\n",
      "Resultado del test dia 5: 923.00 RMSE\n",
      "Resultado del test dia 5: 20.46 CVRMSE\n",
      "Resultado del test dia 5: 20.46 MAPE \n",
      "\n",
      "Resultado del test dia 6: 1263.00 MAE\n",
      "Resultado del test dia 6: 1595169.00 MSE\n",
      "Resultado del test dia 6: 1263.00 RMSE\n",
      "Resultado del test dia 6: 31.94 CVRMSE\n",
      "Resultado del test dia 6: 31.94 MAPE \n",
      "\n",
      "Resultado del test dia 7: 143.00 MAE\n",
      "Resultado del test dia 7: 20449.00 MSE\n",
      "Resultado del test dia 7: 143.00 RMSE\n",
      "Resultado del test dia 7: 3.18 CVRMSE\n",
      "Resultado del test dia 7: 3.18 MAPE \n",
      "\n"
     ]
    }
   ],
   "source": [
    "# calculamos las metricas de error para cada dia por separado\n",
    "for i in range(7):\n",
    "    testScore_MAE, testScore_MSE, testScore_RMSE, testScore_CVRMSE, testScore_MAPE  =  compute_metrics_fn(prediccion.values[i], datosReales.values[i])\n",
    "    day = i + 1\n",
    "    print('Resultado del test dia %d: %.2f MAE' % (day, testScore_MAE))\n",
    "    print('Resultado del test dia %d: %.2f MSE' % (day, testScore_MSE))\n",
    "    print('Resultado del test dia %d: %.2f RMSE' % (day, testScore_RMSE))\n",
    "    print('Resultado del test dia %d: %.2f CVRMSE' % (day, testScore_CVRMSE))\n",
    "    print('Resultado del test dia %d: %.2f MAPE \\n' % (day, testScore_MAPE))"
   ]
  }
 ],
 "metadata": {
  "kernelspec": {
   "display_name": "Python 3",
   "language": "python",
   "name": "python3"
  },
  "language_info": {
   "codemirror_mode": {
    "name": "ipython",
    "version": 3
   },
   "file_extension": ".py",
   "mimetype": "text/x-python",
   "name": "python",
   "nbconvert_exporter": "python",
   "pygments_lexer": "ipython3",
   "version": "3.8.5"
  }
 },
 "nbformat": 4,
 "nbformat_minor": 4
}
