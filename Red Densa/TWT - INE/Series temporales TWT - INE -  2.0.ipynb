{
 "cells": [
  {
   "cell_type": "code",
   "execution_count": 1,
   "metadata": {},
   "outputs": [],
   "source": [
    "import pandas as pd\n",
    "import numpy as np\n",
    "from tqdm import tqdm_notebook\n",
    "import os\n",
    "from sklearn.metrics import mean_squared_error, mean_absolute_error\n",
    "from sklearn.preprocessing import MinMaxScaler\n",
    "from keras.models import Sequential\n",
    "from keras.layers import Dense,Activation,Flatten,Dropout\n",
    "\n",
    "import matplotlib.pyplot as plt\n",
    "%matplotlib inline\n",
    "\n",
    "import warnings\n",
    "warnings.filterwarnings(\"ignore\")\n",
    "\n",
    "import datetime\n",
    "from datetime import date, timedelta\n",
    "e_date = datetime.datetime.strptime('2020-06-20', '%Y-%m-%d')\n",
    "i_date = datetime.datetime.strptime('2020-04-01', '%Y-%m-%d')\n",
    "\n",
    "data_path = 'D:/universidad/universidad 4/TFG/recursos para el desarrollo/datos procesados/OD'"
   ]
  },
  {
   "cell_type": "code",
   "execution_count": 2,
   "metadata": {},
   "outputs": [],
   "source": [
    "delta = e_date - i_date\n",
    "\n",
    "target_days = []\n",
    "for i in range(delta.days + 1):\n",
    "    day = i_date + timedelta(days=i)\n",
    "    target_days.append(day)"
   ]
  },
  {
   "cell_type": "code",
   "execution_count": 3,
   "metadata": {},
   "outputs": [],
   "source": [
    "def read_OD_fn(source_type):\n",
    "    ods = {}\n",
    "    for date in tqdm_notebook(target_days):\n",
    "        od_date= pd.read_csv(os.path.join(data_path, 'date_{}_OD_{}.csv'.format(source_type,date.strftime('%Y-%m-%d'))), \n",
    "                            index_col=0)\n",
    "        ods[date] = od_date\n",
    "    return ods"
   ]
  },
  {
   "cell_type": "code",
   "execution_count": 4,
   "metadata": {},
   "outputs": [
    {
     "data": {
      "application/vnd.jupyter.widget-view+json": {
       "model_id": "a1a927b7092b4e1cac53970d23821a9f",
       "version_major": 2,
       "version_minor": 0
      },
      "text/plain": [
       "  0%|          | 0/81 [00:00<?, ?it/s]"
      ]
     },
     "metadata": {},
     "output_type": "display_data"
    }
   ],
   "source": [
    "ine_ods = read_OD_fn('INE')"
   ]
  },
  {
   "cell_type": "code",
   "execution_count": 5,
   "metadata": {
    "scrolled": true
   },
   "outputs": [
    {
     "data": {
      "application/vnd.jupyter.widget-view+json": {
       "model_id": "2f3516385ce440108fbba92da3759968",
       "version_major": 2,
       "version_minor": 0
      },
      "text/plain": [
       "  0%|          | 0/81 [00:00<?, ?it/s]"
      ]
     },
     "metadata": {},
     "output_type": "display_data"
    }
   ],
   "source": [
    "twt_ods = read_OD_fn('TWT')"
   ]
  },
  {
   "cell_type": "markdown",
   "metadata": {},
   "source": [
    "# Serializar los datos"
   ]
  },
  {
   "cell_type": "code",
   "execution_count": 6,
   "metadata": {
    "scrolled": true
   },
   "outputs": [
    {
     "data": {
      "application/vnd.jupyter.widget-view+json": {
       "model_id": "78d5143f37d34e6d9c4bec195a411c5a",
       "version_major": 2,
       "version_minor": 0
      },
      "text/plain": [
       "  0%|          | 0/81 [00:00<?, ?it/s]"
      ]
     },
     "metadata": {},
     "output_type": "display_data"
    },
    {
     "data": {
      "application/vnd.jupyter.widget-view+json": {
       "model_id": "ea4426fdc96b46a780bd32c22d064606",
       "version_major": 2,
       "version_minor": 0
      },
      "text/plain": [
       "  0%|          | 0/81 [00:00<?, ?it/s]"
      ]
     },
     "metadata": {},
     "output_type": "display_data"
    }
   ],
   "source": [
    "lista_twt = []\n",
    "\n",
    "for date in tqdm_notebook(target_days):\n",
    "    lista_twt.append(twt_ods[date].loc['total','total'])\n",
    "    \n",
    "del twt_ods\n",
    "    \n",
    "lista_ine = []\n",
    "\n",
    "for date in tqdm_notebook(target_days):\n",
    "    lista_ine.append(ine_ods[date].loc['total','total'])\n",
    "    \n",
    "del ine_ods"
   ]
  },
  {
   "cell_type": "code",
   "execution_count": 7,
   "metadata": {
    "scrolled": true
   },
   "outputs": [],
   "source": [
    "df_twt = pd.DataFrame (lista_twt, columns = ['Viajes'], index= target_days)\n",
    "df_ine = pd.DataFrame (lista_ine, columns = ['Viajes'], index= target_days)"
   ]
  },
  {
   "cell_type": "code",
   "execution_count": 8,
   "metadata": {},
   "outputs": [
    {
     "data": {
      "text/html": [
       "<div>\n",
       "<style scoped>\n",
       "    .dataframe tbody tr th:only-of-type {\n",
       "        vertical-align: middle;\n",
       "    }\n",
       "\n",
       "    .dataframe tbody tr th {\n",
       "        vertical-align: top;\n",
       "    }\n",
       "\n",
       "    .dataframe thead th {\n",
       "        text-align: right;\n",
       "    }\n",
       "</style>\n",
       "<table border=\"1\" class=\"dataframe\">\n",
       "  <thead>\n",
       "    <tr style=\"text-align: right;\">\n",
       "      <th></th>\n",
       "      <th>Viajes</th>\n",
       "    </tr>\n",
       "  </thead>\n",
       "  <tbody>\n",
       "    <tr>\n",
       "      <th>2020-04-01</th>\n",
       "      <td>2375</td>\n",
       "    </tr>\n",
       "    <tr>\n",
       "      <th>2020-04-02</th>\n",
       "      <td>2450</td>\n",
       "    </tr>\n",
       "    <tr>\n",
       "      <th>2020-04-03</th>\n",
       "      <td>2503</td>\n",
       "    </tr>\n",
       "    <tr>\n",
       "      <th>2020-04-04</th>\n",
       "      <td>554</td>\n",
       "    </tr>\n",
       "    <tr>\n",
       "      <th>2020-04-05</th>\n",
       "      <td>1319</td>\n",
       "    </tr>\n",
       "  </tbody>\n",
       "</table>\n",
       "</div>"
      ],
      "text/plain": [
       "            Viajes\n",
       "2020-04-01    2375\n",
       "2020-04-02    2450\n",
       "2020-04-03    2503\n",
       "2020-04-04     554\n",
       "2020-04-05    1319"
      ]
     },
     "execution_count": 8,
     "metadata": {},
     "output_type": "execute_result"
    }
   ],
   "source": [
    "df_twt.head()"
   ]
  },
  {
   "cell_type": "markdown",
   "metadata": {},
   "source": [
    "# Visualización de datos"
   ]
  },
  {
   "cell_type": "code",
   "execution_count": 9,
   "metadata": {},
   "outputs": [
    {
     "name": "stdout",
     "output_type": "stream",
     "text": [
      "2020-04-01 00:00:00\n",
      "2020-06-20 00:00:00\n"
     ]
    }
   ],
   "source": [
    "print(df_twt.index.min())\n",
    "print(df_ine.index.max())"
   ]
  },
  {
   "cell_type": "code",
   "execution_count": 10,
   "metadata": {
    "scrolled": true
   },
   "outputs": [
    {
     "name": "stdout",
     "output_type": "stream",
     "text": [
      "81\n"
     ]
    }
   ],
   "source": [
    "print(len(df_twt['2020']))"
   ]
  },
  {
   "cell_type": "code",
   "execution_count": 11,
   "metadata": {},
   "outputs": [
    {
     "name": "stdout",
     "output_type": "stream",
     "text": [
      "81\n"
     ]
    }
   ],
   "source": [
    "print(len(df_ine['2020']))"
   ]
  },
  {
   "cell_type": "code",
   "execution_count": 12,
   "metadata": {
    "scrolled": true
   },
   "outputs": [
    {
     "data": {
      "text/html": [
       "<div>\n",
       "<style scoped>\n",
       "    .dataframe tbody tr th:only-of-type {\n",
       "        vertical-align: middle;\n",
       "    }\n",
       "\n",
       "    .dataframe tbody tr th {\n",
       "        vertical-align: top;\n",
       "    }\n",
       "\n",
       "    .dataframe thead th {\n",
       "        text-align: right;\n",
       "    }\n",
       "</style>\n",
       "<table border=\"1\" class=\"dataframe\">\n",
       "  <thead>\n",
       "    <tr style=\"text-align: right;\">\n",
       "      <th></th>\n",
       "      <th>Viajes</th>\n",
       "    </tr>\n",
       "  </thead>\n",
       "  <tbody>\n",
       "    <tr>\n",
       "      <th>count</th>\n",
       "      <td>81.000000</td>\n",
       "    </tr>\n",
       "    <tr>\n",
       "      <th>mean</th>\n",
       "      <td>2943.000000</td>\n",
       "    </tr>\n",
       "    <tr>\n",
       "      <th>std</th>\n",
       "      <td>887.069149</td>\n",
       "    </tr>\n",
       "    <tr>\n",
       "      <th>min</th>\n",
       "      <td>0.000000</td>\n",
       "    </tr>\n",
       "    <tr>\n",
       "      <th>25%</th>\n",
       "      <td>2363.000000</td>\n",
       "    </tr>\n",
       "    <tr>\n",
       "      <th>50%</th>\n",
       "      <td>2904.000000</td>\n",
       "    </tr>\n",
       "    <tr>\n",
       "      <th>75%</th>\n",
       "      <td>3629.000000</td>\n",
       "    </tr>\n",
       "    <tr>\n",
       "      <th>max</th>\n",
       "      <td>4738.000000</td>\n",
       "    </tr>\n",
       "  </tbody>\n",
       "</table>\n",
       "</div>"
      ],
      "text/plain": [
       "            Viajes\n",
       "count    81.000000\n",
       "mean   2943.000000\n",
       "std     887.069149\n",
       "min       0.000000\n",
       "25%    2363.000000\n",
       "50%    2904.000000\n",
       "75%    3629.000000\n",
       "max    4738.000000"
      ]
     },
     "execution_count": 12,
     "metadata": {},
     "output_type": "execute_result"
    }
   ],
   "source": [
    "df_twt.describe()"
   ]
  },
  {
   "cell_type": "code",
   "execution_count": 13,
   "metadata": {},
   "outputs": [
    {
     "data": {
      "text/html": [
       "<div>\n",
       "<style scoped>\n",
       "    .dataframe tbody tr th:only-of-type {\n",
       "        vertical-align: middle;\n",
       "    }\n",
       "\n",
       "    .dataframe tbody tr th {\n",
       "        vertical-align: top;\n",
       "    }\n",
       "\n",
       "    .dataframe thead th {\n",
       "        text-align: right;\n",
       "    }\n",
       "</style>\n",
       "<table border=\"1\" class=\"dataframe\">\n",
       "  <thead>\n",
       "    <tr style=\"text-align: right;\">\n",
       "      <th></th>\n",
       "      <th>Viajes</th>\n",
       "    </tr>\n",
       "  </thead>\n",
       "  <tbody>\n",
       "    <tr>\n",
       "      <th>count</th>\n",
       "      <td>8.100000e+01</td>\n",
       "    </tr>\n",
       "    <tr>\n",
       "      <th>mean</th>\n",
       "      <td>3.438222e+06</td>\n",
       "    </tr>\n",
       "    <tr>\n",
       "      <th>std</th>\n",
       "      <td>1.174931e+06</td>\n",
       "    </tr>\n",
       "    <tr>\n",
       "      <th>min</th>\n",
       "      <td>1.535886e+06</td>\n",
       "    </tr>\n",
       "    <tr>\n",
       "      <th>25%</th>\n",
       "      <td>2.488436e+06</td>\n",
       "    </tr>\n",
       "    <tr>\n",
       "      <th>50%</th>\n",
       "      <td>3.396402e+06</td>\n",
       "    </tr>\n",
       "    <tr>\n",
       "      <th>75%</th>\n",
       "      <td>4.445190e+06</td>\n",
       "    </tr>\n",
       "    <tr>\n",
       "      <th>max</th>\n",
       "      <td>5.519725e+06</td>\n",
       "    </tr>\n",
       "  </tbody>\n",
       "</table>\n",
       "</div>"
      ],
      "text/plain": [
       "             Viajes\n",
       "count  8.100000e+01\n",
       "mean   3.438222e+06\n",
       "std    1.174931e+06\n",
       "min    1.535886e+06\n",
       "25%    2.488436e+06\n",
       "50%    3.396402e+06\n",
       "75%    4.445190e+06\n",
       "max    5.519725e+06"
      ]
     },
     "execution_count": 13,
     "metadata": {},
     "output_type": "execute_result"
    }
   ],
   "source": [
    "df_ine.describe()"
   ]
  },
  {
   "cell_type": "code",
   "execution_count": 14,
   "metadata": {
    "scrolled": true
   },
   "outputs": [
    {
     "data": {
      "text/html": [
       "<div>\n",
       "<style scoped>\n",
       "    .dataframe tbody tr th:only-of-type {\n",
       "        vertical-align: middle;\n",
       "    }\n",
       "\n",
       "    .dataframe tbody tr th {\n",
       "        vertical-align: top;\n",
       "    }\n",
       "\n",
       "    .dataframe thead th {\n",
       "        text-align: right;\n",
       "    }\n",
       "</style>\n",
       "<table border=\"1\" class=\"dataframe\">\n",
       "  <thead>\n",
       "    <tr style=\"text-align: right;\">\n",
       "      <th></th>\n",
       "      <th>Viajes</th>\n",
       "    </tr>\n",
       "  </thead>\n",
       "  <tbody>\n",
       "    <tr>\n",
       "      <th>2020-04-30</th>\n",
       "      <td>2157.500000</td>\n",
       "    </tr>\n",
       "    <tr>\n",
       "      <th>2020-05-31</th>\n",
       "      <td>3128.193548</td>\n",
       "    </tr>\n",
       "    <tr>\n",
       "      <th>2020-06-30</th>\n",
       "      <td>3834.200000</td>\n",
       "    </tr>\n",
       "  </tbody>\n",
       "</table>\n",
       "</div>"
      ],
      "text/plain": [
       "                 Viajes\n",
       "2020-04-30  2157.500000\n",
       "2020-05-31  3128.193548\n",
       "2020-06-30  3834.200000"
      ]
     },
     "execution_count": 14,
     "metadata": {},
     "output_type": "execute_result"
    }
   ],
   "source": [
    "meses = df_twt.resample('M').mean()\n",
    "meses"
   ]
  },
  {
   "cell_type": "code",
   "execution_count": 15,
   "metadata": {},
   "outputs": [
    {
     "data": {
      "text/html": [
       "<div>\n",
       "<style scoped>\n",
       "    .dataframe tbody tr th:only-of-type {\n",
       "        vertical-align: middle;\n",
       "    }\n",
       "\n",
       "    .dataframe tbody tr th {\n",
       "        vertical-align: top;\n",
       "    }\n",
       "\n",
       "    .dataframe thead th {\n",
       "        text-align: right;\n",
       "    }\n",
       "</style>\n",
       "<table border=\"1\" class=\"dataframe\">\n",
       "  <thead>\n",
       "    <tr style=\"text-align: right;\">\n",
       "      <th></th>\n",
       "      <th>Viajes</th>\n",
       "    </tr>\n",
       "  </thead>\n",
       "  <tbody>\n",
       "    <tr>\n",
       "      <th>2020-04-30</th>\n",
       "      <td>2.356878e+06</td>\n",
       "    </tr>\n",
       "    <tr>\n",
       "      <th>2020-05-31</th>\n",
       "      <td>3.590722e+06</td>\n",
       "    </tr>\n",
       "    <tr>\n",
       "      <th>2020-06-30</th>\n",
       "      <td>4.823862e+06</td>\n",
       "    </tr>\n",
       "  </tbody>\n",
       "</table>\n",
       "</div>"
      ],
      "text/plain": [
       "                  Viajes\n",
       "2020-04-30  2.356878e+06\n",
       "2020-05-31  3.590722e+06\n",
       "2020-06-30  4.823862e+06"
      ]
     },
     "execution_count": 15,
     "metadata": {},
     "output_type": "execute_result"
    }
   ],
   "source": [
    "meses = df_ine.resample('M').mean()\n",
    "meses"
   ]
  },
  {
   "cell_type": "code",
   "execution_count": 16,
   "metadata": {
    "scrolled": true
   },
   "outputs": [
    {
     "data": {
      "text/plain": [
       "[<matplotlib.lines.Line2D at 0x171270ec670>]"
      ]
     },
     "execution_count": 16,
     "metadata": {},
     "output_type": "execute_result"
    },
    {
     "data": {
      "image/png": "[encoded data removed]",
      "text/plain": [
       "<Figure size 432x288 with 1 Axes>"
      ]
     },
     "metadata": {
      "needs_background": "light"
     },
     "output_type": "display_data"
    }
   ],
   "source": [
    "abril = df_twt['2020-04-01':'2020-04-30']\n",
    "plt.plot(abril.values)\n",
    "mayo = df_twt['2020-05-01':'2020-05-31']\n",
    "plt.plot(mayo.values)\n",
    "junio = df_twt['2020-06-01':'2020-06-20']\n",
    "plt.plot(junio.values)"
   ]
  },
  {
   "cell_type": "code",
   "execution_count": 17,
   "metadata": {},
   "outputs": [
    {
     "data": {
      "text/plain": [
       "[<matplotlib.lines.Line2D at 0x17153593be0>]"
      ]
     },
     "execution_count": 17,
     "metadata": {},
     "output_type": "execute_result"
    },
    {
     "data": {
      "image/png": "[encoded data removed]",
      "text/plain": [
       "<Figure size 432x288 with 1 Axes>"
      ]
     },
     "metadata": {
      "needs_background": "light"
     },
     "output_type": "display_data"
    }
   ],
   "source": [
    "abril = df_ine['2020-04-01':'2020-04-30']\n",
    "plt.plot(abril.values)\n",
    "mayo = df_ine['2020-05-01':'2020-05-31']\n",
    "plt.plot(mayo.values)\n",
    "junio = df_ine['2020-06-01':'2020-06-20']\n",
    "plt.plot(junio.values)"
   ]
  },
  {
   "cell_type": "markdown",
   "metadata": {},
   "source": [
    "# Preprocesado de datos"
   ]
  },
  {
   "cell_type": "code",
   "execution_count": 18,
   "metadata": {},
   "outputs": [
    {
     "data": {
      "text/html": [
       "<div>\n",
       "<style scoped>\n",
       "    .dataframe tbody tr th:only-of-type {\n",
       "        vertical-align: middle;\n",
       "    }\n",
       "\n",
       "    .dataframe tbody tr th {\n",
       "        vertical-align: top;\n",
       "    }\n",
       "\n",
       "    .dataframe thead th {\n",
       "        text-align: right;\n",
       "    }\n",
       "</style>\n",
       "<table border=\"1\" class=\"dataframe\">\n",
       "  <thead>\n",
       "    <tr style=\"text-align: right;\">\n",
       "      <th></th>\n",
       "      <th>var1(t-7)</th>\n",
       "      <th>var1(t-6)</th>\n",
       "      <th>var1(t-5)</th>\n",
       "      <th>var1(t-4)</th>\n",
       "      <th>var1(t-3)</th>\n",
       "      <th>var1(t-2)</th>\n",
       "      <th>var1(t-1)</th>\n",
       "      <th>var1(t)</th>\n",
       "    </tr>\n",
       "  </thead>\n",
       "  <tbody>\n",
       "    <tr>\n",
       "      <th>76</th>\n",
       "      <td>0.712537</td>\n",
       "      <td>0.561418</td>\n",
       "      <td>0.780498</td>\n",
       "      <td>0.847615</td>\n",
       "      <td>0.876741</td>\n",
       "      <td>0.747151</td>\n",
       "      <td>0.551710</td>\n",
       "      <td>0.549599</td>\n",
       "    </tr>\n",
       "    <tr>\n",
       "      <th>77</th>\n",
       "      <td>0.561418</td>\n",
       "      <td>0.780498</td>\n",
       "      <td>0.847615</td>\n",
       "      <td>0.876741</td>\n",
       "      <td>0.747151</td>\n",
       "      <td>0.551710</td>\n",
       "      <td>0.549599</td>\n",
       "      <td>0.559308</td>\n",
       "    </tr>\n",
       "    <tr>\n",
       "      <th>78</th>\n",
       "      <td>0.780498</td>\n",
       "      <td>0.847615</td>\n",
       "      <td>0.876741</td>\n",
       "      <td>0.747151</td>\n",
       "      <td>0.551710</td>\n",
       "      <td>0.549599</td>\n",
       "      <td>0.559308</td>\n",
       "      <td>0.846771</td>\n",
       "    </tr>\n",
       "    <tr>\n",
       "      <th>79</th>\n",
       "      <td>0.847615</td>\n",
       "      <td>0.876741</td>\n",
       "      <td>0.747151</td>\n",
       "      <td>0.551710</td>\n",
       "      <td>0.549599</td>\n",
       "      <td>0.559308</td>\n",
       "      <td>0.846771</td>\n",
       "      <td>1.000000</td>\n",
       "    </tr>\n",
       "    <tr>\n",
       "      <th>80</th>\n",
       "      <td>0.876741</td>\n",
       "      <td>0.747151</td>\n",
       "      <td>0.551710</td>\n",
       "      <td>0.549599</td>\n",
       "      <td>0.559308</td>\n",
       "      <td>0.846771</td>\n",
       "      <td>1.000000</td>\n",
       "      <td>-0.153229</td>\n",
       "    </tr>\n",
       "  </tbody>\n",
       "</table>\n",
       "</div>"
      ],
      "text/plain": [
       "    var1(t-7)  var1(t-6)  var1(t-5)  var1(t-4)  var1(t-3)  var1(t-2)  \\\n",
       "76   0.712537   0.561418   0.780498   0.847615   0.876741   0.747151   \n",
       "77   0.561418   0.780498   0.847615   0.876741   0.747151   0.551710   \n",
       "78   0.780498   0.847615   0.876741   0.747151   0.551710   0.549599   \n",
       "79   0.847615   0.876741   0.747151   0.551710   0.549599   0.559308   \n",
       "80   0.876741   0.747151   0.551710   0.549599   0.559308   0.846771   \n",
       "\n",
       "    var1(t-1)   var1(t)  \n",
       "76   0.551710  0.549599  \n",
       "77   0.549599  0.559308  \n",
       "78   0.559308  0.846771  \n",
       "79   0.846771  1.000000  \n",
       "80   1.000000 -0.153229  "
      ]
     },
     "execution_count": 18,
     "metadata": {},
     "output_type": "execute_result"
    }
   ],
   "source": [
    "# cantidad de dias previos que se usaran para predecir el siguiente dia \n",
    "look_back=7\n",
    "\n",
    "# convertir series en conocimiento supervisado\n",
    "def series_to_supervised(data, n_in=1, n_out=1, dropnan=True):\n",
    "    n_vars = 1 if type(data) is list else data.shape[1]\n",
    "    df = pd.DataFrame(data)\n",
    "    cols, names = list(), list()\n",
    "    # secuencia de entrada (t-n, ... t-1)\n",
    "    for i in range(n_in, 0, -1):\n",
    "        cols.append(df.shift(i))\n",
    "        names += [('var%d(t-%d)' % (j+1, i)) for j in range(n_vars)]\n",
    "    # secuencia del pronostico (t, t+1, ... t+n)\n",
    "    for i in range(0, n_out):\n",
    "        cols.append(df.shift(-i))\n",
    "        if i == 0:\n",
    "            names += [('var%d(t)' % (j+1)) for j in range(n_vars)]\n",
    "        else:\n",
    "            names += [('var%d(t+%d)' % (j+1, i)) for j in range(n_vars)]\n",
    "    # unimos todo\n",
    "    agg = pd.concat(cols, axis=1)\n",
    "    agg.columns = names\n",
    "    # eliminamos todos los valores nulos\n",
    "    if dropnan:\n",
    "        agg.dropna(inplace=True)\n",
    "    return agg\n",
    " \n",
    "# cargamos el dataframe en la variable values\n",
    "values_twt = df_twt.values\n",
    "values_ine = df_ine.values\n",
    "\n",
    "# convertimos los enteros en floats\n",
    "values_twt = values_twt.astype('float32')\n",
    "values_ine = values_ine.astype('float32')\n",
    "\n",
    "# normalizamos los datos a escala de entre -1 y 1\n",
    "scaler = MinMaxScaler(feature_range=(-1, 1))\n",
    "values_twt=values_twt.reshape(-1, 1) # esto lo hacemos porque tenemos 1 sola dimension\n",
    "values_ine=values_ine.reshape(-1, 1) # esto lo hacemos porque tenemos 1 sola dimension\n",
    "scaled_twt = scaler.fit_transform(values_twt)\n",
    "scaled_ine = scaler.fit_transform(values_ine)\n",
    "\n",
    "# usamos la funcion definida previamente\n",
    "reframed_twt = series_to_supervised(scaled_twt, look_back, 1)\n",
    "reframed_ine = series_to_supervised(scaled_ine, look_back, 1)\n",
    "\n",
    "#imprimimos los nuevos datos\n",
    "reframed_twt.tail()"
   ]
  },
  {
   "cell_type": "code",
   "execution_count": 19,
   "metadata": {
    "scrolled": false
   },
   "outputs": [
    {
     "data": {
      "text/html": [
       "<div>\n",
       "<style scoped>\n",
       "    .dataframe tbody tr th:only-of-type {\n",
       "        vertical-align: middle;\n",
       "    }\n",
       "\n",
       "    .dataframe tbody tr th {\n",
       "        vertical-align: top;\n",
       "    }\n",
       "\n",
       "    .dataframe thead th {\n",
       "        text-align: right;\n",
       "    }\n",
       "</style>\n",
       "<table border=\"1\" class=\"dataframe\">\n",
       "  <thead>\n",
       "    <tr style=\"text-align: right;\">\n",
       "      <th></th>\n",
       "      <th>var2(t-7)</th>\n",
       "      <th>var2(t-6)</th>\n",
       "      <th>var2(t-5)</th>\n",
       "      <th>var2(t-4)</th>\n",
       "      <th>var2(t-3)</th>\n",
       "      <th>var2(t-2)</th>\n",
       "      <th>var2(t-1)</th>\n",
       "      <th>var2(t)</th>\n",
       "    </tr>\n",
       "  </thead>\n",
       "  <tbody>\n",
       "    <tr>\n",
       "      <th>76</th>\n",
       "      <td>0.477061</td>\n",
       "      <td>0.891413</td>\n",
       "      <td>0.839957</td>\n",
       "      <td>0.847171</td>\n",
       "      <td>0.460553</td>\n",
       "      <td>0.113062</td>\n",
       "      <td>0.725623</td>\n",
       "      <td>0.894152</td>\n",
       "    </tr>\n",
       "    <tr>\n",
       "      <th>77</th>\n",
       "      <td>0.891413</td>\n",
       "      <td>0.839957</td>\n",
       "      <td>0.847171</td>\n",
       "      <td>0.460553</td>\n",
       "      <td>0.113062</td>\n",
       "      <td>0.725623</td>\n",
       "      <td>0.894152</td>\n",
       "      <td>0.923149</td>\n",
       "    </tr>\n",
       "    <tr>\n",
       "      <th>78</th>\n",
       "      <td>0.839957</td>\n",
       "      <td>0.847171</td>\n",
       "      <td>0.460553</td>\n",
       "      <td>0.113062</td>\n",
       "      <td>0.725623</td>\n",
       "      <td>0.894152</td>\n",
       "      <td>0.923149</td>\n",
       "      <td>0.959687</td>\n",
       "    </tr>\n",
       "    <tr>\n",
       "      <th>79</th>\n",
       "      <td>0.847171</td>\n",
       "      <td>0.460553</td>\n",
       "      <td>0.113062</td>\n",
       "      <td>0.725623</td>\n",
       "      <td>0.894152</td>\n",
       "      <td>0.923149</td>\n",
       "      <td>0.959687</td>\n",
       "      <td>1.000000</td>\n",
       "    </tr>\n",
       "    <tr>\n",
       "      <th>80</th>\n",
       "      <td>0.460553</td>\n",
       "      <td>0.113062</td>\n",
       "      <td>0.725623</td>\n",
       "      <td>0.894152</td>\n",
       "      <td>0.923149</td>\n",
       "      <td>0.959687</td>\n",
       "      <td>1.000000</td>\n",
       "      <td>0.551599</td>\n",
       "    </tr>\n",
       "  </tbody>\n",
       "</table>\n",
       "</div>"
      ],
      "text/plain": [
       "    var2(t-7)  var2(t-6)  var2(t-5)  var2(t-4)  var2(t-3)  var2(t-2)  \\\n",
       "76   0.477061   0.891413   0.839957   0.847171   0.460553   0.113062   \n",
       "77   0.891413   0.839957   0.847171   0.460553   0.113062   0.725623   \n",
       "78   0.839957   0.847171   0.460553   0.113062   0.725623   0.894152   \n",
       "79   0.847171   0.460553   0.113062   0.725623   0.894152   0.923149   \n",
       "80   0.460553   0.113062   0.725623   0.894152   0.923149   0.959687   \n",
       "\n",
       "    var2(t-1)   var2(t)  \n",
       "76   0.725623  0.894152  \n",
       "77   0.894152  0.923149  \n",
       "78   0.923149  0.959687  \n",
       "79   0.959687  1.000000  \n",
       "80   1.000000  0.551599  "
      ]
     },
     "execution_count": 19,
     "metadata": {},
     "output_type": "execute_result"
    }
   ],
   "source": [
    "#cambiamos el nombre de las columnas\n",
    "reframed_ine.columns = ['var2(t-7)', 'var2(t-6)', 'var2(t-5)', 'var2(t-4)', 'var2(t-3)', 'var2(t-2)', 'var2(t-1)', 'var2(t)']\n",
    "reframed_ine.tail()"
   ]
  },
  {
   "cell_type": "code",
   "execution_count": 20,
   "metadata": {
    "scrolled": false
   },
   "outputs": [
    {
     "data": {
      "text/html": [
       "<div>\n",
       "<style scoped>\n",
       "    .dataframe tbody tr th:only-of-type {\n",
       "        vertical-align: middle;\n",
       "    }\n",
       "\n",
       "    .dataframe tbody tr th {\n",
       "        vertical-align: top;\n",
       "    }\n",
       "\n",
       "    .dataframe thead th {\n",
       "        text-align: right;\n",
       "    }\n",
       "</style>\n",
       "<table border=\"1\" class=\"dataframe\">\n",
       "  <thead>\n",
       "    <tr style=\"text-align: right;\">\n",
       "      <th></th>\n",
       "      <th>var1(t-7)</th>\n",
       "      <th>var2(t-7)</th>\n",
       "      <th>var1(t-6)</th>\n",
       "      <th>var2(t-6)</th>\n",
       "      <th>var1(t-5)</th>\n",
       "      <th>var2(t-5)</th>\n",
       "      <th>var1(t-4)</th>\n",
       "      <th>var2(t-4)</th>\n",
       "      <th>var1(t-3)</th>\n",
       "      <th>var2(t-3)</th>\n",
       "      <th>var1(t-2)</th>\n",
       "      <th>var2(t-2)</th>\n",
       "      <th>var1(t-1)</th>\n",
       "      <th>var2(t-1)</th>\n",
       "      <th>var2(t)</th>\n",
       "    </tr>\n",
       "  </thead>\n",
       "  <tbody>\n",
       "    <tr>\n",
       "      <th>76</th>\n",
       "      <td>0.712537</td>\n",
       "      <td>0.477061</td>\n",
       "      <td>0.561418</td>\n",
       "      <td>0.891413</td>\n",
       "      <td>0.780498</td>\n",
       "      <td>0.839957</td>\n",
       "      <td>0.847615</td>\n",
       "      <td>0.847171</td>\n",
       "      <td>0.876741</td>\n",
       "      <td>0.460553</td>\n",
       "      <td>0.747151</td>\n",
       "      <td>0.113062</td>\n",
       "      <td>0.551710</td>\n",
       "      <td>0.725623</td>\n",
       "      <td>0.894152</td>\n",
       "    </tr>\n",
       "    <tr>\n",
       "      <th>77</th>\n",
       "      <td>0.561418</td>\n",
       "      <td>0.891413</td>\n",
       "      <td>0.780498</td>\n",
       "      <td>0.839957</td>\n",
       "      <td>0.847615</td>\n",
       "      <td>0.847171</td>\n",
       "      <td>0.876741</td>\n",
       "      <td>0.460553</td>\n",
       "      <td>0.747151</td>\n",
       "      <td>0.113062</td>\n",
       "      <td>0.551710</td>\n",
       "      <td>0.725623</td>\n",
       "      <td>0.549599</td>\n",
       "      <td>0.894152</td>\n",
       "      <td>0.923149</td>\n",
       "    </tr>\n",
       "    <tr>\n",
       "      <th>78</th>\n",
       "      <td>0.780498</td>\n",
       "      <td>0.839957</td>\n",
       "      <td>0.847615</td>\n",
       "      <td>0.847171</td>\n",
       "      <td>0.876741</td>\n",
       "      <td>0.460553</td>\n",
       "      <td>0.747151</td>\n",
       "      <td>0.113062</td>\n",
       "      <td>0.551710</td>\n",
       "      <td>0.725623</td>\n",
       "      <td>0.549599</td>\n",
       "      <td>0.894152</td>\n",
       "      <td>0.559308</td>\n",
       "      <td>0.923149</td>\n",
       "      <td>0.959687</td>\n",
       "    </tr>\n",
       "    <tr>\n",
       "      <th>79</th>\n",
       "      <td>0.847615</td>\n",
       "      <td>0.847171</td>\n",
       "      <td>0.876741</td>\n",
       "      <td>0.460553</td>\n",
       "      <td>0.747151</td>\n",
       "      <td>0.113062</td>\n",
       "      <td>0.551710</td>\n",
       "      <td>0.725623</td>\n",
       "      <td>0.549599</td>\n",
       "      <td>0.894152</td>\n",
       "      <td>0.559308</td>\n",
       "      <td>0.923149</td>\n",
       "      <td>0.846771</td>\n",
       "      <td>0.959687</td>\n",
       "      <td>1.000000</td>\n",
       "    </tr>\n",
       "    <tr>\n",
       "      <th>80</th>\n",
       "      <td>0.876741</td>\n",
       "      <td>0.460553</td>\n",
       "      <td>0.747151</td>\n",
       "      <td>0.113062</td>\n",
       "      <td>0.551710</td>\n",
       "      <td>0.725623</td>\n",
       "      <td>0.549599</td>\n",
       "      <td>0.894152</td>\n",
       "      <td>0.559308</td>\n",
       "      <td>0.923149</td>\n",
       "      <td>0.846771</td>\n",
       "      <td>0.959687</td>\n",
       "      <td>1.000000</td>\n",
       "      <td>1.000000</td>\n",
       "      <td>0.551599</td>\n",
       "    </tr>\n",
       "  </tbody>\n",
       "</table>\n",
       "</div>"
      ],
      "text/plain": [
       "    var1(t-7)  var2(t-7)  var1(t-6)  var2(t-6)  var1(t-5)  var2(t-5)  \\\n",
       "76   0.712537   0.477061   0.561418   0.891413   0.780498   0.839957   \n",
       "77   0.561418   0.891413   0.780498   0.839957   0.847615   0.847171   \n",
       "78   0.780498   0.839957   0.847615   0.847171   0.876741   0.460553   \n",
       "79   0.847615   0.847171   0.876741   0.460553   0.747151   0.113062   \n",
       "80   0.876741   0.460553   0.747151   0.113062   0.551710   0.725623   \n",
       "\n",
       "    var1(t-4)  var2(t-4)  var1(t-3)  var2(t-3)  var1(t-2)  var2(t-2)  \\\n",
       "76   0.847615   0.847171   0.876741   0.460553   0.747151   0.113062   \n",
       "77   0.876741   0.460553   0.747151   0.113062   0.551710   0.725623   \n",
       "78   0.747151   0.113062   0.551710   0.725623   0.549599   0.894152   \n",
       "79   0.551710   0.725623   0.549599   0.894152   0.559308   0.923149   \n",
       "80   0.549599   0.894152   0.559308   0.923149   0.846771   0.959687   \n",
       "\n",
       "    var1(t-1)  var2(t-1)   var2(t)  \n",
       "76   0.551710   0.725623  0.894152  \n",
       "77   0.549599   0.894152  0.923149  \n",
       "78   0.559308   0.923149  0.959687  \n",
       "79   0.846771   0.959687  1.000000  \n",
       "80   1.000000   1.000000  0.551599  "
      ]
     },
     "execution_count": 20,
     "metadata": {},
     "output_type": "execute_result"
    }
   ],
   "source": [
    "#unimos los datos del ine con los de twitter\n",
    "reframed = pd.concat([reframed_twt.iloc[:, 0], reframed_ine.iloc[:, 0]], axis=1)\n",
    "\n",
    "for i in range(6):\n",
    "    reframed = pd.concat([reframed, reframed_twt.iloc[:, i+1]], axis=1)\n",
    "    reframed = pd.concat([reframed, reframed_ine.iloc[:, i+1]], axis=1)\n",
    "    \n",
    "reframed = pd.concat([reframed, reframed_ine.iloc[:, 7]], axis=1)\n",
    "\n",
    "reframed.tail()"
   ]
  },
  {
   "cell_type": "markdown",
   "metadata": {},
   "source": [
    "# Dividimos los datos en sets de entrenamiento y validacion"
   ]
  },
  {
   "cell_type": "code",
   "execution_count": 21,
   "metadata": {},
   "outputs": [
    {
     "name": "stdout",
     "output_type": "stream",
     "text": [
      "(54, 1, 14) (54,) (20, 1, 14) (20,)\n"
     ]
    }
   ],
   "source": [
    "#dividimos nuestro valores entre sets de entrenamiento y de test\n",
    "values = reframed.values\n",
    "n_train_days = 71 - (10+look_back)\n",
    "train = values[:n_train_days, :]\n",
    "test = values[n_train_days:, :]\n",
    "\n",
    "# split into input and outputs\n",
    "x_train, y_train = train[:, :-1], train[:, -1]\n",
    "x_val, y_val = test[:, :-1], test[:, -1]\n",
    "\n",
    "# reshape input to be 3D [samples, timesteps, features] - preguntar\n",
    "x_train = x_train.reshape((x_train.shape[0], 1, x_train.shape[1]))\n",
    "x_val = x_val.reshape((x_val.shape[0], 1, x_val.shape[1]))\n",
    "print(x_train.shape, y_train.shape, x_val.shape, y_val.shape)"
   ]
  },
  {
   "cell_type": "markdown",
   "metadata": {},
   "source": [
    "# Creamos la red neuronal"
   ]
  },
  {
   "cell_type": "code",
   "execution_count": 22,
   "metadata": {},
   "outputs": [],
   "source": [
    "def crear_modeloFF():\n",
    "    model = Sequential() \n",
    "    model.add(Dense(look_back, input_shape=(1,look_back*2),activation='tanh'))\n",
    "    model.add(Flatten())\n",
    "    model.add(Dense(100, activation='tanh'))\n",
    "    model.add(Dropout(0.30))\n",
    "    model.add(Dense(100, activation='tanh'))\n",
    "    model.add(Dropout(0.30))\n",
    "    model.add(Dense(100, activation='tanh'))\n",
    "    model.add(Dropout(0.30))\n",
    "    model.add(Dense(100, activation='tanh'))\n",
    "    model.add(Dropout(0.30))\n",
    "    model.add(Dense(1, activation='tanh'))\n",
    "    model.compile(loss='mean_absolute_error',optimizer='Adam',metrics=[\"mse\"])\n",
    "    model.summary()\n",
    "    return model"
   ]
  },
  {
   "cell_type": "code",
   "execution_count": 23,
   "metadata": {},
   "outputs": [
    {
     "name": "stdout",
     "output_type": "stream",
     "text": [
      "Model: \"sequential\"\n",
      "_________________________________________________________________\n",
      "Layer (type)                 Output Shape              Param #   \n",
      "=================================================================\n",
      "dense (Dense)                (None, 1, 7)              105       \n",
      "_________________________________________________________________\n",
      "flatten (Flatten)            (None, 7)                 0         \n",
      "_________________________________________________________________\n",
      "dense_1 (Dense)              (None, 100)               800       \n",
      "_________________________________________________________________\n",
      "dropout (Dropout)            (None, 100)               0         \n",
      "_________________________________________________________________\n",
      "dense_2 (Dense)              (None, 100)               10100     \n",
      "_________________________________________________________________\n",
      "dropout_1 (Dropout)          (None, 100)               0         \n",
      "_________________________________________________________________\n",
      "dense_3 (Dense)              (None, 100)               10100     \n",
      "_________________________________________________________________\n",
      "dropout_2 (Dropout)          (None, 100)               0         \n",
      "_________________________________________________________________\n",
      "dense_4 (Dense)              (None, 100)               10100     \n",
      "_________________________________________________________________\n",
      "dropout_3 (Dropout)          (None, 100)               0         \n",
      "_________________________________________________________________\n",
      "dense_5 (Dense)              (None, 1)                 101       \n",
      "=================================================================\n",
      "Total params: 31,306\n",
      "Trainable params: 31,306\n",
      "Non-trainable params: 0\n",
      "_________________________________________________________________\n",
      "Epoch 1/200\n",
      "8/8 [==============================] - 2s 204ms/step - loss: 0.4024 - mse: 0.2371 - val_loss: 0.1847 - val_mse: 0.0512\n",
      "Epoch 2/200\n",
      "8/8 [==============================] - 0s 6ms/step - loss: 0.2633 - mse: 0.0996 - val_loss: 0.1367 - val_mse: 0.0334\n",
      "Epoch 3/200\n",
      "8/8 [==============================] - 0s 6ms/step - loss: 0.2965 - mse: 0.1323 - val_loss: 0.1809 - val_mse: 0.0648\n",
      "Epoch 4/200\n",
      "8/8 [==============================] - 0s 6ms/step - loss: 0.2380 - mse: 0.0854 - val_loss: 0.2006 - val_mse: 0.0766\n",
      "Epoch 5/200\n",
      "8/8 [==============================] - 0s 7ms/step - loss: 0.2617 - mse: 0.1092 - val_loss: 0.2083 - val_mse: 0.0735\n",
      "Epoch 6/200\n",
      "8/8 [==============================] - 0s 6ms/step - loss: 0.2401 - mse: 0.0975 - val_loss: 0.2016 - val_mse: 0.0728\n",
      "Epoch 7/200\n",
      "8/8 [==============================] - 0s 6ms/step - loss: 0.2445 - mse: 0.0906 - val_loss: 0.1525 - val_mse: 0.0445\n",
      "Epoch 8/200\n",
      "8/8 [==============================] - 0s 6ms/step - loss: 0.1866 - mse: 0.0587 - val_loss: 0.1620 - val_mse: 0.0348\n",
      "Epoch 9/200\n",
      "8/8 [==============================] - 0s 6ms/step - loss: 0.2572 - mse: 0.0959 - val_loss: 0.1213 - val_mse: 0.0232\n",
      "Epoch 10/200\n",
      "8/8 [==============================] - 0s 6ms/step - loss: 0.2030 - mse: 0.0673 - val_loss: 0.1425 - val_mse: 0.0360\n",
      "Epoch 11/200\n",
      "8/8 [==============================] - 0s 6ms/step - loss: 0.1755 - mse: 0.0588 - val_loss: 0.1620 - val_mse: 0.0461\n",
      "Epoch 12/200\n",
      "8/8 [==============================] - 0s 6ms/step - loss: 0.1883 - mse: 0.0706 - val_loss: 0.1309 - val_mse: 0.0249\n",
      "Epoch 13/200\n",
      "8/8 [==============================] - 0s 6ms/step - loss: 0.2315 - mse: 0.0902 - val_loss: 0.1587 - val_mse: 0.0332\n",
      "Epoch 14/200\n",
      "8/8 [==============================] - 0s 6ms/step - loss: 0.2180 - mse: 0.0680 - val_loss: 0.1322 - val_mse: 0.0292\n",
      "Epoch 15/200\n",
      "8/8 [==============================] - 0s 6ms/step - loss: 0.2011 - mse: 0.0597 - val_loss: 0.1197 - val_mse: 0.0221\n",
      "Epoch 16/200\n",
      "8/8 [==============================] - ETA: 0s - loss: 0.0745 - mse: 0.007 - 0s 6ms/step - loss: 0.1694 - mse: 0.0593 - val_loss: 0.1649 - val_mse: 0.0489\n",
      "Epoch 17/200\n",
      "8/8 [==============================] - 0s 6ms/step - loss: 0.2033 - mse: 0.0669 - val_loss: 0.2082 - val_mse: 0.0781\n",
      "Epoch 18/200\n",
      "8/8 [==============================] - 0s 6ms/step - loss: 0.1708 - mse: 0.0468 - val_loss: 0.1687 - val_mse: 0.0522\n",
      "Epoch 19/200\n",
      "8/8 [==============================] - 0s 6ms/step - loss: 0.2027 - mse: 0.0618 - val_loss: 0.1540 - val_mse: 0.0303\n",
      "Epoch 20/200\n",
      "8/8 [==============================] - ETA: 0s - loss: 0.2024 - mse: 0.060 - 0s 6ms/step - loss: 0.2383 - mse: 0.0771 - val_loss: 0.1346 - val_mse: 0.0234\n",
      "Epoch 21/200\n",
      "8/8 [==============================] - 0s 6ms/step - loss: 0.1741 - mse: 0.0408 - val_loss: 0.1261 - val_mse: 0.0286\n",
      "Epoch 22/200\n",
      "8/8 [==============================] - 0s 6ms/step - loss: 0.1818 - mse: 0.0532 - val_loss: 0.1435 - val_mse: 0.0352\n",
      "Epoch 23/200\n",
      "8/8 [==============================] - 0s 6ms/step - loss: 0.1819 - mse: 0.0523 - val_loss: 0.1198 - val_mse: 0.0256\n",
      "Epoch 24/200\n",
      "8/8 [==============================] - 0s 6ms/step - loss: 0.1989 - mse: 0.0615 - val_loss: 0.1153 - val_mse: 0.0221\n",
      "Epoch 25/200\n",
      "8/8 [==============================] - ETA: 0s - loss: 0.1990 - mse: 0.063 - 0s 6ms/step - loss: 0.1825 - mse: 0.0546 - val_loss: 0.1201 - val_mse: 0.0223\n",
      "Epoch 26/200\n",
      "8/8 [==============================] - 0s 7ms/step - loss: 0.2130 - mse: 0.0659 - val_loss: 0.1232 - val_mse: 0.0255\n",
      "Epoch 27/200\n",
      "8/8 [==============================] - 0s 6ms/step - loss: 0.2044 - mse: 0.0588 - val_loss: 0.1652 - val_mse: 0.0495\n",
      "Epoch 28/200\n",
      "8/8 [==============================] - 0s 6ms/step - loss: 0.1925 - mse: 0.0592 - val_loss: 0.1912 - val_mse: 0.0673\n",
      "Epoch 29/200\n",
      "8/8 [==============================] - 0s 7ms/step - loss: 0.1770 - mse: 0.0458 - val_loss: 0.1743 - val_mse: 0.0438\n",
      "Epoch 30/200\n",
      "8/8 [==============================] - 0s 6ms/step - loss: 0.1903 - mse: 0.0577 - val_loss: 0.1529 - val_mse: 0.0327\n",
      "Epoch 31/200\n",
      "8/8 [==============================] - 0s 6ms/step - loss: 0.1641 - mse: 0.0389 - val_loss: 0.1315 - val_mse: 0.0300\n",
      "Epoch 32/200\n",
      "8/8 [==============================] - 0s 6ms/step - loss: 0.1808 - mse: 0.0492 - val_loss: 0.1156 - val_mse: 0.0240\n",
      "Epoch 33/200\n",
      "8/8 [==============================] - 0s 6ms/step - loss: 0.1732 - mse: 0.0507 - val_loss: 0.1197 - val_mse: 0.0252\n",
      "Epoch 34/200\n",
      "8/8 [==============================] - 0s 6ms/step - loss: 0.1607 - mse: 0.0427 - val_loss: 0.1394 - val_mse: 0.0309\n",
      "Epoch 35/200\n",
      "8/8 [==============================] - 0s 6ms/step - loss: 0.1496 - mse: 0.0321 - val_loss: 0.1855 - val_mse: 0.0432\n",
      "Epoch 36/200\n",
      "8/8 [==============================] - 0s 7ms/step - loss: 0.2292 - mse: 0.0743 - val_loss: 0.1701 - val_mse: 0.0367\n",
      "Epoch 37/200\n",
      "8/8 [==============================] - 0s 6ms/step - loss: 0.2006 - mse: 0.0644 - val_loss: 0.1362 - val_mse: 0.0288\n",
      "Epoch 38/200\n",
      "8/8 [==============================] - 0s 6ms/step - loss: 0.1429 - mse: 0.0350 - val_loss: 0.1507 - val_mse: 0.0397\n",
      "Epoch 39/200\n",
      "8/8 [==============================] - 0s 6ms/step - loss: 0.1673 - mse: 0.0477 - val_loss: 0.1267 - val_mse: 0.0273\n",
      "Epoch 40/200\n",
      "8/8 [==============================] - 0s 6ms/step - loss: 0.1641 - mse: 0.0411 - val_loss: 0.1369 - val_mse: 0.0281\n",
      "Epoch 41/200\n",
      "8/8 [==============================] - 0s 6ms/step - loss: 0.2322 - mse: 0.0823 - val_loss: 0.1474 - val_mse: 0.0285\n",
      "Epoch 42/200\n",
      "8/8 [==============================] - 0s 6ms/step - loss: 0.1811 - mse: 0.0554 - val_loss: 0.1406 - val_mse: 0.0341\n",
      "Epoch 43/200\n",
      "8/8 [==============================] - 0s 6ms/step - loss: 0.2153 - mse: 0.0686 - val_loss: 0.1407 - val_mse: 0.0332\n",
      "Epoch 44/200\n",
      "8/8 [==============================] - 0s 6ms/step - loss: 0.1851 - mse: 0.0560 - val_loss: 0.1221 - val_mse: 0.0221\n",
      "Epoch 45/200\n",
      "8/8 [==============================] - 0s 6ms/step - loss: 0.1417 - mse: 0.0414 - val_loss: 0.1355 - val_mse: 0.0293\n",
      "Epoch 46/200\n",
      "8/8 [==============================] - 0s 6ms/step - loss: 0.1773 - mse: 0.0496 - val_loss: 0.1295 - val_mse: 0.0275\n",
      "Epoch 47/200\n",
      "8/8 [==============================] - 0s 6ms/step - loss: 0.1917 - mse: 0.0558 - val_loss: 0.1409 - val_mse: 0.0342\n",
      "Epoch 48/200\n",
      "8/8 [==============================] - 0s 6ms/step - loss: 0.1543 - mse: 0.0362 - val_loss: 0.1339 - val_mse: 0.0294\n",
      "Epoch 49/200\n"
     ]
    },
    {
     "name": "stdout",
     "output_type": "stream",
     "text": [
      "8/8 [==============================] - 0s 6ms/step - loss: 0.1782 - mse: 0.0460 - val_loss: 0.1438 - val_mse: 0.0337\n",
      "Epoch 50/200\n",
      "8/8 [==============================] - 0s 6ms/step - loss: 0.2217 - mse: 0.0790 - val_loss: 0.1516 - val_mse: 0.0393\n",
      "Epoch 51/200\n",
      "8/8 [==============================] - 0s 6ms/step - loss: 0.1520 - mse: 0.0379 - val_loss: 0.1366 - val_mse: 0.0247\n",
      "Epoch 52/200\n",
      "8/8 [==============================] - 0s 6ms/step - loss: 0.1751 - mse: 0.0483 - val_loss: 0.1292 - val_mse: 0.0238\n",
      "Epoch 53/200\n",
      "8/8 [==============================] - 0s 6ms/step - loss: 0.1741 - mse: 0.0473 - val_loss: 0.1598 - val_mse: 0.0447\n",
      "Epoch 54/200\n",
      "8/8 [==============================] - 0s 6ms/step - loss: 0.1855 - mse: 0.0564 - val_loss: 0.1776 - val_mse: 0.0547\n",
      "Epoch 55/200\n",
      "8/8 [==============================] - 0s 6ms/step - loss: 0.1874 - mse: 0.0504 - val_loss: 0.1367 - val_mse: 0.0314\n",
      "Epoch 56/200\n",
      "8/8 [==============================] - 0s 6ms/step - loss: 0.1548 - mse: 0.0432 - val_loss: 0.1207 - val_mse: 0.0240\n",
      "Epoch 57/200\n",
      "8/8 [==============================] - 0s 6ms/step - loss: 0.1608 - mse: 0.0412 - val_loss: 0.1296 - val_mse: 0.0287\n",
      "Epoch 58/200\n",
      "8/8 [==============================] - 0s 6ms/step - loss: 0.1305 - mse: 0.0308 - val_loss: 0.1270 - val_mse: 0.0247\n",
      "Epoch 59/200\n",
      "8/8 [==============================] - 0s 7ms/step - loss: 0.1894 - mse: 0.0489 - val_loss: 0.1462 - val_mse: 0.0327\n",
      "Epoch 60/200\n",
      "8/8 [==============================] - 0s 6ms/step - loss: 0.1339 - mse: 0.0308 - val_loss: 0.1389 - val_mse: 0.0300\n",
      "Epoch 61/200\n",
      "8/8 [==============================] - 0s 6ms/step - loss: 0.1285 - mse: 0.0277 - val_loss: 0.1573 - val_mse: 0.0424\n",
      "Epoch 62/200\n",
      "8/8 [==============================] - 0s 6ms/step - loss: 0.1611 - mse: 0.0440 - val_loss: 0.1440 - val_mse: 0.0350\n",
      "Epoch 63/200\n",
      "8/8 [==============================] - 0s 6ms/step - loss: 0.1865 - mse: 0.0472 - val_loss: 0.1135 - val_mse: 0.0197\n",
      "Epoch 64/200\n",
      "8/8 [==============================] - 0s 6ms/step - loss: 0.1223 - mse: 0.0264 - val_loss: 0.1225 - val_mse: 0.0232\n",
      "Epoch 65/200\n",
      "8/8 [==============================] - 0s 6ms/step - loss: 0.1842 - mse: 0.0500 - val_loss: 0.1398 - val_mse: 0.0319\n",
      "Epoch 66/200\n",
      "8/8 [==============================] - 0s 6ms/step - loss: 0.1669 - mse: 0.0484 - val_loss: 0.1475 - val_mse: 0.0350\n",
      "Epoch 67/200\n",
      "8/8 [==============================] - 0s 6ms/step - loss: 0.1246 - mse: 0.0257 - val_loss: 0.1349 - val_mse: 0.0255\n",
      "Epoch 68/200\n",
      "8/8 [==============================] - 0s 6ms/step - loss: 0.1379 - mse: 0.0290 - val_loss: 0.1233 - val_mse: 0.0219\n",
      "Epoch 69/200\n",
      "8/8 [==============================] - 0s 6ms/step - loss: 0.1165 - mse: 0.0230 - val_loss: 0.1231 - val_mse: 0.0238\n",
      "Epoch 70/200\n",
      "8/8 [==============================] - 0s 7ms/step - loss: 0.1409 - mse: 0.0323 - val_loss: 0.1208 - val_mse: 0.0202\n",
      "Epoch 71/200\n",
      "8/8 [==============================] - 0s 6ms/step - loss: 0.1887 - mse: 0.0666 - val_loss: 0.1133 - val_mse: 0.0204\n",
      "Epoch 72/200\n",
      "8/8 [==============================] - 0s 6ms/step - loss: 0.1379 - mse: 0.0360 - val_loss: 0.1202 - val_mse: 0.0202\n",
      "Epoch 73/200\n",
      "8/8 [==============================] - 0s 6ms/step - loss: 0.1560 - mse: 0.0403 - val_loss: 0.1187 - val_mse: 0.0229\n",
      "Epoch 74/200\n",
      "8/8 [==============================] - 0s 6ms/step - loss: 0.1513 - mse: 0.0355 - val_loss: 0.1314 - val_mse: 0.0283\n",
      "Epoch 75/200\n",
      "8/8 [==============================] - 0s 6ms/step - loss: 0.1356 - mse: 0.0370 - val_loss: 0.1334 - val_mse: 0.0298\n",
      "Epoch 76/200\n",
      "8/8 [==============================] - 0s 6ms/step - loss: 0.1427 - mse: 0.0329 - val_loss: 0.1304 - val_mse: 0.0267\n",
      "Epoch 77/200\n",
      "8/8 [==============================] - 0s 6ms/step - loss: 0.1490 - mse: 0.0352 - val_loss: 0.1339 - val_mse: 0.0281\n",
      "Epoch 78/200\n",
      "8/8 [==============================] - 0s 6ms/step - loss: 0.1390 - mse: 0.0309 - val_loss: 0.1513 - val_mse: 0.0306\n",
      "Epoch 79/200\n",
      "8/8 [==============================] - 0s 6ms/step - loss: 0.1584 - mse: 0.0409 - val_loss: 0.1270 - val_mse: 0.0272\n",
      "Epoch 80/200\n",
      "8/8 [==============================] - 0s 6ms/step - loss: 0.1482 - mse: 0.0358 - val_loss: 0.1191 - val_mse: 0.0219\n",
      "Epoch 81/200\n",
      "8/8 [==============================] - 0s 6ms/step - loss: 0.1420 - mse: 0.0310 - val_loss: 0.1198 - val_mse: 0.0226\n",
      "Epoch 82/200\n",
      "8/8 [==============================] - 0s 6ms/step - loss: 0.1263 - mse: 0.0270 - val_loss: 0.1450 - val_mse: 0.0357\n",
      "Epoch 83/200\n",
      "8/8 [==============================] - 0s 6ms/step - loss: 0.1810 - mse: 0.0541 - val_loss: 0.1365 - val_mse: 0.0304\n",
      "Epoch 84/200\n",
      "8/8 [==============================] - 0s 6ms/step - loss: 0.1328 - mse: 0.0308 - val_loss: 0.1249 - val_mse: 0.0245\n",
      "Epoch 85/200\n",
      "8/8 [==============================] - 0s 6ms/step - loss: 0.1462 - mse: 0.0403 - val_loss: 0.1249 - val_mse: 0.0248\n",
      "Epoch 86/200\n",
      "8/8 [==============================] - 0s 6ms/step - loss: 0.1485 - mse: 0.0385 - val_loss: 0.1225 - val_mse: 0.0243\n",
      "Epoch 87/200\n",
      "8/8 [==============================] - ETA: 0s - loss: 0.0984 - mse: 0.015 - 0s 6ms/step - loss: 0.1531 - mse: 0.0397 - val_loss: 0.1221 - val_mse: 0.0247\n",
      "Epoch 88/200\n",
      "8/8 [==============================] - 0s 6ms/step - loss: 0.1502 - mse: 0.0370 - val_loss: 0.1202 - val_mse: 0.0225\n",
      "Epoch 89/200\n",
      "8/8 [==============================] - 0s 6ms/step - loss: 0.1463 - mse: 0.0375 - val_loss: 0.1201 - val_mse: 0.0224\n",
      "Epoch 90/200\n",
      "8/8 [==============================] - 0s 6ms/step - loss: 0.1476 - mse: 0.0390 - val_loss: 0.1572 - val_mse: 0.0426\n",
      "Epoch 91/200\n",
      "8/8 [==============================] - 0s 6ms/step - loss: 0.1701 - mse: 0.0471 - val_loss: 0.1522 - val_mse: 0.0396\n",
      "Epoch 92/200\n",
      "8/8 [==============================] - 0s 6ms/step - loss: 0.1470 - mse: 0.0338 - val_loss: 0.1427 - val_mse: 0.0278\n",
      "Epoch 93/200\n",
      "8/8 [==============================] - 0s 6ms/step - loss: 0.1682 - mse: 0.0454 - val_loss: 0.1235 - val_mse: 0.0219\n",
      "Epoch 94/200\n",
      "8/8 [==============================] - 0s 6ms/step - loss: 0.1589 - mse: 0.0448 - val_loss: 0.1246 - val_mse: 0.0257\n",
      "Epoch 95/200\n",
      "8/8 [==============================] - 0s 6ms/step - loss: 0.1880 - mse: 0.0508 - val_loss: 0.1203 - val_mse: 0.0230\n",
      "Epoch 96/200\n",
      "8/8 [==============================] - 0s 6ms/step - loss: 0.1304 - mse: 0.0272 - val_loss: 0.1373 - val_mse: 0.0285\n",
      "Epoch 97/200\n",
      "8/8 [==============================] - 0s 6ms/step - loss: 0.1154 - mse: 0.0235 - val_loss: 0.1467 - val_mse: 0.0328\n",
      "Epoch 98/200\n",
      "8/8 [==============================] - 0s 6ms/step - loss: 0.1251 - mse: 0.0248 - val_loss: 0.1469 - val_mse: 0.0322\n",
      "Epoch 99/200\n",
      "8/8 [==============================] - 0s 6ms/step - loss: 0.1632 - mse: 0.0418 - val_loss: 0.1419 - val_mse: 0.0330\n",
      "Epoch 100/200\n",
      "8/8 [==============================] - 0s 6ms/step - loss: 0.1402 - mse: 0.0325 - val_loss: 0.1292 - val_mse: 0.0249\n",
      "Epoch 101/200\n",
      "8/8 [==============================] - 0s 6ms/step - loss: 0.1516 - mse: 0.0361 - val_loss: 0.1317 - val_mse: 0.0249\n",
      "Epoch 102/200\n",
      "8/8 [==============================] - 0s 6ms/step - loss: 0.1426 - mse: 0.0341 - val_loss: 0.1520 - val_mse: 0.0392\n",
      "Epoch 103/200\n",
      "8/8 [==============================] - 0s 6ms/step - loss: 0.1503 - mse: 0.0392 - val_loss: 0.1354 - val_mse: 0.0295\n",
      "Epoch 104/200\n",
      "8/8 [==============================] - 0s 6ms/step - loss: 0.1844 - mse: 0.0567 - val_loss: 0.1495 - val_mse: 0.0365\n",
      "Epoch 105/200\n",
      "8/8 [==============================] - 0s 7ms/step - loss: 0.1296 - mse: 0.0297 - val_loss: 0.1428 - val_mse: 0.0326\n",
      "Epoch 106/200\n",
      "8/8 [==============================] - 0s 6ms/step - loss: 0.1641 - mse: 0.0460 - val_loss: 0.1311 - val_mse: 0.0253\n",
      "Epoch 107/200\n",
      "8/8 [==============================] - 0s 6ms/step - loss: 0.1432 - mse: 0.0326 - val_loss: 0.1309 - val_mse: 0.0248\n",
      "Epoch 108/200\n",
      "8/8 [==============================] - 0s 6ms/step - loss: 0.1124 - mse: 0.0278 - val_loss: 0.1222 - val_mse: 0.0231\n",
      "Epoch 109/200\n",
      "8/8 [==============================] - 0s 6ms/step - loss: 0.1202 - mse: 0.0286 - val_loss: 0.1307 - val_mse: 0.0238\n",
      "Epoch 110/200\n",
      "8/8 [==============================] - 0s 7ms/step - loss: 0.1447 - mse: 0.0434 - val_loss: 0.1287 - val_mse: 0.0249\n",
      "Epoch 111/200\n",
      "8/8 [==============================] - 0s 6ms/step - loss: 0.1255 - mse: 0.0269 - val_loss: 0.1357 - val_mse: 0.0288\n"
     ]
    },
    {
     "name": "stdout",
     "output_type": "stream",
     "text": [
      "Epoch 112/200\n",
      "8/8 [==============================] - 0s 6ms/step - loss: 0.1400 - mse: 0.0309 - val_loss: 0.1350 - val_mse: 0.0264\n",
      "Epoch 113/200\n",
      "8/8 [==============================] - 0s 6ms/step - loss: 0.1529 - mse: 0.0357 - val_loss: 0.1437 - val_mse: 0.0297\n",
      "Epoch 114/200\n",
      "8/8 [==============================] - 0s 6ms/step - loss: 0.1322 - mse: 0.0318 - val_loss: 0.1379 - val_mse: 0.0290\n",
      "Epoch 115/200\n",
      "8/8 [==============================] - 0s 6ms/step - loss: 0.1288 - mse: 0.0299 - val_loss: 0.1364 - val_mse: 0.0257\n",
      "Epoch 116/200\n",
      "8/8 [==============================] - 0s 6ms/step - loss: 0.1675 - mse: 0.0443 - val_loss: 0.1229 - val_mse: 0.0226\n",
      "Epoch 117/200\n",
      "8/8 [==============================] - 0s 6ms/step - loss: 0.1127 - mse: 0.0209 - val_loss: 0.1381 - val_mse: 0.0311\n",
      "Epoch 118/200\n",
      "8/8 [==============================] - 0s 6ms/step - loss: 0.1443 - mse: 0.0477 - val_loss: 0.1248 - val_mse: 0.0227\n",
      "Epoch 119/200\n",
      "8/8 [==============================] - 0s 6ms/step - loss: 0.1484 - mse: 0.0319 - val_loss: 0.1226 - val_mse: 0.0221\n",
      "Epoch 120/200\n",
      "8/8 [==============================] - 0s 6ms/step - loss: 0.1317 - mse: 0.0283 - val_loss: 0.1257 - val_mse: 0.0245\n",
      "Epoch 121/200\n",
      "8/8 [==============================] - 0s 6ms/step - loss: 0.1327 - mse: 0.0296 - val_loss: 0.1280 - val_mse: 0.0241\n",
      "Epoch 122/200\n",
      "8/8 [==============================] - ETA: 0s - loss: 0.1188 - mse: 0.016 - 0s 6ms/step - loss: 0.1325 - mse: 0.0272 - val_loss: 0.1349 - val_mse: 0.0258\n",
      "Epoch 123/200\n",
      "8/8 [==============================] - 0s 6ms/step - loss: 0.1232 - mse: 0.0286 - val_loss: 0.1236 - val_mse: 0.0232\n",
      "Epoch 124/200\n",
      "8/8 [==============================] - 0s 6ms/step - loss: 0.1467 - mse: 0.0407 - val_loss: 0.1169 - val_mse: 0.0223\n",
      "Epoch 125/200\n",
      "8/8 [==============================] - 0s 6ms/step - loss: 0.1159 - mse: 0.0215 - val_loss: 0.1386 - val_mse: 0.0267\n",
      "Epoch 126/200\n",
      "8/8 [==============================] - 0s 6ms/step - loss: 0.1388 - mse: 0.0353 - val_loss: 0.1320 - val_mse: 0.0245\n",
      "Epoch 127/200\n",
      "8/8 [==============================] - 0s 6ms/step - loss: 0.1676 - mse: 0.0417 - val_loss: 0.1323 - val_mse: 0.0287\n",
      "Epoch 128/200\n",
      "8/8 [==============================] - 0s 6ms/step - loss: 0.1446 - mse: 0.0449 - val_loss: 0.1278 - val_mse: 0.0246\n",
      "Epoch 129/200\n",
      "8/8 [==============================] - 0s 6ms/step - loss: 0.1126 - mse: 0.0241 - val_loss: 0.1538 - val_mse: 0.0317\n",
      "Epoch 130/200\n",
      "8/8 [==============================] - 0s 6ms/step - loss: 0.1313 - mse: 0.0286 - val_loss: 0.1376 - val_mse: 0.0273\n",
      "Epoch 131/200\n",
      "8/8 [==============================] - 0s 6ms/step - loss: 0.1168 - mse: 0.0261 - val_loss: 0.1370 - val_mse: 0.0278\n",
      "Epoch 132/200\n",
      "8/8 [==============================] - 0s 6ms/step - loss: 0.1573 - mse: 0.0436 - val_loss: 0.1430 - val_mse: 0.0287\n",
      "Epoch 133/200\n",
      "8/8 [==============================] - 0s 6ms/step - loss: 0.1421 - mse: 0.0350 - val_loss: 0.1343 - val_mse: 0.0286\n",
      "Epoch 134/200\n",
      "8/8 [==============================] - 0s 6ms/step - loss: 0.1219 - mse: 0.0307 - val_loss: 0.1391 - val_mse: 0.0273\n",
      "Epoch 135/200\n",
      "8/8 [==============================] - 0s 6ms/step - loss: 0.1350 - mse: 0.0320 - val_loss: 0.1261 - val_mse: 0.0251\n",
      "Epoch 136/200\n",
      "8/8 [==============================] - 0s 6ms/step - loss: 0.1425 - mse: 0.0332 - val_loss: 0.1350 - val_mse: 0.0289\n",
      "Epoch 137/200\n",
      "8/8 [==============================] - 0s 6ms/step - loss: 0.1440 - mse: 0.0345 - val_loss: 0.1334 - val_mse: 0.0265\n",
      "Epoch 138/200\n",
      "8/8 [==============================] - 0s 6ms/step - loss: 0.1233 - mse: 0.0243 - val_loss: 0.1313 - val_mse: 0.0253\n",
      "Epoch 139/200\n",
      "8/8 [==============================] - 0s 6ms/step - loss: 0.1105 - mse: 0.0213 - val_loss: 0.1301 - val_mse: 0.0255\n",
      "Epoch 140/200\n",
      "8/8 [==============================] - 0s 7ms/step - loss: 0.1318 - mse: 0.0285 - val_loss: 0.1184 - val_mse: 0.0216\n",
      "Epoch 141/200\n",
      "8/8 [==============================] - 0s 6ms/step - loss: 0.1061 - mse: 0.0210 - val_loss: 0.1175 - val_mse: 0.0219\n",
      "Epoch 142/200\n",
      "8/8 [==============================] - 0s 6ms/step - loss: 0.1393 - mse: 0.0335 - val_loss: 0.1328 - val_mse: 0.0258\n",
      "Epoch 143/200\n",
      "8/8 [==============================] - 0s 6ms/step - loss: 0.1323 - mse: 0.0274 - val_loss: 0.1344 - val_mse: 0.0266\n",
      "Epoch 144/200\n",
      "8/8 [==============================] - 0s 6ms/step - loss: 0.1338 - mse: 0.0292 - val_loss: 0.1340 - val_mse: 0.0259\n",
      "Epoch 145/200\n",
      "8/8 [==============================] - 0s 6ms/step - loss: 0.1207 - mse: 0.0262 - val_loss: 0.1357 - val_mse: 0.0291\n",
      "Epoch 146/200\n",
      "8/8 [==============================] - 0s 6ms/step - loss: 0.1278 - mse: 0.0327 - val_loss: 0.1172 - val_mse: 0.0219\n",
      "Epoch 147/200\n",
      "8/8 [==============================] - 0s 6ms/step - loss: 0.1312 - mse: 0.0299 - val_loss: 0.1344 - val_mse: 0.0253\n",
      "Epoch 148/200\n",
      "8/8 [==============================] - 0s 6ms/step - loss: 0.1178 - mse: 0.0245 - val_loss: 0.1307 - val_mse: 0.0277\n",
      "Epoch 149/200\n",
      "8/8 [==============================] - 0s 6ms/step - loss: 0.1167 - mse: 0.0295 - val_loss: 0.1289 - val_mse: 0.0268\n",
      "Epoch 150/200\n",
      "8/8 [==============================] - 0s 6ms/step - loss: 0.1116 - mse: 0.0247 - val_loss: 0.1300 - val_mse: 0.0270\n",
      "Epoch 151/200\n",
      "8/8 [==============================] - ETA: 0s - loss: 0.2342 - mse: 0.080 - 0s 6ms/step - loss: 0.1453 - mse: 0.0385 - val_loss: 0.1364 - val_mse: 0.0293\n",
      "Epoch 152/200\n",
      "8/8 [==============================] - 0s 6ms/step - loss: 0.1277 - mse: 0.0316 - val_loss: 0.1356 - val_mse: 0.0292\n",
      "Epoch 153/200\n",
      "8/8 [==============================] - 0s 6ms/step - loss: 0.1163 - mse: 0.0238 - val_loss: 0.1333 - val_mse: 0.0254\n",
      "Epoch 154/200\n",
      "8/8 [==============================] - 0s 6ms/step - loss: 0.1266 - mse: 0.0280 - val_loss: 0.1332 - val_mse: 0.0255\n",
      "Epoch 155/200\n",
      "8/8 [==============================] - 0s 6ms/step - loss: 0.1145 - mse: 0.0213 - val_loss: 0.1293 - val_mse: 0.0244\n",
      "Epoch 156/200\n",
      "8/8 [==============================] - 0s 6ms/step - loss: 0.1325 - mse: 0.0330 - val_loss: 0.1325 - val_mse: 0.0259\n",
      "Epoch 157/200\n",
      "8/8 [==============================] - 0s 6ms/step - loss: 0.1215 - mse: 0.0252 - val_loss: 0.1390 - val_mse: 0.0267\n",
      "Epoch 158/200\n",
      "8/8 [==============================] - 0s 6ms/step - loss: 0.1391 - mse: 0.0327 - val_loss: 0.1365 - val_mse: 0.0261\n",
      "Epoch 159/200\n",
      "8/8 [==============================] - 0s 6ms/step - loss: 0.1323 - mse: 0.0283 - val_loss: 0.1388 - val_mse: 0.0276\n",
      "Epoch 160/200\n",
      "8/8 [==============================] - 0s 6ms/step - loss: 0.1292 - mse: 0.0274 - val_loss: 0.1391 - val_mse: 0.0291\n",
      "Epoch 161/200\n",
      "8/8 [==============================] - 0s 6ms/step - loss: 0.1611 - mse: 0.0421 - val_loss: 0.1290 - val_mse: 0.0266\n",
      "Epoch 162/200\n",
      "8/8 [==============================] - 0s 6ms/step - loss: 0.1117 - mse: 0.0226 - val_loss: 0.1230 - val_mse: 0.0228\n",
      "Epoch 163/200\n",
      "8/8 [==============================] - 0s 6ms/step - loss: 0.1444 - mse: 0.0336 - val_loss: 0.1186 - val_mse: 0.0241\n",
      "Epoch 164/200\n",
      "8/8 [==============================] - 0s 6ms/step - loss: 0.1389 - mse: 0.0383 - val_loss: 0.1258 - val_mse: 0.0238\n",
      "Epoch 165/200\n",
      "8/8 [==============================] - 0s 6ms/step - loss: 0.1325 - mse: 0.0304 - val_loss: 0.1303 - val_mse: 0.0248\n",
      "Epoch 166/200\n",
      "8/8 [==============================] - 0s 6ms/step - loss: 0.1296 - mse: 0.0289 - val_loss: 0.1268 - val_mse: 0.0242\n",
      "Epoch 167/200\n",
      "8/8 [==============================] - 0s 6ms/step - loss: 0.1370 - mse: 0.0326 - val_loss: 0.1218 - val_mse: 0.0231\n",
      "Epoch 168/200\n",
      "8/8 [==============================] - 0s 6ms/step - loss: 0.1403 - mse: 0.0312 - val_loss: 0.1163 - val_mse: 0.0215\n",
      "Epoch 169/200\n",
      "8/8 [==============================] - 0s 6ms/step - loss: 0.1444 - mse: 0.0343 - val_loss: 0.1306 - val_mse: 0.0279\n",
      "Epoch 170/200\n",
      "8/8 [==============================] - 0s 6ms/step - loss: 0.1532 - mse: 0.0370 - val_loss: 0.1486 - val_mse: 0.0302\n",
      "Epoch 171/200\n",
      "8/8 [==============================] - 0s 6ms/step - loss: 0.1464 - mse: 0.0324 - val_loss: 0.1448 - val_mse: 0.0292\n",
      "Epoch 172/200\n",
      "8/8 [==============================] - 0s 6ms/step - loss: 0.1256 - mse: 0.0281 - val_loss: 0.1397 - val_mse: 0.0297\n",
      "Epoch 173/200\n",
      "8/8 [==============================] - 0s 6ms/step - loss: 0.1316 - mse: 0.0320 - val_loss: 0.1315 - val_mse: 0.0265\n"
     ]
    },
    {
     "name": "stdout",
     "output_type": "stream",
     "text": [
      "Epoch 174/200\n",
      "8/8 [==============================] - 0s 6ms/step - loss: 0.1570 - mse: 0.0350 - val_loss: 0.1178 - val_mse: 0.0217\n",
      "Epoch 175/200\n",
      "8/8 [==============================] - 0s 6ms/step - loss: 0.1296 - mse: 0.0325 - val_loss: 0.1124 - val_mse: 0.0206\n",
      "Epoch 176/200\n",
      "8/8 [==============================] - 0s 6ms/step - loss: 0.1272 - mse: 0.0252 - val_loss: 0.1240 - val_mse: 0.0230\n",
      "Epoch 177/200\n",
      "8/8 [==============================] - 0s 6ms/step - loss: 0.1156 - mse: 0.0279 - val_loss: 0.1263 - val_mse: 0.0250\n",
      "Epoch 178/200\n",
      "8/8 [==============================] - 0s 6ms/step - loss: 0.1393 - mse: 0.0348 - val_loss: 0.1371 - val_mse: 0.0295\n",
      "Epoch 179/200\n",
      "8/8 [==============================] - 0s 6ms/step - loss: 0.1264 - mse: 0.0312 - val_loss: 0.1401 - val_mse: 0.0300\n",
      "Epoch 180/200\n",
      "8/8 [==============================] - 0s 6ms/step - loss: 0.1061 - mse: 0.0195 - val_loss: 0.1435 - val_mse: 0.0287\n",
      "Epoch 181/200\n",
      "8/8 [==============================] - 0s 6ms/step - loss: 0.1391 - mse: 0.0351 - val_loss: 0.1352 - val_mse: 0.0277\n",
      "Epoch 182/200\n",
      "8/8 [==============================] - ETA: 0s - loss: 0.1921 - mse: 0.047 - 0s 6ms/step - loss: 0.1573 - mse: 0.0393 - val_loss: 0.1408 - val_mse: 0.0321\n",
      "Epoch 183/200\n",
      "8/8 [==============================] - ETA: 0s - loss: 0.1311 - mse: 0.025 - 0s 6ms/step - loss: 0.1347 - mse: 0.0308 - val_loss: 0.1284 - val_mse: 0.0252\n",
      "Epoch 184/200\n",
      "8/8 [==============================] - 0s 6ms/step - loss: 0.1403 - mse: 0.0291 - val_loss: 0.1330 - val_mse: 0.0280\n",
      "Epoch 185/200\n",
      "8/8 [==============================] - 0s 7ms/step - loss: 0.1556 - mse: 0.0453 - val_loss: 0.1309 - val_mse: 0.0244\n",
      "Epoch 186/200\n",
      "8/8 [==============================] - 0s 6ms/step - loss: 0.1007 - mse: 0.0220 - val_loss: 0.1365 - val_mse: 0.0293\n",
      "Epoch 187/200\n",
      "8/8 [==============================] - 0s 6ms/step - loss: 0.1351 - mse: 0.0317 - val_loss: 0.1372 - val_mse: 0.0285\n",
      "Epoch 188/200\n",
      "8/8 [==============================] - 0s 6ms/step - loss: 0.1314 - mse: 0.0271 - val_loss: 0.1343 - val_mse: 0.0265\n",
      "Epoch 189/200\n",
      "8/8 [==============================] - 0s 6ms/step - loss: 0.1399 - mse: 0.0362 - val_loss: 0.1197 - val_mse: 0.0225\n",
      "Epoch 190/200\n",
      "8/8 [==============================] - 0s 6ms/step - loss: 0.1390 - mse: 0.0315 - val_loss: 0.1177 - val_mse: 0.0230\n",
      "Epoch 191/200\n",
      "8/8 [==============================] - 0s 6ms/step - loss: 0.1231 - mse: 0.0255 - val_loss: 0.1222 - val_mse: 0.0239\n",
      "Epoch 192/200\n",
      "8/8 [==============================] - 0s 6ms/step - loss: 0.1055 - mse: 0.0211 - val_loss: 0.1350 - val_mse: 0.0266\n",
      "Epoch 193/200\n",
      "8/8 [==============================] - 0s 6ms/step - loss: 0.1206 - mse: 0.0250 - val_loss: 0.1438 - val_mse: 0.0285\n",
      "Epoch 194/200\n",
      "8/8 [==============================] - 0s 6ms/step - loss: 0.1387 - mse: 0.0367 - val_loss: 0.1396 - val_mse: 0.0276\n",
      "Epoch 195/200\n",
      "8/8 [==============================] - 0s 6ms/step - loss: 0.1099 - mse: 0.0221 - val_loss: 0.1380 - val_mse: 0.0272\n",
      "Epoch 196/200\n",
      "8/8 [==============================] - 0s 6ms/step - loss: 0.1319 - mse: 0.0365 - val_loss: 0.1295 - val_mse: 0.0267\n",
      "Epoch 197/200\n",
      "8/8 [==============================] - 0s 6ms/step - loss: 0.1066 - mse: 0.0203 - val_loss: 0.1308 - val_mse: 0.0276\n",
      "Epoch 198/200\n",
      "8/8 [==============================] - 0s 6ms/step - loss: 0.1361 - mse: 0.0335 - val_loss: 0.1382 - val_mse: 0.0276\n",
      "Epoch 199/200\n",
      "8/8 [==============================] - 0s 6ms/step - loss: 0.1205 - mse: 0.0241 - val_loss: 0.1286 - val_mse: 0.0274\n",
      "Epoch 200/200\n",
      "8/8 [==============================] - 0s 6ms/step - loss: 0.1282 - mse: 0.0365 - val_loss: 0.1307 - val_mse: 0.0276\n"
     ]
    }
   ],
   "source": [
    "EPOCHS=200\n",
    "\n",
    "model = crear_modeloFF()\n",
    "\n",
    "history=model.fit(x_train,y_train,epochs=EPOCHS,validation_data=(x_val,y_val),batch_size=look_back)"
   ]
  },
  {
   "cell_type": "markdown",
   "metadata": {},
   "source": [
    "# Visualizamos resultados"
   ]
  },
  {
   "cell_type": "code",
   "execution_count": 24,
   "metadata": {},
   "outputs": [],
   "source": [
    "def mape(actual, pred): \n",
    "    actual, pred = np.array(actual), np.array(pred)\n",
    "    return np.mean(np.abs((actual - pred) / actual)) * 100\n",
    "\n",
    "\n",
    "def compute_metrics_fn(y_valid_resc, y_hat_resc):\n",
    "    mae_ = mean_absolute_error(y_valid_resc, y_hat_resc)\n",
    "    mse_ = mean_squared_error(y_valid_resc, y_hat_resc)\n",
    "    rmse_ = mean_squared_error(y_valid_resc, y_hat_resc, squared = False)\n",
    "    cvrmse_ = rmse_/np.mean(y_valid_resc)*100\n",
    "    mape_ = mape(y_valid_resc, y_hat_resc)\n",
    "    \n",
    "    return mae_, mse_, rmse_, cvrmse_, mape_"
   ]
  },
  {
   "cell_type": "code",
   "execution_count": 25,
   "metadata": {},
   "outputs": [],
   "source": [
    "# hacemos las predicciones\n",
    "trainPredict = model.predict(x_train)\n",
    "testPredict = model.predict(x_val)\n",
    "\n",
    "# invertimos las predicciones\n",
    "trainPredict = scaler.inverse_transform(trainPredict)\n",
    "trainY = y_train.reshape(y_train.shape[0], 1)\n",
    "trainY_scalerInverse = scaler.inverse_transform(trainY)\n",
    "testPredict = scaler.inverse_transform(testPredict)\n",
    "testY = y_val.reshape(y_val.shape[0], 1)\n",
    "testY_scalerInverse = scaler.inverse_transform(testY)"
   ]
  },
  {
   "cell_type": "code",
   "execution_count": 26,
   "metadata": {},
   "outputs": [
    {
     "name": "stdout",
     "output_type": "stream",
     "text": [
      "Resultado del entrenamiento: 195670.42 MAE\n",
      "Resultado del entrenamiento: 90628128768.00 MSE\n",
      "Resultado del entrenamiento: 301045.06 RMSE\n",
      "Resultado del entrenamiento: 9.75 CVRMSE\n",
      "Resultado del entrenamiento: 7.43 MAPE \n",
      "\n",
      "Resultado del test: 260422.50 MAE\n",
      "Resultado del test: 109483868160.00 MSE\n",
      "Resultado del test: 330883.47 RMSE\n",
      "Resultado del test: 6.86 CVRMSE\n",
      "Resultado del test: 5.71 MAPE\n"
     ]
    }
   ],
   "source": [
    "# calculamos las metricas de error\n",
    "trainScore_MAE, trainScore_MSE, trainScore_RMSE, trainScore_CVRMSE, trainScore_MAPE  =  compute_metrics_fn(trainY_scalerInverse, trainPredict)\n",
    "print('Resultado del entrenamiento: %.2f MAE' % (trainScore_MAE))\n",
    "print('Resultado del entrenamiento: %.2f MSE' % (trainScore_MSE))\n",
    "print('Resultado del entrenamiento: %.2f RMSE' % (trainScore_RMSE))\n",
    "print('Resultado del entrenamiento: %.2f CVRMSE' % (trainScore_CVRMSE))\n",
    "print('Resultado del entrenamiento: %.2f MAPE \\n' % (trainScore_MAPE))\n",
    "\n",
    "testScore_MAE, testScore_MSE, testScore_RMSE, testScore_CVRMSE, testScore_MAPE  =  compute_metrics_fn(testY_scalerInverse, testPredict)\n",
    "print('Resultado del test: %.2f MAE' % (testScore_MAE))\n",
    "print('Resultado del test: %.2f MSE' % (testScore_MSE))\n",
    "print('Resultado del test: %.2f RMSE' % (testScore_RMSE))\n",
    "print('Resultado del test: %.2f CVRMSE' % (testScore_CVRMSE))\n",
    "print('Resultado del test: %.2f MAPE' % (testScore_MAPE))"
   ]
  },
  {
   "cell_type": "code",
   "execution_count": 27,
   "metadata": {},
   "outputs": [
    {
     "data": {
      "image/png": "[encoded data removed]",
      "text/plain": [
       "<Figure size 432x288 with 1 Axes>"
      ]
     },
     "metadata": {
      "needs_background": "light"
     },
     "output_type": "display_data"
    }
   ],
   "source": [
    "plt.plot(df_ine.values)\n",
    "plt.grid(True)\n",
    "plt.title(\"Viajes totales según el INE\", fontsize = 15)\n",
    "plt.xlabel(\"Tiempo (dias)\", fontsize = 10)\n",
    "plt.ylabel(\"viajes\", fontsize = 10)\n",
    "plt.show()"
   ]
  },
  {
   "cell_type": "code",
   "execution_count": 28,
   "metadata": {},
   "outputs": [
    {
     "data": {
      "image/png": "[encoded data removed]",
      "text/plain": [
       "<Figure size 432x288 with 1 Axes>"
      ]
     },
     "metadata": {
      "needs_background": "light"
     },
     "output_type": "display_data"
    }
   ],
   "source": [
    "plt.plot(df_twt.values)\n",
    "plt.grid(True)\n",
    "plt.title(\"Viajes totales según TWT\", fontsize = 15)\n",
    "plt.xlabel(\"Tiempo (dias)\", fontsize = 10)\n",
    "plt.ylabel(\"viajes\", fontsize = 10)\n",
    "plt.show()"
   ]
  },
  {
   "cell_type": "code",
   "execution_count": 29,
   "metadata": {},
   "outputs": [
    {
     "data": {
      "image/png": "[encoded data removed]",
      "text/plain": [
       "<Figure size 432x288 with 1 Axes>"
      ]
     },
     "metadata": {
      "needs_background": "light"
     },
     "output_type": "display_data"
    }
   ],
   "source": [
    "dataset = df_ine.values\n",
    "dataset = dataset.astype('float32')\n",
    "# predicciones del entrenamiento de cambio para plotear\n",
    "trainPredictPlot = np.empty_like(dataset)\n",
    "trainPredictPlot[:, :] = np.nan\n",
    "trainPredictPlot[look_back:len(trainPredict)+look_back, :] = trainPredict\n",
    "# predicciones del test de cambio para plotear\n",
    "testPredictPlot = np.empty_like(dataset)\n",
    "testPredictPlot[:, :] = np.nan\n",
    "testPredictPlot[len(trainPredict)+(look_back):len(dataset), :] = testPredict\n",
    "# plot baseline and predictions\n",
    "plt.plot(df_ine.values)\n",
    "# ploteamos linea base y predicciones\n",
    "plt.plot(trainPredictPlot,'r', linewidth = 2)\n",
    "plt.plot(testPredictPlot,'m', linewidth = 2)\n",
    "plt.legend( ('Datos', 'Prediccion datos entramiento', 'Prediccion sobre los datos de test'), loc = 'upper left')\n",
    "plt.grid(True)\n",
    "plt.title(\"Viajes totales\", fontsize = 15)\n",
    "plt.xlabel(\"Tiempo (dias)\", fontsize = 10)\n",
    "plt.ylabel(\"viajes\", fontsize = 10)\n",
    "plt.show()"
   ]
  },
  {
   "cell_type": "code",
   "execution_count": 30,
   "metadata": {},
   "outputs": [
    {
     "data": {
      "image/png": "[encoded data removed]",
      "text/plain": [
       "<Figure size 432x288 with 1 Axes>"
      ]
     },
     "metadata": {
      "needs_background": "light"
     },
     "output_type": "display_data"
    }
   ],
   "source": [
    "results=model.predict(x_val)\n",
    "\n",
    "plt.scatter(range(len(y_val)),y_val,c='g')\n",
    "plt.scatter(range(len(results)),results,c='r')\n",
    "plt.title('validate')\n",
    "plt.show()"
   ]
  },
  {
   "cell_type": "code",
   "execution_count": 31,
   "metadata": {},
   "outputs": [
    {
     "data": {
      "image/png": "[encoded data removed]",
      "text/plain": [
       "<Figure size 432x288 with 1 Axes>"
      ]
     },
     "metadata": {
      "needs_background": "light"
     },
     "output_type": "display_data"
    }
   ],
   "source": [
    "plt.plot(history.history['loss'])\n",
    "plt.plot(history.history['val_loss'])\n",
    "plt.title('loss')\n",
    "plt.grid() #dibuja una malla, probar mas tarde\n",
    "plt.legend( ('training loss', 'validate loss'), loc = 'upper right')\n",
    "plt.show()"
   ]
  },
  {
   "cell_type": "markdown",
   "metadata": {},
   "source": [
    "# Prediccion a futuro"
   ]
  },
  {
   "cell_type": "code",
   "execution_count": 32,
   "metadata": {},
   "outputs": [
    {
     "data": {
      "text/html": [
       "<div>\n",
       "<style scoped>\n",
       "    .dataframe tbody tr th:only-of-type {\n",
       "        vertical-align: middle;\n",
       "    }\n",
       "\n",
       "    .dataframe tbody tr th {\n",
       "        vertical-align: top;\n",
       "    }\n",
       "\n",
       "    .dataframe thead th {\n",
       "        text-align: right;\n",
       "    }\n",
       "</style>\n",
       "<table border=\"1\" class=\"dataframe\">\n",
       "  <thead>\n",
       "    <tr style=\"text-align: right;\">\n",
       "      <th></th>\n",
       "      <th>Viajes</th>\n",
       "    </tr>\n",
       "  </thead>\n",
       "  <tbody>\n",
       "    <tr>\n",
       "      <th>2020-06-07</th>\n",
       "      <td>3420</td>\n",
       "    </tr>\n",
       "    <tr>\n",
       "      <th>2020-06-08</th>\n",
       "      <td>3845</td>\n",
       "    </tr>\n",
       "    <tr>\n",
       "      <th>2020-06-09</th>\n",
       "      <td>4057</td>\n",
       "    </tr>\n",
       "    <tr>\n",
       "      <th>2020-06-10</th>\n",
       "      <td>3699</td>\n",
       "    </tr>\n",
       "    <tr>\n",
       "      <th>2020-06-11</th>\n",
       "      <td>4218</td>\n",
       "    </tr>\n",
       "    <tr>\n",
       "      <th>2020-06-12</th>\n",
       "      <td>4377</td>\n",
       "    </tr>\n",
       "    <tr>\n",
       "      <th>2020-06-13</th>\n",
       "      <td>4446</td>\n",
       "    </tr>\n",
       "    <tr>\n",
       "      <th>2020-06-14</th>\n",
       "      <td>4139</td>\n",
       "    </tr>\n",
       "    <tr>\n",
       "      <th>2020-06-15</th>\n",
       "      <td>3676</td>\n",
       "    </tr>\n",
       "    <tr>\n",
       "      <th>2020-06-16</th>\n",
       "      <td>3671</td>\n",
       "    </tr>\n",
       "    <tr>\n",
       "      <th>2020-06-17</th>\n",
       "      <td>3694</td>\n",
       "    </tr>\n",
       "    <tr>\n",
       "      <th>2020-06-18</th>\n",
       "      <td>4375</td>\n",
       "    </tr>\n",
       "    <tr>\n",
       "      <th>2020-06-19</th>\n",
       "      <td>4738</td>\n",
       "    </tr>\n",
       "    <tr>\n",
       "      <th>2020-06-20</th>\n",
       "      <td>2006</td>\n",
       "    </tr>\n",
       "  </tbody>\n",
       "</table>\n",
       "</div>"
      ],
      "text/plain": [
       "            Viajes\n",
       "2020-06-07    3420\n",
       "2020-06-08    3845\n",
       "2020-06-09    4057\n",
       "2020-06-10    3699\n",
       "2020-06-11    4218\n",
       "2020-06-12    4377\n",
       "2020-06-13    4446\n",
       "2020-06-14    4139\n",
       "2020-06-15    3676\n",
       "2020-06-16    3671\n",
       "2020-06-17    3694\n",
       "2020-06-18    4375\n",
       "2020-06-19    4738\n",
       "2020-06-20    2006"
      ]
     },
     "execution_count": 32,
     "metadata": {},
     "output_type": "execute_result"
    }
   ],
   "source": [
    "# usaremos los 14 ultimos dias del confinamiento en junio para predecir como habrian sido los dias del 21 al 27 en caso de que\n",
    "# el confinamiento se hubiese alargado por una semana mas\n",
    "\n",
    "ultimosDias_twt = df_twt['2020-6-7':'2020-6-20']\n",
    "ultimosDias_ine = df_ine['2020-6-7':'2020-6-20']\n",
    "ultimosDias_twt"
   ]
  },
  {
   "cell_type": "markdown",
   "metadata": {},
   "source": [
    "# Preparamos los datos para el test"
   ]
  },
  {
   "cell_type": "code",
   "execution_count": 33,
   "metadata": {},
   "outputs": [
    {
     "data": {
      "text/html": [
       "<div>\n",
       "<style scoped>\n",
       "    .dataframe tbody tr th:only-of-type {\n",
       "        vertical-align: middle;\n",
       "    }\n",
       "\n",
       "    .dataframe tbody tr th {\n",
       "        vertical-align: top;\n",
       "    }\n",
       "\n",
       "    .dataframe thead th {\n",
       "        text-align: right;\n",
       "    }\n",
       "</style>\n",
       "<table border=\"1\" class=\"dataframe\">\n",
       "  <thead>\n",
       "    <tr style=\"text-align: right;\">\n",
       "      <th></th>\n",
       "      <th>var1(t-7)</th>\n",
       "      <th>var2(t-7)</th>\n",
       "      <th>var1(t-6)</th>\n",
       "      <th>var2(t-6)</th>\n",
       "      <th>var1(t-5)</th>\n",
       "      <th>var2(t-5)</th>\n",
       "      <th>var1(t-4)</th>\n",
       "      <th>var2(t-4)</th>\n",
       "      <th>var1(t-3)</th>\n",
       "      <th>var2(t-3)</th>\n",
       "      <th>var1(t-2)</th>\n",
       "      <th>var2(t-2)</th>\n",
       "      <th>var1(t-1)</th>\n",
       "      <th>var2(t-1)</th>\n",
       "    </tr>\n",
       "  </thead>\n",
       "  <tbody>\n",
       "    <tr>\n",
       "      <th>7</th>\n",
       "      <td>0.035139</td>\n",
       "      <td>-1.000000</td>\n",
       "      <td>0.346267</td>\n",
       "      <td>0.002901</td>\n",
       "      <td>0.501464</td>\n",
       "      <td>0.018846</td>\n",
       "      <td>0.239385</td>\n",
       "      <td>0.796266</td>\n",
       "      <td>0.619327</td>\n",
       "      <td>0.699721</td>\n",
       "      <td>0.735725</td>\n",
       "      <td>0.713258</td>\n",
       "      <td>0.786237</td>\n",
       "      <td>-0.012126</td>\n",
       "    </tr>\n",
       "    <tr>\n",
       "      <th>8</th>\n",
       "      <td>0.346267</td>\n",
       "      <td>0.002901</td>\n",
       "      <td>0.501464</td>\n",
       "      <td>0.018846</td>\n",
       "      <td>0.239385</td>\n",
       "      <td>0.796266</td>\n",
       "      <td>0.619327</td>\n",
       "      <td>0.699721</td>\n",
       "      <td>0.735725</td>\n",
       "      <td>0.713258</td>\n",
       "      <td>0.786237</td>\n",
       "      <td>-0.012126</td>\n",
       "      <td>0.561494</td>\n",
       "      <td>-0.664099</td>\n",
       "    </tr>\n",
       "    <tr>\n",
       "      <th>9</th>\n",
       "      <td>0.501464</td>\n",
       "      <td>0.018846</td>\n",
       "      <td>0.239385</td>\n",
       "      <td>0.796266</td>\n",
       "      <td>0.619327</td>\n",
       "      <td>0.699721</td>\n",
       "      <td>0.735725</td>\n",
       "      <td>0.713258</td>\n",
       "      <td>0.786237</td>\n",
       "      <td>-0.012126</td>\n",
       "      <td>0.561494</td>\n",
       "      <td>-0.664099</td>\n",
       "      <td>0.222548</td>\n",
       "      <td>0.485206</td>\n",
       "    </tr>\n",
       "    <tr>\n",
       "      <th>10</th>\n",
       "      <td>0.239385</td>\n",
       "      <td>0.796266</td>\n",
       "      <td>0.619327</td>\n",
       "      <td>0.699721</td>\n",
       "      <td>0.735725</td>\n",
       "      <td>0.713258</td>\n",
       "      <td>0.786237</td>\n",
       "      <td>-0.012126</td>\n",
       "      <td>0.561494</td>\n",
       "      <td>-0.664099</td>\n",
       "      <td>0.222548</td>\n",
       "      <td>0.485206</td>\n",
       "      <td>0.218887</td>\n",
       "      <td>0.801405</td>\n",
       "    </tr>\n",
       "    <tr>\n",
       "      <th>11</th>\n",
       "      <td>0.619327</td>\n",
       "      <td>0.699721</td>\n",
       "      <td>0.735725</td>\n",
       "      <td>0.713258</td>\n",
       "      <td>0.786237</td>\n",
       "      <td>-0.012126</td>\n",
       "      <td>0.561494</td>\n",
       "      <td>-0.664099</td>\n",
       "      <td>0.222548</td>\n",
       "      <td>0.485206</td>\n",
       "      <td>0.218887</td>\n",
       "      <td>0.801405</td>\n",
       "      <td>0.235725</td>\n",
       "      <td>0.855810</td>\n",
       "    </tr>\n",
       "    <tr>\n",
       "      <th>12</th>\n",
       "      <td>0.735725</td>\n",
       "      <td>0.713258</td>\n",
       "      <td>0.786237</td>\n",
       "      <td>-0.012126</td>\n",
       "      <td>0.561494</td>\n",
       "      <td>-0.664099</td>\n",
       "      <td>0.222548</td>\n",
       "      <td>0.485206</td>\n",
       "      <td>0.218887</td>\n",
       "      <td>0.801405</td>\n",
       "      <td>0.235725</td>\n",
       "      <td>0.855810</td>\n",
       "      <td>0.734261</td>\n",
       "      <td>0.924364</td>\n",
       "    </tr>\n",
       "    <tr>\n",
       "      <th>13</th>\n",
       "      <td>0.786237</td>\n",
       "      <td>-0.012126</td>\n",
       "      <td>0.561494</td>\n",
       "      <td>-0.664099</td>\n",
       "      <td>0.222548</td>\n",
       "      <td>0.485206</td>\n",
       "      <td>0.218887</td>\n",
       "      <td>0.801405</td>\n",
       "      <td>0.235725</td>\n",
       "      <td>0.855810</td>\n",
       "      <td>0.734261</td>\n",
       "      <td>0.924364</td>\n",
       "      <td>1.000000</td>\n",
       "      <td>1.000000</td>\n",
       "    </tr>\n",
       "  </tbody>\n",
       "</table>\n",
       "</div>"
      ],
      "text/plain": [
       "    var1(t-7)  var2(t-7)  var1(t-6)  var2(t-6)  var1(t-5)  var2(t-5)  \\\n",
       "7    0.035139  -1.000000   0.346267   0.002901   0.501464   0.018846   \n",
       "8    0.346267   0.002901   0.501464   0.018846   0.239385   0.796266   \n",
       "9    0.501464   0.018846   0.239385   0.796266   0.619327   0.699721   \n",
       "10   0.239385   0.796266   0.619327   0.699721   0.735725   0.713258   \n",
       "11   0.619327   0.699721   0.735725   0.713258   0.786237  -0.012126   \n",
       "12   0.735725   0.713258   0.786237  -0.012126   0.561494  -0.664099   \n",
       "13   0.786237  -0.012126   0.561494  -0.664099   0.222548   0.485206   \n",
       "\n",
       "    var1(t-4)  var2(t-4)  var1(t-3)  var2(t-3)  var1(t-2)  var2(t-2)  \\\n",
       "7    0.239385   0.796266   0.619327   0.699721   0.735725   0.713258   \n",
       "8    0.619327   0.699721   0.735725   0.713258   0.786237  -0.012126   \n",
       "9    0.735725   0.713258   0.786237  -0.012126   0.561494  -0.664099   \n",
       "10   0.786237  -0.012126   0.561494  -0.664099   0.222548   0.485206   \n",
       "11   0.561494  -0.664099   0.222548   0.485206   0.218887   0.801405   \n",
       "12   0.222548   0.485206   0.218887   0.801405   0.235725   0.855810   \n",
       "13   0.218887   0.801405   0.235725   0.855810   0.734261   0.924364   \n",
       "\n",
       "    var1(t-1)  var2(t-1)  \n",
       "7    0.786237  -0.012126  \n",
       "8    0.561494  -0.664099  \n",
       "9    0.222548   0.485206  \n",
       "10   0.218887   0.801405  \n",
       "11   0.235725   0.855810  \n",
       "12   0.734261   0.924364  \n",
       "13   1.000000   1.000000  "
      ]
     },
     "execution_count": 33,
     "metadata": {},
     "output_type": "execute_result"
    }
   ],
   "source": [
    "# cargamos el dataframe en la variable values\n",
    "values_twt = ultimosDias_twt.values\n",
    "values_ine = ultimosDias_ine.values\n",
    "\n",
    "# convertimos los enteros en floats\n",
    "values_twt = values_twt.astype('float32')\n",
    "values_ine = values_ine.astype('float32')\n",
    "\n",
    "# normalizamos los datos a escala de entre -1 y 1\n",
    "values_twt =values_twt.reshape(-1, 1)\n",
    "scaled_twt = scaler.fit_transform(values_twt)\n",
    "values_ine =values_ine.reshape(-1, 1) # esto lo hacemos porque tenemos 1 sola dimension\n",
    "scaled_ine = scaler.fit_transform(values_ine)\n",
    "\n",
    "# usamos la funcion definida previamente\n",
    "reframed_twt = series_to_supervised(scaled_twt, look_back, 1)\n",
    "reframed_ine = series_to_supervised(scaled_ine, look_back, 1)\n",
    "\n",
    "# eliminamos la ultima columna pues es parte de lo que queremos hayar\n",
    "reframed_twt.drop(reframed_twt.columns[[7]], inplace=True, axis=1)\n",
    "reframed_ine.drop(reframed_ine.columns[[7]], inplace=True, axis=1)\n",
    "\n",
    "#unimos los dataframes\n",
    "reframed_ine.columns = ['var2(t-7)', 'var2(t-6)', 'var2(t-5)', 'var2(t-4)', 'var2(t-3)', 'var2(t-2)', 'var2(t-1)']\n",
    "reframed = pd.concat([reframed_twt.iloc[:, 0], reframed_ine.iloc[:, 0]], axis=1)\n",
    "\n",
    "for i in range(6):\n",
    "    reframed = pd.concat([reframed, reframed_twt.iloc[:, i+1]], axis=1)\n",
    "    reframed = pd.concat([reframed, reframed_ine.iloc[:, i+1]], axis=1)\n",
    "\n",
    "#mostramos el set de entrenamiento\n",
    "reframed.head(7)"
   ]
  },
  {
   "cell_type": "code",
   "execution_count": 34,
   "metadata": {},
   "outputs": [
    {
     "name": "stdout",
     "output_type": "stream",
     "text": [
      "(1, 1, 14)\n"
     ]
    },
    {
     "data": {
      "text/plain": [
       "array([[[ 0.78623724, -0.01212597,  0.56149364, -0.6640985 ,\n",
       "          0.22254777,  0.48520565,  0.21888733,  0.80140543,\n",
       "          0.23572493,  0.8558097 ,  0.7342608 ,  0.9243636 ,\n",
       "          1.        ,  1.        ]]], dtype=float32)"
      ]
     },
     "execution_count": 34,
     "metadata": {},
     "output_type": "execute_result"
    }
   ],
   "source": [
    "values = reframed.values\n",
    "\n",
    "#tomamos los valores para realizar el test\n",
    "x_test = values[6:, :]\n",
    "\n",
    "# reshape input to be 3D [samples, timesteps, features] - preguntar\n",
    "x_test = x_test.reshape((x_test.shape[0], 1, x_test.shape[1]))\n",
    "print(x_test.shape)\n",
    "x_test"
   ]
  },
  {
   "cell_type": "code",
   "execution_count": 35,
   "metadata": {},
   "outputs": [],
   "source": [
    "#definimos la funcion para realizar el desplazamiento que se hara en el array cada prediccion pues para hacer\n",
    "#la siguiente prediccion eliminamos el dia mas antiguo, desplazamos un lugar el resto de dias y añadimos el ultimo dia que\n",
    "#se ha predecido, esto es por que para predecir un dia se usan los 7 dias previos\n",
    "\n",
    "def agregarNuevoValor(x_test,nuevoValor):\n",
    "    for i in range(x_test.shape[2]-1):\n",
    "        x_test[0][0][i] = x_test[0][0][i+1]\n",
    "    x_test[0][0][x_test.shape[2]-1]=nuevoValor\n",
    "    return x_test"
   ]
  },
  {
   "cell_type": "markdown",
   "metadata": {},
   "source": [
    "# Predicciones para la proxima semana"
   ]
  },
  {
   "cell_type": "code",
   "execution_count": 36,
   "metadata": {},
   "outputs": [
    {
     "name": "stdout",
     "output_type": "stream",
     "text": [
      "[[[ 0.78623724 -0.01212597  0.56149364 -0.6640985   0.22254777\n",
      "    0.48520565  0.21888733  0.80140543  0.23572493  0.8558097\n",
      "    0.7342608   0.9243636   1.          1.        ]]]\n",
      "[[[-0.01212597  0.56149364 -0.6640985   0.22254777  0.48520565\n",
      "    0.21888733  0.80140543  0.23572493  0.8558097   0.7342608\n",
      "    0.9243636   1.          1.          0.03519651]]]\n",
      "[[[ 0.56149364 -0.6640985   0.22254777  0.48520565  0.21888733\n",
      "    0.80140543  0.23572493  0.8558097   0.7342608   0.9243636\n",
      "    1.          1.          0.03519651  0.76948816]]]\n",
      "[[[-0.6640985   0.22254777  0.48520565  0.21888733  0.80140543\n",
      "    0.23572493  0.8558097   0.7342608   0.9243636   1.\n",
      "    1.          0.03519651  0.76948816 -0.77728593]]]\n",
      "[[[ 0.22254777  0.48520565  0.21888733  0.80140543  0.23572493\n",
      "    0.8558097   0.7342608   0.9243636   1.          1.\n",
      "    0.03519651  0.76948816 -0.77728593  0.85015184]]]\n",
      "[[[ 0.48520565  0.21888733  0.80140543  0.23572493  0.8558097\n",
      "    0.7342608   0.9243636   1.          1.          0.03519651\n",
      "    0.76948816 -0.77728593  0.85015184 -0.6291708 ]]]\n",
      "[[[ 0.21888733  0.80140543  0.23572493  0.8558097   0.7342608\n",
      "    0.9243636   1.          1.          0.03519651  0.76948816\n",
      "   -0.77728593  0.85015184 -0.6291708   0.8708747 ]]]\n"
     ]
    }
   ],
   "source": [
    "results=[]\n",
    "for i in range(7):\n",
    "    parcial=model.predict(x_test)\n",
    "    results.append(parcial[0])\n",
    "    print(x_test)\n",
    "    x_test=agregarNuevoValor(x_test,parcial[0])"
   ]
  },
  {
   "cell_type": "markdown",
   "metadata": {},
   "source": [
    "# Re-Convertimos los resultados"
   ]
  },
  {
   "cell_type": "code",
   "execution_count": 37,
   "metadata": {},
   "outputs": [
    {
     "name": "stdout",
     "output_type": "stream",
     "text": [
      "[array([0.03519651], dtype=float32), array([0.76948816], dtype=float32), array([-0.77728593], dtype=float32), array([0.85015184], dtype=float32), array([-0.6291708], dtype=float32), array([0.8708747], dtype=float32), array([-0.8209985], dtype=float32)]\n"
     ]
    },
    {
     "data": {
      "text/plain": [
       "array([[4495430.48904962],\n",
       "       [5274999.63951446],\n",
       "       [3632849.1829217 ],\n",
       "       [5360637.16185694],\n",
       "       [3790097.33968095],\n",
       "       [5382637.83034127],\n",
       "       [3586441.24598778]])"
      ]
     },
     "execution_count": 37,
     "metadata": {},
     "output_type": "execute_result"
    }
   ],
   "source": [
    "adimen = [x for x in results]    \n",
    "print(adimen)\n",
    "inverted = scaler.inverse_transform(adimen)\n",
    "inverted"
   ]
  },
  {
   "cell_type": "markdown",
   "metadata": {},
   "source": [
    "# Visualizamos el pronostico"
   ]
  },
  {
   "cell_type": "code",
   "execution_count": 38,
   "metadata": {},
   "outputs": [
    {
     "data": {
      "text/plain": [
       "<AxesSubplot:>"
      ]
     },
     "execution_count": 38,
     "metadata": {},
     "output_type": "execute_result"
    },
    {
     "data": {
      "image/png": "[encoded data removed]",
      "text/plain": [
       "<Figure size 432x288 with 1 Axes>"
      ]
     },
     "metadata": {
      "needs_background": "light"
     },
     "output_type": "display_data"
    }
   ],
   "source": [
    "prediccion = pd.DataFrame(inverted)\n",
    "prediccion.columns = ['pronostico']\n",
    "prediccion.plot()"
   ]
  },
  {
   "cell_type": "markdown",
   "metadata": {},
   "source": [
    "# Prediccion con datos actuales"
   ]
  },
  {
   "cell_type": "code",
   "execution_count": 39,
   "metadata": {
    "scrolled": true
   },
   "outputs": [
    {
     "data": {
      "text/html": [
       "<div>\n",
       "<style scoped>\n",
       "    .dataframe tbody tr th:only-of-type {\n",
       "        vertical-align: middle;\n",
       "    }\n",
       "\n",
       "    .dataframe tbody tr th {\n",
       "        vertical-align: top;\n",
       "    }\n",
       "\n",
       "    .dataframe thead th {\n",
       "        text-align: right;\n",
       "    }\n",
       "</style>\n",
       "<table border=\"1\" class=\"dataframe\">\n",
       "  <thead>\n",
       "    <tr style=\"text-align: right;\">\n",
       "      <th></th>\n",
       "      <th>Viajes</th>\n",
       "    </tr>\n",
       "  </thead>\n",
       "  <tbody>\n",
       "    <tr>\n",
       "      <th>2020-05-11</th>\n",
       "      <td>3128</td>\n",
       "    </tr>\n",
       "    <tr>\n",
       "      <th>2020-05-12</th>\n",
       "      <td>3085</td>\n",
       "    </tr>\n",
       "    <tr>\n",
       "      <th>2020-05-13</th>\n",
       "      <td>3015</td>\n",
       "    </tr>\n",
       "    <tr>\n",
       "      <th>2020-05-14</th>\n",
       "      <td>3181</td>\n",
       "    </tr>\n",
       "    <tr>\n",
       "      <th>2020-05-15</th>\n",
       "      <td>3129</td>\n",
       "    </tr>\n",
       "    <tr>\n",
       "      <th>2020-05-16</th>\n",
       "      <td>2896</td>\n",
       "    </tr>\n",
       "    <tr>\n",
       "      <th>2020-05-17</th>\n",
       "      <td>2787</td>\n",
       "    </tr>\n",
       "    <tr>\n",
       "      <th>2020-05-18</th>\n",
       "      <td>3258</td>\n",
       "    </tr>\n",
       "    <tr>\n",
       "      <th>2020-05-19</th>\n",
       "      <td>3487</td>\n",
       "    </tr>\n",
       "    <tr>\n",
       "      <th>2020-05-20</th>\n",
       "      <td>3324</td>\n",
       "    </tr>\n",
       "    <tr>\n",
       "      <th>2020-05-21</th>\n",
       "      <td>3445</td>\n",
       "    </tr>\n",
       "    <tr>\n",
       "      <th>2020-05-22</th>\n",
       "      <td>3488</td>\n",
       "    </tr>\n",
       "    <tr>\n",
       "      <th>2020-05-23</th>\n",
       "      <td>3526</td>\n",
       "    </tr>\n",
       "    <tr>\n",
       "      <th>2020-05-24</th>\n",
       "      <td>3056</td>\n",
       "    </tr>\n",
       "  </tbody>\n",
       "</table>\n",
       "</div>"
      ],
      "text/plain": [
       "            Viajes\n",
       "2020-05-11    3128\n",
       "2020-05-12    3085\n",
       "2020-05-13    3015\n",
       "2020-05-14    3181\n",
       "2020-05-15    3129\n",
       "2020-05-16    2896\n",
       "2020-05-17    2787\n",
       "2020-05-18    3258\n",
       "2020-05-19    3487\n",
       "2020-05-20    3324\n",
       "2020-05-21    3445\n",
       "2020-05-22    3488\n",
       "2020-05-23    3526\n",
       "2020-05-24    3056"
      ]
     },
     "execution_count": 39,
     "metadata": {},
     "output_type": "execute_result"
    }
   ],
   "source": [
    "# usaremos 14 dias que poseemos para predecir los 7 dias siguientes tras esto compararemos los resultados con los que\n",
    "# poseemos para ver el grado de error\n",
    "\n",
    "Dias_twt = df_twt['2020-5-11':'2020-5-24']\n",
    "Dias_ine = df_ine['2020-5-11':'2020-5-24']\n",
    "Dias_twt"
   ]
  },
  {
   "cell_type": "markdown",
   "metadata": {},
   "source": [
    "# Preparamos los datos para el test"
   ]
  },
  {
   "cell_type": "code",
   "execution_count": 40,
   "metadata": {},
   "outputs": [
    {
     "data": {
      "text/html": [
       "<div>\n",
       "<style scoped>\n",
       "    .dataframe tbody tr th:only-of-type {\n",
       "        vertical-align: middle;\n",
       "    }\n",
       "\n",
       "    .dataframe tbody tr th {\n",
       "        vertical-align: top;\n",
       "    }\n",
       "\n",
       "    .dataframe thead th {\n",
       "        text-align: right;\n",
       "    }\n",
       "</style>\n",
       "<table border=\"1\" class=\"dataframe\">\n",
       "  <thead>\n",
       "    <tr style=\"text-align: right;\">\n",
       "      <th></th>\n",
       "      <th>var1(t-7)</th>\n",
       "      <th>var2(t-7)</th>\n",
       "      <th>var1(t-6)</th>\n",
       "      <th>var2(t-6)</th>\n",
       "      <th>var1(t-5)</th>\n",
       "      <th>var2(t-5)</th>\n",
       "      <th>var1(t-4)</th>\n",
       "      <th>var2(t-4)</th>\n",
       "      <th>var1(t-3)</th>\n",
       "      <th>var2(t-3)</th>\n",
       "      <th>var1(t-2)</th>\n",
       "      <th>var2(t-2)</th>\n",
       "      <th>var1(t-1)</th>\n",
       "      <th>var2(t-1)</th>\n",
       "    </tr>\n",
       "  </thead>\n",
       "  <tbody>\n",
       "    <tr>\n",
       "      <th>7</th>\n",
       "      <td>-0.077132</td>\n",
       "      <td>0.150527</td>\n",
       "      <td>-0.193505</td>\n",
       "      <td>0.604381</td>\n",
       "      <td>-0.382951</td>\n",
       "      <td>0.539155</td>\n",
       "      <td>0.066305</td>\n",
       "      <td>0.459777</td>\n",
       "      <td>-0.074426</td>\n",
       "      <td>0.356781</td>\n",
       "      <td>-0.705008</td>\n",
       "      <td>-0.429630</td>\n",
       "      <td>-1.000000</td>\n",
       "      <td>-1.000000</td>\n",
       "    </tr>\n",
       "    <tr>\n",
       "      <th>8</th>\n",
       "      <td>-0.193505</td>\n",
       "      <td>0.604381</td>\n",
       "      <td>-0.382951</td>\n",
       "      <td>0.539155</td>\n",
       "      <td>0.066305</td>\n",
       "      <td>0.459777</td>\n",
       "      <td>-0.074426</td>\n",
       "      <td>0.356781</td>\n",
       "      <td>-0.705008</td>\n",
       "      <td>-0.429630</td>\n",
       "      <td>-1.000000</td>\n",
       "      <td>-1.000000</td>\n",
       "      <td>0.274695</td>\n",
       "      <td>0.512966</td>\n",
       "    </tr>\n",
       "    <tr>\n",
       "      <th>9</th>\n",
       "      <td>-0.382951</td>\n",
       "      <td>0.539155</td>\n",
       "      <td>0.066305</td>\n",
       "      <td>0.459777</td>\n",
       "      <td>-0.074426</td>\n",
       "      <td>0.356781</td>\n",
       "      <td>-0.705008</td>\n",
       "      <td>-0.429630</td>\n",
       "      <td>-1.000000</td>\n",
       "      <td>-1.000000</td>\n",
       "      <td>0.274695</td>\n",
       "      <td>0.512966</td>\n",
       "      <td>0.894451</td>\n",
       "      <td>0.912932</td>\n",
       "    </tr>\n",
       "    <tr>\n",
       "      <th>10</th>\n",
       "      <td>0.066305</td>\n",
       "      <td>0.459777</td>\n",
       "      <td>-0.074426</td>\n",
       "      <td>0.356781</td>\n",
       "      <td>-0.705008</td>\n",
       "      <td>-0.429630</td>\n",
       "      <td>-1.000000</td>\n",
       "      <td>-1.000000</td>\n",
       "      <td>0.274695</td>\n",
       "      <td>0.512966</td>\n",
       "      <td>0.894451</td>\n",
       "      <td>0.912932</td>\n",
       "      <td>0.453315</td>\n",
       "      <td>0.938927</td>\n",
       "    </tr>\n",
       "    <tr>\n",
       "      <th>11</th>\n",
       "      <td>-0.074426</td>\n",
       "      <td>0.356781</td>\n",
       "      <td>-0.705008</td>\n",
       "      <td>-0.429630</td>\n",
       "      <td>-1.000000</td>\n",
       "      <td>-1.000000</td>\n",
       "      <td>0.274695</td>\n",
       "      <td>0.512966</td>\n",
       "      <td>0.894451</td>\n",
       "      <td>0.912932</td>\n",
       "      <td>0.453315</td>\n",
       "      <td>0.938927</td>\n",
       "      <td>0.780785</td>\n",
       "      <td>0.955663</td>\n",
       "    </tr>\n",
       "    <tr>\n",
       "      <th>12</th>\n",
       "      <td>-0.705008</td>\n",
       "      <td>-0.429630</td>\n",
       "      <td>-1.000000</td>\n",
       "      <td>-1.000000</td>\n",
       "      <td>0.274695</td>\n",
       "      <td>0.512966</td>\n",
       "      <td>0.894451</td>\n",
       "      <td>0.912932</td>\n",
       "      <td>0.453315</td>\n",
       "      <td>0.938927</td>\n",
       "      <td>0.780785</td>\n",
       "      <td>0.955663</td>\n",
       "      <td>0.897158</td>\n",
       "      <td>1.000000</td>\n",
       "    </tr>\n",
       "    <tr>\n",
       "      <th>13</th>\n",
       "      <td>-1.000000</td>\n",
       "      <td>-1.000000</td>\n",
       "      <td>0.274695</td>\n",
       "      <td>0.512966</td>\n",
       "      <td>0.894451</td>\n",
       "      <td>0.912932</td>\n",
       "      <td>0.453315</td>\n",
       "      <td>0.938927</td>\n",
       "      <td>0.780785</td>\n",
       "      <td>0.955663</td>\n",
       "      <td>0.897158</td>\n",
       "      <td>1.000000</td>\n",
       "      <td>0.999999</td>\n",
       "      <td>0.169306</td>\n",
       "    </tr>\n",
       "  </tbody>\n",
       "</table>\n",
       "</div>"
      ],
      "text/plain": [
       "    var1(t-7)  var2(t-7)  var1(t-6)  var2(t-6)  var1(t-5)  var2(t-5)  \\\n",
       "7   -0.077132   0.150527  -0.193505   0.604381  -0.382951   0.539155   \n",
       "8   -0.193505   0.604381  -0.382951   0.539155   0.066305   0.459777   \n",
       "9   -0.382951   0.539155   0.066305   0.459777  -0.074426   0.356781   \n",
       "10   0.066305   0.459777  -0.074426   0.356781  -0.705008  -0.429630   \n",
       "11  -0.074426   0.356781  -0.705008  -0.429630  -1.000000  -1.000000   \n",
       "12  -0.705008  -0.429630  -1.000000  -1.000000   0.274695   0.512966   \n",
       "13  -1.000000  -1.000000   0.274695   0.512966   0.894451   0.912932   \n",
       "\n",
       "    var1(t-4)  var2(t-4)  var1(t-3)  var2(t-3)  var1(t-2)  var2(t-2)  \\\n",
       "7    0.066305   0.459777  -0.074426   0.356781  -0.705008  -0.429630   \n",
       "8   -0.074426   0.356781  -0.705008  -0.429630  -1.000000  -1.000000   \n",
       "9   -0.705008  -0.429630  -1.000000  -1.000000   0.274695   0.512966   \n",
       "10  -1.000000  -1.000000   0.274695   0.512966   0.894451   0.912932   \n",
       "11   0.274695   0.512966   0.894451   0.912932   0.453315   0.938927   \n",
       "12   0.894451   0.912932   0.453315   0.938927   0.780785   0.955663   \n",
       "13   0.453315   0.938927   0.780785   0.955663   0.897158   1.000000   \n",
       "\n",
       "    var1(t-1)  var2(t-1)  \n",
       "7   -1.000000  -1.000000  \n",
       "8    0.274695   0.512966  \n",
       "9    0.894451   0.912932  \n",
       "10   0.453315   0.938927  \n",
       "11   0.780785   0.955663  \n",
       "12   0.897158   1.000000  \n",
       "13   0.999999   0.169306  "
      ]
     },
     "execution_count": 40,
     "metadata": {},
     "output_type": "execute_result"
    }
   ],
   "source": [
    "# cargamos el dataframe en la variable values\n",
    "values_twt = Dias_twt.values\n",
    "values_ine = Dias_ine.values\n",
    "\n",
    "# convertimos los enteros en floats\n",
    "values_twt = values_twt.astype('float32')\n",
    "values_ine = values_ine.astype('float32')\n",
    "\n",
    "# normalizamos los datos a escala de entre -1 y 1\n",
    "values_twt =values_twt.reshape(-1, 1)\n",
    "scaled_twt = scaler.fit_transform(values_twt)\n",
    "values_ine =values_ine.reshape(-1, 1) # esto lo hacemos porque tenemos 1 sola dimension\n",
    "scaled_ine = scaler.fit_transform(values_ine)\n",
    "\n",
    "# usamos la funcion definida previamente\n",
    "reframed_twt = series_to_supervised(scaled_twt, look_back, 1)\n",
    "reframed_ine = series_to_supervised(scaled_ine, look_back, 1)\n",
    "\n",
    "# eliminamos la ultima columna pues es parte de lo que queremos hayar\n",
    "reframed_twt.drop(reframed_twt.columns[[7]], inplace=True, axis=1)\n",
    "reframed_ine.drop(reframed_ine.columns[[7]], inplace=True, axis=1)\n",
    "\n",
    "#unimos los dataframes\n",
    "reframed_ine.columns = ['var2(t-7)', 'var2(t-6)', 'var2(t-5)', 'var2(t-4)', 'var2(t-3)', 'var2(t-2)', 'var2(t-1)']\n",
    "reframed = pd.concat([reframed_twt.iloc[:, 0], reframed_ine.iloc[:, 0]], axis=1)\n",
    "\n",
    "for i in range(6):\n",
    "    reframed = pd.concat([reframed, reframed_twt.iloc[:, i+1]], axis=1)\n",
    "    reframed = pd.concat([reframed, reframed_ine.iloc[:, i+1]], axis=1)\n",
    "\n",
    "#mostramos el set de entrenamiento\n",
    "reframed.head(7)"
   ]
  },
  {
   "cell_type": "code",
   "execution_count": 41,
   "metadata": {},
   "outputs": [
    {
     "name": "stdout",
     "output_type": "stream",
     "text": [
      "(1, 1, 14)\n"
     ]
    },
    {
     "data": {
      "text/plain": [
       "array([[[-1.0000005 , -1.        ,  0.2746954 ,  0.51296616,\n",
       "          0.89445114,  0.9129319 ,  0.45331478,  0.9389267 ,\n",
       "          0.7807846 ,  0.9556627 ,  0.89715767,  1.        ,\n",
       "          0.99999905,  0.16930556]]], dtype=float32)"
      ]
     },
     "execution_count": 41,
     "metadata": {},
     "output_type": "execute_result"
    }
   ],
   "source": [
    "values = reframed.values\n",
    "\n",
    "#tomamos los valores para realizar el test\n",
    "x_test = values[6:, :]\n",
    "\n",
    "# reshape input to be 3D [samples, timesteps, features] - preguntar\n",
    "x_test = x_test.reshape((x_test.shape[0], 1, x_test.shape[1]))\n",
    "print(x_test.shape)\n",
    "x_test"
   ]
  },
  {
   "cell_type": "code",
   "execution_count": 42,
   "metadata": {},
   "outputs": [],
   "source": [
    "#en la linea 24 definimos la funcion para realizar el desplazamiento que se hara en el array cada prediccion pues para hacer\n",
    "#la siguiente prediccion eliminamos el dia mas antiguo, desplazamos un lugar el resto de dias y añadimos el ultimo dia que\n",
    "#se ha predecido, esto es por que para predecir un dia se usan los 7 dias previos, y que usaremos a continuación"
   ]
  },
  {
   "cell_type": "markdown",
   "metadata": {},
   "source": [
    "# Realizamos la prediccion "
   ]
  },
  {
   "cell_type": "code",
   "execution_count": 43,
   "metadata": {},
   "outputs": [
    {
     "name": "stdout",
     "output_type": "stream",
     "text": [
      "[[[-1.0000005  -1.          0.2746954   0.51296616  0.89445114\n",
      "    0.9129319   0.45331478  0.9389267   0.7807846   0.9556627\n",
      "    0.89715767  1.          0.99999905  0.16930556]]]\n",
      "[[[-1.          0.2746954   0.51296616  0.89445114  0.9129319\n",
      "    0.45331478  0.9389267   0.7807846   0.9556627   0.89715767\n",
      "    1.          0.99999905  0.16930556 -0.445054  ]]]\n",
      "[[[ 0.2746954   0.51296616  0.89445114  0.9129319   0.45331478\n",
      "    0.9389267   0.7807846   0.9556627   0.89715767  1.\n",
      "    0.99999905  0.16930556 -0.445054    0.47880185]]]\n",
      "[[[ 0.51296616  0.89445114  0.9129319   0.45331478  0.9389267\n",
      "    0.7807846   0.9556627   0.89715767  1.          0.99999905\n",
      "    0.16930556 -0.445054    0.47880185  0.52649206]]]\n",
      "[[[ 0.89445114  0.9129319   0.45331478  0.9389267   0.7807846\n",
      "    0.9556627   0.89715767  1.          0.99999905  0.16930556\n",
      "   -0.445054    0.47880185  0.52649206  0.8300753 ]]]\n",
      "[[[ 0.9129319   0.45331478  0.9389267   0.7807846   0.9556627\n",
      "    0.89715767  1.          0.99999905  0.16930556 -0.445054\n",
      "    0.47880185  0.52649206  0.8300753   0.4166573 ]]]\n",
      "[[[ 0.45331478  0.9389267   0.7807846   0.9556627   0.89715767\n",
      "    1.          0.99999905  0.16930556 -0.445054    0.47880185\n",
      "    0.52649206  0.8300753   0.4166573   0.7506829 ]]]\n"
     ]
    }
   ],
   "source": [
    "results=[]\n",
    "for i in range(7):\n",
    "    parcial=model.predict(x_test)\n",
    "    results.append(parcial[0])\n",
    "    print(x_test)\n",
    "    x_test=agregarNuevoValor(x_test,parcial[0])"
   ]
  },
  {
   "cell_type": "markdown",
   "metadata": {},
   "source": [
    "# Re-Convertimos los resultados"
   ]
  },
  {
   "cell_type": "code",
   "execution_count": 44,
   "metadata": {
    "scrolled": false
   },
   "outputs": [
    {
     "name": "stdout",
     "output_type": "stream",
     "text": [
      "[array([-0.445054], dtype=float32), array([0.47880185], dtype=float32), array([0.52649206], dtype=float32), array([0.8300753], dtype=float32), array([0.4166573], dtype=float32), array([0.7506829], dtype=float32), array([0.67251927], dtype=float32)]\n"
     ]
    },
    {
     "data": {
      "text/plain": [
       "array([[2968311],\n",
       "       [3863677],\n",
       "       [3909897],\n",
       "       [4204118],\n",
       "       [3803449],\n",
       "       [4127174],\n",
       "       [4051421]])"
      ]
     },
     "execution_count": 44,
     "metadata": {},
     "output_type": "execute_result"
    }
   ],
   "source": [
    "adimen = [x for x in results]    \n",
    "print(adimen)\n",
    "inverted = scaler.inverse_transform(adimen)\n",
    "\n",
    "#en nuestro problema no tienen sentido los decimales pues no se pueden hacer 0.5 viajes o 0.25 viajes\n",
    "inverted = inverted.round()\n",
    "inverted = inverted.astype(int)\n",
    "inverted"
   ]
  },
  {
   "cell_type": "markdown",
   "metadata": {},
   "source": [
    "# Visualizamos el pronostico"
   ]
  },
  {
   "cell_type": "code",
   "execution_count": 45,
   "metadata": {
    "scrolled": false
   },
   "outputs": [
    {
     "data": {
      "text/plain": [
       "<AxesSubplot:>"
      ]
     },
     "execution_count": 45,
     "metadata": {},
     "output_type": "execute_result"
    },
    {
     "data": {
      "image/png": "[encoded data removed]",
      "text/plain": [
       "<Figure size 432x288 with 1 Axes>"
      ]
     },
     "metadata": {
      "needs_background": "light"
     },
     "output_type": "display_data"
    }
   ],
   "source": [
    "e_date = datetime.datetime.strptime('2020-05-31', '%Y-%m-%d')\n",
    "i_date = datetime.datetime.strptime('2020-05-25', '%Y-%m-%d')\n",
    "delta = e_date - i_date\n",
    "\n",
    "index_days = []\n",
    "for i in range(delta.days + 1):\n",
    "    day = i_date + timedelta(days=i)\n",
    "    index_days.append(day)\n",
    "\n",
    "prediccion = pd.DataFrame(inverted, index= index_days)\n",
    "prediccion.columns = ['pronostico']\n",
    "prediccion.plot()"
   ]
  },
  {
   "cell_type": "code",
   "execution_count": 46,
   "metadata": {},
   "outputs": [
    {
     "data": {
      "text/html": [
       "<div>\n",
       "<style scoped>\n",
       "    .dataframe tbody tr th:only-of-type {\n",
       "        vertical-align: middle;\n",
       "    }\n",
       "\n",
       "    .dataframe tbody tr th {\n",
       "        vertical-align: top;\n",
       "    }\n",
       "\n",
       "    .dataframe thead th {\n",
       "        text-align: right;\n",
       "    }\n",
       "</style>\n",
       "<table border=\"1\" class=\"dataframe\">\n",
       "  <thead>\n",
       "    <tr style=\"text-align: right;\">\n",
       "      <th></th>\n",
       "      <th>real</th>\n",
       "      <th>prediccion</th>\n",
       "    </tr>\n",
       "  </thead>\n",
       "  <tbody>\n",
       "    <tr>\n",
       "      <th>2020-05-25</th>\n",
       "      <td>4382232</td>\n",
       "      <td>2968311</td>\n",
       "    </tr>\n",
       "    <tr>\n",
       "      <th>2020-05-26</th>\n",
       "      <td>4709433</td>\n",
       "      <td>3863677</td>\n",
       "    </tr>\n",
       "    <tr>\n",
       "      <th>2020-05-27</th>\n",
       "      <td>4837770</td>\n",
       "      <td>3909897</td>\n",
       "    </tr>\n",
       "    <tr>\n",
       "      <th>2020-05-28</th>\n",
       "      <td>4898946</td>\n",
       "      <td>4204118</td>\n",
       "    </tr>\n",
       "    <tr>\n",
       "      <th>2020-05-29</th>\n",
       "      <td>4909824</td>\n",
       "      <td>3803449</td>\n",
       "    </tr>\n",
       "    <tr>\n",
       "      <th>2020-05-30</th>\n",
       "      <td>4202334</td>\n",
       "      <td>4127174</td>\n",
       "    </tr>\n",
       "    <tr>\n",
       "      <th>2020-05-31</th>\n",
       "      <td>3305717</td>\n",
       "      <td>4051421</td>\n",
       "    </tr>\n",
       "  </tbody>\n",
       "</table>\n",
       "</div>"
      ],
      "text/plain": [
       "               real  prediccion\n",
       "2020-05-25  4382232     2968311\n",
       "2020-05-26  4709433     3863677\n",
       "2020-05-27  4837770     3909897\n",
       "2020-05-28  4898946     4204118\n",
       "2020-05-29  4909824     3803449\n",
       "2020-05-30  4202334     4127174\n",
       "2020-05-31  3305717     4051421"
      ]
     },
     "execution_count": 46,
     "metadata": {},
     "output_type": "execute_result"
    }
   ],
   "source": [
    "datosReales = df_ine['2020-5-25':'2020-5-31']\n",
    "\n",
    "compara = pd.concat([datosReales, prediccion], axis=1)\n",
    "compara.columns = ['real', 'prediccion']\n",
    "compara"
   ]
  },
  {
   "cell_type": "code",
   "execution_count": 47,
   "metadata": {},
   "outputs": [
    {
     "data": {
      "text/plain": [
       "<matplotlib.legend.Legend at 0x1715351f820>"
      ]
     },
     "execution_count": 47,
     "metadata": {},
     "output_type": "execute_result"
    },
    {
     "data": {
      "image/png": "[encoded data removed]",
      "text/plain": [
       "<Figure size 432x288 with 1 Axes>"
      ]
     },
     "metadata": {
      "needs_background": "light"
     },
     "output_type": "display_data"
    }
   ],
   "source": [
    "compara['real'].plot()\n",
    "compara['prediccion'].plot()\n",
    "plt.xlabel(\"Tiempo (dias)\", fontsize = 10)\n",
    "plt.ylabel(\"viajes\", fontsize = 10)\n",
    "plt.legend( ('Datos reales', 'Prediccion'), loc = 'lower right')"
   ]
  },
  {
   "cell_type": "code",
   "execution_count": 48,
   "metadata": {
    "scrolled": false
   },
   "outputs": [
    {
     "name": "stdout",
     "output_type": "stream",
     "text": [
      "Resultado del test: 829945.29 MAE\n",
      "Resultado del test: 834857025904.43 MSE\n",
      "Resultado del test: 913705.11 RMSE\n",
      "Resultado del test: 23.75 CVRMSE\n",
      "Resultado del test: 22.73 MAPE\n"
     ]
    }
   ],
   "source": [
    "# calculamos las metricas de error\n",
    "testScore_MAE, testScore_MSE, testScore_RMSE, testScore_CVRMSE, testScore_MAPE  =  compute_metrics_fn(prediccion, datosReales)\n",
    "print('Resultado del test: %.2f MAE' % (testScore_MAE))\n",
    "print('Resultado del test: %.2f MSE' % (testScore_MSE))\n",
    "print('Resultado del test: %.2f RMSE' % (testScore_RMSE))\n",
    "print('Resultado del test: %.2f CVRMSE' % (testScore_CVRMSE))\n",
    "print('Resultado del test: %.2f MAPE' % (testScore_MAPE))"
   ]
  },
  {
   "cell_type": "code",
   "execution_count": 49,
   "metadata": {},
   "outputs": [
    {
     "name": "stdout",
     "output_type": "stream",
     "text": [
      "Resultado del test dia 1: 1413921.00 MAE\n",
      "Resultado del test dia 1: 1999172594241.00 MSE\n",
      "Resultado del test dia 1: 1413921.00 RMSE\n",
      "Resultado del test dia 1: 47.63 CVRMSE\n",
      "Resultado del test dia 1: 47.63 MAPE \n",
      "\n",
      "Resultado del test dia 2: 845756.00 MAE\n",
      "Resultado del test dia 2: 715303211536.00 MSE\n",
      "Resultado del test dia 2: 845756.00 RMSE\n",
      "Resultado del test dia 2: 21.89 CVRMSE\n",
      "Resultado del test dia 2: 21.89 MAPE \n",
      "\n",
      "Resultado del test dia 3: 927873.00 MAE\n",
      "Resultado del test dia 3: 860948304129.00 MSE\n",
      "Resultado del test dia 3: 927873.00 RMSE\n",
      "Resultado del test dia 3: 23.73 CVRMSE\n",
      "Resultado del test dia 3: 23.73 MAPE \n",
      "\n",
      "Resultado del test dia 4: 694828.00 MAE\n",
      "Resultado del test dia 4: 482785949584.00 MSE\n",
      "Resultado del test dia 4: 694828.00 RMSE\n",
      "Resultado del test dia 4: 16.53 CVRMSE\n",
      "Resultado del test dia 4: 16.53 MAPE \n",
      "\n",
      "Resultado del test dia 5: 1106375.00 MAE\n",
      "Resultado del test dia 5: 1224065640625.00 MSE\n",
      "Resultado del test dia 5: 1106375.00 RMSE\n",
      "Resultado del test dia 5: 29.09 CVRMSE\n",
      "Resultado del test dia 5: 29.09 MAPE \n",
      "\n",
      "Resultado del test dia 6: 75160.00 MAE\n",
      "Resultado del test dia 6: 5649025600.00 MSE\n",
      "Resultado del test dia 6: 75160.00 RMSE\n",
      "Resultado del test dia 6: 1.82 CVRMSE\n",
      "Resultado del test dia 6: 1.82 MAPE \n",
      "\n",
      "Resultado del test dia 7: 745704.00 MAE\n",
      "Resultado del test dia 7: 556074455616.00 MSE\n",
      "Resultado del test dia 7: 745704.00 RMSE\n",
      "Resultado del test dia 7: 18.41 CVRMSE\n",
      "Resultado del test dia 7: 18.41 MAPE \n",
      "\n"
     ]
    }
   ],
   "source": [
    "# calculamos las metricas de error para cada dia por separado\n",
    "for i in range(7):\n",
    "    testScore_MAE, testScore_MSE, testScore_RMSE, testScore_CVRMSE, testScore_MAPE  =  compute_metrics_fn(prediccion.values[i], datosReales.values[i])\n",
    "    day = i + 1\n",
    "    print('Resultado del test dia %d: %.2f MAE' % (day, testScore_MAE))\n",
    "    print('Resultado del test dia %d: %.2f MSE' % (day, testScore_MSE))\n",
    "    print('Resultado del test dia %d: %.2f RMSE' % (day, testScore_RMSE))\n",
    "    print('Resultado del test dia %d: %.2f CVRMSE' % (day, testScore_CVRMSE))\n",
    "    print('Resultado del test dia %d: %.2f MAPE \\n' % (day, testScore_MAPE))"
   ]
  },
  {
   "cell_type": "code",
   "execution_count": null,
   "metadata": {},
   "outputs": [],
   "source": []
  }
 ],
 "metadata": {
  "kernelspec": {
   "display_name": "Python 3",
   "language": "python",
   "name": "python3"
  },
  "language_info": {
   "codemirror_mode": {
    "name": "ipython",
    "version": 3
   },
   "file_extension": ".py",
   "mimetype": "text/x-python",
   "name": "python",
   "nbconvert_exporter": "python",
   "pygments_lexer": "ipython3",
   "version": "3.8.5"
  }
 },
 "nbformat": 4,
 "nbformat_minor": 4
}
