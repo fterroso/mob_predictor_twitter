{
 "cells": [
  {
   "cell_type": "code",
   "execution_count": 1,
   "metadata": {},
   "outputs": [],
   "source": [
    "import pandas as pd\n",
    "import numpy as np\n",
    "np.random.seed(7) #para obtener los mismos resultados cada vez que se ejecuta el codigo\n",
    "\n",
    "from tqdm import tqdm_notebook\n",
    "import math\n",
    "from sklearn.metrics import mean_squared_error\n",
    "from sklearn.metrics import mean_absolute_error\n",
    "\n",
    "import matplotlib.pyplot as plt\n",
    "%matplotlib inline\n",
    "\n",
    "import os\n",
    "\n",
    "import warnings\n",
    "warnings.filterwarnings(\"ignore\")\n",
    "\n",
    "import datetime\n",
    "e_date = datetime.datetime.strptime('2020-06-20', '%Y-%m-%d')\n",
    "i_date = datetime.datetime.strptime('2020-04-01', '%Y-%m-%d')\n",
    "\n",
    "from datetime import date, timedelta\n",
    "\n",
    "data_path = 'D:/universidad/universidad 4/TFG/recursos para el desarrollo/datos procesados/OD'\n",
    "\n",
    "from keras.models import Sequential\n",
    "from keras.layers import Dense,Activation,Flatten,Dropout,LSTM\n",
    "from sklearn.preprocessing import MinMaxScaler"
   ]
  },
  {
   "cell_type": "code",
   "execution_count": 2,
   "metadata": {},
   "outputs": [],
   "source": [
    "delta = e_date - i_date # as timedelta\n",
    "\n",
    "target_days = []\n",
    "for i in range(delta.days + 1):\n",
    "    day = i_date + timedelta(days=i)\n",
    "    target_days.append(day)"
   ]
  },
  {
   "cell_type": "code",
   "execution_count": 3,
   "metadata": {},
   "outputs": [],
   "source": [
    "def read_OD_fn(source_type):\n",
    "    ods = {}\n",
    "    for date in tqdm_notebook(target_days):\n",
    "        od_date= pd.read_csv(os.path.join(data_path, 'date_{}_OD_{}.csv'.format(source_type,date.strftime('%Y-%m-%d'))), \n",
    "                            index_col=0)\n",
    "        ods[date] = od_date\n",
    "    return ods"
   ]
  },
  {
   "cell_type": "code",
   "execution_count": 4,
   "metadata": {},
   "outputs": [
    {
     "data": {
      "application/vnd.jupyter.widget-view+json": {
       "model_id": "49d07048b3b04fbeb1f8ae6f9352d88c",
       "version_major": 2,
       "version_minor": 0
      },
      "text/plain": [
       "  0%|          | 0/81 [00:00<?, ?it/s]"
      ]
     },
     "metadata": {},
     "output_type": "display_data"
    }
   ],
   "source": [
    "ine_ods = read_OD_fn('INE')"
   ]
  },
  {
   "cell_type": "markdown",
   "metadata": {},
   "source": [
    "# Serializar los datos"
   ]
  },
  {
   "cell_type": "code",
   "execution_count": 5,
   "metadata": {
    "scrolled": true
   },
   "outputs": [
    {
     "data": {
      "application/vnd.jupyter.widget-view+json": {
       "model_id": "407ff6ac64f9493ba17e411a3fac4b4d",
       "version_major": 2,
       "version_minor": 0
      },
      "text/plain": [
       "  0%|          | 0/81 [00:00<?, ?it/s]"
      ]
     },
     "metadata": {},
     "output_type": "display_data"
    }
   ],
   "source": [
    "lista = []\n",
    "\n",
    "for date in tqdm_notebook(target_days):\n",
    "    lista.append(ine_ods[date].loc['total','total'])\n",
    "    \n",
    "del ine_ods"
   ]
  },
  {
   "cell_type": "code",
   "execution_count": 6,
   "metadata": {
    "scrolled": true
   },
   "outputs": [],
   "source": [
    "df = pd.DataFrame (lista, columns = ['Viajes'], index= target_days)"
   ]
  },
  {
   "cell_type": "code",
   "execution_count": 7,
   "metadata": {},
   "outputs": [
    {
     "data": {
      "text/html": [
       "<div>\n",
       "<style scoped>\n",
       "    .dataframe tbody tr th:only-of-type {\n",
       "        vertical-align: middle;\n",
       "    }\n",
       "\n",
       "    .dataframe tbody tr th {\n",
       "        vertical-align: top;\n",
       "    }\n",
       "\n",
       "    .dataframe thead th {\n",
       "        text-align: right;\n",
       "    }\n",
       "</style>\n",
       "<table border=\"1\" class=\"dataframe\">\n",
       "  <thead>\n",
       "    <tr style=\"text-align: right;\">\n",
       "      <th></th>\n",
       "      <th>Viajes</th>\n",
       "    </tr>\n",
       "  </thead>\n",
       "  <tbody>\n",
       "    <tr>\n",
       "      <th>2020-04-01</th>\n",
       "      <td>2213123</td>\n",
       "    </tr>\n",
       "    <tr>\n",
       "      <th>2020-04-02</th>\n",
       "      <td>2254121</td>\n",
       "    </tr>\n",
       "    <tr>\n",
       "      <th>2020-04-03</th>\n",
       "      <td>2520095</td>\n",
       "    </tr>\n",
       "    <tr>\n",
       "      <th>2020-04-04</th>\n",
       "      <td>1934554</td>\n",
       "    </tr>\n",
       "    <tr>\n",
       "      <th>2020-04-05</th>\n",
       "      <td>1593385</td>\n",
       "    </tr>\n",
       "  </tbody>\n",
       "</table>\n",
       "</div>"
      ],
      "text/plain": [
       "             Viajes\n",
       "2020-04-01  2213123\n",
       "2020-04-02  2254121\n",
       "2020-04-03  2520095\n",
       "2020-04-04  1934554\n",
       "2020-04-05  1593385"
      ]
     },
     "execution_count": 7,
     "metadata": {},
     "output_type": "execute_result"
    }
   ],
   "source": [
    "df.head()"
   ]
  },
  {
   "cell_type": "markdown",
   "metadata": {},
   "source": [
    "# Visualización de datos"
   ]
  },
  {
   "cell_type": "code",
   "execution_count": 8,
   "metadata": {},
   "outputs": [
    {
     "name": "stdout",
     "output_type": "stream",
     "text": [
      "2020-04-01 00:00:00\n",
      "2020-06-20 00:00:00\n"
     ]
    }
   ],
   "source": [
    "print(df.index.min())\n",
    "print(df.index.max())"
   ]
  },
  {
   "cell_type": "code",
   "execution_count": 9,
   "metadata": {
    "scrolled": true
   },
   "outputs": [
    {
     "name": "stdout",
     "output_type": "stream",
     "text": [
      "81\n"
     ]
    }
   ],
   "source": [
    "print(len(df['2020']))"
   ]
  },
  {
   "cell_type": "code",
   "execution_count": 10,
   "metadata": {},
   "outputs": [
    {
     "data": {
      "text/html": [
       "<div>\n",
       "<style scoped>\n",
       "    .dataframe tbody tr th:only-of-type {\n",
       "        vertical-align: middle;\n",
       "    }\n",
       "\n",
       "    .dataframe tbody tr th {\n",
       "        vertical-align: top;\n",
       "    }\n",
       "\n",
       "    .dataframe thead th {\n",
       "        text-align: right;\n",
       "    }\n",
       "</style>\n",
       "<table border=\"1\" class=\"dataframe\">\n",
       "  <thead>\n",
       "    <tr style=\"text-align: right;\">\n",
       "      <th></th>\n",
       "      <th>Viajes</th>\n",
       "    </tr>\n",
       "  </thead>\n",
       "  <tbody>\n",
       "    <tr>\n",
       "      <th>count</th>\n",
       "      <td>8.100000e+01</td>\n",
       "    </tr>\n",
       "    <tr>\n",
       "      <th>mean</th>\n",
       "      <td>3.438222e+06</td>\n",
       "    </tr>\n",
       "    <tr>\n",
       "      <th>std</th>\n",
       "      <td>1.174931e+06</td>\n",
       "    </tr>\n",
       "    <tr>\n",
       "      <th>min</th>\n",
       "      <td>1.535886e+06</td>\n",
       "    </tr>\n",
       "    <tr>\n",
       "      <th>25%</th>\n",
       "      <td>2.488436e+06</td>\n",
       "    </tr>\n",
       "    <tr>\n",
       "      <th>50%</th>\n",
       "      <td>3.396402e+06</td>\n",
       "    </tr>\n",
       "    <tr>\n",
       "      <th>75%</th>\n",
       "      <td>4.445190e+06</td>\n",
       "    </tr>\n",
       "    <tr>\n",
       "      <th>max</th>\n",
       "      <td>5.519725e+06</td>\n",
       "    </tr>\n",
       "  </tbody>\n",
       "</table>\n",
       "</div>"
      ],
      "text/plain": [
       "             Viajes\n",
       "count  8.100000e+01\n",
       "mean   3.438222e+06\n",
       "std    1.174931e+06\n",
       "min    1.535886e+06\n",
       "25%    2.488436e+06\n",
       "50%    3.396402e+06\n",
       "75%    4.445190e+06\n",
       "max    5.519725e+06"
      ]
     },
     "execution_count": 10,
     "metadata": {},
     "output_type": "execute_result"
    }
   ],
   "source": [
    "df.describe()"
   ]
  },
  {
   "cell_type": "code",
   "execution_count": 11,
   "metadata": {},
   "outputs": [
    {
     "data": {
      "text/html": [
       "<div>\n",
       "<style scoped>\n",
       "    .dataframe tbody tr th:only-of-type {\n",
       "        vertical-align: middle;\n",
       "    }\n",
       "\n",
       "    .dataframe tbody tr th {\n",
       "        vertical-align: top;\n",
       "    }\n",
       "\n",
       "    .dataframe thead th {\n",
       "        text-align: right;\n",
       "    }\n",
       "</style>\n",
       "<table border=\"1\" class=\"dataframe\">\n",
       "  <thead>\n",
       "    <tr style=\"text-align: right;\">\n",
       "      <th></th>\n",
       "      <th>Viajes</th>\n",
       "    </tr>\n",
       "  </thead>\n",
       "  <tbody>\n",
       "    <tr>\n",
       "      <th>2020-04-30</th>\n",
       "      <td>2.356878e+06</td>\n",
       "    </tr>\n",
       "    <tr>\n",
       "      <th>2020-05-31</th>\n",
       "      <td>3.590722e+06</td>\n",
       "    </tr>\n",
       "    <tr>\n",
       "      <th>2020-06-30</th>\n",
       "      <td>4.823862e+06</td>\n",
       "    </tr>\n",
       "  </tbody>\n",
       "</table>\n",
       "</div>"
      ],
      "text/plain": [
       "                  Viajes\n",
       "2020-04-30  2.356878e+06\n",
       "2020-05-31  3.590722e+06\n",
       "2020-06-30  4.823862e+06"
      ]
     },
     "execution_count": 11,
     "metadata": {},
     "output_type": "execute_result"
    }
   ],
   "source": [
    "meses = df.resample('M').mean()\n",
    "meses"
   ]
  },
  {
   "cell_type": "code",
   "execution_count": 12,
   "metadata": {},
   "outputs": [
    {
     "data": {
      "text/plain": [
       "[<matplotlib.lines.Line2D at 0x227e71b6220>]"
      ]
     },
     "execution_count": 12,
     "metadata": {},
     "output_type": "execute_result"
    },
    {
     "data": {
      "image/png": "[encoded data removed]",
      "text/plain": [
       "<Figure size 432x288 with 1 Axes>"
      ]
     },
     "metadata": {
      "needs_background": "light"
     },
     "output_type": "display_data"
    }
   ],
   "source": [
    "abril = df['2020-04-01':'2020-04-30']\n",
    "plt.plot(abril.values)\n",
    "mayo = df['2020-05-01':'2020-05-31']\n",
    "plt.plot(mayo.values)\n",
    "junio = df['2020-06-01':'2020-06-20']\n",
    "plt.plot(junio.values)"
   ]
  },
  {
   "cell_type": "markdown",
   "metadata": {},
   "source": [
    "# Preprocesado de datos"
   ]
  },
  {
   "cell_type": "code",
   "execution_count": 13,
   "metadata": {
    "scrolled": true
   },
   "outputs": [],
   "source": [
    "dataset = df.values\n",
    "dataset = dataset.astype('float32')"
   ]
  },
  {
   "cell_type": "code",
   "execution_count": 14,
   "metadata": {},
   "outputs": [],
   "source": [
    "# normalizamos el conjunto de datos\n",
    "scaler = MinMaxScaler(feature_range=(0, 1))\n",
    "dataset = scaler.fit_transform(dataset)"
   ]
  },
  {
   "cell_type": "markdown",
   "metadata": {},
   "source": [
    "# Dividimos los datos en sets de entrenamiento y validacion"
   ]
  },
  {
   "cell_type": "code",
   "execution_count": 15,
   "metadata": {},
   "outputs": [
    {
     "name": "stdout",
     "output_type": "stream",
     "text": [
      "60 21\n"
     ]
    }
   ],
   "source": [
    "#dividimos nuestros valores entre sets de entrenamiento y de test\n",
    "n_train_days = 60\n",
    "train = dataset[:n_train_days, :]\n",
    "test = dataset[n_train_days:, :]\n",
    "\n",
    "print(len(train), len(test))"
   ]
  },
  {
   "cell_type": "code",
   "execution_count": 16,
   "metadata": {},
   "outputs": [],
   "source": [
    "# funcion para convertir un array de valores en una matriz de conjuntos de datos\n",
    "def create_dataset(dataset, look_back=1):\n",
    "  dataX, dataY = [], []\n",
    "  for i in range(len(dataset)-look_back):\n",
    "    a = dataset[i:(i+look_back), 0]\n",
    "    dataX.append(a)\n",
    "    dataY.append(dataset[i + look_back, 0])\n",
    "  return np.array(dataX), np.array(dataY)"
   ]
  },
  {
   "cell_type": "code",
   "execution_count": 17,
   "metadata": {
    "scrolled": false
   },
   "outputs": [
    {
     "name": "stdout",
     "output_type": "stream",
     "text": [
      "53 14\n"
     ]
    }
   ],
   "source": [
    "# dividimos en entradas y salidas\n",
    "look_back = 7\n",
    "trainX, trainY = create_dataset(train, look_back)\n",
    "testX, testY = create_dataset(test, look_back)\n",
    "\n",
    "print(len(trainX), len(testY))"
   ]
  },
  {
   "cell_type": "code",
   "execution_count": 18,
   "metadata": {},
   "outputs": [
    {
     "name": "stdout",
     "output_type": "stream",
     "text": [
      "[[0.16999608 0.18028718 0.2470504  0.10007131 0.01443306 0.20226192\n",
      "  0.23910356]\n",
      " [0.18028718 0.2470504  0.10007131 0.01443306 0.20226192 0.23910356\n",
      "  0.24053836]\n",
      " [0.2470504  0.10007131 0.01443306 0.20226192 0.23910356 0.24053836\n",
      "  0.1389401 ]\n",
      " [0.10007131 0.01443306 0.20226192 0.23910356 0.24053836 0.1389401\n",
      "  0.03971621]\n",
      " [0.01443306 0.20226192 0.23910356 0.24053836 0.1389401  0.03971621\n",
      "  0.10891479]\n",
      " [0.20226192 0.23910356 0.24053836 0.1389401  0.03971621 0.10891479\n",
      "  0.02047423]\n",
      " [0.23910356 0.24053836 0.1389401  0.03971621 0.10891479 0.02047423\n",
      "  0.17865783]\n",
      " [0.24053836 0.1389401  0.03971621 0.10891479 0.02047423 0.17865783\n",
      "  0.27293295]\n",
      " [0.1389401  0.03971621 0.10891479 0.02047423 0.17865783 0.27293295\n",
      "  0.2914425 ]\n",
      " [0.03971621 0.10891479 0.02047423 0.17865783 0.27293295 0.2914425\n",
      "  0.37988257]\n",
      " [0.10891479 0.02047423 0.17865783 0.27293295 0.2914425  0.37988257\n",
      "  0.313093  ]\n",
      " [0.02047423 0.17865783 0.27293295 0.2914425  0.37988257 0.313093\n",
      "  0.13297123]\n",
      " [0.17865783 0.27293295 0.2914425  0.37988257 0.313093   0.13297123\n",
      "  0.        ]\n",
      " [0.27293295 0.2914425  0.37988257 0.313093   0.13297123 0.\n",
      "  0.26343662]\n",
      " [0.2914425  0.37988257 0.313093   0.13297123 0.         0.26343662\n",
      "  0.29775453]\n",
      " [0.37988257 0.313093   0.13297123 0.         0.26343662 0.29775453\n",
      "  0.34997272]\n",
      " [0.313093   0.13297123 0.         0.26343662 0.29775453 0.34997272\n",
      "  0.27233207]\n",
      " [0.13297123 0.         0.26343662 0.29775453 0.34997272 0.27233207\n",
      "  0.30363703]\n",
      " [0.         0.26343662 0.29775453 0.34997272 0.27233207 0.30363703\n",
      "  0.11689752]\n",
      " [0.26343662 0.29775453 0.34997272 0.27233207 0.30363703 0.11689752\n",
      "  0.00537395]\n",
      " [0.29775453 0.34997272 0.27233207 0.30363703 0.11689752 0.00537395\n",
      "  0.26156402]\n",
      " [0.34997272 0.27233207 0.30363703 0.11689752 0.00537395 0.26156402\n",
      "  0.32788748]\n",
      " [0.27233207 0.30363703 0.11689752 0.00537395 0.26156402 0.32788748\n",
      "  0.3494845 ]\n",
      " [0.30363703 0.11689752 0.00537395 0.26156402 0.32788748 0.3494845\n",
      "  0.36331165]\n",
      " [0.11689752 0.00537395 0.26156402 0.32788748 0.3494845  0.36331165\n",
      "  0.11988008]\n",
      " [0.00537395 0.26156402 0.32788748 0.3494845  0.36331165 0.11988008\n",
      "  0.16276813]\n",
      " [0.26156402 0.32788748 0.3494845  0.36331165 0.11988008 0.16276813\n",
      "  0.1565342 ]\n",
      " [0.32788748 0.3494845  0.36331165 0.11988008 0.16276813 0.1565342\n",
      "  0.46347785]\n",
      " [0.3494845  0.36331165 0.11988008 0.16276813 0.1565342  0.46347785\n",
      "  0.5314964 ]\n",
      " [0.36331165 0.11988008 0.16276813 0.1565342  0.46347785 0.5314964\n",
      "  0.50147784]\n",
      " [0.11988008 0.16276813 0.1565342  0.46347785 0.5314964  0.50147784\n",
      "  0.49586993]\n",
      " [0.16276813 0.1565342  0.46347785 0.5314964  0.50147784 0.49586993\n",
      "  0.51747626]\n",
      " [0.1565342  0.46347785 0.5314964  0.50147784 0.49586993 0.51747626\n",
      "  0.10823756]\n",
      " [0.46347785 0.5314964  0.50147784 0.49586993 0.51747626 0.10823756\n",
      "  0.09844148]\n",
      " [0.5314964  0.50147784 0.49586993 0.51747626 0.10823756 0.09844148\n",
      "  0.5044481 ]\n",
      " [0.50147784 0.49586993 0.51747626 0.10823756 0.09844148 0.5044481\n",
      "  0.61485875]\n",
      " [0.49586993 0.51747626 0.10823756 0.09844148 0.5044481  0.61485875\n",
      "  0.59899086]\n",
      " [0.51747626 0.10823756 0.09844148 0.5044481  0.61485875 0.59899086\n",
      "  0.5796803 ]\n",
      " [0.10823756 0.09844148 0.5044481  0.61485875 0.59899086 0.5796803\n",
      "  0.5546241 ]\n",
      " [0.09844148 0.5044481  0.61485875 0.59899086 0.5796803  0.5546241\n",
      "  0.3633111 ]\n",
      " [0.5044481  0.61485875 0.59899086 0.5796803  0.5546241  0.3633111\n",
      "  0.22455525]\n",
      " [0.61485875 0.59899086 0.5796803  0.5546241  0.3633111  0.22455525\n",
      "  0.59261984]\n",
      " [0.59899086 0.5796803  0.5546241  0.3633111  0.22455525 0.59261984\n",
      "  0.689921  ]\n",
      " [0.5796803  0.5546241  0.3633111  0.22455525 0.59261984 0.689921\n",
      "  0.6962447 ]\n",
      " [0.5546241  0.3633111  0.22455525 0.59261984 0.689921   0.6962447\n",
      "  0.7003162 ]\n",
      " [0.3633111  0.22455525 0.59261984 0.689921   0.6962447  0.7003162\n",
      "  0.71110225]\n",
      " [0.22455525 0.59261984 0.689921   0.6962447  0.7003162  0.71110225\n",
      "  0.50901634]\n",
      " [0.59261984 0.689921   0.6962447  0.7003162  0.71110225 0.50901634\n",
      "  0.34968656]\n",
      " [0.689921   0.6962447  0.7003162  0.71110225 0.50901634 0.34968656\n",
      "  0.7144731 ]\n",
      " [0.6962447  0.7003162  0.71110225 0.50901634 0.34968656 0.7144731\n",
      "  0.7966052 ]\n",
      " [0.7003162  0.71110225 0.50901634 0.34968656 0.7144731  0.7966052\n",
      "  0.82881963]\n",
      " [0.71110225 0.50901634 0.34968656 0.7144731  0.7966052  0.82881963\n",
      "  0.8441757 ]\n",
      " [0.50901634 0.34968656 0.7144731  0.7966052  0.82881963 0.8441757\n",
      "  0.8469062 ]]\n"
     ]
    }
   ],
   "source": [
    "print(trainX)"
   ]
  },
  {
   "cell_type": "code",
   "execution_count": 19,
   "metadata": {
    "scrolled": true
   },
   "outputs": [],
   "source": [
    "# remodelamos la entrada para que sea[muestras, pasos de tiempo, características]\n",
    "trainX = np.reshape(trainX, (trainX.shape[0], testX.shape[1], 1))\n",
    "testX = np.reshape(testX, (testX.shape[0], testX.shape[1], 1))"
   ]
  },
  {
   "cell_type": "code",
   "execution_count": 20,
   "metadata": {},
   "outputs": [
    {
     "name": "stdout",
     "output_type": "stream",
     "text": [
      "[[[0.16999608]\n",
      "  [0.18028718]\n",
      "  [0.2470504 ]\n",
      "  [0.10007131]\n",
      "  [0.01443306]\n",
      "  [0.20226192]\n",
      "  [0.23910356]]\n",
      "\n",
      " [[0.18028718]\n",
      "  [0.2470504 ]\n",
      "  [0.10007131]\n",
      "  [0.01443306]\n",
      "  [0.20226192]\n",
      "  [0.23910356]\n",
      "  [0.24053836]]\n",
      "\n",
      " [[0.2470504 ]\n",
      "  [0.10007131]\n",
      "  [0.01443306]\n",
      "  [0.20226192]\n",
      "  [0.23910356]\n",
      "  [0.24053836]\n",
      "  [0.1389401 ]]\n",
      "\n",
      " [[0.10007131]\n",
      "  [0.01443306]\n",
      "  [0.20226192]\n",
      "  [0.23910356]\n",
      "  [0.24053836]\n",
      "  [0.1389401 ]\n",
      "  [0.03971621]]\n",
      "\n",
      " [[0.01443306]\n",
      "  [0.20226192]\n",
      "  [0.23910356]\n",
      "  [0.24053836]\n",
      "  [0.1389401 ]\n",
      "  [0.03971621]\n",
      "  [0.10891479]]\n",
      "\n",
      " [[0.20226192]\n",
      "  [0.23910356]\n",
      "  [0.24053836]\n",
      "  [0.1389401 ]\n",
      "  [0.03971621]\n",
      "  [0.10891479]\n",
      "  [0.02047423]]\n",
      "\n",
      " [[0.23910356]\n",
      "  [0.24053836]\n",
      "  [0.1389401 ]\n",
      "  [0.03971621]\n",
      "  [0.10891479]\n",
      "  [0.02047423]\n",
      "  [0.17865783]]\n",
      "\n",
      " [[0.24053836]\n",
      "  [0.1389401 ]\n",
      "  [0.03971621]\n",
      "  [0.10891479]\n",
      "  [0.02047423]\n",
      "  [0.17865783]\n",
      "  [0.27293295]]\n",
      "\n",
      " [[0.1389401 ]\n",
      "  [0.03971621]\n",
      "  [0.10891479]\n",
      "  [0.02047423]\n",
      "  [0.17865783]\n",
      "  [0.27293295]\n",
      "  [0.2914425 ]]\n",
      "\n",
      " [[0.03971621]\n",
      "  [0.10891479]\n",
      "  [0.02047423]\n",
      "  [0.17865783]\n",
      "  [0.27293295]\n",
      "  [0.2914425 ]\n",
      "  [0.37988257]]\n",
      "\n",
      " [[0.10891479]\n",
      "  [0.02047423]\n",
      "  [0.17865783]\n",
      "  [0.27293295]\n",
      "  [0.2914425 ]\n",
      "  [0.37988257]\n",
      "  [0.313093  ]]\n",
      "\n",
      " [[0.02047423]\n",
      "  [0.17865783]\n",
      "  [0.27293295]\n",
      "  [0.2914425 ]\n",
      "  [0.37988257]\n",
      "  [0.313093  ]\n",
      "  [0.13297123]]\n",
      "\n",
      " [[0.17865783]\n",
      "  [0.27293295]\n",
      "  [0.2914425 ]\n",
      "  [0.37988257]\n",
      "  [0.313093  ]\n",
      "  [0.13297123]\n",
      "  [0.        ]]\n",
      "\n",
      " [[0.27293295]\n",
      "  [0.2914425 ]\n",
      "  [0.37988257]\n",
      "  [0.313093  ]\n",
      "  [0.13297123]\n",
      "  [0.        ]\n",
      "  [0.26343662]]\n",
      "\n",
      " [[0.2914425 ]\n",
      "  [0.37988257]\n",
      "  [0.313093  ]\n",
      "  [0.13297123]\n",
      "  [0.        ]\n",
      "  [0.26343662]\n",
      "  [0.29775453]]\n",
      "\n",
      " [[0.37988257]\n",
      "  [0.313093  ]\n",
      "  [0.13297123]\n",
      "  [0.        ]\n",
      "  [0.26343662]\n",
      "  [0.29775453]\n",
      "  [0.34997272]]\n",
      "\n",
      " [[0.313093  ]\n",
      "  [0.13297123]\n",
      "  [0.        ]\n",
      "  [0.26343662]\n",
      "  [0.29775453]\n",
      "  [0.34997272]\n",
      "  [0.27233207]]\n",
      "\n",
      " [[0.13297123]\n",
      "  [0.        ]\n",
      "  [0.26343662]\n",
      "  [0.29775453]\n",
      "  [0.34997272]\n",
      "  [0.27233207]\n",
      "  [0.30363703]]\n",
      "\n",
      " [[0.        ]\n",
      "  [0.26343662]\n",
      "  [0.29775453]\n",
      "  [0.34997272]\n",
      "  [0.27233207]\n",
      "  [0.30363703]\n",
      "  [0.11689752]]\n",
      "\n",
      " [[0.26343662]\n",
      "  [0.29775453]\n",
      "  [0.34997272]\n",
      "  [0.27233207]\n",
      "  [0.30363703]\n",
      "  [0.11689752]\n",
      "  [0.00537395]]\n",
      "\n",
      " [[0.29775453]\n",
      "  [0.34997272]\n",
      "  [0.27233207]\n",
      "  [0.30363703]\n",
      "  [0.11689752]\n",
      "  [0.00537395]\n",
      "  [0.26156402]]\n",
      "\n",
      " [[0.34997272]\n",
      "  [0.27233207]\n",
      "  [0.30363703]\n",
      "  [0.11689752]\n",
      "  [0.00537395]\n",
      "  [0.26156402]\n",
      "  [0.32788748]]\n",
      "\n",
      " [[0.27233207]\n",
      "  [0.30363703]\n",
      "  [0.11689752]\n",
      "  [0.00537395]\n",
      "  [0.26156402]\n",
      "  [0.32788748]\n",
      "  [0.3494845 ]]\n",
      "\n",
      " [[0.30363703]\n",
      "  [0.11689752]\n",
      "  [0.00537395]\n",
      "  [0.26156402]\n",
      "  [0.32788748]\n",
      "  [0.3494845 ]\n",
      "  [0.36331165]]\n",
      "\n",
      " [[0.11689752]\n",
      "  [0.00537395]\n",
      "  [0.26156402]\n",
      "  [0.32788748]\n",
      "  [0.3494845 ]\n",
      "  [0.36331165]\n",
      "  [0.11988008]]\n",
      "\n",
      " [[0.00537395]\n",
      "  [0.26156402]\n",
      "  [0.32788748]\n",
      "  [0.3494845 ]\n",
      "  [0.36331165]\n",
      "  [0.11988008]\n",
      "  [0.16276813]]\n",
      "\n",
      " [[0.26156402]\n",
      "  [0.32788748]\n",
      "  [0.3494845 ]\n",
      "  [0.36331165]\n",
      "  [0.11988008]\n",
      "  [0.16276813]\n",
      "  [0.1565342 ]]\n",
      "\n",
      " [[0.32788748]\n",
      "  [0.3494845 ]\n",
      "  [0.36331165]\n",
      "  [0.11988008]\n",
      "  [0.16276813]\n",
      "  [0.1565342 ]\n",
      "  [0.46347785]]\n",
      "\n",
      " [[0.3494845 ]\n",
      "  [0.36331165]\n",
      "  [0.11988008]\n",
      "  [0.16276813]\n",
      "  [0.1565342 ]\n",
      "  [0.46347785]\n",
      "  [0.5314964 ]]\n",
      "\n",
      " [[0.36331165]\n",
      "  [0.11988008]\n",
      "  [0.16276813]\n",
      "  [0.1565342 ]\n",
      "  [0.46347785]\n",
      "  [0.5314964 ]\n",
      "  [0.50147784]]\n",
      "\n",
      " [[0.11988008]\n",
      "  [0.16276813]\n",
      "  [0.1565342 ]\n",
      "  [0.46347785]\n",
      "  [0.5314964 ]\n",
      "  [0.50147784]\n",
      "  [0.49586993]]\n",
      "\n",
      " [[0.16276813]\n",
      "  [0.1565342 ]\n",
      "  [0.46347785]\n",
      "  [0.5314964 ]\n",
      "  [0.50147784]\n",
      "  [0.49586993]\n",
      "  [0.51747626]]\n",
      "\n",
      " [[0.1565342 ]\n",
      "  [0.46347785]\n",
      "  [0.5314964 ]\n",
      "  [0.50147784]\n",
      "  [0.49586993]\n",
      "  [0.51747626]\n",
      "  [0.10823756]]\n",
      "\n",
      " [[0.46347785]\n",
      "  [0.5314964 ]\n",
      "  [0.50147784]\n",
      "  [0.49586993]\n",
      "  [0.51747626]\n",
      "  [0.10823756]\n",
      "  [0.09844148]]\n",
      "\n",
      " [[0.5314964 ]\n",
      "  [0.50147784]\n",
      "  [0.49586993]\n",
      "  [0.51747626]\n",
      "  [0.10823756]\n",
      "  [0.09844148]\n",
      "  [0.5044481 ]]\n",
      "\n",
      " [[0.50147784]\n",
      "  [0.49586993]\n",
      "  [0.51747626]\n",
      "  [0.10823756]\n",
      "  [0.09844148]\n",
      "  [0.5044481 ]\n",
      "  [0.61485875]]\n",
      "\n",
      " [[0.49586993]\n",
      "  [0.51747626]\n",
      "  [0.10823756]\n",
      "  [0.09844148]\n",
      "  [0.5044481 ]\n",
      "  [0.61485875]\n",
      "  [0.59899086]]\n",
      "\n",
      " [[0.51747626]\n",
      "  [0.10823756]\n",
      "  [0.09844148]\n",
      "  [0.5044481 ]\n",
      "  [0.61485875]\n",
      "  [0.59899086]\n",
      "  [0.5796803 ]]\n",
      "\n",
      " [[0.10823756]\n",
      "  [0.09844148]\n",
      "  [0.5044481 ]\n",
      "  [0.61485875]\n",
      "  [0.59899086]\n",
      "  [0.5796803 ]\n",
      "  [0.5546241 ]]\n",
      "\n",
      " [[0.09844148]\n",
      "  [0.5044481 ]\n",
      "  [0.61485875]\n",
      "  [0.59899086]\n",
      "  [0.5796803 ]\n",
      "  [0.5546241 ]\n",
      "  [0.3633111 ]]\n",
      "\n",
      " [[0.5044481 ]\n",
      "  [0.61485875]\n",
      "  [0.59899086]\n",
      "  [0.5796803 ]\n",
      "  [0.5546241 ]\n",
      "  [0.3633111 ]\n",
      "  [0.22455525]]\n",
      "\n",
      " [[0.61485875]\n",
      "  [0.59899086]\n",
      "  [0.5796803 ]\n",
      "  [0.5546241 ]\n",
      "  [0.3633111 ]\n",
      "  [0.22455525]\n",
      "  [0.59261984]]\n",
      "\n",
      " [[0.59899086]\n",
      "  [0.5796803 ]\n",
      "  [0.5546241 ]\n",
      "  [0.3633111 ]\n",
      "  [0.22455525]\n",
      "  [0.59261984]\n",
      "  [0.689921  ]]\n",
      "\n",
      " [[0.5796803 ]\n",
      "  [0.5546241 ]\n",
      "  [0.3633111 ]\n",
      "  [0.22455525]\n",
      "  [0.59261984]\n",
      "  [0.689921  ]\n",
      "  [0.6962447 ]]\n",
      "\n",
      " [[0.5546241 ]\n",
      "  [0.3633111 ]\n",
      "  [0.22455525]\n",
      "  [0.59261984]\n",
      "  [0.689921  ]\n",
      "  [0.6962447 ]\n",
      "  [0.7003162 ]]\n",
      "\n",
      " [[0.3633111 ]\n",
      "  [0.22455525]\n",
      "  [0.59261984]\n",
      "  [0.689921  ]\n",
      "  [0.6962447 ]\n",
      "  [0.7003162 ]\n",
      "  [0.71110225]]\n",
      "\n",
      " [[0.22455525]\n",
      "  [0.59261984]\n",
      "  [0.689921  ]\n",
      "  [0.6962447 ]\n",
      "  [0.7003162 ]\n",
      "  [0.71110225]\n",
      "  [0.50901634]]\n",
      "\n",
      " [[0.59261984]\n",
      "  [0.689921  ]\n",
      "  [0.6962447 ]\n",
      "  [0.7003162 ]\n",
      "  [0.71110225]\n",
      "  [0.50901634]\n",
      "  [0.34968656]]\n",
      "\n",
      " [[0.689921  ]\n",
      "  [0.6962447 ]\n",
      "  [0.7003162 ]\n",
      "  [0.71110225]\n",
      "  [0.50901634]\n",
      "  [0.34968656]\n",
      "  [0.7144731 ]]\n",
      "\n",
      " [[0.6962447 ]\n",
      "  [0.7003162 ]\n",
      "  [0.71110225]\n",
      "  [0.50901634]\n",
      "  [0.34968656]\n",
      "  [0.7144731 ]\n",
      "  [0.7966052 ]]\n",
      "\n",
      " [[0.7003162 ]\n",
      "  [0.71110225]\n",
      "  [0.50901634]\n",
      "  [0.34968656]\n",
      "  [0.7144731 ]\n",
      "  [0.7966052 ]\n",
      "  [0.82881963]]\n",
      "\n",
      " [[0.71110225]\n",
      "  [0.50901634]\n",
      "  [0.34968656]\n",
      "  [0.7144731 ]\n",
      "  [0.7966052 ]\n",
      "  [0.82881963]\n",
      "  [0.8441757 ]]\n",
      "\n",
      " [[0.50901634]\n",
      "  [0.34968656]\n",
      "  [0.7144731 ]\n",
      "  [0.7966052 ]\n",
      "  [0.82881963]\n",
      "  [0.8441757 ]\n",
      "  [0.8469062 ]]]\n"
     ]
    }
   ],
   "source": [
    "print(trainX)"
   ]
  },
  {
   "cell_type": "code",
   "execution_count": 21,
   "metadata": {},
   "outputs": [
    {
     "name": "stdout",
     "output_type": "stream",
     "text": [
      "[0.24053836 0.1389401  0.03971621 0.10891479 0.02047423 0.17865783\n",
      " 0.27293295 0.2914425  0.37988257 0.313093   0.13297123 0.\n",
      " 0.26343662 0.29775453 0.34997272 0.27233207 0.30363703 0.11689752\n",
      " 0.00537395 0.26156402 0.32788748 0.3494845  0.36331165 0.11988008\n",
      " 0.16276813 0.1565342  0.46347785 0.5314964  0.50147784 0.49586993\n",
      " 0.51747626 0.10823756 0.09844148 0.5044481  0.61485875 0.59899086\n",
      " 0.5796803  0.5546241  0.3633111  0.22455525 0.59261984 0.689921\n",
      " 0.6962447  0.7003162  0.71110225 0.50901634 0.34968656 0.7144731\n",
      " 0.7966052  0.82881963 0.8441757  0.8469062  0.6693162 ]\n"
     ]
    }
   ],
   "source": [
    "print(trainY)"
   ]
  },
  {
   "cell_type": "markdown",
   "metadata": {},
   "source": [
    "# Creamos la red neuronal"
   ]
  },
  {
   "cell_type": "code",
   "execution_count": 22,
   "metadata": {},
   "outputs": [],
   "source": [
    "def crear_modeloFF():\n",
    "    model = Sequential() \n",
    "    model.add(LSTM(20, input_shape=(look_back,1), return_sequences=True))\n",
    "    model.add(LSTM(50, input_shape=(look_back,1), return_sequences=True))\n",
    "    model.add(Dropout(0.30))\n",
    "    model.add(LSTM(100, input_shape=(look_back,1)))\n",
    "    model.add(Dropout(0.30))\n",
    "    model.add(Dense(1))\n",
    "    model.compile(loss='mean_squared_error', optimizer='adam')\n",
    "    model.summary()\n",
    "    return model"
   ]
  },
  {
   "cell_type": "code",
   "execution_count": 23,
   "metadata": {},
   "outputs": [
    {
     "name": "stdout",
     "output_type": "stream",
     "text": [
      "Model: \"sequential\"\n",
      "_________________________________________________________________\n",
      "Layer (type)                 Output Shape              Param #   \n",
      "=================================================================\n",
      "lstm (LSTM)                  (None, 7, 20)             1760      \n",
      "_________________________________________________________________\n",
      "lstm_1 (LSTM)                (None, 7, 50)             14200     \n",
      "_________________________________________________________________\n",
      "dropout (Dropout)            (None, 7, 50)             0         \n",
      "_________________________________________________________________\n",
      "lstm_2 (LSTM)                (None, 100)               60400     \n",
      "_________________________________________________________________\n",
      "dropout_1 (Dropout)          (None, 100)               0         \n",
      "_________________________________________________________________\n",
      "dense (Dense)                (None, 1)                 101       \n",
      "=================================================================\n",
      "Total params: 76,461\n",
      "Trainable params: 76,461\n",
      "Non-trainable params: 0\n",
      "_________________________________________________________________\n",
      "Epoch 1/200\n",
      "53/53 - 9s - loss: 0.0429 - val_loss: 0.0735\n",
      "Epoch 2/200\n",
      "53/53 - 0s - loss: 0.0330 - val_loss: 0.1021\n",
      "Epoch 3/200\n",
      "53/53 - 0s - loss: 0.0338 - val_loss: 0.0247\n",
      "Epoch 4/200\n",
      "53/53 - 0s - loss: 0.0277 - val_loss: 0.0648\n",
      "Epoch 5/200\n",
      "53/53 - 0s - loss: 0.0240 - val_loss: 0.0226\n",
      "Epoch 6/200\n",
      "53/53 - 0s - loss: 0.0250 - val_loss: 0.0419\n",
      "Epoch 7/200\n",
      "53/53 - 0s - loss: 0.0289 - val_loss: 0.0214\n",
      "Epoch 8/200\n",
      "53/53 - 0s - loss: 0.0227 - val_loss: 0.0496\n",
      "Epoch 9/200\n",
      "53/53 - 0s - loss: 0.0267 - val_loss: 0.0187\n",
      "Epoch 10/200\n",
      "53/53 - 0s - loss: 0.0247 - val_loss: 0.0188\n",
      "Epoch 11/200\n",
      "53/53 - 0s - loss: 0.0273 - val_loss: 0.0375\n",
      "Epoch 12/200\n",
      "53/53 - 0s - loss: 0.0248 - val_loss: 0.0168\n",
      "Epoch 13/200\n",
      "53/53 - 0s - loss: 0.0208 - val_loss: 0.0367\n",
      "Epoch 14/200\n",
      "53/53 - 0s - loss: 0.0290 - val_loss: 0.0150\n",
      "Epoch 15/200\n",
      "53/53 - 0s - loss: 0.0266 - val_loss: 0.0331\n",
      "Epoch 16/200\n",
      "53/53 - 0s - loss: 0.0251 - val_loss: 0.0553\n",
      "Epoch 17/200\n",
      "53/53 - 0s - loss: 0.0278 - val_loss: 0.0157\n",
      "Epoch 18/200\n",
      "53/53 - 0s - loss: 0.0294 - val_loss: 0.0210\n",
      "Epoch 19/200\n",
      "53/53 - 0s - loss: 0.0239 - val_loss: 0.0262\n",
      "Epoch 20/200\n",
      "53/53 - 0s - loss: 0.0220 - val_loss: 0.0227\n",
      "Epoch 21/200\n",
      "53/53 - 0s - loss: 0.0268 - val_loss: 0.0329\n",
      "Epoch 22/200\n",
      "53/53 - 0s - loss: 0.0229 - val_loss: 0.0254\n",
      "Epoch 23/200\n",
      "53/53 - 0s - loss: 0.0208 - val_loss: 0.0246\n",
      "Epoch 24/200\n",
      "53/53 - 0s - loss: 0.0223 - val_loss: 0.0413\n",
      "Epoch 25/200\n",
      "53/53 - 0s - loss: 0.0277 - val_loss: 0.0443\n",
      "Epoch 26/200\n",
      "53/53 - 0s - loss: 0.0250 - val_loss: 0.0196\n",
      "Epoch 27/200\n",
      "53/53 - 0s - loss: 0.0198 - val_loss: 0.0162\n",
      "Epoch 28/200\n",
      "53/53 - 0s - loss: 0.0183 - val_loss: 0.0229\n",
      "Epoch 29/200\n",
      "53/53 - 0s - loss: 0.0202 - val_loss: 0.0256\n",
      "Epoch 30/200\n",
      "53/53 - 0s - loss: 0.0189 - val_loss: 0.0140\n",
      "Epoch 31/200\n",
      "53/53 - 0s - loss: 0.0216 - val_loss: 0.0143\n",
      "Epoch 32/200\n",
      "53/53 - 0s - loss: 0.0228 - val_loss: 0.0341\n",
      "Epoch 33/200\n",
      "53/53 - 0s - loss: 0.0198 - val_loss: 0.0237\n",
      "Epoch 34/200\n",
      "53/53 - 0s - loss: 0.0195 - val_loss: 0.0214\n",
      "Epoch 35/200\n",
      "53/53 - 0s - loss: 0.0245 - val_loss: 0.0154\n",
      "Epoch 36/200\n",
      "53/53 - 0s - loss: 0.0208 - val_loss: 0.0251\n",
      "Epoch 37/200\n",
      "53/53 - 0s - loss: 0.0336 - val_loss: 0.0280\n",
      "Epoch 38/200\n",
      "53/53 - 0s - loss: 0.0280 - val_loss: 0.0146\n",
      "Epoch 39/200\n",
      "53/53 - 0s - loss: 0.0229 - val_loss: 0.0152\n",
      "Epoch 40/200\n",
      "53/53 - 0s - loss: 0.0177 - val_loss: 0.0152\n",
      "Epoch 41/200\n",
      "53/53 - 0s - loss: 0.0226 - val_loss: 0.0339\n",
      "Epoch 42/200\n",
      "53/53 - 0s - loss: 0.0174 - val_loss: 0.0144\n",
      "Epoch 43/200\n",
      "53/53 - 0s - loss: 0.0177 - val_loss: 0.0196\n",
      "Epoch 44/200\n",
      "53/53 - 0s - loss: 0.0185 - val_loss: 0.0226\n",
      "Epoch 45/200\n",
      "53/53 - 0s - loss: 0.0182 - val_loss: 0.0190\n",
      "Epoch 46/200\n",
      "53/53 - 0s - loss: 0.0231 - val_loss: 0.0458\n",
      "Epoch 47/200\n",
      "53/53 - 0s - loss: 0.0174 - val_loss: 0.0140\n",
      "Epoch 48/200\n",
      "53/53 - 0s - loss: 0.0215 - val_loss: 0.0146\n",
      "Epoch 49/200\n",
      "53/53 - 0s - loss: 0.0178 - val_loss: 0.0199\n",
      "Epoch 50/200\n",
      "53/53 - 0s - loss: 0.0234 - val_loss: 0.0372\n",
      "Epoch 51/200\n",
      "53/53 - 0s - loss: 0.0164 - val_loss: 0.0172\n",
      "Epoch 52/200\n",
      "53/53 - 0s - loss: 0.0183 - val_loss: 0.0167\n",
      "Epoch 53/200\n",
      "53/53 - 0s - loss: 0.0184 - val_loss: 0.0192\n",
      "Epoch 54/200\n",
      "53/53 - 0s - loss: 0.0188 - val_loss: 0.0336\n",
      "Epoch 55/200\n",
      "53/53 - 0s - loss: 0.0184 - val_loss: 0.0381\n",
      "Epoch 56/200\n",
      "53/53 - 0s - loss: 0.0235 - val_loss: 0.0176\n",
      "Epoch 57/200\n",
      "53/53 - 0s - loss: 0.0186 - val_loss: 0.0156\n",
      "Epoch 58/200\n",
      "53/53 - 0s - loss: 0.0209 - val_loss: 0.0196\n",
      "Epoch 59/200\n",
      "53/53 - 0s - loss: 0.0186 - val_loss: 0.0211\n",
      "Epoch 60/200\n",
      "53/53 - 0s - loss: 0.0176 - val_loss: 0.0159\n",
      "Epoch 61/200\n",
      "53/53 - 0s - loss: 0.0204 - val_loss: 0.0288\n",
      "Epoch 62/200\n",
      "53/53 - 0s - loss: 0.0206 - val_loss: 0.0318\n",
      "Epoch 63/200\n",
      "53/53 - 0s - loss: 0.0165 - val_loss: 0.0159\n",
      "Epoch 64/200\n",
      "53/53 - 0s - loss: 0.0169 - val_loss: 0.0264\n",
      "Epoch 65/200\n",
      "53/53 - 0s - loss: 0.0187 - val_loss: 0.0143\n",
      "Epoch 66/200\n",
      "53/53 - 0s - loss: 0.0176 - val_loss: 0.0374\n",
      "Epoch 67/200\n",
      "53/53 - 0s - loss: 0.0180 - val_loss: 0.0143\n",
      "Epoch 68/200\n",
      "53/53 - 0s - loss: 0.0204 - val_loss: 0.0255\n",
      "Epoch 69/200\n",
      "53/53 - 0s - loss: 0.0189 - val_loss: 0.0140\n",
      "Epoch 70/200\n",
      "53/53 - 0s - loss: 0.0185 - val_loss: 0.0155\n",
      "Epoch 71/200\n",
      "53/53 - 0s - loss: 0.0242 - val_loss: 0.0146\n",
      "Epoch 72/200\n",
      "53/53 - 0s - loss: 0.0176 - val_loss: 0.0168\n",
      "Epoch 73/200\n",
      "53/53 - 0s - loss: 0.0165 - val_loss: 0.0546\n",
      "Epoch 74/200\n",
      "53/53 - 0s - loss: 0.0201 - val_loss: 0.0277\n",
      "Epoch 75/200\n",
      "53/53 - 0s - loss: 0.0190 - val_loss: 0.0122\n",
      "Epoch 76/200\n",
      "53/53 - 0s - loss: 0.0179 - val_loss: 0.0132\n",
      "Epoch 77/200\n",
      "53/53 - 0s - loss: 0.0209 - val_loss: 0.0126\n",
      "Epoch 78/200\n",
      "53/53 - 0s - loss: 0.0148 - val_loss: 0.0172\n",
      "Epoch 79/200\n",
      "53/53 - 0s - loss: 0.0127 - val_loss: 0.0201\n",
      "Epoch 80/200\n",
      "53/53 - 0s - loss: 0.0177 - val_loss: 0.0125\n",
      "Epoch 81/200\n",
      "53/53 - 0s - loss: 0.0215 - val_loss: 0.0271\n",
      "Epoch 82/200\n",
      "53/53 - 0s - loss: 0.0156 - val_loss: 0.0263\n",
      "Epoch 83/200\n",
      "53/53 - 0s - loss: 0.0151 - val_loss: 0.0329\n",
      "Epoch 84/200\n",
      "53/53 - 0s - loss: 0.0184 - val_loss: 0.0237\n",
      "Epoch 85/200\n",
      "53/53 - 0s - loss: 0.0153 - val_loss: 0.0366\n",
      "Epoch 86/200\n",
      "53/53 - 0s - loss: 0.0169 - val_loss: 0.0142\n",
      "Epoch 87/200\n",
      "53/53 - 0s - loss: 0.0153 - val_loss: 0.0130\n",
      "Epoch 88/200\n",
      "53/53 - 0s - loss: 0.0143 - val_loss: 0.0136\n",
      "Epoch 89/200\n",
      "53/53 - 0s - loss: 0.0158 - val_loss: 0.0116\n",
      "Epoch 90/200\n",
      "53/53 - 0s - loss: 0.0152 - val_loss: 0.0190\n",
      "Epoch 91/200\n",
      "53/53 - 0s - loss: 0.0115 - val_loss: 0.0135\n",
      "Epoch 92/200\n",
      "53/53 - 0s - loss: 0.0145 - val_loss: 0.0118\n",
      "Epoch 93/200\n",
      "53/53 - 0s - loss: 0.0134 - val_loss: 0.0133\n",
      "Epoch 94/200\n",
      "53/53 - 0s - loss: 0.0154 - val_loss: 0.0177\n",
      "Epoch 95/200\n",
      "53/53 - 0s - loss: 0.0140 - val_loss: 0.0257\n",
      "Epoch 96/200\n",
      "53/53 - 0s - loss: 0.0147 - val_loss: 0.0262\n",
      "Epoch 97/200\n",
      "53/53 - 0s - loss: 0.0135 - val_loss: 0.0102\n",
      "Epoch 98/200\n",
      "53/53 - 0s - loss: 0.0132 - val_loss: 0.0177\n",
      "Epoch 99/200\n",
      "53/53 - 0s - loss: 0.0140 - val_loss: 0.0394\n",
      "Epoch 100/200\n",
      "53/53 - 0s - loss: 0.0145 - val_loss: 0.0246\n",
      "Epoch 101/200\n",
      "53/53 - 0s - loss: 0.0145 - val_loss: 0.0112\n",
      "Epoch 102/200\n",
      "53/53 - 0s - loss: 0.0124 - val_loss: 0.0124\n",
      "Epoch 103/200\n",
      "53/53 - 0s - loss: 0.0117 - val_loss: 0.0111\n",
      "Epoch 104/200\n",
      "53/53 - 0s - loss: 0.0125 - val_loss: 0.0135\n",
      "Epoch 105/200\n",
      "53/53 - 0s - loss: 0.0118 - val_loss: 0.0188\n",
      "Epoch 106/200\n",
      "53/53 - 0s - loss: 0.0152 - val_loss: 0.0135\n",
      "Epoch 107/200\n",
      "53/53 - 0s - loss: 0.0121 - val_loss: 0.0120\n",
      "Epoch 108/200\n",
      "53/53 - 0s - loss: 0.0163 - val_loss: 0.0324\n",
      "Epoch 109/200\n",
      "53/53 - 0s - loss: 0.0127 - val_loss: 0.0174\n",
      "Epoch 110/200\n",
      "53/53 - 0s - loss: 0.0103 - val_loss: 0.0097\n",
      "Epoch 111/200\n",
      "53/53 - 0s - loss: 0.0107 - val_loss: 0.0108\n",
      "Epoch 112/200\n",
      "53/53 - 0s - loss: 0.0104 - val_loss: 0.0181\n",
      "Epoch 113/200\n",
      "53/53 - 0s - loss: 0.0165 - val_loss: 0.0129\n",
      "Epoch 114/200\n",
      "53/53 - 0s - loss: 0.0123 - val_loss: 0.0127\n",
      "Epoch 115/200\n",
      "53/53 - 0s - loss: 0.0098 - val_loss: 0.0098\n",
      "Epoch 116/200\n",
      "53/53 - 0s - loss: 0.0112 - val_loss: 0.0092\n",
      "Epoch 117/200\n",
      "53/53 - 0s - loss: 0.0124 - val_loss: 0.0123\n",
      "Epoch 118/200\n",
      "53/53 - 0s - loss: 0.0106 - val_loss: 0.0104\n",
      "Epoch 119/200\n",
      "53/53 - 0s - loss: 0.0119 - val_loss: 0.0126\n",
      "Epoch 120/200\n",
      "53/53 - 0s - loss: 0.0099 - val_loss: 0.0107\n",
      "Epoch 121/200\n",
      "53/53 - 0s - loss: 0.0109 - val_loss: 0.0088\n",
      "Epoch 122/200\n",
      "53/53 - 0s - loss: 0.0105 - val_loss: 0.0106\n"
     ]
    },
    {
     "name": "stdout",
     "output_type": "stream",
     "text": [
      "Epoch 123/200\n",
      "53/53 - 0s - loss: 0.0120 - val_loss: 0.0204\n",
      "Epoch 124/200\n",
      "53/53 - 0s - loss: 0.0116 - val_loss: 0.0156\n",
      "Epoch 125/200\n",
      "53/53 - 0s - loss: 0.0107 - val_loss: 0.0064\n",
      "Epoch 126/200\n",
      "53/53 - 0s - loss: 0.0115 - val_loss: 0.0055\n",
      "Epoch 127/200\n",
      "53/53 - 0s - loss: 0.0093 - val_loss: 0.0086\n",
      "Epoch 128/200\n",
      "53/53 - 0s - loss: 0.0110 - val_loss: 0.0271\n",
      "Epoch 129/200\n",
      "53/53 - 0s - loss: 0.0124 - val_loss: 0.0259\n",
      "Epoch 130/200\n",
      "53/53 - 0s - loss: 0.0126 - val_loss: 0.0146\n",
      "Epoch 131/200\n",
      "53/53 - 0s - loss: 0.0079 - val_loss: 0.0171\n",
      "Epoch 132/200\n",
      "53/53 - 0s - loss: 0.0118 - val_loss: 0.0056\n",
      "Epoch 133/200\n",
      "53/53 - 0s - loss: 0.0092 - val_loss: 0.0080\n",
      "Epoch 134/200\n",
      "53/53 - 0s - loss: 0.0091 - val_loss: 0.0300\n",
      "Epoch 135/200\n",
      "53/53 - 0s - loss: 0.0097 - val_loss: 0.0117\n",
      "Epoch 136/200\n",
      "53/53 - 0s - loss: 0.0097 - val_loss: 0.0059\n",
      "Epoch 137/200\n",
      "53/53 - 0s - loss: 0.0114 - val_loss: 0.0109\n",
      "Epoch 138/200\n",
      "53/53 - 0s - loss: 0.0101 - val_loss: 0.0197\n",
      "Epoch 139/200\n",
      "53/53 - 0s - loss: 0.0106 - val_loss: 0.0064\n",
      "Epoch 140/200\n",
      "53/53 - 0s - loss: 0.0092 - val_loss: 0.0092\n",
      "Epoch 141/200\n",
      "53/53 - 0s - loss: 0.0084 - val_loss: 0.0130\n",
      "Epoch 142/200\n",
      "53/53 - 0s - loss: 0.0096 - val_loss: 0.0269\n",
      "Epoch 143/200\n",
      "53/53 - 0s - loss: 0.0105 - val_loss: 0.0169\n",
      "Epoch 144/200\n",
      "53/53 - 0s - loss: 0.0088 - val_loss: 0.0109\n",
      "Epoch 145/200\n",
      "53/53 - 0s - loss: 0.0098 - val_loss: 0.0105\n",
      "Epoch 146/200\n",
      "53/53 - 0s - loss: 0.0099 - val_loss: 0.0053\n",
      "Epoch 147/200\n",
      "53/53 - 0s - loss: 0.0098 - val_loss: 0.0057\n",
      "Epoch 148/200\n",
      "53/53 - 0s - loss: 0.0080 - val_loss: 0.0104\n",
      "Epoch 149/200\n",
      "53/53 - 0s - loss: 0.0101 - val_loss: 0.0085\n",
      "Epoch 150/200\n",
      "53/53 - 0s - loss: 0.0092 - val_loss: 0.0086\n",
      "Epoch 151/200\n",
      "53/53 - 0s - loss: 0.0087 - val_loss: 0.0105\n",
      "Epoch 152/200\n",
      "53/53 - 0s - loss: 0.0085 - val_loss: 0.0155\n",
      "Epoch 153/200\n",
      "53/53 - 0s - loss: 0.0088 - val_loss: 0.0084\n",
      "Epoch 154/200\n",
      "53/53 - 0s - loss: 0.0082 - val_loss: 0.0081\n",
      "Epoch 155/200\n",
      "53/53 - 0s - loss: 0.0088 - val_loss: 0.0181\n",
      "Epoch 156/200\n",
      "53/53 - 0s - loss: 0.0079 - val_loss: 0.0146\n",
      "Epoch 157/200\n",
      "53/53 - 0s - loss: 0.0083 - val_loss: 0.0147\n",
      "Epoch 158/200\n",
      "53/53 - 0s - loss: 0.0071 - val_loss: 0.0185\n",
      "Epoch 159/200\n",
      "53/53 - 0s - loss: 0.0093 - val_loss: 0.0152\n",
      "Epoch 160/200\n",
      "53/53 - 0s - loss: 0.0094 - val_loss: 0.0274\n",
      "Epoch 161/200\n",
      "53/53 - 0s - loss: 0.0084 - val_loss: 0.0214\n",
      "Epoch 162/200\n",
      "53/53 - 0s - loss: 0.0096 - val_loss: 0.0190\n",
      "Epoch 163/200\n",
      "53/53 - 0s - loss: 0.0091 - val_loss: 0.0652\n",
      "Epoch 164/200\n",
      "53/53 - 0s - loss: 0.0110 - val_loss: 0.0196\n",
      "Epoch 165/200\n",
      "53/53 - 0s - loss: 0.0123 - val_loss: 0.0202\n",
      "Epoch 166/200\n",
      "53/53 - 0s - loss: 0.0090 - val_loss: 0.0114\n",
      "Epoch 167/200\n",
      "53/53 - 0s - loss: 0.0100 - val_loss: 0.0144\n",
      "Epoch 168/200\n",
      "53/53 - 0s - loss: 0.0076 - val_loss: 0.0109\n",
      "Epoch 169/200\n",
      "53/53 - 0s - loss: 0.0091 - val_loss: 0.0095\n",
      "Epoch 170/200\n",
      "53/53 - 0s - loss: 0.0083 - val_loss: 0.0153\n",
      "Epoch 171/200\n",
      "53/53 - 0s - loss: 0.0080 - val_loss: 0.0073\n",
      "Epoch 172/200\n",
      "53/53 - 0s - loss: 0.0078 - val_loss: 0.0058\n",
      "Epoch 173/200\n",
      "53/53 - 0s - loss: 0.0071 - val_loss: 0.0176\n",
      "Epoch 174/200\n",
      "53/53 - 0s - loss: 0.0075 - val_loss: 0.0078\n",
      "Epoch 175/200\n",
      "53/53 - 0s - loss: 0.0096 - val_loss: 0.0082\n",
      "Epoch 176/200\n",
      "53/53 - 0s - loss: 0.0083 - val_loss: 0.0221\n",
      "Epoch 177/200\n",
      "53/53 - 0s - loss: 0.0104 - val_loss: 0.0154\n",
      "Epoch 178/200\n",
      "53/53 - 0s - loss: 0.0071 - val_loss: 0.0126\n",
      "Epoch 179/200\n",
      "53/53 - 0s - loss: 0.0073 - val_loss: 0.0099\n",
      "Epoch 180/200\n",
      "53/53 - 0s - loss: 0.0102 - val_loss: 0.0093\n",
      "Epoch 181/200\n",
      "53/53 - 0s - loss: 0.0082 - val_loss: 0.0108\n",
      "Epoch 182/200\n",
      "53/53 - 0s - loss: 0.0068 - val_loss: 0.0088\n",
      "Epoch 183/200\n",
      "53/53 - 0s - loss: 0.0069 - val_loss: 0.0198\n",
      "Epoch 184/200\n",
      "53/53 - 0s - loss: 0.0079 - val_loss: 0.0246\n",
      "Epoch 185/200\n",
      "53/53 - 0s - loss: 0.0088 - val_loss: 0.0190\n",
      "Epoch 186/200\n",
      "53/53 - 0s - loss: 0.0081 - val_loss: 0.0127\n",
      "Epoch 187/200\n",
      "53/53 - 0s - loss: 0.0083 - val_loss: 0.0225\n",
      "Epoch 188/200\n",
      "53/53 - 0s - loss: 0.0085 - val_loss: 0.0069\n",
      "Epoch 189/200\n",
      "53/53 - 0s - loss: 0.0085 - val_loss: 0.0084\n",
      "Epoch 190/200\n",
      "53/53 - 0s - loss: 0.0066 - val_loss: 0.0066\n",
      "Epoch 191/200\n",
      "53/53 - 0s - loss: 0.0096 - val_loss: 0.0126\n",
      "Epoch 192/200\n",
      "53/53 - 0s - loss: 0.0064 - val_loss: 0.0078\n",
      "Epoch 193/200\n",
      "53/53 - 0s - loss: 0.0091 - val_loss: 0.0095\n",
      "Epoch 194/200\n",
      "53/53 - 0s - loss: 0.0063 - val_loss: 0.0055\n",
      "Epoch 195/200\n",
      "53/53 - 0s - loss: 0.0080 - val_loss: 0.0159\n",
      "Epoch 196/200\n",
      "53/53 - 0s - loss: 0.0078 - val_loss: 0.0122\n",
      "Epoch 197/200\n",
      "53/53 - 0s - loss: 0.0066 - val_loss: 0.0135\n",
      "Epoch 198/200\n",
      "53/53 - 0s - loss: 0.0063 - val_loss: 0.0107\n",
      "Epoch 199/200\n",
      "53/53 - 0s - loss: 0.0088 - val_loss: 0.0137\n",
      "Epoch 200/200\n",
      "53/53 - 0s - loss: 0.0094 - val_loss: 0.0089\n"
     ]
    }
   ],
   "source": [
    "model = crear_modeloFF()\n",
    "\n",
    "history=model.fit(trainX, trainY, epochs=200, validation_data=(testX,testY), batch_size=1, verbose=2)"
   ]
  },
  {
   "cell_type": "markdown",
   "metadata": {},
   "source": [
    "# Visualizamos resultados"
   ]
  },
  {
   "cell_type": "code",
   "execution_count": 24,
   "metadata": {},
   "outputs": [],
   "source": [
    "def mape(actual, pred): \n",
    "    actual, pred = np.array(actual), np.array(pred)\n",
    "    return np.mean(np.abs((actual - pred) / actual)) * 100\n",
    "\n",
    "\n",
    "def compute_metrics_fn(y_valid_resc, y_hat_resc):\n",
    "    ## actual train and test values\n",
    "\n",
    "    mae_ = mean_absolute_error(y_valid_resc, y_hat_resc)\n",
    "    mse_ = mean_squared_error(y_valid_resc, y_hat_resc)\n",
    "    rmse_ = mean_squared_error(y_valid_resc, y_hat_resc, squared = False)\n",
    "    cvrmse_ = rmse_/np.mean(y_valid_resc)*100 # it is a percentage\n",
    "    mape_ = mape(y_valid_resc, y_hat_resc)\n",
    "    \n",
    "    return mae_, mse_, rmse_, cvrmse_, mape_"
   ]
  },
  {
   "cell_type": "code",
   "execution_count": 25,
   "metadata": {},
   "outputs": [],
   "source": [
    "# hacemos las predicciones\n",
    "trainPredict = model.predict(trainX)\n",
    "testPredict = model.predict(testX)\n",
    "\n",
    "# invertimos las predicciones\n",
    "trainPredict = scaler.inverse_transform(trainPredict)\n",
    "trainY_scalerInverse = scaler.inverse_transform([trainY])\n",
    "testPredict = scaler.inverse_transform(testPredict)\n",
    "testY_scalerInverse = scaler.inverse_transform([testY])"
   ]
  },
  {
   "cell_type": "code",
   "execution_count": 26,
   "metadata": {},
   "outputs": [
    {
     "name": "stdout",
     "output_type": "stream",
     "text": [
      "Resultado del entrenamiento: 207358.20 MAE\n",
      "Resultado del entrenamiento: 72244780182.85 MSE\n",
      "Resultado del entrenamiento: 268783.89 RMSE\n",
      "Resultado del entrenamiento: 8.72 CVRMSE\n",
      "Resultado del entrenamiento: 8.25 MAPE \n",
      "\n",
      "Resultado del test: 352810.74 MAE\n",
      "Resultado del test: 140909497975.39 MSE\n",
      "Resultado del test: 375379.14 RMSE\n",
      "Resultado del test: 7.79 CVRMSE\n",
      "Resultado del test: 7.78 MAPE\n"
     ]
    }
   ],
   "source": [
    "# calculamos las metricas de error\n",
    "trainScore_MAE, trainScore_MSE, trainScore_RMSE, trainScore_CVRMSE, trainScore_MAPE  =  compute_metrics_fn(trainY_scalerInverse[0], trainPredict[:,0])\n",
    "print('Resultado del entrenamiento: %.2f MAE' % (trainScore_MAE))\n",
    "print('Resultado del entrenamiento: %.2f MSE' % (trainScore_MSE))\n",
    "print('Resultado del entrenamiento: %.2f RMSE' % (trainScore_RMSE))\n",
    "print('Resultado del entrenamiento: %.2f CVRMSE' % (trainScore_CVRMSE))\n",
    "print('Resultado del entrenamiento: %.2f MAPE \\n' % (trainScore_MAPE))\n",
    "\n",
    "testScore_MAE, testScore_MSE, testScore_RMSE, testScore_CVRMSE, testScore_MAPE  =  compute_metrics_fn(testY_scalerInverse[0], testPredict[:,0])\n",
    "print('Resultado del test: %.2f MAE' % (testScore_MAE))\n",
    "print('Resultado del test: %.2f MSE' % (testScore_MSE))\n",
    "print('Resultado del test: %.2f RMSE' % (testScore_RMSE))\n",
    "print('Resultado del test: %.2f CVRMSE' % (testScore_CVRMSE))\n",
    "print('Resultado del test: %.2f MAPE' % (testScore_MAPE))"
   ]
  },
  {
   "cell_type": "code",
   "execution_count": 27,
   "metadata": {},
   "outputs": [
    {
     "data": {
      "image/png": "[encoded data removed]",
      "text/plain": [
       "<Figure size 432x288 with 1 Axes>"
      ]
     },
     "metadata": {
      "needs_background": "light"
     },
     "output_type": "display_data"
    }
   ],
   "source": [
    "# predicciones del entrenamiento de cambio para plotear\n",
    "trainPredictPlot = np.empty_like(dataset)\n",
    "trainPredictPlot[:, :] = np.nan\n",
    "trainPredictPlot[look_back:len(trainPredict)+look_back, :] = trainPredict\n",
    "# predicciones del test de cambio para plotear\n",
    "testPredictPlot = np.empty_like(dataset)\n",
    "testPredictPlot[:, :] = np.nan\n",
    "testPredictPlot[len(trainPredict)+(look_back*2):len(dataset), :] = testPredict\n",
    "# plot baseline and predictions\n",
    "plt.plot(scaler.inverse_transform(dataset))\n",
    "# ploteamos linea base y predicciones\n",
    "plt.plot(trainPredictPlot,'r', linewidth = 2)\n",
    "plt.plot(testPredictPlot,'m', linewidth = 2)\n",
    "plt.legend( ('Datos', 'Prediccion datos entramiento', 'Prediccion sobre los datos de test'), loc = 'upper left')\n",
    "plt.grid(True)\n",
    "plt.title(\"Viajes totales\", fontsize = 15)\n",
    "plt.xlabel(\"Tiempo (dias)\", fontsize = 10)\n",
    "plt.ylabel(\"viajes (en miles)\", fontsize = 10)\n",
    "plt.show()"
   ]
  },
  {
   "cell_type": "code",
   "execution_count": 28,
   "metadata": {},
   "outputs": [
    {
     "name": "stdout",
     "output_type": "stream",
     "text": [
      "14\n"
     ]
    }
   ],
   "source": [
    "results=testPredict\n",
    "print(len(results))"
   ]
  },
  {
   "cell_type": "code",
   "execution_count": 29,
   "metadata": {},
   "outputs": [],
   "source": [
    "test = testY_scalerInverse[0]"
   ]
  },
  {
   "cell_type": "code",
   "execution_count": 30,
   "metadata": {},
   "outputs": [
    {
     "data": {
      "image/png": "[encoded data removed]",
      "text/plain": [
       "<Figure size 432x288 with 1 Axes>"
      ]
     },
     "metadata": {
      "needs_background": "light"
     },
     "output_type": "display_data"
    }
   ],
   "source": [
    "plt.scatter(range(len(test)),test,c='g')\n",
    "plt.scatter(range(len(results)),results,c='r')\n",
    "plt.title('validate')\n",
    "plt.xlabel(\"Tiempo (dias)\", fontsize = 10)\n",
    "plt.ylabel(\"viajes (en miles)\", fontsize = 10)\n",
    "plt.show()"
   ]
  },
  {
   "cell_type": "code",
   "execution_count": 31,
   "metadata": {},
   "outputs": [
    {
     "data": {
      "image/png": "[encoded data removed]",
      "text/plain": [
       "<Figure size 432x288 with 1 Axes>"
      ]
     },
     "metadata": {
      "needs_background": "light"
     },
     "output_type": "display_data"
    }
   ],
   "source": [
    "plt.plot(history.history['loss'])\n",
    "plt.plot(history.history['val_loss'])\n",
    "plt.title('loss')\n",
    "plt.legend( ('training loss', 'validate loss'), loc = 'upper right')\n",
    "plt.show()"
   ]
  },
  {
   "cell_type": "code",
   "execution_count": 32,
   "metadata": {},
   "outputs": [],
   "source": [
    "def plot_series(series, y=None, y_pred=None, x_label=\"$t$\", y_label=\"$x(t)$\"):\n",
    "    plt.plot(series, \".-\")\n",
    "    if y is not None:\n",
    "        plt.plot(n_steps, y, \"bx\", markersize=10)\n",
    "    if y_pred is not None:\n",
    "        plt.plot(n_steps, y_pred, \"ro\")\n",
    "    plt.grid(True)\n",
    "    if x_label:\n",
    "        plt.xlabel(x_label, fontsize=16)\n",
    "    if y_label:\n",
    "        plt.ylabel(y_label, fontsize=16, rotation=0)\n",
    "    plt.hlines(0, 0, 100, linewidth=1)\n",
    "    plt.axis([0, n_steps + 1, -1, 1])"
   ]
  },
  {
   "cell_type": "code",
   "execution_count": 33,
   "metadata": {},
   "outputs": [
    {
     "data": {
      "image/png": "[encoded data removed]",
      "text/plain": [
       "<Figure size 432x288 with 1 Axes>"
      ]
     },
     "metadata": {
      "needs_background": "light"
     },
     "output_type": "display_data"
    }
   ],
   "source": [
    "n_steps = 6 #preguntar\n",
    "plot_series(testX[0, :, 0], testY_scalerInverse[0, 0], testPredict[0, 0])\n",
    "plt.show()"
   ]
  },
  {
   "cell_type": "markdown",
   "metadata": {},
   "source": [
    "# Exportar los datos"
   ]
  },
  {
   "cell_type": "code",
   "execution_count": 34,
   "metadata": {},
   "outputs": [
    {
     "data": {
      "text/html": [
       "<div>\n",
       "<style scoped>\n",
       "    .dataframe tbody tr th:only-of-type {\n",
       "        vertical-align: middle;\n",
       "    }\n",
       "\n",
       "    .dataframe tbody tr th {\n",
       "        vertical-align: top;\n",
       "    }\n",
       "\n",
       "    .dataframe thead th {\n",
       "        text-align: right;\n",
       "    }\n",
       "</style>\n",
       "<table border=\"1\" class=\"dataframe\">\n",
       "  <thead>\n",
       "    <tr style=\"text-align: right;\">\n",
       "      <th></th>\n",
       "      <th>valor predicho</th>\n",
       "    </tr>\n",
       "  </thead>\n",
       "  <tbody>\n",
       "    <tr>\n",
       "      <th>2020-06-07</th>\n",
       "      <td>4072609.00</td>\n",
       "    </tr>\n",
       "    <tr>\n",
       "      <th>2020-06-08</th>\n",
       "      <td>4768920.00</td>\n",
       "    </tr>\n",
       "    <tr>\n",
       "      <th>2020-06-09</th>\n",
       "      <td>4951486.50</td>\n",
       "    </tr>\n",
       "    <tr>\n",
       "      <th>2020-06-10</th>\n",
       "      <td>4915449.00</td>\n",
       "    </tr>\n",
       "    <tr>\n",
       "      <th>2020-06-11</th>\n",
       "      <td>4969990.50</td>\n",
       "    </tr>\n",
       "    <tr>\n",
       "      <th>2020-06-12</th>\n",
       "      <td>5040818.50</td>\n",
       "    </tr>\n",
       "    <tr>\n",
       "      <th>2020-06-13</th>\n",
       "      <td>4962925.50</td>\n",
       "    </tr>\n",
       "    <tr>\n",
       "      <th>2020-06-14</th>\n",
       "      <td>4127421.75</td>\n",
       "    </tr>\n",
       "    <tr>\n",
       "      <th>2020-06-15</th>\n",
       "      <td>4726338.00</td>\n",
       "    </tr>\n",
       "    <tr>\n",
       "      <th>2020-06-16</th>\n",
       "      <td>4966368.50</td>\n",
       "    </tr>\n",
       "    <tr>\n",
       "      <th>2020-06-17</th>\n",
       "      <td>5128232.00</td>\n",
       "    </tr>\n",
       "    <tr>\n",
       "      <th>2020-06-18</th>\n",
       "      <td>5144202.00</td>\n",
       "    </tr>\n",
       "    <tr>\n",
       "      <th>2020-06-19</th>\n",
       "      <td>5233550.50</td>\n",
       "    </tr>\n",
       "    <tr>\n",
       "      <th>2020-06-20</th>\n",
       "      <td>5013777.50</td>\n",
       "    </tr>\n",
       "  </tbody>\n",
       "</table>\n",
       "</div>"
      ],
      "text/plain": [
       "            valor predicho\n",
       "2020-06-07      4072609.00\n",
       "2020-06-08      4768920.00\n",
       "2020-06-09      4951486.50\n",
       "2020-06-10      4915449.00\n",
       "2020-06-11      4969990.50\n",
       "2020-06-12      5040818.50\n",
       "2020-06-13      4962925.50\n",
       "2020-06-14      4127421.75\n",
       "2020-06-15      4726338.00\n",
       "2020-06-16      4966368.50\n",
       "2020-06-17      5128232.00\n",
       "2020-06-18      5144202.00\n",
       "2020-06-19      5233550.50\n",
       "2020-06-20      5013777.50"
      ]
     },
     "execution_count": 34,
     "metadata": {},
     "output_type": "execute_result"
    }
   ],
   "source": [
    "e_date = datetime.datetime.strptime('2020-06-20', '%Y-%m-%d')\n",
    "i_date = datetime.datetime.strptime('2020-06-07', '%Y-%m-%d')\n",
    "delta = e_date - i_date\n",
    "\n",
    "index_days = []\n",
    "for i in range(delta.days + 1):\n",
    "    day = i_date + timedelta(days=i)\n",
    "    index_days.append(day)\n",
    "\n",
    "prediccion = pd.DataFrame(testPredict, index= index_days)\n",
    "prediccion.columns = ['valor predicho']\n",
    "\n",
    "prediccion"
   ]
  },
  {
   "cell_type": "code",
   "execution_count": 35,
   "metadata": {},
   "outputs": [
    {
     "data": {
      "text/html": [
       "<div>\n",
       "<style scoped>\n",
       "    .dataframe tbody tr th:only-of-type {\n",
       "        vertical-align: middle;\n",
       "    }\n",
       "\n",
       "    .dataframe tbody tr th {\n",
       "        vertical-align: top;\n",
       "    }\n",
       "\n",
       "    .dataframe thead th {\n",
       "        text-align: right;\n",
       "    }\n",
       "</style>\n",
       "<table border=\"1\" class=\"dataframe\">\n",
       "  <thead>\n",
       "    <tr style=\"text-align: right;\">\n",
       "      <th></th>\n",
       "      <th>real</th>\n",
       "      <th>prediccion</th>\n",
       "    </tr>\n",
       "  </thead>\n",
       "  <tbody>\n",
       "    <tr>\n",
       "      <th>2020-06-07</th>\n",
       "      <td>3396402</td>\n",
       "      <td>4072609.00</td>\n",
       "    </tr>\n",
       "    <tr>\n",
       "      <th>2020-06-08</th>\n",
       "      <td>4461143</td>\n",
       "      <td>4768920.00</td>\n",
       "    </tr>\n",
       "    <tr>\n",
       "      <th>2020-06-09</th>\n",
       "      <td>4478072</td>\n",
       "      <td>4951486.50</td>\n",
       "    </tr>\n",
       "    <tr>\n",
       "      <th>2020-06-10</th>\n",
       "      <td>5303428</td>\n",
       "      <td>4915449.00</td>\n",
       "    </tr>\n",
       "    <tr>\n",
       "      <th>2020-06-11</th>\n",
       "      <td>5200931</td>\n",
       "      <td>4969990.50</td>\n",
       "    </tr>\n",
       "    <tr>\n",
       "      <th>2020-06-12</th>\n",
       "      <td>5215302</td>\n",
       "      <td>5040818.50</td>\n",
       "    </tr>\n",
       "    <tr>\n",
       "      <th>2020-06-13</th>\n",
       "      <td>4445190</td>\n",
       "      <td>4962925.50</td>\n",
       "    </tr>\n",
       "    <tr>\n",
       "      <th>2020-06-14</th>\n",
       "      <td>3753016</td>\n",
       "      <td>4127421.75</td>\n",
       "    </tr>\n",
       "    <tr>\n",
       "      <th>2020-06-15</th>\n",
       "      <td>4973188</td>\n",
       "      <td>4726338.00</td>\n",
       "    </tr>\n",
       "    <tr>\n",
       "      <th>2020-06-16</th>\n",
       "      <td>5308885</td>\n",
       "      <td>4966368.50</td>\n",
       "    </tr>\n",
       "    <tr>\n",
       "      <th>2020-06-17</th>\n",
       "      <td>5366644</td>\n",
       "      <td>5128232.00</td>\n",
       "    </tr>\n",
       "    <tr>\n",
       "      <th>2020-06-18</th>\n",
       "      <td>5439425</td>\n",
       "      <td>5144202.00</td>\n",
       "    </tr>\n",
       "    <tr>\n",
       "      <th>2020-06-19</th>\n",
       "      <td>5519725</td>\n",
       "      <td>5233550.50</td>\n",
       "    </tr>\n",
       "    <tr>\n",
       "      <th>2020-06-20</th>\n",
       "      <td>4626546</td>\n",
       "      <td>5013777.50</td>\n",
       "    </tr>\n",
       "  </tbody>\n",
       "</table>\n",
       "</div>"
      ],
      "text/plain": [
       "               real  prediccion\n",
       "2020-06-07  3396402  4072609.00\n",
       "2020-06-08  4461143  4768920.00\n",
       "2020-06-09  4478072  4951486.50\n",
       "2020-06-10  5303428  4915449.00\n",
       "2020-06-11  5200931  4969990.50\n",
       "2020-06-12  5215302  5040818.50\n",
       "2020-06-13  4445190  4962925.50\n",
       "2020-06-14  3753016  4127421.75\n",
       "2020-06-15  4973188  4726338.00\n",
       "2020-06-16  5308885  4966368.50\n",
       "2020-06-17  5366644  5128232.00\n",
       "2020-06-18  5439425  5144202.00\n",
       "2020-06-19  5519725  5233550.50\n",
       "2020-06-20  4626546  5013777.50"
      ]
     },
     "execution_count": 35,
     "metadata": {},
     "output_type": "execute_result"
    }
   ],
   "source": [
    "datosReales = df['2020-6-07':'2020-6-20']\n",
    "\n",
    "compara = pd.concat([datosReales, prediccion], axis=1)\n",
    "compara.columns = ['real', 'prediccion']\n",
    "\n",
    "compara"
   ]
  },
  {
   "cell_type": "code",
   "execution_count": 36,
   "metadata": {},
   "outputs": [],
   "source": [
    "compara.to_excel('Resultados INE.xlsx', columns=['real', 'prediccion'])"
   ]
  },
  {
   "cell_type": "markdown",
   "metadata": {},
   "source": [
    "# Prediccion a futuro"
   ]
  },
  {
   "cell_type": "code",
   "execution_count": 37,
   "metadata": {},
   "outputs": [],
   "source": [
    "# usaremos 7 dias que poseemos para predecir los 7 dias siguientes tras esto compararemos los resultados con los que\n",
    "# poseemos para ver el grado de error\n",
    "Dias = df['2020-5-01':'2020-5-7']"
   ]
  },
  {
   "cell_type": "markdown",
   "metadata": {},
   "source": [
    "# Preparamos los datos para el test"
   ]
  },
  {
   "cell_type": "code",
   "execution_count": 38,
   "metadata": {},
   "outputs": [],
   "source": [
    "# cargamos el dataframe en la variable dataset\n",
    "dataset = Dias.values\n",
    "\n",
    "# convertimos los enteros en floats\n",
    "dataset = dataset.astype('float32')\n",
    "\n",
    "# normalizamos los datos\n",
    "scaler = MinMaxScaler(feature_range=(0, 1))\n",
    "dataset = scaler.fit_transform(dataset)"
   ]
  },
  {
   "cell_type": "code",
   "execution_count": 39,
   "metadata": {
    "scrolled": true
   },
   "outputs": [],
   "source": [
    "#remodelamos los datos\n",
    "testX = np.reshape(dataset, (1, 7, 1))"
   ]
  },
  {
   "cell_type": "code",
   "execution_count": 40,
   "metadata": {},
   "outputs": [],
   "source": [
    "#definimos la funcion para realizar el desplazamiento que se hara en el array cada prediccion pues para hacer\n",
    "#la siguiente prediccion eliminamos el dia mas antiguo, desplazamos un lugar el resto de dias y añadimos el ultimo dia que\n",
    "#se ha predecido, esto es por que para predecir un dia se usan los 7 dias previos\n",
    "\n",
    "def agregarNuevoValor(x_test,nuevoValor):\n",
    "    for i in range(x_test.shape[0]-1):\n",
    "        x_test[i] = x_test[i+1]\n",
    "    x_test[x_test.shape[0]-1]=nuevoValor\n",
    "    return x_test"
   ]
  },
  {
   "cell_type": "markdown",
   "metadata": {},
   "source": [
    "# Predicciones para la proxima semana"
   ]
  },
  {
   "cell_type": "code",
   "execution_count": 41,
   "metadata": {},
   "outputs": [
    {
     "name": "stdout",
     "output_type": "stream",
     "text": [
      "[[[0.10419428]\n",
      "  [0.08904922]\n",
      "  [0.83475256]\n",
      "  [1.        ]\n",
      "  [0.9270716 ]\n",
      "  [0.9134474 ]\n",
      "  [1.2147601 ]]]\n",
      "[[[0.08904922]\n",
      "  [0.83475256]\n",
      "  [1.        ]\n",
      "  [0.9270716 ]\n",
      "  [0.9134474 ]\n",
      "  [1.2147601 ]\n",
      "  [1.0420638 ]]]\n",
      "[[[0.83475256]\n",
      "  [1.        ]\n",
      "  [0.9270716 ]\n",
      "  [0.9134474 ]\n",
      "  [1.2147601 ]\n",
      "  [1.0420638 ]\n",
      "  [0.5600622 ]]]\n",
      "[[[1.        ]\n",
      "  [0.9270716 ]\n",
      "  [0.9134474 ]\n",
      "  [1.2147601 ]\n",
      "  [1.0420638 ]\n",
      "  [0.5600622 ]\n",
      "  [0.88719743]]]\n",
      "[[[0.9270716 ]\n",
      "  [0.9134474 ]\n",
      "  [1.2147601 ]\n",
      "  [1.0420638 ]\n",
      "  [0.5600622 ]\n",
      "  [0.88719743]\n",
      "  [0.947364  ]]]\n",
      "[[[0.9134474 ]\n",
      "  [1.2147601 ]\n",
      "  [1.0420638 ]\n",
      "  [0.5600622 ]\n",
      "  [0.88719743]\n",
      "  [0.947364  ]\n",
      "  [0.941955  ]]]\n",
      "[[[1.2147601 ]\n",
      "  [1.0420638 ]\n",
      "  [0.5600622 ]\n",
      "  [0.88719743]\n",
      "  [0.947364  ]\n",
      "  [0.941955  ]\n",
      "  [0.94151235]]]\n"
     ]
    }
   ],
   "source": [
    "results = []\n",
    "for i in range(7):\n",
    "    parcial=model.predict(testX)\n",
    "    results.append(parcial)\n",
    "    testX = agregarNuevoValor(testX[0], parcial)\n",
    "    testX = np.reshape(dataset, (1, 7, 1))\n",
    "    print(testX)"
   ]
  },
  {
   "cell_type": "code",
   "execution_count": 42,
   "metadata": {},
   "outputs": [
    {
     "name": "stdout",
     "output_type": "stream",
     "text": [
      "[[1.2147601 ]\n",
      " [1.0420638 ]\n",
      " [0.5600622 ]\n",
      " [0.88719743]\n",
      " [0.947364  ]\n",
      " [0.941955  ]\n",
      " [0.94151235]]\n"
     ]
    }
   ],
   "source": [
    "results = np.reshape(results, (7, 1))\n",
    "print(results)"
   ]
  },
  {
   "cell_type": "markdown",
   "metadata": {},
   "source": [
    "# Re-Convertimos los resultados"
   ]
  },
  {
   "cell_type": "code",
   "execution_count": 43,
   "metadata": {},
   "outputs": [
    {
     "data": {
      "text/plain": [
       "array([[4005448],\n",
       "       [3722259],\n",
       "       [2931866],\n",
       "       [3468307],\n",
       "       [3566969],\n",
       "       [3558099],\n",
       "       [3557373]])"
      ]
     },
     "execution_count": 43,
     "metadata": {},
     "output_type": "execute_result"
    }
   ],
   "source": [
    "inverted = scaler.inverse_transform(results)\n",
    "\n",
    "#en nuestro problema no tienen sentido los decimales pues no se pueden hacer 0.5 viajes o 0.25 viajes\n",
    "inverted = inverted.round()\n",
    "inverted = inverted.astype(int)\n",
    "\n",
    "inverted"
   ]
  },
  {
   "cell_type": "markdown",
   "metadata": {},
   "source": [
    "# Visualizamos el pronostico"
   ]
  },
  {
   "cell_type": "code",
   "execution_count": 44,
   "metadata": {},
   "outputs": [
    {
     "data": {
      "text/plain": [
       "<AxesSubplot:>"
      ]
     },
     "execution_count": 44,
     "metadata": {},
     "output_type": "execute_result"
    },
    {
     "data": {
      "image/png": "[encoded data removed]",
      "text/plain": [
       "<Figure size 432x288 with 1 Axes>"
      ]
     },
     "metadata": {
      "needs_background": "light"
     },
     "output_type": "display_data"
    }
   ],
   "source": [
    "e_date = datetime.datetime.strptime('2020-05-14', '%Y-%m-%d')\n",
    "i_date = datetime.datetime.strptime('2020-05-08', '%Y-%m-%d')\n",
    "delta = e_date - i_date\n",
    "\n",
    "index_days = []\n",
    "for i in range(delta.days + 1):\n",
    "    day = i_date + timedelta(days=i)\n",
    "    index_days.append(day)\n",
    "\n",
    "prediccion = pd.DataFrame(inverted, index= index_days)\n",
    "prediccion.columns = ['pronostico']\n",
    "prediccion.plot()"
   ]
  },
  {
   "cell_type": "code",
   "execution_count": 45,
   "metadata": {},
   "outputs": [
    {
     "data": {
      "text/html": [
       "<div>\n",
       "<style scoped>\n",
       "    .dataframe tbody tr th:only-of-type {\n",
       "        vertical-align: middle;\n",
       "    }\n",
       "\n",
       "    .dataframe tbody tr th {\n",
       "        vertical-align: top;\n",
       "    }\n",
       "\n",
       "    .dataframe thead th {\n",
       "        text-align: right;\n",
       "    }\n",
       "</style>\n",
       "<table border=\"1\" class=\"dataframe\">\n",
       "  <thead>\n",
       "    <tr style=\"text-align: right;\">\n",
       "      <th></th>\n",
       "      <th>real</th>\n",
       "      <th>prediccion</th>\n",
       "    </tr>\n",
       "  </thead>\n",
       "  <tbody>\n",
       "    <tr>\n",
       "      <th>2020-05-08</th>\n",
       "      <td>3597428</td>\n",
       "      <td>4005448</td>\n",
       "    </tr>\n",
       "    <tr>\n",
       "      <th>2020-05-09</th>\n",
       "      <td>1967087</td>\n",
       "      <td>3722259</td>\n",
       "    </tr>\n",
       "    <tr>\n",
       "      <th>2020-05-10</th>\n",
       "      <td>1928061</td>\n",
       "      <td>2931866</td>\n",
       "    </tr>\n",
       "    <tr>\n",
       "      <th>2020-05-11</th>\n",
       "      <td>3545526</td>\n",
       "      <td>3468307</td>\n",
       "    </tr>\n",
       "    <tr>\n",
       "      <th>2020-05-12</th>\n",
       "      <td>3985384</td>\n",
       "      <td>3566969</td>\n",
       "    </tr>\n",
       "    <tr>\n",
       "      <th>2020-05-13</th>\n",
       "      <td>3922169</td>\n",
       "      <td>3558099</td>\n",
       "    </tr>\n",
       "    <tr>\n",
       "      <th>2020-05-14</th>\n",
       "      <td>3845239</td>\n",
       "      <td>3557373</td>\n",
       "    </tr>\n",
       "  </tbody>\n",
       "</table>\n",
       "</div>"
      ],
      "text/plain": [
       "               real  prediccion\n",
       "2020-05-08  3597428     4005448\n",
       "2020-05-09  1967087     3722259\n",
       "2020-05-10  1928061     2931866\n",
       "2020-05-11  3545526     3468307\n",
       "2020-05-12  3985384     3566969\n",
       "2020-05-13  3922169     3558099\n",
       "2020-05-14  3845239     3557373"
      ]
     },
     "execution_count": 45,
     "metadata": {},
     "output_type": "execute_result"
    }
   ],
   "source": [
    "datosReales = df['2020-5-08':'2020-5-14']\n",
    "\n",
    "compara = pd.concat([datosReales, prediccion], axis=1)\n",
    "compara.columns = ['real', 'prediccion']\n",
    "\n",
    "compara"
   ]
  },
  {
   "cell_type": "code",
   "execution_count": 46,
   "metadata": {},
   "outputs": [
    {
     "data": {
      "text/plain": [
       "<matplotlib.legend.Legend at 0x227831b84c0>"
      ]
     },
     "execution_count": 46,
     "metadata": {},
     "output_type": "execute_result"
    },
    {
     "data": {
      "image/png": "[encoded data removed]",
      "text/plain": [
       "<Figure size 432x288 with 1 Axes>"
      ]
     },
     "metadata": {
      "needs_background": "light"
     },
     "output_type": "display_data"
    }
   ],
   "source": [
    "compara['real'].plot()\n",
    "compara['prediccion'].plot()\n",
    "plt.xlabel(\"Tiempo (dias)\", fontsize = 10)\n",
    "plt.ylabel(\"viajes (en miles)\", fontsize = 10)\n",
    "plt.legend( ('Datos reales', 'Prediccion'), loc = 'lower right')"
   ]
  },
  {
   "cell_type": "code",
   "execution_count": 47,
   "metadata": {},
   "outputs": [
    {
     "name": "stdout",
     "output_type": "stream",
     "text": [
      "Resultado del test: 616366.71 MAE\n",
      "Resultado del test: 664454461864.43 MSE\n",
      "Resultado del test: 815140.76 RMSE\n",
      "Resultado del test: 23.00 CVRMSE\n",
      "Resultado del test: 17.69 MAPE\n"
     ]
    }
   ],
   "source": [
    "# calculamos las metricas de error\n",
    "testScore_MAE, testScore_MSE, testScore_RMSE, testScore_CVRMSE, testScore_MAPE  =  compute_metrics_fn(prediccion, datosReales)\n",
    "print('Resultado del test: %.2f MAE' % (testScore_MAE))\n",
    "print('Resultado del test: %.2f MSE' % (testScore_MSE))\n",
    "print('Resultado del test: %.2f RMSE' % (testScore_RMSE))\n",
    "print('Resultado del test: %.2f CVRMSE' % (testScore_CVRMSE))\n",
    "print('Resultado del test: %.2f MAPE' % (testScore_MAPE))"
   ]
  },
  {
   "cell_type": "code",
   "execution_count": null,
   "metadata": {},
   "outputs": [],
   "source": []
  }
 ],
 "metadata": {
  "kernelspec": {
   "display_name": "Python 3 (ipykernel)",
   "language": "python",
   "name": "python3"
  },
  "language_info": {
   "codemirror_mode": {
    "name": "ipython",
    "version": 3
   },
   "file_extension": ".py",
   "mimetype": "text/x-python",
   "name": "python",
   "nbconvert_exporter": "python",
   "pygments_lexer": "ipython3",
   "version": "3.8.11"
  }
 },
 "nbformat": 4,
 "nbformat_minor": 4
}
